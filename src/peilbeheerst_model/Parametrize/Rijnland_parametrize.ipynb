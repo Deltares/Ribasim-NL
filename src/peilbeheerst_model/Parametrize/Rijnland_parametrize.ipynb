{
 "cells": [
  {
   "cell_type": "code",
   "execution_count": 1,
   "metadata": {},
   "outputs": [],
   "source": [
    "import datetime\n",
    "import os\n",
    "import pathlib\n",
    "import warnings\n",
    "\n",
    "import load_ribasim  # noqa: F401\n",
    "import pandas as pd\n",
    "import ribasim\n",
    "import ribasim.nodes\n",
    "\n",
    "import peilbeheerst_model.ribasim_parametrization as ribasim_param\n",
    "from peilbeheerst_model.add_storage_basins import AddStorageBasins\n",
    "from peilbeheerst_model.controle_output import *\n",
    "from peilbeheerst_model.ribasim_feedback_processor import RibasimFeedbackProcessor\n",
    "\n",
    "%reload_ext autoreload\n",
    "%autoreload 2\n",
    "warnings.filterwarnings(\"ignore\")"
   ]
  },
  {
   "cell_type": "markdown",
   "metadata": {},
   "source": [
    "## Define variables and model"
   ]
  },
  {
   "cell_type": "markdown",
   "metadata": {},
   "source": [
    "#### Set Config"
   ]
  },
  {
   "cell_type": "code",
   "execution_count": 2,
   "metadata": {},
   "outputs": [],
   "source": [
    "waterschap = \"Rijnland\"\n",
    "work_dir = pathlib.Path(f\"../../../../../Ribasim_updated_models/{waterschap}/modellen/{waterschap}_parametrized\")\n",
    "ribasim_gpkg = work_dir.joinpath(\"database.gpkg\")\n",
    "path_ribasim_toml = work_dir.joinpath(\"ribasim.toml\")\n",
    "output_dir = work_dir.joinpath(\"results\")\n",
    "\n",
    "# Basin area percentage\n",
    "regular_percentage = 10\n",
    "boezem_percentage = 90\n",
    "unknown_streefpeil = (\n",
    "    0.00012345  # we need a streefpeil to create the profiles, Q(h)-relations, and af- and aanslag peil for pumps\n",
    ")\n",
    "\n",
    "# Forcing settings\n",
    "start_time = \"2024-01-01\"\n",
    "timestep_size = \"d\"\n",
    "timesteps = 2\n",
    "delta_crest_level = 0.1  # delta waterlevel of boezem compared to streefpeil till no water can flow through an outlet\n",
    "\n",
    "default_level = -2  # default LevelBoundary level"
   ]
  },
  {
   "cell_type": "markdown",
   "metadata": {},
   "source": [
    "## Process the feedback form"
   ]
  },
  {
   "cell_type": "code",
   "execution_count": 3,
   "metadata": {},
   "outputs": [
    {
     "name": "stdout",
     "output_type": "stream",
     "text": [
      "Swapped edge direction between Node A: 297 and Node B: 642\n",
      "Swapped edge direction between Node A: 642 and Node B: 15\n",
      "Swapped edge direction between Node A: 307 and Node B: 477\n",
      "Swapped edge direction between Node A: 477 and Node B: 2\n",
      "Swapped edge direction between Node A: 2 and Node B: 681\n",
      "Swapped edge direction between Node A: 681 and Node B: 311\n",
      "Swapped edge direction between Node A: 232 and Node B: 600\n",
      "Swapped edge direction between Node A: 600 and Node B: 65\n",
      "Swapped edge direction between Node A: 148 and Node B: 1248\n",
      "Swapped edge direction between Node A: 1248 and Node B: 22\n",
      "Swapped edge direction between Node A: 11 and Node B: 712\n",
      "Swapped edge direction between Node A: 712 and Node B: 15\n",
      "Swapped edge direction between Node A: 11 and Node B: 661\n",
      "Swapped edge direction between Node A: 661 and Node B: 15\n",
      "Swapped edge direction between Node A: 27 and Node B: 897\n",
      "Swapped edge direction between Node A: 897 and Node B: 15\n",
      "Swapped edge direction between Node A: 33 and Node B: 633\n",
      "Swapped edge direction between Node A: 633 and Node B: 15\n",
      "Swapped edge direction between Node A: 151 and Node B: 878\n",
      "Swapped edge direction between Node A: 878 and Node B: 235\n",
      "Processed all actions\n",
      "The target levels (streefpeilen) have been updated.\n",
      "The function of the pumps have been updated.\n"
     ]
    }
   ],
   "source": [
    "name = \"Ron Bruijns (HKV)\"\n",
    "versie = \"2024_12_3\"\n",
    "\n",
    "feedback_excel = pathlib.Path(f\"../../../../../Ribasim_feedback/V1_formulieren/feedback_formulier_{waterschap}.xlsx\")\n",
    "feedback_excel_processed = (\n",
    "    f\"../../../../..//Ribasim_feedback/V1_formulieren_verwerkt/feedback_formulier_{waterschap}_JA_processed.xlsx\"\n",
    ")\n",
    "\n",
    "ribasim_toml = f\"../../../../../Ribasim_base_models/{waterschap}_boezemmodel_{versie}/ribasim.toml\"\n",
    "output_folder = work_dir  # f\"../../../../../Ribasim_updated_models/{waterschap}\"\n",
    "\n",
    "processor = RibasimFeedbackProcessor(\n",
    "    name, waterschap, versie, feedback_excel, ribasim_toml, output_folder, feedback_excel_processed\n",
    ")\n",
    "processor.run()"
   ]
  },
  {
   "cell_type": "markdown",
   "metadata": {},
   "source": [
    "#### Load model"
   ]
  },
  {
   "cell_type": "code",
   "execution_count": 4,
   "metadata": {},
   "outputs": [],
   "source": [
    "# Load Ribasim model\n",
    "with warnings.catch_warnings():\n",
    "    warnings.simplefilter(action=\"ignore\", category=FutureWarning)\n",
    "    ribasim_model = ribasim.Model(filepath=path_ribasim_toml)"
   ]
  },
  {
   "cell_type": "code",
   "execution_count": 5,
   "metadata": {},
   "outputs": [
    {
     "data": {
      "text/html": [
       "<div>\n",
       "<style scoped>\n",
       "    .dataframe tbody tr th:only-of-type {\n",
       "        vertical-align: middle;\n",
       "    }\n",
       "\n",
       "    .dataframe tbody tr th {\n",
       "        vertical-align: top;\n",
       "    }\n",
       "\n",
       "    .dataframe thead th {\n",
       "        text-align: right;\n",
       "    }\n",
       "</style>\n",
       "<table border=\"1\" class=\"dataframe\">\n",
       "  <thead>\n",
       "    <tr style=\"text-align: right;\">\n",
       "      <th></th>\n",
       "      <th>node_id</th>\n",
       "      <th>active</th>\n",
       "      <th>flow_rate</th>\n",
       "      <th>min_flow_rate</th>\n",
       "      <th>max_flow_rate</th>\n",
       "      <th>min_upstream_level</th>\n",
       "      <th>max_downstream_level</th>\n",
       "      <th>control_state</th>\n",
       "      <th>meta_func_afvoer</th>\n",
       "      <th>meta_func_aanvoer</th>\n",
       "      <th>meta_func_circulatie</th>\n",
       "      <th>meta_type_verbinding</th>\n",
       "      <th>meta_node_id</th>\n",
       "    </tr>\n",
       "    <tr>\n",
       "      <th>fid</th>\n",
       "      <th></th>\n",
       "      <th></th>\n",
       "      <th></th>\n",
       "      <th></th>\n",
       "      <th></th>\n",
       "      <th></th>\n",
       "      <th></th>\n",
       "      <th></th>\n",
       "      <th></th>\n",
       "      <th></th>\n",
       "      <th></th>\n",
       "      <th></th>\n",
       "      <th></th>\n",
       "    </tr>\n",
       "  </thead>\n",
       "  <tbody>\n",
       "    <tr>\n",
       "      <th>223</th>\n",
       "      <td>1117</td>\n",
       "      <td>&lt;NA&gt;</td>\n",
       "      <td>0.0</td>\n",
       "      <td>&lt;NA&gt;</td>\n",
       "      <td>&lt;NA&gt;</td>\n",
       "      <td>&lt;NA&gt;</td>\n",
       "      <td>&lt;NA&gt;</td>\n",
       "      <td>&lt;NA&gt;</td>\n",
       "      <td>1</td>\n",
       "      <td>0</td>\n",
       "      <td>0</td>\n",
       "      <td>Inlaat</td>\n",
       "      <td>&lt;NA&gt;</td>\n",
       "    </tr>\n",
       "  </tbody>\n",
       "</table>\n",
       "</div>"
      ],
      "text/plain": [
       "     node_id active  flow_rate  min_flow_rate  max_flow_rate  \\\n",
       "fid                                                            \n",
       "223     1117   <NA>        0.0           <NA>           <NA>   \n",
       "\n",
       "     min_upstream_level  max_downstream_level control_state  meta_func_afvoer  \\\n",
       "fid                                                                             \n",
       "223                <NA>                  <NA>          <NA>                 1   \n",
       "\n",
       "     meta_func_aanvoer  meta_func_circulatie meta_type_verbinding  \\\n",
       "fid                                                                 \n",
       "223                  0                     0               Inlaat   \n",
       "\n",
       "     meta_node_id  \n",
       "fid                \n",
       "223          <NA>  "
      ]
     },
     "execution_count": 5,
     "metadata": {},
     "output_type": "execute_result"
    }
   ],
   "source": [
    "ribasim_model.pump.static.df.loc[ribasim_model.pump.static.df.node_id == 1117]"
   ]
  },
  {
   "cell_type": "markdown",
   "metadata": {},
   "source": [
    "# Parameterization"
   ]
  },
  {
   "cell_type": "markdown",
   "metadata": {},
   "source": [
    "## Nodes"
   ]
  },
  {
   "cell_type": "markdown",
   "metadata": {},
   "source": [
    "### Basin (characteristics)"
   ]
  },
  {
   "cell_type": "code",
   "execution_count": 6,
   "metadata": {
    "scrolled": true
   },
   "outputs": [
    {
     "name": "stdout",
     "output_type": "stream",
     "text": [
      "All basins are larger than 100 m²\n"
     ]
    }
   ],
   "source": [
    "ribasim_param.validate_basin_area(ribasim_model)"
   ]
  },
  {
   "cell_type": "code",
   "execution_count": 7,
   "metadata": {},
   "outputs": [],
   "source": [
    "# remove the basins of above in the feedback form"
   ]
  },
  {
   "cell_type": "markdown",
   "metadata": {},
   "source": [
    "## Model specific tweaks"
   ]
  },
  {
   "cell_type": "code",
   "execution_count": 8,
   "metadata": {},
   "outputs": [],
   "source": [
    "new_node_id = max(ribasim_model.edge.df.from_node_id.max(), ribasim_model.edge.df.to_node_id.max()) + 1"
   ]
  },
  {
   "cell_type": "code",
   "execution_count": 9,
   "metadata": {},
   "outputs": [],
   "source": [
    "# change unknown streefpeilen to a default streefpeil\n",
    "ribasim_model.basin.area.df.loc[\n",
    "    ribasim_model.basin.area.df[\"meta_streefpeil\"] == \"Onbekend streefpeil\", \"meta_streefpeil\"\n",
    "] = str(unknown_streefpeil)\n",
    "ribasim_model.basin.area.df.loc[ribasim_model.basin.area.df[\"meta_streefpeil\"] == -9.999, \"meta_streefpeil\"] = str(\n",
    "    unknown_streefpeil\n",
    ")"
   ]
  },
  {
   "cell_type": "code",
   "execution_count": 10,
   "metadata": {},
   "outputs": [],
   "source": [
    "assert not pd.isnull(ribasim_model.basin.area.df.meta_streefpeil).any()"
   ]
  },
  {
   "cell_type": "markdown",
   "metadata": {},
   "source": [
    "## Implement standard profile and a storage basin"
   ]
  },
  {
   "cell_type": "code",
   "execution_count": 11,
   "metadata": {},
   "outputs": [],
   "source": [
    "# Insert standard profiles to each basin. These are [depth_profiles] meter deep, defined from the streefpeil\n",
    "ribasim_param.insert_standard_profile(\n",
    "    ribasim_model,\n",
    "    unknown_streefpeil=unknown_streefpeil,\n",
    "    regular_percentage=regular_percentage,\n",
    "    boezem_percentage=boezem_percentage,\n",
    "    depth_profile=2,\n",
    ")"
   ]
  },
  {
   "cell_type": "code",
   "execution_count": 12,
   "metadata": {},
   "outputs": [],
   "source": [
    "add_storage_basins = AddStorageBasins(\n",
    "    ribasim_model=ribasim_model, exclude_hoofdwater=True, additional_basins_to_exclude=[]\n",
    ")\n",
    "\n",
    "add_storage_basins.create_bergende_basins()\n"
   ]
  },
  {
   "cell_type": "markdown",
   "metadata": {},
   "source": [
    "### Basin (forcing)"
   ]
  },
  {
   "cell_type": "code",
   "execution_count": 13,
   "metadata": {},
   "outputs": [],
   "source": [
    "# Set static forcing\n",
    "forcing_dict = {\n",
    "    \"precipitation\": ribasim_param.convert_mm_day_to_m_sec(10*2),\n",
    "    \"potential_evaporation\": ribasim_param.convert_mm_day_to_m_sec(0),\n",
    "    \"drainage\": ribasim_param.convert_mm_day_to_m_sec(0),\n",
    "    \"infiltration\": ribasim_param.convert_mm_day_to_m_sec(0),\n",
    "    # 'urban_runoff':          ribasim_param.convert_mm_day_to_m_sec(0),\n",
    "}\n",
    "\n",
    "ribasim_param.set_static_forcing(timesteps, timestep_size, start_time, forcing_dict, ribasim_model)"
   ]
  },
  {
   "cell_type": "markdown",
   "metadata": {},
   "source": [
    "### Pumps"
   ]
  },
  {
   "cell_type": "code",
   "execution_count": 14,
   "metadata": {},
   "outputs": [],
   "source": [
    "# Set pump capacity for each pump\n",
    "ribasim_model.pump.static.df[\"flow_rate\"] = 0.16667  # 10 kuub per minuut"
   ]
  },
  {
   "cell_type": "markdown",
   "metadata": {},
   "source": [
    "### Convert all boundary nodes to LevelBoundaries"
   ]
  },
  {
   "cell_type": "code",
   "execution_count": 15,
   "metadata": {},
   "outputs": [],
   "source": [
    "ribasim_param.Terminals_to_LevelBoundaries(ribasim_model=ribasim_model, default_level=default_level)  # clean\n",
    "ribasim_param.FlowBoundaries_to_LevelBoundaries(ribasim_model=ribasim_model, default_level=default_level)"
   ]
  },
  {
   "cell_type": "markdown",
   "metadata": {},
   "source": [
    "### Add Outlet"
   ]
  },
  {
   "cell_type": "code",
   "execution_count": 16,
   "metadata": {},
   "outputs": [],
   "source": [
    "ribasim_param.add_outlets(ribasim_model, delta_crest_level=0.10)"
   ]
  },
  {
   "cell_type": "markdown",
   "metadata": {},
   "source": [
    "## Add control, based on the meta_categorie"
   ]
  },
  {
   "cell_type": "code",
   "execution_count": null,
   "metadata": {},
   "outputs": [],
   "source": []
  },
  {
   "cell_type": "code",
   "execution_count": 17,
   "metadata": {},
   "outputs": [],
   "source": [
    "ribasim_param.identify_node_meta_categorie(ribasim_model)"
   ]
  },
  {
   "cell_type": "code",
   "execution_count": 18,
   "metadata": {},
   "outputs": [],
   "source": [
    "ribasim_param.find_upstream_downstream_target_levels(ribasim_model, node=\"outlet\")\n",
    "ribasim_param.find_upstream_downstream_target_levels(ribasim_model, node=\"pump\")\n"
   ]
  },
  {
   "cell_type": "code",
   "execution_count": 19,
   "metadata": {},
   "outputs": [],
   "source": [
    "# ribasim_param.add_discrete_control(ribasim_model, waterschap, default_level)"
   ]
  },
  {
   "cell_type": "code",
   "execution_count": 20,
   "metadata": {},
   "outputs": [
    {
     "name": "stdout",
     "output_type": "stream",
     "text": [
      "Warning! Some pumps do not have a flow rate yet. Dummy value of 0.1234 m3/s has been taken.\n"
     ]
    }
   ],
   "source": [
    "ribasim_param.determine_min_upstream_max_downstream_levels(ribasim_model, waterschap)"
   ]
  },
  {
   "cell_type": "code",
   "execution_count": 21,
   "metadata": {},
   "outputs": [],
   "source": [
    "# #overwrite some control\n",
    "# ribasim_model.outlet.static.df.max_downstream_level = np.nan\n",
    "# ribasim_model.pump.static.df.loc[ribasim_model.pump.static.df.meta_func_afvoer, 'max_downstream_level'] = np.nan"
   ]
  },
  {
   "cell_type": "markdown",
   "metadata": {},
   "source": [
    "### Manning Resistance"
   ]
  },
  {
   "cell_type": "code",
   "execution_count": 22,
   "metadata": {},
   "outputs": [],
   "source": [
    "# there is a MR without geometry and without edges for some reason\n",
    "ribasim_model.manning_resistance.node.df = ribasim_model.manning_resistance.node.df.dropna(subset=\"geometry\")"
   ]
  },
  {
   "cell_type": "code",
   "execution_count": 23,
   "metadata": {},
   "outputs": [],
   "source": [
    "#lower the difference in waterlevel for each manning node\n",
    "ribasim_model.manning_resistance.static.df.length = 10\n",
    "ribasim_model.manning_resistance.static.df.manning_n = 0.01"
   ]
  },
  {
   "cell_type": "markdown",
   "metadata": {},
   "source": [
    "## Last formating of the tables"
   ]
  },
  {
   "cell_type": "code",
   "execution_count": 24,
   "metadata": {},
   "outputs": [],
   "source": [
    "# only retain node_id's which are present in the .node table\n",
    "ribasim_param.clean_tables(ribasim_model, waterschap)"
   ]
  },
  {
   "cell_type": "code",
   "execution_count": 25,
   "metadata": {},
   "outputs": [],
   "source": [
    "# ribasim_model.edge.df[\"fid\"] = ribasim_model.edge.df.index.copy()"
   ]
  },
  {
   "cell_type": "markdown",
   "metadata": {},
   "source": [
    "# Set numerical settings"
   ]
  },
  {
   "cell_type": "code",
   "execution_count": 26,
   "metadata": {},
   "outputs": [],
   "source": [
    "ribasim_model.use_validation = True"
   ]
  },
  {
   "cell_type": "code",
   "execution_count": 27,
   "metadata": {},
   "outputs": [],
   "source": [
    "# Write model output\n",
    "# ribasim_param.index_reset(ribasim_model)\n",
    "ribasim_model.starttime = datetime.datetime(2024, 1, 1)\n",
    "ribasim_model.endtime = datetime.datetime(2025, 1, 1)\n",
    "ribasim_model.solver.saveat = 3600\n",
    "ribasim_param.write_ribasim_model_Zdrive(ribasim_model, path_ribasim_toml)"
   ]
  },
  {
   "cell_type": "markdown",
   "metadata": {},
   "source": [
    "## Run Model"
   ]
  },
  {
   "cell_type": "markdown",
   "metadata": {},
   "source": [
    "## Iterate over tabulated rating curves"
   ]
  },
  {
   "cell_type": "code",
   "execution_count": 28,
   "metadata": {},
   "outputs": [
    {
     "data": {
      "application/vnd.jupyter.widget-view+json": {
       "model_id": "66efff983d334e3186bfc0e61686510b",
       "version_major": 2,
       "version_minor": 0
      },
      "text/plain": [
       "Simulating init:   0%|          | 0/100 [00:00<?, ?it/s]"
      ]
     },
     "metadata": {},
     "output_type": "display_data"
    }
   ],
   "source": [
    "ribasim_param.tqdm_subprocess([\"ribasim\", path_ribasim_toml], \n",
    "                              print_other=False, \n",
    "                              suffix=\"init\")"
   ]
  },
  {
   "cell_type": "code",
   "execution_count": 29,
   "metadata": {},
   "outputs": [],
   "source": [
    "controle_output = Control(work_dir=work_dir)\n",
    "test = controle_output.run_all()"
   ]
  },
  {
   "cell_type": "code",
   "execution_count": 30,
   "metadata": {},
   "outputs": [],
   "source": [
    "# try:\n",
    "#     ribasim_param.iterate_TRC(\n",
    "#         ribasim_param=ribasim_param,\n",
    "#         allowed_tolerance=0.02,\n",
    "#         max_iter=1,\n",
    "#         expected_difference=0.1,\n",
    "#         max_adjustment=0.25,\n",
    "#         cmd=[\"ribasim\", path_ribasim_toml],\n",
    "#         output_dir=output_dir,\n",
    "#         path_ribasim_toml=path_ribasim_toml,\n",
    "#     )\n",
    "\n",
    "# except Exception:\n",
    "#     logging.error(\"The model was not able to run. Log file:\")\n",
    "#     log_file_path = os.path.join(output_dir, \"ribasim.log\")  # Update with the correct path to your log file\n",
    "#     try:\n",
    "#         with open(log_file_path) as log_file:\n",
    "#             log_content = log_file.read()\n",
    "#             print(log_content)\n",
    "#     except Exception as log_exception:\n",
    "#         logging.error(f\"Could not read the log file: {log_exception}\")"
   ]
  },
  {
   "cell_type": "markdown",
   "metadata": {},
   "source": [
    "# Write model"
   ]
  },
  {
   "cell_type": "code",
   "execution_count": 31,
   "metadata": {},
   "outputs": [
    {
     "name": "stdout",
     "output_type": "stream",
     "text": [
      "../../../../../Ribasim_networks/Waterschappen/Rijnland/modellen/Rijnland_parametrized/results\n",
      "The model of waterboard Rijnland has been uploaded to the goodcloud in the directory of boezemmodel!\n"
     ]
    }
   ],
   "source": [
    "# control_dict = Control(work_dir = work_dir).run_all()\n",
    "ribasim_param.write_ribasim_model_GoodCloud(\n",
    "    ribasim_model=ribasim_model,\n",
    "    path_ribasim_toml=path_ribasim_toml,\n",
    "    waterschap=waterschap,\n",
    "    modeltype=\"boezemmodel\",\n",
    "    include_results=True,\n",
    ")"
   ]
  },
  {
   "cell_type": "markdown",
   "metadata": {},
   "source": [
    "## Open Output"
   ]
  },
  {
   "cell_type": "markdown",
   "metadata": {},
   "source": [
    "### Add discrete control nodes"
   ]
  },
  {
   "cell_type": "code",
   "execution_count": 32,
   "metadata": {},
   "outputs": [],
   "source": [
    "# Add discrete control nodes and control edges\n",
    "# ribasim_param.add_discrete_control_nodes(ribasim_model)\n",
    "\n"
   ]
  }
 ],
 "metadata": {
  "kernelspec": {
   "display_name": "Python [conda env:ribasim]",
   "language": "python",
   "name": "conda-env-ribasim-py"
  },
  "language_info": {
   "codemirror_mode": {
    "name": "ipython",
    "version": 3
   },
   "file_extension": ".py",
   "mimetype": "text/x-python",
   "name": "python",
   "nbconvert_exporter": "python",
   "pygments_lexer": "ipython3",
   "version": "3.12.7"
  }
 },
 "nbformat": 4,
 "nbformat_minor": 4
}
