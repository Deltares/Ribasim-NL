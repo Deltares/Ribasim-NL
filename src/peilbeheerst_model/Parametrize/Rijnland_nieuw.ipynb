{
 "cells": [
  {
   "cell_type": "code",
   "execution_count": 1,
   "metadata": {},
   "outputs": [],
   "source": [
    "import os\n",
    "import subprocess\n",
    "import sys\n",
    "import ribasim\n",
    "import ribasim.nodes\n",
    "import toml\n",
    "import tomli\n",
    "import numpy as np\n",
    "import pandas as pd\n",
    "import pathlib\n",
    "import tqdm.auto as tqdm\n",
    "import warnings\n",
    "import datetime\n",
    "from pathlib import Path\n",
    "import logging\n",
    "\n",
    "from shapely.geometry import Point\n",
    "\n",
    "#load ribasim_nl\n",
    "module_path = Path.cwd() / '../../ribasim_nl/'\n",
    "sys.path.append(str(module_path))\n",
    "from ribasim_nl import CloudStorage\n",
    "\n",
    "current_dir = os.getcwd()\n",
    "parent_dir = os.path.dirname(current_dir)\n",
    "if parent_dir not in sys.path:\n",
    "    sys.path.append(parent_dir)\n",
    "\n",
    "%reload_ext autoreload\n",
    "%autoreload 2\n",
    "warnings.filterwarnings('ignore')\n",
    "    \n",
    "import peilbeheerst_model.ribasim_parametrization as ribasim_param\n",
    "from peilbeheerst_model.ribasim_feedback_processor import RibasimFeedbackProcessor\n",
    "\n",
    "from peilbeheerst_model.controle_output import *\n",
    "from ribasim import Solver\n",
    "\n",
    "from ribasim import Allocation, Model, Node\n",
    "from ribasim.nodes import (\n",
    "    basin,\n",
    "    discrete_control,\n",
    "    flow_boundary,\n",
    "    fractional_flow,\n",
    "    level_boundary,\n",
    "    level_demand,\n",
    "    linear_resistance,\n",
    "    manning_resistance,\n",
    "    outlet,\n",
    "    pid_control,\n",
    "    pump,\n",
    "    tabulated_rating_curve,\n",
    "    user_demand,\n",
    ")"
   ]
  },
  {
   "cell_type": "raw",
   "metadata": {},
   "source": [
    "\"\"\"\n",
    "Model Aannamens:\n",
    "- Max area van hydroobjecten is 10% van basin area, 90% bij boezem\n",
    "- Initial state op streefpeil\n",
    "- \n",
    "\"\"\""
   ]
  },
  {
   "cell_type": "markdown",
   "metadata": {},
   "source": [
    "## Define variables and model"
   ]
  },
  {
   "cell_type": "markdown",
   "metadata": {},
   "source": [
    "#### Set Config"
   ]
  },
  {
   "cell_type": "code",
   "execution_count": 2,
   "metadata": {},
   "outputs": [],
   "source": [
    "# Set paths\n",
    "waterschap = \"Rijnland\"\n",
    "versie = \"2024_6_2\"\n",
    "\n",
    "work_dir = pathlib.Path(r\"../../../../../Ribasim_updated_models\", waterschap)\n",
    "ribasim_gpkg = work_dir.joinpath(\"database.gpkg\")\n",
    "path_ribasim_toml = work_dir.joinpath(\"ribasim.toml\")\n",
    "output_dir = work_dir.joinpath(\"results\")\n",
    "\n",
    "# Basin area percentage\n",
    "regular_percentage = 10\n",
    "boezem_percentage = 90\n",
    "unknown_streefpeil = 0.00012345 #we need a streefpeil to create the profiles, Q(h)-relations, and af- and aanslag peil for pumps\n",
    "\n",
    "# Forcing settings\n",
    "start_time = \"2024-01-01\"\n",
    "timestep_size = 'd'\n",
    "timesteps = 2\n"
   ]
  },
  {
   "cell_type": "code",
   "execution_count": null,
   "metadata": {},
   "outputs": [],
   "source": []
  },
  {
   "cell_type": "markdown",
   "metadata": {},
   "source": [
    "## Process the feedback form"
   ]
  },
  {
   "cell_type": "code",
   "execution_count": 3,
   "metadata": {
    "scrolled": true
   },
   "outputs": [
    {
     "name": "stdout",
     "output_type": "stream",
     "text": [
      "Removed node (and edges) with Node Type: basin and Node ID: 296\n",
      "Removed node (and edges) with Node Type: basin and Node ID: 296\n",
      "Removed node (and edges) with Node Type: basin and Node ID: 296\n",
      "Removed node (and edges) with Node Type: basin and Node ID: 296\n",
      "Removed node (and edges) with Node Type: basin and Node ID: 296\n",
      "Removed node (and edges) with Node Type: basin and Node ID: 298\n",
      "Removed node (and edges) with Node Type: basin and Node ID: 298\n",
      "Removed node (and edges) with Node Type: basin and Node ID: 298\n",
      "Removed node (and edges) with Node Type: basin and Node ID: 298\n",
      "Removed node (and edges) with Node Type: basin and Node ID: 298\n",
      "Removed node (and edges) with Node Type: basin and Node ID: 299\n",
      "Removed node (and edges) with Node Type: basin and Node ID: 299\n",
      "Removed node (and edges) with Node Type: basin and Node ID: 299\n",
      "Removed node (and edges) with Node Type: basin and Node ID: 299\n",
      "Removed node (and edges) with Node Type: basin and Node ID: 299\n",
      "Removed node (and edges) with Node Type: basin and Node ID: 300\n",
      "Removed node (and edges) with Node Type: basin and Node ID: 300\n",
      "Removed node (and edges) with Node Type: basin and Node ID: 300\n",
      "Removed node (and edges) with Node Type: basin and Node ID: 300\n",
      "Removed node (and edges) with Node Type: basin and Node ID: 300\n",
      "Removed node (and edges) with Node Type: basin and Node ID: 301\n",
      "Removed node (and edges) with Node Type: basin and Node ID: 301\n",
      "Removed node (and edges) with Node Type: basin and Node ID: 301\n",
      "Removed node (and edges) with Node Type: basin and Node ID: 301\n",
      "Removed node (and edges) with Node Type: basin and Node ID: 301\n",
      "Removed node (and edges) with Node Type: basin and Node ID: 302\n",
      "Removed node (and edges) with Node Type: basin and Node ID: 302\n",
      "Removed node (and edges) with Node Type: basin and Node ID: 302\n",
      "Removed node (and edges) with Node Type: basin and Node ID: 302\n",
      "Removed node (and edges) with Node Type: basin and Node ID: 302\n",
      "Removed node (and edges) with Node Type: basin and Node ID: 305\n",
      "Removed node (and edges) with Node Type: basin and Node ID: 305\n",
      "Removed node (and edges) with Node Type: basin and Node ID: 305\n",
      "Removed node (and edges) with Node Type: basin and Node ID: 305\n",
      "Removed node (and edges) with Node Type: basin and Node ID: 305\n",
      "Removed node (and edges) with Node Type: basin and Node ID: 306\n",
      "Removed node (and edges) with Node Type: basin and Node ID: 306\n",
      "Removed node (and edges) with Node Type: basin and Node ID: 306\n",
      "Removed node (and edges) with Node Type: basin and Node ID: 306\n",
      "Removed node (and edges) with Node Type: basin and Node ID: 306\n",
      "Removed node (and edges) with Node Type: basin and Node ID: 309\n",
      "Removed node (and edges) with Node Type: basin and Node ID: 309\n",
      "Removed node (and edges) with Node Type: basin and Node ID: 309\n",
      "Removed node (and edges) with Node Type: basin and Node ID: 309\n",
      "Removed node (and edges) with Node Type: basin and Node ID: 309\n",
      "Removed node (and edges) with Node Type: basin and Node ID: 310\n",
      "Removed node (and edges) with Node Type: basin and Node ID: 310\n",
      "Removed node (and edges) with Node Type: basin and Node ID: 310\n",
      "Removed node (and edges) with Node Type: basin and Node ID: 310\n",
      "Removed node (and edges) with Node Type: basin and Node ID: 310\n",
      "Removed node (and edges) with Node Type: basin and Node ID: 312\n",
      "Removed node (and edges) with Node Type: basin and Node ID: 312\n",
      "Removed node (and edges) with Node Type: basin and Node ID: 312\n",
      "Removed node (and edges) with Node Type: basin and Node ID: 312\n",
      "Removed node (and edges) with Node Type: basin and Node ID: 312\n",
      "Removed node (and edges) with Node Type: basin and Node ID: 314\n",
      "Removed node (and edges) with Node Type: basin and Node ID: 314\n",
      "Removed node (and edges) with Node Type: basin and Node ID: 314\n",
      "Removed node (and edges) with Node Type: basin and Node ID: 314\n",
      "Removed node (and edges) with Node Type: basin and Node ID: 314\n",
      "Removed node (and edges) with Node Type: basin and Node ID: 315\n",
      "Removed node (and edges) with Node Type: basin and Node ID: 315\n",
      "Removed node (and edges) with Node Type: basin and Node ID: 315\n",
      "Removed node (and edges) with Node Type: basin and Node ID: 315\n",
      "Removed node (and edges) with Node Type: basin and Node ID: 315\n",
      "Removed node (and edges) with Node Type: basin and Node ID: 316\n",
      "Removed node (and edges) with Node Type: basin and Node ID: 316\n",
      "Removed node (and edges) with Node Type: basin and Node ID: 316\n",
      "Removed node (and edges) with Node Type: basin and Node ID: 316\n",
      "Removed node (and edges) with Node Type: basin and Node ID: 316\n",
      "Removed node (and edges) with Node Type: basin and Node ID: 317\n",
      "Removed node (and edges) with Node Type: basin and Node ID: 317\n",
      "Removed node (and edges) with Node Type: basin and Node ID: 317\n",
      "Removed node (and edges) with Node Type: basin and Node ID: 317\n",
      "Removed node (and edges) with Node Type: basin and Node ID: 317\n",
      "Removed node (and edges) with Node Type: basin and Node ID: 318\n",
      "Removed node (and edges) with Node Type: basin and Node ID: 318\n",
      "Removed node (and edges) with Node Type: basin and Node ID: 318\n",
      "Removed node (and edges) with Node Type: basin and Node ID: 318\n",
      "Removed node (and edges) with Node Type: basin and Node ID: 318\n",
      "Removed node (and edges) with Node Type: basin and Node ID: 319\n",
      "Removed node (and edges) with Node Type: basin and Node ID: 319\n",
      "Removed node (and edges) with Node Type: basin and Node ID: 319\n",
      "Removed node (and edges) with Node Type: basin and Node ID: 319\n",
      "Removed node (and edges) with Node Type: basin and Node ID: 319\n",
      "Removed node (and edges) with Node Type: basin and Node ID: 320\n",
      "Removed node (and edges) with Node Type: basin and Node ID: 320\n",
      "Removed node (and edges) with Node Type: basin and Node ID: 320\n",
      "Removed node (and edges) with Node Type: basin and Node ID: 320\n",
      "Removed node (and edges) with Node Type: basin and Node ID: 320\n",
      "Removed node (and edges) with Node Type: basin and Node ID: 321\n",
      "Removed node (and edges) with Node Type: basin and Node ID: 321\n",
      "Removed node (and edges) with Node Type: basin and Node ID: 321\n",
      "Removed node (and edges) with Node Type: basin and Node ID: 321\n",
      "Removed node (and edges) with Node Type: basin and Node ID: 321\n",
      "Removed node (and edges) with Node Type: basin and Node ID: 322\n",
      "Removed node (and edges) with Node Type: basin and Node ID: 322\n",
      "Removed node (and edges) with Node Type: basin and Node ID: 322\n",
      "Removed node (and edges) with Node Type: basin and Node ID: 322\n",
      "Removed node (and edges) with Node Type: basin and Node ID: 322\n",
      "Removed node (and edges) with Node Type: basin and Node ID: 323\n",
      "Removed node (and edges) with Node Type: basin and Node ID: 323\n",
      "Removed node (and edges) with Node Type: basin and Node ID: 323\n",
      "Removed node (and edges) with Node Type: basin and Node ID: 323\n",
      "Removed node (and edges) with Node Type: basin and Node ID: 323\n",
      "Removed node (and edges) with Node Type: basin and Node ID: 324\n",
      "Removed node (and edges) with Node Type: basin and Node ID: 324\n",
      "Removed node (and edges) with Node Type: basin and Node ID: 324\n",
      "Removed node (and edges) with Node Type: basin and Node ID: 324\n",
      "Removed node (and edges) with Node Type: basin and Node ID: 324\n",
      "Removed node (and edges) with Node Type: basin and Node ID: 325\n",
      "Removed node (and edges) with Node Type: basin and Node ID: 325\n",
      "Removed node (and edges) with Node Type: basin and Node ID: 325\n",
      "Removed node (and edges) with Node Type: basin and Node ID: 325\n",
      "Removed node (and edges) with Node Type: basin and Node ID: 325\n",
      "Removed node (and edges) with Node Type: basin and Node ID: 326\n",
      "Removed node (and edges) with Node Type: basin and Node ID: 326\n",
      "Removed node (and edges) with Node Type: basin and Node ID: 326\n",
      "Removed node (and edges) with Node Type: basin and Node ID: 326\n",
      "Removed node (and edges) with Node Type: basin and Node ID: 326\n",
      "Removed node (and edges) with Node Type: basin and Node ID: 327\n",
      "Removed node (and edges) with Node Type: basin and Node ID: 327\n",
      "Removed node (and edges) with Node Type: basin and Node ID: 327\n",
      "Removed node (and edges) with Node Type: basin and Node ID: 327\n",
      "Removed node (and edges) with Node Type: basin and Node ID: 327\n",
      "Removed node (and edges) with Node Type: basin and Node ID: 329\n",
      "Removed node (and edges) with Node Type: basin and Node ID: 329\n",
      "Removed node (and edges) with Node Type: basin and Node ID: 329\n",
      "Removed node (and edges) with Node Type: basin and Node ID: 329\n",
      "Removed node (and edges) with Node Type: basin and Node ID: 329\n",
      "Removed node (and edges) with Node Type: basin and Node ID: 330\n",
      "Removed node (and edges) with Node Type: basin and Node ID: 330\n",
      "Removed node (and edges) with Node Type: basin and Node ID: 330\n",
      "Removed node (and edges) with Node Type: basin and Node ID: 330\n",
      "Removed node (and edges) with Node Type: basin and Node ID: 330\n",
      "Removed node (and edges) with Node Type: basin and Node ID: 331\n",
      "Removed node (and edges) with Node Type: basin and Node ID: 331\n",
      "Removed node (and edges) with Node Type: basin and Node ID: 331\n",
      "Removed node (and edges) with Node Type: basin and Node ID: 331\n",
      "Removed node (and edges) with Node Type: basin and Node ID: 331\n",
      "Removed node (and edges) with Node Type: basin and Node ID: 336\n",
      "Removed node (and edges) with Node Type: basin and Node ID: 336\n",
      "Removed node (and edges) with Node Type: basin and Node ID: 336\n",
      "Removed node (and edges) with Node Type: basin and Node ID: 336\n",
      "Removed node (and edges) with Node Type: basin and Node ID: 336\n",
      "Removed node (and edges) with Node Type: basin and Node ID: 339\n",
      "Removed node (and edges) with Node Type: basin and Node ID: 339\n",
      "Removed node (and edges) with Node Type: basin and Node ID: 339\n",
      "Removed node (and edges) with Node Type: basin and Node ID: 339\n",
      "Removed node (and edges) with Node Type: basin and Node ID: 339\n",
      "Removed node (and edges) with Node Type: basin and Node ID: 344\n",
      "Removed node (and edges) with Node Type: basin and Node ID: 344\n",
      "Removed node (and edges) with Node Type: basin and Node ID: 344\n",
      "Removed node (and edges) with Node Type: basin and Node ID: 344\n",
      "Removed node (and edges) with Node Type: basin and Node ID: 344\n",
      "297 15\n",
      "304 454\n",
      "Swapped edge direction between Node A: 304 and Node B: 454\n",
      "307 124\n",
      "2 311\n",
      "Removed node (and edges) with Node Type: basin and Node ID: 28\n",
      "Removed node (and edges) with Node Type: basin and Node ID: 28\n",
      "Removed node (and edges) with Node Type: basin and Node ID: 28\n",
      "Removed node (and edges) with Node Type: basin and Node ID: 28\n",
      "Removed node (and edges) with Node Type: basin and Node ID: 28\n",
      "Removed node (and edges) with Node Type: basin and Node ID: 92\n",
      "Removed node (and edges) with Node Type: basin and Node ID: 92\n",
      "Removed node (and edges) with Node Type: basin and Node ID: 92\n",
      "Removed node (and edges) with Node Type: basin and Node ID: 92\n",
      "Removed node (and edges) with Node Type: basin and Node ID: 92\n",
      "Removed node (and edges) with Node Type: basin and Node ID: 119\n",
      "Removed node (and edges) with Node Type: basin and Node ID: 119\n",
      "Removed node (and edges) with Node Type: basin and Node ID: 119\n",
      "Removed node (and edges) with Node Type: basin and Node ID: 119\n",
      "Removed node (and edges) with Node Type: basin and Node ID: 119\n",
      "Removed node (and edges) with Node Type: basin and Node ID: 122\n",
      "Removed node (and edges) with Node Type: basin and Node ID: 122\n",
      "Removed node (and edges) with Node Type: basin and Node ID: 122\n",
      "Removed node (and edges) with Node Type: basin and Node ID: 122\n",
      "Removed node (and edges) with Node Type: basin and Node ID: 122\n",
      "Removed node (and edges) with Node Type: basin and Node ID: 136\n",
      "Removed node (and edges) with Node Type: basin and Node ID: 136\n",
      "Removed node (and edges) with Node Type: basin and Node ID: 136\n",
      "Removed node (and edges) with Node Type: basin and Node ID: 136\n",
      "Removed node (and edges) with Node Type: basin and Node ID: 136\n",
      "Removed node (and edges) with Node Type: basin and Node ID: 142\n",
      "Removed node (and edges) with Node Type: basin and Node ID: 142\n",
      "Removed node (and edges) with Node Type: basin and Node ID: 142\n",
      "Removed node (and edges) with Node Type: basin and Node ID: 142\n",
      "Removed node (and edges) with Node Type: basin and Node ID: 142\n",
      "Removed node (and edges) with Node Type: basin and Node ID: 160\n",
      "Removed node (and edges) with Node Type: basin and Node ID: 160\n",
      "Removed node (and edges) with Node Type: basin and Node ID: 160\n",
      "Removed node (and edges) with Node Type: basin and Node ID: 160\n",
      "Removed node (and edges) with Node Type: basin and Node ID: 160\n",
      "Removed node (and edges) with Node Type: basin and Node ID: 242\n",
      "Removed node (and edges) with Node Type: basin and Node ID: 242\n",
      "Removed node (and edges) with Node Type: basin and Node ID: 242\n",
      "Removed node (and edges) with Node Type: basin and Node ID: 242\n",
      "Removed node (and edges) with Node Type: basin and Node ID: 242\n",
      "Removed node (and edges) with Node Type: basin and Node ID: 253\n",
      "Removed node (and edges) with Node Type: basin and Node ID: 253\n",
      "Removed node (and edges) with Node Type: basin and Node ID: 253\n",
      "Removed node (and edges) with Node Type: basin and Node ID: 253\n",
      "Removed node (and edges) with Node Type: basin and Node ID: 253\n",
      "Removed node (and edges) with Node Type: basin and Node ID: 277\n",
      "Removed node (and edges) with Node Type: basin and Node ID: 277\n",
      "Removed node (and edges) with Node Type: basin and Node ID: 277\n",
      "Removed node (and edges) with Node Type: basin and Node ID: 277\n",
      "Removed node (and edges) with Node Type: basin and Node ID: 277\n",
      "Removed node (and edges) with Node Type: basin and Node ID: 281\n",
      "Removed node (and edges) with Node Type: basin and Node ID: 281\n",
      "Removed node (and edges) with Node Type: basin and Node ID: 281\n",
      "Removed node (and edges) with Node Type: basin and Node ID: 281\n",
      "Removed node (and edges) with Node Type: basin and Node ID: 281\n",
      "Removed node (and edges) with Node Type: basin and Node ID: 282\n",
      "Removed node (and edges) with Node Type: basin and Node ID: 282\n",
      "Removed node (and edges) with Node Type: basin and Node ID: 282\n",
      "Removed node (and edges) with Node Type: basin and Node ID: 282\n",
      "Removed node (and edges) with Node Type: basin and Node ID: 282\n",
      "Removed node (and edges) with Node Type: basin and Node ID: 286\n",
      "Removed node (and edges) with Node Type: basin and Node ID: 286\n",
      "Removed node (and edges) with Node Type: basin and Node ID: 286\n",
      "Removed node (and edges) with Node Type: basin and Node ID: 286\n",
      "Removed node (and edges) with Node Type: basin and Node ID: 286\n",
      "Removed node (and edges) with Node Type: basin and Node ID: 295\n",
      "Removed node (and edges) with Node Type: basin and Node ID: 295\n",
      "Removed node (and edges) with Node Type: basin and Node ID: 295\n",
      "Removed node (and edges) with Node Type: basin and Node ID: 295\n",
      "Removed node (and edges) with Node Type: basin and Node ID: 295\n",
      "Removed node (and edges) with Node Type: pump and Node ID: 442\n",
      "Removed node (and edges) with Node Type: pump and Node ID: 442\n",
      "Added node (and edges) with Node Type: pump and Node ID: 1428\n",
      "Removed node (and edges) with Node Type: pump and Node ID: 497\n",
      "Removed node (and edges) with Node Type: pump and Node ID: 497\n",
      "Added node (and edges) with Node Type: pump and Node ID: 1429\n",
      "Added node (and edges) with Node Type: pump and Node ID: 1430\n",
      "Added node (and edges) with Node Type: pump and Node ID: 1431\n",
      "Added node (and edges) with Node Type: pump and Node ID: 1432\n",
      "Added node (and edges) with Node Type: pump and Node ID: 1433\n",
      "Added node (and edges) with Node Type: pump and Node ID: 1434\n",
      "Added node (and edges) with Node Type: pump and Node ID: 1435\n",
      "Added node (and edges) with Node Type: pump and Node ID: 1436\n",
      "Added node (and edges) with Node Type: pump and Node ID: 1437\n",
      "Added node (and edges) with Node Type: pump and Node ID: 1438\n",
      "Added node (and edges) with Node Type: tabulated_rating_curve and Node ID: 1439\n",
      "Added node (and edges) with Node Type: tabulated_rating_curve and Node ID: 1440\n",
      "Removed node (and edges) with Node Type: pump and Node ID: 784\n",
      "Removed node (and edges) with Node Type: pump and Node ID: 784\n",
      "Added node (and edges) with Node Type: pump and Node ID: 1441\n",
      "Added node (and edges) with Node Type: tabulated_rating_curve and Node ID: 1442\n",
      "Removed node (and edges) with Node Type: pump and Node ID: 1156\n",
      "Removed node (and edges) with Node Type: pump and Node ID: 1156\n",
      "Added node (and edges) with Node Type: tabulated_rating_curve and Node ID: 1443\n",
      "Added node (and edges) with Node Type: pump and Node ID: 1444\n",
      "232 65\n",
      "Removed node (and edges) with Node Type: tabulated_rating_curve and Node ID: 843\n",
      "Removed node (and edges) with Node Type: tabulated_rating_curve and Node ID: 843\n",
      "Removed node (and edges) with Node Type: tabulated_rating_curve and Node ID: 391\n",
      "Removed node (and edges) with Node Type: tabulated_rating_curve and Node ID: 391\n",
      "Removed node (and edges) with Node Type: tabulated_rating_curve and Node ID: 1296\n",
      "Removed node (and edges) with Node Type: tabulated_rating_curve and Node ID: 1296\n",
      "Removed node (and edges) with Node Type: basin and Node ID: 143\n",
      "Removed node (and edges) with Node Type: basin and Node ID: 143\n",
      "Removed node (and edges) with Node Type: basin and Node ID: 143\n",
      "Removed node (and edges) with Node Type: basin and Node ID: 143\n",
      "Removed node (and edges) with Node Type: basin and Node ID: 143\n",
      "Removed node (and edges) with Node Type: tabulated_rating_curve and Node ID: 1039\n",
      "Removed node (and edges) with Node Type: tabulated_rating_curve and Node ID: 1039\n",
      "Removed node (and edges) with Node Type: tabulated_rating_curve and Node ID: 1196\n",
      "Removed node (and edges) with Node Type: tabulated_rating_curve and Node ID: 1196\n",
      "Removed node (and edges) with Node Type: manning_resistance and Node ID: 1003\n",
      "Removed node (and edges) with Node Type: manning_resistance and Node ID: 1003\n",
      "Removed node (and edges) with Node Type: pump and Node ID: 929\n",
      "Removed node (and edges) with Node Type: pump and Node ID: 929\n",
      "Removed node (and edges) with Node Type: pump and Node ID: 945\n",
      "Removed node (and edges) with Node Type: pump and Node ID: 945\n",
      "Removed node (and edges) with Node Type: tabulated_rating_curve and Node ID: 1251\n",
      "Removed node (and edges) with Node Type: tabulated_rating_curve and Node ID: 1251\n",
      "Removed node (and edges) with Node Type: tabulated_rating_curve and Node ID: 1047\n",
      "Removed node (and edges) with Node Type: tabulated_rating_curve and Node ID: 1047\n",
      "Removed node (and edges) with Node Type: tabulated_rating_curve and Node ID: 563\n",
      "Removed node (and edges) with Node Type: tabulated_rating_curve and Node ID: 563\n",
      "Removed node (and edges) with Node Type: pump and Node ID: 1200\n",
      "Removed node (and edges) with Node Type: pump and Node ID: 1200\n",
      "Added node (and edges) with Node Type: pump and Node ID: 1445\n",
      "Removed node (and edges) with Node Type: pump and Node ID: 1278\n",
      "Removed node (and edges) with Node Type: pump and Node ID: 1278\n",
      "Removed node (and edges) with Node Type: basin and Node ID: 155\n",
      "Removed node (and edges) with Node Type: basin and Node ID: 155\n",
      "Removed node (and edges) with Node Type: basin and Node ID: 155\n",
      "Removed node (and edges) with Node Type: basin and Node ID: 155\n",
      "Removed node (and edges) with Node Type: basin and Node ID: 155\n",
      "185 22\n",
      "Added node (and edges) with Node Type: pump and Node ID: 1447\n",
      "Removed node (and edges) with Node Type: pump and Node ID: 455\n",
      "Removed node (and edges) with Node Type: pump and Node ID: 455\n",
      "Added node (and edges) with Node Type: pump and Node ID: 1448\n",
      "Removed node (and edges) with Node Type: pump and Node ID: 769\n",
      "Removed node (and edges) with Node Type: pump and Node ID: 769\n",
      "Added node (and edges) with Node Type: pump and Node ID: 1449\n",
      "Removed node (and edges) with Node Type: pump and Node ID: 825\n",
      "Removed node (and edges) with Node Type: pump and Node ID: 825\n",
      "Added node (and edges) with Node Type: pump and Node ID: 1450\n",
      "Removed node (and edges) with Node Type: pump and Node ID: 1225\n",
      "Removed node (and edges) with Node Type: pump and Node ID: 1225\n",
      "Added node (and edges) with Node Type: pump and Node ID: 1451\n",
      "Removed node (and edges) with Node Type: tabulated_rating_curve and Node ID: 371\n",
      "Removed node (and edges) with Node Type: tabulated_rating_curve and Node ID: 371\n",
      "Added node (and edges) with Node Type: tabulated_rating_curve and Node ID: 1452\n",
      "Removed node (and edges) with Node Type: tabulated_rating_curve and Node ID: 951\n",
      "Removed node (and edges) with Node Type: tabulated_rating_curve and Node ID: 951\n",
      "Removed node (and edges) with Node Type: tabulated_rating_curve and Node ID: 383\n",
      "Removed node (and edges) with Node Type: tabulated_rating_curve and Node ID: 383\n",
      "Removed node (and edges) with Node Type: tabulated_rating_curve and Node ID: 384\n",
      "Removed node (and edges) with Node Type: tabulated_rating_curve and Node ID: 384\n",
      "Removed node (and edges) with Node Type: tabulated_rating_curve and Node ID: 418\n",
      "Removed node (and edges) with Node Type: tabulated_rating_curve and Node ID: 418\n",
      "Removed node (and edges) with Node Type: manning_resistance and Node ID: 419\n",
      "Removed node (and edges) with Node Type: manning_resistance and Node ID: 419\n",
      "Removed node (and edges) with Node Type: tabulated_rating_curve and Node ID: 454\n",
      "Removed node (and edges) with Node Type: tabulated_rating_curve and Node ID: 454\n",
      "Removed node (and edges) with Node Type: tabulated_rating_curve and Node ID: 498\n",
      "Removed node (and edges) with Node Type: tabulated_rating_curve and Node ID: 498\n",
      "Removed node (and edges) with Node Type: manning_resistance and Node ID: 499\n",
      "Removed node (and edges) with Node Type: manning_resistance and Node ID: 499\n",
      "Removed node (and edges) with Node Type: tabulated_rating_curve and Node ID: 565\n",
      "Removed node (and edges) with Node Type: tabulated_rating_curve and Node ID: 565\n",
      "Removed node (and edges) with Node Type: tabulated_rating_curve and Node ID: 566\n",
      "Removed node (and edges) with Node Type: tabulated_rating_curve and Node ID: 566\n",
      "Removed node (and edges) with Node Type: tabulated_rating_curve and Node ID: 596\n",
      "Removed node (and edges) with Node Type: tabulated_rating_curve and Node ID: 596\n",
      "Removed node (and edges) with Node Type: tabulated_rating_curve and Node ID: 597\n",
      "Removed node (and edges) with Node Type: tabulated_rating_curve and Node ID: 597\n",
      "Removed node (and edges) with Node Type: tabulated_rating_curve and Node ID: 598\n",
      "Removed node (and edges) with Node Type: tabulated_rating_curve and Node ID: 598\n",
      "Added node (and edges) with Node Type: tabulated_rating_curve and Node ID: 1453\n",
      "Removed node (and edges) with Node Type: tabulated_rating_curve and Node ID: 611\n",
      "Removed node (and edges) with Node Type: tabulated_rating_curve and Node ID: 611\n",
      "Removed node (and edges) with Node Type: tabulated_rating_curve and Node ID: 612\n",
      "Removed node (and edges) with Node Type: tabulated_rating_curve and Node ID: 612\n",
      "Removed node (and edges) with Node Type: tabulated_rating_curve and Node ID: 646\n",
      "Removed node (and edges) with Node Type: tabulated_rating_curve and Node ID: 646\n",
      "Removed node (and edges) with Node Type: manning_resistance and Node ID: 647\n",
      "Removed node (and edges) with Node Type: manning_resistance and Node ID: 647\n",
      "Removed node (and edges) with Node Type: tabulated_rating_curve and Node ID: 649\n",
      "Removed node (and edges) with Node Type: tabulated_rating_curve and Node ID: 649\n",
      "Removed node (and edges) with Node Type: tabulated_rating_curve and Node ID: 674\n",
      "Removed node (and edges) with Node Type: tabulated_rating_curve and Node ID: 674\n",
      "Removed node (and edges) with Node Type: tabulated_rating_curve and Node ID: 928\n",
      "Removed node (and edges) with Node Type: tabulated_rating_curve and Node ID: 928\n",
      "Removed node (and edges) with Node Type: tabulated_rating_curve and Node ID: 955\n",
      "Removed node (and edges) with Node Type: tabulated_rating_curve and Node ID: 955\n",
      "Removed node (and edges) with Node Type: manning_resistance and Node ID: 956\n",
      "Removed node (and edges) with Node Type: manning_resistance and Node ID: 956\n",
      "Removed node (and edges) with Node Type: tabulated_rating_curve and Node ID: 1082\n",
      "Removed node (and edges) with Node Type: tabulated_rating_curve and Node ID: 1082\n",
      "Removed node (and edges) with Node Type: tabulated_rating_curve and Node ID: 1218\n",
      "Removed node (and edges) with Node Type: tabulated_rating_curve and Node ID: 1218\n",
      "Removed node (and edges) with Node Type: tabulated_rating_curve and Node ID: 1315\n",
      "Removed node (and edges) with Node Type: tabulated_rating_curve and Node ID: 1315\n",
      "Removed node (and edges) with Node Type: manning_resistance and Node ID: 369\n",
      "Removed node (and edges) with Node Type: manning_resistance and Node ID: 369\n",
      "Removed node (and edges) with Node Type: manning_resistance and Node ID: 399\n",
      "Removed node (and edges) with Node Type: manning_resistance and Node ID: 399\n",
      "Removed node (and edges) with Node Type: manning_resistance and Node ID: 850\n",
      "Removed node (and edges) with Node Type: manning_resistance and Node ID: 850\n",
      "Removed node (and edges) with Node Type: manning_resistance and Node ID: 402\n",
      "Removed node (and edges) with Node Type: manning_resistance and Node ID: 402\n",
      "Removed node (and edges) with Node Type: manning_resistance and Node ID: 417\n",
      "Removed node (and edges) with Node Type: manning_resistance and Node ID: 417\n",
      "Removed node (and edges) with Node Type: manning_resistance and Node ID: 685\n",
      "Removed node (and edges) with Node Type: manning_resistance and Node ID: 685\n",
      "Removed node (and edges) with Node Type: manning_resistance and Node ID: 435\n",
      "Removed node (and edges) with Node Type: manning_resistance and Node ID: 435\n",
      "Removed node (and edges) with Node Type: manning_resistance and Node ID: 472\n",
      "Removed node (and edges) with Node Type: manning_resistance and Node ID: 472\n",
      "Removed node (and edges) with Node Type: manning_resistance and Node ID: 560\n",
      "Removed node (and edges) with Node Type: manning_resistance and Node ID: 560\n",
      "Removed node (and edges) with Node Type: manning_resistance and Node ID: 574\n",
      "Removed node (and edges) with Node Type: manning_resistance and Node ID: 574\n",
      "Removed node (and edges) with Node Type: manning_resistance and Node ID: 583\n",
      "Removed node (and edges) with Node Type: manning_resistance and Node ID: 583\n",
      "Removed node (and edges) with Node Type: manning_resistance and Node ID: 606\n",
      "Removed node (and edges) with Node Type: manning_resistance and Node ID: 606\n",
      "Removed node (and edges) with Node Type: manning_resistance and Node ID: 699\n",
      "Removed node (and edges) with Node Type: manning_resistance and Node ID: 699\n",
      "Removed node (and edges) with Node Type: manning_resistance and Node ID: 708\n",
      "Removed node (and edges) with Node Type: manning_resistance and Node ID: 708\n",
      "Removed node (and edges) with Node Type: manning_resistance and Node ID: 724\n",
      "Removed node (and edges) with Node Type: manning_resistance and Node ID: 724\n",
      "Removed node (and edges) with Node Type: manning_resistance and Node ID: 728\n",
      "Removed node (and edges) with Node Type: manning_resistance and Node ID: 728\n",
      "Removed node (and edges) with Node Type: manning_resistance and Node ID: 730\n",
      "Removed node (and edges) with Node Type: manning_resistance and Node ID: 730\n",
      "Removed node (and edges) with Node Type: manning_resistance and Node ID: 748\n",
      "Removed node (and edges) with Node Type: manning_resistance and Node ID: 748\n",
      "Removed node (and edges) with Node Type: manning_resistance and Node ID: 750\n",
      "Removed node (and edges) with Node Type: manning_resistance and Node ID: 750\n",
      "Removed node (and edges) with Node Type: manning_resistance and Node ID: 764\n",
      "Removed node (and edges) with Node Type: manning_resistance and Node ID: 764\n",
      "Removed node (and edges) with Node Type: manning_resistance and Node ID: 773\n",
      "Removed node (and edges) with Node Type: manning_resistance and Node ID: 773\n",
      "Removed node (and edges) with Node Type: manning_resistance and Node ID: 856\n",
      "Removed node (and edges) with Node Type: manning_resistance and Node ID: 856\n",
      "Removed node (and edges) with Node Type: manning_resistance and Node ID: 909\n",
      "Removed node (and edges) with Node Type: manning_resistance and Node ID: 909\n",
      "Removed node (and edges) with Node Type: manning_resistance and Node ID: 919\n",
      "Removed node (and edges) with Node Type: manning_resistance and Node ID: 919\n",
      "Removed node (and edges) with Node Type: manning_resistance and Node ID: 1168\n",
      "Removed node (and edges) with Node Type: manning_resistance and Node ID: 1168\n",
      "Removed node (and edges) with Node Type: manning_resistance and Node ID: 1214\n",
      "Removed node (and edges) with Node Type: manning_resistance and Node ID: 1214\n",
      "Removed node (and edges) with Node Type: manning_resistance and Node ID: 1273\n",
      "Removed node (and edges) with Node Type: manning_resistance and Node ID: 1273\n",
      "Processed all actions\n"
     ]
    }
   ],
   "source": [
    "name = \"Ron Bruijns (HKV)\"\n",
    "\n",
    "feedback_excel = pathlib.Path(r\"../../../../../Ribasim_feedback/V1_formulieren/feedback_formulier_\" + waterschap + \".xlsx\")\n",
    "feedback_excel_processed = r\"../../../../..//Ribasim_feedback/V1_formulieren_verwerkt/feedback_formulier_\" + waterschap + \"_JA_processed.xlsx\"\n",
    "\n",
    "ribasim_toml = pathlib.Path(r\"../../../../../Ribasim_base_models\", waterschap + '_boezemmodel_' + versie, 'ribasim.toml')\n",
    "output_folder = work_dir #r\"../../../../../Ribasim_updated_models/AmstelGooienVecht\"\n",
    "\n",
    "processor = RibasimFeedbackProcessor(name, waterschap, versie, feedback_excel, ribasim_toml, output_folder, feedback_excel_processed)\n",
    "processor.run()"
   ]
  },
  {
   "cell_type": "markdown",
   "metadata": {},
   "source": [
    "#### Load model"
   ]
  },
  {
   "cell_type": "code",
   "execution_count": 4,
   "metadata": {},
   "outputs": [],
   "source": [
    "# Load Ribasim model\n",
    "with warnings.catch_warnings():\n",
    "    warnings.simplefilter(action='ignore', category=FutureWarning)\n",
    "    ribasim_model = ribasim.Model(filepath=path_ribasim_toml)"
   ]
  },
  {
   "cell_type": "markdown",
   "metadata": {},
   "source": [
    "## Model specific tweaks"
   ]
  },
  {
   "cell_type": "code",
   "execution_count": 5,
   "metadata": {},
   "outputs": [],
   "source": [
    "assert not pd.isnull(ribasim_model.basin.area.df.meta_streefpeil).any()\n",
    "\n",
    "ribasim_model.basin.area.df.loc[ribasim_model.basin.area.df['meta_streefpeil'] == 'Onbekend streefpeil', 'meta_streefpeil'] = unknown_streefpeil\n",
    "\n",
    "ribasim_model.basin.area.df.loc[ribasim_model.basin.area.df['meta_streefpeil'] == 9.999, 'meta_streefpeil'] = unknown_streefpeil"
   ]
  },
  {
   "cell_type": "markdown",
   "metadata": {},
   "source": [
    "# Parameterization"
   ]
  },
  {
   "cell_type": "markdown",
   "metadata": {},
   "source": [
    "## Nodes"
   ]
  },
  {
   "cell_type": "markdown",
   "metadata": {},
   "source": [
    "### Basin (characteristics)"
   ]
  },
  {
   "cell_type": "code",
   "execution_count": 6,
   "metadata": {},
   "outputs": [],
   "source": [
    "# Define the initial state of each basin. Is set equal to the streefpeil\n",
    "# ribasim_param.set_initial_basin_state(ribasim_model) #the initial states of the basins are by default already set to the streefpeil!\n",
    "\n",
    "# Insert standard profiles to each basin. These are [depth_profiles] meter deep, defined from the streefpeil\n",
    "ribasim_param.insert_standard_profile(ribasim_model, \n",
    "                                      regular_percentage = regular_percentage, \n",
    "                                      boezem_percentage = boezem_percentage,\n",
    "                                      depth_profile = 2)"
   ]
  },
  {
   "cell_type": "code",
   "execution_count": null,
   "metadata": {},
   "outputs": [],
   "source": [
    "# Add storage basins\n",
    "# model_name = 'AmstelGooienVecht_StorageBasins'\n",
    "# node_ids = [1, 2, 3]  # Specify node IDs to process or include_hoofdwater Boolean\n",
    "processor = AddStorageBasin(ribasim_toml, model_name, output_folder, include_hoofdwater=True, log=True, node_ids=None)\n",
    "ribasim_model = processor.run()\n",
    "\n",
    "# Check basin area\n",
    "ribasim_param.validate_basin_area(ribasim_model)"
   ]
  },
  {
   "cell_type": "markdown",
   "metadata": {},
   "source": [
    "### Basin (forcing)"
   ]
  },
  {
   "cell_type": "code",
   "execution_count": 7,
   "metadata": {},
   "outputs": [],
   "source": [
    "# Set static forcing\n",
    "forcing_dict = {'precipitation':         ribasim_param.convert_mm_day_to_m_sec(5),\n",
    "                'potential_evaporation': ribasim_param.convert_mm_day_to_m_sec(0),\n",
    "                'drainage':              ribasim_param.convert_mm_day_to_m_sec(0),\n",
    "                'infiltration':          ribasim_param.convert_mm_day_to_m_sec(0),\n",
    "                'urban_runoff':          ribasim_param.convert_mm_day_to_m_sec(0),\n",
    "                }\n",
    "\n",
    "ribasim_param.set_static_forcing(timesteps, timestep_size, start_time, forcing_dict, ribasim_model)\n"
   ]
  },
  {
   "cell_type": "markdown",
   "metadata": {},
   "source": [
    "### Pumps"
   ]
  },
  {
   "cell_type": "code",
   "execution_count": 8,
   "metadata": {},
   "outputs": [],
   "source": [
    "# Set pump capacity for each pump\n",
    "ribasim_model.pump.static.df['flow_rate'] = 0.16667 # 10 kuub per minuut"
   ]
  },
  {
   "cell_type": "markdown",
   "metadata": {},
   "source": [
    "### FlowBoundary"
   ]
  },
  {
   "cell_type": "code",
   "execution_count": 9,
   "metadata": {},
   "outputs": [],
   "source": [
    "# Set FlowBoundary rate for each pump\n",
    "ribasim_model.flow_boundary.static.df['flow_rate'] = 0 #"
   ]
  },
  {
   "cell_type": "markdown",
   "metadata": {},
   "source": [
    "### Add Discrete Control"
   ]
  },
  {
   "cell_type": "code",
   "execution_count": 10,
   "metadata": {},
   "outputs": [],
   "source": [
    "# Add discrete control nodes and control edges\n",
    "ribasim_param.add_discrete_control_nodes(ribasim_model)"
   ]
  },
  {
   "cell_type": "markdown",
   "metadata": {},
   "source": [
    "### TabulatedRatingCurve"
   ]
  },
  {
   "cell_type": "code",
   "execution_count": 11,
   "metadata": {},
   "outputs": [],
   "source": [
    "# First, set the Q(h)-relationship to a relationship which is at each TRC node the same\n",
    "ribasim_param.set_tabulated_rating_curves(ribasim_model, level_increase=1.0, flow_rate=1)\n",
    "\n",
    "# The water level in the boezem is regulated heavily. There is a smaller tolerance for an increase in water level. \n",
    "# Hence, the TRC's which discharge water from the boezem to a Terminal should have a higher capacity.\n",
    "ribasim_param.set_tabulated_rating_curves_boundaries(ribasim_model, level_increase=0.10, flow_rate=40)\n"
   ]
  },
  {
   "cell_type": "markdown",
   "metadata": {},
   "source": [
    "# Set numerical settings"
   ]
  },
  {
   "cell_type": "code",
   "execution_count": 12,
   "metadata": {},
   "outputs": [],
   "source": [
    "# Write model output\n",
    "ribasim_param.index_reset(ribasim_model)\n",
    "ribasim_model.starttime = datetime.datetime(2024, 1, 1)\n",
    "ribasim_model.endtime = datetime.datetime(2024, 1, 5)\n",
    "ribasim_model.solver.saveat = 3600\n",
    "ribasim_param.write_ribasim_model_Zdrive(ribasim_model, \n",
    "                                         path_ribasim_toml)"
   ]
  },
  {
   "cell_type": "markdown",
   "metadata": {},
   "source": [
    "## Run Model"
   ]
  },
  {
   "cell_type": "markdown",
   "metadata": {},
   "source": [
    "## Iterate over tabulated rating curves"
   ]
  },
  {
   "cell_type": "code",
   "execution_count": 13,
   "metadata": {},
   "outputs": [
    {
     "data": {
      "application/vnd.jupyter.widget-view+json": {
       "model_id": "fd72702744684089a01cd5e307a82139",
       "version_major": 2,
       "version_minor": 0
      },
      "text/plain": [
       "Simulating init:   0%|          | 0/100 [00:00<?, ?it/s]"
      ]
     },
     "metadata": {},
     "output_type": "display_data"
    },
    {
     "name": "stderr",
     "output_type": "stream",
     "text": [
      "ERROR:root:The model was not able to run. Log file:\n"
     ]
    },
    {
     "name": "stdout",
     "output_type": "stream",
     "text": [
      "┌ Info: Starting a Ribasim simulation.\n",
      "│   cli.ribasim_version = 2024.8.0\n",
      "│   starttime = 2024-01-01T00:00:00\n",
      "│   endtime = 2024-01-05T00:00:00\n",
      "└ @ Ribasim /opt/teamcityagent/work/ecd2b8f9b25b1609/ribasim/core/src/main.jl:39\n",
      "\n"
     ]
    }
   ],
   "source": [
    "try:\n",
    "    ribasim_param.iterate_TRC(ribasim_param = ribasim_param, \n",
    "                          allowed_tolerance = 0.02, \n",
    "                          max_iter = 1, \n",
    "                          expected_difference = 0.1, \n",
    "                          max_adjustment = 0.25, \n",
    "                          cmd = ['ribasim', path_ribasim_toml], \n",
    "                          output_dir = output_dir, \n",
    "                          path_ribasim_toml = path_ribasim_toml)\n",
    "\n",
    "except Exception as e:\n",
    "    logging.error(\"The model was not able to run. Log file:\")\n",
    "    log_file_path = os.path.join(output_dir, 'ribasim.log') \n",
    "    try:\n",
    "        with open(log_file_path, 'r') as log_file:\n",
    "            log_content = log_file.read()\n",
    "            print(log_content)\n",
    "    except Exception as log_exception:\n",
    "        logging.error(f\"Could not read the log file: {log_exception}\")"
   ]
  },
  {
   "cell_type": "code",
   "execution_count": 14,
   "metadata": {},
   "outputs": [
    {
     "ename": "NameError",
     "evalue": "name 'stop' is not defined",
     "output_type": "error",
     "traceback": [
      "\u001b[0;31m---------------------------------------------------------------------------\u001b[0m",
      "\u001b[0;31mNameError\u001b[0m                                 Traceback (most recent call last)",
      "Cell \u001b[0;32mIn[14], line 1\u001b[0m\n\u001b[0;32m----> 1\u001b[0m \u001b[43mstop\u001b[49m\n",
      "\u001b[0;31mNameError\u001b[0m: name 'stop' is not defined"
     ]
    }
   ],
   "source": [
    "stop"
   ]
  },
  {
   "cell_type": "markdown",
   "metadata": {},
   "source": [
    "# Write model"
   ]
  },
  {
   "cell_type": "code",
   "execution_count": 15,
   "metadata": {},
   "outputs": [
    {
     "name": "stderr",
     "output_type": "stream",
     "text": [
      "INFO:pyogrio._io:Created 2,169 records\n",
      "INFO:pyogrio._io:Created 1,633 records\n",
      "INFO:pyogrio._io:Created 297 records\n",
      "DEBUG:urllib3.connectionpool:Starting new HTTPS connection (1): deltares.thegood.cloud:443\n",
      "DEBUG:urllib3.connectionpool:https://deltares.thegood.cloud:443 \"GET /remote.php/dav/files/nhi_api/Ribasim%20modeldata HTTP/1.1\" 200 None\n",
      "INFO:ribasim_nl.cloud:valid credentials\n",
      "DEBUG:urllib3.connectionpool:Starting new HTTPS connection (1): deltares.thegood.cloud:443\n",
      "DEBUG:urllib3.connectionpool:https://deltares.thegood.cloud:443 \"PROPFIND /remote.php/dav/files/nhi_api/Ribasim%20modeldata/Rijnland/modellen HTTP/1.1\" 207 None\n",
      "DEBUG:urllib3.connectionpool:Starting new HTTPS connection (1): deltares.thegood.cloud:443\n",
      "DEBUG:urllib3.connectionpool:https://deltares.thegood.cloud:443 \"MKCOL /remote.php/dav/files/nhi_api/Ribasim%20modeldata/Rijnland/modellen/Rijnland_boezemmodel_2024_6_3 HTTP/1.1\" 201 0\n",
      "DEBUG:urllib3.connectionpool:Starting new HTTPS connection (1): deltares.thegood.cloud:443\n",
      "DEBUG:urllib3.connectionpool:https://deltares.thegood.cloud:443 \"PROPFIND /remote.php/dav/files/nhi_api/Ribasim%20modeldata/Rijnland/modellen/Rijnland_boezemmodel_2024_6_3 HTTP/1.1\" 207 None\n",
      "INFO:ribasim_nl.cloud:uploading file ../../../../../Ribasim_networks/Waterschappen/Rijnland/modellen/Rijnland_boezemmodel_2024_6_3/database_checks.gpkg\n",
      "DEBUG:urllib3.connectionpool:Starting new HTTPS connection (1): deltares.thegood.cloud:443\n",
      "DEBUG:urllib3.connectionpool:https://deltares.thegood.cloud:443 \"PUT /remote.php/dav/files/nhi_api/Ribasim%20modeldata/Rijnland/modellen/Rijnland_boezemmodel_2024_6_3/database_checks.gpkg HTTP/1.1\" 201 0\n",
      "INFO:ribasim_nl.cloud:uploading file ../../../../../Ribasim_networks/Waterschappen/Rijnland/modellen/Rijnland_boezemmodel_2024_6_3/ribasim.toml\n",
      "DEBUG:urllib3.connectionpool:Starting new HTTPS connection (1): deltares.thegood.cloud:443\n",
      "DEBUG:urllib3.connectionpool:https://deltares.thegood.cloud:443 \"PUT /remote.php/dav/files/nhi_api/Ribasim%20modeldata/Rijnland/modellen/Rijnland_boezemmodel_2024_6_3/ribasim.toml HTTP/1.1\" 201 0\n",
      "INFO:ribasim_nl.cloud:uploading file ../../../../../Ribasim_networks/Waterschappen/Rijnland/modellen/Rijnland_boezemmodel_2024_6_3/visualisation_checks.qlr\n",
      "DEBUG:urllib3.connectionpool:Starting new HTTPS connection (1): deltares.thegood.cloud:443\n",
      "DEBUG:urllib3.connectionpool:https://deltares.thegood.cloud:443 \"PUT /remote.php/dav/files/nhi_api/Ribasim%20modeldata/Rijnland/modellen/Rijnland_boezemmodel_2024_6_3/visualisation_checks.qlr HTTP/1.1\" 201 0\n",
      "INFO:ribasim_nl.cloud:uploading file ../../../../../Ribasim_networks/Waterschappen/Rijnland/modellen/Rijnland_boezemmodel_2024_6_3/visualisation_Ribasim.qlr\n",
      "DEBUG:urllib3.connectionpool:Starting new HTTPS connection (1): deltares.thegood.cloud:443\n",
      "DEBUG:urllib3.connectionpool:https://deltares.thegood.cloud:443 \"PUT /remote.php/dav/files/nhi_api/Ribasim%20modeldata/Rijnland/modellen/Rijnland_boezemmodel_2024_6_3/visualisation_Ribasim.qlr HTTP/1.1\" 201 0\n",
      "INFO:ribasim_nl.cloud:uploading file ../../../../../Ribasim_networks/Waterschappen/Rijnland/modellen/Rijnland_boezemmodel_2024_6_3/database.gpkg\n",
      "DEBUG:urllib3.connectionpool:Starting new HTTPS connection (1): deltares.thegood.cloud:443\n",
      "DEBUG:urllib3.connectionpool:https://deltares.thegood.cloud:443 \"PUT /remote.php/dav/files/nhi_api/Ribasim%20modeldata/Rijnland/modellen/Rijnland_boezemmodel_2024_6_3/database.gpkg HTTP/1.1\" 201 0\n",
      "DEBUG:urllib3.connectionpool:Starting new HTTPS connection (1): deltares.thegood.cloud:443\n",
      "DEBUG:urllib3.connectionpool:https://deltares.thegood.cloud:443 \"MKCOL /remote.php/dav/files/nhi_api/Ribasim%20modeldata/Rijnland/modellen/Rijnland_boezemmodel_2024_6_3/results HTTP/1.1\" 201 0\n",
      "DEBUG:urllib3.connectionpool:Starting new HTTPS connection (1): deltares.thegood.cloud:443\n",
      "DEBUG:urllib3.connectionpool:https://deltares.thegood.cloud:443 \"PROPFIND /remote.php/dav/files/nhi_api/Ribasim%20modeldata/Rijnland/modellen/Rijnland_boezemmodel_2024_6_3/results HTTP/1.1\" 207 None\n",
      "INFO:ribasim_nl.cloud:uploading file ../../../../../Ribasim_networks/Waterschappen/Rijnland/modellen/Rijnland_boezemmodel_2024_6_3/results/subgrid_levels.arrow\n",
      "DEBUG:urllib3.connectionpool:Starting new HTTPS connection (1): deltares.thegood.cloud:443\n",
      "DEBUG:urllib3.connectionpool:https://deltares.thegood.cloud:443 \"PUT /remote.php/dav/files/nhi_api/Ribasim%20modeldata/Rijnland/modellen/Rijnland_boezemmodel_2024_6_3/results/subgrid_levels.arrow HTTP/1.1\" 201 0\n",
      "INFO:ribasim_nl.cloud:uploading file ../../../../../Ribasim_networks/Waterschappen/Rijnland/modellen/Rijnland_boezemmodel_2024_6_3/results/ribasim.log\n",
      "DEBUG:urllib3.connectionpool:Starting new HTTPS connection (1): deltares.thegood.cloud:443\n",
      "DEBUG:urllib3.connectionpool:https://deltares.thegood.cloud:443 \"PUT /remote.php/dav/files/nhi_api/Ribasim%20modeldata/Rijnland/modellen/Rijnland_boezemmodel_2024_6_3/results/ribasim.log HTTP/1.1\" 201 0\n",
      "INFO:ribasim_nl.cloud:uploading file ../../../../../Ribasim_networks/Waterschappen/Rijnland/modellen/Rijnland_boezemmodel_2024_6_3/results/basin.arrow\n",
      "DEBUG:urllib3.connectionpool:Starting new HTTPS connection (1): deltares.thegood.cloud:443\n",
      "DEBUG:urllib3.connectionpool:https://deltares.thegood.cloud:443 \"PUT /remote.php/dav/files/nhi_api/Ribasim%20modeldata/Rijnland/modellen/Rijnland_boezemmodel_2024_6_3/results/basin.arrow HTTP/1.1\" 201 0\n",
      "INFO:ribasim_nl.cloud:uploading file ../../../../../Ribasim_networks/Waterschappen/Rijnland/modellen/Rijnland_boezemmodel_2024_6_3/results/control.arrow\n",
      "DEBUG:urllib3.connectionpool:Starting new HTTPS connection (1): deltares.thegood.cloud:443\n",
      "DEBUG:urllib3.connectionpool:https://deltares.thegood.cloud:443 \"PUT /remote.php/dav/files/nhi_api/Ribasim%20modeldata/Rijnland/modellen/Rijnland_boezemmodel_2024_6_3/results/control.arrow HTTP/1.1\" 201 0\n",
      "INFO:ribasim_nl.cloud:uploading file ../../../../../Ribasim_networks/Waterschappen/Rijnland/modellen/Rijnland_boezemmodel_2024_6_3/results/flow.arrow\n",
      "DEBUG:urllib3.connectionpool:Starting new HTTPS connection (1): deltares.thegood.cloud:443\n",
      "DEBUG:urllib3.connectionpool:https://deltares.thegood.cloud:443 \"PUT /remote.php/dav/files/nhi_api/Ribasim%20modeldata/Rijnland/modellen/Rijnland_boezemmodel_2024_6_3/results/flow.arrow HTTP/1.1\" 201 0\n",
      "INFO:ribasim_nl.cloud:uploading file ../../../../../Ribasim_networks/Waterschappen/Rijnland/modellen/Rijnland_boezemmodel_2024_6_3/results/allocation_flow.arrow\n",
      "DEBUG:urllib3.connectionpool:Starting new HTTPS connection (1): deltares.thegood.cloud:443\n",
      "DEBUG:urllib3.connectionpool:https://deltares.thegood.cloud:443 \"PUT /remote.php/dav/files/nhi_api/Ribasim%20modeldata/Rijnland/modellen/Rijnland_boezemmodel_2024_6_3/results/allocation_flow.arrow HTTP/1.1\" 201 0\n",
      "INFO:ribasim_nl.cloud:uploading file ../../../../../Ribasim_networks/Waterschappen/Rijnland/modellen/Rijnland_boezemmodel_2024_6_3/results/allocation.arrow\n",
      "DEBUG:urllib3.connectionpool:Starting new HTTPS connection (1): deltares.thegood.cloud:443\n",
      "DEBUG:urllib3.connectionpool:https://deltares.thegood.cloud:443 \"PUT /remote.php/dav/files/nhi_api/Ribasim%20modeldata/Rijnland/modellen/Rijnland_boezemmodel_2024_6_3/results/allocation.arrow HTTP/1.1\" 201 0\n"
     ]
    },
    {
     "name": "stdout",
     "output_type": "stream",
     "text": [
      "The model of waterboard Rijnland has been uploaded to the goodcloud in the directory of boezemmodel!\n"
     ]
    }
   ],
   "source": [
    "# control_dict = Control(work_dir = work_dir).run_all()\n",
    "ribasim_param.write_ribasim_model_GoodCloud(ribasim_model = ribasim_model, \n",
    "                                            path_ribasim_toml = path_ribasim_toml,\n",
    "                                            waterschap = waterschap, \n",
    "                                            modeltype = 'boezemmodel',\n",
    "                                            include_results = True)\n"
   ]
  },
  {
   "cell_type": "markdown",
   "metadata": {},
   "source": [
    "## Open Output"
   ]
  },
  {
   "cell_type": "code",
   "execution_count": null,
   "metadata": {},
   "outputs": [],
   "source": [
    "df_basin = pd.read_feather(os.path.join(output_dir, 'basin.arrow'))\n",
    "df_basin"
   ]
  },
  {
   "cell_type": "code",
   "execution_count": null,
   "metadata": {},
   "outputs": [],
   "source": []
  }
 ],
 "metadata": {
  "kernelspec": {
   "display_name": "Python [conda env:ribasim]",
   "language": "python",
   "name": "conda-env-ribasim-py"
  },
  "language_info": {
   "codemirror_mode": {
    "name": "ipython",
    "version": 3
   },
   "file_extension": ".py",
   "mimetype": "text/x-python",
   "name": "python",
   "nbconvert_exporter": "python",
   "pygments_lexer": "ipython3",
   "version": "3.10.13"
  }
 },
 "nbformat": 4,
 "nbformat_minor": 4
}
