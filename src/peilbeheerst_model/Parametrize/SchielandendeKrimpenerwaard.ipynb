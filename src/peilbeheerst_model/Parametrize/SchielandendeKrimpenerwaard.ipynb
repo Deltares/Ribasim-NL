{
 "cells": [
  {
   "cell_type": "code",
   "execution_count": null,
   "metadata": {},
   "outputs": [],
   "source": [
    "import datetime\n",
    "import pathlib\n",
    "import warnings\n",
    "\n",
    "import load_ribasim  # noqa: F401\n",
    "import pandas as pd\n",
    "import ribasim\n",
    "import ribasim.nodes\n",
    "from ribasim import Node\n",
    "from ribasim.nodes import level_boundary, pump, tabulated_rating_curve\n",
    "from shapely import Point\n",
    "\n",
    "import peilbeheerst_model.ribasim_parametrization as ribasim_param\n",
    "from peilbeheerst_model.add_storage_basins import AddStorageBasins\n",
    "from peilbeheerst_model.controle_output import Control\n",
    "from peilbeheerst_model.ribasim_feedback_processor import RibasimFeedbackProcessor\n",
    "\n",
    "%reload_ext autoreload\n",
    "%autoreload 2\n",
    "warnings.filterwarnings(\"ignore\")"
   ]
  },
  {
   "cell_type": "markdown",
   "metadata": {},
   "source": [
    "## Define variables and model"
   ]
  },
  {
   "cell_type": "markdown",
   "metadata": {},
   "source": [
    "#### Set Config"
   ]
  },
  {
   "cell_type": "code",
   "execution_count": null,
   "metadata": {},
   "outputs": [],
   "source": [
    "waterschap = \"SchielandendeKrimpenerwaard\"\n",
    "work_dir = pathlib.Path(f\"../../../../../Ribasim_updated_models/{waterschap}/modellen/{waterschap}_parametrized\")\n",
    "ribasim_gpkg = work_dir.joinpath(\"database.gpkg\")\n",
    "path_ribasim_toml = work_dir.joinpath(\"ribasim.toml\")\n",
    "output_dir = work_dir.joinpath(\"results\")\n",
    "\n",
    "# Basin area percentage\n",
    "regular_percentage = 10\n",
    "boezem_percentage = 90\n",
    "unknown_streefpeil = (\n",
    "    0.00012345  # we need a streefpeil to create the profiles, Q(h)-relations, and af- and aanslag peil for pumps\n",
    ")\n",
    "\n",
    "# Forcing settings\n",
    "start_time = \"2024-01-01\"\n",
    "timestep_size = \"d\"\n",
    "timesteps = 2\n",
    "delta_crest_level = 0.1  # delta waterlevel of boezem compared to streefpeil till no water can flow through an outlet\n",
    "\n",
    "default_level = 0.75  # default LevelBoundary level, similar to surrounding Maas"
   ]
  },
  {
   "cell_type": "markdown",
   "metadata": {},
   "source": [
    "## Process the feedback form"
   ]
  },
  {
   "cell_type": "code",
   "execution_count": null,
   "metadata": {},
   "outputs": [],
   "source": [
    "name = \"Ron Bruijns (HKV)\"\n",
    "versie = \"2024_12_1\"\n",
    "\n",
    "feedback_excel = pathlib.Path(f\"../../../../../Ribasim_feedback/V1_formulieren/feedback_formulier_{waterschap}.xlsx\")\n",
    "feedback_excel_processed = (\n",
    "    f\"../../../../..//Ribasim_feedback/V1_formulieren_verwerkt/feedback_formulier_{waterschap}_JA_processed.xlsx\"\n",
    ")\n",
    "\n",
    "ribasim_toml = f\"../../../../../Ribasim_base_models/{waterschap}_boezemmodel_{versie}/ribasim.toml\"\n",
    "output_folder = work_dir  # f\"../../../../../Ribasim_updated_models/{waterschap}\"\n",
    "\n",
    "processor = RibasimFeedbackProcessor(\n",
    "    name, waterschap, versie, feedback_excel, ribasim_toml, output_folder, feedback_excel_processed, use_validation=True\n",
    ")\n",
    "processor.run()"
   ]
  },
  {
   "cell_type": "markdown",
   "metadata": {},
   "source": [
    "#### Load model"
   ]
  },
  {
   "cell_type": "code",
   "execution_count": null,
   "metadata": {},
   "outputs": [],
   "source": [
    "# Load Ribasim model\n",
    "with warnings.catch_warnings():\n",
    "    warnings.simplefilter(action=\"ignore\", category=FutureWarning)\n",
    "    ribasim_model = ribasim.Model(filepath=path_ribasim_toml)"
   ]
  },
  {
   "cell_type": "code",
   "execution_count": null,
   "metadata": {},
   "outputs": [],
   "source": [
    "ribasim_model.pump.node.df.loc[ribasim_model.pump.node.df.index == 659]"
   ]
  },
  {
   "cell_type": "code",
   "execution_count": null,
   "metadata": {},
   "outputs": [],
   "source": [
    "ribasim_model.tabulated_rating_curve.node.df.loc[ribasim_model.tabulated_rating_curve.node.df.index == 659]"
   ]
  },
  {
   "cell_type": "code",
   "execution_count": null,
   "metadata": {},
   "outputs": [],
   "source": []
  },
  {
   "cell_type": "code",
   "execution_count": null,
   "metadata": {},
   "outputs": [],
   "source": []
  },
  {
   "cell_type": "markdown",
   "metadata": {},
   "source": [
    "# Parameterization"
   ]
  },
  {
   "cell_type": "markdown",
   "metadata": {},
   "source": [
    "## Nodes"
   ]
  },
  {
   "cell_type": "markdown",
   "metadata": {},
   "source": [
    "### Basin (characteristics)"
   ]
  },
  {
   "cell_type": "code",
   "execution_count": null,
   "metadata": {},
   "outputs": [],
   "source": [
    "ribasim_param.validate_basin_area(ribasim_model)"
   ]
  },
  {
   "cell_type": "code",
   "execution_count": null,
   "metadata": {},
   "outputs": [],
   "source": [
    "# remove the basins of above in the feedback form"
   ]
  },
  {
   "cell_type": "markdown",
   "metadata": {},
   "source": [
    "## Model specific tweaks"
   ]
  },
  {
   "cell_type": "code",
   "execution_count": null,
   "metadata": {},
   "outputs": [],
   "source": [
    "new_node_id = max(ribasim_model.edge.df.from_node_id.max(), ribasim_model.edge.df.to_node_id.max()) + 1"
   ]
  },
  {
   "cell_type": "code",
   "execution_count": null,
   "metadata": {},
   "outputs": [],
   "source": [
    "# change unknown streefpeilen to a default streefpeil\n",
    "ribasim_model.basin.area.df.loc[\n",
    "    ribasim_model.basin.area.df[\"meta_streefpeil\"] == \"Onbekend streefpeil\", \"meta_streefpeil\"\n",
    "] = str(unknown_streefpeil)\n",
    "ribasim_model.basin.area.df.loc[ribasim_model.basin.area.df[\"meta_streefpeil\"] == -9.999, \"meta_streefpeil\"] = str(\n",
    "    unknown_streefpeil\n",
    ")"
   ]
  },
  {
   "cell_type": "code",
   "execution_count": null,
   "metadata": {},
   "outputs": [],
   "source": [
    "assert not pd.isnull(ribasim_model.basin.area.df.meta_streefpeil).any()"
   ]
  },
  {
   "cell_type": "code",
   "execution_count": null,
   "metadata": {},
   "outputs": [],
   "source": [
    "# add the LevelBoundaries and Pumps\n",
    "# 1\n",
    "new_node_id = max(ribasim_model.edge.df.from_node_id.max(), ribasim_model.edge.df.to_node_id.max()) + 1\n",
    "level_boundary_node = ribasim_model.level_boundary.add(\n",
    "    Node(new_node_id, Point(89792, 437301)), [level_boundary.Static(level=[default_level])]\n",
    ")\n",
    "\n",
    "pump_node = ribasim_model.pump.add(Node(new_node_id + 1, Point(89992, 437341)), [pump.Static(flow_rate=[0.1])])\n",
    "\n",
    "ribasim_model.edge.add(ribasim_model.basin[116], pump_node)\n",
    "ribasim_model.edge.add(pump_node, level_boundary_node)\n",
    "\n",
    "# 2\n",
    "new_node_id = max(ribasim_model.edge.df.from_node_id.max(), ribasim_model.edge.df.to_node_id.max()) + 1\n",
    "level_boundary_node = ribasim_model.level_boundary.add(\n",
    "    Node(new_node_id, Point(92237, 435452)), [level_boundary.Static(level=[default_level])]\n",
    ")\n",
    "tabulated_rating_curve_node = ribasim_model.tabulated_rating_curve.add(\n",
    "    Node(new_node_id + 1, Point(92144, 435533)),\n",
    "    [tabulated_rating_curve.Static(level=[0.0, 0.1234], flow_rate=[0.0, 0.1234])],\n",
    ")\n",
    "ribasim_model.edge.add(level_boundary_node, tabulated_rating_curve_node)\n",
    "ribasim_model.edge.add(tabulated_rating_curve_node, ribasim_model.basin[110])\n",
    "\n",
    "# 3\n",
    "new_node_id = max(ribasim_model.edge.df.from_node_id.max(), ribasim_model.edge.df.to_node_id.max()) + 1\n",
    "level_boundary_node = ribasim_model.level_boundary.add(\n",
    "    Node(new_node_id, Point(95111, 436428)), [level_boundary.Static(level=[default_level])]\n",
    ")\n",
    "\n",
    "pump_node = ribasim_model.pump.add(Node(new_node_id + 1, Point(95431, 436488)), [pump.Static(flow_rate=[0.1])])\n",
    "\n",
    "ribasim_model.edge.add(ribasim_model.basin[157], pump_node)\n",
    "ribasim_model.edge.add(pump_node, level_boundary_node)\n",
    "\n",
    "# 4\n",
    "new_node_id = max(ribasim_model.edge.df.from_node_id.max(), ribasim_model.edge.df.to_node_id.max()) + 1\n",
    "level_boundary_node = ribasim_model.level_boundary.add(\n",
    "    Node(new_node_id, Point(95111, 436418)), [level_boundary.Static(level=[default_level])]\n",
    ")\n",
    "\n",
    "pump_node = ribasim_model.pump.add(Node(new_node_id + 1, Point(95736, 436211)), [pump.Static(flow_rate=[0.1])])\n",
    "\n",
    "ribasim_model.edge.add(ribasim_model.basin[143], pump_node)\n",
    "ribasim_model.edge.add(pump_node, level_boundary_node)\n",
    "\n",
    "# 5 not sure whether this one is correct. FF was not clear\n",
    "new_node_id = max(ribasim_model.edge.df.from_node_id.max(), ribasim_model.edge.df.to_node_id.max()) + 1\n",
    "level_boundary_node = ribasim_model.level_boundary.add(\n",
    "    Node(new_node_id, Point(94966, 437011)), [level_boundary.Static(level=[default_level])]\n",
    ")\n",
    "\n",
    "pump_node = ribasim_model.pump.add(Node(new_node_id + 1, Point(94966, 437011)), [pump.Static(flow_rate=[0.1])])\n",
    "\n",
    "ribasim_model.edge.add(ribasim_model.basin[25], pump_node)\n",
    "ribasim_model.edge.add(pump_node, level_boundary_node)\n",
    "\n",
    "# 6\n",
    "new_node_id = max(ribasim_model.edge.df.from_node_id.max(), ribasim_model.edge.df.to_node_id.max()) + 1\n",
    "level_boundary_node = ribasim_model.level_boundary.add(\n",
    "    Node(new_node_id, Point(92476, 435889)), [level_boundary.Static(level=[default_level])]\n",
    ")\n",
    "\n",
    "pump_node = ribasim_model.pump.add(Node(new_node_id + 1, Point(92334, 436428)), [pump.Static(flow_rate=[0.1])])\n",
    "\n",
    "ribasim_model.edge.add(ribasim_model.basin[142], pump_node)\n",
    "ribasim_model.edge.add(pump_node, level_boundary_node)\n",
    "\n",
    "# 7\n",
    "new_node_id = max(ribasim_model.edge.df.from_node_id.max(), ribasim_model.edge.df.to_node_id.max()) + 1\n",
    "level_boundary_node = ribasim_model.level_boundary.add(\n",
    "    Node(new_node_id, Point(104547, 443432)), [level_boundary.Static(level=[default_level])]\n",
    ")\n",
    "\n",
    "pump_node = ribasim_model.pump.add(Node(new_node_id + 1, Point(104485, 443506)), [pump.Static(flow_rate=[0.1])])\n",
    "\n",
    "ribasim_model.edge.add(ribasim_model.basin[19], pump_node)\n",
    "ribasim_model.edge.add(pump_node, level_boundary_node)\n",
    "\n",
    "# 7\n",
    "new_node_id = max(ribasim_model.edge.df.from_node_id.max(), ribasim_model.edge.df.to_node_id.max()) + 1\n",
    "level_boundary_node = ribasim_model.level_boundary.add(\n",
    "    Node(new_node_id, Point(104555, 443434)), [level_boundary.Static(level=[default_level])]\n",
    ")\n",
    "\n",
    "pump_node = ribasim_model.pump.add(Node(new_node_id + 1, Point(104527, 443455)), [pump.Static(flow_rate=[0.1])])\n",
    "\n",
    "ribasim_model.edge.add(ribasim_model.basin[2], pump_node)\n",
    "ribasim_model.edge.add(pump_node, level_boundary_node)\n",
    "\n",
    "# 8\n",
    "new_node_id = max(ribasim_model.edge.df.from_node_id.max(), ribasim_model.edge.df.to_node_id.max()) + 1\n",
    "level_boundary_node = ribasim_model.level_boundary.add(\n",
    "    Node(new_node_id, Point(102079, 438209)), [level_boundary.Static(level=[default_level])]\n",
    ")\n",
    "\n",
    "pump_node = ribasim_model.pump.add(Node(new_node_id + 1, Point(102230, 438082)), [pump.Static(flow_rate=[0.1])])\n",
    "\n",
    "ribasim_model.edge.add(ribasim_model.basin[29], pump_node)\n",
    "ribasim_model.edge.add(pump_node, level_boundary_node)\n",
    "\n",
    "# 9, added by RB as it is quiet clear a levelboundary is missing.\n",
    "new_node_id = max(ribasim_model.edge.df.from_node_id.max(), ribasim_model.edge.df.to_node_id.max()) + 1\n",
    "level_boundary_node = ribasim_model.level_boundary.add(\n",
    "    Node(new_node_id, Point(91451, 439245)), [level_boundary.Static(level=[default_level])]\n",
    ")\n",
    "tabulated_rating_curve_node = ribasim_model.tabulated_rating_curve.add(\n",
    "    Node(new_node_id + 1, Point(91514, 439286)),\n",
    "    [tabulated_rating_curve.Static(level=[0.0, 0.1234], flow_rate=[0.0, 0.1234])],\n",
    ")\n",
    "ribasim_model.edge.add(ribasim_model.basin[28], tabulated_rating_curve_node)\n",
    "ribasim_model.edge.add(tabulated_rating_curve_node, level_boundary_node)\n",
    "\n",
    "# 10. cooperation day 12 dec 2024: Erik suggested adding an additional pump which already exists, but this would prevent two entire basins interacting with eachother if only one basin would get a pump, while this pump discharges both basins\n",
    "new_node_id = max(ribasim_model.edge.df.from_node_id.max(), ribasim_model.edge.df.to_node_id.max()) + 1\n",
    "level_boundary_node = ribasim_model.level_boundary.add(\n",
    "    Node(new_node_id, Point(89786, 437309)), [level_boundary.Static(level=[default_level])]\n",
    ")\n",
    "\n",
    "pump_node = ribasim_model.pump.add(Node(new_node_id + 1, Point(89985, 437345)), [pump.Static(flow_rate=[0.1])])\n",
    "\n",
    "ribasim_model.edge.add(ribasim_model.basin[115], pump_node)\n",
    "ribasim_model.edge.add(pump_node, level_boundary_node)"
   ]
  },
  {
   "cell_type": "code",
   "execution_count": null,
   "metadata": {},
   "outputs": [],
   "source": [
    "ribasim_model.level_boundary.node.df.meta_node_id = ribasim_model.level_boundary.node.df.index\n",
    "ribasim_model.tabulated_rating_curve.node.df.meta_node_id = ribasim_model.tabulated_rating_curve.node.df.index\n",
    "ribasim_model.pump.node.df.meta_node_id = ribasim_model.pump.node.df.index"
   ]
  },
  {
   "cell_type": "markdown",
   "metadata": {},
   "source": [
    "## Implement standard profile and a storage basin"
   ]
  },
  {
   "cell_type": "code",
   "execution_count": null,
   "metadata": {},
   "outputs": [],
   "source": [
    "# Insert standard profiles to each basin. These are [depth_profiles] meter deep, defined from the streefpeil\n",
    "ribasim_param.insert_standard_profile(\n",
    "    ribasim_model,\n",
    "    unknown_streefpeil=unknown_streefpeil,\n",
    "    regular_percentage=regular_percentage,\n",
    "    boezem_percentage=boezem_percentage,\n",
    "    depth_profile=2,\n",
    ")"
   ]
  },
  {
   "cell_type": "code",
   "execution_count": null,
   "metadata": {},
   "outputs": [],
   "source": [
    "add_storage_basins = AddStorageBasins(\n",
    "    ribasim_model=ribasim_model, exclude_hoofdwater=True, additional_basins_to_exclude=[]\n",
    ")\n",
    "\n",
    "add_storage_basins.create_bergende_basins()"
   ]
  },
  {
   "cell_type": "markdown",
   "metadata": {},
   "source": [
    "### Basin (forcing)"
   ]
  },
  {
   "cell_type": "code",
   "execution_count": null,
   "metadata": {},
   "outputs": [],
   "source": [
    "# Set static forcing\n",
    "forcing_dict = {\n",
    "    \"precipitation\": ribasim_param.convert_mm_day_to_m_sec(10 * 2),\n",
    "    \"potential_evaporation\": ribasim_param.convert_mm_day_to_m_sec(0),\n",
    "    \"drainage\": ribasim_param.convert_mm_day_to_m_sec(0),\n",
    "    \"infiltration\": ribasim_param.convert_mm_day_to_m_sec(0),\n",
    "    # 'urban_runoff':          ribasim_param.convert_mm_day_to_m_sec(0),\n",
    "}\n",
    "\n",
    "ribasim_param.set_static_forcing(timesteps, timestep_size, start_time, forcing_dict, ribasim_model)"
   ]
  },
  {
   "cell_type": "markdown",
   "metadata": {},
   "source": [
    "### Pumps"
   ]
  },
  {
   "cell_type": "code",
   "execution_count": null,
   "metadata": {},
   "outputs": [],
   "source": [
    "# Set pump capacity for each pump\n",
    "ribasim_model.pump.static.df[\"flow_rate\"] = 0.16667  # 10 kuub per minuut"
   ]
  },
  {
   "cell_type": "markdown",
   "metadata": {},
   "source": [
    "### Convert all boundary nodes to LevelBoundaries"
   ]
  },
  {
   "cell_type": "code",
   "execution_count": null,
   "metadata": {},
   "outputs": [],
   "source": [
    "ribasim_param.Terminals_to_LevelBoundaries(ribasim_model=ribasim_model, default_level=default_level)  # clean\n",
    "ribasim_param.FlowBoundaries_to_LevelBoundaries(ribasim_model=ribasim_model, default_level=default_level)\n",
    "\n",
    "# test for better afwatering\n",
    "ribasim_model.level_boundary.static.df.loc[ribasim_model.level_boundary.static.df.node_id == 728, \"level\"] = -1.3\n",
    "ribasim_model.edge.df.loc[ribasim_model.edge.df.to_node_id == 728, \"meta_categorie\"] = \"hoofdwater\"\n",
    "ribasim_model.edge.df.loc[ribasim_model.edge.df.to_node_id == 728, \"meta_to_node_type\"] = \"LevelBoundary\"\n",
    "\n",
    "# test for better afwatering\n",
    "ribasim_model.level_boundary.static.df.loc[ribasim_model.level_boundary.static.df.node_id == 638, \"level\"] = -0.1"
   ]
  },
  {
   "cell_type": "markdown",
   "metadata": {},
   "source": [
    "### Add Outlet"
   ]
  },
  {
   "cell_type": "code",
   "execution_count": null,
   "metadata": {},
   "outputs": [],
   "source": [
    "ribasim_param.add_outlets(ribasim_model, delta_crest_level=0.10)"
   ]
  },
  {
   "cell_type": "markdown",
   "metadata": {},
   "source": [
    "## Add control, based on the meta_categorie"
   ]
  },
  {
   "cell_type": "code",
   "execution_count": null,
   "metadata": {},
   "outputs": [],
   "source": [
    "ribasim_param.identify_node_meta_categorie(ribasim_model)"
   ]
  },
  {
   "cell_type": "code",
   "execution_count": null,
   "metadata": {},
   "outputs": [],
   "source": [
    "ribasim_param.find_upstream_downstream_target_levels(ribasim_model, node=\"outlet\")\n",
    "ribasim_param.find_upstream_downstream_target_levels(ribasim_model, node=\"pump\")"
   ]
  },
  {
   "cell_type": "code",
   "execution_count": null,
   "metadata": {},
   "outputs": [],
   "source": [
    "# ribasim_param.add_discrete_control(ribasim_model, waterschap, default_level)"
   ]
  },
  {
   "cell_type": "code",
   "execution_count": null,
   "metadata": {},
   "outputs": [],
   "source": [
    "ribasim_param.determine_min_upstream_max_downstream_levels(ribasim_model, waterschap)"
   ]
  },
  {
   "cell_type": "markdown",
   "metadata": {},
   "source": [
    "### Manning Resistance"
   ]
  },
  {
   "cell_type": "code",
   "execution_count": null,
   "metadata": {},
   "outputs": [],
   "source": [
    "# there is a MR without geometry and without edges for some reason\n",
    "ribasim_model.manning_resistance.node.df = ribasim_model.manning_resistance.node.df.dropna(subset=\"geometry\")"
   ]
  },
  {
   "cell_type": "code",
   "execution_count": null,
   "metadata": {},
   "outputs": [],
   "source": [
    "# lower the difference in waterlevel for each manning node\n",
    "ribasim_model.manning_resistance.static.df.length = 10\n",
    "ribasim_model.manning_resistance.static.df.manning_n = 0.01"
   ]
  },
  {
   "cell_type": "markdown",
   "metadata": {},
   "source": [
    "## Last formating of the tables"
   ]
  },
  {
   "cell_type": "code",
   "execution_count": null,
   "metadata": {},
   "outputs": [],
   "source": [
    "# only retain node_id's which are present in the .node table\n",
    "ribasim_param.clean_tables(ribasim_model, waterschap)"
   ]
  },
  {
   "cell_type": "markdown",
   "metadata": {},
   "source": [
    "# Set numerical settings"
   ]
  },
  {
   "cell_type": "code",
   "execution_count": null,
   "metadata": {},
   "outputs": [],
   "source": [
    "# Write model output\n",
    "ribasim_model.use_validation = True\n",
    "ribasim_model.starttime = datetime.datetime(2024, 1, 1)\n",
    "ribasim_model.endtime = datetime.datetime(2025, 1, 1)\n",
    "ribasim_model.solver.saveat = 3600\n",
    "ribasim_param.write_ribasim_model_Zdrive(ribasim_model, path_ribasim_toml)"
   ]
  },
  {
   "cell_type": "markdown",
   "metadata": {},
   "source": [
    "## Run Model"
   ]
  },
  {
   "cell_type": "code",
   "execution_count": null,
   "metadata": {},
   "outputs": [],
   "source": [
    "ribasim_param.tqdm_subprocess([\"ribasim\", path_ribasim_toml], print_other=False, suffix=\"init\")"
   ]
  },
  {
   "cell_type": "code",
   "execution_count": null,
   "metadata": {},
   "outputs": [],
   "source": [
    "controle_output = Control(work_dir=work_dir)\n",
    "indicators = controle_output.run_all()"
   ]
  },
  {
   "cell_type": "markdown",
   "metadata": {},
   "source": [
    "# Write model"
   ]
  },
  {
   "cell_type": "code",
   "execution_count": null,
   "metadata": {},
   "outputs": [],
   "source": [
    "# control_dict = Control(work_dir = work_dir).run_all()\n",
    "ribasim_param.write_ribasim_model_GoodCloud(\n",
    "    ribasim_model=ribasim_model,\n",
    "    path_ribasim_toml=path_ribasim_toml,\n",
    "    waterschap=waterschap,\n",
    "    modeltype=\"boezemmodel\",\n",
    "    include_results=True,\n",
    ")"
   ]
  },
  {
   "cell_type": "code",
   "execution_count": null,
   "metadata": {},
   "outputs": [],
   "source": []
  },
  {
   "cell_type": "code",
   "execution_count": null,
   "metadata": {},
   "outputs": [],
   "source": []
  }
 ],
 "metadata": {
  "kernelspec": {
   "display_name": "Python [conda env:ribasim]",
   "language": "python",
   "name": "conda-env-ribasim-py"
  },
  "language_info": {
   "codemirror_mode": {
    "name": "ipython",
    "version": 3
   },
   "file_extension": ".py",
   "mimetype": "text/x-python",
   "name": "python",
   "nbconvert_exporter": "python",
   "pygments_lexer": "ipython3",
   "version": "3.12.7"
  }
 },
 "nbformat": 4,
 "nbformat_minor": 4
}
