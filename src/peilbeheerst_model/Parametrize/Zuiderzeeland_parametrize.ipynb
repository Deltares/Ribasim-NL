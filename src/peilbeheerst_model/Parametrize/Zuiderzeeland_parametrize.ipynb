{
 "cells": [
  {
   "cell_type": "code",
   "execution_count": null,
   "metadata": {},
   "outputs": [],
   "source": [
    "import datetime\n",
    "import logging\n",
    "import os\n",
    "import pathlib\n",
    "import warnings\n",
    "\n",
    "import pandas as pd\n",
    "import peilbeheerst_model.ribasim_parametrization as ribasim_param\n",
    "import ribasim\n",
    "import ribasim.nodes\n",
    "from peilbeheerst_model.add_storage_basins import AddStorageBasin\n",
    "\n",
    "warnings.filterwarnings(\"ignore\")"
   ]
  },
  {
   "cell_type": "raw",
   "metadata": {},
   "source": [
    "\"\"\"\n",
    "Model Aannamens:\n",
    "- Max area van hydroobjecten is 10% van basin area, 90% bij boezem\n",
    "- Initial state op streefpeil\n",
    "- \n",
    "\"\"\""
   ]
  },
  {
   "cell_type": "markdown",
   "metadata": {},
   "source": [
    "## Define variables and model"
   ]
  },
  {
   "cell_type": "markdown",
   "metadata": {},
   "source": [
    "#### Set Config"
   ]
  },
  {
   "cell_type": "code",
   "execution_count": null,
   "metadata": {},
   "outputs": [],
   "source": [
    "# Set paths\n",
    "waterschap = \"Zuiderzeeland\"\n",
    "versie = \"2024_6_1\"\n",
    "\n",
    "work_dir = pathlib.Path(r\"../../../../../Ribasim_updated_models\", waterschap)\n",
    "ribasim_gpkg = work_dir.joinpath(\"database.gpkg\")\n",
    "path_ribasim_toml = work_dir.joinpath(\"ribasim.toml\")\n",
    "output_dir = work_dir.joinpath(\"results\")\n",
    "\n",
    "# Basin area percentage\n",
    "regular_percentage = 10\n",
    "boezem_percentage = 90\n",
    "unknown_streefpeil = (\n",
    "    0.00012345  # we need a streefpeil to create the profiles, Q(h)-relations, and af- and aanslag peil for pumps\n",
    ")\n",
    "\n",
    "# Forcing settings\n",
    "start_time = \"2024-01-01\"\n",
    "timestep_size = \"d\"\n",
    "timesteps = 2"
   ]
  },
  {
   "cell_type": "code",
   "execution_count": null,
   "metadata": {},
   "outputs": [],
   "source": [
    "path_ribasim_toml = r\"../../../../../Ribasim_base_models/Zuiderzeeland_boezemmodel_2024_6_1/ribasim.toml\""
   ]
  },
  {
   "cell_type": "markdown",
   "metadata": {},
   "source": [
    "# Let op: pas toml pad aan!"
   ]
  },
  {
   "cell_type": "markdown",
   "metadata": {},
   "source": [
    "zie hierboven!"
   ]
  },
  {
   "cell_type": "markdown",
   "metadata": {},
   "source": [
    "## Process the feedback form"
   ]
  },
  {
   "cell_type": "code",
   "execution_count": null,
   "metadata": {},
   "outputs": [],
   "source": [
    "# name = \"Ron Bruijns (HKV)\"\n",
    "\n",
    "# feedback_excel = pathlib.Path(r\"../../../../../Ribasim_feedback/V1_formulieren/feedback_formulier_\" + waterschap + \".xlsx\")\n",
    "# feedback_excel_processed = r\"../../../../..//Ribasim_feedback/V1_formulieren_verwerkt/feedback_formulier_\" + waterschap + \"_JA_processed.xlsx\"\n",
    "\n",
    "# ribasim_toml = pathlib.Path(r\"../../../../../Ribasim_base_models\", waterschap + '_boezemmodel_' + versie, 'ribasim.toml')\n",
    "# output_folder = work_dir #r\"../../../../../Ribasim_updated_models/AmstelGooienVecht\"\n",
    "\n",
    "# processor = RibasimFeedbackProcessor(name, waterschap, versie, feedback_excel, ribasim_toml, output_folder, feedback_excel_processed)\n",
    "# processor.run()"
   ]
  },
  {
   "cell_type": "markdown",
   "metadata": {},
   "source": [
    "#### Load model"
   ]
  },
  {
   "cell_type": "code",
   "execution_count": null,
   "metadata": {},
   "outputs": [],
   "source": [
    "# Load Ribasim model\n",
    "with warnings.catch_warnings():\n",
    "    warnings.simplefilter(action=\"ignore\", category=FutureWarning)\n",
    "    ribasim_model = ribasim.Model(filepath=path_ribasim_toml)"
   ]
  },
  {
   "cell_type": "markdown",
   "metadata": {},
   "source": [
    "## Model specific tweaks"
   ]
  },
  {
   "cell_type": "code",
   "execution_count": null,
   "metadata": {},
   "outputs": [],
   "source": [
    "assert not pd.isnull(ribasim_model.basin.area.df.meta_streefpeil).any()\n",
    "\n",
    "ribasim_model.basin.area.df.loc[\n",
    "    ribasim_model.basin.area.df[\"meta_streefpeil\"] == \"Onbekend streefpeil\", \"meta_streefpeil\"\n",
    "] = unknown_streefpeil\n",
    "\n",
    "ribasim_model.basin.area.df.loc[ribasim_model.basin.area.df[\"meta_streefpeil\"] == 9.999, \"meta_streefpeil\"] = (\n",
    "    unknown_streefpeil\n",
    ")"
   ]
  },
  {
   "cell_type": "markdown",
   "metadata": {},
   "source": [
    "# Parameterization"
   ]
  },
  {
   "cell_type": "markdown",
   "metadata": {},
   "source": [
    "## Nodes"
   ]
  },
  {
   "cell_type": "markdown",
   "metadata": {},
   "source": [
    "### Basin (characteristics)"
   ]
  },
  {
   "cell_type": "code",
   "execution_count": null,
   "metadata": {},
   "outputs": [],
   "source": [
    "# Define the initial state of each basin. Is set equal to the streefpeil\n",
    "# ribasim_param.set_initial_basin_state(ribasim_model) #the initial states of the basins are by default already set to the streefpeil!\n",
    "\n",
    "# Insert standard profiles to each basin. These are [depth_profiles] meter deep, defined from the streefpeil\n",
    "ribasim_param.insert_standard_profile(\n",
    "    ribasim_model, regular_percentage=regular_percentage, boezem_percentage=boezem_percentage, depth_profile=2\n",
    ")"
   ]
  },
  {
   "cell_type": "code",
   "execution_count": null,
   "metadata": {},
   "outputs": [],
   "source": [
    "# Add storage basins\n",
    "# model_name = 'AmstelGooienVecht_StorageBasins'\n",
    "# node_ids = [1, 2, 3]  # Specify node IDs to process or include_hoofdwater Boolean\n",
    "processor = AddStorageBasin(ribasim_toml, model_name, output_folder, include_hoofdwater=True, log=True, node_ids=None)\n",
    "ribasim_model = processor.run()\n",
    "\n",
    "# Check basin area\n",
    "ribasim_param.validate_basin_area(ribasim_model)"
   ]
  },
  {
   "cell_type": "markdown",
   "metadata": {},
   "source": [
    "### Basin (forcing)"
   ]
  },
  {
   "cell_type": "code",
   "execution_count": null,
   "metadata": {},
   "outputs": [],
   "source": [
    "# Set static forcing\n",
    "forcing_dict = {\n",
    "    \"precipitation\": ribasim_param.convert_mm_day_to_m_sec(5),\n",
    "    \"potential_evaporation\": ribasim_param.convert_mm_day_to_m_sec(0),\n",
    "    \"drainage\": ribasim_param.convert_mm_day_to_m_sec(0),\n",
    "    \"infiltration\": ribasim_param.convert_mm_day_to_m_sec(0),\n",
    "    \"urban_runoff\": ribasim_param.convert_mm_day_to_m_sec(0),\n",
    "}\n",
    "\n",
    "ribasim_param.set_static_forcing(timesteps, timestep_size, start_time, forcing_dict, ribasim_model)"
   ]
  },
  {
   "cell_type": "markdown",
   "metadata": {},
   "source": [
    "### Pumps"
   ]
  },
  {
   "cell_type": "code",
   "execution_count": null,
   "metadata": {},
   "outputs": [],
   "source": [
    "# Set pump capacity for each pump\n",
    "ribasim_model.pump.static.df[\"flow_rate\"] = 0.16667  # 10 kuub per minuut"
   ]
  },
  {
   "cell_type": "markdown",
   "metadata": {},
   "source": [
    "### FlowBoundary"
   ]
  },
  {
   "cell_type": "code",
   "execution_count": null,
   "metadata": {},
   "outputs": [],
   "source": [
    "# Set FlowBoundary rate for each pump\n",
    "ribasim_model.flow_boundary.static.df[\"flow_rate\"] = 0  #"
   ]
  },
  {
   "cell_type": "markdown",
   "metadata": {},
   "source": [
    "### Add Discrete Control"
   ]
  },
  {
   "cell_type": "code",
   "execution_count": null,
   "metadata": {},
   "outputs": [],
   "source": [
    "# Add discrete control nodes and control edges\n",
    "ribasim_param.add_discrete_control_nodes(ribasim_model)"
   ]
  },
  {
   "cell_type": "markdown",
   "metadata": {},
   "source": [
    "### TabulatedRatingCurve"
   ]
  },
  {
   "cell_type": "code",
   "execution_count": null,
   "metadata": {},
   "outputs": [],
   "source": [
    "# First, set the Q(h)-relationship to a relationship which is at each TRC node the same\n",
    "ribasim_param.set_tabulated_rating_curves(ribasim_model, level_increase=1.0, flow_rate=1)\n",
    "\n",
    "# The water level in the boezem is regulated heavily. There is a smaller tolerance for an increase in water level.\n",
    "# Hence, the TRC's which discharge water from the boezem to a Terminal should have a higher capacity.\n",
    "ribasim_param.set_tabulated_rating_curves_boundaries(ribasim_model, level_increase=0.10, flow_rate=40)"
   ]
  },
  {
   "cell_type": "markdown",
   "metadata": {},
   "source": [
    "# Set numerical settings"
   ]
  },
  {
   "cell_type": "code",
   "execution_count": null,
   "metadata": {},
   "outputs": [],
   "source": [
    "# Write model output\n",
    "ribasim_param.index_reset(ribasim_model)\n",
    "ribasim_model.starttime = datetime.datetime(2024, 1, 1)\n",
    "ribasim_model.endtime = datetime.datetime(2024, 1, 5)\n",
    "ribasim_model.solver.saveat = 3600\n",
    "ribasim_param.write_ribasim_model_Zdrive(ribasim_model, path_ribasim_toml)"
   ]
  },
  {
   "cell_type": "markdown",
   "metadata": {},
   "source": [
    "## Run Model"
   ]
  },
  {
   "cell_type": "markdown",
   "metadata": {},
   "source": [
    "## Iterate over tabulated rating curves"
   ]
  },
  {
   "cell_type": "code",
   "execution_count": null,
   "metadata": {},
   "outputs": [],
   "source": [
    "try:\n",
    "    ribasim_param.iterate_TRC(\n",
    "        ribasim_param=ribasim_param,\n",
    "        allowed_tolerance=0.02,\n",
    "        max_iter=1,\n",
    "        expected_difference=0.1,\n",
    "        max_adjustment=0.25,\n",
    "        cmd=[\"ribasim\", path_ribasim_toml],\n",
    "        output_dir=output_dir,\n",
    "        path_ribasim_toml=path_ribasim_toml,\n",
    "    )\n",
    "\n",
    "except Exception:\n",
    "    logging.error(\"The model was not able to run. Log file:\")\n",
    "    log_file_path = os.path.join(output_dir, \"ribasim.log\")\n",
    "    try:\n",
    "        with open(log_file_path) as log_file:\n",
    "            log_content = log_file.read()\n",
    "            print(log_content)\n",
    "    except Exception as log_exception:\n",
    "        logging.error(f\"Could not read the log file: {log_exception}\")"
   ]
  },
  {
   "cell_type": "markdown",
   "metadata": {},
   "source": [
    "# Write model"
   ]
  },
  {
   "cell_type": "code",
   "execution_count": null,
   "metadata": {},
   "outputs": [],
   "source": [
    "# control_dict = Control(work_dir = work_dir).run_all()\n",
    "ribasim_param.write_ribasim_model_GoodCloud(\n",
    "    ribasim_model=ribasim_model,\n",
    "    path_ribasim_toml=path_ribasim_toml,\n",
    "    waterschap=waterschap,\n",
    "    modeltype=\"boezemmodel\",\n",
    "    include_results=True,\n",
    ")"
   ]
  },
  {
   "cell_type": "markdown",
   "metadata": {},
   "source": [
    "## Open Output"
   ]
  },
  {
   "cell_type": "code",
   "execution_count": null,
   "metadata": {},
   "outputs": [],
   "source": [
    "df_basin = pd.read_feather(os.path.join(output_dir, \"basin.arrow\"))\n",
    "df_basin"
   ]
  },
  {
   "cell_type": "code",
   "execution_count": null,
   "metadata": {},
   "outputs": [],
   "source": []
  }
 ],
 "metadata": {
  "kernelspec": {
   "display_name": "Python [conda env:ribasim]",
   "language": "python",
   "name": "conda-env-ribasim-py"
  },
  "language_info": {
   "codemirror_mode": {
    "name": "ipython",
    "version": 3
   },
   "file_extension": ".py",
   "mimetype": "text/x-python",
   "name": "python",
   "nbconvert_exporter": "python",
   "pygments_lexer": "ipython3",
   "version": "3.10.13"
  }
 },
 "nbformat": 4,
 "nbformat_minor": 4
}
