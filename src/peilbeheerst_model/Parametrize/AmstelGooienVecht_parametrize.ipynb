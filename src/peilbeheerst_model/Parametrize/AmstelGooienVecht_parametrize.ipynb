{
 "cells": [
  {
   "cell_type": "code",
   "execution_count": 7,
   "metadata": {},
   "outputs": [],
   "source": [
    "import os\n",
    "import subprocess\n",
    "import sys\n",
    "import ribasim\n",
    "import ribasim.nodes\n",
    "import toml\n",
    "import tomli\n",
    "import numpy as np\n",
    "import pandas as pd\n",
    "import pathlib\n",
    "import tqdm.auto as tqdm\n",
    "import warnings\n",
    "import datetime\n",
    "from pathlib import Path\n",
    "import logging\n",
    "\n",
    "from shapely.geometry import Point\n",
    "\n",
    "#load ribasim_nl\n",
    "module_path = Path.cwd() / '../../ribasim_nl/'\n",
    "sys.path.append(str(module_path))\n",
    "from ribasim_nl import CloudStorage\n",
    "\n",
    "current_dir = os.getcwd()\n",
    "parent_dir = os.path.dirname(current_dir)\n",
    "if parent_dir not in sys.path:\n",
    "    sys.path.append(parent_dir)\n",
    "\n",
    "%reload_ext autoreload\n",
    "%autoreload 2\n",
    "warnings.filterwarnings('ignore')\n",
    "    \n",
    "import peilbeheerst_model.ribasim_parametrization as ribasim_param\n",
    "\n",
    "from peilbeheerst_model.ribasim_feedback_processor import RibasimFeedbackProcessor\n",
    "from peilbeheerst_model.add_storage_basins import AddStorageBasin\n",
    "from peilbeheerst_model.controle_output import *\n",
    "from ribasim import Solver\n",
    "\n",
    "from ribasim import Allocation, Model, Node\n",
    "from ribasim.nodes import (\n",
    "    basin,\n",
    "    discrete_control,\n",
    "    flow_boundary,\n",
    "    fractional_flow,\n",
    "    level_boundary,\n",
    "    level_demand,\n",
    "    linear_resistance,\n",
    "    manning_resistance,\n",
    "    outlet,\n",
    "    pid_control,\n",
    "    pump,\n",
    "    tabulated_rating_curve,\n",
    "    user_demand,\n",
    ")"
   ]
  },
  {
   "cell_type": "raw",
   "metadata": {},
   "source": [
    "\"\"\"\n",
    "Model Aannamens:\n",
    "- Max area van hydroobjecten is 10% van basin area, 90% bij boezem\n",
    "- Initial state op streefpeil\n",
    "\"\"\""
   ]
  },
  {
   "cell_type": "markdown",
   "metadata": {},
   "source": [
    "## Define variables and model"
   ]
  },
  {
   "cell_type": "markdown",
   "metadata": {},
   "source": [
    "#### Set Config"
   ]
  },
  {
   "cell_type": "code",
   "execution_count": 12,
   "metadata": {},
   "outputs": [],
   "source": [
    "# Set paths\n",
    "work_dir = pathlib.Path(\"../../../../../Ribasim_networks/Waterschappen/AmstelGooienVecht/modellen/AmstelGooienVecht_boezemmodel\")\n",
    "# work_dir = pathlib.Path(r\"../../../../../Ribasim_updated_models/AmstelGooienVecht\")\n",
    "ribasim_gpkg = work_dir.joinpath(\"database.gpkg\")\n",
    "path_ribasim_toml = work_dir.joinpath(\"ribasim.toml\")\n",
    "output_dir = work_dir.joinpath(\"results\")\n",
    "\n",
    "# Basin area percentage\n",
    "regular_percentage = 10\n",
    "boezem_percentage = 90\n",
    "unknown_streefpeil = 0.00012345 #we need a streefpeil to create the profiles, Q(h)-relations, and af- and aanslag peil for pumps\n",
    "\n",
    "# Forcing settings\n",
    "start_time = \"2024-01-01\"\n",
    "timestep_size = 'd'\n",
    "timesteps = 2\n",
    "delta_crest_level = 0.1 #delta waterlevel of boezem compared to streefpeil till no water can flow through an outlet \n",
    "\n",
    "default_level = 0 #default LevelBoundary level"
   ]
  },
  {
   "cell_type": "markdown",
   "metadata": {},
   "source": [
    "## Process the feedback form"
   ]
  },
  {
   "cell_type": "code",
   "execution_count": 9,
   "metadata": {
    "scrolled": true
   },
   "outputs": [
    {
     "name": "stdout",
     "output_type": "stream",
     "text": [
      "16 18\n",
      "Processed all actions\n"
     ]
    }
   ],
   "source": [
    "name = \"Ron Bruijns (HKV)\"\n",
    "waterschap = \"AmstelGooienVecht\"\n",
    "versie = \"2024_7_11\"\n",
    "\n",
    "feedback_excel = pathlib.Path(r\"../../../../../Ribasim_feedback/V1_formulieren/feedback_formulier_AmstelGooienVecht.xlsx\")\n",
    "feedback_excel_processed = r\"../../../../..//Ribasim_feedback/V1_formulieren_verwerkt/feedback_formulier_AmstelGooienVecht_JA_processed.xlsx\"\n",
    "\n",
    "ribasim_toml = f\"../../../../../Ribasim_base_models/AmstelGooienVecht_boezemmodel_{versie}/ribasim.toml\"\n",
    "output_folder = work_dir #r\"../../../../../Ribasim_updated_models/AmstelGooienVecht\"\n",
    "\n",
    "processor = RibasimFeedbackProcessor(name, waterschap, versie, feedback_excel, ribasim_toml, output_folder, feedback_excel_processed)\n",
    "processor.run()"
   ]
  },
  {
   "cell_type": "markdown",
   "metadata": {},
   "source": [
    "#### Load model"
   ]
  },
  {
   "cell_type": "code",
   "execution_count": 13,
   "metadata": {},
   "outputs": [],
   "source": [
    "# Load Ribasim model\n",
    "with warnings.catch_warnings():\n",
    "    warnings.simplefilter(action='ignore', category=FutureWarning)\n",
    "    ribasim_model = ribasim.Model(filepath=path_ribasim_toml)"
   ]
  },
  {
   "cell_type": "markdown",
   "metadata": {},
   "source": [
    "## Model specific tweaks"
   ]
  },
  {
   "cell_type": "code",
   "execution_count": 14,
   "metadata": {},
   "outputs": [],
   "source": [
    "new_node_id = max(ribasim_model.edge.df.from_node_id.max(), ribasim_model.edge.df.to_node_id.max()) + 1"
   ]
  },
  {
   "cell_type": "code",
   "execution_count": 17,
   "metadata": {},
   "outputs": [
    {
     "ename": "IndexError",
     "evalue": "Node does not contain node_id: [915]",
     "output_type": "error",
     "traceback": [
      "\u001b[0;31m---------------------------------------------------------------------------\u001b[0m",
      "\u001b[0;31mIndexError\u001b[0m                                Traceback (most recent call last)",
      "Cell \u001b[0;32mIn[17], line 13\u001b[0m\n\u001b[1;32m      1\u001b[0m \u001b[38;5;66;03m# # #add nodes for a correct schematisation\u001b[39;00m\n\u001b[1;32m      2\u001b[0m \n\u001b[1;32m      3\u001b[0m \u001b[38;5;66;03m# #line 26\u001b[39;00m\n\u001b[0;32m   (...)\u001b[0m\n\u001b[1;32m     10\u001b[0m \n\u001b[1;32m     11\u001b[0m \u001b[38;5;66;03m#for some reason a few edges are removed to the ARK\u001b[39;00m\n\u001b[1;32m     12\u001b[0m ribasim_model\u001b[38;5;241m.\u001b[39medge\u001b[38;5;241m.\u001b[39madd(ribasim_model\u001b[38;5;241m.\u001b[39mbasin[\u001b[38;5;241m68\u001b[39m],ribasim_model\u001b[38;5;241m.\u001b[39mpump[\u001b[38;5;241m316\u001b[39m])\n\u001b[0;32m---> 13\u001b[0m ribasim_model\u001b[38;5;241m.\u001b[39medge\u001b[38;5;241m.\u001b[39madd(ribasim_model\u001b[38;5;241m.\u001b[39mpump[\u001b[38;5;241m316\u001b[39m], \u001b[43mribasim_model\u001b[49m\u001b[38;5;241;43m.\u001b[39;49m\u001b[43mterminal\u001b[49m\u001b[43m[\u001b[49m\u001b[38;5;241;43m915\u001b[39;49m\u001b[43m]\u001b[49m)\n",
      "File \u001b[0;32m/opt/tljh/user/envs/ribasim/lib/python3.10/site-packages/ribasim/config.py:164\u001b[0m, in \u001b[0;36mMultiNodeModel.__getitem__\u001b[0;34m(self, index)\u001b[0m\n\u001b[1;32m    159\u001b[0m     indextype \u001b[38;5;241m=\u001b[39m \u001b[38;5;28mtype\u001b[39m(index)\u001b[38;5;241m.\u001b[39m\u001b[38;5;18m__name__\u001b[39m\n\u001b[1;32m    160\u001b[0m     \u001b[38;5;28;01mraise\u001b[39;00m \u001b[38;5;167;01mTypeError\u001b[39;00m(\n\u001b[1;32m    161\u001b[0m         \u001b[38;5;124mf\u001b[39m\u001b[38;5;124m\"\u001b[39m\u001b[38;5;132;01m{\u001b[39;00mnode_model_name\u001b[38;5;132;01m}\u001b[39;00m\u001b[38;5;124m index must be an integer, not \u001b[39m\u001b[38;5;132;01m{\u001b[39;00mindextype\u001b[38;5;132;01m}\u001b[39;00m\u001b[38;5;124m\"\u001b[39m\n\u001b[1;32m    162\u001b[0m     )\n\u001b[0;32m--> 164\u001b[0m row \u001b[38;5;241m=\u001b[39m \u001b[38;5;28;43mself\u001b[39;49m\u001b[38;5;241;43m.\u001b[39;49m\u001b[43mnode\u001b[49m\u001b[43m[\u001b[49m\u001b[43mindex\u001b[49m\u001b[43m]\u001b[49m\u001b[38;5;241m.\u001b[39miloc[\u001b[38;5;241m0\u001b[39m]\n\u001b[1;32m    165\u001b[0m \u001b[38;5;28;01mreturn\u001b[39;00m NodeData(\n\u001b[1;32m    166\u001b[0m     node_id\u001b[38;5;241m=\u001b[39m\u001b[38;5;28mint\u001b[39m(index), node_type\u001b[38;5;241m=\u001b[39mrow[\u001b[38;5;124m\"\u001b[39m\u001b[38;5;124mnode_type\u001b[39m\u001b[38;5;124m\"\u001b[39m], geometry\u001b[38;5;241m=\u001b[39mrow[\u001b[38;5;124m\"\u001b[39m\u001b[38;5;124mgeometry\u001b[39m\u001b[38;5;124m\"\u001b[39m]\n\u001b[1;32m    167\u001b[0m )\n",
      "File \u001b[0;32m/opt/tljh/user/envs/ribasim/lib/python3.10/site-packages/ribasim/input_base.py:335\u001b[0m, in \u001b[0;36mTableModel.__getitem__\u001b[0;34m(self, index)\u001b[0m\n\u001b[1;32m    333\u001b[0m missing \u001b[38;5;241m=\u001b[39m np\u001b[38;5;241m.\u001b[39msetdiff1d(np_index, \u001b[38;5;28mself\u001b[39m\u001b[38;5;241m.\u001b[39mdf[\u001b[38;5;124m\"\u001b[39m\u001b[38;5;124mnode_id\u001b[39m\u001b[38;5;124m\"\u001b[39m]\u001b[38;5;241m.\u001b[39munique())\n\u001b[1;32m    334\u001b[0m \u001b[38;5;28;01mif\u001b[39;00m missing\u001b[38;5;241m.\u001b[39msize \u001b[38;5;241m>\u001b[39m \u001b[38;5;241m0\u001b[39m:\n\u001b[0;32m--> 335\u001b[0m     \u001b[38;5;28;01mraise\u001b[39;00m \u001b[38;5;167;01mIndexError\u001b[39;00m(\u001b[38;5;124mf\u001b[39m\u001b[38;5;124m\"\u001b[39m\u001b[38;5;132;01m{\u001b[39;00mtablename\u001b[38;5;132;01m}\u001b[39;00m\u001b[38;5;124m does not contain node_id: \u001b[39m\u001b[38;5;132;01m{\u001b[39;00mmissing\u001b[38;5;132;01m}\u001b[39;00m\u001b[38;5;124m\"\u001b[39m)\n\u001b[1;32m    337\u001b[0m \u001b[38;5;66;03m# Index with .loc[..., :] to always return a DataFrame.\u001b[39;00m\n\u001b[1;32m    338\u001b[0m \u001b[38;5;28;01mreturn\u001b[39;00m \u001b[38;5;28mself\u001b[39m\u001b[38;5;241m.\u001b[39mdf\u001b[38;5;241m.\u001b[39mloc[\u001b[38;5;28mself\u001b[39m\u001b[38;5;241m.\u001b[39mdf[\u001b[38;5;124m\"\u001b[39m\u001b[38;5;124mnode_id\u001b[39m\u001b[38;5;124m\"\u001b[39m]\u001b[38;5;241m.\u001b[39misin(np_index), :]\n",
      "\u001b[0;31mIndexError\u001b[0m: Node does not contain node_id: [915]"
     ]
    }
   ],
   "source": [
    "# # #add nodes for a correct schematisation\n",
    "\n",
    "# #line 26\n",
    "# ribasim_model.tabulated_rating_curve.add(\n",
    "#     Node(new_node_id, Point(129099, 468239)),\n",
    "#     [tabulated_rating_curve.Static(level=[0.0, 1.0], flow_rate=[0.0, 10])])\n",
    "\n",
    "# ribasim_model.edge.add(ribasim_model.level_boundary[91180],ribasim_model.tabulated_rating_curve[new_node_id])\n",
    "# ribasim_model.edge.add(ribasim_model.tabulated_rating_curve[new_node_id], ribasim_model.level_boundary[59])\n",
    "\n",
    "#for some reason a few edges are removed to the ARK\n",
    "ribasim_model.edge.add(ribasim_model.basin[68],ribasim_model.pump[316])\n",
    "ribasim_model.edge.add(ribasim_model.pump[316], ribasim_model.terminal[915])\n"
   ]
  },
  {
   "cell_type": "code",
   "execution_count": 18,
   "metadata": {},
   "outputs": [],
   "source": [
    "# Amstel Gooi en Vecht\n",
    "ribasim_model.basin.area.df.loc[ribasim_model.basin.area.df['node_id'] == 184, 'meta_streefpeil'] = -0.4\n",
    "ribasim_model.basin.state.df.loc[ribasim_model.basin.state.df.node_id == 184, 'level'] = -0.4\n",
    "\n",
    "ribasim_model.basin.area.df.loc[ribasim_model.basin.area.df['node_id'] == 192, 'meta_streefpeil'] = -0.4\n",
    "ribasim_model.basin.state.df.loc[ribasim_model.basin.state.df.node_id == 192, 'level'] = -0.4\n",
    "\n",
    "assert not pd.isnull(ribasim_model.basin.area.df.meta_streefpeil).any()\n",
    "\n",
    "ribasim_model.basin.area.df.loc[ribasim_model.basin.area.df['meta_streefpeil'] == 'Onbekend streefpeil', 'meta_streefpeil'] = unknown_streefpeil\n",
    "\n",
    "ribasim_model.basin.area.df.loc[ribasim_model.basin.area.df['meta_streefpeil'] == 9.999, 'meta_streefpeil'] = unknown_streefpeil"
   ]
  },
  {
   "cell_type": "markdown",
   "metadata": {},
   "source": [
    "# Parameterization"
   ]
  },
  {
   "cell_type": "markdown",
   "metadata": {},
   "source": [
    "## Nodes"
   ]
  },
  {
   "cell_type": "markdown",
   "metadata": {},
   "source": [
    "### Basin (characteristics)"
   ]
  },
  {
   "cell_type": "code",
   "execution_count": 19,
   "metadata": {},
   "outputs": [],
   "source": [
    "# Define the initial state of each basin. Is set equal to the streefpeil\n",
    "# ribasim_param.set_initial_basin_state(ribasim_model) #the initial states of the basins are by default already set to the streefpeil!\n",
    "\n",
    "# Insert standard profiles to each basin. These are [depth_profiles] meter deep, defined from the streefpeil\n",
    "ribasim_param.insert_standard_profile(ribasim_model, \n",
    "                                      regular_percentage = regular_percentage, \n",
    "                                      boezem_percentage = boezem_percentage,\n",
    "                                      depth_profile = 2)"
   ]
  },
  {
   "cell_type": "code",
   "execution_count": 20,
   "metadata": {},
   "outputs": [
    {
     "name": "stdout",
     "output_type": "stream",
     "text": [
      "Basin with Node ID 187 has an area smaller than 100 m²: 0.0017139832034533953 m²\n"
     ]
    }
   ],
   "source": [
    "# Add storage basins\n",
    "model_name = 'AmstelGooienVecht_StorageBasins'\n",
    "# node_ids = [1, 2, 3]  # Specify node IDs to process or include_hoofdwater Boolean\n",
    "processor = AddStorageBasin(ribasim_toml, model_name, output_folder, include_hoofdwater=True, log=True, node_ids=None)\n",
    "ribasim_model = processor.run()\n",
    "\n",
    "# Check basin area\n",
    "ribasim_param.validate_basin_area(ribasim_model)"
   ]
  },
  {
   "cell_type": "markdown",
   "metadata": {},
   "source": [
    "### Basin (forcing)"
   ]
  },
  {
   "cell_type": "code",
   "execution_count": 21,
   "metadata": {},
   "outputs": [],
   "source": [
    "# Set static forcing\n",
    "forcing_dict = {'precipitation':         ribasim_param.convert_mm_day_to_m_sec(5),\n",
    "                'potential_evaporation': ribasim_param.convert_mm_day_to_m_sec(0),\n",
    "                'drainage':              ribasim_param.convert_mm_day_to_m_sec(0),\n",
    "                'infiltration':          ribasim_param.convert_mm_day_to_m_sec(0),\n",
    "                'urban_runoff':          ribasim_param.convert_mm_day_to_m_sec(0),\n",
    "                }\n",
    "\n",
    "ribasim_param.set_static_forcing(timesteps, timestep_size, start_time, forcing_dict, ribasim_model)\n"
   ]
  },
  {
   "cell_type": "markdown",
   "metadata": {},
   "source": [
    "### Pumps"
   ]
  },
  {
   "cell_type": "code",
   "execution_count": 22,
   "metadata": {},
   "outputs": [],
   "source": [
    "# Set pump capacity for each pump\n",
    "ribasim_model.pump.static.df['flow_rate'] = 0.16667 # 10 kuub per minuut"
   ]
  },
  {
   "cell_type": "markdown",
   "metadata": {},
   "source": [
    "### Convert all boundary nodes to LevelBoundaries"
   ]
  },
  {
   "cell_type": "code",
   "execution_count": 23,
   "metadata": {},
   "outputs": [],
   "source": [
    "ribasim_param.Terminals_to_LevelBoundaries(ribasim_model = ribasim_model,\n",
    "                                           default_level = default_level)\n",
    "\n",
    "ribasim_param.FlowBoundaries_to_LevelBoundaries(ribasim_model = ribasim_model,\n",
    "                                                default_level = default_level)\n"
   ]
  },
  {
   "cell_type": "markdown",
   "metadata": {},
   "source": [
    "### FlowBoundary"
   ]
  },
  {
   "cell_type": "code",
   "execution_count": 24,
   "metadata": {},
   "outputs": [],
   "source": [
    "# Set FlowBoundary rate for each pump\n",
    "# ribasim_model.flow_boundary.static.df['flow_rate'] = 0 #"
   ]
  },
  {
   "cell_type": "markdown",
   "metadata": {},
   "source": [
    "### Outlet"
   ]
  },
  {
   "cell_type": "code",
   "execution_count": 25,
   "metadata": {},
   "outputs": [],
   "source": [
    "ribasim_param.add_outlets(ribasim_model, delta_crest_level = 0.10)"
   ]
  },
  {
   "cell_type": "markdown",
   "metadata": {},
   "source": [
    "### Add Discrete Control"
   ]
  },
  {
   "cell_type": "code",
   "execution_count": 26,
   "metadata": {},
   "outputs": [],
   "source": [
    "# Add discrete control nodes and control edges\n",
    "ribasim_param.add_discrete_control_nodes(ribasim_model)"
   ]
  },
  {
   "cell_type": "markdown",
   "metadata": {},
   "source": [
    "### TabulatedRatingCurve"
   ]
  },
  {
   "cell_type": "code",
   "execution_count": 27,
   "metadata": {},
   "outputs": [],
   "source": [
    "# First, set the Q(h)-relationship to a relationship which is at each TRC node the same\n",
    "ribasim_param.set_tabulated_rating_curves(ribasim_model, level_increase=1.0, flow_rate=1)\n",
    "\n",
    "# The water level in the boezem is regulated heavily. There is a smaller tolerance for an increase in water level. \n",
    "# Hence, the TRC's which discharge water from the boezem to a Terminal should have a higher capacity.\n",
    "ribasim_param.set_tabulated_rating_curves_boundaries(ribasim_model, level_increase=0.10, flow_rate=40)\n"
   ]
  },
  {
   "cell_type": "code",
   "execution_count": 28,
   "metadata": {},
   "outputs": [],
   "source": [
    "# #Adjust some TRC's by manually\n",
    "# ribasim_model.tabulated_rating_curve.static.df.loc[ribasim_model.tabulated_rating_curve.static.df.node_id == 612, 'flow_rate'] = 0 #too small basin. This is a work around, so no water can flow in or out. Delete this basin later.\n",
    "# ribasim_model.tabulated_rating_curve.static.df.loc[ribasim_model.tabulated_rating_curve.static.df.node_id == 613, 'flow_rate'] = 0 #too small basin. This is a work around, so no water can flow in or out. Delete this basin later.\n"
   ]
  },
  {
   "cell_type": "markdown",
   "metadata": {},
   "source": [
    "# Set numerical settings"
   ]
  },
  {
   "cell_type": "code",
   "execution_count": 29,
   "metadata": {},
   "outputs": [],
   "source": [
    "# Write model output\n",
    "ribasim_param.index_reset(ribasim_model)\n",
    "ribasim_model.starttime = datetime.datetime(2024, 1, 1)\n",
    "ribasim_model.endtime = datetime.datetime(2024, 1, 1, 0, 0, 1)\n",
    "ribasim_model.solver.saveat = 3600\n",
    "ribasim_param.write_ribasim_model_Zdrive(ribasim_model, \n",
    "                                         path_ribasim_toml)"
   ]
  },
  {
   "cell_type": "markdown",
   "metadata": {},
   "source": [
    "## Run Model"
   ]
  },
  {
   "cell_type": "markdown",
   "metadata": {},
   "source": [
    "## Iterate over tabulated rating curves"
   ]
  },
  {
   "cell_type": "code",
   "execution_count": 30,
   "metadata": {},
   "outputs": [
    {
     "data": {
      "application/vnd.jupyter.widget-view+json": {
       "model_id": "fb10c80a56794a508c73a847a8532f66",
       "version_major": 2,
       "version_minor": 0
      },
      "text/plain": [
       "Simulating init:   0%|          | 0/100 [00:00<?, ?it/s]"
      ]
     },
     "metadata": {},
     "output_type": "display_data"
    },
    {
     "name": "stdout",
     "output_type": "stream",
     "text": [
      "┌ Info: Starting a Ribasim simulation.\n",
      "│   cli.ribasim_version = 2024.8.0\n",
      "│   starttime = 2024-01-01T00:00:00\n",
      "│   endtime = 2024-01-01T00:00:01\n",
      "└ @ Ribasim /opt/teamcityagent/work/ecd2b8f9b25b1609/ribasim/core/src/main.jl:39\n",
      "\n"
     ]
    }
   ],
   "source": [
    "try:\n",
    "    ribasim_param.iterate_TRC(ribasim_param = ribasim_param, \n",
    "                          allowed_tolerance = 0.02, \n",
    "                          max_iter = 1, \n",
    "                          expected_difference = 0.1, \n",
    "                          max_adjustment = 0.25, \n",
    "                          cmd = ['ribasim', path_ribasim_toml], \n",
    "                          output_dir = output_dir, \n",
    "                          path_ribasim_toml = path_ribasim_toml)\n",
    "\n",
    "except Exception as e:\n",
    "    logging.error(\"The model was not able to run. Log file:\")\n",
    "    log_file_path = os.path.join(output_dir, 'ribasim.log')  # Update with the correct path to your log file\n",
    "    try:\n",
    "        with open(log_file_path, 'r') as log_file:\n",
    "            log_content = log_file.read()\n",
    "            print(log_content)\n",
    "    except Exception as log_exception:\n",
    "        logging.error(f\"Could not read the log file: {log_exception}\")"
   ]
  },
  {
   "cell_type": "code",
   "execution_count": 17,
   "metadata": {},
   "outputs": [
    {
     "ename": "NameError",
     "evalue": "name 'stop' is not defined",
     "output_type": "error",
     "traceback": [
      "\u001b[0;31m---------------------------------------------------------------------------\u001b[0m",
      "\u001b[0;31mNameError\u001b[0m                                 Traceback (most recent call last)",
      "Cell \u001b[0;32mIn[17], line 1\u001b[0m\n\u001b[0;32m----> 1\u001b[0m \u001b[43mstop\u001b[49m\n",
      "\u001b[0;31mNameError\u001b[0m: name 'stop' is not defined"
     ]
    }
   ],
   "source": [
    "stop"
   ]
  },
  {
   "cell_type": "markdown",
   "metadata": {},
   "source": [
    "# Write model"
   ]
  },
  {
   "cell_type": "code",
   "execution_count": 31,
   "metadata": {},
   "outputs": [
    {
     "name": "stdout",
     "output_type": "stream",
     "text": [
      "The model of waterboard AmstelGooienVecht has been uploaded to the goodcloud in the directory of boezemmodel!\n"
     ]
    }
   ],
   "source": [
    "# control_dict = Control(work_dir = work_dir).run_all()\n",
    "ribasim_param.write_ribasim_model_GoodCloud(ribasim_model = ribasim_model, \n",
    "                                            path_ribasim_toml = path_ribasim_toml,\n",
    "                                            waterschap = 'AmstelGooienVecht', \n",
    "                                            modeltype = 'boezemmodel',\n",
    "                                            include_results = True)\n"
   ]
  },
  {
   "cell_type": "markdown",
   "metadata": {},
   "source": [
    "## Open Output"
   ]
  },
  {
   "cell_type": "code",
   "execution_count": null,
   "metadata": {},
   "outputs": [],
   "source": [
    "df_basin = pd.read_feather(os.path.join(output_dir, 'basin.arrow'))\n",
    "df_basin"
   ]
  },
  {
   "cell_type": "code",
   "execution_count": null,
   "metadata": {},
   "outputs": [],
   "source": []
  }
 ],
 "metadata": {
  "kernelspec": {
   "display_name": "Python [conda env:ribasim]",
   "language": "python",
   "name": "conda-env-ribasim-py"
  },
  "language_info": {
   "codemirror_mode": {
    "name": "ipython",
    "version": 3
   },
   "file_extension": ".py",
   "mimetype": "text/x-python",
   "name": "python",
   "nbconvert_exporter": "python",
   "pygments_lexer": "ipython3",
   "version": "3.10.13"
  }
 },
 "nbformat": 4,
 "nbformat_minor": 4
}
