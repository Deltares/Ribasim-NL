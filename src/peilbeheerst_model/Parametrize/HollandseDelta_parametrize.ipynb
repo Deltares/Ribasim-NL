{
 "cells": [
  {
   "cell_type": "code",
   "execution_count": 1,
   "metadata": {},
   "outputs": [],
   "source": [
    "import datetime\n",
    "import os\n",
    "import pathlib\n",
    "import warnings\n",
    "\n",
    "import load_ribasim  # noqa: F401\n",
    "import pandas as pd\n",
    "import ribasim\n",
    "import ribasim.nodes\n",
    "\n",
    "import peilbeheerst_model.ribasim_parametrization as ribasim_param\n",
    "from peilbeheerst_model.add_storage_basins import AddStorageBasins\n",
    "from peilbeheerst_model.controle_output import *\n",
    "from peilbeheerst_model.ribasim_feedback_processor import RibasimFeedbackProcessor\n",
    "from peilbeheerst_model.assign_authorities import AssignAuthorities\n",
    "\n",
    "from ribasim import Node\n",
    "from ribasim.nodes import pump, level_boundary\n",
    "from shapely import Point\n",
    "\n",
    "%reload_ext autoreload\n",
    "%autoreload 2\n",
    "warnings.filterwarnings(\"ignore\")"
   ]
  },
  {
   "cell_type": "markdown",
   "metadata": {},
   "source": [
    "## Define variables and model"
   ]
  },
  {
   "cell_type": "markdown",
   "metadata": {},
   "source": [
    "#### Set Config"
   ]
  },
  {
   "cell_type": "code",
   "execution_count": 2,
   "metadata": {},
   "outputs": [],
   "source": [
    "waterschap = \"HollandseDelta\"\n",
    "work_dir = pathlib.Path(f\"../../../../../Ribasim_updated_models/{waterschap}/modellen/{waterschap}_parametrized\")\n",
    "ribasim_gpkg = work_dir.joinpath(\"database.gpkg\")\n",
    "path_ribasim_toml = work_dir.joinpath(\"ribasim.toml\")\n",
    "output_dir = work_dir.joinpath(\"results\")\n",
    "\n",
    "# Basin area percentage\n",
    "regular_percentage = 10\n",
    "boezem_percentage = 90\n",
    "unknown_streefpeil = (\n",
    "    0.00012345  # we need a streefpeil to create the profiles, Q(h)-relations, and af- and aanslag peil for pumps\n",
    ")\n",
    "\n",
    "# Forcing settings\n",
    "start_time = \"2024-01-01\"\n",
    "timestep_size = \"d\"\n",
    "timesteps = 2\n",
    "delta_crest_level = 0.1  # delta waterlevel of boezem compared to streefpeil till no water can flow through an outlet\n",
    "\n",
    "default_level = -0.42  # default LevelBoundary level"
   ]
  },
  {
   "cell_type": "markdown",
   "metadata": {},
   "source": [
    "## Process the feedback form"
   ]
  },
  {
   "cell_type": "code",
   "execution_count": 3,
   "metadata": {},
   "outputs": [
    {
     "name": "stdout",
     "output_type": "stream",
     "text": [
      "Swapped edge direction between Node A: 675 and Node B: 2307\n",
      "Swapped edge direction between Node A: 2307 and Node B: 170\n",
      "Swapped edge direction between Node A: 135 and Node B: 1846\n",
      "Swapped edge direction between Node A: 1846 and Node B: 703\n",
      "Swapped edge direction between Node A: 2610 and Node B: 1319\n",
      "Swapped edge direction between Node A: 1319 and Node B: 361\n",
      "Swapped edge direction between Node A: 208 and Node B: 2515\n",
      "Swapped edge direction between Node A: 2515 and Node B: 234\n",
      "Swapped edge direction between Node A: 17 and Node B: 1590\n",
      "Swapped edge direction between Node A: 1590 and Node B: 298\n",
      "Swapped edge direction between Node A: 26 and Node B: 1849\n",
      "Swapped edge direction between Node A: 1849 and Node B: 2637\n",
      "Swapped edge direction between Node A: 2082 and Node B: 600\n",
      "Swapped edge direction between Node A: 20 and Node B: 2082\n",
      "Swapped edge direction between Node A: 2662 and Node B: 2191\n",
      "Swapped edge direction between Node A: 2191 and Node B: 409\n",
      "Swapped edge direction between Node A: 2695 and Node B: 1699\n",
      "Swapped edge direction between Node A: 1699 and Node B: 782\n",
      "Swapped edge direction between Node A: 2598 and Node B: 976\n",
      "Swapped edge direction between Node A: 976 and Node B: 2598\n",
      "Swapped edge direction between Node A: 2617 and Node B: 1454\n",
      "Swapped edge direction between Node A: 1454 and Node B: 426\n",
      "Swapped edge direction between Node A: 138 and Node B: 2377\n",
      "Swapped edge direction between Node A: 2377 and Node B: 2674\n",
      "Swapped edge direction between Node A: 2606 and Node B: 1244\n",
      "Swapped edge direction between Node A: 1244 and Node B: 316\n",
      "Swapped edge direction between Node A: 24 and Node B: 2335\n",
      "Swapped edge direction between Node A: 2335 and Node B: 2672\n",
      "Swapped edge direction between Node A: 174 and Node B: 1047\n",
      "Swapped edge direction between Node A: 1047 and Node B: 2599\n",
      "Swapped edge direction between Node A: 174 and Node B: 1070\n",
      "Swapped edge direction between Node A: 1070 and Node B: 2600\n",
      "Swapped edge direction between Node A: 103 and Node B: 2460\n",
      "Swapped edge direction between Node A: 2460 and Node B: 2680\n",
      "Swapped edge direction between Node A: 162 and Node B: 2226\n",
      "Swapped edge direction between Node A: 2226 and Node B: 2665\n",
      "Swapped edge direction between Node A: 2605 and Node B: 1231\n",
      "Swapped edge direction between Node A: 1231 and Node B: 70\n",
      "Swapped edge direction between Node A: 150 and Node B: 1897\n",
      "Swapped edge direction between Node A: 1897 and Node B: 2640\n",
      "Swapped edge direction between Node A: 45 and Node B: 1371\n",
      "Swapped edge direction between Node A: 1371 and Node B: 2613\n",
      "Swapped edge direction between Node A: 2703 and Node B: 2121\n",
      "Swapped edge direction between Node A: 2121 and Node B: 587\n",
      "Swapped edge direction between Node A: 2689 and Node B: 2584\n",
      "Swapped edge direction between Node A: 2584 and Node B: 60\n",
      "Swapped edge direction between Node A: 205 and Node B: 2514\n",
      "Swapped edge direction between Node A: 2514 and Node B: 2707\n",
      "Swapped edge direction between Node A: 1708 and Node B: 500\n",
      "Swapped edge direction between Node A: 332 and Node B: 1708\n",
      "Processed all actions\n",
      "The target levels (streefpeilen) have been updated.\n",
      "The function of the pumps have been updated.\n"
     ]
    }
   ],
   "source": [
    "name = \"Ron Bruijns (HKV)\"\n",
    "versie = \"2024_12_3\"\n",
    "\n",
    "feedback_excel = pathlib.Path(f\"../../../../../Ribasim_feedback/V1_formulieren/feedback_formulier_{waterschap}.xlsx\")\n",
    "feedback_excel_processed = (\n",
    "    f\"../../../../..//Ribasim_feedback/V1_formulieren_verwerkt/feedback_formulier_{waterschap}_JA_processed.xlsx\"\n",
    ")\n",
    "\n",
    "ribasim_toml = f\"../../../../../Ribasim_base_models/{waterschap}_boezemmodel_{versie}/ribasim.toml\"\n",
    "output_folder = work_dir  # f\"../../../../../Ribasim_updated_models/{waterschap}\"\n",
    "\n",
    "processor = RibasimFeedbackProcessor(\n",
    "    name, waterschap, versie, feedback_excel, ribasim_toml, output_folder, feedback_excel_processed, use_validation=False\n",
    ")\n",
    "processor.run()"
   ]
  },
  {
   "cell_type": "markdown",
   "metadata": {},
   "source": [
    "#### Load model"
   ]
  },
  {
   "cell_type": "code",
   "execution_count": 4,
   "metadata": {},
   "outputs": [],
   "source": [
    "# Load Ribasim model\n",
    "with warnings.catch_warnings():\n",
    "    warnings.simplefilter(action=\"ignore\", category=FutureWarning)\n",
    "    ribasim_model = ribasim.Model(filepath=path_ribasim_toml)"
   ]
  },
  {
   "cell_type": "markdown",
   "metadata": {},
   "source": [
    "# Parameterization"
   ]
  },
  {
   "cell_type": "markdown",
   "metadata": {},
   "source": [
    "## Nodes"
   ]
  },
  {
   "cell_type": "markdown",
   "metadata": {},
   "source": [
    "### Basin (characteristics)"
   ]
  },
  {
   "cell_type": "code",
   "execution_count": 5,
   "metadata": {
    "scrolled": true
   },
   "outputs": [
    {
     "name": "stdout",
     "output_type": "stream",
     "text": [
      "All basins are larger than 100 m²\n"
     ]
    }
   ],
   "source": [
    "ribasim_param.validate_basin_area(ribasim_model)"
   ]
  },
  {
   "cell_type": "markdown",
   "metadata": {},
   "source": [
    "## Model specific tweaks"
   ]
  },
  {
   "cell_type": "code",
   "execution_count": 6,
   "metadata": {},
   "outputs": [],
   "source": [
    "# change unknown streefpeilen to a default streefpeil\n",
    "ribasim_model.basin.area.df.loc[\n",
    "    ribasim_model.basin.area.df[\"meta_streefpeil\"] == \"Onbekend streefpeil\", \"meta_streefpeil\"\n",
    "] = str(unknown_streefpeil)\n",
    "ribasim_model.basin.area.df.loc[ribasim_model.basin.area.df[\"meta_streefpeil\"] == -9.999, \"meta_streefpeil\"] = str(\n",
    "    unknown_streefpeil\n",
    ")\n",
    "\n",
    "#change high initial states to 0\n",
    "ribasim_model.basin.state.df.loc[ribasim_model.basin.state.df[\"level\"] == 9.999, \"level\"] = 0\n",
    "ribasim_model.basin.area.df.loc[ribasim_model.basin.area.df[\"meta_streefpeil\"] == 9.999, \"meta_streefpeil\"] = str(\n",
    "    unknown_streefpeil\n",
    ")\n"
   ]
  },
  {
   "cell_type": "code",
   "execution_count": 7,
   "metadata": {},
   "outputs": [],
   "source": [
    "new_node_id = max(ribasim_model.edge.df.from_node_id.max(), ribasim_model.edge.df.to_node_id.max()) + 1"
   ]
  },
  {
   "cell_type": "code",
   "execution_count": 8,
   "metadata": {},
   "outputs": [],
   "source": [
    "#an error occured in the feedback form, which prevented a LevelBoundary and pump being schematized. Add it here.\n",
    "new_node_id = max(ribasim_model.edge.df.from_node_id.max(), ribasim_model.edge.df.to_node_id.max()) + 1\n",
    "\n",
    "level_boundary_node = ribasim_model.level_boundary.add(Node(new_node_id, Point(55992, 424882)), [level_boundary.Static(level=[default_level])])\n",
    "\n",
    "pump_node = ribasim_model.pump.add(Node(new_node_id+1, Point(55982, 424908)), [pump.Static(flow_rate=[0.1])])\n",
    "\n",
    "ribasim_model.edge.add(ribasim_model.basin[675], pump_node)\n",
    "ribasim_model.edge.add(pump_node, level_boundary_node)\n",
    "\n",
    "#both an afvoer as well as aanvoer gemaal. Aanvoer gemaal already in model, add afvoer\n",
    "new_node_id = max(ribasim_model.edge.df.from_node_id.max(), ribasim_model.edge.df.to_node_id.max()) + 1\n",
    "level_boundary_node = ribasim_model.level_boundary.add(Node(new_node_id, Point(81148, 418947)), [level_boundary.Static(level=[default_level])])\n",
    "\n",
    "pump_node = ribasim_model.pump.add(Node(new_node_id+1, Point(81179, 419027)), [pump.Static(flow_rate=[0.1])])\n",
    "\n",
    "ribasim_model.edge.add(ribasim_model.basin[270], pump_node)\n",
    "ribasim_model.edge.add(pump_node, level_boundary_node)\n",
    "\n",
    "\n",
    "#7th biggest gemaal of Hollandse Delta is missing. Add it.\n",
    "new_node_id = max(ribasim_model.edge.df.from_node_id.max(), ribasim_model.edge.df.to_node_id.max()) + 1\n",
    "level_boundary_node = ribasim_model.level_boundary.add(Node(new_node_id, Point(81551, 425469)), [level_boundary.Static(level=[default_level])])\n",
    "\n",
    "pump_node = ribasim_model.pump.add(Node(new_node_id+1, Point(81526, 425553)), [pump.Static(flow_rate=[0.1])])\n",
    "\n",
    "ribasim_model.edge.add(ribasim_model.basin[205], pump_node)\n",
    "ribasim_model.edge.add(pump_node, level_boundary_node)"
   ]
  },
  {
   "cell_type": "code",
   "execution_count": 9,
   "metadata": {},
   "outputs": [],
   "source": [
    "ribasim_model.level_boundary.node.df.meta_node_id = ribasim_model.level_boundary.node.df.index\n",
    "ribasim_model.tabulated_rating_curve.node.df.meta_node_id = ribasim_model.tabulated_rating_curve.node.df.index\n",
    "ribasim_model.pump.node.df.meta_node_id = ribasim_model.pump.node.df.index\n",
    "\n"
   ]
  },
  {
   "cell_type": "markdown",
   "metadata": {},
   "source": [
    "### change unknown streefpeilen to a default streefpeil\n",
    "ribasim_model.basin.area.df.loc[\n",
    "    ribasim_model.basin.area.df[\"meta_streefpeil\"] == \"Onbekend streefpeil\", \"meta_streefpeil\"\n",
    "] = str(unknown_streefpeil)\n",
    "ribasim_model.basin.area.df.loc[ribasim_model.basin.area.df[\"meta_streefpeil\"] == -9.999, \"meta_streefpeil\"] = str(\n",
    "    unknown_streefpeil\n",
    ")"
   ]
  },
  {
   "cell_type": "code",
   "execution_count": 10,
   "metadata": {},
   "outputs": [],
   "source": [
    "assert not pd.isnull(ribasim_model.basin.area.df.meta_streefpeil).any()"
   ]
  },
  {
   "cell_type": "markdown",
   "metadata": {},
   "source": [
    "## Implement standard profile and a storage basin"
   ]
  },
  {
   "cell_type": "code",
   "execution_count": 11,
   "metadata": {},
   "outputs": [],
   "source": [
    "# Insert standard profiles to each basin. These are [depth_profiles] meter deep, defined from the streefpeil\n",
    "ribasim_param.insert_standard_profile(\n",
    "    ribasim_model,\n",
    "    unknown_streefpeil=unknown_streefpeil,\n",
    "    regular_percentage=regular_percentage,\n",
    "    boezem_percentage=boezem_percentage,\n",
    "    depth_profile=2,\n",
    ")"
   ]
  },
  {
   "cell_type": "code",
   "execution_count": 12,
   "metadata": {},
   "outputs": [],
   "source": [
    "add_storage_basins = AddStorageBasins(\n",
    "    ribasim_model=ribasim_model, exclude_hoofdwater=True, additional_basins_to_exclude=[]\n",
    ")\n",
    "\n",
    "add_storage_basins.create_bergende_basins()\n"
   ]
  },
  {
   "cell_type": "markdown",
   "metadata": {},
   "source": [
    "### Basin (forcing)"
   ]
  },
  {
   "cell_type": "code",
   "execution_count": 13,
   "metadata": {},
   "outputs": [],
   "source": [
    "# Set static forcing\n",
    "forcing_dict = {\n",
    "    \"precipitation\": ribasim_param.convert_mm_day_to_m_sec(10*2),\n",
    "    \"potential_evaporation\": ribasim_param.convert_mm_day_to_m_sec(0),\n",
    "    \"drainage\": ribasim_param.convert_mm_day_to_m_sec(0),\n",
    "    \"infiltration\": ribasim_param.convert_mm_day_to_m_sec(0),\n",
    "    # 'urban_runoff':          ribasim_param.convert_mm_day_to_m_sec(0),\n",
    "}\n",
    "\n",
    "ribasim_param.set_static_forcing(timesteps, timestep_size, start_time, forcing_dict, ribasim_model)"
   ]
  },
  {
   "cell_type": "markdown",
   "metadata": {},
   "source": [
    "### Pumps"
   ]
  },
  {
   "cell_type": "code",
   "execution_count": 14,
   "metadata": {},
   "outputs": [],
   "source": [
    "# Set pump capacity for each pump\n",
    "ribasim_model.pump.static.df[\"flow_rate\"] = 0.16667  # 10 kuub per minuut"
   ]
  },
  {
   "cell_type": "markdown",
   "metadata": {},
   "source": [
    "### Convert all boundary nodes to LevelBoundaries"
   ]
  },
  {
   "cell_type": "code",
   "execution_count": 15,
   "metadata": {},
   "outputs": [],
   "source": [
    "ribasim_param.Terminals_to_LevelBoundaries(ribasim_model=ribasim_model, default_level=default_level)  # clean\n",
    "ribasim_param.FlowBoundaries_to_LevelBoundaries(ribasim_model=ribasim_model, default_level=default_level)\n",
    "\n",
    "#add the default levels\n",
    "ribasim_model.level_boundary.static.df.level = default_level"
   ]
  },
  {
   "cell_type": "markdown",
   "metadata": {},
   "source": [
    "### Add Outlet"
   ]
  },
  {
   "cell_type": "code",
   "execution_count": 16,
   "metadata": {},
   "outputs": [],
   "source": [
    "ribasim_param.add_outlets(ribasim_model, delta_crest_level=0.10)"
   ]
  },
  {
   "cell_type": "markdown",
   "metadata": {},
   "source": [
    "## Add control, based on the meta_categorie"
   ]
  },
  {
   "cell_type": "code",
   "execution_count": 17,
   "metadata": {},
   "outputs": [],
   "source": [
    "ribasim_param.identify_node_meta_categorie(ribasim_model)"
   ]
  },
  {
   "cell_type": "code",
   "execution_count": 18,
   "metadata": {},
   "outputs": [],
   "source": [
    "ribasim_param.find_upstream_downstream_target_levels(ribasim_model, node=\"outlet\")\n",
    "ribasim_param.find_upstream_downstream_target_levels(ribasim_model, node=\"pump\")\n"
   ]
  },
  {
   "cell_type": "code",
   "execution_count": 19,
   "metadata": {},
   "outputs": [],
   "source": [
    "# ribasim_param.add_discrete_control(ribasim_model, waterschap, default_level)"
   ]
  },
  {
   "cell_type": "code",
   "execution_count": 20,
   "metadata": {},
   "outputs": [
    {
     "name": "stdout",
     "output_type": "stream",
     "text": [
      "Warning! Some pumps do not have a flow rate yet. Dummy value of 0.1234 m3/s has been taken.\n"
     ]
    }
   ],
   "source": [
    "ribasim_param.determine_min_upstream_max_downstream_levels(ribasim_model, waterschap)"
   ]
  },
  {
   "cell_type": "code",
   "execution_count": null,
   "metadata": {},
   "outputs": [],
   "source": []
  },
  {
   "cell_type": "markdown",
   "metadata": {},
   "source": [
    "### Manning Resistance"
   ]
  },
  {
   "cell_type": "code",
   "execution_count": 21,
   "metadata": {},
   "outputs": [],
   "source": [
    "# there is a MR without geometry and without edges for some reason\n",
    "ribasim_model.manning_resistance.node.df = ribasim_model.manning_resistance.node.df.dropna(subset=\"geometry\")"
   ]
  },
  {
   "cell_type": "code",
   "execution_count": 22,
   "metadata": {},
   "outputs": [],
   "source": [
    "#lower the difference in waterlevel for each manning node\n",
    "ribasim_model.manning_resistance.static.df.length = 100\n",
    "ribasim_model.manning_resistance.static.df.manning_n = 0.01"
   ]
  },
  {
   "cell_type": "markdown",
   "metadata": {},
   "source": [
    "## Last formating of the tables"
   ]
  },
  {
   "cell_type": "code",
   "execution_count": 23,
   "metadata": {},
   "outputs": [
    {
     "name": "stdout",
     "output_type": "stream",
     "text": [
      "\n",
      "Following node_ids are not connected to any edges:\n",
      "                Type  node_id\n",
      "4166  LevelBoundary     2692\n",
      "4168  LevelBoundary     2694\n"
     ]
    }
   ],
   "source": [
    "# only retain node_id's which are present in the .node table\n",
    "ribasim_param.clean_tables(ribasim_model, waterschap)\n"
   ]
  },
  {
   "cell_type": "markdown",
   "metadata": {},
   "source": [
    "# Set numerical settings"
   ]
  },
  {
   "cell_type": "code",
   "execution_count": 24,
   "metadata": {},
   "outputs": [],
   "source": [
    "ribasim_model.use_validation = True"
   ]
  },
  {
   "cell_type": "code",
   "execution_count": 25,
   "metadata": {},
   "outputs": [],
   "source": [
    "# Write model output\n",
    "# ribasim_param.index_reset(ribasim_model)\n",
    "ribasim_model.starttime = datetime.datetime(2024, 1, 1)\n",
    "ribasim_model.endtime = datetime.datetime(2024, 2, 22)\n",
    "ribasim_model.solver.saveat = 3600\n",
    "ribasim_param.write_ribasim_model_Zdrive(ribasim_model, path_ribasim_toml)"
   ]
  },
  {
   "cell_type": "code",
   "execution_count": null,
   "metadata": {},
   "outputs": [],
   "source": []
  },
  {
   "cell_type": "markdown",
   "metadata": {},
   "source": [
    "## Run Model"
   ]
  },
  {
   "cell_type": "markdown",
   "metadata": {},
   "source": [
    "## Iterate over tabulated rating curves"
   ]
  },
  {
   "cell_type": "code",
   "execution_count": 26,
   "metadata": {},
   "outputs": [
    {
     "data": {
      "application/vnd.jupyter.widget-view+json": {
       "model_id": "5e0a7fba20ed4278897bbe5953ab92f9",
       "version_major": 2,
       "version_minor": 0
      },
      "text/plain": [
       "Simulating init:   0%|          | 0/100 [00:00<?, ?it/s]"
      ]
     },
     "metadata": {},
     "output_type": "display_data"
    }
   ],
   "source": [
    "ribasim_param.tqdm_subprocess([\"ribasim\", path_ribasim_toml], \n",
    "                              print_other=False, \n",
    "                              suffix=\"init\")"
   ]
  },
  {
   "cell_type": "code",
   "execution_count": 27,
   "metadata": {},
   "outputs": [],
   "source": [
    "controle_output = Control(work_dir=work_dir)\n",
    "indicators = controle_output.run_all()"
   ]
  },
  {
   "cell_type": "code",
   "execution_count": 28,
   "metadata": {},
   "outputs": [],
   "source": [
    "# try:\n",
    "#     ribasim_param.iterate_TRC(\n",
    "#         ribasim_param=ribasim_param,\n",
    "#         allowed_tolerance=0.02,\n",
    "#         max_iter=1,\n",
    "#         expected_difference=0.1,\n",
    "#         max_adjustment=0.25,\n",
    "#         cmd=[\"ribasim\", path_ribasim_toml],\n",
    "#         output_dir=output_dir,\n",
    "#         path_ribasim_toml=path_ribasim_toml,\n",
    "#     )\n",
    "\n",
    "# except Exception:\n",
    "#     logging.error(\"The model was not able to run. Log file:\")\n",
    "#     log_file_path = os.path.join(output_dir, \"ribasim.log\")  # Update with the correct path to your log file\n",
    "#     try:\n",
    "#         with open(log_file_path) as log_file:\n",
    "#             log_content = log_file.read()\n",
    "#             print(log_content)\n",
    "#     except Exception as log_exception:\n",
    "#         logging.error(f\"Could not read the log file: {log_exception}\")"
   ]
  },
  {
   "cell_type": "markdown",
   "metadata": {},
   "source": [
    "# Write model"
   ]
  },
  {
   "cell_type": "code",
   "execution_count": 29,
   "metadata": {},
   "outputs": [
    {
     "name": "stdout",
     "output_type": "stream",
     "text": [
      "../../../../../Ribasim_networks/Waterschappen/HollandseDelta/modellen/HollandseDelta_parametrized/results\n",
      "The model of waterboard HollandseDelta has been uploaded to the goodcloud in the directory of boezemmodel!\n"
     ]
    }
   ],
   "source": [
    "# control_dict = Control(work_dir = work_dir).run_all()\n",
    "ribasim_param.write_ribasim_model_GoodCloud(\n",
    "    ribasim_model=ribasim_model,\n",
    "    path_ribasim_toml=path_ribasim_toml,\n",
    "    waterschap=waterschap,\n",
    "    modeltype=\"boezemmodel\",\n",
    "    include_results=True,\n",
    ")"
   ]
  },
  {
   "cell_type": "code",
   "execution_count": null,
   "metadata": {},
   "outputs": [],
   "source": []
  }
 ],
 "metadata": {
  "kernelspec": {
   "display_name": "Python [conda env:ribasim]",
   "language": "python",
   "name": "conda-env-ribasim-py"
  },
  "language_info": {
   "codemirror_mode": {
    "name": "ipython",
    "version": 3
   },
   "file_extension": ".py",
   "mimetype": "text/x-python",
   "name": "python",
   "nbconvert_exporter": "python",
   "pygments_lexer": "ipython3",
   "version": "3.12.7"
  }
 },
 "nbformat": 4,
 "nbformat_minor": 4
}
