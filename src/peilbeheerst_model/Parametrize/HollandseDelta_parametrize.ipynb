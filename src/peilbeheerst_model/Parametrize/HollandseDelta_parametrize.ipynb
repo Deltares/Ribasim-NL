{
 "cells": [
  {
   "cell_type": "code",
   "execution_count": 17,
   "metadata": {},
   "outputs": [],
   "source": [
    "import os\n",
    "import subprocess\n",
    "import sys\n",
    "import ribasim\n",
    "import ribasim.nodes\n",
    "import toml\n",
    "import tomli\n",
    "import numpy as np\n",
    "import pandas as pd\n",
    "import pathlib\n",
    "import tqdm.auto as tqdm\n",
    "import warnings\n",
    "import datetime\n",
    "from pathlib import Path\n",
    "import logging\n",
    "\n",
    "from shapely.geometry import Point\n",
    "\n",
    "#load ribasim_nl\n",
    "module_path = Path.cwd() / '../../ribasim_nl/'\n",
    "sys.path.append(str(module_path))\n",
    "from ribasim_nl import CloudStorage\n",
    "\n",
    "current_dir = os.getcwd()\n",
    "parent_dir = os.path.dirname(current_dir)\n",
    "if parent_dir not in sys.path:\n",
    "    sys.path.append(parent_dir)\n",
    "\n",
    "%reload_ext autoreload\n",
    "%autoreload 2\n",
    "warnings.filterwarnings('ignore')\n",
    "    \n",
    "import peilbeheerst_model.ribasim_parametrization as ribasim_param\n",
    "from peilbeheerst_model.ribasim_feedback_processor import RibasimFeedbackProcessor\n",
    "\n",
    "from peilbeheerst_model.controle_output import *\n",
    "from ribasim import Solver\n",
    "\n",
    "from ribasim import Allocation, Model, Node\n",
    "from ribasim.nodes import (\n",
    "    basin,\n",
    "    discrete_control,\n",
    "    flow_boundary,\n",
    "    fractional_flow,\n",
    "    level_boundary,\n",
    "    level_demand,\n",
    "    linear_resistance,\n",
    "    manning_resistance,\n",
    "    outlet,\n",
    "    pid_control,\n",
    "    pump,\n",
    "    tabulated_rating_curve,\n",
    "    user_demand,\n",
    ")"
   ]
  },
  {
   "cell_type": "raw",
   "metadata": {},
   "source": [
    "\"\"\"\n",
    "Model Aannamens:\n",
    "- Max area van hydroobjecten is 10% van basin area, 90% bij boezem\n",
    "- Initial state op streefpeil\n",
    "- \n",
    "\"\"\""
   ]
  },
  {
   "cell_type": "markdown",
   "metadata": {},
   "source": [
    "## Define variables and model"
   ]
  },
  {
   "cell_type": "markdown",
   "metadata": {},
   "source": [
    "#### Set Config"
   ]
  },
  {
   "cell_type": "code",
   "execution_count": 18,
   "metadata": {},
   "outputs": [],
   "source": [
    "# Set paths\n",
    "waterschap = \"HollandseDelta\"\n",
    "versie = \"2024_6_1\"\n",
    "\n",
    "work_dir = pathlib.Path(r\"../../../../../Ribasim_updated_models\", waterschap)\n",
    "ribasim_gpkg = work_dir.joinpath(\"database.gpkg\")\n",
    "path_ribasim_toml = work_dir.joinpath(\"ribasim.toml\")\n",
    "output_dir = work_dir.joinpath(\"results\")\n",
    "\n",
    "# Basin area percentage\n",
    "regular_percentage = 10\n",
    "boezem_percentage = 90\n",
    "unknown_streefpeil = 0.00012345 #we need a streefpeil to create the profiles, Q(h)-relations, and af- and aanslag peil for pumps\n",
    "\n",
    "# Forcing settings\n",
    "start_time = \"2024-01-01\"\n",
    "timestep_size = 'd'\n",
    "timesteps = 2\n"
   ]
  },
  {
   "cell_type": "markdown",
   "metadata": {},
   "source": [
    "## Process the feedback form"
   ]
  },
  {
   "cell_type": "code",
   "execution_count": 19,
   "metadata": {
    "scrolled": true
   },
   "outputs": [
    {
     "name": "stdout",
     "output_type": "stream",
     "text": [
      "Removed node (and edges) with Node Type: tabulated_rating_curve and Node ID: 1619\n",
      "Removed node (and edges) with Node Type: tabulated_rating_curve and Node ID: 1619\n",
      "Removed node (and edges) with Node Type: flow_boundary and Node ID: 1620\n",
      "Removed node (and edges) with Node Type: flow_boundary and Node ID: 1620\n",
      "Removed node (and edges) with Node Type: flow_boundary and Node ID: 1522\n",
      "Removed node (and edges) with Node Type: flow_boundary and Node ID: 1522\n",
      "Removed node (and edges) with Node Type: terminal and Node ID: 2634\n",
      "Removed node (and edges) with Node Type: tabulated_rating_curve and Node ID: 1786\n",
      "Removed node (and edges) with Node Type: tabulated_rating_curve and Node ID: 1786\n",
      "675 2682\n",
      "675 170\n",
      "135 703\n",
      "2610 361\n",
      "Removed node (and edges) with Node Type: tabulated_rating_curve and Node ID: 1086\n",
      "Removed node (and edges) with Node Type: tabulated_rating_curve and Node ID: 1086\n",
      "Removed node (and edges) with Node Type: flow_boundary and Node ID: 1087\n",
      "Removed node (and edges) with Node Type: flow_boundary and Node ID: 1087\n",
      "Removed node (and edges) with Node Type: terminal and Node ID: 2609\n",
      "Removed node (and edges) with Node Type: pump and Node ID: 2347\n",
      "Removed node (and edges) with Node Type: pump and Node ID: 2347\n",
      "208 234\n",
      "Removed node (and edges) with Node Type: pump and Node ID: 1590\n",
      "Removed node (and edges) with Node Type: pump and Node ID: 1590\n",
      "Added node (and edges) with Node Type: tabulated_rating_curve and Node ID: 93186\n",
      "17 298\n",
      "Removed node (and edges) with Node Type: tabulated_rating_curve and Node ID: 1978\n",
      "Removed node (and edges) with Node Type: tabulated_rating_curve and Node ID: 1978\n",
      "Removed node (and edges) with Node Type: tabulated_rating_curve and Node ID: 1719\n",
      "Removed node (and edges) with Node Type: tabulated_rating_curve and Node ID: 1719\n",
      "Removed node (and edges) with Node Type: tabulated_rating_curve and Node ID: 1970\n",
      "Removed node (and edges) with Node Type: tabulated_rating_curve and Node ID: 1970\n",
      "26 2637\n",
      "Removed node (and edges) with Node Type: pump and Node ID: 1849\n",
      "Removed node (and edges) with Node Type: pump and Node ID: 1849\n",
      "Added node (and edges) with Node Type: tabulated_rating_curve and Node ID: 93187\n",
      "Removed node (and edges) with Node Type: terminal and Node ID: 2741\n",
      "Removed node (and edges) with Node Type: tabulated_rating_curve and Node ID: 2485\n",
      "Removed node (and edges) with Node Type: tabulated_rating_curve and Node ID: 2485\n",
      "Removed node (and edges) with Node Type: level_boundary and Node ID: 2771\n",
      "Removed node (and edges) with Node Type: level_boundary and Node ID: 2771\n",
      "Removed node (and edges) with Node Type: level_boundary and Node ID: 2761\n",
      "Removed node (and edges) with Node Type: level_boundary and Node ID: 2761\n",
      "Removed node (and edges) with Node Type: tabulated_rating_curve and Node ID: 1783\n",
      "Removed node (and edges) with Node Type: tabulated_rating_curve and Node ID: 1783\n",
      "Removed node (and edges) with Node Type: terminal and Node ID: 2660\n",
      "Removed node (and edges) with Node Type: pump and Node ID: 2179\n",
      "Removed node (and edges) with Node Type: pump and Node ID: 2179\n",
      "Removed node (and edges) with Node Type: pump and Node ID: 1949\n",
      "Removed node (and edges) with Node Type: pump and Node ID: 1949\n",
      "Added node (and edges) with Node Type: tabulated_rating_curve and Node ID: 93188\n",
      "2082 600\n",
      "Swapped edge direction between Node A: 2082 and Node B: 600\n",
      "20 2082\n",
      "Swapped edge direction between Node A: 20 and Node B: 2082\n",
      "409 2614\n",
      "Removed node (and edges) with Node Type: pump and Node ID: 1558\n",
      "Removed node (and edges) with Node Type: pump and Node ID: 1558\n",
      "Added node (and edges) with Node Type: tabulated_rating_curve and Node ID: 93190\n",
      "Removed node (and edges) with Node Type: pump and Node ID: 1796\n",
      "Removed node (and edges) with Node Type: pump and Node ID: 1796\n",
      "Added node (and edges) with Node Type: tabulated_rating_curve and Node ID: 93191\n",
      "Removed node (and edges) with Node Type: pump and Node ID: 2082\n",
      "Removed node (and edges) with Node Type: pump and Node ID: 2082\n",
      "Added node (and edges) with Node Type: tabulated_rating_curve and Node ID: 93192\n",
      "Removed node (and edges) with Node Type: tabulated_rating_curve and Node ID: 1179\n",
      "Removed node (and edges) with Node Type: tabulated_rating_curve and Node ID: 1179\n",
      "Removed node (and edges) with Node Type: basin and Node ID: 713\n",
      "Removed node (and edges) with Node Type: basin and Node ID: 713\n",
      "Removed node (and edges) with Node Type: basin and Node ID: 713\n",
      "Removed node (and edges) with Node Type: basin and Node ID: 713\n",
      "Removed node (and edges) with Node Type: basin and Node ID: 713\n",
      "Removed node (and edges) with Node Type: manning_resistance and Node ID: 2334\n",
      "Removed node (and edges) with Node Type: manning_resistance and Node ID: 2334\n",
      "Removed node (and edges) with Node Type: pump and Node ID: 2104\n",
      "Removed node (and edges) with Node Type: pump and Node ID: 2104\n",
      "Removed node (and edges) with Node Type: basin and Node ID: 662\n",
      "Removed node (and edges) with Node Type: basin and Node ID: 662\n",
      "Removed node (and edges) with Node Type: basin and Node ID: 662\n",
      "Removed node (and edges) with Node Type: basin and Node ID: 662\n",
      "Removed node (and edges) with Node Type: basin and Node ID: 662\n",
      "Removed node (and edges) with Node Type: tabulated_rating_curve and Node ID: 1446\n",
      "Removed node (and edges) with Node Type: tabulated_rating_curve and Node ID: 1446\n",
      "Removed node (and edges) with Node Type: manning_resistance and Node ID: 2334\n",
      "Removed node (and edges) with Node Type: manning_resistance and Node ID: 2334\n",
      "Removed node (and edges) with Node Type: pump and Node ID: 2104\n",
      "Removed node (and edges) with Node Type: pump and Node ID: 2104\n",
      "Removed node (and edges) with Node Type: tabulated_rating_curve and Node ID: 1179\n",
      "Removed node (and edges) with Node Type: tabulated_rating_curve and Node ID: 1179\n",
      "Removed node (and edges) with Node Type: tabulated_rating_curve and Node ID: 1146\n",
      "Removed node (and edges) with Node Type: tabulated_rating_curve and Node ID: 1146\n",
      "Removed node (and edges) with Node Type: level_boundary and Node ID: 2759\n",
      "Removed node (and edges) with Node Type: level_boundary and Node ID: 2759\n",
      "2695 782\n",
      "Removed node (and edges) with Node Type: pump and Node ID: 2105\n",
      "Removed node (and edges) with Node Type: pump and Node ID: 2105\n",
      "Removed node (and edges) with Node Type: pump and Node ID: 2355\n",
      "Removed node (and edges) with Node Type: pump and Node ID: 2355\n",
      "Removed node (and edges) with Node Type: pump and Node ID: 985\n",
      "Removed node (and edges) with Node Type: pump and Node ID: 985\n",
      "Removed node (and edges) with Node Type: pump and Node ID: 1374\n",
      "Removed node (and edges) with Node Type: pump and Node ID: 1374\n",
      "129 2598\n",
      "Removed node (and edges) with Node Type: pump and Node ID: 2387\n",
      "Removed node (and edges) with Node Type: pump and Node ID: 2387\n",
      "Removed node (and edges) with Node Type: level_boundary and Node ID: 2756\n",
      "Removed node (and edges) with Node Type: level_boundary and Node ID: 2756\n",
      "Removed node (and edges) with Node Type: pump and Node ID: 1265\n",
      "Removed node (and edges) with Node Type: pump and Node ID: 1265\n",
      "426 2617\n",
      "Removed node (and edges) with Node Type: tabulated_rating_curve and Node ID: 2087\n",
      "Removed node (and edges) with Node Type: tabulated_rating_curve and Node ID: 2087\n",
      "Removed node (and edges) with Node Type: pump and Node ID: 2101\n",
      "Removed node (and edges) with Node Type: pump and Node ID: 2101\n",
      "138 2674\n",
      "Removed node (and edges) with Node Type: pump and Node ID: 896\n",
      "Removed node (and edges) with Node Type: pump and Node ID: 896\n",
      "Removed node (and edges) with Node Type: pump and Node ID: 2077\n",
      "Removed node (and edges) with Node Type: pump and Node ID: 2077\n",
      "Removed node (and edges) with Node Type: tabulated_rating_curve and Node ID: 2144\n",
      "Removed node (and edges) with Node Type: tabulated_rating_curve and Node ID: 2144\n",
      "316 2606\n",
      "24 2672\n",
      "Removed node (and edges) with Node Type: tabulated_rating_curve and Node ID: 1481\n",
      "Removed node (and edges) with Node Type: tabulated_rating_curve and Node ID: 1481\n",
      "Removed node (and edges) with Node Type: pump and Node ID: 1256\n",
      "Removed node (and edges) with Node Type: pump and Node ID: 1256\n",
      "Added node (and edges) with Node Type: tabulated_rating_curve and Node ID: 93199\n",
      "361 93184\n",
      "174 2599\n",
      "174 2600\n",
      "2735 2436\n",
      "103 2680\n",
      "Removed node (and edges) with Node Type: tabulated_rating_curve and Node ID: 2448\n",
      "Removed node (and edges) with Node Type: tabulated_rating_curve and Node ID: 2448\n",
      "Removed node (and edges) with Node Type: pump and Node ID: 2346\n",
      "Removed node (and edges) with Node Type: pump and Node ID: 2346\n",
      "Added node (and edges) with Node Type: tabulated_rating_curve and Node ID: 93203\n",
      "Removed node (and edges) with Node Type: tabulated_rating_curve and Node ID: 1810\n",
      "Removed node (and edges) with Node Type: tabulated_rating_curve and Node ID: 1810\n",
      "162 2665\n",
      "Removed node (and edges) with Node Type: pump and Node ID: 1447\n",
      "Removed node (and edges) with Node Type: pump and Node ID: 1447\n",
      "Removed node (and edges) with Node Type: terminal and Node ID: 2627\n",
      "Removed node (and edges) with Node Type: terminal and Node ID: 2694\n",
      "Removed node (and edges) with Node Type: pump and Node ID: 1667\n",
      "Removed node (and edges) with Node Type: pump and Node ID: 1667\n",
      "Removed node (and edges) with Node Type: pump and Node ID: 1668\n",
      "Removed node (and edges) with Node Type: pump and Node ID: 1668\n",
      "Removed node (and edges) with Node Type: tabulated_rating_curve and Node ID: 1650\n",
      "Removed node (and edges) with Node Type: tabulated_rating_curve and Node ID: 1650\n",
      "Removed node (and edges) with Node Type: basin and Node ID: 511\n",
      "Removed node (and edges) with Node Type: basin and Node ID: 511\n",
      "Removed node (and edges) with Node Type: basin and Node ID: 511\n",
      "Removed node (and edges) with Node Type: basin and Node ID: 511\n",
      "Removed node (and edges) with Node Type: basin and Node ID: 511\n",
      "Removed node (and edges) with Node Type: tabulated_rating_curve and Node ID: 1660\n",
      "Removed node (and edges) with Node Type: tabulated_rating_curve and Node ID: 1660\n",
      "Removed node (and edges) with Node Type: tabulated_rating_curve and Node ID: 1649\n",
      "Removed node (and edges) with Node Type: tabulated_rating_curve and Node ID: 1649\n",
      "Removed node (and edges) with Node Type: tabulated_rating_curve and Node ID: 1637\n",
      "Removed node (and edges) with Node Type: tabulated_rating_curve and Node ID: 1637\n",
      "Removed node (and edges) with Node Type: basin and Node ID: 355\n",
      "Removed node (and edges) with Node Type: basin and Node ID: 355\n",
      "Removed node (and edges) with Node Type: basin and Node ID: 355\n",
      "Removed node (and edges) with Node Type: basin and Node ID: 355\n",
      "Removed node (and edges) with Node Type: basin and Node ID: 355\n",
      "Removed node (and edges) with Node Type: tabulated_rating_curve and Node ID: 1306\n",
      "Removed node (and edges) with Node Type: tabulated_rating_curve and Node ID: 1306\n",
      "Removed node (and edges) with Node Type: basin and Node ID: 421\n",
      "Removed node (and edges) with Node Type: basin and Node ID: 421\n",
      "Removed node (and edges) with Node Type: basin and Node ID: 421\n",
      "Removed node (and edges) with Node Type: basin and Node ID: 421\n",
      "Removed node (and edges) with Node Type: basin and Node ID: 421\n",
      "Removed node (and edges) with Node Type: pump and Node ID: 938\n",
      "Removed node (and edges) with Node Type: pump and Node ID: 938\n",
      "Removed node (and edges) with Node Type: pump and Node ID: 937\n",
      "Removed node (and edges) with Node Type: pump and Node ID: 937\n",
      "2743 2501\n",
      "70 2605\n",
      "150 2640\n",
      "45 2613\n",
      "Removed node (and edges) with Node Type: pump and Node ID: 1687\n",
      "Removed node (and edges) with Node Type: pump and Node ID: 1687\n",
      "60 2689\n",
      "93208 2121\n",
      "Removed node (and edges) with Node Type: terminal and Node ID: 2602\n",
      "Removed node (and edges) with Node Type: terminal and Node ID: 2615\n",
      "Removed node (and edges) with Node Type: terminal and Node ID: 2626\n",
      "Removed node (and edges) with Node Type: terminal and Node ID: 2633\n",
      "Removed node (and edges) with Node Type: terminal and Node ID: 2655\n",
      "Removed node (and edges) with Node Type: terminal and Node ID: 2683\n",
      "Removed node (and edges) with Node Type: terminal and Node ID: 2655\n",
      "Removed node (and edges) with Node Type: terminal and Node ID: 2635\n",
      "Removed node (and edges) with Node Type: basin and Node ID: 802\n",
      "Removed node (and edges) with Node Type: basin and Node ID: 802\n",
      "Removed node (and edges) with Node Type: basin and Node ID: 802\n",
      "Removed node (and edges) with Node Type: basin and Node ID: 802\n",
      "Removed node (and edges) with Node Type: basin and Node ID: 802\n",
      "Removed node (and edges) with Node Type: pump and Node ID: 935\n",
      "Removed node (and edges) with Node Type: pump and Node ID: 935\n",
      "Removed node (and edges) with Node Type: pump and Node ID: 942\n",
      "Removed node (and edges) with Node Type: pump and Node ID: 942\n",
      "Removed node (and edges) with Node Type: pump and Node ID: 1269\n",
      "Removed node (and edges) with Node Type: pump and Node ID: 1269\n",
      "Added node (and edges) with Node Type: pump and Node ID: 93209\n",
      "Removed node (and edges) with Node Type: basin and Node ID: 785\n",
      "Removed node (and edges) with Node Type: basin and Node ID: 785\n",
      "Removed node (and edges) with Node Type: basin and Node ID: 785\n",
      "Removed node (and edges) with Node Type: basin and Node ID: 785\n",
      "Removed node (and edges) with Node Type: basin and Node ID: 785\n",
      "Removed node (and edges) with Node Type: pump and Node ID: 1485\n",
      "Removed node (and edges) with Node Type: pump and Node ID: 1485\n",
      "Removed node (and edges) with Node Type: flow_boundary and Node ID: 1474\n",
      "Removed node (and edges) with Node Type: flow_boundary and Node ID: 1474\n",
      "Removed node (and edges) with Node Type: tabulated_rating_curve and Node ID: 1401\n",
      "Removed node (and edges) with Node Type: tabulated_rating_curve and Node ID: 1401\n",
      "Removed node (and edges) with Node Type: terminal and Node ID: 2619\n",
      "Removed node (and edges) with Node Type: tabulated_rating_curve and Node ID: 93189\n",
      "Removed node (and edges) with Node Type: tabulated_rating_curve and Node ID: 93189\n",
      "Removed node (and edges) with Node Type: discrete_control and Node ID: 92725\n",
      "Removed node (and edges) with Node Type: discrete_control and Node ID: 92725\n",
      "Removed node (and edges) with Node Type: discrete_control and Node ID: 92725\n",
      "Removed node (and edges) with Node Type: discrete_control and Node ID: 92725\n",
      "Removed node (and edges) with Node Type: discrete_control and Node ID: 92734\n",
      "Removed node (and edges) with Node Type: discrete_control and Node ID: 92734\n",
      "Removed node (and edges) with Node Type: discrete_control and Node ID: 92734\n",
      "Removed node (and edges) with Node Type: discrete_control and Node ID: 92734\n",
      "Removed node (and edges) with Node Type: discrete_control and Node ID: 92736\n",
      "Removed node (and edges) with Node Type: discrete_control and Node ID: 92736\n",
      "Removed node (and edges) with Node Type: discrete_control and Node ID: 92736\n",
      "Removed node (and edges) with Node Type: discrete_control and Node ID: 92736\n",
      "Removed node (and edges) with Node Type: discrete_control and Node ID: 92737\n",
      "Removed node (and edges) with Node Type: discrete_control and Node ID: 92737\n",
      "Removed node (and edges) with Node Type: discrete_control and Node ID: 92737\n",
      "Removed node (and edges) with Node Type: discrete_control and Node ID: 92737\n",
      "Removed node (and edges) with Node Type: discrete_control and Node ID: 92741\n",
      "Removed node (and edges) with Node Type: discrete_control and Node ID: 92741\n",
      "Removed node (and edges) with Node Type: discrete_control and Node ID: 92741\n",
      "Removed node (and edges) with Node Type: discrete_control and Node ID: 92741\n",
      "Removed node (and edges) with Node Type: discrete_control and Node ID: 92747\n",
      "Removed node (and edges) with Node Type: discrete_control and Node ID: 92747\n",
      "Removed node (and edges) with Node Type: discrete_control and Node ID: 92747\n",
      "Removed node (and edges) with Node Type: discrete_control and Node ID: 92747\n",
      "Removed node (and edges) with Node Type: discrete_control and Node ID: 92814\n",
      "Removed node (and edges) with Node Type: discrete_control and Node ID: 92814\n",
      "Removed node (and edges) with Node Type: discrete_control and Node ID: 92814\n",
      "Removed node (and edges) with Node Type: discrete_control and Node ID: 92814\n",
      "Removed node (and edges) with Node Type: discrete_control and Node ID: 92817\n",
      "Removed node (and edges) with Node Type: discrete_control and Node ID: 92817\n",
      "Removed node (and edges) with Node Type: discrete_control and Node ID: 92817\n",
      "Removed node (and edges) with Node Type: discrete_control and Node ID: 92817\n",
      "Removed node (and edges) with Node Type: discrete_control and Node ID: 92820\n",
      "Removed node (and edges) with Node Type: discrete_control and Node ID: 92820\n",
      "Removed node (and edges) with Node Type: discrete_control and Node ID: 92820\n",
      "Removed node (and edges) with Node Type: discrete_control and Node ID: 92820\n",
      "Removed node (and edges) with Node Type: discrete_control and Node ID: 92844\n",
      "Removed node (and edges) with Node Type: discrete_control and Node ID: 92844\n",
      "Removed node (and edges) with Node Type: discrete_control and Node ID: 92844\n",
      "Removed node (and edges) with Node Type: discrete_control and Node ID: 92844\n",
      "Removed node (and edges) with Node Type: discrete_control and Node ID: 92862\n",
      "Removed node (and edges) with Node Type: discrete_control and Node ID: 92862\n",
      "Removed node (and edges) with Node Type: discrete_control and Node ID: 92862\n",
      "Removed node (and edges) with Node Type: discrete_control and Node ID: 92862\n",
      "Removed node (and edges) with Node Type: discrete_control and Node ID: 92872\n",
      "Removed node (and edges) with Node Type: discrete_control and Node ID: 92872\n",
      "Removed node (and edges) with Node Type: discrete_control and Node ID: 92872\n",
      "Removed node (and edges) with Node Type: discrete_control and Node ID: 92872\n",
      "Removed node (and edges) with Node Type: discrete_control and Node ID: 92891\n",
      "Removed node (and edges) with Node Type: discrete_control and Node ID: 92891\n",
      "Removed node (and edges) with Node Type: discrete_control and Node ID: 92891\n",
      "Removed node (and edges) with Node Type: discrete_control and Node ID: 92891\n",
      "Removed node (and edges) with Node Type: discrete_control and Node ID: 92899\n",
      "Removed node (and edges) with Node Type: discrete_control and Node ID: 92899\n",
      "Removed node (and edges) with Node Type: discrete_control and Node ID: 92899\n",
      "Removed node (and edges) with Node Type: discrete_control and Node ID: 92899\n",
      "Removed node (and edges) with Node Type: discrete_control and Node ID: 92919\n",
      "Removed node (and edges) with Node Type: discrete_control and Node ID: 92919\n",
      "Removed node (and edges) with Node Type: discrete_control and Node ID: 92919\n",
      "Removed node (and edges) with Node Type: discrete_control and Node ID: 92919\n",
      "Removed node (and edges) with Node Type: discrete_control and Node ID: 92920\n",
      "Removed node (and edges) with Node Type: discrete_control and Node ID: 92920\n",
      "Removed node (and edges) with Node Type: discrete_control and Node ID: 92920\n",
      "Removed node (and edges) with Node Type: discrete_control and Node ID: 92920\n",
      "Removed node (and edges) with Node Type: discrete_control and Node ID: 92927\n",
      "Removed node (and edges) with Node Type: discrete_control and Node ID: 92927\n",
      "Removed node (and edges) with Node Type: discrete_control and Node ID: 92927\n",
      "Removed node (and edges) with Node Type: discrete_control and Node ID: 92927\n",
      "Removed node (and edges) with Node Type: discrete_control and Node ID: 92955\n",
      "Removed node (and edges) with Node Type: discrete_control and Node ID: 92955\n",
      "Removed node (and edges) with Node Type: discrete_control and Node ID: 92955\n",
      "Removed node (and edges) with Node Type: discrete_control and Node ID: 92955\n",
      "Removed node (and edges) with Node Type: discrete_control and Node ID: 92967\n",
      "Removed node (and edges) with Node Type: discrete_control and Node ID: 92967\n",
      "Removed node (and edges) with Node Type: discrete_control and Node ID: 92967\n",
      "Removed node (and edges) with Node Type: discrete_control and Node ID: 92967\n",
      "Removed node (and edges) with Node Type: discrete_control and Node ID: 92995\n",
      "Removed node (and edges) with Node Type: discrete_control and Node ID: 92995\n",
      "Removed node (and edges) with Node Type: discrete_control and Node ID: 92995\n",
      "Removed node (and edges) with Node Type: discrete_control and Node ID: 92995\n",
      "Removed node (and edges) with Node Type: discrete_control and Node ID: 93028\n",
      "Removed node (and edges) with Node Type: discrete_control and Node ID: 93028\n",
      "Removed node (and edges) with Node Type: discrete_control and Node ID: 93028\n",
      "Removed node (and edges) with Node Type: discrete_control and Node ID: 93028\n",
      "Removed node (and edges) with Node Type: discrete_control and Node ID: 93029\n",
      "Removed node (and edges) with Node Type: discrete_control and Node ID: 93029\n",
      "Removed node (and edges) with Node Type: discrete_control and Node ID: 93029\n",
      "Removed node (and edges) with Node Type: discrete_control and Node ID: 93029\n",
      "Removed node (and edges) with Node Type: discrete_control and Node ID: 93035\n",
      "Removed node (and edges) with Node Type: discrete_control and Node ID: 93035\n",
      "Removed node (and edges) with Node Type: discrete_control and Node ID: 93035\n",
      "Removed node (and edges) with Node Type: discrete_control and Node ID: 93035\n",
      "Removed node (and edges) with Node Type: discrete_control and Node ID: 93038\n",
      "Removed node (and edges) with Node Type: discrete_control and Node ID: 93038\n",
      "Removed node (and edges) with Node Type: discrete_control and Node ID: 93038\n",
      "Removed node (and edges) with Node Type: discrete_control and Node ID: 93038\n",
      "Removed node (and edges) with Node Type: discrete_control and Node ID: 93039\n",
      "Removed node (and edges) with Node Type: discrete_control and Node ID: 93039\n",
      "Removed node (and edges) with Node Type: discrete_control and Node ID: 93039\n",
      "Removed node (and edges) with Node Type: discrete_control and Node ID: 93039\n",
      "Removed node (and edges) with Node Type: discrete_control and Node ID: 93073\n",
      "Removed node (and edges) with Node Type: discrete_control and Node ID: 93073\n",
      "Removed node (and edges) with Node Type: discrete_control and Node ID: 93073\n",
      "Removed node (and edges) with Node Type: discrete_control and Node ID: 93073\n",
      "Removed node (and edges) with Node Type: discrete_control and Node ID: 93110\n",
      "Removed node (and edges) with Node Type: discrete_control and Node ID: 93110\n",
      "Removed node (and edges) with Node Type: discrete_control and Node ID: 93110\n",
      "Removed node (and edges) with Node Type: discrete_control and Node ID: 93110\n",
      "Removed node (and edges) with Node Type: discrete_control and Node ID: 93111\n",
      "Removed node (and edges) with Node Type: discrete_control and Node ID: 93111\n",
      "Removed node (and edges) with Node Type: discrete_control and Node ID: 93111\n",
      "Removed node (and edges) with Node Type: discrete_control and Node ID: 93111\n",
      "Removed node (and edges) with Node Type: discrete_control and Node ID: 93112\n",
      "Removed node (and edges) with Node Type: discrete_control and Node ID: 93112\n",
      "Removed node (and edges) with Node Type: discrete_control and Node ID: 93112\n",
      "Removed node (and edges) with Node Type: discrete_control and Node ID: 93112\n",
      "Removed node (and edges) with Node Type: discrete_control and Node ID: 93120\n",
      "Removed node (and edges) with Node Type: discrete_control and Node ID: 93120\n",
      "Removed node (and edges) with Node Type: discrete_control and Node ID: 93120\n",
      "Removed node (and edges) with Node Type: discrete_control and Node ID: 93120\n",
      "Removed node (and edges) with Node Type: basin and Node ID: 790\n",
      "Removed node (and edges) with Node Type: basin and Node ID: 790\n",
      "Removed node (and edges) with Node Type: basin and Node ID: 790\n",
      "Removed node (and edges) with Node Type: basin and Node ID: 790\n",
      "Removed node (and edges) with Node Type: basin and Node ID: 790\n",
      "Removed node (and edges) with Node Type: tabulated_rating_curve and Node ID: 1946\n",
      "Removed node (and edges) with Node Type: tabulated_rating_curve and Node ID: 1946\n",
      "Processed all actions\n"
     ]
    }
   ],
   "source": [
    "name = \"Ron Bruijns (HKV)\"\n",
    "\n",
    "feedback_excel = pathlib.Path(r\"../../../../../Ribasim_feedback/V1_formulieren/feedback_formulier_\" + waterschap + \".xlsx\")\n",
    "feedback_excel_processed = r\"../../../../..//Ribasim_feedback/V1_formulieren_verwerkt/feedback_formulier_\" + waterschap + \"_JA_processed.xlsx\"\n",
    "\n",
    "ribasim_toml = pathlib.Path(r\"../../../../../Ribasim_base_models\", waterschap + '_boezemmodel_' + versie, 'ribasim.toml')\n",
    "output_folder = work_dir #r\"../../../../../Ribasim_updated_models/AmstelGooienVecht\"\n",
    "\n",
    "processor = RibasimFeedbackProcessor(name, waterschap, versie, feedback_excel, ribasim_toml, output_folder, feedback_excel_processed)\n",
    "processor.run()"
   ]
  },
  {
   "cell_type": "markdown",
   "metadata": {},
   "source": [
    "#### Load model"
   ]
  },
  {
   "cell_type": "code",
   "execution_count": 20,
   "metadata": {},
   "outputs": [],
   "source": [
    "# Load Ribasim model\n",
    "with warnings.catch_warnings():\n",
    "    warnings.simplefilter(action='ignore', category=FutureWarning)\n",
    "    ribasim_model = ribasim.Model(filepath=path_ribasim_toml)"
   ]
  },
  {
   "cell_type": "markdown",
   "metadata": {},
   "source": [
    "## Model specific tweaks"
   ]
  },
  {
   "cell_type": "code",
   "execution_count": 21,
   "metadata": {},
   "outputs": [],
   "source": [
    "assert not pd.isnull(ribasim_model.basin.area.df.meta_streefpeil).any()\n",
    "\n",
    "ribasim_model.basin.area.df.loc[ribasim_model.basin.area.df['meta_streefpeil'] == 'Onbekend streefpeil', 'meta_streefpeil'] = unknown_streefpeil\n",
    "\n",
    "ribasim_model.basin.area.df.loc[ribasim_model.basin.area.df['meta_streefpeil'] == 9.999, 'meta_streefpeil'] = unknown_streefpeil"
   ]
  },
  {
   "cell_type": "markdown",
   "metadata": {},
   "source": [
    "### Remove the TRC's without geometries"
   ]
  },
  {
   "cell_type": "code",
   "execution_count": 22,
   "metadata": {},
   "outputs": [],
   "source": [
    "#sometimes the geometries are POINT EMPTY\n",
    "ribasim_model.tabulated_rating_curve.node.df = ribasim_model.tabulated_rating_curve.node.df[~ribasim_model.tabulated_rating_curve.node.df['geometry'].is_empty]\n",
    "\n",
    "#sometimes the geometries are None\n",
    "ribasim_model.tabulated_rating_curve.node.df.dropna(subset='geometry', inplace = True)"
   ]
  },
  {
   "cell_type": "code",
   "execution_count": 23,
   "metadata": {},
   "outputs": [],
   "source": [
    "new_node_id = max(ribasim_model.edge.df.from_node_id.max(), ribasim_model.edge.df.to_node_id.max()) + 1\n",
    "\n",
    "### First manual adjustment: insert Terminal with TRC \n",
    "ribasim_model.terminal.add(Node(new_node_id, Point(98200,426447)))\n",
    "\n",
    "new_node_id += 1\n",
    "ribasim_model.tabulated_rating_curve.add(\n",
    "    Node(new_node_id, Point(98200,426447)),\n",
    "    [tabulated_rating_curve.Static(level=[0.1, 1.1], flow_rate=[0.0, 10])])\n",
    "\n",
    "ribasim_model.edge.add(ribasim_model.basin[389], ribasim_model.tabulated_rating_curve[new_node_id])\n",
    "\n",
    "ribasim_model.edge.add(ribasim_model.tabulated_rating_curve[new_node_id], ribasim_model.terminal[new_node_id-1])\n"
   ]
  },
  {
   "cell_type": "markdown",
   "metadata": {},
   "source": [
    "# Parameterization"
   ]
  },
  {
   "cell_type": "markdown",
   "metadata": {},
   "source": [
    "## Nodes"
   ]
  },
  {
   "cell_type": "markdown",
   "metadata": {},
   "source": [
    "### Basin (characteristics)"
   ]
  },
  {
   "cell_type": "code",
   "execution_count": 24,
   "metadata": {},
   "outputs": [],
   "source": [
    "# Define the initial state of each basin. Is set equal to the streefpeil\n",
    "# ribasim_param.set_initial_basin_state(ribasim_model) #the initial states of the basins are by default already set to the streefpeil!\n",
    "\n",
    "# Insert standard profiles to each basin. These are [depth_profiles] meter deep, defined from the streefpeil\n",
    "ribasim_param.insert_standard_profile(ribasim_model, \n",
    "                                      regular_percentage = regular_percentage, \n",
    "                                      boezem_percentage = boezem_percentage,\n",
    "                                      depth_profile = 2)"
   ]
  },
  {
   "cell_type": "code",
   "execution_count": null,
   "metadata": {},
   "outputs": [],
   "source": [
    "# Add storage basins\n",
    "# model_name = 'AmstelGooienVecht_StorageBasins'\n",
    "# node_ids = [1, 2, 3]  # Specify node IDs to process or include_hoofdwater Boolean\n",
    "processor = AddStorageBasin(ribasim_toml, model_name, output_folder, include_hoofdwater=True, log=True, node_ids=None)\n",
    "ribasim_model = processor.run()\n",
    "\n",
    "# Check basin area\n",
    "ribasim_param.validate_basin_area(ribasim_model)"
   ]
  },
  {
   "cell_type": "markdown",
   "metadata": {},
   "source": [
    "### Basin (forcing)"
   ]
  },
  {
   "cell_type": "code",
   "execution_count": 25,
   "metadata": {},
   "outputs": [],
   "source": [
    "# Set static forcing\n",
    "forcing_dict = {'precipitation':         ribasim_param.convert_mm_day_to_m_sec(5),\n",
    "                'potential_evaporation': ribasim_param.convert_mm_day_to_m_sec(0),\n",
    "                'drainage':              ribasim_param.convert_mm_day_to_m_sec(0),\n",
    "                'infiltration':          ribasim_param.convert_mm_day_to_m_sec(0),\n",
    "                'urban_runoff':          ribasim_param.convert_mm_day_to_m_sec(0),\n",
    "                }\n",
    "\n",
    "ribasim_param.set_static_forcing(timesteps, timestep_size, start_time, forcing_dict, ribasim_model)\n"
   ]
  },
  {
   "cell_type": "code",
   "execution_count": null,
   "metadata": {},
   "outputs": [],
   "source": []
  },
  {
   "cell_type": "markdown",
   "metadata": {},
   "source": [
    "### Pumps"
   ]
  },
  {
   "cell_type": "code",
   "execution_count": 26,
   "metadata": {},
   "outputs": [],
   "source": [
    "# Set pump capacity for each pump\n",
    "ribasim_model.pump.static.df['flow_rate'] = 0.16667 # 10 kuub per minuut"
   ]
  },
  {
   "cell_type": "markdown",
   "metadata": {},
   "source": [
    "### FlowBoundary"
   ]
  },
  {
   "cell_type": "code",
   "execution_count": 27,
   "metadata": {},
   "outputs": [],
   "source": [
    "# Set FlowBoundary rate for each pump\n",
    "ribasim_model.flow_boundary.static.df['flow_rate'] = 0 #"
   ]
  },
  {
   "cell_type": "markdown",
   "metadata": {},
   "source": [
    "### Add Discrete Control"
   ]
  },
  {
   "cell_type": "code",
   "execution_count": 28,
   "metadata": {},
   "outputs": [
    {
     "name": "stdout",
     "output_type": "stream",
     "text": [
      "Model bevat al discrete controls! Dan voegen we geen extra controls toe...\n"
     ]
    }
   ],
   "source": [
    "# Add discrete control nodes and control edges\n",
    "ribasim_param.add_discrete_control_nodes(ribasim_model)"
   ]
  },
  {
   "cell_type": "markdown",
   "metadata": {},
   "source": [
    "### TabulatedRatingCurve"
   ]
  },
  {
   "cell_type": "code",
   "execution_count": 29,
   "metadata": {},
   "outputs": [],
   "source": [
    "# First, set the Q(h)-relationship to a relationship which is at each TRC node the same\n",
    "ribasim_param.set_tabulated_rating_curves(ribasim_model, level_increase=1.0, flow_rate=1)\n",
    "\n",
    "# The water level in the boezem is regulated heavily. There is a smaller tolerance for an increase in water level. \n",
    "# Hence, the TRC's which discharge water from the boezem to a Terminal should have a higher capacity.\n",
    "ribasim_param.set_tabulated_rating_curves_boundaries(ribasim_model, level_increase=0.10, flow_rate=40)\n"
   ]
  },
  {
   "cell_type": "markdown",
   "metadata": {},
   "source": [
    "# Set numerical settings"
   ]
  },
  {
   "cell_type": "code",
   "execution_count": 30,
   "metadata": {},
   "outputs": [],
   "source": [
    "# Write model output\n",
    "ribasim_param.index_reset(ribasim_model)\n",
    "ribasim_model.starttime = datetime.datetime(2024, 1, 1)\n",
    "ribasim_model.endtime = datetime.datetime(2024, 1, 5)\n",
    "ribasim_model.solver.saveat = 3600\n",
    "ribasim_param.write_ribasim_model_Zdrive(ribasim_model, \n",
    "                                         path_ribasim_toml)"
   ]
  },
  {
   "cell_type": "markdown",
   "metadata": {},
   "source": [
    "## Run Model"
   ]
  },
  {
   "cell_type": "markdown",
   "metadata": {},
   "source": [
    "## Iterate over tabulated rating curves"
   ]
  },
  {
   "cell_type": "code",
   "execution_count": 31,
   "metadata": {},
   "outputs": [
    {
     "data": {
      "application/vnd.jupyter.widget-view+json": {
       "model_id": "9f99ba2a1953402a834f21ee305cc7c0",
       "version_major": 2,
       "version_minor": 0
      },
      "text/plain": [
       "Simulating init:   0%|          | 0/100 [00:00<?, ?it/s]"
      ]
     },
     "metadata": {},
     "output_type": "display_data"
    },
    {
     "name": "stderr",
     "output_type": "stream",
     "text": [
      "ERROR:root:The model was not able to run. Log file:\n"
     ]
    },
    {
     "name": "stdout",
     "output_type": "stream",
     "text": [
      "┌ Info: Starting a Ribasim simulation.\n",
      "│   cli.ribasim_version = 2024.8.0\n",
      "│   starttime = 2024-01-01T00:00:00\n",
      "│   endtime = 2024-01-05T00:00:00\n",
      "└ @ Ribasim /opt/teamcityagent/work/ecd2b8f9b25b1609/ribasim/core/src/main.jl:39\n",
      "\n"
     ]
    }
   ],
   "source": [
    "try:\n",
    "    ribasim_param.iterate_TRC(ribasim_param = ribasim_param, \n",
    "                          allowed_tolerance = 0.02, \n",
    "                          max_iter = 1, \n",
    "                          expected_difference = 0.1, \n",
    "                          max_adjustment = 0.25, \n",
    "                          cmd = ['ribasim', path_ribasim_toml], \n",
    "                          output_dir = output_dir, \n",
    "                          path_ribasim_toml = path_ribasim_toml)\n",
    "\n",
    "except Exception as e:\n",
    "    logging.error(\"The model was not able to run. Log file:\")\n",
    "    log_file_path = os.path.join(output_dir, 'ribasim.log') \n",
    "    try:\n",
    "        with open(log_file_path, 'r') as log_file:\n",
    "            log_content = log_file.read()\n",
    "            print(log_content)\n",
    "    except Exception as log_exception:\n",
    "        logging.error(f\"Could not read the log file: {log_exception}\")"
   ]
  },
  {
   "cell_type": "code",
   "execution_count": 16,
   "metadata": {},
   "outputs": [
    {
     "ename": "NameError",
     "evalue": "name 'stop' is not defined",
     "output_type": "error",
     "traceback": [
      "\u001b[0;31m---------------------------------------------------------------------------\u001b[0m",
      "\u001b[0;31mNameError\u001b[0m                                 Traceback (most recent call last)",
      "Cell \u001b[0;32mIn[16], line 1\u001b[0m\n\u001b[0;32m----> 1\u001b[0m \u001b[43mstop\u001b[49m\n",
      "\u001b[0;31mNameError\u001b[0m: name 'stop' is not defined"
     ]
    }
   ],
   "source": [
    "stop"
   ]
  },
  {
   "cell_type": "markdown",
   "metadata": {},
   "source": [
    "# Write model"
   ]
  },
  {
   "cell_type": "code",
   "execution_count": 32,
   "metadata": {},
   "outputs": [
    {
     "name": "stderr",
     "output_type": "stream",
     "text": [
      "INFO:pyogrio._io:Created 3,885 records\n",
      "INFO:pyogrio._io:Created 3,085 records\n",
      "INFO:pyogrio._io:Created 794 records\n",
      "DEBUG:urllib3.connectionpool:Starting new HTTPS connection (1): deltares.thegood.cloud:443\n",
      "DEBUG:urllib3.connectionpool:https://deltares.thegood.cloud:443 \"GET /remote.php/dav/files/nhi_api/Ribasim%20modeldata HTTP/1.1\" 200 None\n",
      "INFO:ribasim_nl.cloud:valid credentials\n",
      "DEBUG:urllib3.connectionpool:Starting new HTTPS connection (1): deltares.thegood.cloud:443\n",
      "DEBUG:urllib3.connectionpool:https://deltares.thegood.cloud:443 \"PROPFIND /remote.php/dav/files/nhi_api/Ribasim%20modeldata/HollandseDelta/modellen HTTP/1.1\" 207 None\n",
      "DEBUG:urllib3.connectionpool:Starting new HTTPS connection (1): deltares.thegood.cloud:443\n",
      "DEBUG:urllib3.connectionpool:https://deltares.thegood.cloud:443 \"MKCOL /remote.php/dav/files/nhi_api/Ribasim%20modeldata/HollandseDelta/modellen/HollandseDelta_boezemmodel_2024_6_4 HTTP/1.1\" 201 0\n",
      "DEBUG:urllib3.connectionpool:Starting new HTTPS connection (1): deltares.thegood.cloud:443\n",
      "DEBUG:urllib3.connectionpool:https://deltares.thegood.cloud:443 \"PROPFIND /remote.php/dav/files/nhi_api/Ribasim%20modeldata/HollandseDelta/modellen/HollandseDelta_boezemmodel_2024_6_4 HTTP/1.1\" 207 None\n",
      "INFO:ribasim_nl.cloud:uploading file ../../../../../Ribasim_networks/Waterschappen/HollandseDelta/modellen/HollandseDelta_boezemmodel_2024_6_4/database_checks.gpkg\n",
      "DEBUG:urllib3.connectionpool:Starting new HTTPS connection (1): deltares.thegood.cloud:443\n",
      "DEBUG:urllib3.connectionpool:https://deltares.thegood.cloud:443 \"PUT /remote.php/dav/files/nhi_api/Ribasim%20modeldata/HollandseDelta/modellen/HollandseDelta_boezemmodel_2024_6_4/database_checks.gpkg HTTP/1.1\" 201 0\n",
      "INFO:ribasim_nl.cloud:uploading file ../../../../../Ribasim_networks/Waterschappen/HollandseDelta/modellen/HollandseDelta_boezemmodel_2024_6_4/ribasim.toml\n",
      "DEBUG:urllib3.connectionpool:Starting new HTTPS connection (1): deltares.thegood.cloud:443\n",
      "DEBUG:urllib3.connectionpool:https://deltares.thegood.cloud:443 \"PUT /remote.php/dav/files/nhi_api/Ribasim%20modeldata/HollandseDelta/modellen/HollandseDelta_boezemmodel_2024_6_4/ribasim.toml HTTP/1.1\" 201 0\n",
      "INFO:ribasim_nl.cloud:uploading file ../../../../../Ribasim_networks/Waterschappen/HollandseDelta/modellen/HollandseDelta_boezemmodel_2024_6_4/visualisation_checks.qlr\n",
      "DEBUG:urllib3.connectionpool:Starting new HTTPS connection (1): deltares.thegood.cloud:443\n",
      "DEBUG:urllib3.connectionpool:https://deltares.thegood.cloud:443 \"PUT /remote.php/dav/files/nhi_api/Ribasim%20modeldata/HollandseDelta/modellen/HollandseDelta_boezemmodel_2024_6_4/visualisation_checks.qlr HTTP/1.1\" 201 0\n",
      "INFO:ribasim_nl.cloud:uploading file ../../../../../Ribasim_networks/Waterschappen/HollandseDelta/modellen/HollandseDelta_boezemmodel_2024_6_4/visualisation_Ribasim.qlr\n",
      "DEBUG:urllib3.connectionpool:Starting new HTTPS connection (1): deltares.thegood.cloud:443\n",
      "DEBUG:urllib3.connectionpool:https://deltares.thegood.cloud:443 \"PUT /remote.php/dav/files/nhi_api/Ribasim%20modeldata/HollandseDelta/modellen/HollandseDelta_boezemmodel_2024_6_4/visualisation_Ribasim.qlr HTTP/1.1\" 201 0\n",
      "INFO:ribasim_nl.cloud:uploading file ../../../../../Ribasim_networks/Waterschappen/HollandseDelta/modellen/HollandseDelta_boezemmodel_2024_6_4/database.gpkg\n",
      "DEBUG:urllib3.connectionpool:Starting new HTTPS connection (1): deltares.thegood.cloud:443\n",
      "DEBUG:urllib3.connectionpool:https://deltares.thegood.cloud:443 \"PUT /remote.php/dav/files/nhi_api/Ribasim%20modeldata/HollandseDelta/modellen/HollandseDelta_boezemmodel_2024_6_4/database.gpkg HTTP/1.1\" 201 0\n",
      "DEBUG:urllib3.connectionpool:Starting new HTTPS connection (1): deltares.thegood.cloud:443\n",
      "DEBUG:urllib3.connectionpool:https://deltares.thegood.cloud:443 \"MKCOL /remote.php/dav/files/nhi_api/Ribasim%20modeldata/HollandseDelta/modellen/HollandseDelta_boezemmodel_2024_6_4/results HTTP/1.1\" 201 0\n",
      "DEBUG:urllib3.connectionpool:Starting new HTTPS connection (1): deltares.thegood.cloud:443\n",
      "DEBUG:urllib3.connectionpool:https://deltares.thegood.cloud:443 \"PROPFIND /remote.php/dav/files/nhi_api/Ribasim%20modeldata/HollandseDelta/modellen/HollandseDelta_boezemmodel_2024_6_4/results HTTP/1.1\" 207 None\n",
      "INFO:ribasim_nl.cloud:uploading file ../../../../../Ribasim_networks/Waterschappen/HollandseDelta/modellen/HollandseDelta_boezemmodel_2024_6_4/results/subgrid_levels.arrow\n",
      "DEBUG:urllib3.connectionpool:Starting new HTTPS connection (1): deltares.thegood.cloud:443\n",
      "DEBUG:urllib3.connectionpool:https://deltares.thegood.cloud:443 \"PUT /remote.php/dav/files/nhi_api/Ribasim%20modeldata/HollandseDelta/modellen/HollandseDelta_boezemmodel_2024_6_4/results/subgrid_levels.arrow HTTP/1.1\" 201 0\n",
      "INFO:ribasim_nl.cloud:uploading file ../../../../../Ribasim_networks/Waterschappen/HollandseDelta/modellen/HollandseDelta_boezemmodel_2024_6_4/results/ribasim.log\n",
      "DEBUG:urllib3.connectionpool:Starting new HTTPS connection (1): deltares.thegood.cloud:443\n",
      "DEBUG:urllib3.connectionpool:https://deltares.thegood.cloud:443 \"PUT /remote.php/dav/files/nhi_api/Ribasim%20modeldata/HollandseDelta/modellen/HollandseDelta_boezemmodel_2024_6_4/results/ribasim.log HTTP/1.1\" 201 0\n",
      "INFO:ribasim_nl.cloud:uploading file ../../../../../Ribasim_networks/Waterschappen/HollandseDelta/modellen/HollandseDelta_boezemmodel_2024_6_4/results/basin.arrow\n",
      "DEBUG:urllib3.connectionpool:Starting new HTTPS connection (1): deltares.thegood.cloud:443\n",
      "DEBUG:urllib3.connectionpool:https://deltares.thegood.cloud:443 \"PUT /remote.php/dav/files/nhi_api/Ribasim%20modeldata/HollandseDelta/modellen/HollandseDelta_boezemmodel_2024_6_4/results/basin.arrow HTTP/1.1\" 201 0\n",
      "INFO:ribasim_nl.cloud:uploading file ../../../../../Ribasim_networks/Waterschappen/HollandseDelta/modellen/HollandseDelta_boezemmodel_2024_6_4/results/control.arrow\n",
      "DEBUG:urllib3.connectionpool:Starting new HTTPS connection (1): deltares.thegood.cloud:443\n",
      "DEBUG:urllib3.connectionpool:https://deltares.thegood.cloud:443 \"PUT /remote.php/dav/files/nhi_api/Ribasim%20modeldata/HollandseDelta/modellen/HollandseDelta_boezemmodel_2024_6_4/results/control.arrow HTTP/1.1\" 201 0\n",
      "INFO:ribasim_nl.cloud:uploading file ../../../../../Ribasim_networks/Waterschappen/HollandseDelta/modellen/HollandseDelta_boezemmodel_2024_6_4/results/flow.arrow\n",
      "DEBUG:urllib3.connectionpool:Starting new HTTPS connection (1): deltares.thegood.cloud:443\n",
      "DEBUG:urllib3.connectionpool:https://deltares.thegood.cloud:443 \"PUT /remote.php/dav/files/nhi_api/Ribasim%20modeldata/HollandseDelta/modellen/HollandseDelta_boezemmodel_2024_6_4/results/flow.arrow HTTP/1.1\" 201 0\n",
      "INFO:ribasim_nl.cloud:uploading file ../../../../../Ribasim_networks/Waterschappen/HollandseDelta/modellen/HollandseDelta_boezemmodel_2024_6_4/results/allocation_flow.arrow\n",
      "DEBUG:urllib3.connectionpool:Starting new HTTPS connection (1): deltares.thegood.cloud:443\n",
      "DEBUG:urllib3.connectionpool:https://deltares.thegood.cloud:443 \"PUT /remote.php/dav/files/nhi_api/Ribasim%20modeldata/HollandseDelta/modellen/HollandseDelta_boezemmodel_2024_6_4/results/allocation_flow.arrow HTTP/1.1\" 201 0\n",
      "INFO:ribasim_nl.cloud:uploading file ../../../../../Ribasim_networks/Waterschappen/HollandseDelta/modellen/HollandseDelta_boezemmodel_2024_6_4/results/allocation.arrow\n",
      "DEBUG:urllib3.connectionpool:Starting new HTTPS connection (1): deltares.thegood.cloud:443\n",
      "DEBUG:urllib3.connectionpool:https://deltares.thegood.cloud:443 \"PUT /remote.php/dav/files/nhi_api/Ribasim%20modeldata/HollandseDelta/modellen/HollandseDelta_boezemmodel_2024_6_4/results/allocation.arrow HTTP/1.1\" 201 0\n"
     ]
    },
    {
     "name": "stdout",
     "output_type": "stream",
     "text": [
      "The model of waterboard HollandseDelta has been uploaded to the goodcloud in the directory of boezemmodel!\n"
     ]
    }
   ],
   "source": [
    "# control_dict = Control(work_dir = work_dir).run_all()\n",
    "ribasim_param.write_ribasim_model_GoodCloud(ribasim_model = ribasim_model, \n",
    "                                            path_ribasim_toml = path_ribasim_toml,\n",
    "                                            waterschap = waterschap, \n",
    "                                            modeltype = 'boezemmodel',\n",
    "                                            include_results = True)\n"
   ]
  },
  {
   "cell_type": "markdown",
   "metadata": {},
   "source": [
    "## Open Output"
   ]
  },
  {
   "cell_type": "code",
   "execution_count": null,
   "metadata": {},
   "outputs": [],
   "source": [
    "df_basin = pd.read_feather(os.path.join(output_dir, 'basin.arrow'))\n",
    "df_basin"
   ]
  },
  {
   "cell_type": "code",
   "execution_count": null,
   "metadata": {},
   "outputs": [],
   "source": []
  }
 ],
 "metadata": {
  "kernelspec": {
   "display_name": "Python [conda env:ribasim]",
   "language": "python",
   "name": "conda-env-ribasim-py"
  },
  "language_info": {
   "codemirror_mode": {
    "name": "ipython",
    "version": 3
   },
   "file_extension": ".py",
   "mimetype": "text/x-python",
   "name": "python",
   "nbconvert_exporter": "python",
   "pygments_lexer": "ipython3",
   "version": "3.10.13"
  }
 },
 "nbformat": 4,
 "nbformat_minor": 4
}
