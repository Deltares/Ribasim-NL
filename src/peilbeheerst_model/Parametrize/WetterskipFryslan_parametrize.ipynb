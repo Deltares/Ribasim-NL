{
 "cells": [
  {
   "cell_type": "code",
   "execution_count": 1,
   "metadata": {},
   "outputs": [],
   "source": [
    "import datetime\n",
    "import os\n",
    "import pathlib\n",
    "import warnings\n",
    "\n",
    "import load_ribasim  # noqa: F401\n",
    "import pandas as pd\n",
    "import ribasim\n",
    "import ribasim.nodes\n",
    "\n",
    "import peilbeheerst_model.ribasim_parametrization as ribasim_param\n",
    "from peilbeheerst_model.add_storage_basins import AddStorageBasins\n",
    "from peilbeheerst_model.controle_output import Control\n",
    "from peilbeheerst_model.ribasim_feedback_processor import RibasimFeedbackProcessor\n",
    "\n",
    "from ribasim import Node\n",
    "from ribasim.nodes import pump, level_boundary, tabulated_rating_curve\n",
    "from shapely import Point\n",
    "\n",
    "%reload_ext autoreload\n",
    "%autoreload 2\n",
    "warnings.filterwarnings(\"ignore\")"
   ]
  },
  {
   "cell_type": "markdown",
   "metadata": {},
   "source": [
    "## Define variables and model"
   ]
  },
  {
   "cell_type": "markdown",
   "metadata": {},
   "source": [
    "#### Set Config"
   ]
  },
  {
   "cell_type": "code",
   "execution_count": 2,
   "metadata": {},
   "outputs": [],
   "source": [
    "waterschap = \"WetterskipFryslan\"\n",
    "work_dir = pathlib.Path(f\"../../../../../Ribasim_updated_models/{waterschap}/modellen/{waterschap}_parametrized\")\n",
    "ribasim_gpkg = work_dir.joinpath(\"database.gpkg\")\n",
    "path_ribasim_toml = work_dir.joinpath(\"ribasim.toml\")\n",
    "output_dir = work_dir.joinpath(\"results\")\n",
    "\n",
    "# Basin area percentage\n",
    "regular_percentage = 10\n",
    "boezem_percentage = 90\n",
    "unknown_streefpeil = (\n",
    "    0.00012345  # we need a streefpeil to create the profiles, Q(h)-relations, and af- and aanslag peil for pumps\n",
    ")\n",
    "\n",
    "# Forcing settings\n",
    "start_time = \"2024-01-01\"\n",
    "timestep_size = \"d\"\n",
    "timesteps = 2\n",
    "delta_crest_level = 0.1  # delta waterlevel of boezem compared to streefpeil till no water can flow through an outlet\n",
    "\n",
    "default_level = -0.42  # default LevelBoundary level\n",
    "default_level = -2.3456  # default LevelBoundary level\n"
   ]
  },
  {
   "cell_type": "markdown",
   "metadata": {},
   "source": [
    "## Process the feedback form"
   ]
  },
  {
   "cell_type": "code",
   "execution_count": 3,
   "metadata": {},
   "outputs": [
    {
     "name": "stdout",
     "output_type": "stream",
     "text": [
      "Swapped edge direction between Node A: 4069 and Node B: 3124\n",
      "Swapped edge direction between Node A: 3124 and Node B: 360\n",
      "Swapped edge direction between Node A: 4070 and Node B: 3125\n",
      "Swapped edge direction between Node A: 3125 and Node B: 360\n",
      "Swapped edge direction between Node A: 402 and Node B: 1740\n",
      "Swapped edge direction between Node A: 1740 and Node B: 137\n",
      "Swapped edge direction between Node A: 258 and Node B: 2164\n",
      "Swapped edge direction between Node A: 2164 and Node B: 137\n",
      "Swapped edge direction between Node A: 137 and Node B: 1819\n",
      "Swapped edge direction between Node A: 1819 and Node B: 26\n",
      "Processed all actions\n",
      "The target levels (streefpeilen) have been updated.\n",
      "The function of the pumps have been updated.\n"
     ]
    }
   ],
   "source": [
    "name = \"Ron Bruijns (HKV)\"\n",
    "versie = \"2024_12_8\"\n",
    "\n",
    "feedback_excel = pathlib.Path(f\"../../../../../Ribasim_feedback/V1_formulieren/feedback_formulier_{waterschap}.xlsx\")\n",
    "feedback_excel_processed = (\n",
    "    f\"../../../../..//Ribasim_feedback/V1_formulieren_verwerkt/feedback_formulier_{waterschap}_JA_processed.xlsx\"\n",
    ")\n",
    "\n",
    "ribasim_toml = f\"../../../../../Ribasim_base_models/{waterschap}_boezemmodel_{versie}/ribasim.toml\"\n",
    "output_folder = work_dir  # f\"../../../../../Ribasim_updated_models/{waterschap}\"\n",
    "\n",
    "processor = RibasimFeedbackProcessor(\n",
    "    name, waterschap, versie, feedback_excel, ribasim_toml, output_folder, feedback_excel_processed\n",
    ")\n",
    "processor.run()"
   ]
  },
  {
   "cell_type": "markdown",
   "metadata": {},
   "source": [
    "#### Load model"
   ]
  },
  {
   "cell_type": "code",
   "execution_count": 4,
   "metadata": {},
   "outputs": [],
   "source": [
    "# Load Ribasim model\n",
    "with warnings.catch_warnings():\n",
    "    warnings.simplefilter(action=\"ignore\", category=FutureWarning)\n",
    "    ribasim_model = ribasim.Model(filepath=path_ribasim_toml)"
   ]
  },
  {
   "cell_type": "markdown",
   "metadata": {},
   "source": [
    "# Parameterization"
   ]
  },
  {
   "cell_type": "markdown",
   "metadata": {},
   "source": [
    "## Nodes"
   ]
  },
  {
   "cell_type": "markdown",
   "metadata": {},
   "source": [
    "### Basin (characteristics)"
   ]
  },
  {
   "cell_type": "code",
   "execution_count": 5,
   "metadata": {
    "scrolled": true
   },
   "outputs": [
    {
     "name": "stdout",
     "output_type": "stream",
     "text": [
      "All basins are larger than 100 m²\n"
     ]
    }
   ],
   "source": [
    "ribasim_param.validate_basin_area(ribasim_model)"
   ]
  },
  {
   "cell_type": "code",
   "execution_count": 6,
   "metadata": {},
   "outputs": [],
   "source": [
    "# remove the basins of above in the feedback form"
   ]
  },
  {
   "cell_type": "markdown",
   "metadata": {},
   "source": [
    "## Model specific tweaks"
   ]
  },
  {
   "cell_type": "code",
   "execution_count": 7,
   "metadata": {},
   "outputs": [],
   "source": [
    "new_node_id = max(ribasim_model.edge.df.from_node_id.max(), ribasim_model.edge.df.to_node_id.max()) + 1"
   ]
  },
  {
   "cell_type": "code",
   "execution_count": 8,
   "metadata": {},
   "outputs": [],
   "source": [
    "# change unknown streefpeilen to a default streefpeil\n",
    "ribasim_model.basin.area.df.loc[\n",
    "    ribasim_model.basin.area.df[\"meta_streefpeil\"] == \"Onbekend streefpeil\", \"meta_streefpeil\"\n",
    "] = str(unknown_streefpeil)\n",
    "ribasim_model.basin.area.df.loc[ribasim_model.basin.area.df[\"meta_streefpeil\"] == -9.999, \"meta_streefpeil\"] = str(\n",
    "    unknown_streefpeil\n",
    ")\n",
    "\n",
    "#change high initial states to 0\n",
    "ribasim_model.basin.state.df.loc[ribasim_model.basin.state.df[\"level\"] == 9.999, \"level\"] = 0\n",
    "ribasim_model.basin.area.df.loc[ribasim_model.basin.area.df[\"meta_streefpeil\"] == 9.999, \"meta_streefpeil\"] = str(\n",
    "    unknown_streefpeil\n",
    ")\n"
   ]
  },
  {
   "cell_type": "code",
   "execution_count": 9,
   "metadata": {},
   "outputs": [],
   "source": [
    "assert not pd.isnull(ribasim_model.basin.area.df.meta_streefpeil).any()"
   ]
  },
  {
   "cell_type": "code",
   "execution_count": 10,
   "metadata": {},
   "outputs": [],
   "source": [
    "new_node_id = max(ribasim_model.edge.df.from_node_id.max(), ribasim_model.edge.df.to_node_id.max()) + 1\n",
    "\n",
    "level_boundary_node = ribasim_model.level_boundary.add(Node(new_node_id, Point(158166, 553915)), [level_boundary.Static(level=[default_level])])\n",
    "\n",
    "tabulated_rating_curve_node = ribasim_model.tabulated_rating_curve.add(Node(new_node_id+1, Point(158166, 553915)), [tabulated_rating_curve.Static(\n",
    "            level=[0.0, 1.0],\n",
    "            flow_rate=[0.0, 1.0])])\n",
    "\n",
    "ribasim_model.edge.add(ribasim_model.basin[89], tabulated_rating_curve_node)\n",
    "ribasim_model.edge.add(tabulated_rating_curve_node, level_boundary_node)"
   ]
  },
  {
   "cell_type": "code",
   "execution_count": 11,
   "metadata": {},
   "outputs": [],
   "source": [
    "new_node_id = max(ribasim_model.edge.df.from_node_id.max(), ribasim_model.edge.df.to_node_id.max()) + 1\n",
    "\n",
    "level_boundary_node = ribasim_model.level_boundary.add(Node(new_node_id, Point(156824, 552856)), [level_boundary.Static(level=[default_level])])\n",
    "\n",
    "tabulated_rating_curve_node = ribasim_model.tabulated_rating_curve.add(Node(new_node_id+1, Point(156831, 552967)), [tabulated_rating_curve.Static(\n",
    "            level=[0.0, 1.0],\n",
    "            flow_rate=[0.0, 1.0])])\n",
    "\n",
    "ribasim_model.edge.add(ribasim_model.basin[861], tabulated_rating_curve_node)\n",
    "ribasim_model.edge.add(tabulated_rating_curve_node, level_boundary_node)"
   ]
  },
  {
   "cell_type": "code",
   "execution_count": 12,
   "metadata": {},
   "outputs": [],
   "source": [
    "new_node_id = max(ribasim_model.edge.df.from_node_id.max(), ribasim_model.edge.df.to_node_id.max()) + 1\n",
    "\n",
    "level_boundary_node = ribasim_model.level_boundary.add(Node(new_node_id, Point(155989, 563067)), [level_boundary.Static(level=[default_level])])\n",
    "\n",
    "tabulated_rating_curve_node = ribasim_model.tabulated_rating_curve.add(Node(new_node_id+1, Point(156038, 563080)), [tabulated_rating_curve.Static(\n",
    "            level=[0.0, 1.0],\n",
    "            flow_rate=[0.0, 1.0])])\n",
    "\n",
    "ribasim_model.edge.add(ribasim_model.basin[149], tabulated_rating_curve_node)\n",
    "ribasim_model.edge.add(tabulated_rating_curve_node, level_boundary_node)"
   ]
  },
  {
   "cell_type": "code",
   "execution_count": 13,
   "metadata": {},
   "outputs": [],
   "source": [
    "new_node_id = max(ribasim_model.edge.df.from_node_id.max(), ribasim_model.edge.df.to_node_id.max()) + 1\n",
    "\n",
    "level_boundary_node = ribasim_model.level_boundary.add(Node(new_node_id, Point(154647, 567409)), [level_boundary.Static(level=[default_level])])\n",
    "\n",
    "tabulated_rating_curve_node = ribasim_model.tabulated_rating_curve.add(Node(new_node_id+1, Point(154644, 567399)), [tabulated_rating_curve.Static(\n",
    "            level=[0.0, 1.0],\n",
    "            flow_rate=[0.0, 1.0])])\n",
    "\n",
    "ribasim_model.edge.add(ribasim_model.basin[149], tabulated_rating_curve_node)\n",
    "ribasim_model.edge.add(tabulated_rating_curve_node, level_boundary_node)"
   ]
  },
  {
   "cell_type": "code",
   "execution_count": 14,
   "metadata": {},
   "outputs": [],
   "source": [
    "new_node_id = max(ribasim_model.edge.df.from_node_id.max(), ribasim_model.edge.df.to_node_id.max()) + 1\n",
    "\n",
    "level_boundary_node = ribasim_model.level_boundary.add(Node(new_node_id, Point(156173, 576551)), [level_boundary.Static(level=[default_level])])\n",
    "\n",
    "tabulated_rating_curve_node = ribasim_model.tabulated_rating_curve.add(Node(new_node_id+1, Point(157109, 576125)), [tabulated_rating_curve.Static(\n",
    "            level=[0.0, 1.0],\n",
    "            flow_rate=[0.0, 1.0])])\n",
    "\n",
    "ribasim_model.edge.add(ribasim_model.basin[254], tabulated_rating_curve_node)\n",
    "ribasim_model.edge.add(tabulated_rating_curve_node, level_boundary_node)"
   ]
  },
  {
   "cell_type": "code",
   "execution_count": 15,
   "metadata": {},
   "outputs": [],
   "source": [
    "# #add a zeegemaal\n",
    "new_node_id = max(ribasim_model.edge.df.from_node_id.max(), ribasim_model.edge.df.to_node_id.max()) + 1\n",
    "\n",
    "level_boundary_node = ribasim_model.level_boundary.add(Node(new_node_id, Point(170894, 591637)), [level_boundary.Static(level=[default_level])])\n",
    "\n",
    "pump = ribasim_model.pump.add(Node(new_node_id+1, Point(170902, 591432)), [pump.Static(flow_rate=[700/60])])\n",
    "\n",
    "ribasim_model.edge.add(ribasim_model.basin[4], pump)\n",
    "ribasim_model.edge.add(pump, level_boundary_node)"
   ]
  },
  {
   "cell_type": "code",
   "execution_count": 16,
   "metadata": {},
   "outputs": [],
   "source": [
    "# # #add a zeegemaal\n",
    "# new_node_id = max(ribasim_model.edge.df.from_node_id.max(), ribasim_model.edge.df.to_node_id.max()) + 1\n",
    "\n",
    "# level_boundary_node = ribasim_model.level_boundary.add(Node(new_node_id, Point(170898, 591653)), [level_boundary.Static(level=[default_level])])\n",
    "\n",
    "# pump = ribasim_model.pump.add(Node(new_node_id+1, Point(170903,591434)), [pump.Static(flow_rate=[700/60])])\n",
    "\n",
    "# ribasim_model.edge.add(ribasim_model.basin[328], pump)\n",
    "# ribasim_model.edge.add(pump, level_boundary_node)"
   ]
  },
  {
   "cell_type": "code",
   "execution_count": 17,
   "metadata": {},
   "outputs": [],
   "source": [
    "# new_node_id = max(ribasim_model.edge.df.from_node_id.max(), ribasim_model.edge.df.to_node_id.max()) + 1\n",
    "\n",
    "# level_boundary_node = ribasim_model.level_boundary.add(Node(new_node_id, Point(156009, 563075)), [level_boundary.Static(level=[default_level])])\n",
    "\n",
    "# tabulated_rating_curve_node = ribasim_model.tabulated_rating_curve.add(Node(new_node_id+1, Point(156025, 563076)), [tabulated_rating_curve.Static(\n",
    "#             level=[0.0, 1.0],\n",
    "#             flow_rate=[0.0, 1.0])])\n",
    "\n",
    "# ribasim_model.edge.add(ribasim_model.basin[41], tabulated_rating_curve_node)\n",
    "# ribasim_model.edge.add(tabulated_rating_curve_node, level_boundary_node)"
   ]
  },
  {
   "cell_type": "code",
   "execution_count": 18,
   "metadata": {},
   "outputs": [],
   "source": [
    "# new_node_id = max(ribasim_model.edge.df.from_node_id.max(), ribasim_model.edge.df.to_node_id.max()) + 1\n",
    "\n",
    "# level_boundary_node = ribasim_model.level_boundary.add(Node(new_node_id, Point(154644, 567398)), [level_boundary.Static(level=[default_level])])\n",
    "\n",
    "# tabulated_rating_curve_node = ribasim_model.tabulated_rating_curve.add(Node(new_node_id+1, Point(154644, 567398)), [tabulated_rating_curve.Static(\n",
    "#             level=[0.0, 1.0],\n",
    "#             flow_rate=[0.0, 1.0])])\n",
    "\n",
    "# ribasim_model.edge.add(ribasim_model.basin[41], tabulated_rating_curve_node)\n",
    "# ribasim_model.edge.add(tabulated_rating_curve_node, level_boundary_node)"
   ]
  },
  {
   "cell_type": "code",
   "execution_count": 19,
   "metadata": {},
   "outputs": [],
   "source": [
    "# new_node_id = max(ribasim_model.edge.df.from_node_id.max(), ribasim_model.edge.df.to_node_id.max()) + 1\n",
    "\n",
    "# level_boundary_node = ribasim_model.level_boundary.add(Node(new_node_id, Point(156182, 576504)), [level_boundary.Static(level=[default_level])])\n",
    "\n",
    "# tabulated_rating_curve_node = ribasim_model.tabulated_rating_curve.add(Node(new_node_id+1, Point(156624, 576519)), [tabulated_rating_curve.Static(\n",
    "#             level=[0.0, 1.0],\n",
    "#             flow_rate=[0.0, 1.0])])\n",
    "\n",
    "# ribasim_model.edge.add(ribasim_model.basin[282], tabulated_rating_curve_node)\n",
    "# ribasim_model.edge.add(tabulated_rating_curve_node, level_boundary_node)"
   ]
  },
  {
   "cell_type": "code",
   "execution_count": null,
   "metadata": {},
   "outputs": [],
   "source": []
  },
  {
   "cell_type": "code",
   "execution_count": 20,
   "metadata": {},
   "outputs": [],
   "source": [
    "# ribasim_model.edge.df.loc[ribasim_model.edge.df.from_node_id==41, 'meta_from_node_type'] = 'Basin'\n",
    "# ribasim_model.edge.df.loc[ribasim_model.edge.df.to_node_id==3727, 'meta_to_node_type'] = 'TabulatedRatingCurve'\n",
    "# ribasim_model.edge.df.loc[ribasim_model.edge.df.to_node_id==3727, 'meta_categorie'] = 'hoofdwater'\n",
    "\n",
    "\n",
    "# ribasim_model.edge.df.loc[ribasim_model.edge.df.from_node_id==3727, 'meta_from_node_type'] = 'TabulatedRatingCurve'\n",
    "# ribasim_model.edge.df.loc[ribasim_model.edge.df.to_node_id==3726, 'meta_to_node_type'] = 'LevelBoundary'\n",
    "# ribasim_model.edge.df.loc[ribasim_model.edge.df.to_node_id==3726, 'meta_categorie'] = 'hoofdwater'\n",
    "\n"
   ]
  },
  {
   "cell_type": "code",
   "execution_count": 21,
   "metadata": {},
   "outputs": [],
   "source": [
    "ribasim_model.level_boundary.node.df.meta_node_id = ribasim_model.level_boundary.node.df.index\n",
    "ribasim_model.tabulated_rating_curve.node.df.meta_node_id = ribasim_model.tabulated_rating_curve.node.df.index\n",
    "ribasim_model.pump.node.df.meta_node_id = ribasim_model.pump.node.df.index\n",
    "\n"
   ]
  },
  {
   "cell_type": "markdown",
   "metadata": {},
   "source": [
    "## Implement standard profile and a storage basin"
   ]
  },
  {
   "cell_type": "code",
   "execution_count": 22,
   "metadata": {},
   "outputs": [],
   "source": [
    "# Insert standard profiles to each basin. These are [depth_profiles] meter deep, defined from the streefpeil\n",
    "ribasim_param.insert_standard_profile(\n",
    "    ribasim_model,\n",
    "    unknown_streefpeil=unknown_streefpeil,\n",
    "    regular_percentage=regular_percentage,\n",
    "    boezem_percentage=boezem_percentage,\n",
    "    depth_profile=2,\n",
    ")"
   ]
  },
  {
   "cell_type": "code",
   "execution_count": 23,
   "metadata": {},
   "outputs": [],
   "source": [
    "add_storage_basins = AddStorageBasins(\n",
    "    ribasim_model=ribasim_model, exclude_hoofdwater=True, additional_basins_to_exclude=[]\n",
    ")\n",
    "\n",
    "add_storage_basins.create_bergende_basins()\n"
   ]
  },
  {
   "cell_type": "markdown",
   "metadata": {},
   "source": [
    "### Basin (forcing)"
   ]
  },
  {
   "cell_type": "code",
   "execution_count": 24,
   "metadata": {},
   "outputs": [],
   "source": [
    "# Set static forcing\n",
    "forcing_dict = {\n",
    "    \"precipitation\": ribasim_param.convert_mm_day_to_m_sec(10*2),\n",
    "    \"potential_evaporation\": ribasim_param.convert_mm_day_to_m_sec(0),\n",
    "    \"drainage\": ribasim_param.convert_mm_day_to_m_sec(0),\n",
    "    \"infiltration\": ribasim_param.convert_mm_day_to_m_sec(0),\n",
    "    # 'urban_runoff':          ribasim_param.convert_mm_day_to_m_sec(0),\n",
    "}\n",
    "\n",
    "ribasim_param.set_static_forcing(timesteps, timestep_size, start_time, forcing_dict, ribasim_model)"
   ]
  },
  {
   "cell_type": "markdown",
   "metadata": {},
   "source": [
    "### Pumps"
   ]
  },
  {
   "cell_type": "code",
   "execution_count": 25,
   "metadata": {},
   "outputs": [],
   "source": [
    "# Set pump capacity for each pump\n",
    "ribasim_model.pump.static.df[\"flow_rate\"] = 0.16667  # 10 kuub per minuut"
   ]
  },
  {
   "cell_type": "code",
   "execution_count": null,
   "metadata": {},
   "outputs": [],
   "source": []
  },
  {
   "cell_type": "markdown",
   "metadata": {},
   "source": [
    "### Convert all boundary nodes to LevelBoundaries"
   ]
  },
  {
   "cell_type": "code",
   "execution_count": 26,
   "metadata": {},
   "outputs": [],
   "source": [
    "ribasim_param.Terminals_to_LevelBoundaries(ribasim_model=ribasim_model, default_level=default_level)  # clean\n",
    "ribasim_param.FlowBoundaries_to_LevelBoundaries(ribasim_model=ribasim_model, default_level=default_level)"
   ]
  },
  {
   "cell_type": "markdown",
   "metadata": {},
   "source": [
    "### Add Outlet"
   ]
  },
  {
   "cell_type": "code",
   "execution_count": 27,
   "metadata": {},
   "outputs": [],
   "source": [
    "ribasim_param.add_outlets(ribasim_model, delta_crest_level=0.10)"
   ]
  },
  {
   "cell_type": "markdown",
   "metadata": {},
   "source": [
    "## Add control, based on the meta_categorie"
   ]
  },
  {
   "cell_type": "code",
   "execution_count": 28,
   "metadata": {},
   "outputs": [],
   "source": [
    "ribasim_param.identify_node_meta_categorie(ribasim_model)"
   ]
  },
  {
   "cell_type": "code",
   "execution_count": 29,
   "metadata": {},
   "outputs": [],
   "source": [
    "ribasim_param.find_upstream_downstream_target_levels(ribasim_model, node=\"outlet\")\n",
    "ribasim_param.find_upstream_downstream_target_levels(ribasim_model, node=\"pump\")\n"
   ]
  },
  {
   "cell_type": "code",
   "execution_count": 30,
   "metadata": {},
   "outputs": [],
   "source": [
    "# ribasim_param.add_discrete_control(ribasim_model, waterschap, default_level)"
   ]
  },
  {
   "cell_type": "code",
   "execution_count": 31,
   "metadata": {},
   "outputs": [
    {
     "name": "stdout",
     "output_type": "stream",
     "text": [
      "Warning! Some pumps do not have a flow rate yet. Dummy value of 0.1234 m3/s has been taken.\n"
     ]
    }
   ],
   "source": [
    "ribasim_param.determine_min_upstream_max_downstream_levels(ribasim_model, waterschap)"
   ]
  },
  {
   "cell_type": "markdown",
   "metadata": {},
   "source": [
    "### Manning Resistance"
   ]
  },
  {
   "cell_type": "code",
   "execution_count": 32,
   "metadata": {},
   "outputs": [],
   "source": [
    "# there is a MR without geometry and without edges for some reason\n",
    "ribasim_model.manning_resistance.node.df = ribasim_model.manning_resistance.node.df.dropna(subset=\"geometry\")"
   ]
  },
  {
   "cell_type": "code",
   "execution_count": 33,
   "metadata": {},
   "outputs": [],
   "source": [
    "#lower the difference in waterlevel for each manning node\n",
    "ribasim_model.manning_resistance.static.df.length = 25\n",
    "ribasim_model.manning_resistance.static.df.manning_n = 0.01"
   ]
  },
  {
   "cell_type": "markdown",
   "metadata": {},
   "source": [
    "## Last formating of the tables"
   ]
  },
  {
   "cell_type": "code",
   "execution_count": 34,
   "metadata": {},
   "outputs": [],
   "source": [
    "# only retain node_id's which are present in the .node table\n",
    "ribasim_param.clean_tables(ribasim_model, waterschap)"
   ]
  },
  {
   "cell_type": "markdown",
   "metadata": {},
   "source": [
    "# Set numerical settings"
   ]
  },
  {
   "cell_type": "code",
   "execution_count": 35,
   "metadata": {},
   "outputs": [],
   "source": [
    "# Write model output\n",
    "ribasim_model.use_validation = True\n",
    "ribasim_model.starttime = datetime.datetime(2024, 1, 1)\n",
    "ribasim_model.endtime = datetime.datetime(2024, 4, 1)\n",
    "ribasim_model.solver.saveat = 3600 * 24 #increase saveat to save storage\n",
    "ribasim_param.write_ribasim_model_Zdrive(ribasim_model, path_ribasim_toml)"
   ]
  },
  {
   "cell_type": "markdown",
   "metadata": {},
   "source": [
    "## Run Model"
   ]
  },
  {
   "cell_type": "code",
   "execution_count": 36,
   "metadata": {},
   "outputs": [
    {
     "data": {
      "application/vnd.jupyter.widget-view+json": {
       "model_id": "6531c193f5b34062957c0c8d0272f852",
       "version_major": 2,
       "version_minor": 0
      },
      "text/plain": [
       "Simulating init:   0%|          | 0/100 [00:00<?, ?it/s]"
      ]
     },
     "metadata": {},
     "output_type": "display_data"
    }
   ],
   "source": [
    "ribasim_param.tqdm_subprocess([\"ribasim\", path_ribasim_toml], \n",
    "                              print_other=False, \n",
    "                              suffix=\"init\")"
   ]
  },
  {
   "cell_type": "code",
   "execution_count": 37,
   "metadata": {},
   "outputs": [],
   "source": [
    "controle_output = Control(work_dir=work_dir)\n",
    "indicators = controle_output.run_all()"
   ]
  },
  {
   "cell_type": "code",
   "execution_count": null,
   "metadata": {},
   "outputs": [],
   "source": []
  },
  {
   "cell_type": "markdown",
   "metadata": {},
   "source": [
    "# Write model"
   ]
  },
  {
   "cell_type": "code",
   "execution_count": 38,
   "metadata": {},
   "outputs": [
    {
     "name": "stdout",
     "output_type": "stream",
     "text": [
      "../../../../../Ribasim_networks/Waterschappen/WetterskipFryslan/modellen/WetterskipFryslan_parametrized/results\n",
      "The model of waterboard WetterskipFryslan has been uploaded to the goodcloud in the directory of boezemmodel!\n"
     ]
    }
   ],
   "source": [
    "# control_dict = Control(work_dir = work_dir).run_all()\n",
    "ribasim_param.write_ribasim_model_GoodCloud(\n",
    "    ribasim_model=ribasim_model,\n",
    "    path_ribasim_toml=path_ribasim_toml,\n",
    "    waterschap=waterschap,\n",
    "    modeltype=\"boezemmodel\",\n",
    "    include_results=True,\n",
    ")"
   ]
  },
  {
   "cell_type": "code",
   "execution_count": 39,
   "metadata": {},
   "outputs": [],
   "source": [
    "df_edge = pd.read_feather(os.path.join(output_dir, \"flow.arrow\"))\n"
   ]
  },
  {
   "cell_type": "code",
   "execution_count": 40,
   "metadata": {},
   "outputs": [
    {
     "data": {
      "text/html": [
       "<div>\n",
       "<style scoped>\n",
       "    .dataframe tbody tr th:only-of-type {\n",
       "        vertical-align: middle;\n",
       "    }\n",
       "\n",
       "    .dataframe tbody tr th {\n",
       "        vertical-align: top;\n",
       "    }\n",
       "\n",
       "    .dataframe thead th {\n",
       "        text-align: right;\n",
       "    }\n",
       "</style>\n",
       "<table border=\"1\" class=\"dataframe\">\n",
       "  <thead>\n",
       "    <tr style=\"text-align: right;\">\n",
       "      <th></th>\n",
       "      <th>time</th>\n",
       "      <th>edge_id</th>\n",
       "      <th>from_node_id</th>\n",
       "      <th>to_node_id</th>\n",
       "      <th>flow_rate</th>\n",
       "    </tr>\n",
       "  </thead>\n",
       "  <tbody>\n",
       "    <tr>\n",
       "      <th>281163</th>\n",
       "      <td>2024-02-07</td>\n",
       "      <td>4700</td>\n",
       "      <td>3156</td>\n",
       "      <td>1103</td>\n",
       "      <td>-126.493121</td>\n",
       "    </tr>\n",
       "    <tr>\n",
       "      <th>278397</th>\n",
       "      <td>2024-02-07</td>\n",
       "      <td>1934</td>\n",
       "      <td>71</td>\n",
       "      <td>3156</td>\n",
       "      <td>-126.493121</td>\n",
       "    </tr>\n",
       "    <tr>\n",
       "      <th>323229</th>\n",
       "      <td>2024-02-13</td>\n",
       "      <td>1934</td>\n",
       "      <td>71</td>\n",
       "      <td>3156</td>\n",
       "      <td>-125.906403</td>\n",
       "    </tr>\n",
       "    <tr>\n",
       "      <th>325995</th>\n",
       "      <td>2024-02-13</td>\n",
       "      <td>4700</td>\n",
       "      <td>3156</td>\n",
       "      <td>1103</td>\n",
       "      <td>-125.906403</td>\n",
       "    </tr>\n",
       "    <tr>\n",
       "      <th>338173</th>\n",
       "      <td>2024-02-15</td>\n",
       "      <td>1934</td>\n",
       "      <td>71</td>\n",
       "      <td>3156</td>\n",
       "      <td>-125.756353</td>\n",
       "    </tr>\n",
       "    <tr>\n",
       "      <th>...</th>\n",
       "      <td>...</td>\n",
       "      <td>...</td>\n",
       "      <td>...</td>\n",
       "      <td>...</td>\n",
       "      <td>...</td>\n",
       "    </tr>\n",
       "    <tr>\n",
       "      <th>337913</th>\n",
       "      <td>2024-02-15</td>\n",
       "      <td>1674</td>\n",
       "      <td>71</td>\n",
       "      <td>2886</td>\n",
       "      <td>150.363439</td>\n",
       "    </tr>\n",
       "    <tr>\n",
       "      <th>278137</th>\n",
       "      <td>2024-02-07</td>\n",
       "      <td>1674</td>\n",
       "      <td>71</td>\n",
       "      <td>2886</td>\n",
       "      <td>151.263737</td>\n",
       "    </tr>\n",
       "    <tr>\n",
       "      <th>280900</th>\n",
       "      <td>2024-02-07</td>\n",
       "      <td>4437</td>\n",
       "      <td>2886</td>\n",
       "      <td>391</td>\n",
       "      <td>151.263737</td>\n",
       "    </tr>\n",
       "    <tr>\n",
       "      <th>276998</th>\n",
       "      <td>2024-02-07</td>\n",
       "      <td>535</td>\n",
       "      <td>391</td>\n",
       "      <td>1724</td>\n",
       "      <td>151.263818</td>\n",
       "    </tr>\n",
       "    <tr>\n",
       "      <th>279764</th>\n",
       "      <td>2024-02-07</td>\n",
       "      <td>3301</td>\n",
       "      <td>1724</td>\n",
       "      <td>71</td>\n",
       "      <td>151.263818</td>\n",
       "    </tr>\n",
       "  </tbody>\n",
       "</table>\n",
       "<p>679952 rows × 5 columns</p>\n",
       "</div>"
      ],
      "text/plain": [
       "             time  edge_id  from_node_id  to_node_id   flow_rate\n",
       "281163 2024-02-07     4700          3156        1103 -126.493121\n",
       "278397 2024-02-07     1934            71        3156 -126.493121\n",
       "323229 2024-02-13     1934            71        3156 -125.906403\n",
       "325995 2024-02-13     4700          3156        1103 -125.906403\n",
       "338173 2024-02-15     1934            71        3156 -125.756353\n",
       "...           ...      ...           ...         ...         ...\n",
       "337913 2024-02-15     1674            71        2886  150.363439\n",
       "278137 2024-02-07     1674            71        2886  151.263737\n",
       "280900 2024-02-07     4437          2886         391  151.263737\n",
       "276998 2024-02-07      535           391        1724  151.263818\n",
       "279764 2024-02-07     3301          1724          71  151.263818\n",
       "\n",
       "[679952 rows x 5 columns]"
      ]
     },
     "execution_count": 40,
     "metadata": {},
     "output_type": "execute_result"
    }
   ],
   "source": [
    "df_edge.sort_values(by='flow_rate')"
   ]
  },
  {
   "cell_type": "code",
   "execution_count": null,
   "metadata": {},
   "outputs": [],
   "source": []
  }
 ],
 "metadata": {
  "kernelspec": {
   "display_name": "Python [conda env:ribasim]",
   "language": "python",
   "name": "conda-env-ribasim-py"
  },
  "language_info": {
   "codemirror_mode": {
    "name": "ipython",
    "version": 3
   },
   "file_extension": ".py",
   "mimetype": "text/x-python",
   "name": "python",
   "nbconvert_exporter": "python",
   "pygments_lexer": "ipython3",
   "version": "3.12.7"
  }
 },
 "nbformat": 4,
 "nbformat_minor": 4
}
