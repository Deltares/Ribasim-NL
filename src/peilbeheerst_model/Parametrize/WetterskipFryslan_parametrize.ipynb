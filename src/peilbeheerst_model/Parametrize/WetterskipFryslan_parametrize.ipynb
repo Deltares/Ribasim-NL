{
 "cells": [
  {
   "cell_type": "code",
   "execution_count": 1,
   "metadata": {},
   "outputs": [],
   "source": [
    "import os\n",
    "import subprocess\n",
    "import sys\n",
    "import ribasim\n",
    "import ribasim.nodes\n",
    "import toml\n",
    "import tomli\n",
    "import numpy as np\n",
    "import pandas as pd\n",
    "import pathlib\n",
    "import tqdm.auto as tqdm\n",
    "import warnings\n",
    "import datetime\n",
    "from pathlib import Path\n",
    "import logging\n",
    "\n",
    "from shapely.geometry import Point\n",
    "\n",
    "#load ribasim_nl\n",
    "module_path = Path.cwd() / '../../ribasim_nl/'\n",
    "sys.path.append(str(module_path))\n",
    "from ribasim_nl import CloudStorage\n",
    "\n",
    "current_dir = os.getcwd()\n",
    "parent_dir = os.path.dirname(current_dir)\n",
    "if parent_dir not in sys.path:\n",
    "    sys.path.append(parent_dir)\n",
    "\n",
    "%reload_ext autoreload\n",
    "%autoreload 2\n",
    "warnings.filterwarnings('ignore')\n",
    "    \n",
    "import peilbeheerst_model.ribasim_parametrization as ribasim_param\n",
    "from peilbeheerst_model.ribasim_feedback_processor import RibasimFeedbackProcessor\n",
    "\n",
    "from peilbeheerst_model.controle_output import *\n",
    "from ribasim import Solver\n",
    "\n",
    "from ribasim import Allocation, Model, Node\n",
    "from ribasim.nodes import (\n",
    "    basin,\n",
    "    discrete_control,\n",
    "    flow_boundary,\n",
    "    fractional_flow,\n",
    "    level_boundary,\n",
    "    level_demand,\n",
    "    linear_resistance,\n",
    "    manning_resistance,\n",
    "    outlet,\n",
    "    pid_control,\n",
    "    pump,\n",
    "    tabulated_rating_curve,\n",
    "    user_demand,\n",
    ")"
   ]
  },
  {
   "cell_type": "raw",
   "metadata": {},
   "source": [
    "\"\"\"\n",
    "Model Aannamens:\n",
    "- Max area van hydroobjecten is 10% van basin area, 90% bij boezem\n",
    "- Initial state op streefpeil\n",
    "- \n",
    "\"\"\""
   ]
  },
  {
   "cell_type": "markdown",
   "metadata": {},
   "source": [
    "## Define variables and model"
   ]
  },
  {
   "cell_type": "markdown",
   "metadata": {},
   "source": [
    "#### Set Config"
   ]
  },
  {
   "cell_type": "code",
   "execution_count": 2,
   "metadata": {},
   "outputs": [],
   "source": [
    "# Set paths\n",
    "waterschap = \"WetterskipFryslan\"\n",
    "versie = \"2024_6_17\"\n",
    "\n",
    "work_dir = pathlib.Path(r\"../../../../../Ribasim_base_models\", waterschap)\n",
    "ribasim_gpkg = work_dir.joinpath(\"database.gpkg\")\n",
    "path_ribasim_toml = work_dir.joinpath(\"ribasim.toml\")\n",
    "output_dir = work_dir.joinpath(\"results\")\n",
    "\n",
    "# Basin area percentage\n",
    "regular_percentage = 10\n",
    "boezem_percentage = 90\n",
    "unknown_streefpeil = 0.00012345 #we need a streefpeil to create the profiles, Q(h)-relations, and af- and aanslag peil for pumps\n",
    "\n",
    "# Forcing settings\n",
    "start_time = \"2024-01-01\"\n",
    "timestep_size = 'd'\n",
    "timesteps = 2\n"
   ]
  },
  {
   "cell_type": "code",
   "execution_count": null,
   "metadata": {},
   "outputs": [],
   "source": []
  },
  {
   "cell_type": "markdown",
   "metadata": {},
   "source": [
    "## Process the feedback form"
   ]
  },
  {
   "cell_type": "raw",
   "metadata": {},
   "source": [
    "The form of Wetterskip has not been added, as there was only one line of feedback. This line included some operations which is not possible by making use of the feedback form. This has been added some code blocks belows."
   ]
  },
  {
   "cell_type": "code",
   "execution_count": 3,
   "metadata": {
    "scrolled": true
   },
   "outputs": [],
   "source": [
    "# name = \"Ron Bruijns (HKV)\"\n",
    "\n",
    "# feedback_excel = pathlib.Path(r\"../../../../../Ribasim_feedback/V1_formulieren/feedback_formulier_\" + waterschap + \".xlsx\")\n",
    "# feedback_excel_processed = r\"../../../../..//Ribasim_feedback/V1_formulieren_verwerkt/feedback_formulier_\" + waterschap + \"_JA_processed.xlsx\"\n",
    "\n",
    "# ribasim_toml = pathlib.Path(r\"../../../../../Ribasim_base_models\", waterschap + '_boezemmodel_' + versie, 'ribasim.toml')\n",
    "# output_folder = work_dir #r\"../../../../../Ribasim_updated_models/AmstelGooienVecht\"\n",
    "\n",
    "# processor = RibasimFeedbackProcessor(name, waterschap, versie, feedback_excel, ribasim_toml, output_folder, feedback_excel_processed)\n",
    "# processor.run()\n",
    "\n"
   ]
  },
  {
   "cell_type": "code",
   "execution_count": 4,
   "metadata": {},
   "outputs": [],
   "source": [
    "# path_ribasim_toml = os.path.join(work_dir, waterschap + '_boezemmodel_' + versie, 'ribasim.toml')\n",
    "path_ribasim_toml = \"../../../../../Ribasim_base_models/WetterskipFryslan_boezemmodel_2024_6_17/ribasim.toml\"\n",
    "output_folder = work_dir #r\"../../../../../Ribasim_updated_models/AmstelGooienVecht\"\n"
   ]
  },
  {
   "cell_type": "code",
   "execution_count": 6,
   "metadata": {},
   "outputs": [
    {
     "ename": "SyntaxError",
     "evalue": "invalid syntax (3021745423.py, line 1)",
     "output_type": "error",
     "traceback": [
      "\u001b[0;36m  Cell \u001b[0;32mIn[6], line 1\u001b[0;36m\u001b[0m\n\u001b[0;31m    let op! verwijder bovenstaand toml file als er meer feedback komt\u001b[0m\n\u001b[0m        ^\u001b[0m\n\u001b[0;31mSyntaxError\u001b[0m\u001b[0;31m:\u001b[0m invalid syntax\n"
     ]
    }
   ],
   "source": [
    "let op! verwijder bovenstaand toml file als er meer feedback komt"
   ]
  },
  {
   "cell_type": "markdown",
   "metadata": {},
   "source": [
    "#### Load model"
   ]
  },
  {
   "cell_type": "code",
   "execution_count": 7,
   "metadata": {},
   "outputs": [],
   "source": [
    "# Load Ribasim model\n",
    "with warnings.catch_warnings():\n",
    "    warnings.simplefilter(action='ignore', category=FutureWarning)\n",
    "    ribasim_model = ribasim.Model(filepath=path_ribasim_toml)"
   ]
  },
  {
   "cell_type": "markdown",
   "metadata": {},
   "source": [
    "## Model specific tweaks"
   ]
  },
  {
   "cell_type": "code",
   "execution_count": 8,
   "metadata": {},
   "outputs": [],
   "source": [
    "assert not pd.isnull(ribasim_model.basin.area.df.meta_streefpeil).any()\n",
    "\n",
    "ribasim_model.basin.area.df.loc[ribasim_model.basin.area.df['meta_streefpeil'] == 'Onbekend streefpeil', 'meta_streefpeil'] = unknown_streefpeil\n",
    "\n",
    "ribasim_model.basin.area.df.loc[ribasim_model.basin.area.df['meta_streefpeil'] == 9.999, 'meta_streefpeil'] = unknown_streefpeil"
   ]
  },
  {
   "cell_type": "markdown",
   "metadata": {},
   "source": [
    "### Add a Terminal and a gemaal at the northernmost Zeepolder"
   ]
  },
  {
   "cell_type": "code",
   "execution_count": 9,
   "metadata": {},
   "outputs": [],
   "source": [
    "#First, add the gemaal\n",
    "node_id_gemaal = ribasim_param.get_current_max_nodeid(ribasim_model) + 1 #define new node_id number\n",
    "ribasim_model.pump.add(Node(node_id_gemaal, Point(170900, 591437)), [pump.Static(flow_rate=[700 / 60])])  #add pump\n",
    "ribasim_model.edge.add(ribasim_model.basin[328], ribasim_model.pump[node_id_gemaal]) #add the egde from the basin to the pump\n",
    "\n",
    "node_id_terminal = ribasim_param.get_current_max_nodeid(ribasim_model) + 1 #define new node_id number\n",
    "ribasim_model.terminal.add(Node(node_id_terminal, Point(170898, 591445))) #add Terminal\n",
    "ribasim_model.edge.add(ribasim_model.pump[node_id_gemaal], ribasim_model.terminal[node_id_terminal]) #add the edge from the pump to the terminal\n",
    "\n",
    "#add the edges between the two nodes above\n",
    "\n"
   ]
  },
  {
   "cell_type": "code",
   "execution_count": 10,
   "metadata": {},
   "outputs": [],
   "source": [
    "# These nodes have suddenly been added, without apparent reason. Delete these nodes\n",
    "ribasim_model.pump.node.df = ribasim_model.pump.node.df.loc[ribasim_model.pump.node.df.node_id != 94374]\n",
    "ribasim_model.pump.node.df = ribasim_model.pump.node.df.loc[ribasim_model.pump.node.df.node_id != 94376]\n"
   ]
  },
  {
   "cell_type": "markdown",
   "metadata": {},
   "source": [
    "# Parameterization"
   ]
  },
  {
   "cell_type": "markdown",
   "metadata": {},
   "source": [
    "## Nodes"
   ]
  },
  {
   "cell_type": "markdown",
   "metadata": {},
   "source": [
    "### Basin (characteristics)"
   ]
  },
  {
   "cell_type": "code",
   "execution_count": 11,
   "metadata": {},
   "outputs": [],
   "source": [
    "# Define the initial state of each basin. Is set equal to the streefpeil\n",
    "# ribasim_param.set_initial_basin_state(ribasim_model) #the initial states of the basins are by default already set to the streefpeil!\n",
    "\n",
    "# Insert standard profiles to each basin. These are [depth_profiles] meter deep, defined from the streefpeil\n",
    "ribasim_param.insert_standard_profile(ribasim_model, \n",
    "                                      regular_percentage = regular_percentage, \n",
    "                                      boezem_percentage = boezem_percentage,\n",
    "                                      depth_profile = 2)"
   ]
  },
  {
   "cell_type": "code",
   "execution_count": null,
   "metadata": {},
   "outputs": [],
   "source": [
    "# Add storage basins\n",
    "# model_name = 'AmstelGooienVecht_StorageBasins'\n",
    "# node_ids = [1, 2, 3]  # Specify node IDs to process or include_hoofdwater Boolean\n",
    "processor = AddStorageBasin(ribasim_toml, model_name, output_folder, include_hoofdwater=True, log=True, node_ids=None)\n",
    "ribasim_model = processor.run()\n",
    "\n",
    "# Check basin area\n",
    "ribasim_param.validate_basin_area(ribasim_model)"
   ]
  },
  {
   "cell_type": "markdown",
   "metadata": {},
   "source": [
    "### Basin (forcing)"
   ]
  },
  {
   "cell_type": "code",
   "execution_count": 12,
   "metadata": {},
   "outputs": [],
   "source": [
    "# Set static forcing\n",
    "forcing_dict = {'precipitation':         ribasim_param.convert_mm_day_to_m_sec(5),\n",
    "                'potential_evaporation': ribasim_param.convert_mm_day_to_m_sec(0),\n",
    "                'drainage':              ribasim_param.convert_mm_day_to_m_sec(0),\n",
    "                'infiltration':          ribasim_param.convert_mm_day_to_m_sec(0),\n",
    "                'urban_runoff':          ribasim_param.convert_mm_day_to_m_sec(0),\n",
    "                }\n",
    "\n",
    "ribasim_param.set_static_forcing(timesteps, timestep_size, start_time, forcing_dict, ribasim_model)\n"
   ]
  },
  {
   "cell_type": "markdown",
   "metadata": {},
   "source": [
    "### Pumps"
   ]
  },
  {
   "cell_type": "code",
   "execution_count": 13,
   "metadata": {},
   "outputs": [],
   "source": [
    "# Set pump capacity for each pump\n",
    "ribasim_model.pump.static.df['flow_rate'] = 0.16667 # 10 kuub per minuut"
   ]
  },
  {
   "cell_type": "markdown",
   "metadata": {},
   "source": [
    "### FlowBoundary"
   ]
  },
  {
   "cell_type": "code",
   "execution_count": 14,
   "metadata": {},
   "outputs": [],
   "source": [
    "# Set FlowBoundary rate for each pump\n",
    "ribasim_model.flow_boundary.static.df['flow_rate'] = 0 #"
   ]
  },
  {
   "cell_type": "markdown",
   "metadata": {},
   "source": [
    "### Add Discrete Control"
   ]
  },
  {
   "cell_type": "code",
   "execution_count": 15,
   "metadata": {},
   "outputs": [],
   "source": [
    "# Add discrete control nodes and control edges\n",
    "ribasim_param.add_discrete_control_nodes(ribasim_model)"
   ]
  },
  {
   "cell_type": "markdown",
   "metadata": {},
   "source": [
    "### TabulatedRatingCurve"
   ]
  },
  {
   "cell_type": "code",
   "execution_count": 16,
   "metadata": {},
   "outputs": [],
   "source": [
    "# First, set the Q(h)-relationship to a relationship which is at each TRC node the same\n",
    "ribasim_param.set_tabulated_rating_curves(ribasim_model, level_increase=1.0, flow_rate=1)\n",
    "\n",
    "# The water level in the boezem is regulated heavily. There is a smaller tolerance for an increase in water level. \n",
    "# Hence, the TRC's which discharge water from the boezem to a Terminal should have a higher capacity.\n",
    "ribasim_param.set_tabulated_rating_curves_boundaries(ribasim_model, level_increase=0.10, flow_rate=40)\n"
   ]
  },
  {
   "cell_type": "markdown",
   "metadata": {},
   "source": [
    "# Set numerical settings"
   ]
  },
  {
   "cell_type": "code",
   "execution_count": 17,
   "metadata": {},
   "outputs": [],
   "source": [
    "# Write model output\n",
    "ribasim_param.index_reset(ribasim_model)\n",
    "ribasim_model.starttime = datetime.datetime(2024, 1, 1)\n",
    "ribasim_model.endtime = datetime.datetime(2024, 1, 1, 0, 0, 1)\n",
    "ribasim_model.solver.saveat = 3600\n",
    "ribasim_param.write_ribasim_model_Zdrive(ribasim_model, \n",
    "                                         path_ribasim_toml)"
   ]
  },
  {
   "cell_type": "markdown",
   "metadata": {},
   "source": [
    "## Run Model"
   ]
  },
  {
   "cell_type": "markdown",
   "metadata": {},
   "source": [
    "## Iterate over tabulated rating curves"
   ]
  },
  {
   "cell_type": "code",
   "execution_count": 18,
   "metadata": {},
   "outputs": [
    {
     "data": {
      "application/vnd.jupyter.widget-view+json": {
       "model_id": "e3c04879ae5e40c1a9de7ccc36e1cd43",
       "version_major": 2,
       "version_minor": 0
      },
      "text/plain": [
       "Simulating init:   0%|          | 0/100 [00:00<?, ?it/s]"
      ]
     },
     "metadata": {},
     "output_type": "display_data"
    },
    {
     "name": "stderr",
     "output_type": "stream",
     "text": [
      "ERROR:root:The model was not able to run. Log file:\n",
      "ERROR:root:Could not read the log file: [Errno 2] No such file or directory: '../../../../../Ribasim_base_models/WetterskipFryslan/results/ribasim.log'\n"
     ]
    }
   ],
   "source": [
    "try:\n",
    "    ribasim_param.iterate_TRC(ribasim_param = ribasim_param, \n",
    "                          allowed_tolerance = 0.02, \n",
    "                          max_iter = 1, \n",
    "                          expected_difference = 0.1, \n",
    "                          max_adjustment = 0.25, \n",
    "                          cmd = ['ribasim', path_ribasim_toml], \n",
    "                          output_dir = output_dir, \n",
    "                          path_ribasim_toml = path_ribasim_toml)\n",
    "\n",
    "except Exception as e:\n",
    "    logging.error(\"The model was not able to run. Log file:\")\n",
    "    log_file_path = os.path.join(output_dir, 'ribasim.log') \n",
    "    try:\n",
    "        with open(log_file_path, 'r') as log_file:\n",
    "            log_content = log_file.read()\n",
    "            print(log_content)\n",
    "    except Exception as log_exception:\n",
    "        logging.error(f\"Could not read the log file: {log_exception}\")"
   ]
  },
  {
   "cell_type": "markdown",
   "metadata": {},
   "source": [
    "# Write model"
   ]
  },
  {
   "cell_type": "code",
   "execution_count": 22,
   "metadata": {},
   "outputs": [],
   "source": [
    "path_ribasim_toml = \"../../../../../Ribasim_updated_models/WetterskipFryslan/ribasim.toml\""
   ]
  },
  {
   "cell_type": "code",
   "execution_count": 21,
   "metadata": {},
   "outputs": [
    {
     "ename": "SyntaxError",
     "evalue": "invalid syntax (715709383.py, line 1)",
     "output_type": "error",
     "traceback": [
      "\u001b[0;36m  Cell \u001b[0;32mIn[21], line 1\u001b[0;36m\u001b[0m\n\u001b[0;31m    pas wederom het pad hierboven aan\u001b[0m\n\u001b[0m        ^\u001b[0m\n\u001b[0;31mSyntaxError\u001b[0m\u001b[0;31m:\u001b[0m invalid syntax\n"
     ]
    }
   ],
   "source": [
    "pas wederom het pad hierboven aan"
   ]
  },
  {
   "cell_type": "code",
   "execution_count": 23,
   "metadata": {},
   "outputs": [
    {
     "name": "stdout",
     "output_type": "stream",
     "text": [
      "The model of waterboard WetterskipFryslan has been uploaded to the goodcloud in the directory of boezemmodel!\n"
     ]
    }
   ],
   "source": [
    "# control_dict = Control(work_dir = work_dir).run_all()\n",
    "ribasim_param.write_ribasim_model_GoodCloud(ribasim_model = ribasim_model, \n",
    "                                            path_ribasim_toml = path_ribasim_toml,\n",
    "                                            waterschap = waterschap, \n",
    "                                            modeltype = 'boezemmodel',\n",
    "                                            include_results = True)\n"
   ]
  },
  {
   "cell_type": "markdown",
   "metadata": {},
   "source": [
    "## Open Output"
   ]
  },
  {
   "cell_type": "code",
   "execution_count": 20,
   "metadata": {},
   "outputs": [
    {
     "ename": "FileNotFoundError",
     "evalue": "[Errno 2] No such file or directory: '../../../../../Ribasim_base_models/WetterskipFryslan/results/basin.arrow'",
     "output_type": "error",
     "traceback": [
      "\u001b[0;31m---------------------------------------------------------------------------\u001b[0m",
      "\u001b[0;31mFileNotFoundError\u001b[0m                         Traceback (most recent call last)",
      "Cell \u001b[0;32mIn[20], line 1\u001b[0m\n\u001b[0;32m----> 1\u001b[0m df_basin \u001b[38;5;241m=\u001b[39m \u001b[43mpd\u001b[49m\u001b[38;5;241;43m.\u001b[39;49m\u001b[43mread_feather\u001b[49m\u001b[43m(\u001b[49m\u001b[43mos\u001b[49m\u001b[38;5;241;43m.\u001b[39;49m\u001b[43mpath\u001b[49m\u001b[38;5;241;43m.\u001b[39;49m\u001b[43mjoin\u001b[49m\u001b[43m(\u001b[49m\u001b[43moutput_dir\u001b[49m\u001b[43m,\u001b[49m\u001b[43m \u001b[49m\u001b[38;5;124;43m'\u001b[39;49m\u001b[38;5;124;43mbasin.arrow\u001b[39;49m\u001b[38;5;124;43m'\u001b[39;49m\u001b[43m)\u001b[49m\u001b[43m)\u001b[49m\n\u001b[1;32m      2\u001b[0m df_basin\n",
      "File \u001b[0;32m/opt/tljh/user/envs/ribasim/lib/python3.10/site-packages/pandas/io/feather_format.py:120\u001b[0m, in \u001b[0;36mread_feather\u001b[0;34m(path, columns, use_threads, storage_options, dtype_backend)\u001b[0m\n\u001b[1;32m    116\u001b[0m \u001b[38;5;28;01mimport\u001b[39;00m \u001b[38;5;21;01mpandas\u001b[39;00m\u001b[38;5;21;01m.\u001b[39;00m\u001b[38;5;21;01mcore\u001b[39;00m\u001b[38;5;21;01m.\u001b[39;00m\u001b[38;5;21;01marrays\u001b[39;00m\u001b[38;5;21;01m.\u001b[39;00m\u001b[38;5;21;01marrow\u001b[39;00m\u001b[38;5;21;01m.\u001b[39;00m\u001b[38;5;21;01mextension_types\u001b[39;00m  \u001b[38;5;66;03m# pyright: ignore[reportUnusedImport] # noqa: F401\u001b[39;00m\n\u001b[1;32m    118\u001b[0m check_dtype_backend(dtype_backend)\n\u001b[0;32m--> 120\u001b[0m \u001b[38;5;28;01mwith\u001b[39;00m \u001b[43mget_handle\u001b[49m\u001b[43m(\u001b[49m\n\u001b[1;32m    121\u001b[0m \u001b[43m    \u001b[49m\u001b[43mpath\u001b[49m\u001b[43m,\u001b[49m\u001b[43m \u001b[49m\u001b[38;5;124;43m\"\u001b[39;49m\u001b[38;5;124;43mrb\u001b[39;49m\u001b[38;5;124;43m\"\u001b[39;49m\u001b[43m,\u001b[49m\u001b[43m \u001b[49m\u001b[43mstorage_options\u001b[49m\u001b[38;5;241;43m=\u001b[39;49m\u001b[43mstorage_options\u001b[49m\u001b[43m,\u001b[49m\u001b[43m \u001b[49m\u001b[43mis_text\u001b[49m\u001b[38;5;241;43m=\u001b[39;49m\u001b[38;5;28;43;01mFalse\u001b[39;49;00m\n\u001b[1;32m    122\u001b[0m \u001b[43m\u001b[49m\u001b[43m)\u001b[49m \u001b[38;5;28;01mas\u001b[39;00m handles:\n\u001b[1;32m    123\u001b[0m     \u001b[38;5;28;01mif\u001b[39;00m dtype_backend \u001b[38;5;129;01mis\u001b[39;00m lib\u001b[38;5;241m.\u001b[39mno_default \u001b[38;5;129;01mand\u001b[39;00m \u001b[38;5;129;01mnot\u001b[39;00m using_pyarrow_string_dtype():\n\u001b[1;32m    124\u001b[0m         \u001b[38;5;28;01mreturn\u001b[39;00m feather\u001b[38;5;241m.\u001b[39mread_feather(\n\u001b[1;32m    125\u001b[0m             handles\u001b[38;5;241m.\u001b[39mhandle, columns\u001b[38;5;241m=\u001b[39mcolumns, use_threads\u001b[38;5;241m=\u001b[39m\u001b[38;5;28mbool\u001b[39m(use_threads)\n\u001b[1;32m    126\u001b[0m         )\n",
      "File \u001b[0;32m/opt/tljh/user/envs/ribasim/lib/python3.10/site-packages/pandas/io/common.py:882\u001b[0m, in \u001b[0;36mget_handle\u001b[0;34m(path_or_buf, mode, encoding, compression, memory_map, is_text, errors, storage_options)\u001b[0m\n\u001b[1;32m    873\u001b[0m         handle \u001b[38;5;241m=\u001b[39m \u001b[38;5;28mopen\u001b[39m(\n\u001b[1;32m    874\u001b[0m             handle,\n\u001b[1;32m    875\u001b[0m             ioargs\u001b[38;5;241m.\u001b[39mmode,\n\u001b[0;32m   (...)\u001b[0m\n\u001b[1;32m    878\u001b[0m             newline\u001b[38;5;241m=\u001b[39m\u001b[38;5;124m\"\u001b[39m\u001b[38;5;124m\"\u001b[39m,\n\u001b[1;32m    879\u001b[0m         )\n\u001b[1;32m    880\u001b[0m     \u001b[38;5;28;01melse\u001b[39;00m:\n\u001b[1;32m    881\u001b[0m         \u001b[38;5;66;03m# Binary mode\u001b[39;00m\n\u001b[0;32m--> 882\u001b[0m         handle \u001b[38;5;241m=\u001b[39m \u001b[38;5;28;43mopen\u001b[39;49m\u001b[43m(\u001b[49m\u001b[43mhandle\u001b[49m\u001b[43m,\u001b[49m\u001b[43m \u001b[49m\u001b[43mioargs\u001b[49m\u001b[38;5;241;43m.\u001b[39;49m\u001b[43mmode\u001b[49m\u001b[43m)\u001b[49m\n\u001b[1;32m    883\u001b[0m     handles\u001b[38;5;241m.\u001b[39mappend(handle)\n\u001b[1;32m    885\u001b[0m \u001b[38;5;66;03m# Convert BytesIO or file objects passed with an encoding\u001b[39;00m\n",
      "\u001b[0;31mFileNotFoundError\u001b[0m: [Errno 2] No such file or directory: '../../../../../Ribasim_base_models/WetterskipFryslan/results/basin.arrow'"
     ]
    }
   ],
   "source": [
    "df_basin = pd.read_feather(os.path.join(output_dir, 'basin.arrow'))\n",
    "df_basin"
   ]
  },
  {
   "cell_type": "code",
   "execution_count": null,
   "metadata": {},
   "outputs": [],
   "source": []
  }
 ],
 "metadata": {
  "kernelspec": {
   "display_name": "Python [conda env:ribasim]",
   "language": "python",
   "name": "conda-env-ribasim-py"
  },
  "language_info": {
   "codemirror_mode": {
    "name": "ipython",
    "version": 3
   },
   "file_extension": ".py",
   "mimetype": "text/x-python",
   "name": "python",
   "nbconvert_exporter": "python",
   "pygments_lexer": "ipython3",
   "version": "3.10.13"
  }
 },
 "nbformat": 4,
 "nbformat_minor": 4
}
