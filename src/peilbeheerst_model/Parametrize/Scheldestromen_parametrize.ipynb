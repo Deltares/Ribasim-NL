{
 "cells": [
  {
   "cell_type": "code",
   "execution_count": null,
   "metadata": {},
   "outputs": [],
   "source": [
    "import datetime\n",
    "import os\n",
    "import warnings\n",
    "\n",
    "import pandas as pd\n",
    "import ribasim\n",
    "import ribasim.nodes\n",
    "from ribasim import Node\n",
    "from ribasim.nodes import level_boundary, tabulated_rating_curve\n",
    "from shapely import Point\n",
    "\n",
    "import peilbeheerst_model.ribasim_parametrization as ribasim_param\n",
    "from peilbeheerst_model.add_storage_basins import AddStorageBasins\n",
    "from peilbeheerst_model.controle_output import Control\n",
    "from peilbeheerst_model.ribasim_feedback_processor import RibasimFeedbackProcessor\n",
    "from ribasim_nl import CloudStorage"
   ]
  },
  {
   "cell_type": "code",
   "execution_count": null,
   "metadata": {},
   "outputs": [],
   "source": [
    "waterschap = \"Scheldestromen\"\n",
    "base_model_versie = \"2024_12_0\""
   ]
  },
  {
   "cell_type": "markdown",
   "metadata": {},
   "source": [
    "# Connect with the GoodCloud"
   ]
  },
  {
   "cell_type": "code",
   "execution_count": null,
   "metadata": {},
   "outputs": [],
   "source": [
    "cloud = CloudStorage()\n",
    "\n",
    "# collect data from the base model, feedback form, waterauthority & RWS border\n",
    "ribasim_base_model_dir = cloud.joinpath(waterschap, \"modellen\", f\"{waterschap}_boezemmodel_{base_model_versie}\")\n",
    "FeedbackFormulier_path = cloud.joinpath(\n",
    "    waterschap, \"verwerkt\", \"Feedback Formulier\", f\"feedback_formulier_{waterschap}.xlsx\"\n",
    ")\n",
    "FeedbackFormulier_LOG_path = cloud.joinpath(\n",
    "    waterschap, \"verwerkt\", \"Feedback Formulier\", f\"feedback_formulier_{waterschap}_LOG.xlsx\"\n",
    ")\n",
    "ws_grenzen_path = cloud.joinpath(\"Basisgegevens\", \"RWS_waterschaps_grenzen\", \"waterschap.gpkg\")\n",
    "RWS_grenzen_path = cloud.joinpath(\"Basisgegevens\", \"RWS_waterschaps_grenzen\", \"Rijkswaterstaat.gpkg\")\n",
    "qlr_path = cloud.joinpath(\"Basisgegevens\", \"QGIS_qlr\", \"output_controle.qlr\")\n",
    "\n",
    "cloud.synchronize(\n",
    "    filepaths=[ribasim_base_model_dir, FeedbackFormulier_path, ws_grenzen_path, RWS_grenzen_path, qlr_path]\n",
    ")\n",
    "\n",
    "# download the Feedback Formulieren, overwrite the old ones\n",
    "cloud.download_verwerkt(authority=waterschap, overwrite=True)\n",
    "\n",
    "# set paths to the TEMP working directory\n",
    "work_dir = cloud.joinpath(waterschap, \"verwerkt\", \"Work_dir\", f\"{waterschap}_parameterized\")\n",
    "ribasim_gpkg = work_dir.joinpath(\"database.gpkg\")\n",
    "ribasim_work_dir_model_toml = work_dir.joinpath(\"ribasim.toml\")\n",
    "\n",
    "# set path to base model toml\n",
    "ribasim_base_model_toml = ribasim_base_model_dir.joinpath(\"ribasim.toml\")\n",
    "\n",
    "# create work_dir/parameterized\n",
    "parameterized = os.path.join(work_dir, f\"{waterschap}_parameterized/\")\n",
    "os.makedirs(parameterized, exist_ok=True)"
   ]
  },
  {
   "cell_type": "markdown",
   "metadata": {},
   "source": [
    "## Define variables and model"
   ]
  },
  {
   "cell_type": "markdown",
   "metadata": {},
   "source": [
    "#### Set Config"
   ]
  },
  {
   "cell_type": "code",
   "execution_count": null,
   "metadata": {},
   "outputs": [],
   "source": [
    "# Basin area percentage\n",
    "regular_percentage = 10\n",
    "boezem_percentage = 90\n",
    "unknown_streefpeil = (\n",
    "    0.00012345  # we need a streefpeil to create the profiles, Q(h)-relations, and af- and aanslag peil for pumps\n",
    ")\n",
    "\n",
    "# Forcing settings\n",
    "starttime = datetime.datetime(2024, 1, 1)\n",
    "endtime = datetime.datetime(2025, 1, 1)\n",
    "saveat = 3600 * 24\n",
    "timestep_size = \"d\"\n",
    "timesteps = 2\n",
    "delta_crest_level = 0.1  # delta waterlevel of boezem compared to streefpeil till no water can flow through an outlet\n",
    "\n",
    "default_level = -0.42  # default LevelBoundary level"
   ]
  },
  {
   "cell_type": "markdown",
   "metadata": {},
   "source": [
    "## Process the feedback form"
   ]
  },
  {
   "cell_type": "code",
   "execution_count": null,
   "metadata": {},
   "outputs": [],
   "source": [
    "name = \"HKV\"\n",
    "\n",
    "processor = RibasimFeedbackProcessor(\n",
    "    name,\n",
    "    waterschap,\n",
    "    base_model_versie,\n",
    "    FeedbackFormulier_path,\n",
    "    ribasim_base_model_toml,\n",
    "    work_dir,\n",
    "    FeedbackFormulier_LOG_path,\n",
    "    use_validation=True,\n",
    ")\n",
    "processor.run()"
   ]
  },
  {
   "cell_type": "markdown",
   "metadata": {},
   "source": [
    "#### Load model"
   ]
  },
  {
   "cell_type": "code",
   "execution_count": null,
   "metadata": {},
   "outputs": [],
   "source": [
    "# Load Ribasim model\n",
    "with warnings.catch_warnings():\n",
    "    warnings.simplefilter(action=\"ignore\", category=FutureWarning)\n",
    "    ribasim_model = ribasim.Model(filepath=ribasim_work_dir_model_toml)"
   ]
  },
  {
   "cell_type": "markdown",
   "metadata": {},
   "source": [
    "# Parameterization"
   ]
  },
  {
   "cell_type": "markdown",
   "metadata": {},
   "source": [
    "## Nodes"
   ]
  },
  {
   "cell_type": "markdown",
   "metadata": {},
   "source": [
    "### Basin (characteristics)"
   ]
  },
  {
   "cell_type": "code",
   "execution_count": null,
   "metadata": {},
   "outputs": [],
   "source": [
    "# Check basin area\n",
    "ribasim_param.validate_basin_area(ribasim_model)"
   ]
  },
  {
   "cell_type": "markdown",
   "metadata": {},
   "source": [
    "## Model specific tweaks"
   ]
  },
  {
   "cell_type": "code",
   "execution_count": null,
   "metadata": {},
   "outputs": [],
   "source": [
    "# change unknown streefpeilen to a default streefpeil\n",
    "ribasim_model.basin.area.df.loc[\n",
    "    ribasim_model.basin.area.df[\"meta_streefpeil\"] == \"Onbekend streefpeil\", \"meta_streefpeil\"\n",
    "] = str(unknown_streefpeil)\n",
    "ribasim_model.basin.area.df.loc[ribasim_model.basin.area.df[\"meta_streefpeil\"] == -9.999, \"meta_streefpeil\"] = str(\n",
    "    unknown_streefpeil\n",
    ")"
   ]
  },
  {
   "cell_type": "code",
   "execution_count": null,
   "metadata": {},
   "outputs": [],
   "source": [
    "# Insert standard profiles to each basin. These are [depth_profiles] meter deep, defined from the streefpeil\n",
    "ribasim_param.insert_standard_profile(\n",
    "    ribasim_model,\n",
    "    unknown_streefpeil=unknown_streefpeil,\n",
    "    regular_percentage=regular_percentage,\n",
    "    boezem_percentage=boezem_percentage,\n",
    "    depth_profile=2,\n",
    ")"
   ]
  },
  {
   "cell_type": "code",
   "execution_count": null,
   "metadata": {},
   "outputs": [],
   "source": [
    "# add an TRC and edges to the newly created level boundary\n",
    "new_node_id = ribasim_param.get_current_max_nodeid(ribasim_model=ribasim_model) + 1\n",
    "\n",
    "level_boundary = ribasim_model.level_boundary.add(\n",
    "    Node(new_node_id, Point(74861, 382484)), [level_boundary.Static(level=[default_level])]\n",
    ")\n",
    "\n",
    "tabulated_rating_curve = ribasim_model.tabulated_rating_curve.add(\n",
    "    Node(new_node_id + 1, Point(74504, 382443)),\n",
    "    [tabulated_rating_curve.Static(level=[0.0, 0.1234], flow_rate=[0.0, 0.1234])],\n",
    ")\n",
    "ribasim_model.edge.add(ribasim_model.basin[133], tabulated_rating_curve)\n",
    "ribasim_model.edge.add(tabulated_rating_curve, level_boundary)"
   ]
  },
  {
   "cell_type": "code",
   "execution_count": null,
   "metadata": {},
   "outputs": [],
   "source": [
    "# add the meta_node_id for the newly created TRC\n",
    "ribasim_model.tabulated_rating_curve.node.df[\"meta_node_id\"] = ribasim_model.tabulated_rating_curve.node.df[\n",
    "    \"meta_node_id\"\n",
    "].fillna(\n",
    "    pd.Series(\n",
    "        ribasim_model.tabulated_rating_curve.node.df.index, index=ribasim_model.tabulated_rating_curve.node.df.index\n",
    "    )\n",
    ")"
   ]
  },
  {
   "cell_type": "code",
   "execution_count": null,
   "metadata": {},
   "outputs": [],
   "source": [
    "add_storage_basins = AddStorageBasins(\n",
    "    ribasim_model=ribasim_model, exclude_hoofdwater=True, additional_basins_to_exclude=[]\n",
    ")\n",
    "\n",
    "add_storage_basins.create_bergende_basins()"
   ]
  },
  {
   "cell_type": "markdown",
   "metadata": {},
   "source": [
    "### Basin (forcing)"
   ]
  },
  {
   "cell_type": "code",
   "execution_count": null,
   "metadata": {},
   "outputs": [],
   "source": [
    "# Set static forcing\n",
    "forcing_dict = {\n",
    "    \"precipitation\": ribasim_param.convert_mm_day_to_m_sec(10 * 2),\n",
    "    \"potential_evaporation\": ribasim_param.convert_mm_day_to_m_sec(0),\n",
    "    \"drainage\": ribasim_param.convert_mm_day_to_m_sec(0),\n",
    "    \"infiltration\": ribasim_param.convert_mm_day_to_m_sec(0),\n",
    "}\n",
    "\n",
    "ribasim_param.set_static_forcing(timesteps, timestep_size, starttime, forcing_dict, ribasim_model)"
   ]
  },
  {
   "cell_type": "markdown",
   "metadata": {},
   "source": [
    "### Pumps"
   ]
  },
  {
   "cell_type": "code",
   "execution_count": null,
   "metadata": {},
   "outputs": [],
   "source": [
    "# Set pump capacity for each pump\n",
    "ribasim_model.pump.static.df[\"flow_rate\"] = 0.16667  # 10 kuub per minuut"
   ]
  },
  {
   "cell_type": "markdown",
   "metadata": {},
   "source": [
    "### Convert all boundary nodes to LevelBoundaries"
   ]
  },
  {
   "cell_type": "code",
   "execution_count": null,
   "metadata": {},
   "outputs": [],
   "source": [
    "ribasim_param.Terminals_to_LevelBoundaries(ribasim_model=ribasim_model, default_level=default_level)\n",
    "ribasim_param.FlowBoundaries_to_LevelBoundaries(ribasim_model=ribasim_model, default_level=default_level)\n",
    "\n",
    "# add the default levels\n",
    "ribasim_model.level_boundary.static.df.level = default_level\n",
    "\n",
    "# Janna Schoonakker asked on 12-11-2024 to change the level of this specific level boundary\n",
    "ribasim_model.level_boundary.static.df.loc[ribasim_model.level_boundary.static.df.node_id == 583, \"level\"] = -2\n",
    "\n",
    "# See email 6/12/2024 Janna Schoonakker to change the level of this specific level boundary\n",
    "ribasim_model.level_boundary.static.df.loc[ribasim_model.level_boundary.static.df.node_id == 585, \"level\"] = -2"
   ]
  },
  {
   "cell_type": "markdown",
   "metadata": {},
   "source": [
    "### Add Outlet"
   ]
  },
  {
   "cell_type": "code",
   "execution_count": null,
   "metadata": {},
   "outputs": [],
   "source": [
    "ribasim_param.add_outlets(ribasim_model, delta_crest_level=0.10)"
   ]
  },
  {
   "cell_type": "markdown",
   "metadata": {},
   "source": [
    "## Add control, based on the meta_categorie"
   ]
  },
  {
   "cell_type": "code",
   "execution_count": null,
   "metadata": {},
   "outputs": [],
   "source": [
    "ribasim_model.pump.static.df.loc[\n",
    "    ribasim_model.pump.static.df[[\"meta_func_afvoer\", \"meta_func_aanvoer\", \"meta_func_circulatie\"]].isna().all(axis=1),\n",
    "    \"meta_func_afvoer\",\n",
    "] = 1"
   ]
  },
  {
   "cell_type": "code",
   "execution_count": null,
   "metadata": {},
   "outputs": [],
   "source": [
    "ribasim_param.identify_node_meta_categorie(ribasim_model)"
   ]
  },
  {
   "cell_type": "code",
   "execution_count": null,
   "metadata": {},
   "outputs": [],
   "source": [
    "ribasim_param.find_upstream_downstream_target_levels(ribasim_model, node=\"outlet\")\n",
    "ribasim_param.find_upstream_downstream_target_levels(ribasim_model, node=\"pump\")"
   ]
  },
  {
   "cell_type": "code",
   "execution_count": null,
   "metadata": {},
   "outputs": [],
   "source": [
    "# ribasim_param.add_discrete_control(ribasim_model, waterschap, default_level)"
   ]
  },
  {
   "cell_type": "code",
   "execution_count": null,
   "metadata": {},
   "outputs": [],
   "source": [
    "ribasim_param.determine_min_upstream_max_downstream_levels(ribasim_model, waterschap)"
   ]
  },
  {
   "cell_type": "markdown",
   "metadata": {},
   "source": [
    "### Manning Resistance"
   ]
  },
  {
   "cell_type": "code",
   "execution_count": null,
   "metadata": {},
   "outputs": [],
   "source": [
    "# there is a MR without geometry and without edges for some reason\n",
    "ribasim_model.manning_resistance.node.df = ribasim_model.manning_resistance.node.df.dropna(subset=\"geometry\")"
   ]
  },
  {
   "cell_type": "code",
   "execution_count": null,
   "metadata": {},
   "outputs": [],
   "source": [
    "# lower the difference in waterlevel for each manning node\n",
    "ribasim_model.manning_resistance.static.df.length = 10\n",
    "ribasim_model.manning_resistance.static.df.manning_n = 0.01"
   ]
  },
  {
   "cell_type": "markdown",
   "metadata": {},
   "source": [
    "# Last formatting of the tables"
   ]
  },
  {
   "cell_type": "code",
   "execution_count": null,
   "metadata": {},
   "outputs": [],
   "source": [
    "# only retain node_id's which are present in the .node table\n",
    "ribasim_param.clean_tables(ribasim_model, waterschap)"
   ]
  },
  {
   "cell_type": "markdown",
   "metadata": {},
   "source": [
    "# Set numerical settings"
   ]
  },
  {
   "cell_type": "code",
   "execution_count": null,
   "metadata": {},
   "outputs": [],
   "source": [
    "# Write model output\n",
    "ribasim_model.use_validation = True\n",
    "ribasim_model.starttime = starttime\n",
    "ribasim_model.endtime = endtime\n",
    "ribasim_model.solver.saveat = saveat\n",
    "\n",
    "ribasim_model.write(ribasim_work_dir_model_toml)"
   ]
  },
  {
   "cell_type": "markdown",
   "metadata": {},
   "source": [
    "## Run Model"
   ]
  },
  {
   "cell_type": "code",
   "execution_count": null,
   "metadata": {},
   "outputs": [],
   "source": [
    "ribasim_param.tqdm_subprocess(\n",
    "    [\"C:/ribasim_windows/ribasim/ribasim.exe\", ribasim_work_dir_model_toml], print_other=False, suffix=\"init\"\n",
    ")"
   ]
  },
  {
   "cell_type": "code",
   "execution_count": null,
   "metadata": {},
   "outputs": [],
   "source": [
    "controle_output = Control(work_dir=work_dir, qlr_path=qlr_path)\n",
    "indicators = controle_output.run_all()"
   ]
  },
  {
   "cell_type": "markdown",
   "metadata": {},
   "source": [
    "# Write model"
   ]
  },
  {
   "cell_type": "code",
   "execution_count": null,
   "metadata": {},
   "outputs": [],
   "source": [
    "ribasim_param.write_ribasim_model_GoodCloud(\n",
    "    ribasim_model=ribasim_model,\n",
    "    work_dir=work_dir,\n",
    "    waterschap=waterschap,\n",
    "    include_results=True,\n",
    ")"
   ]
  }
 ],
 "metadata": {
  "kernelspec": {
   "display_name": "default",
   "language": "python",
   "name": "python3"
  },
  "language_info": {
   "codemirror_mode": {
    "name": "ipython",
    "version": 3
   },
   "file_extension": ".py",
   "mimetype": "text/x-python",
   "name": "python",
   "nbconvert_exporter": "python",
   "pygments_lexer": "ipython3",
   "version": "3.12.8"
  }
 },
 "nbformat": 4,
 "nbformat_minor": 4
}
