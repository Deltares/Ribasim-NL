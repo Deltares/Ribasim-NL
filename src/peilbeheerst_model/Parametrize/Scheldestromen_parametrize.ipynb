{
 "cells": [
  {
   "cell_type": "code",
   "execution_count": 1,
   "metadata": {},
   "outputs": [],
   "source": [
    "import datetime\n",
    "import fiona\n",
    "import os\n",
    "import pathlib\n",
    "import warnings\n",
    "\n",
    "import load_ribasim  # noqa: F401\n",
    "import pandas as pd\n",
    "import ribasim\n",
    "from ribasim import Node\n",
    "from ribasim.nodes import tabulated_rating_curve, level_boundary\n",
    "from shapely.geometry import Point\n",
    "\n",
    "import peilbeheerst_model.ribasim_parametrization as ribasim_param\n",
    "from peilbeheerst_model.add_storage_basins import AddStorageBasins\n",
    "from peilbeheerst_model.controle_output import *\n",
    "from peilbeheerst_model.ribasim_feedback_processor import RibasimFeedbackProcessor\n",
    "from peilbeheerst_model.crossings_to_ribasim import RibasimNetwork\n",
    "\n",
    "%reload_ext autoreload\n",
    "%autoreload 2\n",
    "warnings.filterwarnings(\"ignore\")"
   ]
  },
  {
   "cell_type": "markdown",
   "metadata": {},
   "source": [
    "## Define variables and model"
   ]
  },
  {
   "cell_type": "markdown",
   "metadata": {},
   "source": [
    "#### Set Config"
   ]
  },
  {
   "cell_type": "code",
   "execution_count": 2,
   "metadata": {},
   "outputs": [],
   "source": [
    "# Set paths\n",
    "waterschap = \"Scheldestromen\"\n",
    "work_dir = pathlib.Path(f\"../../../../../Ribasim_updated_models/{waterschap}/modellen/{waterschap}_parametrized\")\n",
    "ribasim_gpkg = work_dir.joinpath(\"database.gpkg\")\n",
    "path_ribasim_toml = work_dir.joinpath(\"ribasim.toml\")\n",
    "output_dir = work_dir.joinpath(\"results\")\n",
    "\n",
    "# Basin area percentage\n",
    "regular_percentage = 10\n",
    "boezem_percentage = 90\n",
    "unknown_streefpeil = (\n",
    "    0.00012345  # we need a streefpeil to create the profiles, Q(h)-relations, and af- and aanslag peil for pumps\n",
    ")\n",
    "\n",
    "# Forcing settings\n",
    "start_time = \"2024-01-01\"\n",
    "timestep_size = \"d\"\n",
    "timesteps = 2\n",
    "delta_crest_level = 0.1  # delta waterlevel of boezem compared to streefpeil till no water can flow through an outlet\n",
    "\n",
    "default_level = -0.42  # default LevelBoundary level"
   ]
  },
  {
   "cell_type": "markdown",
   "metadata": {},
   "source": [
    "## Process the feedback form"
   ]
  },
  {
   "cell_type": "code",
   "execution_count": 3,
   "metadata": {},
   "outputs": [
    {
     "name": "stdout",
     "output_type": "stream",
     "text": [
      "Swapped edge direction between Node A: 186 and Node B: 302\n",
      "Swapped edge direction between Node A: 302 and Node B: 92\n",
      "Swapped edge direction between Node A: 190 and Node B: 381\n",
      "Swapped edge direction between Node A: 381 and Node B: 29\n",
      "Swapped edge direction between Node A: 29 and Node B: 227\n",
      "Swapped edge direction between Node A: 227 and Node B: 33\n",
      "Processed all actions\n",
      "The target levels (streefpeilen) have been updated.\n",
      "The function of the pumps have been updated.\n"
     ]
    }
   ],
   "source": [
    "name = \"Ron Bruijns (HKV)\"\n",
    "versie = \"2024_12_0\"\n",
    "\n",
    "feedback_excel = pathlib.Path(f\"../../../../../Ribasim_feedback/V1_formulieren/feedback_formulier_{waterschap}.xlsx\")\n",
    "feedback_excel_processed = (\n",
    "    f\"../../../../..//Ribasim_feedback/V1_formulieren_verwerkt/feedback_formulier_{waterschap}_JA_processed.xlsx\"\n",
    ")\n",
    "\n",
    "ribasim_toml = f\"../../../../../Ribasim_base_models/{waterschap}_boezemmodel_{versie}/ribasim.toml\"\n",
    "output_folder = work_dir  # f\"../../../../../Ribasim_updated_models/{waterschap}\"\n",
    "\n",
    "processor = RibasimFeedbackProcessor(\n",
    "    name, waterschap, versie, feedback_excel, ribasim_toml, output_folder, feedback_excel_processed\n",
    ")\n",
    "processor.run()"
   ]
  },
  {
   "cell_type": "markdown",
   "metadata": {},
   "source": [
    "#### Load model"
   ]
  },
  {
   "cell_type": "code",
   "execution_count": 4,
   "metadata": {},
   "outputs": [],
   "source": [
    "# Load Ribasim model\n",
    "with warnings.catch_warnings():\n",
    "    warnings.simplefilter(action=\"ignore\", category=FutureWarning)\n",
    "    ribasim_model = ribasim.Model(filepath=path_ribasim_toml)"
   ]
  },
  {
   "cell_type": "markdown",
   "metadata": {},
   "source": [
    "# Parameterization"
   ]
  },
  {
   "cell_type": "markdown",
   "metadata": {},
   "source": [
    "## Nodes"
   ]
  },
  {
   "cell_type": "markdown",
   "metadata": {},
   "source": [
    "### Basin (characteristics)"
   ]
  },
  {
   "cell_type": "code",
   "execution_count": 5,
   "metadata": {
    "scrolled": true
   },
   "outputs": [
    {
     "name": "stdout",
     "output_type": "stream",
     "text": [
      "All basins are larger than 100 m²\n"
     ]
    }
   ],
   "source": [
    "# Check basin area\n",
    "ribasim_param.validate_basin_area(ribasim_model)"
   ]
  },
  {
   "cell_type": "code",
   "execution_count": 6,
   "metadata": {},
   "outputs": [],
   "source": [
    "# remove the basins of above in the feedback form"
   ]
  },
  {
   "cell_type": "markdown",
   "metadata": {},
   "source": [
    "## Model specific tweaks"
   ]
  },
  {
   "cell_type": "code",
   "execution_count": 7,
   "metadata": {},
   "outputs": [],
   "source": [
    "# change unknown streefpeilen to a default streefpeil\n",
    "ribasim_model.basin.area.df.loc[\n",
    "    ribasim_model.basin.area.df[\"meta_streefpeil\"] == \"Onbekend streefpeil\", \"meta_streefpeil\"\n",
    "] = str(unknown_streefpeil)\n",
    "ribasim_model.basin.area.df.loc[ribasim_model.basin.area.df[\"meta_streefpeil\"] == -9.999, \"meta_streefpeil\"] = str(\n",
    "    unknown_streefpeil\n",
    ")"
   ]
  },
  {
   "cell_type": "code",
   "execution_count": 8,
   "metadata": {},
   "outputs": [],
   "source": [
    "# Insert standard profiles to each basin. These are [depth_profiles] meter deep, defined from the streefpeil\n",
    "ribasim_param.insert_standard_profile(\n",
    "    ribasim_model,\n",
    "    unknown_streefpeil=unknown_streefpeil,\n",
    "    regular_percentage=regular_percentage,\n",
    "    boezem_percentage=boezem_percentage,\n",
    "    depth_profile=2,\n",
    ")"
   ]
  },
  {
   "cell_type": "code",
   "execution_count": 9,
   "metadata": {},
   "outputs": [],
   "source": [
    "#add an TRC and edges to the newly created level boundary\n",
    "new_node_id = ribasim_param.get_current_max_nodeid(ribasim_model=ribasim_model) + 1\n",
    "\n",
    "level_boundary = ribasim_model.level_boundary.add(Node(new_node_id, Point(74861, 382484)), [level_boundary.Static(level=[default_level])])\n",
    "\n",
    "tabulated_rating_curve = ribasim_model.tabulated_rating_curve.add(Node(new_node_id+1, Point(74504, 382443)),\n",
    "                                                                      [tabulated_rating_curve.Static(\n",
    "                                                                        level=[0.0, 0.1234],\n",
    "                                                                        flow_rate=[0.0, 0.1234])])\n",
    "ribasim_model.edge.add(ribasim_model.basin[133], tabulated_rating_curve)\n",
    "ribasim_model.edge.add(tabulated_rating_curve, level_boundary)"
   ]
  },
  {
   "cell_type": "code",
   "execution_count": 10,
   "metadata": {},
   "outputs": [],
   "source": [
    "#add the meta_node_id for the newly created TRC\n",
    "ribasim_model.tabulated_rating_curve.node.df['meta_node_id'] = (\n",
    "    ribasim_model.tabulated_rating_curve.node.df['meta_node_id']\n",
    "    .fillna(pd.Series(ribasim_model.tabulated_rating_curve.node.df.index, \n",
    "                      index=ribasim_model.tabulated_rating_curve.node.df.index)))"
   ]
  },
  {
   "cell_type": "code",
   "execution_count": 11,
   "metadata": {},
   "outputs": [],
   "source": [
    "add_storage_basins = AddStorageBasins(\n",
    "    ribasim_model=ribasim_model, exclude_hoofdwater=True, additional_basins_to_exclude=[]\n",
    ")\n",
    "\n",
    "add_storage_basins.create_bergende_basins()\n"
   ]
  },
  {
   "cell_type": "markdown",
   "metadata": {},
   "source": [
    "### Add metadata"
   ]
  },
  {
   "cell_type": "code",
   "execution_count": 12,
   "metadata": {},
   "outputs": [],
   "source": [
    "# post_processed_data = gpd.read_file(r\"../../../../../Data_postprocessed/Waterschappen/Scheldestromen/Scheldestromen.gpkg\")\n",
    "# crossings = gpd.read_file(r\"../../../../../Data_crossings/Scheldestromen/scheldestromen_crossings_v02.gpkg\")\n",
    "# crossings = {}\n",
    "# gpkg_path = r\"../../../../../Data_crossings/Scheldestromen/scheldestromen_crossings_v02.gpkg\"\n",
    "# with fiona.Env():\n",
    "#     layers = fiona.listlayers(gpkg_path)\n",
    "# for layer in layers:\n",
    "#     crossings[layer] = gpd.read_file(gpkg_path, layer=layer)\n",
    "\n",
    "# checks = ribasim_param.checks(ribasim_model)\n",
    "# ribasim_model = ribasim_param.add_missing_meta_data(ribasim_model = ribasim_model, \n",
    "#                       checks = checks, \n",
    "#                       post_processed_data = post_processed_data, \n",
    "#                       crossings = crossings)\n"
   ]
  },
  {
   "cell_type": "code",
   "execution_count": 13,
   "metadata": {},
   "outputs": [],
   "source": [
    "# #metadata has been added at the crossings_to_ribasim.py. However, some nodes have been added or altered due to the feedback forms. Update metadata, as the control (sturing) depends on it.\n",
    "\n",
    "# #retrieve the same data as the crossings_to_ribasim.py\n",
    "# model_characteristics = {}\n",
    "# model_characteristics['path_crossings'] = \"../../../../Data_crossings/Scheldestromen/scheldestromen_crossings_v02.gpkg\"\n",
    "# post_processed_data = r\"../../../../Data_postprocessed/Waterschappen/Scheldestromen/Scheldestromen.gpkg\"\n",
    "# checks = gpd.read_file(ribasim_toml.replace('ribasim.toml', 'database_checks.gpkg'))\n",
    "# crossings = gpd.read_file(r\"../../../../../Data_crossings/Scheldestromen/scheldestromen_crossings_v02.gpkg\")\n",
    "\n",
    "# nodes_MD = pd.concat([ribasim_model.basin.node.df, \n",
    "#                    ribasim_model.tabulated_rating_curve.node.df, \n",
    "#                    ribasim_model.pump.node.df,\n",
    "#                    ribasim_model.level_boundary.node.df,\n",
    "#                    ribasim_model.flow_boundary.node.df,\n",
    "#                    ribasim_model.terminal.node.df,\n",
    "#                    ribasim_model.manning_resistance.node.df,\n",
    "#                    ribasim_model.discrete_control.node.df,\n",
    "#                   ]).reset_index()\n",
    "# nodes_MD['type'] = nodes_MD['node_type']\n",
    "# edges_MD = ribasim_model.edge.df\n",
    "\n",
    "# #retrieve the same scripts as the crossings_to_ribasim.py\n",
    "# RN = RibasimNetwork(nodes = nodes_MD, \n",
    "#                     edges = edges_MD,\n",
    "#                     model_characteristics = model_characteristics)\n",
    "\n",
    "# checks2 = RN.check(model = ribasim_model,\n",
    "#                  post_processed_data = post_processed_data,\n",
    "#                  crossings = crossings)\n",
    "# stop\n",
    "# RN.add_meta_data(model = ribasim_model,\n",
    "#                  checks = checks,\n",
    "#                  post_processed_data = post_processed_data,\n",
    "#                  crossings = crossings)"
   ]
  },
  {
   "cell_type": "markdown",
   "metadata": {},
   "source": [
    "### Basin (forcing)"
   ]
  },
  {
   "cell_type": "code",
   "execution_count": 14,
   "metadata": {},
   "outputs": [],
   "source": [
    "# Set static forcing\n",
    "forcing_dict = {\n",
    "    \"precipitation\": ribasim_param.convert_mm_day_to_m_sec(10*2),\n",
    "    \"potential_evaporation\": ribasim_param.convert_mm_day_to_m_sec(0),\n",
    "    \"drainage\": ribasim_param.convert_mm_day_to_m_sec(0),\n",
    "    \"infiltration\": ribasim_param.convert_mm_day_to_m_sec(0),\n",
    "    # 'urban_runoff':          ribasim_param.convert_mm_day_to_m_sec(0),\n",
    "}\n",
    "\n",
    "ribasim_param.set_static_forcing(timesteps, timestep_size, start_time, forcing_dict, ribasim_model)"
   ]
  },
  {
   "cell_type": "markdown",
   "metadata": {},
   "source": [
    "### Pumps"
   ]
  },
  {
   "cell_type": "code",
   "execution_count": 15,
   "metadata": {},
   "outputs": [],
   "source": [
    "# Set pump capacity for each pump\n",
    "ribasim_model.pump.static.df[\"flow_rate\"] = 0.16667  # 10 kuub per minuut"
   ]
  },
  {
   "cell_type": "markdown",
   "metadata": {},
   "source": [
    "### Convert all boundary nodes to LevelBoundaries"
   ]
  },
  {
   "cell_type": "code",
   "execution_count": 16,
   "metadata": {},
   "outputs": [],
   "source": [
    "ribasim_param.Terminals_to_LevelBoundaries(ribasim_model=ribasim_model, default_level=default_level)\n",
    "ribasim_param.FlowBoundaries_to_LevelBoundaries(ribasim_model=ribasim_model, default_level=default_level)\n",
    "\n",
    "#Janna Schoonakker asked on 12-11-2024 to change the level of this specific level boundary\n",
    "ribasim_model.level_boundary.static.df.loc[ribasim_model.level_boundary.static.df.node_id==583, 'level'] = -2\n",
    "\n",
    "#See email 6/12/2024 Janna Schoonakker to change the level of this specific level boundary\n",
    "ribasim_model.level_boundary.static.df.loc[ribasim_model.level_boundary.static.df.node_id==585, 'level'] = -2\n"
   ]
  },
  {
   "cell_type": "markdown",
   "metadata": {},
   "source": [
    "### Add Outlet"
   ]
  },
  {
   "cell_type": "code",
   "execution_count": 17,
   "metadata": {},
   "outputs": [],
   "source": [
    "ribasim_param.add_outlets(ribasim_model, delta_crest_level=0.10)"
   ]
  },
  {
   "cell_type": "code",
   "execution_count": 18,
   "metadata": {},
   "outputs": [],
   "source": [
    "# ribasim_model.pump.static.df.iloc[50::]"
   ]
  },
  {
   "cell_type": "markdown",
   "metadata": {},
   "source": [
    "## Add control, based on the meta_categorie"
   ]
  },
  {
   "cell_type": "code",
   "execution_count": 19,
   "metadata": {},
   "outputs": [],
   "source": [
    "ribasim_model.pump.static.df.loc[\n",
    "    ribasim_model.pump.static.df[['meta_func_afvoer', 'meta_func_aanvoer', 'meta_func_circulatie']].isna().all(axis=1),\n",
    "    'meta_func_afvoer'\n",
    "] = 1"
   ]
  },
  {
   "cell_type": "code",
   "execution_count": 20,
   "metadata": {},
   "outputs": [],
   "source": [
    "ribasim_param.identify_node_meta_categorie(ribasim_model)"
   ]
  },
  {
   "cell_type": "code",
   "execution_count": 21,
   "metadata": {},
   "outputs": [],
   "source": [
    "ribasim_param.find_upstream_downstream_target_levels(ribasim_model, node=\"outlet\")\n",
    "ribasim_param.find_upstream_downstream_target_levels(ribasim_model, node=\"pump\")\n"
   ]
  },
  {
   "cell_type": "code",
   "execution_count": 22,
   "metadata": {},
   "outputs": [],
   "source": [
    "# ribasim_param.add_discrete_control(ribasim_model, waterschap, default_level)"
   ]
  },
  {
   "cell_type": "code",
   "execution_count": 23,
   "metadata": {},
   "outputs": [
    {
     "name": "stdout",
     "output_type": "stream",
     "text": [
      "Warning! Some pumps do not have a flow rate yet. Dummy value of 0.1234 m3/s has been taken.\n"
     ]
    }
   ],
   "source": [
    "ribasim_param.determine_min_upstream_max_downstream_levels(ribasim_model, waterschap)"
   ]
  },
  {
   "cell_type": "code",
   "execution_count": 24,
   "metadata": {},
   "outputs": [],
   "source": [
    "#overwrite some sturing\n",
    "# ribasim_model.outlet.static.df.max_downstream_level = np.nan\n",
    "# ribasim_model.pump.static.df.loc[ribasim_model.pump.static.df.meta_func_afvoer, 'max_downstream_level'] = np.nan"
   ]
  },
  {
   "cell_type": "markdown",
   "metadata": {},
   "source": [
    "### Manning Resistance"
   ]
  },
  {
   "cell_type": "code",
   "execution_count": 25,
   "metadata": {},
   "outputs": [],
   "source": [
    "# there is a MR without geometry and without edges for some reason\n",
    "ribasim_model.manning_resistance.node.df = ribasim_model.manning_resistance.node.df.dropna(subset=\"geometry\")"
   ]
  },
  {
   "cell_type": "code",
   "execution_count": 26,
   "metadata": {},
   "outputs": [],
   "source": [
    "#lower the difference in waterlevel for each manning node\n",
    "ribasim_model.manning_resistance.static.df.length = 10\n",
    "ribasim_model.manning_resistance.static.df.manning_n = 0.01"
   ]
  },
  {
   "cell_type": "code",
   "execution_count": 27,
   "metadata": {},
   "outputs": [],
   "source": [
    "# only retain node_id's which are present in the .node table\n",
    "ribasim_param.clean_tables(ribasim_model, waterschap)"
   ]
  },
  {
   "cell_type": "code",
   "execution_count": 28,
   "metadata": {},
   "outputs": [],
   "source": [
    "ribasim_model.use_validation = True"
   ]
  },
  {
   "cell_type": "code",
   "execution_count": 29,
   "metadata": {},
   "outputs": [],
   "source": [
    "# ribasim_model.edge.df[\"fid\"] = ribasim_model.edge.df.index.copy()"
   ]
  },
  {
   "cell_type": "markdown",
   "metadata": {},
   "source": [
    "# Set numerical settings"
   ]
  },
  {
   "cell_type": "code",
   "execution_count": 30,
   "metadata": {},
   "outputs": [],
   "source": [
    "# Write model output\n",
    "# ribasim_param.index_reset(ribasim_model)\n",
    "ribasim_model.starttime = datetime.datetime(2024, 1, 1)\n",
    "ribasim_model.endtime = datetime.datetime(2025, 1, 1)\n",
    "ribasim_model.solver.saveat = 3600\n",
    "ribasim_param.write_ribasim_model_Zdrive(ribasim_model, path_ribasim_toml)"
   ]
  },
  {
   "cell_type": "code",
   "execution_count": 31,
   "metadata": {},
   "outputs": [],
   "source": [
    "# 1-229: basin\n",
    "# 230-899: outlet\n",
    "# 235-890: pump\n",
    "# 900-1902: level_boundary\n",
    "# 231-883: manning_resistance\n",
    "\n",
    "# manning_resistance en outlet overlappen NIET\n",
    "# manning_resistance en pump overlappen NIET\n"
   ]
  },
  {
   "cell_type": "code",
   "execution_count": 32,
   "metadata": {},
   "outputs": [],
   "source": [
    "# all_indices = pd.concat([\n",
    "#     ribasim_model.basin.node.df,\n",
    "#     ribasim_model.outlet.node.df,\n",
    "#     ribasim_model.pump.node.df,\n",
    "#     ribasim_model.level_boundary.node.df,\n",
    "#     ribasim_model.manning_resistance.node.df\n",
    "# ]).index\n",
    "\n",
    "# duplicated_indices = all_indices[all_indices.duplicated()]\n",
    "# print(duplicated_indices)\n",
    "\n",
    "# sorted_indices = all_indices.sort_values()\n",
    "# print(sorted_indices)"
   ]
  },
  {
   "cell_type": "markdown",
   "metadata": {},
   "source": [
    "## Run Model"
   ]
  },
  {
   "cell_type": "markdown",
   "metadata": {},
   "source": [
    "## Iterate over tabulated rating curves"
   ]
  },
  {
   "cell_type": "code",
   "execution_count": 33,
   "metadata": {},
   "outputs": [
    {
     "data": {
      "application/vnd.jupyter.widget-view+json": {
       "model_id": "091eeb6b016d4cfca04cd8cd8be75924",
       "version_major": 2,
       "version_minor": 0
      },
      "text/plain": [
       "Simulating init:   0%|          | 0/100 [00:00<?, ?it/s]"
      ]
     },
     "metadata": {},
     "output_type": "display_data"
    }
   ],
   "source": [
    "ribasim_param.tqdm_subprocess([\"ribasim\", path_ribasim_toml], \n",
    "                              print_other=False, \n",
    "                              suffix=\"init\")"
   ]
  },
  {
   "cell_type": "code",
   "execution_count": 34,
   "metadata": {},
   "outputs": [],
   "source": [
    "controle_output = Control(work_dir=work_dir)\n",
    "indicators = controle_output.run_all()"
   ]
  },
  {
   "cell_type": "code",
   "execution_count": 35,
   "metadata": {},
   "outputs": [],
   "source": [
    "# try:\n",
    "#     ribasim_param.iterate_TRC(\n",
    "#         ribasim_param=ribasim_param,\n",
    "#         allowed_tolerance=0.02,\n",
    "#         max_iter=1,\n",
    "#         expected_difference=0.1,\n",
    "#         max_adjustment=0.25,\n",
    "#         cmd=[\"ribasim\", path_ribasim_toml],\n",
    "#         output_dir=output_dir,\n",
    "#         path_ribasim_toml=path_ribasim_toml,\n",
    "#     )\n",
    "\n",
    "# except Exception:\n",
    "#     logging.error(\"The model was not able to run. Log file:\")\n",
    "#     log_file_path = os.path.join(output_dir, \"ribasim.log\")  # Update with the correct path to your log file\n",
    "#     try:\n",
    "#         with open(log_file_path) as log_file:\n",
    "#             log_content = log_file.read()\n",
    "#             print(log_content)\n",
    "#     except Exception as log_exception:\n",
    "#         logging.error(f\"Could not read the log file: {log_exception}\")"
   ]
  },
  {
   "cell_type": "markdown",
   "metadata": {},
   "source": [
    "# Write model"
   ]
  },
  {
   "cell_type": "code",
   "execution_count": 36,
   "metadata": {},
   "outputs": [
    {
     "name": "stdout",
     "output_type": "stream",
     "text": [
      "../../../../../Ribasim_networks/Waterschappen/Scheldestromen/modellen/Scheldestromen_parametrized/results\n",
      "The model of waterboard Scheldestromen has been uploaded to the goodcloud in the directory of boezemmodel!\n"
     ]
    }
   ],
   "source": [
    "# control_dict = Control(work_dir = work_dir).run_all()\n",
    "ribasim_param.write_ribasim_model_GoodCloud(\n",
    "    ribasim_model=ribasim_model,\n",
    "    path_ribasim_toml=path_ribasim_toml,\n",
    "    waterschap=waterschap,\n",
    "    modeltype=\"boezemmodel\",\n",
    "    include_results=True,\n",
    ")"
   ]
  },
  {
   "cell_type": "markdown",
   "metadata": {},
   "source": [
    "## Open Output"
   ]
  },
  {
   "cell_type": "code",
   "execution_count": 37,
   "metadata": {},
   "outputs": [
    {
     "data": {
      "text/html": [
       "<div>\n",
       "<style scoped>\n",
       "    .dataframe tbody tr th:only-of-type {\n",
       "        vertical-align: middle;\n",
       "    }\n",
       "\n",
       "    .dataframe tbody tr th {\n",
       "        vertical-align: top;\n",
       "    }\n",
       "\n",
       "    .dataframe thead th {\n",
       "        text-align: right;\n",
       "    }\n",
       "</style>\n",
       "<table border=\"1\" class=\"dataframe\">\n",
       "  <thead>\n",
       "    <tr style=\"text-align: right;\">\n",
       "      <th></th>\n",
       "      <th>time</th>\n",
       "      <th>node_id</th>\n",
       "      <th>storage</th>\n",
       "      <th>level</th>\n",
       "      <th>inflow_rate</th>\n",
       "      <th>outflow_rate</th>\n",
       "      <th>storage_rate</th>\n",
       "      <th>precipitation</th>\n",
       "      <th>evaporation</th>\n",
       "      <th>drainage</th>\n",
       "      <th>infiltration</th>\n",
       "      <th>balance_error</th>\n",
       "      <th>relative_error</th>\n",
       "    </tr>\n",
       "  </thead>\n",
       "  <tbody>\n",
       "    <tr>\n",
       "      <th>0</th>\n",
       "      <td>2024-01-01 00:00:00</td>\n",
       "      <td>1</td>\n",
       "      <td>1.520997e+06</td>\n",
       "      <td>-0.800000</td>\n",
       "      <td>0.059161</td>\n",
       "      <td>0.047403</td>\n",
       "      <td>1.882406e-01</td>\n",
       "      <td>0.176482</td>\n",
       "      <td>0.0</td>\n",
       "      <td>0.0</td>\n",
       "      <td>0.0</td>\n",
       "      <td>-2.775558e-17</td>\n",
       "      <td>-1.961201e-16</td>\n",
       "    </tr>\n",
       "    <tr>\n",
       "      <th>1</th>\n",
       "      <td>2024-01-01 00:00:00</td>\n",
       "      <td>2</td>\n",
       "      <td>2.798845e+06</td>\n",
       "      <td>0.900000</td>\n",
       "      <td>1.902204</td>\n",
       "      <td>1.515994</td>\n",
       "      <td>7.109616e-01</td>\n",
       "      <td>0.324752</td>\n",
       "      <td>0.0</td>\n",
       "      <td>0.0</td>\n",
       "      <td>0.0</td>\n",
       "      <td>-1.110223e-16</td>\n",
       "      <td>-5.932342e-17</td>\n",
       "    </tr>\n",
       "    <tr>\n",
       "      <th>2</th>\n",
       "      <td>2024-01-01 00:00:00</td>\n",
       "      <td>3</td>\n",
       "      <td>1.283031e+06</td>\n",
       "      <td>-0.700000</td>\n",
       "      <td>0.022065</td>\n",
       "      <td>0.038000</td>\n",
       "      <td>1.329367e-01</td>\n",
       "      <td>0.148871</td>\n",
       "      <td>0.0</td>\n",
       "      <td>0.0</td>\n",
       "      <td>0.0</td>\n",
       "      <td>0.000000e+00</td>\n",
       "      <td>0.000000e+00</td>\n",
       "    </tr>\n",
       "    <tr>\n",
       "      <th>3</th>\n",
       "      <td>2024-01-01 00:00:00</td>\n",
       "      <td>4</td>\n",
       "      <td>1.155093e+06</td>\n",
       "      <td>-1.500000</td>\n",
       "      <td>0.000099</td>\n",
       "      <td>0.030907</td>\n",
       "      <td>1.032186e-01</td>\n",
       "      <td>0.134026</td>\n",
       "      <td>0.0</td>\n",
       "      <td>0.0</td>\n",
       "      <td>0.0</td>\n",
       "      <td>-1.387779e-17</td>\n",
       "      <td>-1.681830e-16</td>\n",
       "    </tr>\n",
       "    <tr>\n",
       "      <th>4</th>\n",
       "      <td>2024-01-01 00:00:00</td>\n",
       "      <td>5</td>\n",
       "      <td>4.314780e+05</td>\n",
       "      <td>-0.650000</td>\n",
       "      <td>0.000657</td>\n",
       "      <td>0.021412</td>\n",
       "      <td>2.930969e-02</td>\n",
       "      <td>0.050065</td>\n",
       "      <td>0.0</td>\n",
       "      <td>0.0</td>\n",
       "      <td>0.0</td>\n",
       "      <td>-3.469447e-18</td>\n",
       "      <td>-9.619565e-17</td>\n",
       "    </tr>\n",
       "    <tr>\n",
       "      <th>...</th>\n",
       "      <td>...</td>\n",
       "      <td>...</td>\n",
       "      <td>...</td>\n",
       "      <td>...</td>\n",
       "      <td>...</td>\n",
       "      <td>...</td>\n",
       "      <td>...</td>\n",
       "      <td>...</td>\n",
       "      <td>...</td>\n",
       "      <td>...</td>\n",
       "      <td>...</td>\n",
       "      <td>...</td>\n",
       "      <td>...</td>\n",
       "    </tr>\n",
       "    <tr>\n",
       "      <th>3346699</th>\n",
       "      <td>2024-12-31 23:00:00</td>\n",
       "      <td>823</td>\n",
       "      <td>5.067079e+05</td>\n",
       "      <td>-0.698410</td>\n",
       "      <td>0.000000</td>\n",
       "      <td>0.058747</td>\n",
       "      <td>-8.208832e-09</td>\n",
       "      <td>0.058747</td>\n",
       "      <td>0.0</td>\n",
       "      <td>0.0</td>\n",
       "      <td>0.0</td>\n",
       "      <td>1.031665e-14</td>\n",
       "      <td>1.756119e-13</td>\n",
       "    </tr>\n",
       "    <tr>\n",
       "      <th>3346700</th>\n",
       "      <td>2024-12-31 23:00:00</td>\n",
       "      <td>824</td>\n",
       "      <td>1.195943e+06</td>\n",
       "      <td>-0.897710</td>\n",
       "      <td>0.000000</td>\n",
       "      <td>0.138607</td>\n",
       "      <td>0.000000e+00</td>\n",
       "      <td>0.138607</td>\n",
       "      <td>0.0</td>\n",
       "      <td>0.0</td>\n",
       "      <td>0.0</td>\n",
       "      <td>2.986500e-14</td>\n",
       "      <td>2.154651e-13</td>\n",
       "    </tr>\n",
       "    <tr>\n",
       "      <th>3346701</th>\n",
       "      <td>2024-12-31 23:00:00</td>\n",
       "      <td>825</td>\n",
       "      <td>1.046062e+07</td>\n",
       "      <td>106.319167</td>\n",
       "      <td>0.000000</td>\n",
       "      <td>0.000000</td>\n",
       "      <td>2.599740e-01</td>\n",
       "      <td>0.259974</td>\n",
       "      <td>0.0</td>\n",
       "      <td>0.0</td>\n",
       "      <td>0.0</td>\n",
       "      <td>-1.004752e-13</td>\n",
       "      <td>-7.729634e-13</td>\n",
       "    </tr>\n",
       "    <tr>\n",
       "      <th>3346702</th>\n",
       "      <td>2024-12-31 23:00:00</td>\n",
       "      <td>826</td>\n",
       "      <td>2.378431e+05</td>\n",
       "      <td>-0.498841</td>\n",
       "      <td>0.000000</td>\n",
       "      <td>0.027581</td>\n",
       "      <td>-3.233759e-14</td>\n",
       "      <td>0.027581</td>\n",
       "      <td>0.0</td>\n",
       "      <td>0.0</td>\n",
       "      <td>0.0</td>\n",
       "      <td>-8.100033e-15</td>\n",
       "      <td>-2.936805e-13</td>\n",
       "    </tr>\n",
       "    <tr>\n",
       "      <th>3346703</th>\n",
       "      <td>2024-12-31 23:00:00</td>\n",
       "      <td>827</td>\n",
       "      <td>1.669502e+06</td>\n",
       "      <td>-1.896190</td>\n",
       "      <td>0.000000</td>\n",
       "      <td>0.193345</td>\n",
       "      <td>-1.911387e-07</td>\n",
       "      <td>0.193344</td>\n",
       "      <td>0.0</td>\n",
       "      <td>0.0</td>\n",
       "      <td>0.0</td>\n",
       "      <td>4.748584e-14</td>\n",
       "      <td>2.456023e-13</td>\n",
       "    </tr>\n",
       "  </tbody>\n",
       "</table>\n",
       "<p>3346704 rows × 13 columns</p>\n",
       "</div>"
      ],
      "text/plain": [
       "                       time  node_id       storage       level  inflow_rate  \\\n",
       "0       2024-01-01 00:00:00        1  1.520997e+06   -0.800000     0.059161   \n",
       "1       2024-01-01 00:00:00        2  2.798845e+06    0.900000     1.902204   \n",
       "2       2024-01-01 00:00:00        3  1.283031e+06   -0.700000     0.022065   \n",
       "3       2024-01-01 00:00:00        4  1.155093e+06   -1.500000     0.000099   \n",
       "4       2024-01-01 00:00:00        5  4.314780e+05   -0.650000     0.000657   \n",
       "...                     ...      ...           ...         ...          ...   \n",
       "3346699 2024-12-31 23:00:00      823  5.067079e+05   -0.698410     0.000000   \n",
       "3346700 2024-12-31 23:00:00      824  1.195943e+06   -0.897710     0.000000   \n",
       "3346701 2024-12-31 23:00:00      825  1.046062e+07  106.319167     0.000000   \n",
       "3346702 2024-12-31 23:00:00      826  2.378431e+05   -0.498841     0.000000   \n",
       "3346703 2024-12-31 23:00:00      827  1.669502e+06   -1.896190     0.000000   \n",
       "\n",
       "         outflow_rate  storage_rate  precipitation  evaporation  drainage  \\\n",
       "0            0.047403  1.882406e-01       0.176482          0.0       0.0   \n",
       "1            1.515994  7.109616e-01       0.324752          0.0       0.0   \n",
       "2            0.038000  1.329367e-01       0.148871          0.0       0.0   \n",
       "3            0.030907  1.032186e-01       0.134026          0.0       0.0   \n",
       "4            0.021412  2.930969e-02       0.050065          0.0       0.0   \n",
       "...               ...           ...            ...          ...       ...   \n",
       "3346699      0.058747 -8.208832e-09       0.058747          0.0       0.0   \n",
       "3346700      0.138607  0.000000e+00       0.138607          0.0       0.0   \n",
       "3346701      0.000000  2.599740e-01       0.259974          0.0       0.0   \n",
       "3346702      0.027581 -3.233759e-14       0.027581          0.0       0.0   \n",
       "3346703      0.193345 -1.911387e-07       0.193344          0.0       0.0   \n",
       "\n",
       "         infiltration  balance_error  relative_error  \n",
       "0                 0.0  -2.775558e-17   -1.961201e-16  \n",
       "1                 0.0  -1.110223e-16   -5.932342e-17  \n",
       "2                 0.0   0.000000e+00    0.000000e+00  \n",
       "3                 0.0  -1.387779e-17   -1.681830e-16  \n",
       "4                 0.0  -3.469447e-18   -9.619565e-17  \n",
       "...               ...            ...             ...  \n",
       "3346699           0.0   1.031665e-14    1.756119e-13  \n",
       "3346700           0.0   2.986500e-14    2.154651e-13  \n",
       "3346701           0.0  -1.004752e-13   -7.729634e-13  \n",
       "3346702           0.0  -8.100033e-15   -2.936805e-13  \n",
       "3346703           0.0   4.748584e-14    2.456023e-13  \n",
       "\n",
       "[3346704 rows x 13 columns]"
      ]
     },
     "execution_count": 37,
     "metadata": {},
     "output_type": "execute_result"
    }
   ],
   "source": [
    "df_basin = pd.read_feather(os.path.join(output_dir, \"basin.arrow\"))\n",
    "df_basin"
   ]
  }
 ],
 "metadata": {
  "kernelspec": {
   "display_name": "Python [conda env:ribasim]",
   "language": "python",
   "name": "conda-env-ribasim-py"
  },
  "language_info": {
   "codemirror_mode": {
    "name": "ipython",
    "version": 3
   },
   "file_extension": ".py",
   "mimetype": "text/x-python",
   "name": "python",
   "nbconvert_exporter": "python",
   "pygments_lexer": "ipython3",
   "version": "3.12.7"
  }
 },
 "nbformat": 4,
 "nbformat_minor": 4
}
