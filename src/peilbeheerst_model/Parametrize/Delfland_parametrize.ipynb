{
 "cells": [
  {
   "cell_type": "code",
   "execution_count": 1,
   "metadata": {},
   "outputs": [],
   "source": [
    "import datetime\n",
    "import os\n",
    "import pathlib\n",
    "import warnings\n",
    "\n",
    "import load_ribasim  # noqa: F401\n",
    "import pandas as pd\n",
    "import ribasim\n",
    "import ribasim.nodes\n",
    "\n",
    "import peilbeheerst_model.ribasim_parametrization as ribasim_param\n",
    "from peilbeheerst_model.add_storage_basins import AddStorageBasins\n",
    "from peilbeheerst_model.controle_output import *\n",
    "from peilbeheerst_model.ribasim_feedback_processor import RibasimFeedbackProcessor\n",
    "\n",
    "%reload_ext autoreload\n",
    "%autoreload 2\n",
    "warnings.filterwarnings(\"ignore\")"
   ]
  },
  {
   "cell_type": "markdown",
   "metadata": {},
   "source": [
    "## Define variables and model"
   ]
  },
  {
   "cell_type": "markdown",
   "metadata": {},
   "source": [
    "#### Set Config"
   ]
  },
  {
   "cell_type": "code",
   "execution_count": 2,
   "metadata": {},
   "outputs": [],
   "source": [
    "waterschap = \"Delfland\"\n",
    "work_dir = pathlib.Path(f\"../../../../../Ribasim_updated_models/{waterschap}/modellen/{waterschap}_parametrized\")\n",
    "ribasim_gpkg = work_dir.joinpath(\"database.gpkg\")\n",
    "path_ribasim_toml = work_dir.joinpath(\"ribasim.toml\")\n",
    "output_dir = work_dir.joinpath(\"results\")\n",
    "\n",
    "# Basin area percentage\n",
    "regular_percentage = 10\n",
    "boezem_percentage = 90\n",
    "unknown_streefpeil = (\n",
    "    0.00012345  # we need a streefpeil to create the profiles, Q(h)-relations, and af- and aanslag peil for pumps\n",
    ")\n",
    "\n",
    "# Forcing settings\n",
    "start_time = \"2024-01-01\"\n",
    "timestep_size = \"d\"\n",
    "timesteps = 2\n",
    "delta_crest_level = 0.1  # delta waterlevel of boezem compared to streefpeil till no water can flow through an outlet\n",
    "\n",
    "default_level = -0.42  # default LevelBoundary level"
   ]
  },
  {
   "cell_type": "markdown",
   "metadata": {},
   "source": [
    "## Process the feedback form"
   ]
  },
  {
   "cell_type": "code",
   "execution_count": 3,
   "metadata": {},
   "outputs": [
    {
     "name": "stdout",
     "output_type": "stream",
     "text": [
      "Swapped edge direction between Node A: 18 and Node B: 377\n",
      "Swapped edge direction between Node A: 377 and Node B: 57\n",
      "Swapped edge direction between Node A: 27 and Node B: 298\n",
      "Swapped edge direction between Node A: 298 and Node B: 114\n",
      "Processed all actions\n",
      "The function of the pumps have been updated.\n"
     ]
    }
   ],
   "source": [
    "name = \"Ron Bruijns (HKV)\"\n",
    "versie = \"2024_12_0\"\n",
    "\n",
    "feedback_excel = pathlib.Path(f\"../../../../../Ribasim_feedback/V1_formulieren/feedback_formulier_{waterschap}.xlsx\")\n",
    "feedback_excel_processed = (\n",
    "    f\"../../../../..//Ribasim_feedback/V1_formulieren_verwerkt/feedback_formulier_{waterschap}_JA_processed.xlsx\"\n",
    ")\n",
    "\n",
    "ribasim_toml = f\"../../../../../Ribasim_base_models/{waterschap}_boezemmodel_{versie}/ribasim.toml\"\n",
    "output_folder = work_dir  # f\"../../../../../Ribasim_updated_models/{waterschap}\"\n",
    "\n",
    "processor = RibasimFeedbackProcessor(\n",
    "    name, waterschap, versie, feedback_excel, ribasim_toml, output_folder, feedback_excel_processed\n",
    ")\n",
    "processor.run()"
   ]
  },
  {
   "cell_type": "markdown",
   "metadata": {},
   "source": [
    "#### Load model"
   ]
  },
  {
   "cell_type": "code",
   "execution_count": 4,
   "metadata": {},
   "outputs": [],
   "source": [
    "# Load Ribasim model\n",
    "with warnings.catch_warnings():\n",
    "    warnings.simplefilter(action=\"ignore\", category=FutureWarning)\n",
    "    ribasim_model = ribasim.Model(filepath=path_ribasim_toml)"
   ]
  },
  {
   "cell_type": "markdown",
   "metadata": {},
   "source": [
    "# Parameterization"
   ]
  },
  {
   "cell_type": "markdown",
   "metadata": {},
   "source": [
    "## Nodes"
   ]
  },
  {
   "cell_type": "markdown",
   "metadata": {},
   "source": [
    "### Basin (characteristics)"
   ]
  },
  {
   "cell_type": "code",
   "execution_count": 5,
   "metadata": {
    "scrolled": true
   },
   "outputs": [
    {
     "name": "stdout",
     "output_type": "stream",
     "text": [
      "All basins are larger than 100 m²\n"
     ]
    }
   ],
   "source": [
    "ribasim_param.validate_basin_area(ribasim_model)"
   ]
  },
  {
   "cell_type": "code",
   "execution_count": 6,
   "metadata": {},
   "outputs": [],
   "source": [
    "# remove the basins of above in the feedback form"
   ]
  },
  {
   "cell_type": "markdown",
   "metadata": {},
   "source": [
    "## Model specific tweaks"
   ]
  },
  {
   "cell_type": "code",
   "execution_count": 7,
   "metadata": {},
   "outputs": [],
   "source": [
    "new_node_id = max(ribasim_model.edge.df.from_node_id.max(), ribasim_model.edge.df.to_node_id.max()) + 1"
   ]
  },
  {
   "cell_type": "code",
   "execution_count": 8,
   "metadata": {},
   "outputs": [],
   "source": [
    "# change unknown streefpeilen to a default streefpeil\n",
    "ribasim_model.basin.area.df.loc[\n",
    "    ribasim_model.basin.area.df[\"meta_streefpeil\"] == \"Onbekend streefpeil\", \"meta_streefpeil\"\n",
    "] = str(unknown_streefpeil)\n",
    "ribasim_model.basin.area.df.loc[ribasim_model.basin.area.df[\"meta_streefpeil\"] == -9.999, \"meta_streefpeil\"] = str(\n",
    "    unknown_streefpeil\n",
    ")\n",
    "\n",
    "#change high initial states to 0\n",
    "ribasim_model.basin.state.df.loc[ribasim_model.basin.state.df[\"level\"] == 9.999, \"level\"] = 0\n",
    "ribasim_model.basin.area.df.loc[ribasim_model.basin.area.df[\"meta_streefpeil\"] == 9.999, \"meta_streefpeil\"] = str(\n",
    "    unknown_streefpeil\n",
    ")\n"
   ]
  },
  {
   "cell_type": "code",
   "execution_count": 9,
   "metadata": {},
   "outputs": [],
   "source": [
    "assert not pd.isnull(ribasim_model.basin.area.df.meta_streefpeil).any()"
   ]
  },
  {
   "cell_type": "code",
   "execution_count": 10,
   "metadata": {},
   "outputs": [],
   "source": [
    "# #Add meta_node_id\n",
    "# ribasim_model.basin.profile.df['meta_node_id'] = ribasim_model.basin.profile.df['node_id']\n",
    "# ribasim_model.basin.area.df['meta_node_id'] = ribasim_model.basin.area.df['node_id']\n",
    "# ribasim_model.basin.node.df['meta_node_id'] = ribasim_model.basin.node.df.index\n",
    "\n",
    "# ribasim_model.level_boundary.node.df['meta_node_id'] = ribasim_model.level_boundary.node.df.index\n",
    "# ribasim_model.flow_boundary.node.df['meta_node_id'] = ribasim_model.flow_boundary.node.df.index\n",
    "# ribasim_model.pump.node.df['meta_node_id'] = ribasim_model.pump.node.df.index\n"
   ]
  },
  {
   "cell_type": "markdown",
   "metadata": {},
   "source": [
    "## Implement standard profile and a storage basin"
   ]
  },
  {
   "cell_type": "code",
   "execution_count": 11,
   "metadata": {},
   "outputs": [],
   "source": [
    "# Insert standard profiles to each basin. These are [depth_profiles] meter deep, defined from the streefpeil\n",
    "ribasim_param.insert_standard_profile(\n",
    "    ribasim_model,\n",
    "    unknown_streefpeil=unknown_streefpeil,\n",
    "    regular_percentage=regular_percentage,\n",
    "    boezem_percentage=boezem_percentage,\n",
    "    depth_profile=2,\n",
    ")"
   ]
  },
  {
   "cell_type": "code",
   "execution_count": 12,
   "metadata": {},
   "outputs": [],
   "source": [
    "add_storage_basins = AddStorageBasins(\n",
    "    ribasim_model=ribasim_model, exclude_hoofdwater=True, additional_basins_to_exclude=[]\n",
    ")\n",
    "\n",
    "add_storage_basins.create_bergende_basins()\n"
   ]
  },
  {
   "cell_type": "markdown",
   "metadata": {},
   "source": [
    "### Basin (forcing)"
   ]
  },
  {
   "cell_type": "code",
   "execution_count": 13,
   "metadata": {},
   "outputs": [],
   "source": [
    "# Set static forcing\n",
    "forcing_dict = {\n",
    "    \"precipitation\": ribasim_param.convert_mm_day_to_m_sec(10*2),\n",
    "    \"potential_evaporation\": ribasim_param.convert_mm_day_to_m_sec(0),\n",
    "    \"drainage\": ribasim_param.convert_mm_day_to_m_sec(0),\n",
    "    \"infiltration\": ribasim_param.convert_mm_day_to_m_sec(0),\n",
    "    # 'urban_runoff':          ribasim_param.convert_mm_day_to_m_sec(0),\n",
    "}\n",
    "\n",
    "ribasim_param.set_static_forcing(timesteps, timestep_size, start_time, forcing_dict, ribasim_model)"
   ]
  },
  {
   "cell_type": "markdown",
   "metadata": {},
   "source": [
    "### Pumps"
   ]
  },
  {
   "cell_type": "code",
   "execution_count": 14,
   "metadata": {},
   "outputs": [],
   "source": [
    "# Set pump capacity for each pump\n",
    "ribasim_model.pump.static.df[\"flow_rate\"] = 0.16667  # 10 kuub per minuut"
   ]
  },
  {
   "cell_type": "markdown",
   "metadata": {},
   "source": [
    "### Convert all boundary nodes to LevelBoundaries"
   ]
  },
  {
   "cell_type": "code",
   "execution_count": 15,
   "metadata": {},
   "outputs": [],
   "source": [
    "ribasim_param.Terminals_to_LevelBoundaries(ribasim_model=ribasim_model, default_level=default_level)  # clean\n",
    "ribasim_param.FlowBoundaries_to_LevelBoundaries(ribasim_model=ribasim_model, default_level=default_level)"
   ]
  },
  {
   "cell_type": "markdown",
   "metadata": {},
   "source": [
    "### Add Outlet"
   ]
  },
  {
   "cell_type": "code",
   "execution_count": 16,
   "metadata": {},
   "outputs": [],
   "source": [
    "ribasim_param.add_outlets(ribasim_model, delta_crest_level=0.10)"
   ]
  },
  {
   "cell_type": "markdown",
   "metadata": {},
   "source": [
    "## Add control, based on the meta_categorie"
   ]
  },
  {
   "cell_type": "code",
   "execution_count": 17,
   "metadata": {},
   "outputs": [],
   "source": [
    "ribasim_param.identify_node_meta_categorie(ribasim_model)"
   ]
  },
  {
   "cell_type": "code",
   "execution_count": 18,
   "metadata": {},
   "outputs": [],
   "source": [
    "ribasim_param.find_upstream_downstream_target_levels(ribasim_model, node=\"outlet\")\n",
    "ribasim_param.find_upstream_downstream_target_levels(ribasim_model, node=\"pump\")\n"
   ]
  },
  {
   "cell_type": "code",
   "execution_count": 19,
   "metadata": {},
   "outputs": [],
   "source": [
    "# ribasim_param.add_discrete_control(ribasim_model, waterschap, default_level)"
   ]
  },
  {
   "cell_type": "code",
   "execution_count": 20,
   "metadata": {},
   "outputs": [
    {
     "name": "stdout",
     "output_type": "stream",
     "text": [
      "Warning! Some pumps do not have a flow rate yet. Dummy value of 0.1234 m3/s has been taken.\n"
     ]
    }
   ],
   "source": [
    "ribasim_param.determine_min_upstream_max_downstream_levels(ribasim_model, waterschap)"
   ]
  },
  {
   "cell_type": "code",
   "execution_count": null,
   "metadata": {},
   "outputs": [],
   "source": []
  },
  {
   "cell_type": "markdown",
   "metadata": {},
   "source": [
    "### Manning Resistance"
   ]
  },
  {
   "cell_type": "code",
   "execution_count": 21,
   "metadata": {},
   "outputs": [],
   "source": [
    "# there is a MR without geometry and without edges for some reason\n",
    "ribasim_model.manning_resistance.node.df = ribasim_model.manning_resistance.node.df.dropna(subset=\"geometry\")"
   ]
  },
  {
   "cell_type": "code",
   "execution_count": 22,
   "metadata": {},
   "outputs": [],
   "source": [
    "#lower the difference in waterlevel for each manning node\n",
    "ribasim_model.manning_resistance.static.df.length = 100\n",
    "ribasim_model.manning_resistance.static.df.manning_n = 0.01"
   ]
  },
  {
   "cell_type": "markdown",
   "metadata": {},
   "source": [
    "## Last formating of the tables"
   ]
  },
  {
   "cell_type": "code",
   "execution_count": 23,
   "metadata": {},
   "outputs": [
    {
     "name": "stdout",
     "output_type": "stream",
     "text": [
      "\n",
      "Following node_ids are not connected to any edges:\n",
      "               Type  node_id\n",
      "729  LevelBoundary      549\n"
     ]
    }
   ],
   "source": [
    "# only retain node_id's which are present in the .node table\n",
    "ribasim_param.clean_tables(ribasim_model, waterschap)\n"
   ]
  },
  {
   "cell_type": "code",
   "execution_count": null,
   "metadata": {},
   "outputs": [],
   "source": []
  },
  {
   "cell_type": "markdown",
   "metadata": {},
   "source": [
    "# Set numerical settings"
   ]
  },
  {
   "cell_type": "code",
   "execution_count": 24,
   "metadata": {},
   "outputs": [],
   "source": [
    "ribasim_model.use_validation = True"
   ]
  },
  {
   "cell_type": "code",
   "execution_count": 25,
   "metadata": {},
   "outputs": [],
   "source": [
    "# Write model output\n",
    "# ribasim_param.index_reset(ribasim_model)\n",
    "ribasim_model.starttime = datetime.datetime(2024, 1, 1)\n",
    "ribasim_model.endtime = datetime.datetime(2025, 1, 1)\n",
    "ribasim_model.solver.saveat = 3600\n",
    "ribasim_param.write_ribasim_model_Zdrive(ribasim_model, path_ribasim_toml)"
   ]
  },
  {
   "cell_type": "markdown",
   "metadata": {},
   "source": [
    "## Run Model"
   ]
  },
  {
   "cell_type": "markdown",
   "metadata": {},
   "source": [
    "## Iterate over tabulated rating curves"
   ]
  },
  {
   "cell_type": "code",
   "execution_count": 26,
   "metadata": {},
   "outputs": [
    {
     "data": {
      "application/vnd.jupyter.widget-view+json": {
       "model_id": "9a7b08673d5b4103b91d14d9c31f863f",
       "version_major": 2,
       "version_minor": 0
      },
      "text/plain": [
       "Simulating init:   0%|          | 0/100 [00:00<?, ?it/s]"
      ]
     },
     "metadata": {},
     "output_type": "display_data"
    }
   ],
   "source": [
    "ribasim_param.tqdm_subprocess([\"ribasim\", path_ribasim_toml], \n",
    "                              print_other=False, \n",
    "                              suffix=\"init\")"
   ]
  },
  {
   "cell_type": "code",
   "execution_count": 27,
   "metadata": {},
   "outputs": [],
   "source": [
    "controle_output = Control(work_dir=work_dir)\n",
    "indicators = controle_output.run_all()"
   ]
  },
  {
   "cell_type": "markdown",
   "metadata": {},
   "source": [
    "## Iterate over tabulated rating curves"
   ]
  },
  {
   "cell_type": "code",
   "execution_count": 28,
   "metadata": {},
   "outputs": [],
   "source": [
    "# try:\n",
    "#     ribasim_param.iterate_TRC(\n",
    "#         ribasim_param=ribasim_param,\n",
    "#         allowed_tolerance=0.02,\n",
    "#         max_iter=1,\n",
    "#         expected_difference=0.1,\n",
    "#         max_adjustment=0.25,\n",
    "#         cmd=[\"ribasim\", path_ribasim_toml],\n",
    "#         output_dir=output_dir,\n",
    "#         path_ribasim_toml=path_ribasim_toml,\n",
    "#     )\n",
    "\n",
    "# except Exception:\n",
    "#     logging.error(\"The model was not able to run. Log file:\")\n",
    "#     log_file_path = os.path.join(output_dir, \"ribasim.log\")  # Update with the correct path to your log file\n",
    "#     try:\n",
    "#         with open(log_file_path) as log_file:\n",
    "#             log_content = log_file.read()\n",
    "#             print(log_content)\n",
    "#     except Exception as log_exception:\n",
    "#         logging.error(f\"Could not read the log file: {log_exception}\")"
   ]
  },
  {
   "cell_type": "markdown",
   "metadata": {},
   "source": [
    "# Write model"
   ]
  },
  {
   "cell_type": "code",
   "execution_count": 29,
   "metadata": {},
   "outputs": [
    {
     "name": "stdout",
     "output_type": "stream",
     "text": [
      "../../../../../Ribasim_networks/Waterschappen/Delfland/modellen/Delfland_parametrized/results\n",
      "The model of waterboard Delfland has been uploaded to the goodcloud in the directory of boezemmodel!\n"
     ]
    }
   ],
   "source": [
    "# control_dict = Control(work_dir = work_dir).run_all()\n",
    "ribasim_param.write_ribasim_model_GoodCloud(\n",
    "    ribasim_model=ribasim_model,\n",
    "    path_ribasim_toml=path_ribasim_toml,\n",
    "    waterschap=waterschap,\n",
    "    modeltype=\"boezemmodel\",\n",
    "    include_results=True,\n",
    ")"
   ]
  },
  {
   "cell_type": "markdown",
   "metadata": {},
   "source": [
    "## Open Output"
   ]
  },
  {
   "cell_type": "code",
   "execution_count": 30,
   "metadata": {},
   "outputs": [
    {
     "data": {
      "text/html": [
       "<div>\n",
       "<style scoped>\n",
       "    .dataframe tbody tr th:only-of-type {\n",
       "        vertical-align: middle;\n",
       "    }\n",
       "\n",
       "    .dataframe tbody tr th {\n",
       "        vertical-align: top;\n",
       "    }\n",
       "\n",
       "    .dataframe thead th {\n",
       "        text-align: right;\n",
       "    }\n",
       "</style>\n",
       "<table border=\"1\" class=\"dataframe\">\n",
       "  <thead>\n",
       "    <tr style=\"text-align: right;\">\n",
       "      <th></th>\n",
       "      <th>time</th>\n",
       "      <th>node_id</th>\n",
       "      <th>storage</th>\n",
       "      <th>level</th>\n",
       "      <th>inflow_rate</th>\n",
       "      <th>outflow_rate</th>\n",
       "      <th>storage_rate</th>\n",
       "      <th>precipitation</th>\n",
       "      <th>evaporation</th>\n",
       "      <th>drainage</th>\n",
       "      <th>infiltration</th>\n",
       "      <th>balance_error</th>\n",
       "      <th>relative_error</th>\n",
       "    </tr>\n",
       "  </thead>\n",
       "  <tbody>\n",
       "    <tr>\n",
       "      <th>0</th>\n",
       "      <td>2024-01-01 00:00:00</td>\n",
       "      <td>1</td>\n",
       "      <td>2.195916e+07</td>\n",
       "      <td>-0.430000</td>\n",
       "      <td>1.241118e-01</td>\n",
       "      <td>0.044768</td>\n",
       "      <td>2.627284</td>\n",
       "      <td>2.547940</td>\n",
       "      <td>0.0</td>\n",
       "      <td>0.0</td>\n",
       "      <td>0.0</td>\n",
       "      <td>4.440892e-16</td>\n",
       "      <td>3.269185e-16</td>\n",
       "    </tr>\n",
       "    <tr>\n",
       "      <th>1</th>\n",
       "      <td>2024-01-01 00:00:00</td>\n",
       "      <td>2</td>\n",
       "      <td>2.849461e+06</td>\n",
       "      <td>-0.430000</td>\n",
       "      <td>5.702251e-01</td>\n",
       "      <td>0.387104</td>\n",
       "      <td>0.513746</td>\n",
       "      <td>0.330625</td>\n",
       "      <td>0.0</td>\n",
       "      <td>0.0</td>\n",
       "      <td>0.0</td>\n",
       "      <td>-1.110223e-16</td>\n",
       "      <td>-1.724009e-16</td>\n",
       "    </tr>\n",
       "    <tr>\n",
       "      <th>2</th>\n",
       "      <td>2024-01-01 00:00:00</td>\n",
       "      <td>3</td>\n",
       "      <td>4.247546e+04</td>\n",
       "      <td>-2.660000</td>\n",
       "      <td>2.585266e-01</td>\n",
       "      <td>0.259783</td>\n",
       "      <td>0.003672</td>\n",
       "      <td>0.004928</td>\n",
       "      <td>0.0</td>\n",
       "      <td>0.0</td>\n",
       "      <td>0.0</td>\n",
       "      <td>3.469447e-17</td>\n",
       "      <td>1.326145e-16</td>\n",
       "    </tr>\n",
       "    <tr>\n",
       "      <th>3</th>\n",
       "      <td>2024-01-01 00:00:00</td>\n",
       "      <td>4</td>\n",
       "      <td>5.722074e+05</td>\n",
       "      <td>-3.270000</td>\n",
       "      <td>2.041708e-02</td>\n",
       "      <td>0.052920</td>\n",
       "      <td>0.033891</td>\n",
       "      <td>0.066394</td>\n",
       "      <td>0.0</td>\n",
       "      <td>0.0</td>\n",
       "      <td>0.0</td>\n",
       "      <td>0.000000e+00</td>\n",
       "      <td>0.000000e+00</td>\n",
       "    </tr>\n",
       "    <tr>\n",
       "      <th>4</th>\n",
       "      <td>2024-01-01 00:00:00</td>\n",
       "      <td>5</td>\n",
       "      <td>3.935989e+05</td>\n",
       "      <td>-1.800000</td>\n",
       "      <td>1.198974e-02</td>\n",
       "      <td>0.027256</td>\n",
       "      <td>0.030404</td>\n",
       "      <td>0.045670</td>\n",
       "      <td>0.0</td>\n",
       "      <td>0.0</td>\n",
       "      <td>0.0</td>\n",
       "      <td>3.469447e-18</td>\n",
       "      <td>8.171576e-17</td>\n",
       "    </tr>\n",
       "    <tr>\n",
       "      <th>...</th>\n",
       "      <td>...</td>\n",
       "      <td>...</td>\n",
       "      <td>...</td>\n",
       "      <td>...</td>\n",
       "      <td>...</td>\n",
       "      <td>...</td>\n",
       "      <td>...</td>\n",
       "      <td>...</td>\n",
       "      <td>...</td>\n",
       "      <td>...</td>\n",
       "      <td>...</td>\n",
       "      <td>...</td>\n",
       "      <td>...</td>\n",
       "    </tr>\n",
       "    <tr>\n",
       "      <th>1906123</th>\n",
       "      <td>2024-12-31 23:00:00</td>\n",
       "      <td>672</td>\n",
       "      <td>4.519021e+05</td>\n",
       "      <td>-1.911687</td>\n",
       "      <td>0.000000e+00</td>\n",
       "      <td>0.052217</td>\n",
       "      <td>0.000000</td>\n",
       "      <td>0.052217</td>\n",
       "      <td>0.0</td>\n",
       "      <td>0.0</td>\n",
       "      <td>0.0</td>\n",
       "      <td>9.700574e-15</td>\n",
       "      <td>1.857743e-13</td>\n",
       "    </tr>\n",
       "    <tr>\n",
       "      <th>1906124</th>\n",
       "      <td>2024-12-31 23:00:00</td>\n",
       "      <td>673</td>\n",
       "      <td>4.086998e+05</td>\n",
       "      <td>-2.340892</td>\n",
       "      <td>0.000000e+00</td>\n",
       "      <td>0.047206</td>\n",
       "      <td>0.000000</td>\n",
       "      <td>0.047206</td>\n",
       "      <td>0.0</td>\n",
       "      <td>0.0</td>\n",
       "      <td>0.0</td>\n",
       "      <td>-2.643025e-14</td>\n",
       "      <td>-5.598886e-13</td>\n",
       "    </tr>\n",
       "    <tr>\n",
       "      <th>1906125</th>\n",
       "      <td>2024-12-31 23:00:00</td>\n",
       "      <td>674</td>\n",
       "      <td>2.863590e+05</td>\n",
       "      <td>7.458248</td>\n",
       "      <td>6.684285e-09</td>\n",
       "      <td>0.000000</td>\n",
       "      <td>0.006903</td>\n",
       "      <td>0.006903</td>\n",
       "      <td>0.0</td>\n",
       "      <td>0.0</td>\n",
       "      <td>0.0</td>\n",
       "      <td>-2.898723e-15</td>\n",
       "      <td>-8.398996e-13</td>\n",
       "    </tr>\n",
       "    <tr>\n",
       "      <th>1906126</th>\n",
       "      <td>2024-12-31 23:00:00</td>\n",
       "      <td>675</td>\n",
       "      <td>7.807867e+04</td>\n",
       "      <td>-2.415476</td>\n",
       "      <td>0.000000e+00</td>\n",
       "      <td>0.009039</td>\n",
       "      <td>0.000000</td>\n",
       "      <td>0.009039</td>\n",
       "      <td>0.0</td>\n",
       "      <td>0.0</td>\n",
       "      <td>0.0</td>\n",
       "      <td>-2.746067e-15</td>\n",
       "      <td>-3.038010e-13</td>\n",
       "    </tr>\n",
       "    <tr>\n",
       "      <th>1906127</th>\n",
       "      <td>2024-12-31 23:00:00</td>\n",
       "      <td>678</td>\n",
       "      <td>6.112337e+04</td>\n",
       "      <td>-1.495842</td>\n",
       "      <td>0.000000e+00</td>\n",
       "      <td>0.007077</td>\n",
       "      <td>0.000000</td>\n",
       "      <td>0.007077</td>\n",
       "      <td>0.0</td>\n",
       "      <td>0.0</td>\n",
       "      <td>0.0</td>\n",
       "      <td>-2.761680e-15</td>\n",
       "      <td>-3.902088e-13</td>\n",
       "    </tr>\n",
       "  </tbody>\n",
       "</table>\n",
       "<p>1906128 rows × 13 columns</p>\n",
       "</div>"
      ],
      "text/plain": [
       "                       time  node_id       storage     level   inflow_rate  \\\n",
       "0       2024-01-01 00:00:00        1  2.195916e+07 -0.430000  1.241118e-01   \n",
       "1       2024-01-01 00:00:00        2  2.849461e+06 -0.430000  5.702251e-01   \n",
       "2       2024-01-01 00:00:00        3  4.247546e+04 -2.660000  2.585266e-01   \n",
       "3       2024-01-01 00:00:00        4  5.722074e+05 -3.270000  2.041708e-02   \n",
       "4       2024-01-01 00:00:00        5  3.935989e+05 -1.800000  1.198974e-02   \n",
       "...                     ...      ...           ...       ...           ...   \n",
       "1906123 2024-12-31 23:00:00      672  4.519021e+05 -1.911687  0.000000e+00   \n",
       "1906124 2024-12-31 23:00:00      673  4.086998e+05 -2.340892  0.000000e+00   \n",
       "1906125 2024-12-31 23:00:00      674  2.863590e+05  7.458248  6.684285e-09   \n",
       "1906126 2024-12-31 23:00:00      675  7.807867e+04 -2.415476  0.000000e+00   \n",
       "1906127 2024-12-31 23:00:00      678  6.112337e+04 -1.495842  0.000000e+00   \n",
       "\n",
       "         outflow_rate  storage_rate  precipitation  evaporation  drainage  \\\n",
       "0            0.044768      2.627284       2.547940          0.0       0.0   \n",
       "1            0.387104      0.513746       0.330625          0.0       0.0   \n",
       "2            0.259783      0.003672       0.004928          0.0       0.0   \n",
       "3            0.052920      0.033891       0.066394          0.0       0.0   \n",
       "4            0.027256      0.030404       0.045670          0.0       0.0   \n",
       "...               ...           ...            ...          ...       ...   \n",
       "1906123      0.052217      0.000000       0.052217          0.0       0.0   \n",
       "1906124      0.047206      0.000000       0.047206          0.0       0.0   \n",
       "1906125      0.000000      0.006903       0.006903          0.0       0.0   \n",
       "1906126      0.009039      0.000000       0.009039          0.0       0.0   \n",
       "1906127      0.007077      0.000000       0.007077          0.0       0.0   \n",
       "\n",
       "         infiltration  balance_error  relative_error  \n",
       "0                 0.0   4.440892e-16    3.269185e-16  \n",
       "1                 0.0  -1.110223e-16   -1.724009e-16  \n",
       "2                 0.0   3.469447e-17    1.326145e-16  \n",
       "3                 0.0   0.000000e+00    0.000000e+00  \n",
       "4                 0.0   3.469447e-18    8.171576e-17  \n",
       "...               ...            ...             ...  \n",
       "1906123           0.0   9.700574e-15    1.857743e-13  \n",
       "1906124           0.0  -2.643025e-14   -5.598886e-13  \n",
       "1906125           0.0  -2.898723e-15   -8.398996e-13  \n",
       "1906126           0.0  -2.746067e-15   -3.038010e-13  \n",
       "1906127           0.0  -2.761680e-15   -3.902088e-13  \n",
       "\n",
       "[1906128 rows x 13 columns]"
      ]
     },
     "execution_count": 30,
     "metadata": {},
     "output_type": "execute_result"
    }
   ],
   "source": [
    "df_basin = pd.read_feather(os.path.join(output_dir, \"basin.arrow\"))\n",
    "df_basin"
   ]
  },
  {
   "cell_type": "markdown",
   "metadata": {},
   "source": [
    "### Add discrete control nodes"
   ]
  },
  {
   "cell_type": "code",
   "execution_count": 31,
   "metadata": {},
   "outputs": [],
   "source": [
    "# Add discrete control nodes and control edges\n",
    "# ribasim_param.add_discrete_control_nodes(ribasim_model)\n",
    "\n"
   ]
  }
 ],
 "metadata": {
  "kernelspec": {
   "display_name": "Python [conda env:ribasim]",
   "language": "python",
   "name": "conda-env-ribasim-py"
  },
  "language_info": {
   "codemirror_mode": {
    "name": "ipython",
    "version": 3
   },
   "file_extension": ".py",
   "mimetype": "text/x-python",
   "name": "python",
   "nbconvert_exporter": "python",
   "pygments_lexer": "ipython3",
   "version": "3.12.7"
  }
 },
 "nbformat": 4,
 "nbformat_minor": 4
}
