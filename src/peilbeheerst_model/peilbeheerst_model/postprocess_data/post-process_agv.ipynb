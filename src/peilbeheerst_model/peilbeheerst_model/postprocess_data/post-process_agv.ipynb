{
 "cells": [
  {
   "cell_type": "markdown",
   "id": "0",
   "metadata": {},
   "source": [
    "# Amstel Gooi en Vecht"
   ]
  },
  {
   "cell_type": "markdown",
   "id": "1",
   "metadata": {},
   "source": [
    "This script adds a new column \"peilgebied_cat\" and makes sure the peilgebieden allign with the HWS layer (Daniel):\n",
    "- peilgebied_cat = 0 -> peilgebied\n",
    "- peigelbied_cat = 1 -> RHWS (boezem)\n",
    "- peilgebied_cat = 2 -> NHWS Notes:\n"
   ]
  },
  {
   "cell_type": "code",
   "execution_count": null,
   "id": "2",
   "metadata": {},
   "outputs": [],
   "source": [
    "import geopandas as gpd\n",
    "import numpy as np\n",
    "import pandas as pd\n",
    "from general_functions import read_gpkg_layers"
   ]
  },
  {
   "cell_type": "markdown",
   "id": "3",
   "metadata": {},
   "source": [
    "## Amstel Gooi en Vecht"
   ]
  },
  {
   "cell_type": "code",
   "execution_count": null,
   "id": "4",
   "metadata": {},
   "outputs": [],
   "source": [
    "# define relative paths\n",
    "waterschap = \"AmstelGooienVecht\"\n",
    "waterschap2 = \"AGV\"\n",
    "\n",
    "data_path = f\"../projects/4750_20/Data_postprocessed/Waterschappen/{waterschap}/{waterschap2}.gpkg\"\n",
    "\n",
    "# Waterschaps boundaries\n",
    "grens_path = \"../projects/4750_30/Data_overig/Waterschapsgrenzen/Waterschapsgrenzen.geojson\"\n",
    "\n",
    "# Hoofdwatersysteem boundaries\n",
    "hws_path = \"../projects/4750_30/Data_overig/HWS/krw_basins_vlakken.gpkg\"\n",
    "\n",
    "# Buffer boundaries\n",
    "buffer_path = \"../projects/4750_30/Data_overig/HWS/hws_buffer_agv.gpkg\"\n",
    "\n",
    "# Buffer RWHS\n",
    "rhws_path = \"../projects/4750_30/Data_overig/HWS/agv_rhws_buffer.gpkg\"\n",
    "\n",
    "# Output folder\n",
    "output_folder = f\"./Waterschappen/{waterschap}\""
   ]
  },
  {
   "cell_type": "markdown",
   "id": "5",
   "metadata": {},
   "source": [
    "### Load Files"
   ]
  },
  {
   "cell_type": "code",
   "execution_count": null,
   "id": "6",
   "metadata": {},
   "outputs": [],
   "source": [
    "# Load HHNK files\n",
    "AVG = read_gpkg_layers(\n",
    "    gpkg_path=data_path,\n",
    "    variables=[\n",
    "        \"stuw\",\n",
    "        \"gemaal\",\n",
    "        \"hydroobject\",\n",
    "        \"duikersifonhevel\",\n",
    "        \"peilgebied\",\n",
    "        \"streefpeil\",\n",
    "    ],\n",
    ")\n",
    "AVG[\"peilgebied\"] = AVG[\"peilgebied\"].to_crs(\"EPSG:28992\")\n",
    "\n",
    "# Load waterschap boundaries\n",
    "gdf_grens = gpd.read_file(grens_path)\n",
    "gdf_grens = gdf_grens.to_crs(\"EPSG:28992\")\n",
    "gdf_grens = gdf_grens.set_index(\"waterschap\")\n",
    "\n",
    "# Load hws\n",
    "gdf_hws = gpd.read_file(hws_path)\n",
    "\n",
    "# Load buffer\n",
    "gdf_buffer = gpd.read_file(buffer_path)\n",
    "gdf_buffer = gdf_buffer.to_crs(\"EPSG:28992\")\n",
    "gdf_buffer = gdf_buffer.dissolve()\n",
    "\n",
    "# Load rhws\n",
    "gdf_rhws = gpd.read_file(rhws_path)\n",
    "gdf_rhws = gdf_rhws.to_crs(\"EPSG:28992\")\n",
    "gdf_rhws = gdf_rhws.dissolve()"
   ]
  },
  {
   "cell_type": "markdown",
   "id": "7",
   "metadata": {},
   "source": [
    "## Select waterschap boundaries and clip hws layer"
   ]
  },
  {
   "cell_type": "code",
   "execution_count": null,
   "id": "8",
   "metadata": {},
   "outputs": [],
   "source": [
    "# Select boundaries HH Amstel, Gooi en Vecht\n",
    "gdf_grens = gdf_grens.loc[[\"HH Amstel, Gooi en Vecht\"]]\n",
    "\n",
    "# Use waterschap boudnaries to clip HWS layer\n",
    "gdf_hws = gpd.overlay(gdf_grens, gdf_hws, how=\"intersection\")\n",
    "\n",
    "# Use waterschap boudnaries to clip HWS layer\n",
    "gdf_rhws = gpd.overlay(gdf_grens, gdf_rhws, how=\"intersection\")"
   ]
  },
  {
   "cell_type": "markdown",
   "id": "9",
   "metadata": {},
   "source": [
    "## RHWS is not included in AGV bron data, therefore create inverse difference layer to extract"
   ]
  },
  {
   "cell_type": "code",
   "execution_count": null,
   "id": "10",
   "metadata": {},
   "outputs": [],
   "source": [
    "# Select inverse of peilgebied\n",
    "gdf_rhws = gpd.overlay(gdf_rhws, AVG[\"peilgebied\"], how=\"difference\")\n",
    "gdf_rhws = gpd.overlay(gdf_rhws, gdf_hws, how=\"difference\")\n",
    "gdf_rhws.plot()"
   ]
  },
  {
   "cell_type": "markdown",
   "id": "11",
   "metadata": {},
   "source": [
    "## Peilgebied and HWS layer overlap:\n",
    "1. Identify the overlapping areas\n",
    "2. Clip\n",
    "3. Calculate overlapping area percentage\n",
    "4. Filter"
   ]
  },
  {
   "cell_type": "code",
   "execution_count": null,
   "id": "12",
   "metadata": {},
   "outputs": [],
   "source": [
    "# Step 1: Identify the Overlapping Areas and clip\n",
    "overlaps = gpd.overlay(AVG[\"peilgebied\"], gdf_hws, how=\"intersection\", keep_geom_type=True)\n",
    "\n",
    "# # Step 2: Subtract Overlapping Areas from the original polygons in each DataFrame\n",
    "non_overlapping_peilgebied = gpd.overlay(AVG[\"peilgebied\"], overlaps, how=\"difference\", keep_geom_type=True)\n",
    "overlaps = gpd.overlay(non_overlapping_peilgebied, gdf_hws, how=\"intersection\", keep_geom_type=False)\n",
    "\n",
    "# Step 3: Calculate Area Percentages\n",
    "# Calculate the area of overlaps\n",
    "overlaps[\"overlap_area\"] = overlaps.area\n",
    "\n",
    "# Step 4: Filter based on area Area Percentages\n",
    "minimum_area = 500\n",
    "print(f\"Number of overlapping shapes without filter: {len(overlaps)}\")\n",
    "overlap_ids = overlaps.loc[overlaps[\"overlap_area\"] > minimum_area]\n",
    "overlap_ids = overlap_ids.globalid.to_list()\n",
    "print(f\"Number of overlapping shapes with filter: {len(overlap_ids)}\")"
   ]
  },
  {
   "cell_type": "code",
   "execution_count": null,
   "id": "13",
   "metadata": {},
   "outputs": [],
   "source": [
    "# Add occurence to geodataframe\n",
    "peilgebieden_cat = []\n",
    "\n",
    "for index, row in AVG[\"peilgebied\"].iterrows():\n",
    "    peilgebieden_cat.append(0)\n",
    "\n",
    "# Add new column and drop old HWS_BZM column\n",
    "AVG[\"peilgebied\"][\"peilgebied_cat\"] = peilgebieden_cat\n",
    "# HD['peilgebied'] = HD['peilgebied'].drop(columns=['streefpeil'])"
   ]
  },
  {
   "cell_type": "markdown",
   "id": "14",
   "metadata": {},
   "source": [
    "## Add rhws to ['peilgebied','streefpeil']"
   ]
  },
  {
   "cell_type": "code",
   "execution_count": null,
   "id": "15",
   "metadata": {},
   "outputs": [],
   "source": [
    "# update peilgebied dict key\n",
    "gdf_rhws[\"globalid\"] = \"dummy_globalid_rhws_\" + gdf_rhws.index.astype(str)\n",
    "gdf_rhws[\"code\"] = \"dummy_code_nhws_\" + gdf_rhws.index.astype(str)\n",
    "gdf_rhws[\"nen3610id\"] = \"dummy_nen3610id_rhws_\" + gdf_rhws.index.astype(str)\n",
    "gdf_rhws[\"peilgebied_cat\"] = 1\n",
    "\n",
    "gdf_rhws = gdf_rhws[[\"globalid\", \"code\", \"nen3610id\", \"peilgebied_cat\", \"geometry\"]]\n",
    "\n",
    "AVG[\"peilgebied\"] = pd.concat([gdf_rhws, AVG[\"peilgebied\"]])"
   ]
  },
  {
   "cell_type": "code",
   "execution_count": null,
   "id": "16",
   "metadata": {},
   "outputs": [],
   "source": [
    "# Create boezem streefpeil layer\n",
    "streefpeil_hws = pd.DataFrame()\n",
    "streefpeil_hws[\"waterhoogte\"] = [np.nan] * len(gdf_rhws)\n",
    "streefpeil_hws[\"globalid\"] = \"dummy_globalid_rhws_\" + gdf_rhws.index.astype(str)\n",
    "streefpeil_hws[\"geometry\"] = [None] * len(gdf_rhws)\n",
    "\n",
    "AVG[\"streefpeil\"] = pd.concat([streefpeil_hws, AVG[\"streefpeil\"]])\n",
    "AVG[\"streefpeil\"] = gpd.GeoDataFrame(AVG[\"streefpeil\"])"
   ]
  },
  {
   "cell_type": "markdown",
   "id": "17",
   "metadata": {},
   "source": [
    "## Add nhws to ['peilgebied','streefpeil']"
   ]
  },
  {
   "cell_type": "code",
   "execution_count": null,
   "id": "18",
   "metadata": {},
   "outputs": [],
   "source": [
    "# update peilgebied dict key\n",
    "gdf_hws[\"globalid\"] = \"dummy_globalid_nhws_\" + gdf_hws.index.astype(str)\n",
    "gdf_hws[\"code\"] = \"dummy_code_nhws_\" + gdf_hws.index.astype(str)\n",
    "gdf_hws[\"nen3610id\"] = \"dummy_nen3610id_nhws_\" + gdf_hws.index.astype(str)\n",
    "gdf_hws[\"peilgebied_cat\"] = 2\n",
    "\n",
    "gdf_hws = gdf_hws[[\"globalid\", \"code\", \"nen3610id\", \"peilgebied_cat\", \"geometry\"]]\n",
    "\n",
    "AVG[\"peilgebied\"] = pd.concat([gdf_hws, AVG[\"peilgebied\"]])"
   ]
  },
  {
   "cell_type": "code",
   "execution_count": null,
   "id": "19",
   "metadata": {},
   "outputs": [],
   "source": [
    "# Create boezem streefpeil layer\n",
    "streefpeil_hws = pd.DataFrame()\n",
    "streefpeil_hws[\"waterhoogte\"] = [np.nan] * len(gdf_hws)\n",
    "streefpeil_hws[\"globalid\"] = \"dummy_globalid_nhws_\" + gdf_hws.index.astype(str)\n",
    "streefpeil_hws[\"geometry\"] = [None] * len(gdf_hws)\n",
    "\n",
    "AVG[\"streefpeil\"] = pd.concat([streefpeil_hws, AVG[\"streefpeil\"]])\n",
    "AVG[\"streefpeil\"] = gpd.GeoDataFrame(AVG[\"streefpeil\"])"
   ]
  },
  {
   "cell_type": "markdown",
   "id": "20",
   "metadata": {},
   "source": [
    "## Store output"
   ]
  },
  {
   "cell_type": "code",
   "execution_count": null,
   "id": "21",
   "metadata": {},
   "outputs": [],
   "source": [
    "for key in AVG.keys():\n",
    "    print(key)\n",
    "    AVG[str(key)].to_file(f\"{output_folder}/{waterschap2}.gpkg\", layer=str(key), driver=\"GPKG\")"
   ]
  }
 ],
 "metadata": {
  "kernelspec": {
   "display_name": "Python [conda env:stable]",
   "language": "python",
   "name": "conda-env-stable-py"
  },
  "language_info": {
   "codemirror_mode": {
    "name": "ipython",
    "version": 3
   },
   "file_extension": ".py",
   "mimetype": "text/x-python",
   "name": "python",
   "nbconvert_exporter": "python",
   "pygments_lexer": "ipython3",
   "version": "3.8.15"
  }
 },
 "nbformat": 4,
 "nbformat_minor": 5
}
