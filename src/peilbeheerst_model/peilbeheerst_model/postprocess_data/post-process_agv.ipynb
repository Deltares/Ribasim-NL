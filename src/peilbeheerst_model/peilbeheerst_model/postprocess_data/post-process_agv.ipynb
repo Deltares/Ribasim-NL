{
 "cells": [
  {
   "cell_type": "markdown",
   "id": "690952c5-5037-476a-a660-d54fec614748",
   "metadata": {},
   "source": [
    "# Amstel Gooi en Vecht"
   ]
  },
  {
   "cell_type": "markdown",
   "id": "e9e378d7-8f05-4562-87b0-34978ba61554",
   "metadata": {},
   "source": [
    "This script adds a new column \"peilgebied_cat\" and makes sure the peilgebieden allign with the HWS layer (Daniel):\n",
    "- peilgebied_cat = 0 -> peilgebied\n",
    "- peigelbied_cat = 1 -> RHWS (boezem)\n",
    "- peilgebied_cat = 2 -> NHWS Notes:\n"
   ]
  },
  {
   "cell_type": "code",
   "execution_count": 1,
   "id": "0c27c7a4-5733-46ea-970f-cd985b8c92cd",
   "metadata": {},
   "outputs": [],
   "source": [
    "# from itertools import combinations\n",
    "\n",
    "import geopandas as gpd\n",
    "import numpy as np\n",
    "from general_functions import *\n",
    "\n",
    "%load_ext autoreload\n",
    "%autoreload 2\n",
    "\n",
    "remove_cat_2 = True"
   ]
  },
  {
   "cell_type": "markdown",
   "id": "dc1f28d2-8499-4ebb-906e-1724bd334aac",
   "metadata": {},
   "source": [
    "## Amstel Gooi en Vecht"
   ]
  },
  {
   "cell_type": "code",
   "execution_count": 2,
   "id": "e15206a7-6639-40bb-9942-f920085f53b4",
   "metadata": {},
   "outputs": [],
   "source": [
    "# define relative paths\n",
    "waterschap = \"AmstelGooienVecht\"\n",
    "waterschap2 = \"AGV\"\n",
    "\n",
    "data_path = f\"/DATAFOLDER/projects/4750_20/Data_postprocessed/Waterschappen/{waterschap}/{waterschap2}.gpkg\"\n",
    "# \"Z:\\projects\\4750_20\\Data_postprocessed\\Waterschappen\\AmstelGooienVecht\\AGV.gpkg\"\n",
    "# Waterschaps boundaries\n",
    "grens_path = \"/DATAFOLDER/projects/4750_30/Data_overig/Waterschapsgrenzen/Waterschapsgrenzen.geojson\"\n",
    "\n",
    "# Hoofdwatersysteem boundaries\n",
    "hws_path = \"/DATAFOLDER//projects/4750_30/Data_overig/HWS/krw_basins_vlakken.gpkg\"\n",
    "\n",
    "# Buffer boundaries\n",
    "buffer_path = r\"/DATAFOLDER//projects/4750_30/Data_overig/HWS/hws_buffer_agv.gpkg\"\n",
    "\n",
    "# # Buffer RWHS\n",
    "# rhws_path = f\"/DATAFOLDER//projects/4750_30/Data_overig/HWS/agv_rhws_buffer.gpkg\"\n",
    "\n",
    "# Output folder\n",
    "output_folder = f\"/DATAFOLDER/projects/4750_30/Data_postprocessed/Waterschappen/{waterschap}\""
   ]
  },
  {
   "cell_type": "markdown",
   "id": "7bbafed8-355a-4ec9-90c9-eca9e3b9313d",
   "metadata": {},
   "source": [
    "### Load Files"
   ]
  },
  {
   "cell_type": "code",
   "execution_count": 3,
   "id": "0f6dcf56-e8a4-4055-bc86-a6d33c91d8d8",
   "metadata": {},
   "outputs": [],
   "source": [
    "# Load HHNK files\n",
    "AVG = read_gpkg_layers(\n",
    "    gpkg_path=data_path,\n",
    "    variables=[\n",
    "        \"stuw\",\n",
    "        \"gemaal\",\n",
    "        \"hydroobject\",\n",
    "        \"duikersifonhevel\",\n",
    "        \"peilgebied\",\n",
    "        \"streefpeil\",\n",
    "        \"aggregation_area\",\n",
    "    ],\n",
    ")\n",
    "AVG[\"peilgebied\"] = AVG[\"peilgebied\"].to_crs(\"EPSG:28992\")\n",
    "\n",
    "# Load waterschap boundaries\n",
    "gdf_grens = gpd.read_file(grens_path)\n",
    "gdf_grens = gdf_grens.to_crs(\"EPSG:28992\")\n",
    "gdf_grens = gdf_grens.set_index(\"waterschap\")\n",
    "\n",
    "# Load hws\n",
    "gdf_hws = gpd.read_file(hws_path)\n",
    "\n",
    "# Load buffer\n",
    "gdf_buffer = gpd.read_file(buffer_path)\n",
    "gdf_buffer = gdf_buffer.to_crs(\"EPSG:28992\")\n",
    "gdf_buffer = gdf_buffer.dissolve()\n",
    "\n",
    "# # Load rhws\n",
    "# gdf_rhws = gpd.read_file(rhws_path)\n",
    "# gdf_rhws = gdf_rhws.to_crs('EPSG:28992')\n",
    "# gdf_rhws = gdf_rhws.dissolve()"
   ]
  },
  {
   "cell_type": "code",
   "execution_count": 4,
   "id": "dd29abc2-65fa-4b54-95e5-98a4878eb620",
   "metadata": {},
   "outputs": [
    {
     "data": {
      "text/plain": [
       "True"
      ]
     },
     "execution_count": 4,
     "metadata": {},
     "output_type": "execute_result"
    }
   ],
   "source": [
    "AVG[\"peilgebied\"].globalid.is_unique"
   ]
  },
  {
   "cell_type": "markdown",
   "id": "a1d63576-29bb-4157-b3fa-d6c7404e3ccf",
   "metadata": {},
   "source": [
    "## Select waterschap boundaries and clip hws layer"
   ]
  },
  {
   "cell_type": "code",
   "execution_count": 5,
   "id": "b89385dd-5d81-4bea-9627-7750b1842e9c",
   "metadata": {},
   "outputs": [],
   "source": [
    "# Select boundaries HH Amstel, Gooi en Vecht\n",
    "gdf_grens = gdf_grens.loc[[\"HH Amstel, Gooi en Vecht\"]]\n",
    "\n",
    "# Use waterschap boudnaries to clip HWS layer\n",
    "gdf_hws = gpd.overlay(gdf_grens, gdf_hws, how=\"intersection\")\n",
    "\n",
    "# # Use waterschap boudnaries to clip HWS layer\n",
    "# gdf_rhws = gpd.overlay(gdf_grens, gdf_rhws, how='intersection')"
   ]
  },
  {
   "cell_type": "markdown",
   "id": "09d49cea-cfba-454a-b29a-b22f93064617",
   "metadata": {},
   "source": [
    "## Peilgebied and HWS layer overlap:\n",
    "1. Identify the overlapping areas\n",
    "2. Clip\n",
    "3. Calculate overlapping area percentage\n",
    "4. Filter"
   ]
  },
  {
   "cell_type": "code",
   "execution_count": 6,
   "id": "f6edfd80-f81c-4659-9d8d-1dec3f91a23c",
   "metadata": {},
   "outputs": [
    {
     "name": "stdout",
     "output_type": "stream",
     "text": [
      "Number of overlapping shapes without filter: 28\n",
      "Number of overlapping shapes with filter: 0\n"
     ]
    }
   ],
   "source": [
    "# Step 1: Identify the Overlapping Areas and clip\n",
    "overlaps = gpd.overlay(AVG[\"peilgebied\"], gdf_hws, how=\"intersection\", keep_geom_type=True)\n",
    "\n",
    "# # Step 2: Subtract Overlapping Areas from the original polygons in each DataFrame\n",
    "non_overlapping_peilgebied = gpd.overlay(AVG[\"peilgebied\"], overlaps, how=\"difference\", keep_geom_type=True)\n",
    "overlaps = gpd.overlay(non_overlapping_peilgebied, gdf_hws, how=\"intersection\", keep_geom_type=False)\n",
    "\n",
    "# Step 3: Calculate Area Percentages\n",
    "# Calculate the area of overlaps\n",
    "overlaps[\"overlap_area\"] = overlaps.area\n",
    "\n",
    "# Step 4: Filter based on area Area Percentages\n",
    "minimum_area = 500\n",
    "print(f\"Number of overlapping shapes without filter: {len(overlaps)}\")\n",
    "overlap_ids = overlaps.loc[overlaps[\"overlap_area\"] > minimum_area]\n",
    "overlap_ids = overlap_ids.globalid.to_list()\n",
    "print(f\"Number of overlapping shapes with filter: {len(overlap_ids)}\")"
   ]
  },
  {
   "cell_type": "code",
   "execution_count": 7,
   "id": "fa787842-0a11-4d0f-ba5e-04566370a9fb",
   "metadata": {},
   "outputs": [
    {
     "name": "stdout",
     "output_type": "stream",
     "text": [
      "true\n",
      "true\n",
      "true\n",
      "true\n",
      "true\n",
      "true\n",
      "true\n",
      "true\n",
      "true\n",
      "true\n",
      "true\n",
      "true\n",
      "true\n"
     ]
    }
   ],
   "source": [
    "# Add occurence to geodataframe\n",
    "peilgebieden_cat = []\n",
    "\n",
    "for index, row in AVG[\"peilgebied\"].iterrows():\n",
    "    # if row.code == \"Oosterpark\" or row.code == \"Vechtboezem\":\n",
    "    if \"Oosterpark\" in row.code or \"Vechtboezem\" in row.code or \"Stadsboezem Amsterdam\" in row.code:\n",
    "        print(\"true\")\n",
    "\n",
    "        peilgebieden_cat.append(1)\n",
    "    else:\n",
    "        peilgebieden_cat.append(0)\n",
    "\n",
    "# Add new column and drop old HWS_BZM column\n",
    "AVG[\"peilgebied\"][\"peilgebied_cat\"] = peilgebieden_cat"
   ]
  },
  {
   "cell_type": "markdown",
   "id": "361025ff-51b6-4a45-9fa5-d3d3698611dc",
   "metadata": {},
   "source": [
    "## Add rhws to ['peilgebied','streefpeil']"
   ]
  },
  {
   "cell_type": "code",
   "execution_count": 8,
   "id": "3164fa66-d75f-498e-bc88-56532faee31b",
   "metadata": {},
   "outputs": [],
   "source": [
    "# # update peilgebied dict key\n",
    "# gdf_rhws['globalid'] = 'dummy_globalid_rhws_' + gdf_rhws.index.astype(str)\n",
    "# gdf_rhws['code'] = 'dummy_code_nhws_' + gdf_rhws.index.astype(str)\n",
    "# gdf_rhws['nen3610id'] = 'dummy_nen3610id_rhws_' + gdf_rhws.index.astype(str)\n",
    "# gdf_rhws['peilgebied_cat'] = 1\n",
    "\n",
    "# gdf_rhws = gdf_rhws[['globalid', 'code', 'nen3610id', 'peilgebied_cat', 'geometry']]\n",
    "\n",
    "# AVG['peilgebied'] = pd.concat([gdf_rhws, AVG['peilgebied']])"
   ]
  },
  {
   "cell_type": "code",
   "execution_count": 9,
   "id": "89ba7b08-3b2a-4058-9946-e82e19bfe4e3",
   "metadata": {},
   "outputs": [],
   "source": [
    "# # Create boezem streefpeil layer\n",
    "# streefpeil_hws = pd.DataFrame()\n",
    "# streefpeil_hws['waterhoogte'] = [np.nan] * len(gdf_rhws)\n",
    "# streefpeil_hws['globalid'] = 'dummy_globalid_rhws_' + gdf_rhws.index.astype(str)\n",
    "# streefpeil_hws['geometry'] = [None]* len(gdf_rhws)\n",
    "\n",
    "# AVG['streefpeil'] = pd.concat([streefpeil_hws, AVG['streefpeil']])\n",
    "# AVG['streefpeil'] = gpd.GeoDataFrame(AVG['streefpeil'])"
   ]
  },
  {
   "cell_type": "markdown",
   "id": "afef1983-b814-4d0d-bc07-ad88539a5459",
   "metadata": {},
   "source": [
    "## Add nhws to ['peilgebied','streefpeil']"
   ]
  },
  {
   "cell_type": "code",
   "execution_count": 10,
   "id": "6f005124-3aa6-4b04-baa1-6e38736cd2c6",
   "metadata": {},
   "outputs": [],
   "source": [
    "# update peilgebied dict key\n",
    "gdf_hws[\"globalid\"] = \"dummy_globalid_nhws_\" + gdf_hws.index.astype(str)\n",
    "gdf_hws[\"code\"] = \"dummy_code_nhws_\" + gdf_hws.index.astype(str)\n",
    "gdf_hws[\"nen3610id\"] = \"dummy_nen3610id_nhws_\" + gdf_hws.index.astype(str)\n",
    "gdf_hws[\"peilgebied_cat\"] = 2\n",
    "\n",
    "gdf_hws = gdf_hws[[\"globalid\", \"code\", \"nen3610id\", \"peilgebied_cat\", \"geometry\"]]\n",
    "\n",
    "AVG[\"peilgebied\"] = pd.concat([gdf_hws, AVG[\"peilgebied\"]])"
   ]
  },
  {
   "cell_type": "code",
   "execution_count": 11,
   "id": "b735a861-3ef3-4db4-b9eb-fd89dc47aca7",
   "metadata": {},
   "outputs": [],
   "source": [
    "# Create boezem streefpeil layer\n",
    "streefpeil_hws = pd.DataFrame()\n",
    "streefpeil_hws[\"waterhoogte\"] = [np.nan] * len(gdf_hws)\n",
    "streefpeil_hws[\"globalid\"] = \"dummy_globalid_nhws_\" + gdf_hws.index.astype(str)\n",
    "streefpeil_hws[\"geometry\"] = [None] * len(gdf_hws)\n",
    "\n",
    "AVG[\"streefpeil\"] = pd.concat([streefpeil_hws, AVG[\"streefpeil\"]])\n",
    "AVG[\"streefpeil\"] = gpd.GeoDataFrame(AVG[\"streefpeil\"])"
   ]
  },
  {
   "cell_type": "markdown",
   "id": "9177014f-707b-4b32-9a6b-fb5da9e61546",
   "metadata": {},
   "source": [
    "### Create buffer polygon between NHWS and peilgebied/RHWS"
   ]
  },
  {
   "cell_type": "code",
   "execution_count": 12,
   "id": "494db515-aebe-4d94-854e-0c2c939a8214",
   "metadata": {},
   "outputs": [],
   "source": [
    "# buffer_polygon = gdf_buffer.geometry.iat[0].intersection(gdf_grens.geometry.iat[0])\n",
    "# buffer_polygon = buffer_polygon.difference(shapely.geometry.MultiPolygon(gdf_hws.geometry.tolist()))\n",
    "# buffer_polygon = buffer_polygon.difference(shapely.ops.unary_union(AVG['peilgebied'].geometry.tolist()))\n",
    "\n",
    "# buffer_polygon = gpd.GeoDataFrame(buffer_polygon)\n",
    "# buffer_polygon = buffer_polygon.set_geometry(0)\n",
    "# buffer_polygon = buffer_polygon.dissolve()\n",
    "# buffer_polygon = buffer_polygon.rename(columns={0:'geometry'})\n",
    "# buffer_polygon = buffer_polygon.set_geometry('geometry')\n",
    "# buffer_polygon = buffer_polygon.set_crs('EPSG:28992')"
   ]
  },
  {
   "cell_type": "markdown",
   "id": "003fc773-c705-42f6-925a-2ae67eef83c0",
   "metadata": {},
   "source": [
    "### Add buffer to ['peilgebied','streefpeil']"
   ]
  },
  {
   "cell_type": "code",
   "execution_count": 13,
   "id": "03d96d05-9819-4811-891c-d645406c7027",
   "metadata": {},
   "outputs": [],
   "source": [
    "# # update peilgebied dict key\n",
    "# buffer_polygon = gpd.GeoDataFrame(buffer_polygon)\n",
    "# buffer_polygon['globalid'] = 'dummy_globalid_nhws_buffer_' + buffer_polygon.index.astype(str)\n",
    "# buffer_polygon['code'] = 'dummy_code_nhws_buffer_' + buffer_polygon.index.astype(str)\n",
    "# buffer_polygon['nen3610id'] = 'dummy_nen3610id_nhws_buffer_' + buffer_polygon.index.astype(str)\n",
    "# buffer_polygon['peilgebied_cat'] = 2\n",
    "# buffer_polygon = buffer_polygon.rename(columns={0:'geometry'})\n",
    "# buffer_polygon = buffer_polygon[['globalid', 'code', 'nen3610id', 'peilgebied_cat', 'geometry']]\n",
    "\n",
    "# AVG['peilgebied'] = pd.concat([buffer_polygon, AVG['peilgebied']])\n",
    "# AVG['peilgebied'] = gpd.GeoDataFrame(AVG['peilgebied'])"
   ]
  },
  {
   "cell_type": "code",
   "execution_count": 14,
   "id": "c0fa7650-eb05-4b93-9a49-dda6ac49b31b",
   "metadata": {},
   "outputs": [],
   "source": [
    "# # Create boezem streefpeil layer\n",
    "# streefpeil_buffer = pd.DataFrame()\n",
    "# streefpeil_buffer['waterhoogte'] = [np.nan]\n",
    "# streefpeil_buffer['globalid'] = 'dummy_globalid_nhws_buffer_' + buffer_polygon.index.astype(str)\n",
    "# streefpeil_buffer['geometry'] = [None]\n",
    "\n",
    "\n",
    "# AVG['streefpeil'] = pd.concat([streefpeil_buffer, AVG['streefpeil']])\n",
    "# AVG['streefpeil'] = gpd.GeoDataFrame(AVG['streefpeil'])"
   ]
  },
  {
   "cell_type": "code",
   "execution_count": 15,
   "id": "8d5771f9-fdce-44b0-bea8-1cf0023e7e66",
   "metadata": {},
   "outputs": [],
   "source": [
    "if remove_cat_2:\n",
    "    AVG[\"peilgebied\"] = AVG[\"peilgebied\"].loc[AVG[\"peilgebied\"].peilgebied_cat != 2]"
   ]
  },
  {
   "cell_type": "markdown",
   "id": "81991696-fd4d-490d-9129-98f091d64f91",
   "metadata": {},
   "source": [
    "## Store output"
   ]
  },
  {
   "cell_type": "code",
   "execution_count": 16,
   "id": "b70f5533-bc4f-4554-a3f1-e0d4085fea90",
   "metadata": {
    "scrolled": true
   },
   "outputs": [
    {
     "name": "stdout",
     "output_type": "stream",
     "text": [
      "stuw\n",
      "gemaal\n",
      "hydroobject\n",
      "duikersifonhevel\n",
      "peilgebied\n",
      "streefpeil\n",
      "aggregation_area\n"
     ]
    }
   ],
   "source": [
    "for key in AVG.keys():\n",
    "    print(key)\n",
    "    AVG[str(key)].to_file(f\"{output_folder}/{waterschap2}.gpkg\", layer=str(key), driver=\"GPKG\")"
   ]
  },
  {
   "cell_type": "code",
   "execution_count": 17,
   "id": "db877f10-5557-46ed-8c1f-0c25103663ed",
   "metadata": {},
   "outputs": [
    {
     "data": {
      "text/plain": [
       "array([0, 1])"
      ]
     },
     "execution_count": 17,
     "metadata": {},
     "output_type": "execute_result"
    }
   ],
   "source": [
    "AVG[\"peilgebied\"][\"peilgebied_cat\"].unique()"
   ]
  },
  {
   "cell_type": "code",
   "execution_count": null,
   "id": "f4008e4c-ab26-4e6d-86cb-6e449d167ad8",
   "metadata": {},
   "outputs": [],
   "source": []
  }
 ],
 "metadata": {
  "kernelspec": {
   "display_name": "Python [conda env:stable]",
   "language": "python",
   "name": "conda-env-stable-py"
  },
  "language_info": {
   "codemirror_mode": {
    "name": "ipython",
    "version": 3
   },
   "file_extension": ".py",
   "mimetype": "text/x-python",
   "name": "python",
   "nbconvert_exporter": "python",
   "pygments_lexer": "ipython3",
   "version": "3.8.15"
  }
 },
 "nbformat": 4,
 "nbformat_minor": 5
}
