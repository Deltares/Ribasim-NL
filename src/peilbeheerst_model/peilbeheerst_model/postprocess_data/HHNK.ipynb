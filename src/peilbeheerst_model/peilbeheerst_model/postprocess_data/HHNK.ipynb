{
 "cells": [
  {
   "cell_type": "code",
   "execution_count": 92,
   "id": "065338fd-62d6-480e-8c80-8bc4b101846b",
   "metadata": {},
   "outputs": [],
   "source": [
    "#import packages and functions\n",
    "import numpy as np\n",
    "import matplotlib.pyplot as plt\n",
    "import pandas as pd\n",
    "import geopandas as gpd\n",
    "import os\n",
    "import fiona\n",
    "import shapely"
   ]
  },
  {
   "cell_type": "code",
   "execution_count": 93,
   "id": "3f5aaa20-7965-4aa7-bf24-79965d87edb1",
   "metadata": {},
   "outputs": [
    {
     "name": "stdout",
     "output_type": "stream",
     "text": [
      "The autoreload extension is already loaded. To reload it, use:\n",
      "  %reload_ext autoreload\n"
     ]
    }
   ],
   "source": [
    "%load_ext autoreload\n",
    "%autoreload 2\n",
    "\n",
    "from general_functions import *\n",
    "pd.set_option('display.max_columns', None)\n"
   ]
  },
  {
   "cell_type": "raw",
   "id": "92904555-a98a-4211-8b13-daf79335a6f8",
   "metadata": {},
   "source": [
    "Gebeld met Jeroen Hermans. Conclusie: GAF70 gebieden niet gebruiken, en aggregeren op basis van polders ivm niet overlappende intekeningen. Duingebieden in Texel kunnen er uit gelaten worden, Jeroen geeft later vandaag aan of dat ook overal kan. Het liefst heeft hij de flubbertjes bij de duinen in Texel er wél bij, maar alleen als het niet te veel gedoe is."
   ]
  },
  {
   "cell_type": "markdown",
   "id": "ffeed567-f858-4e46-83ff-89b7d7ea9b6d",
   "metadata": {},
   "source": [
    "# Hollands Noorderkwartier"
   ]
  },
  {
   "cell_type": "code",
   "execution_count": 94,
   "id": "636e86b9-bd75-4f8f-91eb-e757fba21fde",
   "metadata": {},
   "outputs": [],
   "source": [
    "#define relative paths\n",
    "gpkg_path_HHNK = \"../../Data_preprocessed/Waterschappen/HHNK/Noorderkwartier.gpkg\"\n",
    "# gdb_path_HHNK = \"../../Data_preprocessed/Waterschappen/HHNK/Watersysteemanalyse_BWN2.gdb\"\n",
    "gdb_path_HHNK_nalevering = \"../../Data_preprocessed/Waterschappen/HHNK/Na_levering_HHNK_gemalen_stuwen_20240321.gdb\"\n",
    "output_gpkg_path_HHNK = \"../../Data_postprocessed/Waterschappen/HHNK/Noorderkwartier\"\n",
    "interim_results = \"../../Interim_results/Waterschappen/HHNK/Noorderkwartier_IR\"\n",
    "peilgebieden_NH_path = r\"D:\\Users\\Bruijns\\Documents\\PR4750_20\\Data_preprocessed\\Waterschappen\\HHNK\\20240618_peilgebieden_en_polders\\NoordHolland.gpkg\"\n",
    "Texel_path = r\"D:\\Users\\Bruijns\\Documents\\PR4750_20\\Data_preprocessed\\Waterschappen\\HHNK\\20240618_peilgebieden_en_polders\\Texel.gpkg\"\n",
    "polders_path = r\"D:\\Users\\Bruijns\\Documents\\PR4750_20\\Data_preprocessed\\Waterschappen\\HHNK\\20240618_peilgebieden_en_polders\\Polders_export_2024-06-18.shp\""
   ]
  },
  {
   "cell_type": "code",
   "execution_count": 95,
   "id": "baf1ecdb-36e9-4370-ad9d-28dd4b7b0c6b",
   "metadata": {},
   "outputs": [],
   "source": [
    "#retrieve the data\n",
    "HHNK = read_gpkg_layers(gpkg_path = gpkg_path_HHNK, \n",
    "                        variables = [\n",
    "                                     # 'stuw', #nalevering\n",
    "                                     # 'gemaal', #nalevering\n",
    "                                     'afsluitmiddel',\n",
    "                                     'hydroobject',\n",
    "                                     'duikersifonhevel']) \n",
    "                                     # 'peilafwijkinggebied', \n",
    "                                     # 'peilgebiedpraktijk',\n",
    "                                     # 'pomp'])\n",
    "                                     # 'streefpeil'])\n",
    "                            \n",
    "#retrieve data from a gdb, as the gpkg of HHNK does not contain all relevant data\n",
    "# data_gdb = gpd.read_file(gdb_path_HHNK, layer='BWN_ruimtekaart')\n",
    "HHNK_nalevering = read_gpkg_layers(gpkg_path = gdb_path_HHNK_nalevering, \n",
    "                        variables = ['stuw', 'gemaal']) #nalevering\n",
    "\n",
    "HHNK['stuw'] = HHNK_nalevering['stuw']\n",
    "HHNK['gemaal'] = HHNK_nalevering['gemaal']"
   ]
  },
  {
   "cell_type": "code",
   "execution_count": 96,
   "id": "3dbf5fe0-ac68-4270-b936-51dd5e7e8215",
   "metadata": {},
   "outputs": [],
   "source": [
    "# HHNK['peilgebied'] = gpd.read_file(r\"D:\\Users\\Bruijns\\Documents\\PR4750_20\\Data_preprocessed\\Waterschappen\\HHNK\\Na_levering_peilgebieden.gpkg\")"
   ]
  },
  {
   "cell_type": "code",
   "execution_count": 97,
   "id": "314a1a85-e2e3-4014-bc2b-76a748412075",
   "metadata": {},
   "outputs": [],
   "source": [
    "from shapely.affinity import translate\n",
    "\n",
    "def translate_point(point, x_offset=0.01, y_offset=0.01):\n",
    "    return translate(point, xoff=x_offset, yoff=y_offset)\n",
    "\n",
    "# Apply the translation to each geometry in the GeoDataFrame\n",
    "HHNK['gemaal']['geometry'] = HHNK['gemaal']['geometry'].apply(lambda geom: translate_point(geom))\n"
   ]
  },
  {
   "cell_type": "code",
   "execution_count": 98,
   "id": "033468ab-b74c-468a-90b1-eac395ad8d17",
   "metadata": {},
   "outputs": [],
   "source": [
    "#determine aanvoer en afvoer gemalen\n",
    "HHNK['gemaal']['func_aanvoer'], HHNK['gemaal']['func_afvoer'], HHNK['gemaal']['func_circulatie']  = False, False, False #default is False\n",
    "HHNK['gemaal']['functiegemaal'] = HHNK['gemaal']['FUNCTIEGEMAAL'].astype(str) \n",
    "HHNK['gemaal'].loc[HHNK['gemaal']['functiegemaal'] == 'onbekend', 'functiegemaal'] = np.nan #replace onbekend with nan, will be filled up later see one line below\n",
    "HHNK['gemaal'].loc[HHNK['gemaal']['functiegemaal'] == '99', 'functiegemaal'] = np.nan #replace onbekend with nan, will be filled up later see one line below\n",
    "HHNK['gemaal']['functiegemaal'].fillna(HHNK['gemaal']['OPMERKING'], inplace = True) #some additional is given in this column\n",
    "HHNK['gemaal'] = HHNK['gemaal'].loc[HHNK['gemaal']['functiegemaal'] != 'niet meer in gebruik'] #filter the gemalen out which are not in use\n",
    "HHNK['gemaal'] = HHNK['gemaal'].loc[HHNK['gemaal']['functiegemaal'] != '901'] #filter the gemalen out which are not in use\n",
    "\n",
    "# HHNK['gemaal'].loc[HHNK['gemaal'].functiegemaal.str.contains('onderbemaling|afvoer|af-'), 'func_afvoer'] = True\n",
    "# HHNK['gemaal'].loc[HHNK['gemaal'].functiegemaal.str.contains('trekker|opmaling|op-|wateraanvoer|aanvoer'), 'func_aanvoer'] = True #aannamen: trekkerpompen vooral voor wateraanvoer\n",
    "# HHNK['gemaal'].loc[HHNK['gemaal'].functiegemaal.str.contains('doorspoelpomp'), 'func_circulatie'] = True\n",
    "\n",
    "afvoer_values = ['2', '4', '5', '6', '903']\n",
    "aanvoer_values = ['1', '3', '5', '902', '903'] #aannamen: trekkerpompen vooral voor wateraanvoer\n",
    "circulatie_values = ['904']\n",
    "\n",
    "\n",
    "HHNK['gemaal'].loc[HHNK['gemaal']['functiegemaal'].isin(afvoer_values), 'func_afvoer'] = True\n",
    "HHNK['gemaal'].loc[HHNK['gemaal']['functiegemaal'].isin(aanvoer_values), 'func_aanvoer'] = True\n",
    "HHNK['gemaal'].loc[HHNK['gemaal']['functiegemaal'].isin(circulatie_values), 'func_circulatie'] = True\n",
    "\n",
    "HHNK['gemaal'].loc[(HHNK['gemaal'].func_afvoer == False) &\n",
    "                       (HHNK['gemaal'].func_aanvoer == False) &\n",
    "                       (HHNK['gemaal'].func_circulatie == False), 'func_afvoer'] = True #set to afvoergemaal is there the function is unknown"
   ]
  },
  {
   "cell_type": "code",
   "execution_count": 99,
   "id": "805ffd9b-da23-46e3-977f-84575e32f225",
   "metadata": {},
   "outputs": [],
   "source": [
    "#gemaal\n",
    "HHNK['gemaal'].rename(columns={'CODE': 'code',\n",
    "                               'GLOBALID': 'globalid'}, inplace = True)\n",
    "HHNK['gemaal']['nen3610id'] = 'dummy_nen3610id_' + HHNK['gemaal'].index.astype(str) #create a string as the globalid is usually a str as well\n",
    "\n",
    "#stuw\n",
    "HHNK['stuw'].rename(columns={'CODE': 'code',\n",
    "                               'GLOBALID': 'globalid'}, inplace = True)\n",
    "HHNK['stuw']['nen3610id'] = 'dummy_nen3610id_' + HHNK['stuw'].index.astype(str) #create a string as the globalid is usually a str as well\n"
   ]
  },
  {
   "cell_type": "markdown",
   "id": "341e9076-62bd-4d0f-aba9-835cdf93afeb",
   "metadata": {},
   "source": [
    "### GPKG"
   ]
  },
  {
   "cell_type": "code",
   "execution_count": 100,
   "id": "9b86f37d-16de-49db-969a-b233f1531abb",
   "metadata": {
    "tags": []
   },
   "outputs": [],
   "source": [
    "# discard irrelevant dataHHNK\n",
    "HHNK['stuw'] = HHNK['stuw'][['code', 'globalid', 'nen3610id', 'geometry']]\n",
    "HHNK['gemaal'] = HHNK['gemaal'][['code', 'globalid', 'nen3610id', 'func_afvoer', 'func_aanvoer', 'func_circulatie', 'geometry']]\n",
    "HHNK['hydroobject'] = HHNK['hydroobject'][['code', 'globalid', 'nen3610id', 'geometry']]\n",
    "HHNK['afsluitmiddel'] = HHNK['afsluitmiddel'][['code', 'globalid', 'nen3610id', 'geometry']]\n",
    "HHNK['duikersifonhevel'] = HHNK['duikersifonhevel'][['code', 'globalid', 'nen3610id', 'geometry']]"
   ]
  },
  {
   "cell_type": "markdown",
   "id": "cdc5db0a-4f5f-464f-aa98-1cc7ea968680",
   "metadata": {},
   "source": [
    "### Peilgebieden"
   ]
  },
  {
   "cell_type": "code",
   "execution_count": 101,
   "id": "17825562-4082-42f5-9e39-3d1e30d784e3",
   "metadata": {},
   "outputs": [],
   "source": [
    "# peilgebieden = gpd.read_file(peilgebieden_NH_path)\n",
    "# Texel = gpd.read_file(Texel_path)\n",
    "# polders = gpd.read_file(polders_path)\n",
    "\n",
    "# Texel['centroid'] = Texel.centroid\n",
    "\n",
    "# Texel = gpd.GeoDataFrame(Texel, geometry='centroid')\n",
    "# polders = gpd.GeoDataFrame(polders, geometry = 'geometry')\n",
    "\n",
    "# Texel['CODE'] = Texel[['centroid']].sjoin(polders[['CODE', 'geometry']],\n",
    "#                                           how = 'left',\n",
    "#                                           predicate = 'within')['CODE']\n",
    "\n",
    "# peilgebieden = pd.concat([peilgebieden, Texel]).reset_index(drop=True)\n"
   ]
  },
  {
   "cell_type": "code",
   "execution_count": 102,
   "id": "5a51ed80-a0ee-431b-899d-ee5475834e73",
   "metadata": {},
   "outputs": [],
   "source": [
    "# peilgebieden['waterhoogte'] = np.nan\n",
    "# peilgebieden['waterhoogte'] = peilgebieden['waterhoogte'].fillna(value=peilgebieden.STREEFPEIL)\n",
    "# peilgebieden.loc[peilgebieden['waterhoogte'] == 0, 'waterhoogte'] = np.nan #replace zero values with NaN\n",
    "\n",
    "# peilgebieden['waterhoogte'] = peilgebieden['waterhoogte'].fillna(value=peilgebieden.VAST)\n",
    "# peilgebieden.loc[peilgebieden['waterhoogte'] == 0, 'waterhoogte'] = np.nan #replace zero values with NaN\n",
    "\n",
    "# peilgebieden['waterhoogte'] = peilgebieden['waterhoogte'].fillna(value=peilgebieden.ZOMER)\n",
    "# peilgebieden.loc[peilgebieden['waterhoogte'] == 0, 'waterhoogte'] = np.nan #replace zero values with NaN\n",
    "\n",
    "# peilgebieden['waterhoogte'] = peilgebieden['waterhoogte'].fillna(value=peilgebieden.WINTER)\n",
    "# peilgebieden.loc[peilgebieden['waterhoogte'] == 0, 'waterhoogte'] = np.nan #replace zero values with NaN\n",
    "\n",
    "# peilgebieden['waterhoogte'] = peilgebieden['waterhoogte'].fillna(value=peilgebieden.ONDERGRENS)\n",
    "# peilgebieden.loc[peilgebieden['waterhoogte'] == 0, 'waterhoogte'] = np.nan #replace zero values with NaN\n",
    "\n",
    "# peilgebieden['waterhoogte'] = peilgebieden['waterhoogte'].fillna(value=peilgebieden.BOVENGRENS)\n",
    "# peilgebieden.loc[peilgebieden['waterhoogte'] == 0, 'waterhoogte'] = np.nan #replace zero values with NaN\n",
    "\n",
    "# peilgebieden['waterhoogte'] = peilgebieden['waterhoogte'].fillna(value=peilgebieden.STREEFPE_1)\n",
    "# peilgebieden.loc[peilgebieden['waterhoogte'] == 0, 'waterhoogte'] = np.nan #replace zero values with NaN\n",
    "\n",
    "# peilgebieden['waterhoogte'] = peilgebieden['waterhoogte'].fillna(value=peilgebieden.ONDERGRE_1)\n",
    "# peilgebieden.loc[peilgebieden['waterhoogte'] == 0, 'waterhoogte'] = np.nan #replace zero values with NaN"
   ]
  },
  {
   "cell_type": "code",
   "execution_count": 103,
   "id": "fb0cccac-68e1-4638-a3bb-492395dde13e",
   "metadata": {},
   "outputs": [],
   "source": [
    "# peilgebieden['HWS_BZM'] = np.nan\n",
    "# peilgebieden.loc[peilgebieden.CODE == '03010-01', 'HWS_BZM'] = True\n",
    "# peilgebieden.loc[peilgebieden.CODE == '1000-01', 'HWS_BZM'] = True\n",
    "# peilgebieden.loc[peilgebieden.CODE == '1700-01', 'HWS_BZM'] = True\n",
    "# peilgebieden.loc[peilgebieden.CODE == '1800-01', 'HWS_BZM'] = True\n",
    "\n",
    "# peilgebieden['polder'] = peilgebieden.CODE.str.split('-').str[0]\n",
    "# peilgebieden['code'] = peilgebieden.CODE + '_' + peilgebieden.index.astype(str)\n",
    "# peilgebieden['globalid'] = peilgebieden.OBJECTID\n",
    "# peilgebieden['nen3610id'] = 'dummy_nen3610id_' + peilgebieden.index.astype(str)\n",
    "# peilgebieden = peilgebieden[['waterhoogte', 'code', 'nen3610id', 'globalid', 'polder', 'HWS_BZM', 'geometry']]"
   ]
  },
  {
   "cell_type": "markdown",
   "id": "65b8484f-0fd5-48f8-8f6f-efab55e7ff71",
   "metadata": {},
   "source": [
    "### The polders and peilgebieden of Texel are different. Load them in seperatly"
   ]
  },
  {
   "cell_type": "code",
   "execution_count": 104,
   "id": "07f46840-c879-4517-9b86-9c5444f4f19e",
   "metadata": {},
   "outputs": [],
   "source": [
    "# aggregation_areas = peilgebieden.dissolve(by='polder')"
   ]
  },
  {
   "cell_type": "code",
   "execution_count": 105,
   "id": "4c5d03fd-b7a2-45da-8198-5d65252073b3",
   "metadata": {},
   "outputs": [],
   "source": [
    "# peilgebieden['polder'] = peilgebieden['NAAM']\n"
   ]
  },
  {
   "cell_type": "code",
   "execution_count": 106,
   "id": "be8cba4d-9e34-491a-a391-2b77421a548c",
   "metadata": {},
   "outputs": [],
   "source": [
    "# streefpeil = peilgebieden[['waterhoogte', 'globalid']]\n",
    "# peilgebied = peilgebieden[['code', 'nen3610id', 'globalid', 'polder', 'HWS_BZM', 'geometry']]\n",
    "\n",
    "# peilgebied.globalid = 'peilgebied_' + peilgebied.globalid.astype(str)\n",
    "# #add the data to the dictionary\n",
    "# HHNK['peilgebied'] = peilgebied\n",
    "\n",
    "# HHNK['streefpeil'] = streefpeil\n",
    "# HHNK['streefpeil']['geometry'] = None\n",
    "# HHNK['streefpeil'] = gpd.GeoDataFrame(HHNK['streefpeil'], geometry = 'geometry')\n",
    "\n",
    "# #fill False for HWS_BZM (needs to be done for the added areas of Texel)\n",
    "# HHNK['peilgebied'].HWS_BZM = HHNK['peilgebied'].HWS_BZM.fillna(value=False)"
   ]
  },
  {
   "cell_type": "code",
   "execution_count": 107,
   "id": "cea5c278-e0b1-4952-a174-7c4140395d4a",
   "metadata": {},
   "outputs": [],
   "source": [
    "# HHNK['aggregation_area'] = HHNK['peilgebied'].dissolve(by='polder', as_index=False, sort=False)\n",
    "# HHNK['aggregation_area'].plot()"
   ]
  },
  {
   "cell_type": "code",
   "execution_count": null,
   "id": "1477a886-9e47-46f5-b375-7eede24c08d0",
   "metadata": {},
   "outputs": [],
   "source": []
  },
  {
   "cell_type": "markdown",
   "id": "56fa3a9e-2894-4676-9a47-29fbdadc96c5",
   "metadata": {
    "tags": []
   },
   "source": [
    "# Add the boezem and hoofdwatersysteem"
   ]
  },
  {
   "cell_type": "markdown",
   "id": "064607bb-4c54-4dc2-b913-94dfcd18cfa0",
   "metadata": {},
   "source": [
    "Some changes by hand have been made. The resulting shapefile contains the bordering BZM and HWS shapes, including streefpeil"
   ]
  },
  {
   "cell_type": "code",
   "execution_count": 108,
   "id": "ba0652d8-fad6-4ce8-b24f-d6c8c06d9147",
   "metadata": {},
   "outputs": [],
   "source": [
    "# waterboards = gpd.read_file(r\"D:\\Users\\Bruijns\\Documents\\PR4750_30\\20240418_samenwerkdag\\Oorspronkelijk_LHM_versie\\Waterschappen_peilbeheerst.shp\").to_crs('EPSG:28992')\n",
    "# HHNK_boundary = waterboards.loc[waterboards.name == 'Hoogheemraadschap Hollands Noorderkwartier']"
   ]
  },
  {
   "cell_type": "code",
   "execution_count": null,
   "id": "bcfc3dcc-a777-4db6-9035-16b80d8dd73d",
   "metadata": {},
   "outputs": [],
   "source": []
  },
  {
   "cell_type": "code",
   "execution_count": 109,
   "id": "8e8c8649-cde9-40db-b155-d8d80ba65f6a",
   "metadata": {},
   "outputs": [],
   "source": [
    "# path_HWS_BZM = \"..\\..\\Scripts\\Aggregeren\\Hoofdwatersysteem\\BZM_HWS_HHNK.shp\"\n",
    "# HWS_BZM = gpd.read_file(path_HWS_BZM)\n",
    "# HWS_BZM = HWS_BZM.clip(HHNK_boundary)\n",
    "\n",
    "# HWS_BZM = HWS_BZM.loc[HWS_BZM.naam != 'IJsselmeer en Randmeren Noord']\n",
    "# HWS_BZM = HWS_BZM.loc[HWS_BZM.naam != 'Markermeer & Randmeren Zuid']\n",
    "\n",
    "# HWS_BZM.plot()"
   ]
  },
  {
   "cell_type": "code",
   "execution_count": 110,
   "id": "0ce64996-c3eb-460d-b252-48b7ec25f44c",
   "metadata": {},
   "outputs": [],
   "source": [
    "# HWS_BZM.plot()"
   ]
  },
  {
   "cell_type": "code",
   "execution_count": 111,
   "id": "0e4ab064-6b94-46c4-9630-c459b254e83e",
   "metadata": {},
   "outputs": [],
   "source": [
    "# HWS_BZM = gpd.read_file(r\"D:\\Users\\Bruijns\\Documents\\PR4750_20\\Data_overig\\KRW\\HHNK\\Opgedeelde_boezem_HHNK_definitief2.shp\")\n"
   ]
  },
  {
   "cell_type": "code",
   "execution_count": 112,
   "id": "9c623cd7-b0ff-4670-977f-1ce2eee859e7",
   "metadata": {},
   "outputs": [],
   "source": [
    "# HWS_BZM.loc[HWS_BZM.owmnaam.str.contains('Amstel'), 'zomerpeil'] = -0.4\n",
    "# HWS_BZM.loc[HWS_BZM.owmnaam.str.contains('Schermer'), 'zomerpeil'] = -0.5\n",
    "# HWS_BZM.loc[HWS_BZM.owmnaam.str.contains('Alkmaar'), 'zomerpeil'] = -0.5\n",
    "# HWS_BZM.loc[HWS_BZM.owmnaam.str.contains('VRNK'), 'zomerpeil'] = -0.6"
   ]
  },
  {
   "cell_type": "code",
   "execution_count": 113,
   "id": "350baa05-21ab-48af-b4b9-cae7fef089a6",
   "metadata": {},
   "outputs": [],
   "source": [
    "# HWS_BZM['code'] = 'dummy_code_' + (HWS_BZM.index + max(HHNK['peilgebied'].index) + 1).astype(str)\n",
    "# HWS_BZM['globalid'] = 'dummy_globalid_' + (HWS_BZM.index + max(HHNK['peilgebied'].index) + 1).astype(str)\n",
    "# HWS_BZM['nen3610id'] = 'dummy_nen3610id_' + (HWS_BZM.index + max(HHNK['peilgebied'].index) + 1).astype(str)\n",
    "# HWS_BZM['waterhoogte'] = HWS_BZM['zomerpeil']\n",
    "# HWS_BZM['HWS_BZM'] = True\n",
    "# HWS_BZM = HWS_BZM[['code', 'globalid', 'nen3610id', 'waterhoogte', 'HWS_BZM', 'geometry']]\n",
    "\n",
    "# HWS_BZM_peilgebied = HWS_BZM[['code', 'globalid', 'nen3610id', 'HWS_BZM', 'geometry']]\n",
    "# HWS_BZM_streefpeil = HWS_BZM[['waterhoogte', 'globalid', 'geometry']]\n",
    "\n",
    "# HHNK['peilgebied'] = gpd.GeoDataFrame(pd.concat([HHNK['peilgebied'], HWS_BZM_peilgebied])).reset_index(drop=True)\n",
    "# HHNK['streefpeil'] = gpd.GeoDataFrame(pd.concat([HHNK['streefpeil'], HWS_BZM_streefpeil])).reset_index(drop=True)"
   ]
  },
  {
   "cell_type": "code",
   "execution_count": null,
   "id": "3c53955a-2d9d-40a0-ab70-d18c914a1721",
   "metadata": {},
   "outputs": [],
   "source": []
  },
  {
   "cell_type": "code",
   "execution_count": null,
   "id": "26cfd68d-f60a-4d8b-ac9d-e481b111516f",
   "metadata": {},
   "outputs": [],
   "source": []
  },
  {
   "cell_type": "code",
   "execution_count": 114,
   "id": "5ac88d35-0c29-4c7d-95f1-97971746be94",
   "metadata": {},
   "outputs": [],
   "source": [
    "# HHNK['aggregation_area'] = gpd.GeoDataFrame(pd.concat([HHNK['aggregation_area'][['code', 'nen3610id', 'globalid', 'geometry']], HWS_BZM]), geometry = 'geometry').reset_index(drop=True).to_crs('EPSG:28992')"
   ]
  },
  {
   "cell_type": "code",
   "execution_count": 115,
   "id": "5f022db2-0902-49cd-b507-e624f9e6efbf",
   "metadata": {},
   "outputs": [],
   "source": [
    "# #remove the southern part most peilgebieden\n",
    "# #ERROR SENSITIVE\n",
    "\n",
    "# HHNK['peilgebied'] = HHNK['peilgebied'].loc[HHNK['peilgebied'].code != 'dummy_code_5165']\n",
    "# HHNK['peilgebied'] = HHNK['peilgebied'].loc[HHNK['peilgebied'].code != 'dummy_code_5207']\n",
    "# HHNK['peilgebied'] = HHNK['peilgebied'].loc[HHNK['peilgebied'].code != 'dummy_code_5183']\n",
    "\n"
   ]
  },
  {
   "cell_type": "code",
   "execution_count": 116,
   "id": "83f2a4df-b327-41e3-ba34-9feddf6ce6c7",
   "metadata": {
    "scrolled": true,
    "tags": []
   },
   "outputs": [],
   "source": [
    "# from shapely.geometry import Polygon, MultiPolygon, shape, Point\n",
    "# from shapely.ops import unary_union,cascaded_union \n",
    "\n",
    "# def convert_to_polygon(line):\n",
    "#     if line.is_ring:  # Checks if the LineString is closed\n",
    "#         return Polygon(line)\n",
    "#     else:\n",
    "#         return line  # Returns the line string as is if it's not closed\n",
    "    \n",
    "# HHNK['peilgebied'] = HHNK['peilgebied'].explode(ignore_index=True)\n",
    "# HHNK['peilgebied'] = HHNK['peilgebied'][HHNK['peilgebied'].geometry.type.isin(['Polygon', 'MultiPolygon'])] #also only select polygons\n",
    "\n",
    "\n",
    "# HHNK['peilgebied']['area'] = HHNK['peilgebied'].area\n",
    "# dissolved = HHNK['peilgebied'].dissolve()\n",
    "# exterior = gpd.GeoDataFrame(geometry=dissolved['geometry'].boundary).to_crs(crs='EPSG:28992')\n",
    "# HHNK['peilgebied'] = HHNK['peilgebied'].to_crs(crs='EPSG:28992')\n",
    "# exterior = exterior.explode().reset_index(drop=True)\n",
    "# exterior['geometry'] = exterior['geometry'].apply(convert_to_polygon)\n",
    "# exterior['area'] = exterior.area\n",
    "# exterior = exterior.sort_values(by='area', ascending=False).reset_index(drop=True)\n",
    "\n",
    "# #get rid of some exteriors which should not be filled in\n",
    "# exterior.dropna(inplace=True)\n",
    "# exterior.iloc[3::] = exterior\n",
    "# exterior = exterior.reset_index(drop=True)\n",
    "\n",
    "# # new_gdf = gpd.GeoDataFrame(columns=HHNK['peilgebied'].columns())\n",
    "\n",
    "# for i in range(len(exterior)):\n",
    "#     print(i)\n",
    "# # for i in range(10):\n",
    "\n",
    "#     buffered_peilgebied = HHNK['peilgebied'].buffer(0.)\n",
    "\n",
    "#     exterior_sample = exterior.iloc[i:i+1] #just pick a single sample\n",
    "#     if exterior_sample['geometry'].values[0] is not None:\n",
    "#         exterior_sample.geometry = exterior_sample.buffer(0.0001) #let op! hierdoor komt er alsnog een kleine overlap. Maar anders werkt de code even niet, en vanwege tijdgebrek kan dit nu niet worden opgelost. In het bepalen van de crossings wordt hier echter mee omgegaan.\n",
    "\n",
    "#         intersects_mask = buffered_peilgebied.intersects(exterior_sample.iloc[0].geometry)\n",
    "#         intersecting_polygons = HHNK['peilgebied'][intersects_mask].sort_values(by='area', ascending=False)\n",
    "\n",
    "#         if len(intersecting_polygons) > 0:\n",
    "#             # print(i)\n",
    "#             # polygon_to_dissolve = intersecting_polygons.iloc[0:1]#.geometry.unary_union  \n",
    "#             # sample_geometry = exterior_sample.geometry#.unary_union\n",
    "#             intersecting_polygons = gpd.GeoDataFrame(intersecting_polygons.iloc[0:1], geometry = 'geometry')\n",
    "\n",
    "#             # dissolved_polygon =   # dissolve/union them\n",
    "#             all_geometries = list(intersecting_polygons.geometry) + list(exterior_sample.geometry)\n",
    "\n",
    "#             # Use unary_union to dissolve all polygons in the list\n",
    "#             dissolved_polygon = unary_union(all_geometries)\n",
    "\n",
    "#             original_index = intersecting_polygons.index[0]\n",
    "\n",
    "#             # Ensure it's a single geometry object.\n",
    "#             # print(len(HHNK['peilgebied'].loc[HHNK['peilgebied'].index == original_index, 'geometry']))\n",
    "#             # print(len(dissolved_polygon))\n",
    "#             HHNK['peilgebied'].loc[HHNK['peilgebied'].index == original_index, 'geometry'] = dissolved_polygon#['geometry']\n",
    "#             # new_gdf = pd.concat([new_gdf, dissolved_polygon])\n",
    "#         else:\n",
    "#             print('No intersection found for iteration ', i)"
   ]
  },
  {
   "cell_type": "markdown",
   "id": "8ebbe88e-2fc4-4a9e-8925-bdbac19c4254",
   "metadata": {},
   "source": [
    "### New peilgebieden and poldergebieden have been deliverd on 04 07 2024"
   ]
  },
  {
   "cell_type": "code",
   "execution_count": 149,
   "id": "7a0eb5d9-b3f1-4db4-b5c7-4fedddd68ee7",
   "metadata": {},
   "outputs": [],
   "source": [
    "peilgebieden = gpd.read_file(r\"D:\\Users\\Bruijns\\Documents\\PR4750_20\\Data_preprocessed\\Waterschappen\\HHNK\\20240704_nieuwe_peil_aggregatie_gebieden\\Peilgebieden_export_2024-06-18.shp\")\n",
    "polders = gpd.read_file(r\"D:\\Users\\Bruijns\\Documents\\PR4750_20\\Data_preprocessed\\Waterschappen\\HHNK\\20240704_nieuwe_peil_aggregatie_gebieden\\Polders_export_2024-06-18.shp\")\n"
   ]
  },
  {
   "cell_type": "code",
   "execution_count": 150,
   "id": "aab8ee8b-8119-4ba1-9863-06c189a898d5",
   "metadata": {},
   "outputs": [],
   "source": [
    "#Jeroen H asked if the following peilgebieden could be removed from the data (see email 04 07 2024)\n",
    "codes_to_remove = ['2040-2020', '2040-2030-02', '2040-2060', '2040-2700', '8071-01', '8071-02']\n",
    "peilgebieden = peilgebieden.loc[~peilgebieden.CODE.isin(codes_to_remove)].reset_index(drop=True)\n",
    "\n",
    "#add waterhoogte column, and fill it with the streefpeilen\n",
    "peilgebieden['waterhoogte'] = np.nan\n",
    "\n",
    "#replace all null values with NaNs\n",
    "peilgebieden.loc[peilgebieden['VAST'] == 0.0, 'VAST'] = np.nan\n",
    "peilgebieden.loc[peilgebieden['WINTER'] == 0.0, 'WINTER'] = np.nan\n",
    "peilgebieden.loc[peilgebieden['ZOMER'] == 0.0, 'ZOMER'] = np.nan\n",
    "peilgebieden.loc[peilgebieden['STREEFPEIL'] == 0.0, 'STREEFPEIL'] = np.nan\n",
    "peilgebieden.loc[peilgebieden['ONDERGRENS'] == 0.0, 'ONDERGRENS'] = np.nan\n",
    "peilgebieden.loc[peilgebieden['BOVENGRENS'] == 0.0, 'BOVENGRENS'] = np.nan\n",
    "\n",
    "peilgebieden['waterhoogte'].fillna(peilgebieden.VAST, inplace=True)\n",
    "peilgebieden['waterhoogte'].fillna(peilgebieden.WINTER, inplace=True)\n",
    "peilgebieden['waterhoogte'].fillna(peilgebieden.ZOMER, inplace=True)\n",
    "peilgebieden['waterhoogte'].fillna(peilgebieden.STREEFPEIL, inplace=True)\n",
    "peilgebieden['waterhoogte'].fillna(peilgebieden.ONDERGRENS, inplace=True)\n",
    "peilgebieden['waterhoogte'].fillna(peilgebieden.BOVENGRENS, inplace=True)\n",
    "\n",
    "#only sselect the relevant columns\n",
    "peilgebieden['code'] = peilgebieden['CODE']\n",
    "peilgebieden['code'] = 'peilgebied_' + peilgebieden['code']\n",
    "peilgebieden['globalid'] = 'globalid_' + peilgebieden['OBJECTID'].astype(str)\n",
    "peilgebieden = peilgebieden[['code', 'globalid', 'waterhoogte', 'geometry']]"
   ]
  },
  {
   "cell_type": "code",
   "execution_count": 151,
   "id": "35e6b77f-2799-4a0d-b22b-702e7498d45f",
   "metadata": {},
   "outputs": [
    {
     "name": "stderr",
     "output_type": "stream",
     "text": [
      "C:\\Users\\Bruijns\\Anaconda3\\lib\\site-packages\\IPython\\core\\interactiveshell.py:3377: FutureWarning: The `op` parameter is deprecated and will be removed in a future release. Please use the `predicate` parameter instead.\n",
      "  if (await self.run_code(code, result,  async_=asy)):\n"
     ]
    }
   ],
   "source": [
    "#add polder ID's to the aggregatiegebieden\n",
    "peilgebieden['repr_point'] = peilgebieden.representative_point()\n",
    "\n",
    "peilgebieden = gpd.sjoin(peilgebieden.set_geometry('repr_point'), polders[['CODE', 'NAAM', 'geometry']], how='left', op='within')\n",
    "peilgebieden.rename(columns={'CODE': 'polder_id',\n",
    "                             'NAAM': 'nen3610id'}, inplace = True)\n",
    "peilgebieden['nen3610id'] = peilgebieden['nen3610id'] + '_' + peilgebieden.index.astype(str)\n"
   ]
  },
  {
   "cell_type": "code",
   "execution_count": 153,
   "id": "5ff4bee5-0551-421a-bf67-6aec37e5d07d",
   "metadata": {},
   "outputs": [
    {
     "name": "stderr",
     "output_type": "stream",
     "text": [
      "C:\\Users\\Bruijns\\AppData\\Roaming\\Python\\Python39\\site-packages\\geopandas\\geodataframe.py:1543: SettingWithCopyWarning: \n",
      "A value is trying to be set on a copy of a slice from a DataFrame.\n",
      "Try using .loc[row_indexer,col_indexer] = value instead\n",
      "\n",
      "See the caveats in the documentation: https://pandas.pydata.org/pandas-docs/stable/user_guide/indexing.html#returning-a-view-versus-a-copy\n",
      "  super().__setitem__(key, value)\n"
     ]
    },
    {
     "data": {
      "image/png": "[encoded data removed]",
      "text/plain": [
       "<Figure size 640x480 with 1 Axes>"
      ]
     },
     "metadata": {},
     "output_type": "display_data"
    }
   ],
   "source": [
    "#collect the aggregatiegebieden and streefpeilen\n",
    "aggregatie_gebieden = peilgebieden.copy(deep=True)\n",
    "aggregatie_gebieden = gpd.GeoDataFrame(aggregatie_gebieden, geometry = 'geometry')\n",
    "aggregatie_gebieden = aggregatie_gebieden.dissolve(by='polder_id')\n",
    "aggregatie_gebieden = aggregatie_gebieden[['code', 'nen3610id', 'globalid', 'geometry']]\n",
    "aggregatie_gebieden = gpd.GeoDataFrame(aggregatie_gebieden, geometry = 'geometry')\n",
    "aggregatie_gebieden = aggregatie_gebieden.set_crs('EPSG:28992')\n",
    "\n",
    "streefpeilen = peilgebieden[['globalid', 'waterhoogte', 'geometry']]\n",
    "streefpeilen['geometry'] = np.nan\n",
    "streefpeilen = gpd.GeoDataFrame(streefpeilen, geometry = 'geometry')\n",
    "\n",
    "peilgebieden = peilgebieden[['code', 'nen3610id', 'globalid', 'geometry']]\n",
    "peilgebieden = gpd.GeoDataFrame(peilgebieden, geometry = 'geometry')\n"
   ]
  },
  {
   "cell_type": "code",
   "execution_count": 154,
   "id": "93f32c70-1341-4ed2-8eda-e5daf937a3ce",
   "metadata": {},
   "outputs": [],
   "source": [
    "#add the HWS_BZM to the peilgebieden\n",
    "HWS_BZM_list = ['peilgebied_1000-01', 'peilgebied_1700-01', 'peilgebied_1800-01', 'peilgebied_03010-01']\n",
    "\n",
    "peilgebieden['HWS_BZM'] = False\n",
    "peilgebieden.loc[peilgebieden.code.isin(HWS_BZM_list), 'HWS_BZM'] = True\n",
    "\n"
   ]
  },
  {
   "cell_type": "code",
   "execution_count": 155,
   "id": "ab8cdade-9ecc-4f35-be07-be418a4eb302",
   "metadata": {},
   "outputs": [],
   "source": [
    "#Add all variables to the dictionary\n",
    "HHNK['streefpeil'] = streefpeilen\n",
    "HHNK['peilgebied'] = peilgebieden\n",
    "HHNK['aggregation_area'] = aggregatie_gebieden"
   ]
  },
  {
   "cell_type": "code",
   "execution_count": 157,
   "id": "2eaaabf9-517e-420c-bb5a-db7ade053f7d",
   "metadata": {},
   "outputs": [],
   "source": [
    "HHNK['streefpeil'].waterhoogte = HHNK['streefpeil'].waterhoogte.round(2)\n",
    "HHNK['hydroobject'].code = HHNK['hydroobject'].code + '_' + HHNK['hydroobject'].index.astype(str)\n"
   ]
  },
  {
   "cell_type": "code",
   "execution_count": 158,
   "id": "59a53ca0-f1b1-40e9-80fc-a89565f8aa0d",
   "metadata": {},
   "outputs": [],
   "source": [
    "# # HHNK['streefpeil'] = HHNK['peilgebied'][['waterhoogte', 'globalid']]\n",
    "# HHNK['streefpeil']['geometry'] = None\n",
    "# HHNK['streefpeil'] = gpd.GeoDataFrame(HHNK['streefpeil'], geometry = 'geometry')\n",
    "\n",
    "# HHNK['peilgebied'] = HHNK['peilgebied'][['globalid', 'code', 'nen3610id', 'HWS_BZM', 'geometry']]\n",
    "# HHNK['peilgebied'] = gpd.GeoDataFrame(HHNK['peilgebied'], geometry = 'geometry')"
   ]
  },
  {
   "cell_type": "code",
   "execution_count": 159,
   "id": "0e09445c-def9-4b56-8d48-bca6af7e3eb3",
   "metadata": {},
   "outputs": [],
   "source": [
    "#there are appareantly some comma's included, which causes erros later on. Replace these\n",
    "HHNK['peilgebied']['globalid'] = HHNK['peilgebied']['globalid'].astype(str).str.replace(',', '_')\n",
    "HHNK['streefpeil']['globalid'] = HHNK['streefpeil']['globalid'].astype(str).str.replace(',', '_')\n",
    "HHNK['aggregation_area']['globalid'] = HHNK['aggregation_area']['globalid'].astype(str).str.replace(',', '_')\n"
   ]
  },
  {
   "cell_type": "code",
   "execution_count": 160,
   "id": "886a1f73-2a79-44fb-bed0-c6474fba28cc",
   "metadata": {},
   "outputs": [],
   "source": [
    "HHNK['peilgebied'].globalid.fillna(value='dummy_globalid', inplace=True)\n",
    "HHNK['peilgebied'].loc[HHNK['peilgebied'].globalid == 'dummy_globalid', 'globalid'] = HHNK['peilgebied'].globalid + '_' + HHNK['peilgebied'].index.astype(str) \n",
    "\n",
    "HHNK['streefpeil'].globalid.fillna(value='dummy_globalid', inplace=True)\n",
    "HHNK['streefpeil'].loc[HHNK['streefpeil'].globalid == 'dummy_globalid', 'globalid'] = HHNK['streefpeil'].globalid + '_' + HHNK['streefpeil'].index.astype(str) "
   ]
  },
  {
   "cell_type": "code",
   "execution_count": 161,
   "id": "eff5302e-44a4-4508-b523-17f198acd9f3",
   "metadata": {},
   "outputs": [],
   "source": [
    "# HHNK['peilgebied']['globalid'] = HHNK['peilgebied']['globalid'].str.replace(',', '_')\n",
    "# HHNK['peilgebied'].loc[HHNK['peilgebied'].globalid.str.contains(',')]"
   ]
  },
  {
   "cell_type": "markdown",
   "id": "d72f3d5c-20ed-4ca6-a71f-ddca9cf93fee",
   "metadata": {
    "tags": []
   },
   "source": [
    "### Check for the correct keys and columns"
   ]
  },
  {
   "cell_type": "code",
   "execution_count": 162,
   "id": "ffd4ea1b-e2a2-4e3b-a5cf-e820a4709c30",
   "metadata": {},
   "outputs": [
    {
     "name": "stdout",
     "output_type": "stream",
     "text": [
      "afsluitmiddel\n",
      "['code' 'globalid' 'nen3610id' 'geometry']\n",
      "type =  <class 'geopandas.geodataframe.GeoDataFrame'>\n",
      "crs =  epsg:28992\n",
      "\n",
      "hydroobject\n",
      "['code' 'globalid' 'nen3610id' 'geometry']\n",
      "type =  <class 'geopandas.geodataframe.GeoDataFrame'>\n",
      "crs =  epsg:28992\n",
      "\n",
      "duikersifonhevel\n",
      "['code' 'globalid' 'nen3610id' 'geometry']\n",
      "type =  <class 'geopandas.geodataframe.GeoDataFrame'>\n",
      "crs =  epsg:28992\n",
      "\n",
      "stuw\n",
      "['code' 'globalid' 'nen3610id' 'geometry']\n",
      "type =  <class 'geopandas.geodataframe.GeoDataFrame'>\n",
      "crs =  epsg:28992\n",
      "\n",
      "gemaal\n",
      "['code' 'globalid' 'nen3610id' 'func_afvoer' 'func_aanvoer'\n",
      " 'func_circulatie' 'geometry']\n",
      "type =  <class 'geopandas.geodataframe.GeoDataFrame'>\n",
      "crs =  epsg:28992\n",
      "\n",
      "streefpeil\n",
      "['globalid' 'waterhoogte' 'geometry']\n",
      "type =  <class 'geopandas.geodataframe.GeoDataFrame'>\n",
      "crs =  None\n",
      "\n",
      "peilgebied\n",
      "['code' 'nen3610id' 'globalid' 'geometry' 'HWS_BZM']\n",
      "type =  <class 'geopandas.geodataframe.GeoDataFrame'>\n",
      "crs =  epsg:28992\n",
      "\n",
      "aggregation_area\n",
      "['code' 'nen3610id' 'globalid' 'geometry']\n",
      "type =  <class 'geopandas.geodataframe.GeoDataFrame'>\n",
      "crs =  EPSG:28992\n",
      "\n"
     ]
    }
   ],
   "source": [
    "show_layers_and_columns(waterschap = HHNK)"
   ]
  },
  {
   "cell_type": "markdown",
   "id": "e4e74b4c-17ba-4829-9531-248f4d74cfad",
   "metadata": {},
   "source": [
    "### Store data"
   ]
  },
  {
   "cell_type": "code",
   "execution_count": 163,
   "id": "556aea48-a819-4f70-8e22-6c843354a46d",
   "metadata": {},
   "outputs": [],
   "source": [
    "store_data(waterschap = HHNK, \n",
    "           output_gpkg_path = output_gpkg_path_HHNK)\n"
   ]
  },
  {
   "cell_type": "code",
   "execution_count": null,
   "id": "b10b40ec-2aed-4809-b051-613544311ca0",
   "metadata": {},
   "outputs": [],
   "source": [
    "print(len(HHNK['peilgebied'].code.unique()))\n",
    "print(len(HHNK['peilgebied'].globalid.unique()))\n",
    "print(len(HHNK['hydroobject'].code.unique()))\n",
    "print(len(HHNK['hydroobject'].code))"
   ]
  },
  {
   "cell_type": "code",
   "execution_count": 90,
   "id": "23157b6b-07a8-419b-91a2-f442efda8d7d",
   "metadata": {},
   "outputs": [
    {
     "data": {
      "text/plain": [
       "<AxesSubplot:>"
      ]
     },
     "execution_count": 90,
     "metadata": {},
     "output_type": "execute_result"
    },
    {
     "data": {
      "image/png": "[encoded data removed]",
      "text/plain": [
       "<Figure size 640x480 with 1 Axes>"
      ]
     },
     "metadata": {},
     "output_type": "display_data"
    }
   ],
   "source": [
    "HHNK['peilgebied'].loc[HHNK['peilgebied'].HWS_BZM == True].plot()"
   ]
  },
  {
   "cell_type": "raw",
   "id": "d6b186d5-c907-4b19-9ee2-c7222476856a",
   "metadata": {},
   "source": [
    "Toevoegen aan notities:\n",
    "\n",
    "Duikersifonhevel and hydroobject have a type of multicurvedZ, the peilgebieden a MultiSurfaceZ, which geopandas can not handle. I have manually exported these to single shapes, which automatically converts it to regular MultiStrings. Then these layers have been packed together to a geopackage again. \n",
    "\n",
    "Peilmerk is geometrisch gekoppeld aan peilgebieden, niet administratief. Daarnaast zijn bij een aantal beschikbaar of deze gekoppeld zijn met een gemaal, stuw, duikersifonhevel (wel administratief). Wel is er een streefpeil tabel beschikbaar, die wel administratief gekoppeld is. Ga kijken wat het verschil is.\n",
    "\n",
    "In de streefpeilen kaart zijn er verschillende soorten peilen:\n",
    "- winter\n",
    "- zomer\n",
    "- vast\n",
    "- dynamische bovengrens\n",
    "- dynamische ondergrens"
   ]
  },
  {
   "cell_type": "code",
   "execution_count": null,
   "id": "ea0b5636-1b7c-4e13-974a-3a86bcbcb34e",
   "metadata": {},
   "outputs": [],
   "source": []
  },
  {
   "cell_type": "code",
   "execution_count": null,
   "id": "5ca41d74-0d02-4342-b4a0-917a03db14bb",
   "metadata": {},
   "outputs": [],
   "source": []
  }
 ],
 "metadata": {
  "kernelspec": {
   "display_name": "Routing",
   "language": "python",
   "name": "routing"
  },
  "language_info": {
   "codemirror_mode": {
    "name": "ipython",
    "version": 3
   },
   "file_extension": ".py",
   "mimetype": "text/x-python",
   "name": "python",
   "nbconvert_exporter": "python",
   "pygments_lexer": "ipython3",
   "version": "3.9.13"
  }
 },
 "nbformat": 4,
 "nbformat_minor": 5
}
