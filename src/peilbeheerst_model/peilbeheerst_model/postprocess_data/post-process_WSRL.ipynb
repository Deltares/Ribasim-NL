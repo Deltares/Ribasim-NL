{
 "cells": [
  {
   "cell_type": "markdown",
   "id": "690952c5-5037-476a-a660-d54fec614748",
   "metadata": {},
   "source": [
    "# WSRL"
   ]
  },
  {
   "cell_type": "markdown",
   "id": "e9e378d7-8f05-4562-87b0-34978ba61554",
   "metadata": {},
   "source": [
    "This script adds a new column \"peilgebied_cat\" and makes sure the peilgebieden allign with the HWS layer (Daniel):\n",
    "- peilgebied_cat = 0 -> peilgebied\n",
    "- peigelbied_cat = 1 -> RHWS (boezem)\n",
    "- peilgebied_cat = 2 -> NHWS "
   ]
  },
  {
   "cell_type": "code",
   "execution_count": 1,
   "id": "0c27c7a4-5733-46ea-970f-cd985b8c92cd",
   "metadata": {},
   "outputs": [],
   "source": [
    "import geopandas as gpd\n",
    "import numpy as np\n",
    "\n",
    "%load_ext autoreload\n",
    "%autoreload 2\n",
    "\n",
    "from general_functions import *"
   ]
  },
  {
   "cell_type": "markdown",
   "id": "dc1f28d2-8499-4ebb-906e-1724bd334aac",
   "metadata": {},
   "source": [
    "## WSRL"
   ]
  },
  {
   "cell_type": "code",
   "execution_count": 2,
   "id": "e15206a7-6639-40bb-9942-f920085f53b4",
   "metadata": {},
   "outputs": [],
   "source": [
    "#define relative paths\n",
    "waterschap = 'WSRL'\n",
    "\n",
    "data_path = f\"../projects/4750_20/Data_postprocessed/Waterschappen/{waterschap}/{waterschap}.gpkg\"\n",
    "\n",
    "# Waterschaps boundaries\n",
    "grens_path = \"../projects/4750_30/Data_overig/Waterschapsgrenzen/Waterschapsgrenzen.geojson\"\n",
    "# Hoofdwatersysteem boundaries\n",
    "hws_path = \"../projects/4750_30/Data_overig/HWS/krw_basins_vlakken.gpkg\"\n",
    "# Buffer boundaries\n",
    "buffer_path =  \"../projects/4750_30/Data_overig/HWS/hws_buffer_wsrl.gpkg\"\n",
    "# Output folder\n",
    "output_folder = f\"./Waterschappen/{waterschap}\""
   ]
  },
  {
   "cell_type": "markdown",
   "id": "7bbafed8-355a-4ec9-90c9-eca9e3b9313d",
   "metadata": {},
   "source": [
    "### Load Files"
   ]
  },
  {
   "cell_type": "code",
   "execution_count": 3,
   "id": "0f6dcf56-e8a4-4055-bc86-a6d33c91d8d8",
   "metadata": {},
   "outputs": [],
   "source": [
    "# Load HHNK files\n",
    "WSRL = read_gpkg_layers(gpkg_path = data_path, \n",
    "                    variables = ['stuw', \n",
    "                                 'gemaal', \n",
    "                                 'hydroobject',\n",
    "                                 'duikersifonhevel',\n",
    "                                 'peilgebied', \n",
    "                                 'streefpeil',\n",
    "                                ])\n",
    "WSRL['peilgebied'] = WSRL['peilgebied'].to_crs('EPSG:28992')\n",
    "\n",
    "# Load waterschap boundaries\n",
    "gdf_grens = gpd.read_file(grens_path)\n",
    "gdf_grens = gdf_grens.to_crs('EPSG:28992')\n",
    "gdf_grens = gdf_grens.set_index('waterschap')\n",
    "\n",
    "# Load hws\n",
    "gdf_hws = gpd.read_file(hws_path)\n",
    "\n",
    "# Load buffer\n",
    "gdf_buffer = gpd.read_file(buffer_path)"
   ]
  },
  {
   "cell_type": "code",
   "execution_count": 5,
   "id": "1c0d88a9-1141-4f86-8345-0eb4678eadc1",
   "metadata": {},
   "outputs": [
    {
     "data": {
      "text/plain": [
       "True"
      ]
     },
     "execution_count": 5,
     "metadata": {},
     "output_type": "execute_result"
    }
   ],
   "source": [
    "# check primary key\n",
    "WSRL['peilgebied']['globalid'].is_unique"
   ]
  },
  {
   "cell_type": "markdown",
   "id": "ed0d59f7-011b-4114-94ff-791d9c8ba514",
   "metadata": {},
   "source": [
    "## Select waterschap boundaries and clip hws layer"
   ]
  },
  {
   "cell_type": "code",
   "execution_count": 137,
   "id": "5f40630a-2a94-42f7-8ee6-7b74bcde912e",
   "metadata": {},
   "outputs": [],
   "source": [
    "# Select boundaries HH Amstel, Gooi en Vecht\n",
    "gdf_grens = gdf_grens.loc[['Waterschap Rivierenland']]\n",
    "\n",
    "# Use waterschap boudnaries to clip HWS layer\n",
    "gdf_hws = gpd.overlay(gdf_grens, gdf_hws, how='intersection')"
   ]
  },
  {
   "cell_type": "code",
   "execution_count": 141,
   "id": "06e7be9e-6154-457e-b0ee-3c1c83a5d9f4",
   "metadata": {},
   "outputs": [
    {
     "name": "stdout",
     "output_type": "stream",
     "text": [
      "Number of overlapping shapes without filter: 395\n",
      "Number of overlapping shapes with filter: 54\n"
     ]
    }
   ],
   "source": [
    "# Step 1: Identify the Overlapping Areas and clip\n",
    "overlaps = gpd.overlay(WSRL['peilgebied'], gdf_hws, how='intersection', keep_geom_type=True)\n",
    "\n",
    "# # # Step 2: Subtract Overlapping Areas from the original polygons in each DataFrame\n",
    "# non_overlapping_peilgebied = gpd.overlay(WSRL['peilgebied'], overlaps, how='difference', keep_geom_type=True)\n",
    "# overlaps = gpd.overlay(non_overlapping_peilgebied, gdf_hws, how='intersection', keep_geom_type=False)\n",
    " \n",
    "# Step 3: Calculate Area Percentages\n",
    "# Calculate the area of overlaps\n",
    "overlaps['overlap_area'] = overlaps.area\n",
    "\n",
    "# Step 4: Filter based on area Area Percentages\n",
    "minimum_area = 20000\n",
    "print(f'Number of overlapping shapes without filter: {len(overlaps)}')\n",
    "overlap_ids = overlaps.loc[overlaps['overlap_area'] > minimum_area]\n",
    "overlap_ids = overlap_ids.globalid.to_list()\n",
    "print(f'Number of overlapping shapes with filter: {len(overlap_ids)}')"
   ]
  },
  {
   "cell_type": "markdown",
   "id": "b2044eb8-c047-4830-8816-2e4af251020a",
   "metadata": {},
   "source": [
    "## Create peilgebied_cat column"
   ]
  },
  {
   "cell_type": "code",
   "execution_count": 117,
   "id": "a2c9f5ef-364a-47b6-ae0c-ffc4e7072108",
   "metadata": {},
   "outputs": [],
   "source": [
    "# Add occurence to geodataframe\n",
    "peilgebieden_cat = []\n",
    "\n",
    "for index, row in WSRL['peilgebied'].iterrows():\n",
    "       \n",
    "    if row.CODE == 'LNG014-P':\n",
    "        peilgebieden_cat.append(1)\n",
    "    else:\n",
    "        peilgebieden_cat.append(0)\n",
    "        \n",
    "# Add new column and drop old HWS_BZM column\n",
    "WSRL['peilgebied']['peilgebied_cat'] = peilgebieden_cat\n",
    "# WSRL['peilgebied'] = WSRL['peilgebied'].drop(columns=['HWS_BZM'])\n",
    "WSRL['peilgebied'] = WSRL['peilgebied'].rename(columns={'CODE':'code'})"
   ]
  },
  {
   "cell_type": "markdown",
   "id": "ad5df059-48f2-4a5d-a911-e924b6e44116",
   "metadata": {},
   "source": [
    "## Adjust globalid, code, nen3610id ['streefpeil'], ['peilgebied']"
   ]
  },
  {
   "cell_type": "code",
   "execution_count": 118,
   "id": "9a9719a8-9003-42bf-88d8-dc0e14a6235c",
   "metadata": {},
   "outputs": [],
   "source": [
    "codes = []\n",
    "globalids = []\n",
    "nen3610ids = []\n",
    "\n",
    "for index, row in WSRL['peilgebied'].iterrows():\n",
    "    codes.append(f'dummy_code_peilgebied_{row.globalid}')\n",
    "    globalids.append(f'dummy_globalid_peilgebied_{row.globalid}')\n",
    "    nen3610ids.append(f'dummy_nen3610id_peilgebied_{row.globalid}')\n",
    "\n",
    "WSRL['peilgebied']['code'] = codes\n",
    "WSRL['peilgebied']['globalid'] = globalids    \n",
    "WSRL['peilgebied']['nen3610id'] = nen3610ids\n",
    "\n",
    "WSRL['streefpeil']['globalid'] = globalids"
   ]
  },
  {
   "cell_type": "code",
   "execution_count": 119,
   "id": "7099292c-fbe8-448b-bcb9-d512852168ba",
   "metadata": {},
   "outputs": [
    {
     "data": {
      "text/plain": [
       "True"
      ]
     },
     "execution_count": 119,
     "metadata": {},
     "output_type": "execute_result"
    }
   ],
   "source": [
    "WSRL['peilgebied']['globalid'].is_unique"
   ]
  },
  {
   "cell_type": "markdown",
   "id": "517f54ec-74da-4247-9984-f3dbe770a508",
   "metadata": {},
   "source": [
    "## Add nhws to ['peilgebied','streefpeil']"
   ]
  },
  {
   "cell_type": "code",
   "execution_count": 120,
   "id": "37606d1c-0408-4dc7-a4cc-72147b35aabd",
   "metadata": {},
   "outputs": [],
   "source": [
    "# update peilgebied dict key\n",
    "gdf_hws['globalid'] = 'dummy_globalid_nhws_' + gdf_hws.index.astype(str)\n",
    "gdf_hws['code'] = 'dummy_code_nhws_' + gdf_hws.index.astype(str)\n",
    "gdf_hws['nen3610id'] = 'dummy_nen3610id_nhws_' + gdf_hws.index.astype(str)\n",
    "gdf_hws['peilgebied_cat'] = 2\n",
    "\n",
    "gdf_hws = gdf_hws[['globalid', 'code', 'nen3610id', 'peilgebied_cat', 'geometry']]\n",
    "\n",
    "WSRL['peilgebied'] = pd.concat([gdf_hws, WSRL['peilgebied']])"
   ]
  },
  {
   "cell_type": "code",
   "execution_count": 121,
   "id": "e56bed85-30fb-4aaa-bf2c-55a0432857f2",
   "metadata": {},
   "outputs": [],
   "source": [
    "# Create boezem streefpeil layer\n",
    "streefpeil_hws = pd.DataFrame()\n",
    "streefpeil_hws['waterhoogte'] = [np.nan] * len(gdf_hws)\n",
    "streefpeil_hws['globalid'] = 'dummy_globalid_nhws_' + gdf_hws.index.astype(str)\n",
    "streefpeil_hws['geometry'] = [None]* len(gdf_hws)\n",
    "\n",
    "WSRL['streefpeil'] = pd.concat([streefpeil_hws, WSRL['streefpeil']])\n",
    "WSRL['streefpeil'] = gpd.GeoDataFrame(WSRL['streefpeil'])"
   ]
  },
  {
   "cell_type": "code",
   "execution_count": 122,
   "id": "e0480ec4-0826-47b9-9e57-88a35d4ebd6f",
   "metadata": {},
   "outputs": [
    {
     "data": {
      "text/plain": [
       "True"
      ]
     },
     "execution_count": 122,
     "metadata": {},
     "output_type": "execute_result"
    }
   ],
   "source": [
    "WSRL['peilgebied']['globalid'].is_unique"
   ]
  },
  {
   "cell_type": "markdown",
   "id": "9dbe4b9a-b7b2-429f-ae0c-408cc61134d8",
   "metadata": {},
   "source": [
    "### Create buffer layer that ensures spatial match between peilgebied and hws layers based on the buffer layer"
   ]
  },
  {
   "cell_type": "code",
   "execution_count": 124,
   "id": "e44043cf-0ea3-47ab-85ab-3af1c85dd3a7",
   "metadata": {},
   "outputs": [],
   "source": [
    "buffer_polygon = gdf_buffer.geometry.iat[0].intersection(gdf_grens.geometry.iat[0])\n",
    "buffer_polygon = buffer_polygon.difference(shapely.geometry.MultiPolygon(gdf_hws.geometry.tolist()))\n",
    "buffer_polygon = buffer_polygon.difference(shapely.ops.unary_union(WSRL['peilgebied'].geometry.tolist()))\n",
    "\n",
    "buffer_polygon = gpd.GeoDataFrame(buffer_polygon)\n",
    "buffer_polygon = buffer_polygon.set_geometry(0)\n",
    "buffer_polygon = buffer_polygon.dissolve()\n",
    "buffer_polygon = buffer_polygon.rename(columns={0:'geometry'})\n",
    "buffer_polygon = buffer_polygon.set_geometry('geometry')\n",
    "buffer_polygon = buffer_polygon.set_crs('EPSG:28992')"
   ]
  },
  {
   "cell_type": "markdown",
   "id": "b9628396-f882-419e-a265-424cfcb15b24",
   "metadata": {},
   "source": [
    "## Add buffer to ['peilgebied']"
   ]
  },
  {
   "cell_type": "markdown",
   "id": "bd9a7f41-d404-4512-9639-777d8ac73bed",
   "metadata": {},
   "source": [
    "## Add buffer to ['peilgebied','streefpeil']"
   ]
  },
  {
   "cell_type": "code",
   "execution_count": 32,
   "id": "ac737828-1f7e-42ab-9f37-45e0fd1e189c",
   "metadata": {},
   "outputs": [],
   "source": [
    "# Create boezem streefpeil layer\n",
    "streefpeil_buffer = pd.DataFrame()\n",
    "streefpeil_buffer['waterhoogte'] = [np.nan]\n",
    "streefpeil_buffer['globalid'] = ['dummy_globalid_nhws_buffer_1']\n",
    "streefpeil_buffer['geometry'] = [None]\n",
    "\n",
    "WSRL['streefpeil'] = pd.concat([streefpeil_buffer, WSRL['streefpeil']])\n",
    "WSRL['streefpeil'] = gpd.GeoDataFrame(WSRL['streefpeil'])"
   ]
  },
  {
   "cell_type": "code",
   "execution_count": 131,
   "id": "f48bd18b-8f73-46fb-90be-2bb629cd7e00",
   "metadata": {},
   "outputs": [
    {
     "data": {
      "text/plain": [
       "True"
      ]
     },
     "execution_count": 131,
     "metadata": {},
     "output_type": "execute_result"
    }
   ],
   "source": [
    "WSRL['peilgebied'].globalid.is_unique\n"
   ]
  },
  {
   "cell_type": "markdown",
   "id": "997ba837-686c-4a6d-81a4-a92682428196",
   "metadata": {},
   "source": [
    "## Store output"
   ]
  },
  {
   "cell_type": "code",
   "execution_count": 132,
   "id": "4b7ca695-ba56-46a4-bd0f-ced939947deb",
   "metadata": {},
   "outputs": [
    {
     "name": "stdout",
     "output_type": "stream",
     "text": [
      "stuw\n",
      "gemaal\n",
      "hydroobject\n",
      "duikersifonhevel\n",
      "peilgebied\n",
      "streefpeil\n"
     ]
    }
   ],
   "source": [
    "for key in WSRL.keys():   \n",
    "    print(key)\n",
    "    WSRL[str(key)].to_file(f'{output_folder}/{waterschap}.gpkg', layer = str(key), driver='GPKG')"
   ]
  }
 ],
 "metadata": {
  "kernelspec": {
   "display_name": "Python [conda env:stable]",
   "language": "python",
   "name": "conda-env-stable-py"
  },
  "language_info": {
   "codemirror_mode": {
    "name": "ipython",
    "version": 3
   },
   "file_extension": ".py",
   "mimetype": "text/x-python",
   "name": "python",
   "nbconvert_exporter": "python",
   "pygments_lexer": "ipython3",
   "version": "3.8.15"
  }
 },
 "nbformat": 4,
 "nbformat_minor": 5
}
