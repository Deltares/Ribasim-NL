{
 "cells": [
  {
   "cell_type": "markdown",
   "id": "690952c5-5037-476a-a660-d54fec614748",
   "metadata": {},
   "source": [
    "# Rijnland"
   ]
  },
  {
   "cell_type": "markdown",
   "id": "e9e378d7-8f05-4562-87b0-34978ba61554",
   "metadata": {},
   "source": [
    "This script adds a new column \"peilgebied_cat\" and makes sure the peilgebieden allign with the HWS layer (Daniel):\n",
    "- peilgebied_cat = 0 -> peilgebied\n",
    "- peigelbied_cat = 1 -> RHWS (boezem)\n",
    "- peilgebied_cat = 2 -> NHWS "
   ]
  },
  {
   "cell_type": "code",
   "execution_count": 1,
   "id": "0c27c7a4-5733-46ea-970f-cd985b8c92cd",
   "metadata": {},
   "outputs": [],
   "source": [
    "from itertools import combinations\n",
    "\n",
    "import geopandas as gpd\n",
    "import numpy as np\n",
    "from general_functions import *\n",
    "\n",
    "%load_ext autoreload\n",
    "%autoreload 2\n",
    "\n",
    "remove_cat_2 = True\n"
   ]
  },
  {
   "cell_type": "markdown",
   "id": "dc1f28d2-8499-4ebb-906e-1724bd334aac",
   "metadata": {},
   "source": [
    "## Rijnland"
   ]
  },
  {
   "cell_type": "code",
   "execution_count": 2,
   "id": "e15206a7-6639-40bb-9942-f920085f53b4",
   "metadata": {},
   "outputs": [],
   "source": [
    "# HD['peilgebied'].globalid.is_unique#define relative paths\n",
    "waterschap = \"Rijnland\"\n",
    "\n",
    "data_path = f\"/DATAFOLDER/projects/4750_20/Data_postprocessed/Waterschappen/{waterschap}/{waterschap}.gpkg\"\n",
    "\n",
    "# Waterschaps boundaries\n",
    "grens_path = \"/DATAFOLDER/projects/4750_30/Data_overig/Waterschapsgrenzen/Waterschapsgrenzen.geojson\"\n",
    "# Hoofdwatersysteem boundaries\n",
    "hws_path = \"/DATAFOLDER/projects/4750_30/Data_overig/HWS/krw_basins_vlakken.gpkg\"\n",
    "# Buffer boundaries\n",
    "buffer_path = \"/DATAFOLDER/projects/4750_30/Data_overig/HWS/hws_buffer_rijnland.gpkg\"\n",
    "# Output folder\n",
    "output_folder = f\"/DATAFOLDER/projects/4750_30/Data_postprocessed/Waterschappen/{waterschap}\"\n"
   ]
  },
  {
   "cell_type": "markdown",
   "id": "7bbafed8-355a-4ec9-90c9-eca9e3b9313d",
   "metadata": {},
   "source": [
    "### Load Files"
   ]
  },
  {
   "cell_type": "code",
   "execution_count": 3,
   "id": "0f6dcf56-e8a4-4055-bc86-a6d33c91d8d8",
   "metadata": {},
   "outputs": [],
   "source": [
    "# Load HHNK files\n",
    "Rijnland = read_gpkg_layers(\n",
    "    gpkg_path=data_path,\n",
    "    variables=[\n",
    "        \"stuw\",\n",
    "        \"gemaal\",\n",
    "        \"hydroobject\",\n",
    "        \"duikersifonhevel\",\n",
    "        \"peilgebied\",\n",
    "        \"streefpeil\",\n",
    "        \"aggregation_area\",\n",
    "    ],\n",
    ")\n",
    "Rijnland[\"peilgebied\"] = Rijnland[\"peilgebied\"].to_crs(\"EPSG:28992\")\n",
    "\n",
    "# Load waterschap boundaries\n",
    "gdf_grens = gpd.read_file(grens_path)\n",
    "gdf_grens = gdf_grens.to_crs(\"EPSG:28992\")\n",
    "gdf_grens = gdf_grens.set_index(\"waterschap\")\n",
    "\n",
    "# Load hws\n",
    "gdf_hws = gpd.read_file(hws_path)\n",
    "\n",
    "# Load buffer\n",
    "gdf_buffer = gpd.read_file(buffer_path)\n",
    "\n",
    "# temp\n",
    "Rijnland[\"peilgebied\"] = Rijnland[\"peilgebied\"].drop(index=2, axis=1)\n"
   ]
  },
  {
   "cell_type": "code",
   "execution_count": 4,
   "id": "613a849a-f873-402f-a33f-acb2b60bea4e",
   "metadata": {},
   "outputs": [
    {
     "data": {
      "text/plain": [
       "True"
      ]
     },
     "execution_count": 4,
     "metadata": {},
     "output_type": "execute_result"
    }
   ],
   "source": [
    "Rijnland[\"peilgebied\"].globalid.is_unique\n"
   ]
  },
  {
   "cell_type": "markdown",
   "id": "623a0316-463e-444e-af95-d409c962fd21",
   "metadata": {},
   "source": [
    "## Select waterschap boundaries and clip hws layer"
   ]
  },
  {
   "cell_type": "code",
   "execution_count": 5,
   "id": "98c82db0-4036-4ffa-ae1b-4400f5c28a58",
   "metadata": {},
   "outputs": [],
   "source": [
    "# Select boundaries HH Amstel, Gooi en Vecht\n",
    "gdf_grens = gdf_grens.loc[[\"HH van Rijnland\"]]\n",
    "\n",
    "# Use waterschap boudnaries to clip HWS layer\n",
    "gdf_hws = gpd.overlay(gdf_grens, gdf_hws, how=\"intersection\")\n"
   ]
  },
  {
   "cell_type": "markdown",
   "id": "240d4f27-3149-49db-82c2-aeb208b8bdb8",
   "metadata": {},
   "source": [
    "## Peilgebied and HWS layer overlap:\n",
    "1. Identify the overlapping areas\n",
    "2. Clip\n",
    "3. Calculate overlapping area percentage\n",
    "4. Filter"
   ]
  },
  {
   "cell_type": "code",
   "execution_count": 6,
   "id": "08cf410b-78c1-47ab-b32c-e0ed60ebd7ec",
   "metadata": {},
   "outputs": [
    {
     "name": "stdout",
     "output_type": "stream",
     "text": [
      "Number of overlapping shapes without filter: 9\n",
      "Number of overlapping shapes with filter: 0\n"
     ]
    }
   ],
   "source": [
    "# Step 1: Identify the Overlapping Areas and clip\n",
    "overlaps = gpd.overlay(Rijnland[\"peilgebied\"], gdf_hws, how=\"intersection\", keep_geom_type=True)\n",
    "\n",
    "# # Step 2: Subtract Overlapping Areas from the original polygons in each DataFrame\n",
    "non_overlapping_peilgebied = gpd.overlay(Rijnland[\"peilgebied\"], overlaps, how=\"difference\", keep_geom_type=True)\n",
    "overlaps = gpd.overlay(non_overlapping_peilgebied, gdf_hws, how=\"intersection\", keep_geom_type=False)\n",
    "\n",
    "# Step 3: Calculate Area Percentages\n",
    "# Calculate the area of overlaps\n",
    "overlaps[\"overlap_area\"] = overlaps.area\n",
    "\n",
    "# Step 4: Filter based on area Area Percentages\n",
    "minimum_area = 200\n",
    "print(f\"Number of overlapping shapes without filter: {len(overlaps)}\")\n",
    "overlap_ids = overlaps.loc[overlaps[\"overlap_area\"] > minimum_area]\n",
    "overlap_ids = overlap_ids.globalid.to_list()\n",
    "print(f\"Number of overlapping shapes with filter: {len(overlap_ids)}\")\n"
   ]
  },
  {
   "cell_type": "markdown",
   "id": "c9739ed5-7eaa-4255-bf5d-04d419530de8",
   "metadata": {},
   "source": [
    "## Create peilgebied_cat column"
   ]
  },
  {
   "cell_type": "code",
   "execution_count": 7,
   "id": "73f6c0f2-8f3c-4b63-a36a-508bd0c0f1ce",
   "metadata": {},
   "outputs": [
    {
     "name": "stdout",
     "output_type": "stream",
     "text": [
      "true\n",
      "true\n",
      "true\n",
      "true\n",
      "true\n",
      "true\n",
      "true\n",
      "true\n",
      "true\n",
      "true\n",
      "true\n",
      "true\n",
      "true\n",
      "true\n",
      "true\n",
      "true\n",
      "true\n",
      "true\n",
      "true\n",
      "true\n",
      "true\n",
      "true\n",
      "true\n",
      "true\n",
      "true\n",
      "true\n",
      "true\n",
      "true\n",
      "true\n",
      "true\n",
      "true\n",
      "true\n",
      "true\n",
      "true\n",
      "true\n",
      "true\n",
      "true\n",
      "true\n",
      "true\n",
      "true\n",
      "true\n",
      "true\n",
      "true\n",
      "true\n",
      "true\n",
      "true\n",
      "true\n",
      "true\n",
      "true\n",
      "true\n",
      "true\n",
      "true\n",
      "true\n",
      "true\n",
      "true\n",
      "true\n",
      "true\n",
      "true\n",
      "true\n",
      "true\n",
      "true\n",
      "true\n",
      "true\n",
      "true\n",
      "true\n",
      "true\n",
      "true\n",
      "true\n",
      "true\n",
      "true\n",
      "true\n",
      "true\n",
      "true\n",
      "true\n",
      "true\n",
      "true\n",
      "true\n",
      "true\n",
      "true\n",
      "true\n",
      "true\n",
      "true\n",
      "true\n",
      "true\n",
      "true\n",
      "true\n",
      "true\n",
      "true\n",
      "true\n",
      "true\n",
      "true\n",
      "true\n",
      "true\n",
      "true\n",
      "true\n",
      "true\n",
      "true\n",
      "true\n",
      "true\n",
      "true\n",
      "true\n",
      "true\n",
      "true\n",
      "true\n",
      "true\n",
      "true\n",
      "true\n",
      "true\n",
      "true\n",
      "true\n",
      "true\n",
      "true\n",
      "true\n",
      "true\n",
      "true\n",
      "true\n",
      "true\n",
      "true\n",
      "true\n",
      "true\n",
      "true\n",
      "true\n",
      "true\n",
      "true\n",
      "true\n",
      "true\n",
      "true\n",
      "true\n",
      "true\n",
      "true\n",
      "true\n",
      "true\n",
      "true\n",
      "true\n",
      "true\n",
      "true\n",
      "true\n",
      "true\n",
      "true\n",
      "true\n",
      "true\n",
      "true\n",
      "true\n",
      "true\n",
      "true\n",
      "true\n",
      "true\n",
      "true\n",
      "true\n",
      "true\n",
      "true\n",
      "true\n",
      "true\n",
      "true\n",
      "true\n",
      "true\n",
      "true\n",
      "true\n",
      "true\n",
      "true\n",
      "true\n",
      "true\n",
      "true\n",
      "true\n",
      "true\n",
      "true\n",
      "true\n",
      "true\n",
      "true\n",
      "true\n",
      "true\n",
      "true\n",
      "true\n",
      "true\n",
      "true\n",
      "true\n",
      "true\n",
      "true\n",
      "true\n",
      "true\n",
      "true\n",
      "true\n",
      "true\n",
      "true\n",
      "true\n",
      "true\n",
      "true\n",
      "true\n",
      "true\n",
      "true\n",
      "true\n",
      "true\n",
      "true\n",
      "true\n",
      "true\n",
      "true\n",
      "true\n",
      "true\n",
      "true\n",
      "true\n",
      "true\n",
      "true\n",
      "true\n",
      "true\n",
      "true\n",
      "true\n",
      "true\n",
      "true\n",
      "true\n",
      "true\n",
      "true\n",
      "true\n",
      "true\n",
      "true\n",
      "true\n",
      "true\n",
      "true\n",
      "true\n",
      "true\n",
      "true\n",
      "true\n",
      "true\n",
      "true\n",
      "true\n",
      "true\n",
      "true\n",
      "true\n",
      "true\n",
      "true\n",
      "true\n",
      "true\n",
      "true\n",
      "true\n",
      "true\n",
      "true\n",
      "true\n",
      "true\n",
      "true\n",
      "true\n",
      "true\n",
      "true\n",
      "true\n",
      "true\n",
      "true\n",
      "true\n",
      "true\n",
      "true\n",
      "true\n",
      "true\n",
      "true\n",
      "true\n",
      "true\n",
      "true\n",
      "true\n",
      "true\n"
     ]
    }
   ],
   "source": [
    "# Add occurence to geodataframe\n",
    "peilgebieden_cat = []\n",
    "\n",
    "for index, row in Rijnland[\"peilgebied\"].iterrows():\n",
    "    if \"RIJNLANDSBOEZEM\" in row.code:\n",
    "        print(\"true\")\n",
    "        peilgebieden_cat.append(1)\n",
    "    else:\n",
    "        peilgebieden_cat.append(0)\n",
    "\n",
    "# Add new column and drop old HWS_BZM column\n",
    "Rijnland[\"peilgebied\"][\"peilgebied_cat\"] = peilgebieden_cat\n"
   ]
  },
  {
   "cell_type": "markdown",
   "id": "a23b8673-850f-4c3a-a1d2-d2a3aa148a7d",
   "metadata": {},
   "source": [
    "## Add nhws to ['peilgebied','streefpeil']"
   ]
  },
  {
   "cell_type": "code",
   "execution_count": 8,
   "id": "8661eed7-0552-4f93-acad-62f1af2482d9",
   "metadata": {},
   "outputs": [],
   "source": [
    "# update peilgebied dict key\n",
    "gdf_hws[\"globalid\"] = \"dummy_globalid_nhws_\" + gdf_hws.index.astype(str)\n",
    "gdf_hws[\"code\"] = \"dummy_code_nhws_\" + gdf_hws.index.astype(str)\n",
    "gdf_hws[\"nen3610id\"] = \"dummy_nen3610id_nhws_\" + gdf_hws.index.astype(str)\n",
    "gdf_hws[\"peilgebied_cat\"] = 2\n",
    "\n",
    "gdf_hws = gdf_hws[[\"globalid\", \"code\", \"nen3610id\", \"peilgebied_cat\", \"geometry\"]]\n",
    "\n",
    "Rijnland[\"peilgebied\"] = pd.concat([gdf_hws, Rijnland[\"peilgebied\"]])\n"
   ]
  },
  {
   "cell_type": "code",
   "execution_count": 9,
   "id": "7dd6604c-fe9e-4414-a477-d68978cf4c22",
   "metadata": {},
   "outputs": [],
   "source": [
    "# Create boezem streefpeil layer\n",
    "streefpeil_hws = pd.DataFrame()\n",
    "streefpeil_hws[\"waterhoogte\"] = [np.nan] * len(gdf_hws)\n",
    "streefpeil_hws[\"globalid\"] = \"dummy_globalid_nhws_\" + gdf_hws.index.astype(str)\n",
    "streefpeil_hws[\"geometry\"] = [None] * len(gdf_hws)\n",
    "\n",
    "Rijnland[\"streefpeil\"] = pd.concat([streefpeil_hws, Rijnland[\"streefpeil\"]])\n",
    "Rijnland[\"streefpeil\"] = gpd.GeoDataFrame(Rijnland[\"streefpeil\"])\n"
   ]
  },
  {
   "cell_type": "markdown",
   "id": "8bba7dd4-ce87-4ba9-9004-f986d597f7be",
   "metadata": {},
   "source": [
    "### Create buffer polygon between NHWS and peilgebied/RHWS"
   ]
  },
  {
   "cell_type": "code",
   "execution_count": 10,
   "id": "8c7a3dd5-3e21-4116-9dbb-eda621bbb7ec",
   "metadata": {},
   "outputs": [],
   "source": [
    "# buffer_polygon = gdf_buffer.geometry.iat[0].intersection(gdf_grens.geometry.iat[0])\n",
    "\n",
    "# polygons = []\n",
    "# for geom in gdf_hws.geometry:\n",
    "#     if isinstance(geom, MultiPolygon):\n",
    "#         for poly in geom:\n",
    "#             polygons.append(poly)\n",
    "#     elif isinstance(geom, Polygon):\n",
    "#         polygons.append(geom)\n",
    "\n",
    "# buffer_polygon = buffer_polygon.difference(MultiPolygon(polygons))\n",
    "# buffer_polygon = buffer_polygon.difference(shapely.ops.unary_union(Rijnland['peilgebied'].geometry.tolist()))\n",
    "# buffer_polygon_gdf = gpd.GeoDataFrame([{'geometry': geom} for geom in buffer_polygon], geometry='geometry', crs='EPSG:28992')\n",
    "\n",
    "# buffer_polygon = gpd.GeoDataFrame(buffer_polygon)\n",
    "# buffer_polygon = buffer_polygon.set_geometry(0)\n",
    "# buffer_polygon = buffer_polygon.dissolve()\n",
    "# buffer_polygon = buffer_polygon.rename(columns={0:'geometry'})\n",
    "# buffer_polygon = buffer_polygon.set_geometry('geometry')\n",
    "# buffer_polygon = buffer_polygon.set_crs('EPSG:28992')\n"
   ]
  },
  {
   "cell_type": "markdown",
   "id": "de6ebf83-cc20-4e63-89b5-a74c03a57b54",
   "metadata": {},
   "source": [
    "### Add buffer to ['peilgebied','streefpeil']"
   ]
  },
  {
   "cell_type": "code",
   "execution_count": 11,
   "id": "c936a691-7ded-4e63-a344-83f27387cf0d",
   "metadata": {},
   "outputs": [],
   "source": [
    "# # update peilgebied dict key\n",
    "# buffer_polygon = gpd.GeoDataFrame(buffer_polygon)\n",
    "# buffer_polygon['globalid'] = 'dummy_globalid_nhws_buffer_' + buffer_polygon.index.astype(str)\n",
    "# buffer_polygon['code'] = 'dummy_code_nhws_buffer_' + buffer_polygon.index.astype(str)\n",
    "# buffer_polygon['nen3610id'] = 'dummy_nen3610id_nhws_buffer_' + buffer_polygon.index.astype(str)\n",
    "# buffer_polygon['peilgebied_cat'] = 2\n",
    "# buffer_polygon = buffer_polygon.rename(columns={0:'geometry'})\n",
    "# buffer_polygon = buffer_polygon[['globalid', 'code', 'nen3610id', 'peilgebied_cat', 'geometry']]\n",
    "\n",
    "# Rijnland['peilgebied'] = pd.concat([buffer_polygon, Rijnland['peilgebied']])\n",
    "# Rijnland['peilgebied'] = gpd.GeoDataFrame(Rijnland['peilgebied'])\n"
   ]
  },
  {
   "cell_type": "code",
   "execution_count": 12,
   "id": "4d53d1fe-774d-402d-bf40-af0dc62aef4a",
   "metadata": {},
   "outputs": [],
   "source": [
    "# # Create boezem streefpeil layer\n",
    "# streefpeil_buffer = pd.DataFrame()\n",
    "# streefpeil_buffer['waterhoogte'] = [np.nan]\n",
    "# streefpeil_buffer['globalid'] = 'dummy_globalid_nhws_buffer_' + buffer_polygon.index.astype(str)\n",
    "# streefpeil_buffer['geometry'] = [None]\n",
    "\n",
    "\n",
    "# Rijnland['streefpeil'] = pd.concat([streefpeil_buffer, Rijnland['streefpeil']])\n",
    "# Rijnland['streefpeil'] = gpd.GeoDataFrame(Rijnland['streefpeil'])\n"
   ]
  },
  {
   "cell_type": "markdown",
   "id": "7f8b16ac-76dc-4958-8479-bd99ce3ebd66",
   "metadata": {},
   "source": [
    "## Rijnland data contains many duplicate peilgebieden\n",
    "### Calculate polygons that overlap with more than 90 % of their area"
   ]
  },
  {
   "cell_type": "code",
   "execution_count": null,
   "id": "77d4a830-e70e-4242-bd29-d04483ec3c02",
   "metadata": {},
   "outputs": [],
   "source": [
    "\n"
   ]
  },
  {
   "cell_type": "code",
   "execution_count": 13,
   "id": "dae75f8d-f919-4690-b0cc-a04112c32b6a",
   "metadata": {},
   "outputs": [
    {
     "name": "stdout",
     "output_type": "stream",
     "text": [
      "Processing 8807 out of 8807...\r"
     ]
    }
   ],
   "source": [
    "gdf = Rijnland[\"peilgebied\"][3:]\n",
    "\n",
    "# Initialize a list to store index pairs with more than 90% overlap\n",
    "overlapping_pairs = []\n",
    "\n",
    "# Iterate through each unique pair of geometries\n",
    "for idx1, idx2 in combinations(gdf.index, 2):\n",
    "    print(f\"Processing {idx1} out of {len(gdf)}...\", end=\"\\r\")\n",
    "    geom1 = gdf.at[idx1, \"geometry\"]\n",
    "    geom2 = gdf.at[idx2, \"geometry\"]\n",
    "\n",
    "    # Calculate intersection\n",
    "    intersection = geom1.intersection(geom2)\n",
    "    intersection_area = intersection.area\n",
    "\n",
    "    # Calculate original areas\n",
    "    area1 = geom1.area\n",
    "    area2 = geom2.area\n",
    "\n",
    "    # Calculate intersection percentage for each geometry\n",
    "    intersection_percentage1 = (intersection_area / area1) * 100\n",
    "    intersection_percentage2 = (intersection_area / area2) * 100\n",
    "\n",
    "    # Check if both geometries overlap more than 90%\n",
    "    if intersection_percentage1 > 90 and intersection_percentage2 > 90:\n",
    "        overlapping_pairs.append((idx1, idx2))\n",
    "\n",
    "idx1s = []\n",
    "idx2s = []\n",
    "\n",
    "glob_1s = []\n",
    "glob_2s = []\n",
    "\n",
    "\n",
    "for idx1, idx2 in overlapping_pairs:\n",
    "    idx1s.append(idx1)\n",
    "    idx2s.append(idx2)\n",
    "\n",
    "    glob_1s.append(gdf.iloc[idx1].globalid)\n",
    "    glob_2s.append(gdf.iloc[idx2].globalid)\n",
    "\n",
    "\n",
    "df = pd.DataFrame()\n",
    "df[\"idx1\"] = idx1s\n",
    "df[\"idx2\"] = idx2s\n",
    "df[\"globalid_1\"] = glob_1s\n",
    "df[\"globalid_2\"] = glob_2s\n",
    "\n",
    "df.to_csv(\"../overlapping_Rijnland.csv\")\n"
   ]
  },
  {
   "cell_type": "code",
   "execution_count": 14,
   "id": "9df31513-a055-4185-aadb-6bf0d59914ae",
   "metadata": {},
   "outputs": [
    {
     "name": "stdout",
     "output_type": "stream",
     "text": [
      "     idx1  idx2                          globalid_1  \\\n",
      "0       4   256       dummy_globalid_peilgebied_6_6   \n",
      "1       5   257       dummy_globalid_peilgebied_6_7   \n",
      "2       6   258       dummy_globalid_peilgebied_6_8   \n",
      "3       7   259       dummy_globalid_peilgebied_6_9   \n",
      "4       8   260      dummy_globalid_peilgebied_6_10   \n",
      "..    ...   ...                                 ...   \n",
      "215  6861  6895  dummy_globalid_peilgebied_446_6863   \n",
      "216  6862  6896  dummy_globalid_peilgebied_446_6864   \n",
      "217  6863  6897  dummy_globalid_peilgebied_446_6865   \n",
      "218  6864  6898  dummy_globalid_peilgebied_446_6866   \n",
      "219  6865  6899  dummy_globalid_peilgebied_446_6867   \n",
      "\n",
      "                             globalid_2  \n",
      "0       dummy_globalid_peilgebied_0_258  \n",
      "1       dummy_globalid_peilgebied_0_259  \n",
      "2       dummy_globalid_peilgebied_0_260  \n",
      "3       dummy_globalid_peilgebied_0_261  \n",
      "4       dummy_globalid_peilgebied_0_262  \n",
      "..                                  ...  \n",
      "215  dummy_globalid_peilgebied_447_6897  \n",
      "216  dummy_globalid_peilgebied_447_6898  \n",
      "217  dummy_globalid_peilgebied_447_6899  \n",
      "218  dummy_globalid_peilgebied_448_6900  \n",
      "219  dummy_globalid_peilgebied_448_6901  \n",
      "\n",
      "[220 rows x 4 columns]\n"
     ]
    }
   ],
   "source": [
    "print(df)\n"
   ]
  },
  {
   "cell_type": "markdown",
   "id": "e4928043-eded-4a45-a6ea-986e516d3a28",
   "metadata": {},
   "source": [
    "### Create list of duplicates for removal"
   ]
  },
  {
   "cell_type": "code",
   "execution_count": 15,
   "id": "3ba5af40-ac04-4997-a890-34987e8cfabe",
   "metadata": {},
   "outputs": [],
   "source": [
    "numbers_to_remove = []\n",
    "\n",
    "# Go loop unique index values\n",
    "for number in df[\"idx1\"].unique():\n",
    "    if number in numbers_to_remove:\n",
    "        continue\n",
    "\n",
    "    # Find all combinations\n",
    "    associated_idx2 = df[df[\"idx1\"] == number][\"idx2\"].tolist()\n",
    "    # Append combinations\n",
    "    numbers_to_remove.extend(associated_idx2)\n",
    "\n",
    "# Remove duplicates using set operation\n",
    "numbers_to_remove = list(set(numbers_to_remove))\n"
   ]
  },
  {
   "cell_type": "markdown",
   "id": "54028e80-ab1a-40cf-a0f6-808f4f1af1a5",
   "metadata": {},
   "source": [
    "### Remove duplicates"
   ]
  },
  {
   "cell_type": "code",
   "execution_count": 16,
   "id": "2f09ef95-f0ff-4216-ac2e-a5b6a05b1ac0",
   "metadata": {},
   "outputs": [],
   "source": [
    "Rijnland[\"peilgebied\"] = Rijnland[\"peilgebied\"][~Rijnland[\"peilgebied\"].index.isin(numbers_to_remove)]\n",
    "Rijnland[\"streefpeil\"] = Rijnland[\"streefpeil\"][~Rijnland[\"streefpeil\"].index.isin(numbers_to_remove)]\n"
   ]
  },
  {
   "cell_type": "code",
   "execution_count": 17,
   "id": "1c7da63d-37de-4bc7-a234-d9bec8cc0c55",
   "metadata": {},
   "outputs": [],
   "source": [
    "if remove_cat_2:\n",
    "    Rijnland[\"peilgebied\"] = Rijnland[\"peilgebied\"].loc[Rijnland[\"peilgebied\"].peilgebied_cat != 2]\n"
   ]
  },
  {
   "cell_type": "markdown",
   "id": "fec7d831-127b-438f-8fdb-9e2cda4707ff",
   "metadata": {},
   "source": [
    "### Store data"
   ]
  },
  {
   "cell_type": "code",
   "execution_count": 18,
   "id": "59127d3b-ce3b-42ee-915d-62f0f720ec08",
   "metadata": {},
   "outputs": [
    {
     "name": "stdout",
     "output_type": "stream",
     "text": [
      "stuw\n",
      "gemaal\n",
      "hydroobject\n",
      "duikersifonhevel\n",
      "peilgebied\n",
      "streefpeil\n",
      "aggregation_area\n"
     ]
    }
   ],
   "source": [
    "for key in Rijnland.keys():\n",
    "    print(key)\n",
    "    Rijnland[str(key)].to_file(f\"{output_folder}/{waterschap}.gpkg\", layer=str(key), driver=\"GPKG\")\n"
   ]
  },
  {
   "cell_type": "code",
   "execution_count": null,
   "id": "c4473cbe-38bd-4c89-9ac6-839470451f26",
   "metadata": {},
   "outputs": [],
   "source": [
    "\n"
   ]
  },
  {
   "cell_type": "code",
   "execution_count": null,
   "id": "f18b37ff-f12a-47d4-b406-233ef5008454",
   "metadata": {},
   "outputs": [],
   "source": [
    "\n"
   ]
  }
 ],
 "metadata": {
  "kernelspec": {
   "display_name": "Python [conda env:stable]",
   "language": "python",
   "name": "conda-env-stable-py"
  },
  "language_info": {
   "codemirror_mode": {
    "name": "ipython",
    "version": 3
   },
   "file_extension": ".py",
   "mimetype": "text/x-python",
   "name": "python",
   "nbconvert_exporter": "python",
   "pygments_lexer": "ipython3",
   "version": "3.8.15"
  }
 },
 "nbformat": 4,
 "nbformat_minor": 5
}
