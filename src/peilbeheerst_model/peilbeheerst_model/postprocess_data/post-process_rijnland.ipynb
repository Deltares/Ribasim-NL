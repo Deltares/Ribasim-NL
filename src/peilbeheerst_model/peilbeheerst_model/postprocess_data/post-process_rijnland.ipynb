{
 "cells": [
  {
   "cell_type": "markdown",
   "id": "690952c5-5037-476a-a660-d54fec614748",
   "metadata": {},
   "source": [
    "# Rijnland"
   ]
  },
  {
   "cell_type": "markdown",
   "id": "e9e378d7-8f05-4562-87b0-34978ba61554",
   "metadata": {},
   "source": [
    "This script adds a new column \"peilgebied_cat\" and makes sure the peilgebieden allign with the HWS layer (Daniel):\n",
    "- peilgebied_cat = 0 -> peilgebied\n",
    "- peigelbied_cat = 1 -> RHWS (boezem)\n",
    "- peilgebied_cat = 2 -> NHWS "
   ]
  },
  {
   "cell_type": "code",
   "execution_count": null,
   "id": "0c27c7a4-5733-46ea-970f-cd985b8c92cd",
   "metadata": {},
   "outputs": [],
   "source": [
    "import geopandas as gpd\n",
    "import numpy as np\n",
    "\n",
    "%load_ext autoreload\n",
    "%autoreload 2\n",
    "\n",
    "from general_functions import *"
   ]
  },
  {
   "cell_type": "markdown",
   "id": "dc1f28d2-8499-4ebb-906e-1724bd334aac",
   "metadata": {},
   "source": [
    "## Rijnland"
   ]
  },
  {
   "cell_type": "code",
   "execution_count": null,
   "id": "e15206a7-6639-40bb-9942-f920085f53b4",
   "metadata": {},
   "outputs": [],
   "source": [
    "# define relative paths\n",
    "waterschap = \"Rijnland\"\n",
    "\n",
    "data_path = f\"../projects/4750_30/Data_postprocessed/Waterschappen/{waterschap}/{waterschap}.gpkg\"\n",
    "\n",
    "# Waterschaps boundaries\n",
    "grens_path = \"../projects/4750_30/Data_overig/Waterschapsgrenzen/Waterschapsgrenzen.geojson\"\n",
    "# Hoofdwatersysteem boundaries\n",
    "hws_path = \"../projects/4750_30/Data_overig/HWS/krw_basins_vlakken.gpkg\"\n",
    "# Buffer boundaries\n",
    "buffer_path = \"../projects/4750_30/Data_overig/HWS/hws_buffer_rijnland.gpkg\"\n",
    "# Output folder\n",
    "output_folder = f\"./Waterschappen/{waterschap}\""
   ]
  },
  {
   "cell_type": "markdown",
   "id": "7bbafed8-355a-4ec9-90c9-eca9e3b9313d",
   "metadata": {},
   "source": [
    "### Load Files"
   ]
  },
  {
   "cell_type": "code",
   "execution_count": null,
   "id": "0f6dcf56-e8a4-4055-bc86-a6d33c91d8d8",
   "metadata": {},
   "outputs": [],
   "source": [
    "# Load HHNK files\n",
    "Rijnland = read_gpkg_layers(\n",
    "    gpkg_path=data_path,\n",
    "    variables=[\n",
    "        \"stuw\",\n",
    "        \"gemaal\",\n",
    "        \"hydroobject\",\n",
    "        \"duikersifonhevel\",\n",
    "        \"peilgebied\",\n",
    "        \"streefpeil\",\n",
    "    ],\n",
    ")\n",
    "Rijnland[\"peilgebied\"] = Rijnland[\"peilgebied\"].to_crs(\"EPSG:28992\")\n",
    "\n",
    "# Load waterschap boundaries\n",
    "gdf_grens = gpd.read_file(grens_path)\n",
    "gdf_grens = gdf_grens.to_crs(\"EPSG:28992\")\n",
    "gdf_grens = gdf_grens.set_index(\"waterschap\")\n",
    "\n",
    "# Load hws\n",
    "gdf_hws = gpd.read_file(hws_path)\n",
    "\n",
    "# Load buffer\n",
    "gdf_buffer = gpd.read_file(buffer_path)"
   ]
  },
  {
   "cell_type": "markdown",
   "id": "623a0316-463e-444e-af95-d409c962fd21",
   "metadata": {},
   "source": [
    "## Select waterschap boundaries and clip hws layer"
   ]
  },
  {
   "cell_type": "code",
   "execution_count": null,
   "id": "98c82db0-4036-4ffa-ae1b-4400f5c28a58",
   "metadata": {},
   "outputs": [],
   "source": [
    "# Select boundaries HH Amstel, Gooi en Vecht\n",
    "gdf_grens = gdf_grens.loc[[\"HH van Rijnland\"]]\n",
    "\n",
    "# Use waterschap boudnaries to clip HWS layer\n",
    "gdf_hws = gpd.overlay(gdf_grens, gdf_hws, how=\"intersection\")"
   ]
  },
  {
   "cell_type": "markdown",
   "id": "240d4f27-3149-49db-82c2-aeb208b8bdb8",
   "metadata": {},
   "source": [
    "## Peilgebied and HWS layer overlap:\n",
    "1. Identify the overlapping areas\n",
    "2. Clip\n",
    "3. Calculate overlapping area percentage\n",
    "4. Filter"
   ]
  },
  {
   "cell_type": "code",
   "execution_count": null,
   "id": "08cf410b-78c1-47ab-b32c-e0ed60ebd7ec",
   "metadata": {},
   "outputs": [],
   "source": [
    "# Step 1: Identify the Overlapping Areas and clip\n",
    "overlaps = gpd.overlay(Rijnland[\"peilgebied\"], gdf_hws, how=\"intersection\", keep_geom_type=True)\n",
    "\n",
    "# # Step 2: Subtract Overlapping Areas from the original polygons in each DataFrame\n",
    "non_overlapping_peilgebied = gpd.overlay(Rijnland[\"peilgebied\"], overlaps, how=\"difference\", keep_geom_type=True)\n",
    "overlaps = gpd.overlay(non_overlapping_peilgebied, gdf_hws, how=\"intersection\", keep_geom_type=False)\n",
    "\n",
    "# Step 3: Calculate Area Percentages\n",
    "# Calculate the area of overlaps\n",
    "overlaps[\"overlap_area\"] = overlaps.area\n",
    "\n",
    "# Step 4: Filter based on area Area Percentages\n",
    "minimum_area = 20000\n",
    "print(f\"Number of overlapping shapes without filter: {len(overlaps)}\")\n",
    "overlap_ids = overlaps.loc[overlaps[\"overlap_area\"] > minimum_area]\n",
    "overlap_ids = overlap_ids.globalid.to_list()\n",
    "print(f\"Number of overlapping shapes with filter: {len(overlap_ids)}\")"
   ]
  },
  {
   "cell_type": "markdown",
   "id": "c9739ed5-7eaa-4255-bf5d-04d419530de8",
   "metadata": {},
   "source": [
    "## Create peilgebied_cat column"
   ]
  },
  {
   "cell_type": "code",
   "execution_count": null,
   "id": "73f6c0f2-8f3c-4b63-a36a-508bd0c0f1ce",
   "metadata": {},
   "outputs": [],
   "source": [
    "# Add occurence to geodataframe\n",
    "peilgebieden_cat = []\n",
    "\n",
    "for index, row in Rijnland[\"peilgebied\"].iterrows():\n",
    "    if row.code == \"dummy_code_peilgebied_18207\":\n",
    "        peilgebieden_cat.append(1)\n",
    "        print(\"yes\")\n",
    "    elif row.code == \"dummy_code_peilgebied_18322\":\n",
    "        peilgebieden_cat.append(1)\n",
    "    elif row.code == \"dummy_code_peilgebied_18155\":\n",
    "        peilgebieden_cat.append(1)\n",
    "    elif row.code == \"dummy_code_peilgebied_18161\":\n",
    "        peilgebieden_cat.append(1)\n",
    "    elif row.code == \"dummy_code_peilgebied_19451\":\n",
    "        peilgebieden_cat.append(2)\n",
    "    else:\n",
    "        peilgebieden_cat.append(0)\n",
    "\n",
    "# Add new column and drop old HWS_BZM column\n",
    "Rijnland[\"peilgebied\"][\"peilgebied_cat\"] = peilgebieden_cat"
   ]
  },
  {
   "cell_type": "code",
   "execution_count": null,
   "id": "4d46f98a-f363-4b88-8c48-1e3ec421f9f7",
   "metadata": {},
   "outputs": [],
   "source": []
  },
  {
   "cell_type": "markdown",
   "id": "ca30ba30-617e-4263-9c3c-ebd93b42ac08",
   "metadata": {},
   "source": [
    "## Add rhws to ['peilgebied','streefpeil']"
   ]
  },
  {
   "cell_type": "code",
   "execution_count": null,
   "id": "3315f190-afef-4ed5-ae4b-3f7aa3ec6df2",
   "metadata": {},
   "outputs": [],
   "source": [
    "# update peilgebied dict key\n",
    "gdf_rhws[\"globalid\"] = \"dummy_globalid_rhws_\" + gdf_rhws.index.astype(str)\n",
    "gdf_rhws[\"code\"] = \"dummy_code_nhws_\" + gdf_rhws.index.astype(str)\n",
    "gdf_rhws[\"nen3610id\"] = \"dummy_nen3610id_rhws_\" + gdf_rhws.index.astype(str)\n",
    "gdf_rhws[\"peilgebied_cat\"] = 1\n",
    "\n",
    "gdf_rhws = gdf_rhws[[\"globalid\", \"code\", \"nen3610id\", \"peilgebied_cat\", \"geometry\"]]\n",
    "\n",
    "Rijnland[\"peilgebied\"] = pd.concat([gdf_rhws, AVG[\"peilgebied\"]])"
   ]
  },
  {
   "cell_type": "code",
   "execution_count": null,
   "id": "dd6ea3c8-c159-43b9-bd28-b8cd54d790b1",
   "metadata": {},
   "outputs": [],
   "source": [
    "# Create boezem streefpeil layer\n",
    "streefpeil_hws = pd.DataFrame()\n",
    "streefpeil_hws[\"waterhoogte\"] = [np.nan] * len(gdf_rhws)\n",
    "streefpeil_hws[\"globalid\"] = \"dummy_globalid_rhws_\" + gdf_rhws.index.astype(str)\n",
    "streefpeil_hws[\"geometry\"] = [None] * len(gdf_rhws)\n",
    "\n",
    "Rijnland[\"streefpeil\"] = pd.concat([streefpeil_hws, Rijnland[\"streefpeil\"]])\n",
    "Rijnland[\"streefpeil\"] = gpd.GeoDataFrame(Rijnland[\"streefpeil\"])"
   ]
  },
  {
   "cell_type": "markdown",
   "id": "a23b8673-850f-4c3a-a1d2-d2a3aa148a7d",
   "metadata": {},
   "source": [
    "## Add nhws to ['peilgebied','streefpeil']"
   ]
  },
  {
   "cell_type": "code",
   "execution_count": null,
   "id": "8661eed7-0552-4f93-acad-62f1af2482d9",
   "metadata": {},
   "outputs": [],
   "source": [
    "# update peilgebied dict key\n",
    "gdf_hws[\"globalid\"] = \"dummy_globalid_nhws_\" + gdf_hws.index.astype(str)\n",
    "gdf_hws[\"code\"] = \"dummy_code_nhws_\" + gdf_hws.index.astype(str)\n",
    "gdf_hws[\"nen3610id\"] = \"dummy_nen3610id_nhws_\" + gdf_hws.index.astype(str)\n",
    "gdf_hws[\"peilgebied_cat\"] = 2\n",
    "\n",
    "gdf_hws = gdf_hws[[\"globalid\", \"code\", \"nen3610id\", \"peilgebied_cat\", \"geometry\"]]\n",
    "\n",
    "Rijnland[\"peilgebied\"] = pd.concat([gdf_hws, Rijnland[\"peilgebied\"]])"
   ]
  },
  {
   "cell_type": "code",
   "execution_count": null,
   "id": "7dd6604c-fe9e-4414-a477-d68978cf4c22",
   "metadata": {},
   "outputs": [],
   "source": [
    "# Create boezem streefpeil layer\n",
    "streefpeil_hws = pd.DataFrame()\n",
    "streefpeil_hws[\"waterhoogte\"] = [np.nan] * len(gdf_hws)\n",
    "streefpeil_hws[\"globalid\"] = \"dummy_globalid_nhws_\" + gdf_hws.index.astype(str)\n",
    "streefpeil_hws[\"geometry\"] = [None] * len(gdf_hws)\n",
    "\n",
    "Rijnland[\"streefpeil\"] = pd.concat([streefpeil_hws, Rijnland[\"streefpeil\"]])\n",
    "Rijnland[\"streefpeil\"] = gpd.GeoDataFrame(Rijnland[\"streefpeil\"])"
   ]
  },
  {
   "cell_type": "code",
   "execution_count": null,
   "id": "bef23083-aaaa-409c-8527-46b5db303076",
   "metadata": {},
   "outputs": [],
   "source": []
  },
  {
   "cell_type": "code",
   "execution_count": null,
   "id": "0ce0e159-be7d-477e-8b4a-211698dd0693",
   "metadata": {},
   "outputs": [],
   "source": []
  },
  {
   "cell_type": "code",
   "execution_count": null,
   "id": "be3fcd61-67eb-418b-8723-28738d034f9d",
   "metadata": {},
   "outputs": [],
   "source": []
  },
  {
   "cell_type": "code",
   "execution_count": null,
   "id": "931f83ff-36e4-47e4-a7df-281e375e6c51",
   "metadata": {},
   "outputs": [],
   "source": []
  },
  {
   "cell_type": "code",
   "execution_count": null,
   "id": "3dafe764-dc08-4444-9902-4c3b118ee4c7",
   "metadata": {},
   "outputs": [],
   "source": []
  },
  {
   "cell_type": "code",
   "execution_count": null,
   "id": "16c0af56-69e1-4e4a-b74a-9fe80faacecc",
   "metadata": {},
   "outputs": [],
   "source": []
  },
  {
   "cell_type": "code",
   "execution_count": null,
   "id": "4b37a5f6-f2ba-40c7-9111-082a2afd2ed2",
   "metadata": {},
   "outputs": [],
   "source": []
  },
  {
   "cell_type": "code",
   "execution_count": null,
   "id": "f7ec3300-8d06-403c-bb5e-41a6de329b2d",
   "metadata": {},
   "outputs": [],
   "source": []
  },
  {
   "cell_type": "code",
   "execution_count": null,
   "id": "e0f978d1-4d00-4595-a62d-5503f320b6d7",
   "metadata": {},
   "outputs": [],
   "source": []
  },
  {
   "cell_type": "code",
   "execution_count": null,
   "id": "2f09ef95-f0ff-4216-ac2e-a5b6a05b1ac0",
   "metadata": {},
   "outputs": [],
   "source": []
  },
  {
   "cell_type": "code",
   "execution_count": null,
   "id": "5fdfe9a6-21f8-41e7-8e5e-f1a9a91147d3",
   "metadata": {},
   "outputs": [],
   "source": []
  },
  {
   "cell_type": "markdown",
   "id": "5556d211-e92e-4ba3-85c2-4ff9bd33fbeb",
   "metadata": {},
   "source": [
    "### Select waterschap boundaries"
   ]
  },
  {
   "cell_type": "code",
   "execution_count": null,
   "id": "c70bb838-9d93-4d5a-ae12-2da18d145009",
   "metadata": {},
   "outputs": [],
   "source": [
    "# Select boundaries HH Amstel, Gooi en Vecht\n",
    "gdf_grens = gdf_grens.loc[[\"HH van Rijnland\"]]"
   ]
  },
  {
   "cell_type": "markdown",
   "id": "3634cbd6-d698-460b-95c3-0737d2d12388",
   "metadata": {},
   "source": [
    "### Create inverse layer"
   ]
  },
  {
   "cell_type": "code",
   "execution_count": null,
   "id": "e183a1dd-c4dc-4518-8b1b-6052b55b547d",
   "metadata": {
    "tags": []
   },
   "outputs": [],
   "source": [
    "# Remove mixed geomtypes (lines)\n",
    "data = []\n",
    "\n",
    "for index, row in Rijnland[\"peilgebied\"].iterrows():\n",
    "    #     print(row.geometry.geom_type)\n",
    "    if row.geometry.geom_type != \"LineString\":\n",
    "        data.append(row)\n",
    "\n",
    "Rijnland[\"peilgebied\"] = gpd.GeoDataFrame(pd.concat(data, axis=1, ignore_index=True)).transpose()\n",
    "Rijnland[\"peilgebied\"] = Rijnland[\"peilgebied\"].set_geometry(\"geometry\")\n",
    "Rijnland[\"peilgebied\"] = Rijnland[\"peilgebied\"].set_crs(\"EPSG:28992\")"
   ]
  },
  {
   "cell_type": "code",
   "execution_count": null,
   "id": "d8a24a33-7382-4fea-b45e-950dffb59f2c",
   "metadata": {},
   "outputs": [],
   "source": [
    "# Select inverse of peilgebied\n",
    "gdf_boezem_out = gpd.overlay(gdf_grens, Rijnland[\"peilgebied\"].dissolve(), how=\"symmetric_difference\")"
   ]
  },
  {
   "cell_type": "code",
   "execution_count": null,
   "id": "9a19deee-0ce2-4928-abd7-462f5e218796",
   "metadata": {},
   "outputs": [],
   "source": [
    "# Store unfiltered layer\n",
    "gdf_boezem_out.to_file(f\"{output_folder}/boezem_unfiltered_{waterschap}.gpkg\")"
   ]
  },
  {
   "cell_type": "code",
   "execution_count": null,
   "id": "e22637f0-8fdd-4971-b602-7cf4bed8584a",
   "metadata": {},
   "outputs": [],
   "source": [
    "# Create separate polygons\n",
    "gdf_boezem_out = gdf_boezem_out.explode()"
   ]
  },
  {
   "cell_type": "markdown",
   "id": "c37b2c7b-8123-4dfb-a4c5-5d2ba817ba68",
   "metadata": {},
   "source": [
    "### Calculate area of polygons and filter"
   ]
  },
  {
   "cell_type": "code",
   "execution_count": null,
   "id": "a85b50f7-bc55-4442-8564-102b227b855a",
   "metadata": {},
   "outputs": [],
   "source": [
    "# Calculate area of polygons\n",
    "areas = []\n",
    "\n",
    "for index, row in gdf_boezem_out.iterrows():\n",
    "    areas.append(row.geometry.area)\n",
    "\n",
    "gdf_boezem_out[\"area\"] = areas"
   ]
  },
  {
   "cell_type": "code",
   "execution_count": null,
   "id": "e9a0fb83-cd34-402f-85c7-5cc88970ddbe",
   "metadata": {},
   "outputs": [],
   "source": [
    "# filter based on area of polygons\n",
    "gdf_boezem_out.sort_values(by=\"area\").iloc[[-1]].to_file(f\"{output_folder}/boezem_filter_lvl_1_{waterschap}.gpkg\")\n",
    "gdf_boezem_out.sort_values(by=\"area\").iloc[[-2]].to_file(f\"{output_folder}/boezem_filter_lvl_2_{waterschap}.gpkg\")"
   ]
  },
  {
   "cell_type": "code",
   "execution_count": null,
   "id": "59084cce-306c-42d7-942a-57c680c99172",
   "metadata": {},
   "outputs": [],
   "source": [
    "# Store peilgebieden that do not connect properly\n",
    "gdf_boezem_out.sort_values(by=\"area\").iloc[:-1].to_file(f\"{output_folder}/niet_goed_aansluitend_{waterschap}.gpkg\")"
   ]
  },
  {
   "cell_type": "markdown",
   "id": "aaea472b-8336-4b94-899a-5fbcf9117b92",
   "metadata": {},
   "source": [
    "### Add boezem when peilgebied is part of dm_netwerk"
   ]
  },
  {
   "cell_type": "code",
   "execution_count": null,
   "id": "49bd0a1d-9b4b-4831-befd-050a288022ca",
   "metadata": {},
   "outputs": [],
   "source": [
    "# Load Boezem network file (DM_netwerk)\n",
    "gdf_dm_netwerk = gpd.read_file(dm_netwerk_path)"
   ]
  },
  {
   "cell_type": "code",
   "execution_count": null,
   "id": "00f7a36e-416c-46f6-8656-b5f2aea6e3ef",
   "metadata": {},
   "outputs": [],
   "source": [
    "# Select the peilgebieden that intersect with DM-netwerk\n",
    "gdf = gpd.overlay(Rijnland[\"peilgebied\"], gdf_dm_netwerk, how=\"intersection\")"
   ]
  },
  {
   "cell_type": "markdown",
   "id": "78286e27-fa00-4cb6-83fe-d8f3b8eee453",
   "metadata": {},
   "source": [
    "### Add HWS_BZM flag to boezem polygons"
   ]
  },
  {
   "cell_type": "code",
   "execution_count": null,
   "id": "8f90fe14-6bc8-46a3-aecf-72f5edee5c3e",
   "metadata": {},
   "outputs": [],
   "source": [
    "# Add occurence to geodataframe\n",
    "boezems = []\n",
    "\n",
    "for index, row in Rijnland[\"peilgebied\"].iterrows():\n",
    "    if row.nen3610id in gdf.nen3610id.values:\n",
    "        boezems.append(True)\n",
    "    else:\n",
    "        boezems.append(False)\n",
    "\n",
    "Rijnland[\"peilgebied\"][\"HWS_BZM\"] = boezems"
   ]
  },
  {
   "cell_type": "code",
   "execution_count": null,
   "id": "5ab078c0-cca9-43f1-b9e3-2d86aec2a65c",
   "metadata": {},
   "outputs": [],
   "source": [
    "for key in Rijnland.keys():\n",
    "    print(key)\n",
    "    Rijnland[str(key)].to_file(f\"{output_folder}/{waterschap}_bzm.gpkg\", layer=str(key), driver=\"GPKG\")"
   ]
  },
  {
   "cell_type": "markdown",
   "id": "c9ece8fc-5ed3-4c6e-810e-ce5ce35dc6b6",
   "metadata": {},
   "source": [
    "### Merge boezem and peilgebied layers"
   ]
  },
  {
   "cell_type": "code",
   "execution_count": null,
   "id": "2184f2b9-7383-41d8-a994-1986465076c8",
   "metadata": {},
   "outputs": [],
   "source": [
    "# Select globalids of boezem polygons\n",
    "bzm_id = Rijnland[\"peilgebied\"].loc[Rijnland[\"peilgebied\"][\"HWS_BZM\"] == True].globalid\n",
    "\n",
    "# Match globalids with streefpeil layer globalids\n",
    "bzm_waterhoogte = Rijnland[\"streefpeil\"].loc[Rijnland[\"streefpeil\"][\"globalid\"].isin(bzm_id)]\n",
    "\n",
    "print(len(bzm_id))\n",
    "print(len(bzm_waterhoogte))"
   ]
  },
  {
   "cell_type": "code",
   "execution_count": null,
   "id": "024410a5-e3a9-4992-8c58-f63d78559a05",
   "metadata": {},
   "outputs": [],
   "source": [
    "# Create boezem layer\n",
    "boezem = gdf_boezem_out.sort_values(by=\"area\").iloc[[-1]]\n",
    "\n",
    "boezem[\"code\"] = \"dummy_code_999999\"\n",
    "boezem[\"globalid\"] = \"dummy_globalid_999999\"\n",
    "boezem[\"nen3610id\"] = \"dummy_nen3610id_peilgebied_999999\"\n",
    "boezem[\"HWS_BZM\"] = True\n",
    "boezem = boezem[[\"code\", \"globalid\", \"nen3610id\", \"HWS_BZM\", \"geometry\"]]\n",
    "\n",
    "# Create boezem streefpeil layer\n",
    "streefpeil_bzm = pd.DataFrame()\n",
    "streefpeil_bzm[\"waterhoogte\"] = [None]\n",
    "streefpeil_bzm[\"globalid\"] = [\"dummy_globalid_999999\"]\n",
    "streefpeil_bzm[\"geometry\"] = [None]"
   ]
  },
  {
   "cell_type": "code",
   "execution_count": null,
   "id": "fc055918-71f0-48b2-923a-addb9541fff9",
   "metadata": {},
   "outputs": [],
   "source": [
    "# Merge boezem layer with peilgebieden\n",
    "Rijnland[\"peilgebied\"] = gpd.GeoDataFrame(pd.concat([boezem, Rijnland[\"peilgebied\"]], ignore_index=True))\n",
    "Rijnland[\"streefpeil\"] = gpd.GeoDataFrame(pd.concat([streefpeil_bzm, Rijnland[\"streefpeil\"]], ignore_index=True))"
   ]
  },
  {
   "cell_type": "code",
   "execution_count": null,
   "id": "a83e59e4-4333-485d-906c-ba95793c19bc",
   "metadata": {},
   "outputs": [],
   "source": [
    "for key in Rijnland.keys():\n",
    "    print(key)\n",
    "    Rijnland[str(key)].to_file(f\"{output_folder}/{waterschap}.gpkg\", layer=str(key), driver=\"GPKG\")"
   ]
  },
  {
   "cell_type": "code",
   "execution_count": null,
   "id": "ba2624c6-10a1-4bec-a9ca-d287306f223d",
   "metadata": {},
   "outputs": [],
   "source": []
  }
 ],
 "metadata": {
  "kernelspec": {
   "display_name": "Python [conda env:stable]",
   "language": "python",
   "name": "conda-env-stable-py"
  },
  "language_info": {
   "codemirror_mode": {
    "name": "ipython",
    "version": 3
   },
   "file_extension": ".py",
   "mimetype": "text/x-python",
   "name": "python",
   "nbconvert_exporter": "python",
   "pygments_lexer": "ipython3",
   "version": "3.8.15"
  }
 },
 "nbformat": 4,
 "nbformat_minor": 5
}
