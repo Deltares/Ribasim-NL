{
 "cells": [
  {
   "cell_type": "code",
   "execution_count": 1,
   "id": "065338fd-62d6-480e-8c80-8bc4b101846b",
   "metadata": {},
   "outputs": [],
   "source": [
    "#import packages and functions\n",
    "import numpy as np\n",
    "import matplotlib.pyplot as plt\n",
    "import pandas as pd\n",
    "import geopandas as gpd\n",
    "import os\n",
    "import fiona\n",
    "\n",
    "import shapely\n",
    "from shapely.validation import make_valid\n",
    "from shapely.ops import unary_union,cascaded_union \n",
    "from shapely.geometry import Polygon, MultiPolygon, shape, Point\n"
   ]
  },
  {
   "cell_type": "code",
   "execution_count": 2,
   "id": "3f5aaa20-7965-4aa7-bf24-79965d87edb1",
   "metadata": {
    "tags": [
     "test"
    ]
   },
   "outputs": [],
   "source": [
    "from general_functions import *\n",
    "\n",
    "def convert_to_polygon(line):\n",
    "    if line.is_ring:  # Checks if the LineString is closed\n",
    "        return Polygon(line)\n",
    "    else:\n",
    "        return line  # Returns the line string as is if it's not closed\n"
   ]
  },
  {
   "cell_type": "code",
   "execution_count": 3,
   "id": "cbbec2b5-c309-4a42-a914-dd33c2da3610",
   "metadata": {},
   "outputs": [],
   "source": [
    "pd.set_option('display.max_columns', None)"
   ]
  },
  {
   "cell_type": "code",
   "execution_count": 4,
   "id": "e7bb775e-cc57-4586-a13c-8d9ba05ace6b",
   "metadata": {},
   "outputs": [],
   "source": [
    "#define relative paths\n",
    "waterschap = 'HHSK'\n",
    "path_HHSK = '..\\..\\Data_preprocessed\\Waterschappen\\HHSK\\HyDamo_metWasverzachter_20230905.gpkg'\n",
    "output_gpkg_path = \"../../Data_postprocessed/Waterschappen/HHSK\"\n"
   ]
  },
  {
   "cell_type": "code",
   "execution_count": 5,
   "id": "1f39bd82-2fed-41d6-a4f7-979a9a2120bd",
   "metadata": {},
   "outputs": [],
   "source": [
    "HHSK = read_gpkg_layers(gpkg_path = path_HHSK, \n",
    "                                  variables = ['stuw', \n",
    "                                               'gemaal', \n",
    "                                               'afsluitmiddel',\n",
    "                                               # 'duikersifonhevel',\n",
    "                                               # 'hydroobject',\n",
    "                                               # 'peilgebiedvigerend',\n",
    "                                               # 'peilafwijkinggebied',\n",
    "                                               # 'peilbesluitgebied',\n",
    "                                               'streefpeil'],\n",
    "                                 engine = 'pyogrio') \n",
    "                                     "
   ]
  },
  {
   "cell_type": "code",
   "execution_count": 6,
   "id": "279c940f-4290-48d6-bd48-b1e79f8be16e",
   "metadata": {},
   "outputs": [],
   "source": [
    "# HHSK_nalevering = read_gpkg_layers(gpkg_path = r\"D:\\Users\\Bruijns\\Documents\\PR4750_20\\Data_preprocessed\\Waterschappen\\HHSK\\LHM_hhsk_nalevering.gpkg\",\n",
    "#                                    variables = ['Persleiding'])"
   ]
  },
  {
   "cell_type": "code",
   "execution_count": 7,
   "id": "6ea5a43d-b2e6-42ef-8002-01c3377ed897",
   "metadata": {},
   "outputs": [],
   "source": [
    "HHSK_2nalevering = read_gpkg_layers(gpkg_path = r\"D:\\Users\\Bruijns\\Documents\\PR4750_20\\Data_preprocessed\\Waterschappen\\HHSK\\hhsklevering_07032024.gpkg\",\n",
    "                                   variables = ['PeilgebiedPraktijk',\n",
    "                                                'VigerendPeilgebiedZPP'])"
   ]
  },
  {
   "cell_type": "code",
   "execution_count": 8,
   "id": "287a1b71-b336-4d09-b511-de068096f1be",
   "metadata": {},
   "outputs": [],
   "source": [
    "HHSK_3nalevering = read_gpkg_layers(gpkg_path = r\"D:\\Users\\Bruijns\\Documents\\PR4750_20\\Data_preprocessed\\Waterschappen\\HHSK\\poldergebieden_en_duikersifonhevels_persleidingen\\LHM_06052024_hhsk.gpkg\",\n",
    "                                   variables = ['hydroobject',\n",
    "                                                'duikersifonhevel',\n",
    "                                                # 'persleiding', #edit: after a phonecall, it became clear that the persleidingen should NOT be used, only the duikersifonhevel and the hydroobjecten\n",
    "                                               ])"
   ]
  },
  {
   "cell_type": "code",
   "execution_count": 9,
   "id": "279de659-9206-4dcb-83e3-2b5fde71de35",
   "metadata": {},
   "outputs": [
    {
     "data": {
      "text/plain": [
       "array([98.,  1., nan])"
      ]
     },
     "execution_count": 9,
     "metadata": {},
     "output_type": "execute_result"
    }
   ],
   "source": [
    "HHSK_3nalevering['hydroobject'].CATEGORIEOPPWATERLICHAAM.unique()"
   ]
  },
  {
   "cell_type": "code",
   "execution_count": 10,
   "id": "c6b46928-96b0-4618-9835-2aebffeacd23",
   "metadata": {},
   "outputs": [],
   "source": [
    "#there was no categorie oppervlakte water lichaam assigned to the third additional datalevering of the duikersifonhevels within the hydroobjecten. Fill all Nones with 1, so that the \n",
    "HHSK_3nalevering['hydroobject'].CATEGORIEOPPWATERLICHAAM = HHSK_3nalevering['hydroobject'].CATEGORIEOPPWATERLICHAAM.fillna(value=1)\n",
    "HHSK_3nalevering['duikersifonhevel'].STATUSOBJECT = HHSK_3nalevering['duikersifonhevel'].STATUSOBJECT.fillna(value=3)"
   ]
  },
  {
   "cell_type": "markdown",
   "id": "32562573-3c78-4565-85be-1b7c03a023be",
   "metadata": {},
   "source": [
    "## Only select status_object == 3"
   ]
  },
  {
   "cell_type": "code",
   "execution_count": 11,
   "id": "10efac14-fd47-4f61-9180-e89e864713c7",
   "metadata": {},
   "outputs": [],
   "source": [
    "HHSK['stuw'] = HHSK['stuw'].loc[(HHSK['stuw']['statusobject'] == '3') | (HHSK['stuw']['statusobject'] == 3)]\n",
    "HHSK['gemaal'] = HHSK['gemaal'].loc[(HHSK['gemaal']['statusobject'] == '3') | (HHSK['gemaal']['statusobject'] == 3)]\n",
    "HHSK['afsluitmiddel'] = HHSK['afsluitmiddel'].loc[(HHSK['afsluitmiddel']['statusobject'] == '3') | (HHSK['afsluitmiddel']['statusobject'] == 3)]\n",
    "\n",
    "# HHSK['peilgebiedvigerend'] = HHSK['peilgebiedvigerend'].loc[(HHSK['peilgebiedvigerend']['statusobject'] == '3') | (HHSK['peilgebiedvigerend']['statusobject'] == 3)]\n",
    "# HHSK['peilafwijkinggebied'] = HHSK['peilafwijkinggebied'].loc[(HHSK['peilafwijkinggebied']['statusobject'] == '3') | (HHSK['peilafwijkinggebied']['statusobject'] == 3)]\n",
    "\n",
    "# HHSK_3nalevering['persleiding'] = HHSK_3nalevering['persleiding'].loc[(HHSK_3nalevering['persleiding']['STATUSOBJECT'] == '3') | (HHSK_3nalevering['persleiding']['STATUSOBJECT'] == 3)]\n",
    "HHSK_3nalevering['hydroobject'] = HHSK_3nalevering['hydroobject'].loc[(HHSK_3nalevering['hydroobject']['STATUSOBJECT'] == '3') | (HHSK_3nalevering['hydroobject']['STATUSOBJECT'] == 3)]\n",
    "HHSK_3nalevering['duikersifonhevel'] = HHSK_3nalevering['duikersifonhevel'].loc[(HHSK_3nalevering['duikersifonhevel']['STATUSOBJECT'] == '3') | (HHSK_3nalevering['duikersifonhevel']['STATUSOBJECT'] == 3)]"
   ]
  },
  {
   "cell_type": "code",
   "execution_count": 12,
   "id": "d91f9e5b-dab1-4af3-aaa4-18791d568ab3",
   "metadata": {},
   "outputs": [],
   "source": [
    "dsf = HHSK_3nalevering['hydroobject'].loc[HHSK_3nalevering['hydroobject']['CODE'].str.contains('Duiker|Sifon|Hevel|Gemaal|Inlaat', na=False)]\n",
    "HHSK['duikersifonhevel'] = pd.concat([HHSK_3nalevering['duikersifonhevel'], dsf])\n",
    "HHSK['duikersifonhevel'] = gpd.GeoDataFrame(HHSK['duikersifonhevel'], geometry='geometry')"
   ]
  },
  {
   "cell_type": "code",
   "execution_count": 13,
   "id": "d91ef127-a46e-4ce7-b4fc-ec13d39b6820",
   "metadata": {},
   "outputs": [],
   "source": [
    "HHSK_3nalevering['hydroobject']['CATEGORIEOPPWATERLICHAAM'] = HHSK_3nalevering['hydroobject']['CATEGORIEOPPWATERLICHAAM'].astype(float)\n",
    "HHSK_3nalevering['hydroobject_original'] = HHSK_3nalevering['hydroobject'].copy()\n",
    "HHSK['hydroobject'] = HHSK_3nalevering['hydroobject'].loc[HHSK_3nalevering['hydroobject']['CATEGORIEOPPWATERLICHAAM'] == 1] #only select primaire waterlichamen"
   ]
  },
  {
   "cell_type": "markdown",
   "id": "ffeed567-f858-4e46-83ff-89b7d7ea9b6d",
   "metadata": {},
   "source": [
    "# HHSK"
   ]
  },
  {
   "cell_type": "markdown",
   "id": "62a8afeb-9d69-4df0-8e9a-0aa255543fb1",
   "metadata": {
    "tags": []
   },
   "source": [
    "### Add the gemalen columns"
   ]
  },
  {
   "cell_type": "code",
   "execution_count": 14,
   "id": "8196e429-c7c1-40f1-9dd3-525699656dc7",
   "metadata": {},
   "outputs": [],
   "source": [
    "#determine aanvoer en afvoer gemalen\n",
    "HHSK['gemaal']['func_aanvoer'], HHSK['gemaal']['func_afvoer'], HHSK['gemaal']['func_circulatie']  = False, False, False #default is False\n",
    "HHSK['gemaal']['functiegemaal'] = HHSK['gemaal']['functiegemaal'].astype(str) \n",
    "\n",
    "HHSK['gemaal'].loc[HHSK['gemaal'].functiegemaal.str.contains('2|4|5|6|7|99'), 'func_afvoer'] = True\n",
    "HHSK['gemaal'].loc[HHSK['gemaal'].functiegemaal.str.contains('1|3|5'), 'func_aanvoer'] = True\n",
    "HHSK['gemaal'].loc[HHSK['gemaal'].functiegemaal.str.contains('8'), 'func_circulatie'] = True\n",
    "HHSK['gemaal'].loc[(HHSK['gemaal'].func_afvoer == False) &\n",
    "                       (HHSK['gemaal'].func_aanvoer == False) &\n",
    "                       (HHSK['gemaal'].func_circulatie == False), 'func_afvoer'] = True #set to afvoergemaal is there the function is unknown"
   ]
  },
  {
   "cell_type": "code",
   "execution_count": 15,
   "id": "5f19829d-6116-45d4-92ae-a0e27509afa3",
   "metadata": {},
   "outputs": [
    {
     "name": "stderr",
     "output_type": "stream",
     "text": [
      "C:\\Users\\Bruijns\\AppData\\Roaming\\Python\\Python39\\site-packages\\geopandas\\geodataframe.py:1543: SettingWithCopyWarning: \n",
      "A value is trying to be set on a copy of a slice from a DataFrame.\n",
      "Try using .loc[row_indexer,col_indexer] = value instead\n",
      "\n",
      "See the caveats in the documentation: https://pandas.pydata.org/pandas-docs/stable/user_guide/indexing.html#returning-a-view-versus-a-copy\n",
      "  super().__setitem__(key, value)\n",
      "C:\\Users\\Bruijns\\AppData\\Roaming\\Python\\Python39\\site-packages\\geopandas\\geodataframe.py:1543: SettingWithCopyWarning: \n",
      "A value is trying to be set on a copy of a slice from a DataFrame.\n",
      "Try using .loc[row_indexer,col_indexer] = value instead\n",
      "\n",
      "See the caveats in the documentation: https://pandas.pydata.org/pandas-docs/stable/user_guide/indexing.html#returning-a-view-versus-a-copy\n",
      "  super().__setitem__(key, value)\n",
      "C:\\Users\\Bruijns\\AppData\\Roaming\\Python\\Python39\\site-packages\\geopandas\\geodataframe.py:1543: SettingWithCopyWarning: \n",
      "A value is trying to be set on a copy of a slice from a DataFrame.\n",
      "Try using .loc[row_indexer,col_indexer] = value instead\n",
      "\n",
      "See the caveats in the documentation: https://pandas.pydata.org/pandas-docs/stable/user_guide/indexing.html#returning-a-view-versus-a-copy\n",
      "  super().__setitem__(key, value)\n"
     ]
    }
   ],
   "source": [
    "HHSK['hydroobject']['code'] = HHSK['hydroobject'].CODE\n",
    "HHSK['hydroobject']['nen3610id'] = 'dummy_nen3610id_' + HHSK['hydroobject'].index.astype(str)\n",
    "HHSK['hydroobject']['globalid'] = HHSK['hydroobject'].GLOBALID\n",
    "\n",
    "HHSK['duikersifonhevel']['code'] = HHSK['duikersifonhevel'].CODE\n",
    "HHSK['duikersifonhevel']['nen3610id'] = 'dummy_nen3610id_' + HHSK['duikersifonhevel'].index.astype(str)\n",
    "HHSK['duikersifonhevel']['globalid'] = HHSK['duikersifonhevel'].GLOBALID"
   ]
  },
  {
   "cell_type": "code",
   "execution_count": 16,
   "id": "fe221b99-ad03-4688-a656-9cb19e4f1a8b",
   "metadata": {},
   "outputs": [],
   "source": [
    "HHSK['stuw'] = HHSK['stuw'][['code', 'nen3610id', 'globalid', 'geometry']]\n",
    "HHSK['gemaal'] = HHSK['gemaal'][['code', 'nen3610id', 'globalid', 'func_afvoer', 'func_aanvoer', 'func_circulatie', 'geometry']]\n",
    "HHSK['hydroobject'] = HHSK['hydroobject'][['code', 'nen3610id', 'globalid', 'geometry']]\n",
    "HHSK['duikersifonhevel'] = HHSK['duikersifonhevel'][['code', 'nen3610id', 'globalid', 'geometry']]\n",
    "HHSK['afsluitmiddel'] = HHSK['afsluitmiddel'][['code', 'nen3610id', 'globalid', 'geometry']]\n",
    "\n",
    "# HHSK['peilgebiedvigerend'] = HHSK['peilgebiedvigerend'][['code', 'nen3610id', 'globalid', 'geometry']]\n",
    "# HHSK['peilafwijkinggebied'] = HHSK['peilafwijkinggebied'][['code', 'nen3610id', 'globalid', 'geometry']]\n",
    "\n",
    "# HHSK['streefpeil'] = HHSK['streefpeil'][['code', 'nen3610id', 'globalid']]"
   ]
  },
  {
   "cell_type": "markdown",
   "id": "8c3e7f83-1aa8-4714-8ef5-7d0176097d94",
   "metadata": {
    "tags": []
   },
   "source": [
    "### Add the nageleverde persleidingen to the duikersifonhevels"
   ]
  },
  {
   "cell_type": "code",
   "execution_count": 17,
   "id": "75bbbea1-5ef9-4935-ad8e-4f294eaf1c9f",
   "metadata": {},
   "outputs": [],
   "source": [
    "# HHSK_3nalevering['persleiding'] = HHSK_3nalevering['persleiding'][['CODE', 'GLOBALID', 'geometry']]\n",
    "# HHSK_3nalevering['persleiding']['nen3610id'] = 'dummy_nen3610id_persleiding_' + HHSK_3nalevering['persleiding'].index.astype(str)\n",
    "# HHSK_3nalevering['persleiding'] = HHSK_3nalevering['persleiding'].rename(columns = {'CODE': 'code',\n",
    "#                                                                         'GLOBALID': 'globalid'})\n"
   ]
  },
  {
   "cell_type": "code",
   "execution_count": 18,
   "id": "8495f3ba-98df-4eea-97a5-d09534e36885",
   "metadata": {},
   "outputs": [],
   "source": [
    "# HHSK['duikersifonhevel'] = gpd.GeoDataFrame(pd.concat([HHSK['duikersifonhevel'], HHSK_3nalevering['persleiding']])).reset_index(drop=True)\n",
    "\n",
    "#HHSK has apparently non unique values for the global ids in duikersifonhevel\n",
    "HHSK['duikersifonhevel'] = HHSK['duikersifonhevel'].reset_index(drop=True)\n",
    "HHSK['duikersifonhevel']['globalid'] = 'dummy_globalid_duikersifonhevel_' + HHSK['duikersifonhevel'].index.astype(str)\n",
    "\n",
    "#remove empty point geomtries from the gemalen\n",
    "HHSK['gemaal'] = HHSK['gemaal'][~HHSK['gemaal'].is_empty].reset_index(drop=True)"
   ]
  },
  {
   "cell_type": "markdown",
   "id": "31841446-4e06-47b7-98a3-38d389df26df",
   "metadata": {},
   "source": [
    "### Add the nageleverde peilgebieden to the original data"
   ]
  },
  {
   "cell_type": "code",
   "execution_count": 19,
   "id": "9bbfde44-60d9-4669-8994-410dc16299b9",
   "metadata": {},
   "outputs": [],
   "source": [
    "HHSK_2nalevering['PeilgebiedPraktijk'].loc[HHSK_2nalevering['PeilgebiedPraktijk']['ONDERPEIL'] == 0, 'ONDERPEIL'] = np.nan\n",
    "HHSK_2nalevering['PeilgebiedPraktijk'].loc[HHSK_2nalevering['PeilgebiedPraktijk']['VASTPEIL'] == 0, 'VASTPEIL'] = np.nan\n",
    "HHSK_2nalevering['PeilgebiedPraktijk'].loc[HHSK_2nalevering['PeilgebiedPraktijk']['BOVENPEIL'] == 0, 'BOVENPEIL'] = np.nan\n",
    "HHSK_2nalevering['PeilgebiedPraktijk'].loc[HHSK_2nalevering['PeilgebiedPraktijk']['SCHOUWPEIL'] == 0, 'SCHOUWPEIL'] = np.nan\n",
    "\n",
    "HHSK_2nalevering['VigerendPeilgebiedZPP'].loc[HHSK_2nalevering['VigerendPeilgebiedZPP']['ONDERPEIL'] == 0, 'ONDERPEIL'] = np.nan\n",
    "HHSK_2nalevering['VigerendPeilgebiedZPP'].loc[HHSK_2nalevering['VigerendPeilgebiedZPP']['VASTPEIL'] == 0, 'VASTPEIL'] = np.nan\n",
    "HHSK_2nalevering['VigerendPeilgebiedZPP'].loc[HHSK_2nalevering['VigerendPeilgebiedZPP']['BOVENPEIL'] == 0, 'BOVENPEIL'] = np.nan\n",
    "HHSK_2nalevering['VigerendPeilgebiedZPP'].loc[HHSK_2nalevering['VigerendPeilgebiedZPP']['SCHOUWPEIL'] == 0, 'SCHOUWPEIL'] = np.nan"
   ]
  },
  {
   "cell_type": "code",
   "execution_count": 20,
   "id": "9ee954f4-c333-4bb4-8dcc-b1e1cd7c2b57",
   "metadata": {},
   "outputs": [],
   "source": [
    "#edit the peilgebiedpraktijk\n",
    "HHSK_2nalevering['PeilgebiedPraktijk']['ONDERPEIL'].fillna(HHSK_2nalevering['PeilgebiedPraktijk']['VASTPEIL'], inplace= True)\n",
    "HHSK_2nalevering['PeilgebiedPraktijk']['ONDERPEIL'].fillna(HHSK_2nalevering['PeilgebiedPraktijk']['BOVENPEIL'], inplace= True)\n",
    "HHSK_2nalevering['PeilgebiedPraktijk']['ONDERPEIL'].fillna(HHSK_2nalevering['PeilgebiedPraktijk']['SCHOUWPEIL'], inplace= True)\n",
    "\n",
    "HHSK['peilgebiedpraktijk'] = HHSK_2nalevering['PeilgebiedPraktijk'][['CODE', 'ONDERPEIL', 'BRONGID', 'geometry']]\n",
    "HHSK['peilgebiedpraktijk'] = HHSK_2nalevering['PeilgebiedPraktijk'].rename(columns = {'CODE': 'code',\n",
    "                                                                                      'ONDERPEIL': 'waterhoogte',\n",
    "                                                                                      'BRONGID': 'globalid'})"
   ]
  },
  {
   "cell_type": "code",
   "execution_count": 21,
   "id": "c37cfb5c-3b9e-4e57-b44c-3cbe610da093",
   "metadata": {},
   "outputs": [],
   "source": [
    "#edit the peilgebiedvigerend\n",
    "HHSK_2nalevering['VigerendPeilgebiedZPP']['ONDERPEIL'].fillna(HHSK_2nalevering['VigerendPeilgebiedZPP']['VASTPEIL'], inplace= True)\n",
    "HHSK_2nalevering['VigerendPeilgebiedZPP']['ONDERPEIL'].fillna(HHSK_2nalevering['VigerendPeilgebiedZPP']['BOVENPEIL'], inplace= True)\n",
    "HHSK_2nalevering['VigerendPeilgebiedZPP']['ONDERPEIL'].fillna(HHSK_2nalevering['VigerendPeilgebiedZPP']['SCHOUWPEIL'], inplace= True)\n",
    "\n",
    "HHSK['peilgebiedvigerend'] = HHSK_2nalevering['VigerendPeilgebiedZPP'][['CODE', 'ONDERPEIL', 'BRONGID', 'geometry']]\n",
    "HHSK['peilgebiedvigerend'] = HHSK_2nalevering['VigerendPeilgebiedZPP'].rename(columns = {'CODE': 'code',\n",
    "                                                                                         'ONDERPEIL': 'waterhoogte',\n",
    "                                                                                         'BRONGID': 'globalid'})"
   ]
  },
  {
   "cell_type": "code",
   "execution_count": 22,
   "id": "fd7bfade-497b-40bd-8345-8dc4fd3d172b",
   "metadata": {},
   "outputs": [],
   "source": [
    "#select the peilgebiedpraktijk which have a primaire hydroobject\n",
    "\n",
    "#pgp_pw : PeilGebiedPraktijk Primaire Watergang\n",
    "pgp_pw = gpd.sjoin(left_df = HHSK_2nalevering['PeilgebiedPraktijk'], \n",
    "                   right_df = HHSK['hydroobject'],\n",
    "                   how=\"inner\", \n",
    "                   predicate='contains',\n",
    "                   lsuffix = 'pgp',\n",
    "                   rsuffix = 'hydroobject').drop_duplicates(subset='CODE') \n"
   ]
  },
  {
   "cell_type": "markdown",
   "id": "8383b5e1-7bfa-4a89-b2a3-dfaf3a3f04d2",
   "metadata": {},
   "source": [
    "# Insert the manually created GPKG's"
   ]
  },
  {
   "cell_type": "raw",
   "id": "bb343e7a-62e5-426e-b10a-f498fe9aa9e2",
   "metadata": {},
   "source": [
    "There are too many zero's in the streefpeilen, both in the vaste peilen as well as the boven- or onderpeilen. Change everything to NaN to prevent wrong data. Consequence may be that streefpeilen which are actually 0 are removed, but its likely that still is just a small percentage of all peilgebieden, if any."
   ]
  },
  {
   "cell_type": "code",
   "execution_count": 23,
   "id": "58561bba-371e-4d7e-8c62-f670703b407f",
   "metadata": {},
   "outputs": [],
   "source": [
    "# VASTPEIL\tBOVENPEIL\tONDERPEIL\tSCHOUWPEIL"
   ]
  },
  {
   "cell_type": "code",
   "execution_count": 24,
   "id": "52e7fa05-264e-414b-a149-cf11aa8338c4",
   "metadata": {},
   "outputs": [],
   "source": [
    "first = gpd.read_file(r\"D:\\Users\\Bruijns\\Documents\\PR4750_20\\Data_preprocessed\\Waterschappen\\HHSK\\korte_analyse_nalevering_HHSK.gpkg\", layer = 'peilgebied_praktijk_met_primaire_watergangen')\n",
    "second = gpd.read_file(r\"D:\\Users\\Bruijns\\Documents\\PR4750_20\\Data_preprocessed\\Waterschappen\\HHSK\\korte_analyse_nalevering_HHSK.gpkg\", layer = 'peilgebied_vigerend_boven_1ha')\n",
    "areas = pd.concat([first, second])\n",
    "areas = gpd.GeoDataFrame(areas, geometry = 'geometry')\n",
    "areas = areas.loc[areas.area > 100] #filter out the smallest areas \n",
    "areas.reset_index(drop=True, inplace=True)\n",
    "\n",
    "areas.loc[areas['ONDERPEIL'] == 0, 'ONDERPEIL'] = np.nan\n",
    "areas.loc[areas['VASTPEIL'] == 0, 'VASTPEIL'] = np.nan\n",
    "areas.loc[areas['BOVENPEIL'] == 0, 'BOVENPEIL'] = np.nan\n",
    "areas.loc[areas['SCHOUWPEIL'] == 0, 'SCHOUWPEIL'] = np.nan\n",
    "\n",
    "\n",
    "areas['ONDERPEIL'].fillna(areas['VASTPEIL'], inplace= True)\n",
    "areas['ONDERPEIL'].fillna(areas['BOVENPEIL'], inplace= True)\n",
    "areas['ONDERPEIL'].fillna(areas['SCHOUWPEIL'], inplace= True)\n",
    "areas['waterhoogte'] = areas['ONDERPEIL']\n",
    "HHSK['peilgebied']  = areas\n",
    "HHSK['peilgebied'] = HHSK['peilgebied'].loc[HHSK['peilgebied']['CODE'] !='GPG-1206'] #Not a regular polygon\n",
    "HHSK['peilgebied'] = HHSK['peilgebied'].loc[:,['CODE', 'waterhoogte', 'geometry']]\n",
    "HHSK['peilgebied'] = HHSK['peilgebied'].rename(columns = {'CODE': 'code'})#,\n",
    "#                                                           'ONDERPEIL': 'waterhoogte',\n",
    "#                                                           'BRONGID': 'globalid'})\n",
    "\n",
    "\n",
    "# Remove and add the (splitted) boezem, partly manual\n",
    "HHSK['peilgebied'] = HHSK['peilgebied'].loc[HHSK['peilgebied'].code != 'PPG-237']\n",
    "HHSK['peilgebied'] = HHSK['peilgebied'].loc[HHSK['peilgebied'].code != 'PPG-1053']\n",
    "HHSK['peilgebied'] = HHSK['peilgebied'].loc[HHSK['peilgebied'].code != 'PPG-49']\n"
   ]
  },
  {
   "cell_type": "code",
   "execution_count": 25,
   "id": "5631e7ba-f5a0-4eaf-942a-3b6535a4ba8b",
   "metadata": {},
   "outputs": [],
   "source": [
    "\n",
    "splitted_boezem = gpd.read_file(r\"D:\\Users\\Bruijns\\Documents\\PR4750_20\\Data_preprocessed\\Waterschappen\\HHSK\\boezem\\boezem_split.shp\")\n",
    "splitted_boezem['code'] = splitted_boezem['code'].str.split('_').str[0]\n",
    "splitted_boezem = splitted_boezem[['code', 'nen3610id', 'globalid', 'geometry']]\n",
    "splitted_boezem = pd.merge(left=splitted_boezem,\n",
    "                           right = HHSK['peilgebied'][['code', 'waterhoogte']],\n",
    "                           left_on = 'code',\n",
    "                           right_on = 'code',\n",
    "                           how = 'left')\n",
    "splitted_boezem['code'] = splitted_boezem['code'] + '_boezem_' + splitted_boezem['code'].index.astype(str)\n",
    "\n",
    "HHSK['peilgebied'] = pd.concat([HHSK['peilgebied'], splitted_boezem]).reset_index(drop=True)\n",
    "#globalid is not unique, change\n",
    "# HHSK['peilgebied']['code'] = 'dummy_code_peilgebied_' + HHSK['peilgebied'].index.astype(str)\n",
    "HHSK['peilgebied']['nen3610id'] = 'dummy_nen3610id_peilgebied_' + HHSK['peilgebied'].index.astype(str)\n",
    "HHSK['peilgebied']['globalid'] = 'dummy_globalid_peilgebied_' + HHSK['peilgebied'].index.astype(str)\n",
    "\n",
    "HHSK['peilgebied'] = gpd.GeoDataFrame(HHSK['peilgebied'], geometry='geometry')"
   ]
  },
  {
   "cell_type": "code",
   "execution_count": 26,
   "id": "dd5ddc6f-6593-451c-8904-ad988d4137c8",
   "metadata": {},
   "outputs": [],
   "source": [
    "# test = gpd.GeoDataFrame(columns=['test', 'geometry'])\n",
    "# test['test'] = np.nan\n",
    "# test[0, 'geometry'] = dissolved_polygon\n",
    "# test.rename(columns={'(0, geometry)': 'geometry'}, inplace=True)\n",
    "# test['geometry'] = test.iloc[:, 2]\n",
    "# test = test[['geometry']]\n",
    "# test.set_crs('EPSG:28992')\n",
    "# test.to_file('snelle_test.gpkg', driver='GPKG') "
   ]
  },
  {
   "cell_type": "code",
   "execution_count": 27,
   "id": "f0d1d16e-8c2f-4258-b28b-0b509a710d3e",
   "metadata": {},
   "outputs": [],
   "source": [
    "peilbesluit = gpd.read_file(r\"D:\\Users\\Bruijns\\Documents\\PR4750_20\\Data_preprocessed\\Waterschappen\\HHSK\\poldergebieden_en_duikersifonhevels_persleidingen\\peilbesluit_hhsk.gpkg\")\n"
   ]
  },
  {
   "cell_type": "code",
   "execution_count": null,
   "id": "9b49add0-6c1c-46e7-9867-cf19bf5ae3f3",
   "metadata": {},
   "outputs": [],
   "source": []
  },
  {
   "cell_type": "code",
   "execution_count": 28,
   "id": "10009cfa-f240-4f4a-844e-fb4310207167",
   "metadata": {},
   "outputs": [
    {
     "name": "stderr",
     "output_type": "stream",
     "text": [
      "C:\\Users\\Bruijns\\Anaconda3\\lib\\site-packages\\IPython\\core\\interactiveshell.py:3377: FutureWarning: The `op` parameter is deprecated and will be removed in a future release. Please use the `predicate` parameter instead.\n",
      "  if (await self.run_code(code, result,  async_=asy)):\n"
     ]
    }
   ],
   "source": [
    "joined_gdf = gpd.sjoin(HHSK['peilgebied'], peilbesluit, how='left', op='intersects')\n",
    "# joined_gdf.globalid = joined_gdf.globalid.astype(str) + '_' + joined_gdf.globalid.index.astype(str)"
   ]
  },
  {
   "cell_type": "code",
   "execution_count": 29,
   "id": "dfca65da-384e-4604-81df-ddc152758f3c",
   "metadata": {},
   "outputs": [],
   "source": [
    "HHSK['peilgebied']['id'] = HHSK['peilgebied'].index\n",
    "HHSK['peilgebied']['area'] = HHSK['peilgebied'].area\n",
    "\n",
    "# Step 1: Calculate intersections with overlay, ensure to keep the identifier\n",
    "intersections = gpd.overlay(HHSK['peilgebied'], peilbesluit, how='intersection', keep_geom_type=False)\n",
    "intersections['intersection_area'] = intersections.area\n",
    "\n",
    "# Step 2: Merge back with HHSK['peilgebied'] to get the original areas using the identifier\n",
    "intersections = intersections.merge(HHSK['peilgebied'][['id', 'area']], left_on='id', right_on='id', how='left', suffixes=('', '_original'))\n",
    "\n",
    "# Step 3: Calculate the percentage of the intersection area relative to the original area\n",
    "intersections['overlap_percentage'] = (intersections['intersection_area'] / intersections['area_original']) * 100\n",
    "\n",
    "# Step 4: Filter out intersections with less than 10% overlap\n",
    "significant_intersections = intersections[intersections['overlap_percentage'] >= 10]\n",
    "\n",
    "# Step 5: Join significant intersections back to the original HHSK['peilgebied']\n",
    "joined_gdf = HHSK['peilgebied'].merge(significant_intersections[['id', 'NAAM']], on='id', how='left')\n"
   ]
  },
  {
   "cell_type": "code",
   "execution_count": 30,
   "id": "e04d6710-6ade-47bc-bb3c-3a8e0e64e0ba",
   "metadata": {},
   "outputs": [],
   "source": [
    "joined_gdf = joined_gdf.reset_index(drop=True)\n",
    "joined_gdf.sort_values(by=['globalid', 'area'], inplace=True)\n",
    "joined_gdf.drop_duplicates(subset='globalid', keep = 'first', inplace = True)\n",
    "joined_gdf = joined_gdf.reset_index(drop=True)\n",
    "HHSK['peilgebied'] = joined_gdf"
   ]
  },
  {
   "cell_type": "code",
   "execution_count": 31,
   "id": "69677287-9ba3-417b-bfd9-4c3358ea7c52",
   "metadata": {},
   "outputs": [],
   "source": [
    "# new_gdf = gpd.GeoDataFrame(columns=Zuiderzeeland['peilgebied'].columns())\n",
    "HHSK['peilgebied'] = HHSK['peilgebied'].explode(ignore_index=True).reset_index(drop=True) #explode to prevent multipolygons\n",
    "HHSK['peilgebied']['area'] = HHSK['peilgebied'].area\n",
    "\n",
    "#remove all areas which are smaller than 25 hectares (25*100*100)\n",
    "HHSK['peilgebied'] = HHSK['peilgebied'].loc[HHSK['peilgebied'].area > 25*100*100]"
   ]
  },
  {
   "cell_type": "code",
   "execution_count": null,
   "id": "e34ce435-3a9e-45b9-b043-bfa929b762bc",
   "metadata": {},
   "outputs": [],
   "source": []
  },
  {
   "cell_type": "code",
   "execution_count": 32,
   "id": "6842567f-a669-412b-8616-88975234f1ce",
   "metadata": {
    "scrolled": true,
    "tags": []
   },
   "outputs": [
    {
     "name": "stderr",
     "output_type": "stream",
     "text": [
      "C:\\Users\\Bruijns\\AppData\\Local\\Temp\\ipykernel_17744\\3850806707.py:9: FutureWarning: Currently, index_parts defaults to True, but in the future, it will default to False to be consistent with Pandas. Use `index_parts=True` to keep the current behavior and True/False to silence the warning.\n",
      "  exterior = exterior.explode().reset_index(drop=True)\n",
      "C:\\Users\\Bruijns\\AppData\\Roaming\\Python\\Python39\\site-packages\\geopandas\\geodataframe.py:1543: SettingWithCopyWarning: \n",
      "A value is trying to be set on a copy of a slice from a DataFrame.\n",
      "Try using .loc[row_indexer,col_indexer] = value instead\n",
      "\n",
      "See the caveats in the documentation: https://pandas.pydata.org/pandas-docs/stable/user_guide/indexing.html#returning-a-view-versus-a-copy\n",
      "  super().__setitem__(key, value)\n"
     ]
    },
    {
     "name": "stdout",
     "output_type": "stream",
     "text": [
      "No intersection found for iteration  38\n",
      "No intersection found for iteration  60\n",
      "No intersection found for iteration  92\n",
      "No intersection found for iteration  98\n",
      "No intersection found for iteration  103\n",
      "No intersection found for iteration  119\n",
      "No intersection found for iteration  142\n",
      "No intersection found for iteration  245\n",
      "No intersection found for iteration  389\n",
      "No intersection found for iteration  437\n"
     ]
    }
   ],
   "source": [
    "HHSK['peilgebied'] = HHSK['peilgebied'].explode(ignore_index=True)\n",
    "HHSK['peilgebied'] = HHSK['peilgebied'][HHSK['peilgebied'].geometry.type.isin(['Polygon', 'MultiPolygon'])] #also only select polygons\n",
    "\n",
    "\n",
    "HHSK['peilgebied']['area'] = HHSK['peilgebied'].area\n",
    "dissolved = HHSK['peilgebied'].dissolve()\n",
    "exterior = gpd.GeoDataFrame(geometry=dissolved['geometry'].boundary).to_crs(crs='EPSG:28992')\n",
    "HHSK['peilgebied'] = HHSK['peilgebied'].to_crs(crs='EPSG:28992')\n",
    "exterior = exterior.explode().reset_index(drop=True)\n",
    "exterior['geometry'] = exterior['geometry'].apply(convert_to_polygon)\n",
    "exterior['area'] = exterior.area\n",
    "exterior = exterior.sort_values(by='area', ascending=False).reset_index(drop=True)\n",
    "exterior = exterior.iloc[2::] #-2 as all rows should be taken into consideration, except the last two as HHSK consists of \"two islands\"\n",
    "exterior = exterior.reset_index(drop=True)\n",
    "\n",
    "#determine the polder at which each exterior is laying\n",
    "exterior['id'] = exterior.index\n",
    "exterior['area'] = exterior.area\n",
    "\n",
    "# intersections = gpd.overlay(exterior, peilbesluit, how='intersection', keep_geom_type=False)\n",
    "# intersections['intersection_area'] = intersections.area\n",
    "# intersections = intersections.merge(exterior[['id', 'area']], left_on='id', right_on='id', how='left', suffixes=('', '_original'))\n",
    "# intersections['overlap_percentage'] = (intersections['intersection_area'] / intersections['area_original']) * 100\n",
    "# significant_intersections = intersections[intersections['overlap_percentage'] >= 10]\n",
    "# joined_gdf2 = exterior.merge(significant_intersections[['id', 'NAAM']], on='id', how='left')\n",
    "\n",
    "intersections = gpd.overlay(exterior, peilbesluit, how='intersection', keep_geom_type=False)\n",
    "intersections['intersection_area'] = intersections.area\n",
    "intersections = intersections.merge(exterior[['id', 'area']], left_on='id', right_on='id', how='left', suffixes=('', '_original'))\n",
    "# intersections['overlap_percentage'] = (intersections['intersection_area'] / intersections['area_original']) * 100\n",
    "# significant_intersections = intersections[intersections['overlap_percentage'] >= 10]\n",
    "joined_gdf2 = exterior.merge(intersections[['id', 'NAAM']], on='id', how='left')\n",
    "\n",
    "\n",
    "joined_gdf2 = joined_gdf2.reset_index(drop=True)\n",
    "joined_gdf2.sort_values(by=['id', 'area'], inplace=True)\n",
    "joined_gdf2.drop_duplicates(subset='id', keep = 'first', inplace = True)\n",
    "exterior = joined_gdf2.reset_index(drop=True)\n",
    "\n",
    "\n",
    "\n",
    "for i in range(len(exterior)):\n",
    "# for i in range(10):\n",
    "\n",
    "    buffered_peilgebied = HHSK['peilgebied'].buffer(0.)\n",
    "\n",
    "    exterior_sample = exterior.iloc[i:i+1] #just pick a single sample\n",
    "    exterior_sample.geometry = exterior_sample.buffer(0.0001) #let op! hierdoor komt er alsnog een kleine overlap. Maar anders werkt de code even niet, en vanwege tijdgebrek kan dit nu niet worden opgelost. In het bepalen van de crossings wordt hier echter mee omgegaan.\n",
    "    exterior_sample_NAAM = exterior_sample.NAAM\n",
    "    \n",
    "    intersects_mask = buffered_peilgebied.intersects(exterior_sample.iloc[0].geometry)\n",
    "    intersecting_polygons = HHSK['peilgebied'][intersects_mask].sort_values(by='area', ascending=False)\n",
    "\n",
    "    intersecting_polygons = intersecting_polygons.loc[intersecting_polygons.NAAM.values == exterior_sample_NAAM.values]\n",
    "\n",
    "    if len(intersecting_polygons) > 0:\n",
    "        intersecting_polygons = gpd.GeoDataFrame(intersecting_polygons.iloc[0:1], geometry = 'geometry')\n",
    "        all_geometries = list(intersecting_polygons.geometry) + list(exterior_sample.geometry)\n",
    "\n",
    "        # Use unary_union to dissolve all polygons in the list\n",
    "        dissolved_polygon = unary_union(all_geometries)\n",
    "        \n",
    "        original_index = intersecting_polygons.index[0]\n",
    "\n",
    "        # Ensure it's a single geometry object.\n",
    "        HHSK['peilgebied'].loc[HHSK['peilgebied'].index == original_index, 'geometry'] = dissolved_polygon\n",
    "    else:\n",
    "        print('No intersection found for iteration ', i)"
   ]
  },
  {
   "cell_type": "code",
   "execution_count": 33,
   "id": "273a594e-3888-42ac-a829-3e5e29d0b6d5",
   "metadata": {},
   "outputs": [],
   "source": [
    "#door niet lekker liggende intekeningen met peilbesluiten, blijven er een aantal gaten inzitten...\n",
    "#handmatig gebieden aan andere toegekend. Helaas was dit nodig om zo een betere schematisatie af te leiden\n",
    "\n",
    "verwerkte_peilgebieden = gpd.read_file(r\"D:\\Users\\Bruijns\\Documents\\PR4750_20\\Data_preprocessed\\Waterschappen\\HHSK\\poldergebieden_en_duikersifonhevels_persleidingen\\Opgevulde_peilgebieden_dmv_nalevering_en_handmatige_aggregatie2.shp\")\n",
    "verwerkte_peilgebieden = gpd.GeoDataFrame(verwerkte_peilgebieden, geometry = 'geometry')"
   ]
  },
  {
   "cell_type": "code",
   "execution_count": 34,
   "id": "91639ee7-c7cc-4f60-bace-54f7d53b8fc3",
   "metadata": {},
   "outputs": [],
   "source": [
    "# for i in range(len(verwerkte_peilgebieden.loc[verwerkte_peilgebieden.CODE == 'PPG-1596'])):\n",
    "#     # display(verwerkte_peilgebieden.iloc[i])\n",
    "#     verwerkte_peilgebieden.loc[verwerkte_peilgebieden.CODE == 'PPG-1596'].iloc[i::i+1].plot()\n",
    "#     # plt.show()"
   ]
  },
  {
   "cell_type": "code",
   "execution_count": 35,
   "id": "14cf1a7e-ecba-471b-8b1b-0a204cd25fbf",
   "metadata": {},
   "outputs": [],
   "source": [
    "merged = pd.merge(verwerkte_peilgebieden,\n",
    "                  HHSK['peilgebied'],\n",
    "                  on = 'nen3610id')\n"
   ]
  },
  {
   "cell_type": "code",
   "execution_count": 36,
   "id": "17c316c2-5cba-44d6-86a0-1c18ce961fe7",
   "metadata": {},
   "outputs": [],
   "source": [
    "merged['geometry'] = merged['geometry_x']\n",
    "merged['globalid'] = merged['globalid_x']\n",
    "\n",
    "\n",
    "merged = merged[['code', 'waterhoogte', 'nen3610id', 'globalid', 'geometry']]"
   ]
  },
  {
   "cell_type": "code",
   "execution_count": 37,
   "id": "c4803353-c4e8-4f41-8dcd-c82e9f5b2481",
   "metadata": {},
   "outputs": [],
   "source": [
    "twee_overige_gebieden = gpd.read_file(r\"D:\\Users\\Bruijns\\Documents\\PR4750_20\\Data_preprocessed\\Waterschappen\\HHSK\\poldergebieden_en_duikersifonhevels_persleidingen\\2_overige_gebieden.shp\")\n",
    "twee_overige_gebieden['code'] = 'code_2_overige_gebieden_' + twee_overige_gebieden.index.astype(str)\n",
    "twee_overige_gebieden['nen3610id'] = 'nen3610id_2_overige_gebieden_' + twee_overige_gebieden.index.astype(str)\n",
    "twee_overige_gebieden['globalid'] = 'globalid_2_overige_gebieden_' + twee_overige_gebieden.index.astype(str)\n",
    "twee_overige_gebieden['waterhoogte'] = -5.95\n",
    "\n",
    "twee_overige_gebieden = twee_overige_gebieden[['code', 'waterhoogte', 'nen3610id', 'globalid', 'geometry']]\n",
    "\n",
    "merged = gpd.GeoDataFrame(pd.concat([merged, twee_overige_gebieden]), geometry = 'geometry')\n",
    "HHSK['peilgebied'] = merged.reset_index(drop=True)"
   ]
  },
  {
   "cell_type": "code",
   "execution_count": 38,
   "id": "273a404b-5fc6-4c75-a1a9-a14e44b5b86c",
   "metadata": {},
   "outputs": [],
   "source": [
    "# HHSK['streefpeil']['last_id'] = HHSK['streefpeil']['globalid'].str.split('area_').str[1]\n",
    "# HHSK['verwerkte_peilgebieden']['last_id'] = HHSK['streefpeil']['globalid'].str.split('area_').str[1]"
   ]
  },
  {
   "cell_type": "code",
   "execution_count": 39,
   "id": "89e3b294-8100-4631-b2c3-6fc2464e1b94",
   "metadata": {},
   "outputs": [],
   "source": [
    "# verwerkte_peilgebieden.loc[verwerkte_peilgebieden.VASTPEIL.isna()].plot()"
   ]
  },
  {
   "cell_type": "code",
   "execution_count": 40,
   "id": "7df9baa4-7092-4401-be9a-fd3a451c38b0",
   "metadata": {},
   "outputs": [],
   "source": [
    "# pgv_diff = gpd.sjoin(left_df =  HHSK['peilgebiedvigerend'],\n",
    "#                      right_df = pgp_pw,\n",
    "#                      how = \"left\",\n",
    "#                      predicate = 'intersects')"
   ]
  },
  {
   "cell_type": "code",
   "execution_count": 41,
   "id": "a03b9016-af7d-4c4e-a10b-1f2ea2ee9254",
   "metadata": {},
   "outputs": [],
   "source": [
    "# pgv_diff.drop_duplicates()#.plot()"
   ]
  },
  {
   "cell_type": "code",
   "execution_count": 42,
   "id": "9736e6e4-0e8f-4396-a1f4-3b4f3e9bf690",
   "metadata": {},
   "outputs": [],
   "source": [
    "# streefpeilen_PG_v = pd.merge(left = HHSK['peilgebiedvigerend'],\n",
    "#                              right = HHSK['streefpeil'],\n",
    "#                              left_on = 'globalid',\n",
    "#                              right_on = 'peilgebiedvigerendid',\n",
    "#                              suffixes = ('', '_streefpeil'))[['code', 'nen3610id', 'globalid', 'waterhoogte', 'geometry']]\n",
    "\n",
    "# streefpeilen_PG_a = pd.merge(left = HHSK['peilafwijkinggebied'],\n",
    "#                              right = HHSK['streefpeil'],\n",
    "#                              left_on = 'globalid',\n",
    "#                              right_on = 'peilafwijkinggebiedid',\n",
    "#                              suffixes = ('', '_streefpeil'))[['code', 'nen3610id', 'globalid', 'waterhoogte', 'geometry']]\n",
    "\n",
    "# fig, ax = plt.subplots()\n",
    "# streefpeilen_PG_v.plot(ax = ax, color='cornflowerblue')\n",
    "# streefpeilen_PG_a.plot(ax = ax, color='blue')"
   ]
  },
  {
   "cell_type": "code",
   "execution_count": 43,
   "id": "b5d16748-7262-4e43-baa2-f182cb8dd142",
   "metadata": {},
   "outputs": [],
   "source": [
    "# streefpeilen_PG_v.to_file('vigerend.shp')\n",
    "# streefpeilen_PG_a.to_file('afwijking.shp')"
   ]
  },
  {
   "cell_type": "code",
   "execution_count": 44,
   "id": "0292ab77-acfd-4666-9c3b-b9bd8c1f1fec",
   "metadata": {},
   "outputs": [],
   "source": [
    "# peilgebied = burn_in_peilgebieden(base_layer = streefpeilen_PG_v, \n",
    "#                                   overlay_layer = streefpeilen_PG_a,\n",
    "#                                   plot = True)"
   ]
  },
  {
   "cell_type": "code",
   "execution_count": 45,
   "id": "b9740281-ce51-4146-b05e-ca02a74bde50",
   "metadata": {},
   "outputs": [],
   "source": [
    "# HHSK['peilgebied'].code = HHSK['peilgebied'].dropna(subset='code')"
   ]
  },
  {
   "cell_type": "code",
   "execution_count": null,
   "id": "2a4dfd7e-5542-4922-830b-431ccb04d084",
   "metadata": {},
   "outputs": [],
   "source": []
  },
  {
   "cell_type": "code",
   "execution_count": 46,
   "id": "d49f52a9-0a9a-4fff-8359-a0b0abb063e6",
   "metadata": {},
   "outputs": [],
   "source": [
    "HHSK['peilgebied'].loc[HHSK['peilgebied'].code.str.contains('PPG-49_boezem'), 'waterhoogte'] = -2.15\n",
    "HHSK['peilgebied'].loc[HHSK['peilgebied'].code.str.contains('PPG-237_boezem'), 'waterhoogte'] = -0.9\n",
    "HHSK['peilgebied'].loc[HHSK['peilgebied'].code.str.contains('PPG-1053_boezem'), 'waterhoogte'] = -2.1\n"
   ]
  },
  {
   "cell_type": "code",
   "execution_count": null,
   "id": "a9839425-5b7e-4acf-b474-7cb0e7c9311e",
   "metadata": {},
   "outputs": [],
   "source": []
  },
  {
   "cell_type": "code",
   "execution_count": 47,
   "id": "40d3866c-e672-4a20-8989-8e020adf59a5",
   "metadata": {},
   "outputs": [
    {
     "data": {
      "text/plain": [
       "1"
      ]
     },
     "execution_count": 47,
     "metadata": {},
     "output_type": "execute_result"
    }
   ],
   "source": [
    "1"
   ]
  },
  {
   "cell_type": "code",
   "execution_count": 48,
   "id": "88e9543c-2dbe-4ebf-9423-b38daeeaa004",
   "metadata": {},
   "outputs": [],
   "source": [
    "# HHSK['peilgebied'] = gpd.GeoDataFrame(peilgebied[['code', 'nen3610id', 'globalid', 'geometry']])"
   ]
  },
  {
   "cell_type": "markdown",
   "id": "51df5dde-d374-4ae3-8d43-1c495581f021",
   "metadata": {},
   "source": [
    "### Delete irrelevant data"
   ]
  },
  {
   "cell_type": "code",
   "execution_count": 49,
   "id": "42dc4ba1-3ccb-4b0f-a075-77aec9b85a07",
   "metadata": {},
   "outputs": [],
   "source": [
    "#retrieve the original hydroobjecten back, where also the secundairy and tertiairy hydroobjects are present\n",
    "# HHSK['hydroobject'] = HHSK['hydroobject_original']\n",
    "\n",
    "#delete irrelvant data\n",
    "variables = ['peilgebiedpraktijk', 'peilgebiedvigerend', 'peilafwijkinggebied', 'hydroobject_original']\n",
    "\n",
    "for variable in variables:\n",
    "    if str(variable) in HHSK:\n",
    "        del HHSK[variable]"
   ]
  },
  {
   "cell_type": "code",
   "execution_count": 50,
   "id": "375f1598-03c1-48a1-bb19-54790273dad0",
   "metadata": {},
   "outputs": [],
   "source": [
    "HHSK['hydroobject'] = HHSK['hydroobject'][['code', 'globalid', 'nen3610id', 'geometry']]\n",
    "\n",
    "#add duikersifonhevels to the hydroobjecten    \n",
    "HHSK['hydroobject'] = pd.concat([HHSK['hydroobject'], HHSK['duikersifonhevel']])\n",
    "HHSK['hydroobject'] = HHSK['hydroobject'].drop_duplicates(subset='globalid') #in case it is run multiple times\n",
    "HHSK['hydroobject'] = gpd.GeoDataFrame(HHSK['hydroobject']).set_crs('epsg:28992')\n"
   ]
  },
  {
   "cell_type": "raw",
   "id": "02e1dd84-468f-4a36-94fe-6a0e66b61e41",
   "metadata": {},
   "source": [
    "Another additional data delivery. In short, the network looked fine, except some peilgebieden were aggregated which should not be aggregated. HHSK did some (handmade) changes to cut them up. So, the majority of the processings steps of above are been part of the aggregation area as loaded in here below, except some changes. "
   ]
  },
  {
   "cell_type": "code",
   "execution_count": 51,
   "id": "ebca513a-fb19-4f36-807e-b5f2c40e00bf",
   "metadata": {},
   "outputs": [],
   "source": [
    "aggregation_area = gpd.read_file(r\"D:\\Users\\Bruijns\\Documents\\PR4750_20\\Data_preprocessed\\Waterschappen\\HHSK\\20240701_losseshapes\\basin_area_hhsk.shp\")\n",
    "HHSK['aggregation_area'] = aggregation_area\n",
    "HHSK['aggregation_area']['globalid'] = 'dummy_globalid_' + HHSK['aggregation_area'].index.astype(str)\n",
    "HHSK['aggregation_area']['nen3610id'] = 'dummy_nen3610id_' + HHSK['aggregation_area'].index.astype(str)\n",
    "HHSK['aggregation_area']['code'] = 'dummy_code_' + HHSK['aggregation_area'].index.astype(str)"
   ]
  },
  {
   "cell_type": "markdown",
   "id": "00979679-8879-4453-8765-d26d0251b5be",
   "metadata": {},
   "source": [
    "### The streefpeilen are not correct anymore. Load in an old data delivery, and retrieve the streefpeilen by using a spatial join"
   ]
  },
  {
   "cell_type": "code",
   "execution_count": 52,
   "id": "ea265bc0-7947-42f5-9bf5-688ee332a2ac",
   "metadata": {},
   "outputs": [],
   "source": [
    "#read file with old streefpeilen\n",
    "old_SP = r\"D:\\Users\\Bruijns\\Documents\\PR4750_20\\Data_preprocessed\\Waterschappen\\HHSK\\hhsklevering_07032024.gpkg\"\n",
    "old_SP = gpd.read_file(old_SP)\n",
    "\n",
    "#replace 0 with nan\n",
    "old_SP.loc[old_SP['ONDERPEIL'] == 0, 'ONDERPEIL'] = np.nan\n",
    "old_SP.loc[old_SP['VASTPEIL'] == 0, 'VASTPEIL'] = np.nan\n",
    "old_SP.loc[old_SP['BOVENPEIL'] == 0, 'BOVENPEIL'] = np.nan\n",
    "old_SP.loc[old_SP['SCHOUWPEIL'] == 0, 'SCHOUWPEIL'] = np.nan\n",
    "\n",
    "#fill nan with actual values\n",
    "old_SP['ONDERPEIL'].fillna(old_SP['VASTPEIL'], inplace= True)\n",
    "old_SP['ONDERPEIL'].fillna(old_SP['BOVENPEIL'], inplace= True)\n",
    "old_SP['ONDERPEIL'].fillna(old_SP['SCHOUWPEIL'], inplace= True)\n",
    "old_SP['waterhoogte'] = old_SP['ONDERPEIL']\n",
    "\n",
    "#repeat for the NAAM\n",
    "old_SP['NAAM'].replace(to_replace = ' ', value = '', inplace=True)\n",
    "old_SP['NAAM'].replace(to_replace = '', value = np.nan, inplace=True)\n",
    "old_SP['NAAM'].fillna(old_SP['PEILBESLUI'], inplace= True)\n",
    "\n",
    "#rename\n",
    "old_SP = old_SP[['CODE', 'NAAM', 'PEILBESLUI', 'waterhoogte', 'geometry']]\n",
    "old_SP.rename(columns = {'CODE': 'code',\n",
    "                        'NAAM': 'globalid',\n",
    "                        'PEILBESLUI' : 'nen3610id'}, inplace=True)"
   ]
  },
  {
   "cell_type": "code",
   "execution_count": 53,
   "id": "016c1dc0-6ff5-416c-8653-2e677ba6065b",
   "metadata": {},
   "outputs": [],
   "source": [
    "HHSK['aggregation_area']['repr_point'] = HHSK['aggregation_area']['geometry'].representative_point()\n",
    "joined_gdf = gpd.sjoin(aggregation_area.set_geometry('repr_point'), old_SP, how='left', predicate='intersects')\n",
    "joined_gdf.rename(columns={'code_right':'code',\n",
    "                           'globalid_right': 'globalid',\n",
    "                           'nen3610id_right': 'nen3610id'}, inplace=True)\n",
    "joined_gdf = joined_gdf[['code', 'globalid', 'nen3610id', 'waterhoogte', 'geometry']]"
   ]
  },
  {
   "cell_type": "code",
   "execution_count": 54,
   "id": "672e16ff-b307-4448-95dd-b0338fbfcb29",
   "metadata": {},
   "outputs": [],
   "source": [
    "#make unique rows\n",
    "joined_gdf['code'] = joined_gdf['code'] + '_' + joined_gdf.index.astype(str)\n",
    "joined_gdf['globalid'] = joined_gdf['globalid'] + '_' + joined_gdf.index.astype(str)\n",
    "joined_gdf['nen3610id'] = joined_gdf['nen3610id'] + '_' + joined_gdf.index.astype(str)\n",
    "\n",
    "#change all comma's to underscores\n",
    "joined_gdf.code = joined_gdf.code.str.replace(pat = ',', repl = '_')\n",
    "joined_gdf.nen3610id = joined_gdf.nen3610id.str.replace(pat = ',', repl = '_')\n",
    "joined_gdf.globalid = joined_gdf.globalid.str.replace(pat = ',', repl = '_')\n",
    "\n",
    "#make floats of the waterhoogte, just to be sure\n",
    "joined_gdf.waterhoogte = joined_gdf.waterhoogte.astype(float)"
   ]
  },
  {
   "cell_type": "code",
   "execution_count": 55,
   "id": "8f28c04c-f435-404e-89b8-a64798395c44",
   "metadata": {},
   "outputs": [
    {
     "name": "stderr",
     "output_type": "stream",
     "text": [
      "C:\\Users\\Bruijns\\AppData\\Roaming\\Python\\Python39\\site-packages\\geopandas\\geodataframe.py:1543: SettingWithCopyWarning: \n",
      "A value is trying to be set on a copy of a slice from a DataFrame.\n",
      "Try using .loc[row_indexer,col_indexer] = value instead\n",
      "\n",
      "See the caveats in the documentation: https://pandas.pydata.org/pandas-docs/stable/user_guide/indexing.html#returning-a-view-versus-a-copy\n",
      "  super().__setitem__(key, value)\n"
     ]
    }
   ],
   "source": [
    "HHSK['aggregation_area'] = gpd.GeoDataFrame(joined_gdf, geometry = 'geometry')\n",
    "HHSK['peilgebied'] = HHSK['aggregation_area'][['code', 'nen3610id', 'globalid', 'geometry']]\n",
    "HHSK['streefpeil'] = HHSK['aggregation_area'][['waterhoogte', 'globalid', 'geometry']]\n",
    "HHSK['streefpeil']['geometry'] = np.nan\n",
    "\n",
    "HHSK['aggregation_area'] = HHSK['aggregation_area'][['code', 'nen3610id', 'globalid', 'geometry']]"
   ]
  },
  {
   "cell_type": "code",
   "execution_count": 56,
   "id": "99cd52fe-923f-4411-bc9a-e9ef1ae56121",
   "metadata": {},
   "outputs": [],
   "source": [
    "# # HHSK['aggregation_area'] = HHSK['peilgebied']\n",
    "# HHSK['aggregation_area'] = aggregation_area\n",
    "# HHSK['aggregation_area']['globalid'] = 'dummy_globalid_agg_area_' + HHSK['aggregation_area'].index.astype(str)\n",
    "# HHSK['aggregation_area']['code'] = 'dummy_code_' + HHSK['aggregation_area'].index.astype(str)\n"
   ]
  },
  {
   "cell_type": "code",
   "execution_count": 57,
   "id": "cd21bcac-8d25-4d47-ad0a-c7338e6e6653",
   "metadata": {},
   "outputs": [],
   "source": [
    "# # stop\n",
    "# streefpeil = gpd.GeoDataFrame()\n",
    "# streefpeil['waterhoogte'] = HHSK['peilgebied']['waterhoogte']\n",
    "# streefpeil['globalid'] = HHSK['peilgebied']['globalid']\n",
    "# streefpeil['geometry'] = np.nan\n",
    "# HHSK['streefpeil'] = streefpeil #gpd.GeoDataFrame(HHSK['peilgebied'])\n",
    "# HHSK['streefpeil'].waterhoogte = HHSK['streefpeil'].waterhoogte.round(2)\n",
    "# HHSK['peilgebied'] = HHSK['peilgebied'][['geometry', 'code', 'nen3610id', 'globalid']]"
   ]
  },
  {
   "cell_type": "code",
   "execution_count": 58,
   "id": "15800d54-0cfd-481f-9e61-57f50b862e02",
   "metadata": {},
   "outputs": [],
   "source": [
    "# HHSK['streefpeil'].waterhoogte#.plot()"
   ]
  },
  {
   "cell_type": "code",
   "execution_count": 59,
   "id": "1803b0c0-4f61-416e-a27b-ff4e2050aa46",
   "metadata": {},
   "outputs": [
    {
     "data": {
      "text/plain": [
       "<AxesSubplot:>"
      ]
     },
     "execution_count": 59,
     "metadata": {},
     "output_type": "execute_result"
    },
    {
     "data": {
      "image/png": "[encoded data removed]",
      "text/plain": [
       "<Figure size 640x480 with 1 Axes>"
      ]
     },
     "metadata": {},
     "output_type": "display_data"
    }
   ],
   "source": [
    "HHSK['peilgebied'].plot()"
   ]
  },
  {
   "cell_type": "markdown",
   "id": "21ccbba5-8e59-4134-9209-db988bc5c3d5",
   "metadata": {},
   "source": [
    "### Check for the correct keys and columns"
   ]
  },
  {
   "cell_type": "code",
   "execution_count": 60,
   "id": "b064a376-0396-4c93-a2ad-eca3eea54598",
   "metadata": {},
   "outputs": [
    {
     "name": "stdout",
     "output_type": "stream",
     "text": [
      "stuw\n",
      "['code' 'nen3610id' 'globalid' 'geometry']\n",
      "type =  <class 'geopandas.geodataframe.GeoDataFrame'>\n",
      "crs =  EPSG:28992\n",
      "\n",
      "gemaal\n",
      "['code' 'nen3610id' 'globalid' 'func_afvoer' 'func_aanvoer'\n",
      " 'func_circulatie' 'geometry']\n",
      "type =  <class 'geopandas.geodataframe.GeoDataFrame'>\n",
      "crs =  EPSG:28992\n",
      "\n",
      "afsluitmiddel\n",
      "['code' 'nen3610id' 'globalid' 'geometry']\n",
      "type =  <class 'geopandas.geodataframe.GeoDataFrame'>\n",
      "crs =  EPSG:28992\n",
      "\n",
      "streefpeil\n",
      "['waterhoogte' 'globalid' 'geometry']\n",
      "type =  <class 'geopandas.geodataframe.GeoDataFrame'>\n",
      "crs =  epsg:28992\n",
      "\n",
      "duikersifonhevel\n",
      "['code' 'nen3610id' 'globalid' 'geometry']\n",
      "type =  <class 'geopandas.geodataframe.GeoDataFrame'>\n",
      "crs =  epsg:28992\n",
      "\n",
      "hydroobject\n",
      "['code' 'globalid' 'nen3610id' 'geometry']\n",
      "type =  <class 'geopandas.geodataframe.GeoDataFrame'>\n",
      "crs =  epsg:28992\n",
      "\n",
      "peilgebied\n",
      "['code' 'nen3610id' 'globalid' 'geometry']\n",
      "type =  <class 'geopandas.geodataframe.GeoDataFrame'>\n",
      "crs =  epsg:28992\n",
      "\n",
      "aggregation_area\n",
      "['code' 'nen3610id' 'globalid' 'geometry']\n",
      "type =  <class 'geopandas.geodataframe.GeoDataFrame'>\n",
      "crs =  epsg:28992\n",
      "\n"
     ]
    }
   ],
   "source": [
    "show_layers_and_columns(waterschap = HHSK)"
   ]
  },
  {
   "cell_type": "markdown",
   "id": "e4e74b4c-17ba-4829-9531-248f4d74cfad",
   "metadata": {},
   "source": [
    "### Store data"
   ]
  },
  {
   "cell_type": "code",
   "execution_count": 61,
   "id": "556aea48-a819-4f70-8e22-6c843354a46d",
   "metadata": {},
   "outputs": [],
   "source": [
    "# Check if the directory exists\n",
    "if not os.path.exists(output_gpkg_path):\n",
    "    # If it doesn't exist, create it\n",
    "    os.makedirs(output_gpkg_path)\n",
    "    \n",
    "store_data(waterschap = HHSK, \n",
    "           output_gpkg_path = output_gpkg_path + '/HHSK')\n"
   ]
  },
  {
   "cell_type": "code",
   "execution_count": 62,
   "id": "f60d7964-db4d-4c9f-9861-356a2a881382",
   "metadata": {},
   "outputs": [
    {
     "name": "stdout",
     "output_type": "stream",
     "text": [
      "12509\n",
      "12509\n"
     ]
    }
   ],
   "source": [
    "print(len(HHSK['duikersifonhevel'].globalid.unique()))\n",
    "print(len(HHSK['duikersifonhevel'].globalid))"
   ]
  },
  {
   "cell_type": "code",
   "execution_count": null,
   "id": "0a681bab-0174-4b54-94ac-fac1479612a5",
   "metadata": {},
   "outputs": [],
   "source": []
  }
 ],
 "metadata": {
  "kernelspec": {
   "display_name": "Routing",
   "language": "python",
   "name": "routing"
  },
  "language_info": {
   "codemirror_mode": {
    "name": "ipython",
    "version": 3
   },
   "file_extension": ".py",
   "mimetype": "text/x-python",
   "name": "python",
   "nbconvert_exporter": "python",
   "pygments_lexer": "ipython3",
   "version": "3.9.13"
  }
 },
 "nbformat": 4,
 "nbformat_minor": 5
}
