{
 "cells": [
  {
   "cell_type": "markdown",
   "id": "690952c5-5037-476a-a660-d54fec614748",
   "metadata": {},
   "source": [
    "# Hollandse Delta"
   ]
  },
  {
   "cell_type": "markdown",
   "id": "e9e378d7-8f05-4562-87b0-34978ba61554",
   "metadata": {},
   "source": [
    "This script adds a new column \"peilgebied_cat\" and makes sure the peilgebieden allign with the HWS layer (Daniel):\n",
    "- peilgebied_cat = 0 -> peilgebied\n",
    "- peigelbied_cat = 1 -> RHWS (boezem)\n",
    "- peilgebied_cat = 2 -> NHWS "
   ]
  },
  {
   "cell_type": "code",
   "execution_count": 1,
   "id": "0c27c7a4-5733-46ea-970f-cd985b8c92cd",
   "metadata": {},
   "outputs": [],
   "source": [
    "import geopandas as gpd\n",
    "import numpy as np\n",
    "\n",
    "%load_ext autoreload\n",
    "%autoreload 2\n",
    "\n",
    "from general_functions import *"
   ]
  },
  {
   "cell_type": "markdown",
   "id": "dc1f28d2-8499-4ebb-906e-1724bd334aac",
   "metadata": {},
   "source": [
    "## Delfland"
   ]
  },
  {
   "cell_type": "code",
   "execution_count": 2,
   "id": "e15206a7-6639-40bb-9942-f920085f53b4",
   "metadata": {},
   "outputs": [],
   "source": [
    "#define relative paths\n",
    "waterschap = 'Hollandse_Delta'\n",
    "waterschap2 = 'HD'\n",
    "\n",
    "data_path = f\"../projects/4750_20/Data_postprocessed/Waterschappen/{waterschap}/{waterschap2}.gpkg\"\n",
    "\n",
    "# Waterschaps boundaries\n",
    "grens_path = \"../projects/4750_30/Data_overig/Waterschapsgrenzen/Waterschapsgrenzen.geojson\"\n",
    "# Hoofdwatersysteem boundaries\n",
    "hws_path = \"../projects/4750_30/Data_overig/HWS/krw_basins_vlakken.gpkg\"\n",
    "# Buffer boundaries\n",
    "buffer_path =  f\"../projects/4750_30/Data_overig/HWS/hws_buffer_hd.gpkg\"\n",
    "# Output folder\n",
    "output_folder = f\"./Waterschappen/{waterschap}\""
   ]
  },
  {
   "cell_type": "markdown",
   "id": "7bbafed8-355a-4ec9-90c9-eca9e3b9313d",
   "metadata": {},
   "source": [
    "### Load Files"
   ]
  },
  {
   "cell_type": "code",
   "execution_count": 3,
   "id": "0f6dcf56-e8a4-4055-bc86-a6d33c91d8d8",
   "metadata": {},
   "outputs": [],
   "source": [
    "# Load HHNK files\n",
    "HD = read_gpkg_layers(gpkg_path = data_path, \n",
    "                    variables = ['stuw', \n",
    "                                 'gemaal', \n",
    "                                 'hydroobject',\n",
    "                                 'duikersifonhevel',\n",
    "                                 'peilgebied', \n",
    "                                 'streefpeil',\n",
    "                                ])\n",
    "HD['peilgebied'] = HD['peilgebied'].to_crs('EPSG:28992')\n",
    "\n",
    "# Load waterschap boundaries\n",
    "gdf_grens = gpd.read_file(grens_path)\n",
    "gdf_grens = gdf_grens.to_crs('EPSG:28992')\n",
    "gdf_grens = gdf_grens.set_index('waterschap')\n",
    "\n",
    "# Load hws\n",
    "gdf_hws = gpd.read_file(hws_path)\n",
    "\n",
    "# Load buffer\n",
    "gdf_buffer = gpd.read_file(buffer_path)\n",
    "gdf_buffer = gdf_buffer.to_crs('EPSG:28992')\n",
    "gdf_buffer = gdf_buffer.dissolve()"
   ]
  },
  {
   "cell_type": "markdown",
   "id": "5556d211-e92e-4ba3-85c2-4ff9bd33fbeb",
   "metadata": {},
   "source": [
    "## Select waterschap boundaries and clip hws layer"
   ]
  },
  {
   "cell_type": "code",
   "execution_count": 4,
   "id": "c70bb838-9d93-4d5a-ae12-2da18d145009",
   "metadata": {
    "tags": []
   },
   "outputs": [],
   "source": [
    "# Select boundaries HH Amstel, Gooi en Vecht\n",
    "gdf_grens = gdf_grens.loc[['Waterschap Hollandse Delta']]\n",
    "\n",
    "# Use waterschap boudnaries to clip HWS layer\n",
    "gdf_hws = gpd.overlay(gdf_grens, gdf_hws, how='intersection')"
   ]
  },
  {
   "cell_type": "markdown",
   "id": "d0ed9e9b-258b-4f16-8bcb-b9d412a8c8c3",
   "metadata": {},
   "source": [
    "## Peilgebied and HWS layer overlap:\n",
    "1. Identify the overlapping areas\n",
    "2. Clip\n",
    "3. Calculate overlapping area percentage\n",
    "4. Filter"
   ]
  },
  {
   "cell_type": "code",
   "execution_count": 5,
   "id": "05757b4b-2f8e-48a6-a76c-9e06e23f20da",
   "metadata": {},
   "outputs": [
    {
     "name": "stdout",
     "output_type": "stream",
     "text": [
      "Number of overlapping shapes without filter: 177\n",
      "Number of overlapping shapes with filter: 0\n"
     ]
    }
   ],
   "source": [
    "# Step 1: Identify the Overlapping Areas and clip\n",
    "overlaps = gpd.overlay(HD['peilgebied'], gdf_hws, how='intersection', keep_geom_type=True)\n",
    "\n",
    "# # Step 2: Subtract Overlapping Areas from the original polygons in each DataFrame\n",
    "non_overlapping_peilgebied = gpd.overlay(HD['peilgebied'], overlaps, how='difference', keep_geom_type=True)\n",
    "overlaps = gpd.overlay(non_overlapping_peilgebied, gdf_hws, how='intersection', keep_geom_type=False)\n",
    " \n",
    "# Step 3: Calculate Area Percentages\n",
    "# Calculate the area of overlaps\n",
    "overlaps['overlap_area'] = overlaps.area\n",
    "\n",
    "# Step 4: Filter based on area Area Percentages\n",
    "minimum_area = 500\n",
    "print(f'Number of overlapping shapes without filter: {len(overlaps)}')\n",
    "overlap_ids = overlaps.loc[overlaps['overlap_area'] > minimum_area]\n",
    "overlap_ids = overlap_ids.globalid.to_list()\n",
    "print(f'Number of overlapping shapes with filter: {len(overlap_ids)}')"
   ]
  },
  {
   "cell_type": "markdown",
   "id": "942d281a-aa46-4b57-af3a-f4e2df811b26",
   "metadata": {},
   "source": [
    "## Create peilgebied_cat column"
   ]
  },
  {
   "cell_type": "code",
   "execution_count": 6,
   "id": "5793dd3d-766d-46bd-811e-4c8b6e118d3a",
   "metadata": {},
   "outputs": [],
   "source": [
    "# Add occurence to geodataframe\n",
    "peilgebieden_cat = []\n",
    "\n",
    "for index, row in HD['peilgebied'].iterrows():\n",
    "       \n",
    "    if row.code == 'Zuiderdiepboezem en havenkanaal Dirksland':\n",
    "        peilgebieden_cat.append(1)\n",
    "    elif row.code == 'Havenkanaal van Goedereede':\n",
    "        peilgebieden_cat.append(1)\n",
    "    elif row.code == 'Zoetwaterboezem':\n",
    "        peilgebieden_cat.append(1)\n",
    "    elif row.code == 'Kanaal door Voorne':\n",
    "        peilgebieden_cat.append(1)\n",
    "    elif row.code == 'Binnenbedijkte Maas':\n",
    "        peilgebieden_cat.append(1)\n",
    "    elif row.code == 'Boezemloozende door Strijensas':\n",
    "        peilgebieden_cat.append(1)\n",
    "    else:\n",
    "        peilgebieden_cat.append(0)\n",
    "        \n"
   ]
  },
  {
   "cell_type": "code",
   "execution_count": 7,
   "id": "d0e88867-184b-48b5-a10f-ba8816f10dcc",
   "metadata": {},
   "outputs": [],
   "source": [
    "# Add new column\n",
    "HD['peilgebied']['peilgebied_cat'] = peilgebieden_cat"
   ]
  },
  {
   "cell_type": "markdown",
   "id": "8ab1e249-a9cc-4728-bfce-d9c965da18df",
   "metadata": {},
   "source": [
    "## Add nhws to ['peilgebied','streefpeil']"
   ]
  },
  {
   "cell_type": "code",
   "execution_count": 8,
   "id": "e60dbbe9-1f27-4a71-b10b-1ecf3c53b060",
   "metadata": {},
   "outputs": [],
   "source": [
    "# update peilgebied dict key\n",
    "gdf_hws['globalid'] = 'dummy_globalid_nhws_' + gdf_hws.index.astype(str)\n",
    "gdf_hws['code'] = 'dummy_code_nhws_' + gdf_hws.index.astype(str)\n",
    "gdf_hws['nen3610id'] = 'dummy_nen3610id_nhws_' + gdf_hws.index.astype(str)\n",
    "gdf_hws['peilgebied_cat'] = 2\n",
    "\n",
    "gdf_hws = gdf_hws[['globalid', 'code', 'nen3610id', 'peilgebied_cat', 'geometry']]\n",
    "\n",
    "HD['peilgebied'] = pd.concat([gdf_hws, HD['peilgebied']])"
   ]
  },
  {
   "cell_type": "code",
   "execution_count": 9,
   "id": "03ff37c8-16cc-4cdc-9a1b-ea10f06ea630",
   "metadata": {},
   "outputs": [],
   "source": [
    "# Create boezem streefpeil layer\n",
    "streefpeil_hws = pd.DataFrame()\n",
    "streefpeil_hws['waterhoogte'] = [np.nan] * len(gdf_hws)\n",
    "streefpeil_hws['globalid'] = 'dummy_globalid_nhws_' + gdf_hws.index.astype(str)\n",
    "streefpeil_hws['geometry'] = [None]* len(gdf_hws)\n",
    "\n",
    "HD['streefpeil'] = pd.concat([streefpeil_hws, HD['streefpeil']])\n",
    "HD['streefpeil'] = gpd.GeoDataFrame(HD['streefpeil'])"
   ]
  },
  {
   "cell_type": "markdown",
   "id": "9e2ea1a8-4a26-4515-9613-11cbd828c0d5",
   "metadata": {},
   "source": [
    "### Create buffer layer that ensures spatial match between peilgebied and hws layers based on the buffer layer"
   ]
  },
  {
   "cell_type": "code",
   "execution_count": 11,
   "id": "c4c448fb-3cb3-451c-aa17-d336f02deb6b",
   "metadata": {},
   "outputs": [
    {
     "name": "stderr",
     "output_type": "stream",
     "text": [
      "/opt/tljh/user/envs/stable/lib/python3.8/site-packages/geopandas/tools/overlay.py:365: FutureWarning: In a future version, `df.iloc[:, i] = newvals` will attempt to set the values inplace instead of always setting a new array. To retain the old behavior, use either `df[df.columns[i]] = newvals` or, if columns are non-unique, `df.isetitem(i, newvals)`\n",
      "  result.loc[is_collection, geom_col] = dissolved[geom_col].values\n"
     ]
    }
   ],
   "source": [
    "# Create buffer polygon\n",
    "buffer_polygon = gpd.overlay(gdf_buffer, gdf_grens, how='intersection', keep_geom_type=True)\n",
    "buffer_polygon = gpd.overlay(buffer_polygon, gdf_hws, how='difference', keep_geom_type=True)\n",
    "buffer_polygon = gpd.overlay(buffer_polygon, HD['peilgebied'], how='difference', keep_geom_type=True)"
   ]
  },
  {
   "cell_type": "markdown",
   "id": "eb233361-1e89-4bfa-b2f4-22d66155db58",
   "metadata": {},
   "source": [
    "## Add buffer to ['peilgebied','streefpeil']"
   ]
  },
  {
   "cell_type": "code",
   "execution_count": 12,
   "id": "75fc528f-5902-4a5d-bc7c-d0b700875832",
   "metadata": {},
   "outputs": [],
   "source": [
    "# update peilgebied dict key\n",
    "buffer_polygon['globalid'] = 'dummy_globalid_nhws_buffer_' + buffer_polygon.index.astype(str)\n",
    "buffer_polygon['code'] = 'dummy_code_nhws_buffer_' + buffer_polygon.index.astype(str)\n",
    "buffer_polygon['nen3610id'] = 'dummy_nen3610id_nhws_buffer_' + buffer_polygon.index.astype(str)\n",
    "buffer_polygon['peilgebied_cat'] = 2\n",
    "\n",
    "buffer_polygon = buffer_polygon[['globalid', 'code', 'nen3610id', 'peilgebied_cat', 'geometry']]\n",
    "\n",
    "HD['peilgebied'] = pd.concat([buffer_polygon, HD['peilgebied']])"
   ]
  },
  {
   "cell_type": "code",
   "execution_count": 13,
   "id": "b345f335-bc12-4e99-8272-9e47cc325021",
   "metadata": {},
   "outputs": [],
   "source": [
    "# Create boezem streefpeil layer\n",
    "streefpeil_buffer = pd.DataFrame()\n",
    "streefpeil_buffer['waterhoogte'] = [np.nan]\n",
    "streefpeil_buffer['globalid'] = ['dummy_globalid_nhws_buffer_1']\n",
    "streefpeil_buffer['geometry'] = [None]\n",
    "\n",
    "\n",
    "HD['streefpeil'] = pd.concat([streefpeil_buffer, HD['streefpeil']])\n",
    "HD['streefpeil'] = gpd.GeoDataFrame(HD['streefpeil'])\n",
    "\n"
   ]
  },
  {
   "cell_type": "markdown",
   "id": "dfea55d4-0bc9-485b-ac90-68b1dd8455b6",
   "metadata": {},
   "source": [
    "## Store output"
   ]
  },
  {
   "cell_type": "code",
   "execution_count": 14,
   "id": "70b4b337-44a9-4ef4-aee2-f7431aae720c",
   "metadata": {},
   "outputs": [
    {
     "name": "stdout",
     "output_type": "stream",
     "text": [
      "stuw\n",
      "gemaal\n",
      "hydroobject\n",
      "duikersifonhevel\n",
      "peilgebied\n",
      "streefpeil\n"
     ]
    }
   ],
   "source": [
    "for key in HD.keys():   \n",
    "    print(key)\n",
    "    HD[str(key)].to_file(f'{output_folder}/{waterschap2}.gpkg', layer = str(key), driver='GPKG')"
   ]
  }
 ],
 "metadata": {
  "kernelspec": {
   "display_name": "Python [conda env:stable]",
   "language": "python",
   "name": "conda-env-stable-py"
  },
  "language_info": {
   "codemirror_mode": {
    "name": "ipython",
    "version": 3
   },
   "file_extension": ".py",
   "mimetype": "text/x-python",
   "name": "python",
   "nbconvert_exporter": "python",
   "pygments_lexer": "ipython3",
   "version": "3.8.15"
  }
 },
 "nbformat": 4,
 "nbformat_minor": 5
}
