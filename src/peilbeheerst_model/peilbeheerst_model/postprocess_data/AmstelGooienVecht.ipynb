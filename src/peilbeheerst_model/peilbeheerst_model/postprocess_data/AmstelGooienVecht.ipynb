{
 "cells": [
  {
   "cell_type": "code",
   "execution_count": 1,
   "id": "d13f9ab1-f6e7-4958-96cc-343f0c2138f6",
   "metadata": {},
   "outputs": [],
   "source": [
    "#import packages and functions\n",
    "import numpy as np\n",
    "import matplotlib.pyplot as plt\n",
    "import pandas as pd\n",
    "import geopandas as gpd\n",
    "import os\n",
    "import fiona\n",
    "import shapely\n",
    "from shapely import wkt"
   ]
  },
  {
   "cell_type": "code",
   "execution_count": 2,
   "id": "ad89ae02-4242-4aca-bd5a-c0c3fd8592ac",
   "metadata": {},
   "outputs": [],
   "source": [
    "from general_functions import *\n",
    "\n",
    "%load_ext autoreload\n",
    "%autoreload 2\n",
    "pd.set_option('display.max_columns', None)\n"
   ]
  },
  {
   "cell_type": "markdown",
   "id": "09981d65-c7d2-4802-9fca-2ef490213b2c",
   "metadata": {},
   "source": [
    "# Amstel, Gooi en Vecht"
   ]
  },
  {
   "cell_type": "code",
   "execution_count": 3,
   "id": "b5fc0f1d-b2bf-4933-9472-96cb110e6111",
   "metadata": {},
   "outputs": [],
   "source": [
    "#define relative paths\n",
    "waterschap = 'AVG'\n",
    "path_AVG = '..\\..\\Data_preprocessed\\Waterschappen\\AmstelGooienVecht'\n",
    "output_gpkg_path = \"../../Data_postprocessed/Waterschappen/AmstelGooienVecht\"\n",
    "DM_path = '..\\..\\Data_overig\\DM_Netwerk\\DM_Netwerk.shp'\n"
   ]
  },
  {
   "cell_type": "code",
   "execution_count": 4,
   "id": "d54f0c7c-93a1-44bd-b0f9-fcf37279dc83",
   "metadata": {},
   "outputs": [],
   "source": [
    "#AVG has delivered all data in CSV format. Load it in manually with some data mutations\n",
    "AVG = {}\n",
    "variables = ['stuw', 'gemaal', 'afsluitmiddel', 'duikersifonhevel', 'hydroobject']#, 'peilgebiedpraktijk', 'peilafwijkinggebied']\n",
    "for variable in variables:\n",
    "    path_variable = os.path.join(path_AVG, variable + '.csv')\n",
    "    df_var = pd.read_csv(path_variable, delimiter=';')\n",
    "    geom_col = df_var.keys()[-1] #retrieve the column name\n",
    "    \n",
    "    if not 'geometrie' in geom_col:\n",
    "        raise ValueError('No \"geometry\" string found in the last column of the dataframe. Check for existence') \n",
    "    \n",
    "    df_var['geometry'] = df_var[geom_col].apply(lambda x: wkt.loads(x.split(';')[-1])) \n",
    "    AVG[variable] = df_var\n",
    "    \n",
    "#there is one last gpkg which contains the streefpeilen (and peilgebieden)\n",
    "# AVG['peilgebied'] = gpd.read_file(os.path.join(path_AVG, 'vigerende_peilgebieden.gpkg'))"
   ]
  },
  {
   "cell_type": "code",
   "execution_count": 5,
   "id": "d8ca7d9a-fcd9-4154-9278-029f2a25b7b7",
   "metadata": {},
   "outputs": [],
   "source": [
    "# AVG['peilgebied']['streefpeil'] = np.nan\n",
    "# AVG['peilgebied']['streefpeil'] = AVG['peilgebied']['streefpeil'].fillna(value=AVG['peilgebied']['GPGZMRPL'])\n",
    "# AVG['peilgebied']['streefpeil'] = AVG['peilgebied']['streefpeil'].fillna(value=AVG['peilgebied']['IWS_GPGVASTP'])\n",
    "# AVG['peilgebied']['streefpeil'] = AVG['peilgebied']['streefpeil'].fillna(value=AVG['peilgebied']['IWS_GPGONDP'])\n",
    "\n",
    "\n",
    "# print('Number of missing streefpeilen = ', len(AVG['peilgebied']['streefpeil'].loc[AVG['peilgebied']['streefpeil'].isna()]))\n",
    "\n",
    "# fig, ax = plt.subplots()\n",
    "# AVG['peilgebied'].geometry.plot(ax=ax, color='cornflowerblue')\n",
    "# AVG['peilgebied'].loc[AVG['peilgebied']['streefpeil'].isna()].geometry.plot(ax=ax, color='red')\n",
    "# ax.legend()"
   ]
  },
  {
   "cell_type": "markdown",
   "id": "3c3e568b-79b0-4809-8274-a029cc61b534",
   "metadata": {},
   "source": [
    "# Nalevering"
   ]
  },
  {
   "cell_type": "code",
   "execution_count": 6,
   "id": "31327447-601e-4f6a-b141-e97162433b37",
   "metadata": {},
   "outputs": [],
   "source": [
    "#overwrite previous data\n",
    "AVG['stuw'] = gpd.read_file(r\"D:\\Users\\Bruijns\\Documents\\PR4750_20\\Data_preprocessed\\Waterschappen\\AmstelGooienVecht\\data dump 6 maart LHM AGV\\Stuw.shp\")\n",
    "# AVG['stuw'] = AVG['stuw'].loc[AVG['stuw'].LHM == 'LHM']\n",
    "\n",
    "AVG['gemaal'] = gpd.read_file(r\"D:\\Users\\Bruijns\\Documents\\PR4750_20\\Data_preprocessed\\Waterschappen\\AmstelGooienVecht\\data dump 6 maart LHM AGV\\Gemaal.shp\")\n",
    "# AVG['gemaal'] = AVG['gemaal'].loc[AVG['gemaal'].LHM == 'LHM']\n",
    "\n",
    "AVG['duikersifonhevel'] = gpd.read_file(r\"D:\\Users\\Bruijns\\Documents\\PR4750_20\\Data_preprocessed\\Waterschappen\\AmstelGooienVecht\\data dump 6 maart LHM AGV\\Duikersifonhevel.shp\")\n",
    "AVG['hydroobject'] = gpd.read_file(r\"D:\\Users\\Bruijns\\Documents\\PR4750_20\\Data_preprocessed\\Waterschappen\\AmstelGooienVecht\\data dump 6 maart LHM AGV\\LHM_hydrovakken.shp\")\n",
    "\n",
    "#something went wrong with the new CRS. Take the old gpkg, and apply the crs to the new gpkg\n",
    "peilgebied_oud = gpd.read_file(r\"D:\\Users\\Bruijns\\Documents\\PR4750_20\\Data_preprocessed\\Waterschappen\\AmstelGooienVecht\\data dump 6 maart LHM AGV\\LHM_gebieden.shp\")\n",
    "# AVG['peilgebied'] = gpd.read_file(r\"D:\\Users\\Bruijns\\Documents\\PR4750_20\\Data_preprocessed\\Waterschappen\\AmstelGooienVecht\\verbeterde_LHM_gebieden\\LHM_gebieden.shp\")\n",
    "AVG['peilgebied'] = gpd.read_file(r\"D:\\Users\\Bruijns\\Documents\\PR4750_20\\Data_preprocessed\\Waterschappen\\AmstelGooienVecht\\verbeterde_LHM_gebieden_geactualiseerd\\LHM_gebieden.shp\")\n",
    "AVG['peilgebied'] = AVG['peilgebied'].set_crs(crs = peilgebied_oud.crs, allow_override=True)\n"
   ]
  },
  {
   "cell_type": "code",
   "execution_count": null,
   "id": "cd6401ef-673b-474d-bcac-0582bc3a8717",
   "metadata": {},
   "outputs": [],
   "source": []
  },
  {
   "cell_type": "code",
   "execution_count": 7,
   "id": "fc108c0a-60f0-4b26-9d68-d2b0fac64041",
   "metadata": {},
   "outputs": [],
   "source": [
    "# AVG['peilgebied'] = AVG['peilgebied'].to_crs(crs='EPSG:28992')"
   ]
  },
  {
   "cell_type": "code",
   "execution_count": 8,
   "id": "a1edefc2-1230-49ba-b7e5-8c1346f02046",
   "metadata": {},
   "outputs": [],
   "source": [
    "# haven = AVG['peilgebied'].loc[AVG['peilgebied'].GAFNAAM == \"Noordzeekanaal/IJ/Amsterdamrijnkanaalboezem\"]\n",
    "# haven = haven.explode(index_parts=False)\n",
    "\n",
    "# AVG['peilgebied'] = AVG['peilgebied'].loc[AVG['peilgebied'].GAFNAAM != \"Noordzeekanaal/IJ/Amsterdamrijnkanaalboezem\"] #remove this from the gdf, to be added later"
   ]
  },
  {
   "cell_type": "code",
   "execution_count": 9,
   "id": "e0384530-d4aa-4ba0-8423-e729b51865b5",
   "metadata": {},
   "outputs": [],
   "source": [
    "# haven = haven.reset_index(drop=True)\n",
    "# haven.GAFIDENT = haven.GAFIDENT + '_' + haven.index.astype(str)\n",
    "# haven.GAFNAAM = haven.GAFNAAM + '_' + haven.index.astype(str)\n",
    "\n",
    "# AVG['peilgebied'] = gpd.GeoDataFrame(pd.concat([AVG['peilgebied'], haven]), geometry = 'geometry')"
   ]
  },
  {
   "cell_type": "code",
   "execution_count": null,
   "id": "adef7ed3-1f50-4576-9aa6-21f439e1e391",
   "metadata": {},
   "outputs": [],
   "source": []
  },
  {
   "cell_type": "code",
   "execution_count": 10,
   "id": "f68a9597-d088-40c2-88df-931aa281d000",
   "metadata": {},
   "outputs": [],
   "source": [
    "AVG['peilgebied'].loc[AVG['peilgebied'].zomer == 0, 'zomer'] = np.nan\n",
    "AVG['peilgebied'].loc[AVG['peilgebied'].winter == 0, 'winter'] = np.nan\n",
    "AVG['peilgebied'].loc[AVG['peilgebied'].vast == 0, 'vast'] = np.nan"
   ]
  },
  {
   "cell_type": "code",
   "execution_count": 11,
   "id": "951b70c4-740a-47db-9abf-7c5770aa24bb",
   "metadata": {},
   "outputs": [],
   "source": [
    "AVG['peilgebied']['streefpeil'] = AVG['peilgebied'][['vast', 'zomer']].min(axis=1, skipna=True)\n"
   ]
  },
  {
   "cell_type": "code",
   "execution_count": 12,
   "id": "320352cd-a10b-48ff-afc0-71023df12cb4",
   "metadata": {},
   "outputs": [],
   "source": [
    "#determine aanvoer en afvoer gemalen\n",
    "AVG['gemaal']['func_aanvoer'], AVG['gemaal']['func_afvoer'], AVG['gemaal']['func_circulatie']  = False, False, False #default is False\n",
    "AVG['gemaal']['functiegemaal'] = AVG['gemaal']['naam'].astype(str) # aan AGV gevraagd of alle opmaling informatie in de kolom 'naam' verwerkt is. Antwoord: ja\n",
    "\n",
    "AVG['gemaal'].loc[AVG['gemaal']['functiegemaal'] == 'onbekend', 'functiegemaal'] = np.nan #replace onbekend with nan, will be filled up later see one line below\n",
    "\n",
    "AVG['gemaal'].loc[AVG['gemaal'].functiegemaal.str.contains('fvoer|nderbemaling|f-|oodpomp'), 'func_afvoer'] = True\n",
    "AVG['gemaal'].loc[AVG['gemaal'].functiegemaal.str.contains('anvoergemaal|pmaling|an-|p-|pvoer'), 'func_aanvoer'] = True\n",
    "AVG['gemaal'].loc[AVG['gemaal'].functiegemaal.str.contains('irculatie'), 'func_circulatie'] = True\n",
    "AVG['gemaal'].loc[(AVG['gemaal'].func_afvoer == False) &\n",
    "                       (AVG['gemaal'].func_aanvoer == False) &\n",
    "                       (AVG['gemaal'].func_circulatie == False), 'func_afvoer'] = True #set to afvoergemaal is there the function is unknown"
   ]
  },
  {
   "cell_type": "code",
   "execution_count": 13,
   "id": "7fd2e22c-95a0-4877-b160-843b36ea56a3",
   "metadata": {},
   "outputs": [
    {
     "name": "stderr",
     "output_type": "stream",
     "text": [
      "C:\\Users\\Bruijns\\AppData\\Local\\Temp\\ipykernel_21164\\3966756081.py:47: SettingWithCopyWarning: \n",
      "A value is trying to be set on a copy of a slice from a DataFrame.\n",
      "Try using .loc[row_indexer,col_indexer] = value instead\n",
      "\n",
      "See the caveats in the documentation: https://pandas.pydata.org/pandas-docs/stable/user_guide/indexing.html#returning-a-view-versus-a-copy\n",
      "  AVG['streefpeil']['code'] = 'dummy_code_streefpeil_' + AVG['streefpeil'].index.astype(str)\n",
      "C:\\Users\\Bruijns\\AppData\\Local\\Temp\\ipykernel_21164\\3966756081.py:48: SettingWithCopyWarning: \n",
      "A value is trying to be set on a copy of a slice from a DataFrame.\n",
      "Try using .loc[row_indexer,col_indexer] = value instead\n",
      "\n",
      "See the caveats in the documentation: https://pandas.pydata.org/pandas-docs/stable/user_guide/indexing.html#returning-a-view-versus-a-copy\n",
      "  AVG['streefpeil']['geometry'] = None\n"
     ]
    }
   ],
   "source": [
    "#stuw\n",
    "AVG['stuw'] = AVG['stuw'][['code', 'geometry']]\n",
    "AVG['stuw'].loc[:, 'nen3610id'] = 'dummy_nen3610id_stuw_' + AVG['stuw'].index.astype(str)\n",
    "AVG['stuw']['globalid'] = 'dummy_globalid_stuw_' + AVG['stuw'].index.astype(str)\n",
    "AVG['stuw'] = gpd.GeoDataFrame(AVG['stuw']).to_crs('epsg:28992')\n",
    "\n",
    "#gemaal\n",
    "AVG['gemaal'] = AVG['gemaal'][['code', 'func_afvoer', 'func_aanvoer', 'func_circulatie', 'geometry']]\n",
    "AVG['gemaal'].loc[:, 'nen3610id'] = 'dummy_nen3610id_gemaal_' + AVG['gemaal'].index.astype(str)\n",
    "AVG['gemaal']['globalid'] = 'dummy_globalid_gemaal_' + AVG['gemaal'].index.astype(str)\n",
    "AVG['gemaal'] = gpd.GeoDataFrame(AVG['gemaal']).to_crs('epsg:28992')\n",
    "\n",
    "#afsluitmiddel\n",
    "AVG['afsluitmiddel'] = AVG['afsluitmiddel'][['code', 'geometry']]\n",
    "AVG['afsluitmiddel'].loc[:, 'nen3610id'] = 'dummy_nen3610id_afsluitmiddel_' + AVG['afsluitmiddel'].index.astype(str)\n",
    "AVG['afsluitmiddel']['globalid'] = 'dummy_globalid_afsluitmiddel_' + AVG['afsluitmiddel'].index.astype(str)\n",
    "AVG['afsluitmiddel'] = gpd.GeoDataFrame(AVG['afsluitmiddel']).set_crs('epsg:28992')\n",
    "\n",
    "#duikersifonhevel\n",
    "AVG['duikersifonhevel'] = AVG['duikersifonhevel'][['code', 'geometry']]\n",
    "AVG['duikersifonhevel'].loc[:, 'nen3610id'] = 'dummy_nen3610id_duikersifonhevel_' + AVG['duikersifonhevel'].index.astype(str)\n",
    "AVG['duikersifonhevel']['globalid'] = 'dummy_globalid_duikersifonhevel_' + AVG['duikersifonhevel'].index.astype(str)\n",
    "AVG['duikersifonhevel'] = gpd.GeoDataFrame(AVG['duikersifonhevel']).to_crs('epsg:28992')\n",
    "\n",
    "#hydroobject\n",
    "AVG['hydroobject'] = AVG['hydroobject'][['geometry']]\n",
    "AVG['hydroobject']['code'] = 'dummy_code_hydroobject_' + AVG['hydroobject'].index.astype(str)\n",
    "AVG['hydroobject']['nen3610id'] = 'dummy_nen3610id_hydroobject_' + AVG['hydroobject'].index.astype(str)\n",
    "AVG['hydroobject']['globalid'] = 'dummy_globalid_hydroobject_' + AVG['hydroobject'].index.astype(str)\n",
    "AVG['hydroobject'] = gpd.GeoDataFrame(AVG['hydroobject']).set_crs('epsg:28992')\n",
    "\n",
    "# #streefpeil\n",
    "# AVG['streefpeil'] = pd.DataFrame()\n",
    "# AVG['streefpeil']['waterhoogte'] = AVG['peilgebied']['streefpeil']\n",
    "# AVG['streefpeil']['globalid'] = 'dummy_globalid_streefpeil_' + AVG['streefpeil'].index.astype(str)\n",
    "# AVG['streefpeil']['geometry'] = np.nan\n",
    "# AVG['streefpeil'] = gpd.GeoDataFrame(AVG['streefpeil']).set_crs('epsg:28992')\n",
    "\n",
    "#peilgebied\n",
    "AVG['peilgebied']['code'] = AVG['peilgebied']['GAFNAAM']\n",
    "AVG['peilgebied']['geometry'] = AVG['peilgebied']['geometry']\n",
    "AVG['peilgebied']['nen3610id'] = 'dummy_nen3610id_peilgebied_' + AVG['peilgebied'].index.astype(str)\n",
    "AVG['peilgebied']['globalid'] = 'dummy_globalid_peilgebied_' + AVG['peilgebied'].index.astype(str)\n",
    "AVG['peilgebied']['waterhoogte'] = AVG['peilgebied'].streefpeil\n",
    "\n",
    "AVG['streefpeil'] = AVG['peilgebied'][['waterhoogte', 'globalid']]\n",
    "AVG['streefpeil']['code'] = 'dummy_code_streefpeil_' + AVG['streefpeil'].index.astype(str)\n",
    "AVG['streefpeil']['geometry'] = None\n",
    "AVG['streefpeil'] = gpd.GeoDataFrame(AVG['streefpeil'], geometry = 'geometry')\n",
    "\n",
    "\n",
    "AVG['peilgebied'] = AVG['peilgebied'][['code', 'nen3610id', 'globalid', 'geometry']]\n",
    "AVG['peilgebied'] = gpd.GeoDataFrame(AVG['peilgebied']).to_crs('epsg:28992')\n"
   ]
  },
  {
   "cell_type": "code",
   "execution_count": 14,
   "id": "3cb1e8f8-fc21-4b03-a6e9-d0c1eecd5701",
   "metadata": {},
   "outputs": [],
   "source": [
    "#add duikersifonhevels to the hydroobjecten    \n",
    "AVG['hydroobject'] = pd.concat([AVG['hydroobject'], AVG['duikersifonhevel']])\n",
    "AVG['hydroobject'] = AVG['hydroobject'].drop_duplicates(subset='globalid') #in case it is run multiple times\n",
    "AVG['hydroobject'] = gpd.GeoDataFrame(AVG['hydroobject']).set_crs('epsg:28992')\n"
   ]
  },
  {
   "cell_type": "code",
   "execution_count": 15,
   "id": "74d6b456-154a-4c13-b53d-4d5e67122485",
   "metadata": {},
   "outputs": [],
   "source": [
    "AVG['aggregation_area'] = AVG['peilgebied'].copy()\n",
    "AVG['aggregation_area']['globalid'] = 'dummy_globalid_agg_area_' + AVG['aggregation_area'].index.astype(str)\n",
    "AVG['aggregation_area']['code'] = AVG['aggregation_area']['code'] + '_dummy_id_' + AVG['aggregation_area'].index.astype(str)"
   ]
  },
  {
   "cell_type": "code",
   "execution_count": 16,
   "id": "cba95812-69eb-4efe-8ce5-0150d321e090",
   "metadata": {},
   "outputs": [
    {
     "data": {
      "text/plain": [
       "<AxesSubplot:>"
      ]
     },
     "execution_count": 16,
     "metadata": {},
     "output_type": "execute_result"
    },
    {
     "data": {
      "image/png": "[encoded data removed]",
      "text/plain": [
       "<Figure size 640x480 with 1 Axes>"
      ]
     },
     "metadata": {},
     "output_type": "display_data"
    }
   ],
   "source": [
    "AVG['aggregation_area'].plot()"
   ]
  },
  {
   "cell_type": "code",
   "execution_count": 17,
   "id": "a544e97c-540e-4292-a14c-e1e9b3750fcd",
   "metadata": {},
   "outputs": [
    {
     "data": {
      "text/html": [
       "<div>\n",
       "<style scoped>\n",
       "    .dataframe tbody tr th:only-of-type {\n",
       "        vertical-align: middle;\n",
       "    }\n",
       "\n",
       "    .dataframe tbody tr th {\n",
       "        vertical-align: top;\n",
       "    }\n",
       "\n",
       "    .dataframe thead th {\n",
       "        text-align: right;\n",
       "    }\n",
       "</style>\n",
       "<table border=\"1\" class=\"dataframe\">\n",
       "  <thead>\n",
       "    <tr style=\"text-align: right;\">\n",
       "      <th></th>\n",
       "      <th>code</th>\n",
       "      <th>nen3610id</th>\n",
       "      <th>globalid</th>\n",
       "      <th>geometry</th>\n",
       "    </tr>\n",
       "  </thead>\n",
       "  <tbody>\n",
       "    <tr>\n",
       "      <th>0</th>\n",
       "      <td>Polder Holland en Sticht west</td>\n",
       "      <td>dummy_nen3610id_peilgebied_0</td>\n",
       "      <td>dummy_globalid_peilgebied_0</td>\n",
       "      <td>POLYGON ((129049.972 471580.425, 129035.352 47...</td>\n",
       "    </tr>\n",
       "    <tr>\n",
       "      <th>1</th>\n",
       "      <td>Westerpark</td>\n",
       "      <td>dummy_nen3610id_peilgebied_1</td>\n",
       "      <td>dummy_globalid_peilgebied_1</td>\n",
       "      <td>POLYGON ((120537.143 488786.773, 120531.029 48...</td>\n",
       "    </tr>\n",
       "    <tr>\n",
       "      <th>2</th>\n",
       "      <td>Gansenhoef west</td>\n",
       "      <td>dummy_nen3610id_peilgebied_2</td>\n",
       "      <td>dummy_globalid_peilgebied_2</td>\n",
       "      <td>POLYGON ((130201.406 463780.753, 130215.328 46...</td>\n",
       "    </tr>\n",
       "    <tr>\n",
       "      <th>3</th>\n",
       "      <td>Breukelen boezempeil</td>\n",
       "      <td>dummy_nen3610id_peilgebied_3</td>\n",
       "      <td>dummy_globalid_peilgebied_3</td>\n",
       "      <td>POLYGON ((128821.123 464611.681, 128815.091 46...</td>\n",
       "    </tr>\n",
       "    <tr>\n",
       "      <th>4</th>\n",
       "      <td>Nieuw-Sloten</td>\n",
       "      <td>dummy_nen3610id_peilgebied_4</td>\n",
       "      <td>dummy_globalid_peilgebied_4</td>\n",
       "      <td>POLYGON ((116494.254 484423.981, 116495.397 48...</td>\n",
       "    </tr>\n",
       "    <tr>\n",
       "      <th>...</th>\n",
       "      <td>...</td>\n",
       "      <td>...</td>\n",
       "      <td>...</td>\n",
       "      <td>...</td>\n",
       "    </tr>\n",
       "    <tr>\n",
       "      <th>234</th>\n",
       "      <td>Noordzeekanaal/IJ/Amsterdamrijnkanaalboezem</td>\n",
       "      <td>dummy_nen3610id_peilgebied_234</td>\n",
       "      <td>dummy_globalid_peilgebied_234</td>\n",
       "      <td>POLYGON ((130338.556 461734.893, 130209.061 46...</td>\n",
       "    </tr>\n",
       "    <tr>\n",
       "      <th>235</th>\n",
       "      <td>Noordzeekanaal/IJ/Amsterdamrijnkanaalboezem</td>\n",
       "      <td>dummy_nen3610id_peilgebied_235</td>\n",
       "      <td>dummy_globalid_peilgebied_235</td>\n",
       "      <td>MULTIPOLYGON (((119896.554 493206.407, 119901....</td>\n",
       "    </tr>\n",
       "    <tr>\n",
       "      <th>236</th>\n",
       "      <td>Eiland Zeeburg (oost)</td>\n",
       "      <td>dummy_nen3610id_peilgebied_236</td>\n",
       "      <td>dummy_globalid_peilgebied_236</td>\n",
       "      <td>POLYGON ((126884.268 486841.136, 126832.862 48...</td>\n",
       "    </tr>\n",
       "    <tr>\n",
       "      <th>237</th>\n",
       "      <td>IJmeer</td>\n",
       "      <td>dummy_nen3610id_peilgebied_237</td>\n",
       "      <td>dummy_globalid_peilgebied_237</td>\n",
       "      <td>MULTIPOLYGON (((127568.276 485654.942, 127577....</td>\n",
       "    </tr>\n",
       "    <tr>\n",
       "      <th>238</th>\n",
       "      <td>Noordzeekanaal/IJ/Amsterdamrijnkanaalboezem</td>\n",
       "      <td>dummy_nen3610id_peilgebied_238</td>\n",
       "      <td>dummy_globalid_peilgebied_238</td>\n",
       "      <td>MULTIPOLYGON (((123564.450 488082.567, 123566....</td>\n",
       "    </tr>\n",
       "  </tbody>\n",
       "</table>\n",
       "<p>239 rows × 4 columns</p>\n",
       "</div>"
      ],
      "text/plain": [
       "                                            code  \\\n",
       "0                  Polder Holland en Sticht west   \n",
       "1                                     Westerpark   \n",
       "2                                Gansenhoef west   \n",
       "3                           Breukelen boezempeil   \n",
       "4                                   Nieuw-Sloten   \n",
       "..                                           ...   \n",
       "234  Noordzeekanaal/IJ/Amsterdamrijnkanaalboezem   \n",
       "235  Noordzeekanaal/IJ/Amsterdamrijnkanaalboezem   \n",
       "236                        Eiland Zeeburg (oost)   \n",
       "237                                       IJmeer   \n",
       "238  Noordzeekanaal/IJ/Amsterdamrijnkanaalboezem   \n",
       "\n",
       "                          nen3610id                       globalid  \\\n",
       "0      dummy_nen3610id_peilgebied_0    dummy_globalid_peilgebied_0   \n",
       "1      dummy_nen3610id_peilgebied_1    dummy_globalid_peilgebied_1   \n",
       "2      dummy_nen3610id_peilgebied_2    dummy_globalid_peilgebied_2   \n",
       "3      dummy_nen3610id_peilgebied_3    dummy_globalid_peilgebied_3   \n",
       "4      dummy_nen3610id_peilgebied_4    dummy_globalid_peilgebied_4   \n",
       "..                              ...                            ...   \n",
       "234  dummy_nen3610id_peilgebied_234  dummy_globalid_peilgebied_234   \n",
       "235  dummy_nen3610id_peilgebied_235  dummy_globalid_peilgebied_235   \n",
       "236  dummy_nen3610id_peilgebied_236  dummy_globalid_peilgebied_236   \n",
       "237  dummy_nen3610id_peilgebied_237  dummy_globalid_peilgebied_237   \n",
       "238  dummy_nen3610id_peilgebied_238  dummy_globalid_peilgebied_238   \n",
       "\n",
       "                                              geometry  \n",
       "0    POLYGON ((129049.972 471580.425, 129035.352 47...  \n",
       "1    POLYGON ((120537.143 488786.773, 120531.029 48...  \n",
       "2    POLYGON ((130201.406 463780.753, 130215.328 46...  \n",
       "3    POLYGON ((128821.123 464611.681, 128815.091 46...  \n",
       "4    POLYGON ((116494.254 484423.981, 116495.397 48...  \n",
       "..                                                 ...  \n",
       "234  POLYGON ((130338.556 461734.893, 130209.061 46...  \n",
       "235  MULTIPOLYGON (((119896.554 493206.407, 119901....  \n",
       "236  POLYGON ((126884.268 486841.136, 126832.862 48...  \n",
       "237  MULTIPOLYGON (((127568.276 485654.942, 127577....  \n",
       "238  MULTIPOLYGON (((123564.450 488082.567, 123566....  \n",
       "\n",
       "[239 rows x 4 columns]"
      ]
     },
     "execution_count": 17,
     "metadata": {},
     "output_type": "execute_result"
    }
   ],
   "source": [
    "AVG['peilgebied']"
   ]
  },
  {
   "cell_type": "code",
   "execution_count": 18,
   "id": "f09335f6-d9ad-412d-80e6-594c2b94ced9",
   "metadata": {},
   "outputs": [],
   "source": [
    "AVG['streefpeil'].waterhoogte = AVG['streefpeil'].waterhoogte.round(2)"
   ]
  },
  {
   "cell_type": "markdown",
   "id": "9276888c-0ba2-4f5d-8ecb-a26baa1747f0",
   "metadata": {},
   "source": [
    "# Control, store"
   ]
  },
  {
   "cell_type": "code",
   "execution_count": 19,
   "id": "f2554d9e-9957-47bd-8cef-e6bfd4220a61",
   "metadata": {},
   "outputs": [
    {
     "name": "stdout",
     "output_type": "stream",
     "text": [
      "stuw\n",
      "['code' 'geometry' 'nen3610id' 'globalid']\n",
      "type =  <class 'geopandas.geodataframe.GeoDataFrame'>\n",
      "crs =  epsg:28992\n",
      "\n",
      "gemaal\n",
      "['code' 'func_afvoer' 'func_aanvoer' 'func_circulatie' 'geometry'\n",
      " 'nen3610id' 'globalid']\n",
      "type =  <class 'geopandas.geodataframe.GeoDataFrame'>\n",
      "crs =  epsg:28992\n",
      "\n",
      "afsluitmiddel\n",
      "['code' 'geometry' 'nen3610id' 'globalid']\n",
      "type =  <class 'geopandas.geodataframe.GeoDataFrame'>\n",
      "crs =  epsg:28992\n",
      "\n",
      "duikersifonhevel\n",
      "['code' 'geometry' 'nen3610id' 'globalid']\n",
      "type =  <class 'geopandas.geodataframe.GeoDataFrame'>\n",
      "crs =  epsg:28992\n",
      "\n",
      "hydroobject\n",
      "['geometry' 'code' 'nen3610id' 'globalid']\n",
      "type =  <class 'geopandas.geodataframe.GeoDataFrame'>\n",
      "crs =  epsg:28992\n",
      "\n",
      "peilgebied\n",
      "['code' 'nen3610id' 'globalid' 'geometry']\n",
      "type =  <class 'geopandas.geodataframe.GeoDataFrame'>\n",
      "crs =  epsg:28992\n",
      "\n",
      "streefpeil\n",
      "['waterhoogte' 'globalid' 'code' 'geometry']\n",
      "type =  <class 'geopandas.geodataframe.GeoDataFrame'>\n",
      "crs =  None\n",
      "\n",
      "aggregation_area\n",
      "['code' 'nen3610id' 'globalid' 'geometry']\n",
      "type =  <class 'geopandas.geodataframe.GeoDataFrame'>\n",
      "crs =  epsg:28992\n",
      "\n"
     ]
    }
   ],
   "source": [
    "show_layers_and_columns(waterschap = AVG)"
   ]
  },
  {
   "cell_type": "code",
   "execution_count": 20,
   "id": "be767e93-6ab9-4a3d-a7ae-247eb3877617",
   "metadata": {},
   "outputs": [],
   "source": [
    "# Check if the directory exists\n",
    "if not os.path.exists(output_gpkg_path):\n",
    "    # If it doesn't exist, create it\n",
    "    os.makedirs(output_gpkg_path)\n",
    "    \n",
    "store_data(waterschap = AVG, \n",
    "           output_gpkg_path = output_gpkg_path + '/AGV')\n"
   ]
  },
  {
   "cell_type": "code",
   "execution_count": null,
   "id": "45a1584e-d9e8-41e0-9fb8-8a51cf20c675",
   "metadata": {},
   "outputs": [],
   "source": []
  }
 ],
 "metadata": {
  "kernelspec": {
   "display_name": "Routing",
   "language": "python",
   "name": "routing"
  },
  "language_info": {
   "codemirror_mode": {
    "name": "ipython",
    "version": 3
   },
   "file_extension": ".py",
   "mimetype": "text/x-python",
   "name": "python",
   "nbconvert_exporter": "python",
   "pygments_lexer": "ipython3",
   "version": "3.9.13"
  }
 },
 "nbformat": 4,
 "nbformat_minor": 5
}
