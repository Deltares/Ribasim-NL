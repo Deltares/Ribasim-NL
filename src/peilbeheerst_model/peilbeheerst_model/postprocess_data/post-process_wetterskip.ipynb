{
 "cells": [
  {
   "cell_type": "markdown",
   "id": "690952c5-5037-476a-a660-d54fec614748",
   "metadata": {},
   "source": [
    "# Wetterskip"
   ]
  },
  {
   "cell_type": "markdown",
   "id": "e9e378d7-8f05-4562-87b0-34978ba61554",
   "metadata": {},
   "source": [
    "This script adds a new column \"peilgebied_cat\" and make sure the peilgebieden neatly match the HWS layer (Daniel):\n",
    "- peilgebied_cat = 0 -> peilgebied\n",
    "- peigelbied_cat = 1 -> boezem\n",
    "- peilgebied_cat = 2 -> HWS"
   ]
  },
  {
   "cell_type": "code",
   "execution_count": null,
   "id": "0c27c7a4-5733-46ea-970f-cd985b8c92cd",
   "metadata": {},
   "outputs": [],
   "source": [
    "import geopandas as gpd\n",
    "import numpy as np\n",
    "\n",
    "%load_ext autoreload\n",
    "%autoreload 2\n",
    "\n",
    "from general_functions import *"
   ]
  },
  {
   "cell_type": "markdown",
   "id": "dc1f28d2-8499-4ebb-906e-1724bd334aac",
   "metadata": {},
   "source": [
    "## Set Paths"
   ]
  },
  {
   "cell_type": "code",
   "execution_count": null,
   "id": "e15206a7-6639-40bb-9942-f920085f53b4",
   "metadata": {},
   "outputs": [],
   "source": [
    "#define relative paths\n",
    "waterschap = 'Wetterskip'\n",
    "data_path = f\"../projects/4750_20/Data_postprocessed/Waterschappen/{waterschap}/{waterschap}.gpkg\"\n",
    "\n",
    "# Waterschaps boundaries\n",
    "grens_path = \"../projects/4750_30/Data_overig/Waterschapsgrenzen/Waterschapsgrenzen.geojson\"\n",
    "# Hoofdwatersysteem boundaries\n",
    "hws_path = \"../projects/4750_30/Data_overig/HWS/krw_basins_vlakken.gpkg\"\n",
    "# Buffer boundaries\n",
    "buffer_path =  \"../projects/4750_30/Data_overig/HWS/hws_buffer_wetterskip.gpkg\"\n",
    "# Output folder\n",
    "output_folder = f\"./Waterschappen/{waterschap}\"\n",
    "# Dm netwerk\n",
    "boezem_path = \"../projects/4750_30/Data_overig/DM_netwerk/waterschapsgrenzen_boezem_netwerk.shp\""
   ]
  },
  {
   "cell_type": "markdown",
   "id": "7bbafed8-355a-4ec9-90c9-eca9e3b9313d",
   "metadata": {},
   "source": [
    "## Load Files"
   ]
  },
  {
   "cell_type": "code",
   "execution_count": null,
   "id": "0f6dcf56-e8a4-4055-bc86-a6d33c91d8d8",
   "metadata": {},
   "outputs": [],
   "source": [
    "# Load HHNK files\n",
    "Wetterskip = read_gpkg_layers(gpkg_path = data_path, \n",
    "                    variables = ['stuw', \n",
    "                                 'gemaal', \n",
    "                                 'hydroobject',\n",
    "                                 'duikersifonhevel',\n",
    "                                 'peilgebied', \n",
    "                                 'streefpeil',\n",
    "                                ])\n",
    "Wetterskip['peilgebied'] = Wetterskip['peilgebied'].to_crs('EPSG:28992')\n",
    "\n",
    "# Load waterschap boundaries\n",
    "gdf_grens = gpd.read_file(grens_path)\n",
    "gdf_grens = gdf_grens.to_crs('EPSG:28992')\n",
    "gdf_grens = gdf_grens.set_index('waterschap')\n",
    "\n",
    "# Load hws\n",
    "gdf_hws = gpd.read_file(hws_path)\n",
    "\n",
    "# Load buffer\n",
    "gdf_buffer = gpd.read_file(buffer_path)\n",
    "\n",
    "gdf_rhws= gpd.read_file(boezem_path)"
   ]
  },
  {
   "cell_type": "markdown",
   "id": "bc4a7b18-311d-4a29-ba13-df3d587e60b2",
   "metadata": {},
   "source": [
    "## Select waterschap boundaries and clip hws layer"
   ]
  },
  {
   "cell_type": "code",
   "execution_count": null,
   "id": "b5eae4c4-2d5a-4678-a5af-56e3626d29ec",
   "metadata": {},
   "outputs": [],
   "source": [
    "# Select boundaries HH Amstel, Gooi en Vecht\n",
    "gdf_grens = gdf_grens.loc[['Wetterskip Fryslân']]\n",
    "\n",
    "# Use waterschap boudnaries to clip HWS layer\n",
    "gdf_hws = gpd.overlay(gdf_grens, gdf_hws, how='intersection')"
   ]
  },
  {
   "cell_type": "markdown",
   "id": "f141d0fe-6f1f-471f-acf1-4f11522bd15d",
   "metadata": {},
   "source": [
    "## Check Peilgebied and HWS layer overlap:\n",
    "1. Identify the overlapping areas\n",
    "2. Clip\n",
    "3. Calculate overlapping area percentage\n",
    "4. Filter"
   ]
  },
  {
   "cell_type": "code",
   "execution_count": null,
   "id": "56faab44-3fda-43c4-8426-197fbb6c63a8",
   "metadata": {},
   "outputs": [],
   "source": [
    "# Step 1: Identify the Overlapping Areas and clip\n",
    "overlaps = gpd.overlay(Wetterskip['peilgebied'], gdf_hws, how='intersection', keep_geom_type=True)\n",
    "\n",
    "# # Step 2: Subtract Overlapping Areas from the original polygons in each DataFrame\n",
    "non_overlapping_peilgebied = gpd.overlay(Wetterskip['peilgebied'], overlaps, how='difference', keep_geom_type=True)\n",
    "overlaps = gpd.overlay(non_overlapping_peilgebied, gdf_hws, how='intersection', keep_geom_type=False)\n",
    " \n",
    "# Step 3: Calculate Area Percentages\n",
    "# Calculate the area of overlaps\n",
    "overlaps['overlap_area'] = overlaps.area\n",
    "\n",
    "# Step 4: Filter based on area Area Percentages\n",
    "minimum_area = 500\n",
    "print(f'Number of overlapping shapes without filter: {len(overlaps)}')\n",
    "overlap_ids = overlaps.loc[overlaps['overlap_area'] > minimum_area]\n",
    "overlap_ids = overlap_ids.globalid.to_list()\n",
    "print(f'Number of overlapping shapes with filter: {len(overlap_ids)}')"
   ]
  },
  {
   "cell_type": "markdown",
   "id": "9d4b936d-e24d-46b0-9c04-429290c39ade",
   "metadata": {},
   "source": [
    "## Create peilgebied_cat column"
   ]
  },
  {
   "cell_type": "code",
   "execution_count": null,
   "id": "6ad958c4-01ce-4fcb-9170-fa8bf0f7c7f0",
   "metadata": {},
   "outputs": [],
   "source": [
    "# Add to geodataframe\n",
    "peilgebieden_cat = []\n",
    "\n",
    "for index, row in Wetterskip['streefpeil'].iterrows():\n",
    "       \n",
    "    if row.waterhoogte == -0.52:\n",
    "        peilgebieden_cat.append(1)\n",
    "    else:\n",
    "        peilgebieden_cat.append(0)\n",
    "        \n",
    "Wetterskip['peilgebied']['peilgebied_cat'] = peilgebieden_cat"
   ]
  },
  {
   "cell_type": "markdown",
   "id": "2187ad3d-4399-42b1-9d50-5183ff374326",
   "metadata": {},
   "source": [
    "## Add nhws to ['peilgebied','streefpeil']"
   ]
  },
  {
   "cell_type": "code",
   "execution_count": null,
   "id": "28509a06-79c9-4e68-9be7-dcf654494c90",
   "metadata": {},
   "outputs": [],
   "source": [
    "# update peilgebied dict key\n",
    "gdf_hws['globalid'] = 'dummy_globalid_nhws_' + gdf_hws.index.astype(str)\n",
    "gdf_hws['code'] = 'dummy_code_nhws_' + gdf_hws.index.astype(str)\n",
    "gdf_hws['nen3610id'] = 'dummy_nen3610id_nhws_' + gdf_hws.index.astype(str)\n",
    "gdf_hws['peilgebied_cat'] = 2\n",
    "\n",
    "gdf_hws = gdf_hws[['globalid', 'code', 'nen3610id', 'peilgebied_cat', 'geometry']]\n",
    "\n",
    "Wetterskip['peilgebied'] = pd.concat([gdf_hws, Wetterskip['peilgebied']])"
   ]
  },
  {
   "cell_type": "code",
   "execution_count": null,
   "id": "37bec5bb-70dd-4789-9f92-bcfcd571d790",
   "metadata": {},
   "outputs": [],
   "source": [
    "# update streefpeil dict key\n",
    "streefpeil_hws = pd.DataFrame()\n",
    "streefpeil_hws['waterhoogte'] = [np.nan] * len(gdf_hws)\n",
    "streefpeil_hws['globalid'] = 'dummy_globalid_nhws_' + gdf_hws.index.astype(str)\n",
    "streefpeil_hws['geometry'] = [None]* len(gdf_hws)\n",
    "\n",
    "Wetterskip['streefpeil'] = pd.concat([streefpeil_hws, Wetterskip['streefpeil']])\n",
    "Wetterskip['streefpeil'] = gpd.GeoDataFrame(Wetterskip['streefpeil'])"
   ]
  },
  {
   "cell_type": "code",
   "execution_count": null,
   "id": "535a4c9b-0393-499f-8db2-fbde84459a85",
   "metadata": {},
   "outputs": [],
   "source": [
    "Wetterskip.keys()"
   ]
  },
  {
   "cell_type": "markdown",
   "id": "c2499b90-db91-49b7-9dc5-f43d2de46e3f",
   "metadata": {},
   "source": [
    "### Create buffer polygon between NHWS and peilgebied/RHWS"
   ]
  },
  {
   "cell_type": "code",
   "execution_count": null,
   "id": "f3ee584a-4ac9-47fd-8006-4be11e9d02a4",
   "metadata": {},
   "outputs": [],
   "source": [
    "buffer_polygon = gdf_buffer.geometry.iat[0].intersection(gdf_grens.geometry.iat[0])\n",
    "buffer_polygon = buffer_polygon.difference(shapely.geometry.MultiPolygon(gdf_hws.geometry.tolist()))\n",
    "buffer_polygon = buffer_polygon.difference(shapely.ops.unary_union(Wetterskip['peilgebied'].geometry.tolist()))\n",
    "\n",
    "buffer_polygon = gpd.GeoDataFrame(buffer_polygon)\n",
    "buffer_polygon = buffer_polygon.set_geometry(0)\n",
    "buffer_polygon = buffer_polygon.dissolve()\n",
    "buffer_polygon = buffer_polygon.rename(columns={0:'geometry'})\n",
    "buffer_polygon = buffer_polygon.set_geometry('geometry')\n",
    "buffer_polygon = buffer_polygon.set_crs('EPSG:28992')"
   ]
  },
  {
   "cell_type": "markdown",
   "id": "a796dae1-e578-45c2-abc4-bd0f660f2175",
   "metadata": {},
   "source": [
    "### Add buffer to ['peilgebied','streefpeil']"
   ]
  },
  {
   "cell_type": "code",
   "execution_count": null,
   "id": "42af7580-3cdf-4d7c-9204-50bec3dc088d",
   "metadata": {},
   "outputs": [],
   "source": [
    "# update peilgebied dict key\n",
    "buffer_polygon = gpd.GeoDataFrame(buffer_polygon)\n",
    "buffer_polygon['globalid'] = 'dummy_globalid_nhws_buffer_' + '1'\n",
    "buffer_polygon['code'] = 'dummy_code_nhws_buffer_' + buffer_polygon.index.astype(str)\n",
    "buffer_polygon['nen3610id'] = 'dummy_nen3610id_nhws_buffer_' + buffer_polygon.index.astype(str)\n",
    "buffer_polygon['peilgebied_cat'] = 2\n",
    "buffer_polygon = buffer_polygon.rename(columns={0:'geometry'})\n",
    "buffer_polygon = buffer_polygon[['globalid', 'code', 'nen3610id', 'peilgebied_cat', 'geometry']]\n",
    "\n",
    "Wetterskip['peilgebied'] = pd.concat([buffer_polygon, Wetterskip['peilgebied']])\n",
    "Wetterskip['peilgebied'] = gpd.GeoDataFrame(Wetterskip['peilgebied'])"
   ]
  },
  {
   "cell_type": "code",
   "execution_count": null,
   "id": "bc785a36-81a6-4c79-affc-a0938d78beb5",
   "metadata": {},
   "outputs": [],
   "source": [
    "# Create boezem streefpeil layer\n",
    "streefpeil_buffer = pd.DataFrame()\n",
    "streefpeil_buffer['waterhoogte'] = [np.nan]\n",
    "streefpeil_buffer['globalid'] = ['dummy_globalid_nhws_buffer_1']\n",
    "streefpeil_buffer['geometry'] = [None]\n",
    "\n",
    "\n",
    "Wetterskip['streefpeil'] = pd.concat([streefpeil_buffer, Wetterskip['streefpeil']])\n",
    "Wetterskip['streefpeil'] = gpd.GeoDataFrame(Wetterskip['streefpeil'])"
   ]
  },
  {
   "cell_type": "markdown",
   "id": "ffb583ff-6707-48af-b3db-b35465eb949e",
   "metadata": {},
   "source": [
    "## Wetterskip data contains many duplicate peilgebieden"
   ]
  },
  {
   "cell_type": "markdown",
   "id": "6ca97726-e159-4cae-be86-b99232a80d56",
   "metadata": {},
   "source": [
    "### Calculate polygons that overlap with more than 90 % of their area"
   ]
  },
  {
   "cell_type": "code",
   "execution_count": null,
   "id": "c234dbaf-5345-442e-9fe4-d458a8ed225c",
   "metadata": {
    "jupyter": {
     "outputs_hidden": true
    },
    "tags": []
   },
   "outputs": [],
   "source": [
    "from itertools import combinations\n",
    "\n",
    "gdf = Wetterskip['peilgebied']\n",
    "gdf = test\n",
    "gdf = gdf[6:]\n",
    "# Initialize a list to store index pairs with more than 90% overlap\n",
    "overlapping_pairs = []\n",
    "\n",
    "# Iterate through each unique pair of geometries\n",
    "for idx1, idx2 in combinations(gdf.index, 2):\n",
    "    print(f'Processing {idx1} out of {len(gdf)}...', end='\\r')\n",
    "    geom1 = gdf.at[idx1, 'geometry']\n",
    "    geom2 = gdf.at[idx2, 'geometry']\n",
    "\n",
    "    # Calculate intersection\n",
    "    intersection = geom1.intersection(geom2)\n",
    "    intersection_area = intersection.area\n",
    "\n",
    "    # Calculate original areas\n",
    "    area1 = geom1.area\n",
    "    area2 = geom2.area\n",
    "\n",
    "    # Calculate intersection percentage for each geometry\n",
    "    intersection_percentage1 = (intersection_area / area1) * 100\n",
    "    intersection_percentage2 = (intersection_area / area2) * 100\n",
    "\n",
    "    # Check if both geometries overlap more than 90%\n",
    "    if intersection_percentage1 > 90 and intersection_percentage2 > 90:\n",
    "        print((idx1, idx2))\n",
    "        overlapping_pairs.append((idx1, idx2))\n",
    "\n",
    "idx1s = []\n",
    "idx2s = []\n",
    "\n",
    "glob_1s = []\n",
    "glob_2s = []\n",
    "\n",
    "\n",
    "for idx1, idx2 in overlapping_pairs:\n",
    "    \n",
    "    idx1s.append(idx1)\n",
    "    idx2s.append(idx2)\n",
    "    \n",
    "    glob_1s.append(gdf.iloc[idx1].globalid)\n",
    "    glob_2s.append(gdf.iloc[idx2].globalid)\n",
    "    \n",
    "    \n",
    "df = pd.DataFrame()\n",
    "df['idx1'] = idx1s\n",
    "df['idx2'] = idx2s\n",
    "df['globalid_1'] = glob_1s\n",
    "df['globalid_2'] = glob_2s\n",
    "\n",
    "df.to_csv('overlapping_wetterskip.csv')"
   ]
  },
  {
   "cell_type": "markdown",
   "id": "3e377aaf-adcd-4a0d-b225-48705f0a7f97",
   "metadata": {},
   "source": [
    "### Create list of duplicates for removal"
   ]
  },
  {
   "cell_type": "code",
   "execution_count": null,
   "id": "1d8b87a6-2e74-4b0e-9a2e-40734e38ec77",
   "metadata": {},
   "outputs": [],
   "source": [
    "numbers_to_remove = []\n",
    "\n",
    "# Go loop unique index values\n",
    "for number in df['idx1'].unique():\n",
    "    if number in numbers_to_remove:\n",
    "        continue\n",
    "        \n",
    "    # Find all combinations\n",
    "    associated_idx2 = df[df['idx1'] == number]['idx2'].tolist()\n",
    "    # Append combinations\n",
    "    numbers_to_remove.extend(associated_idx2)\n",
    "\n",
    "# Remove duplicates using set operation\n",
    "numbers_to_remove = list(set(numbers_to_remove))"
   ]
  },
  {
   "cell_type": "markdown",
   "id": "0f8737e0-aea1-49fb-8a48-8a8afc52f3f8",
   "metadata": {},
   "source": [
    "### Remove duplicates"
   ]
  },
  {
   "cell_type": "code",
   "execution_count": null,
   "id": "41cc52dc-a5ab-4879-ba6d-95edc7130479",
   "metadata": {},
   "outputs": [],
   "source": [
    "Wetterskip['peilgebied'] = Wetterskip['peilgebied'][~Wetterskip['peilgebied'].index.isin(numbers_to_remove)]\n",
    "Wetterskip['streefpeil'] = Wetterskip['streefpeil'][~Wetterskip['streefpeil'].index.isin(numbers_to_remove)]"
   ]
  },
  {
   "cell_type": "markdown",
   "id": "ed9019dc-6278-4761-b30b-2a7f9b3757b9",
   "metadata": {},
   "source": [
    "## Store data"
   ]
  },
  {
   "cell_type": "code",
   "execution_count": null,
   "id": "65bafa4a-7c96-4fae-870d-821aa638d322",
   "metadata": {},
   "outputs": [],
   "source": [
    "for key in Wetterskip.keys():   \n",
    "    print(key)\n",
    "    Wetterskip[str(key)].to_file(f'{output_folder}/{waterschap}.gpkg', layer = str(key), driver='GPKG')"
   ]
  },
  {
   "cell_type": "code",
   "execution_count": null,
   "id": "d305c771-459d-4240-b727-0a7f5ee2b409",
   "metadata": {},
   "outputs": [],
   "source": []
  },
  {
   "cell_type": "code",
   "execution_count": null,
   "id": "e0b6031e-e572-48b6-aff4-ffb474ddc045",
   "metadata": {},
   "outputs": [],
   "source": []
  }
 ],
 "metadata": {
  "kernelspec": {
   "display_name": "Python [conda env:stable]",
   "language": "python",
   "name": "conda-env-stable-py"
  },
  "language_info": {
   "codemirror_mode": {
    "name": "ipython",
    "version": 3
   },
   "file_extension": ".py",
   "mimetype": "text/x-python",
   "name": "python",
   "nbconvert_exporter": "python",
   "pygments_lexer": "ipython3",
   "version": "3.8.15"
  }
 },
 "nbformat": 4,
 "nbformat_minor": 5
}
