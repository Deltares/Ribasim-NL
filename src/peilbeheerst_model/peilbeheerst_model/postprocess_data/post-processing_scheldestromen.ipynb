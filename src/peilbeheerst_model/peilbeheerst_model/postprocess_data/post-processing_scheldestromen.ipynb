{
 "cells": [
  {
   "cell_type": "markdown",
   "id": "690952c5-5037-476a-a660-d54fec614748",
   "metadata": {},
   "source": [
    "# Scheldestromen"
   ]
  },
  {
   "cell_type": "markdown",
   "id": "e9e378d7-8f05-4562-87b0-34978ba61554",
   "metadata": {},
   "source": [
    "This script adds a new column \"peilgebied_cat\" and makes sure the peilgebieden allign with the HWS layer (Daniel):\n",
    "- peilgebied_cat = 0 -> peilgebied\n",
    "- peigelbied_cat = 1 -> RHWS (boezem)\n",
    "- peilgebied_cat = 2 -> NHWS "
   ]
  },
  {
   "cell_type": "code",
   "execution_count": null,
   "id": "0c27c7a4-5733-46ea-970f-cd985b8c92cd",
   "metadata": {},
   "outputs": [],
   "source": [
    "import geopandas as gpd\n",
    "import numpy as np\n",
    "\n",
    "%load_ext autoreload\n",
    "%autoreload 2\n",
    "\n",
    "from general_functions import *"
   ]
  },
  {
   "cell_type": "markdown",
   "id": "dc1f28d2-8499-4ebb-906e-1724bd334aac",
   "metadata": {},
   "source": [
    "## Scheldestromen"
   ]
  },
  {
   "cell_type": "code",
   "execution_count": null,
   "id": "e15206a7-6639-40bb-9942-f920085f53b4",
   "metadata": {},
   "outputs": [],
   "source": [
    "# define relative paths\n",
    "waterschap = \"Scheldestromen\"\n",
    "waterschap2 = \"Scheldestromen\"\n",
    "\n",
    "data_path = f\"../projects/4750_30/Data_postprocessed/Waterschappen/{waterschap}/{waterschap2}.gpkg\"\n",
    "\n",
    "# Waterschaps boundaries\n",
    "grens_path = \"../projects/4750_30/Data_overig/Waterschapsgrenzen/Waterschapsgrenzen.geojson\"\n",
    "# Hoofdwatersysteem boundaries\n",
    "hws_path = \"../projects/4750_30/Data_overig/HWS/krw_basins_vlakken.gpkg\"\n",
    "# Buffer boundaries\n",
    "buffer_path = \"../projects/4750_30/Data_overig/HWS/hws_buffer_Scheldestromen.gpkg\"\n",
    "# Output folder\n",
    "output_folder = f\"./Waterschappen/{waterschap}\""
   ]
  },
  {
   "cell_type": "markdown",
   "id": "7bbafed8-355a-4ec9-90c9-eca9e3b9313d",
   "metadata": {},
   "source": [
    "### Load Files"
   ]
  },
  {
   "cell_type": "code",
   "execution_count": null,
   "id": "0f6dcf56-e8a4-4055-bc86-a6d33c91d8d8",
   "metadata": {},
   "outputs": [],
   "source": [
    "# Load HHNK files\n",
    "Scheldestromen = read_gpkg_layers(\n",
    "    gpkg_path=data_path,\n",
    "    variables=[\n",
    "        \"stuw\",\n",
    "        \"gemaal\",\n",
    "        \"hydroobject\",\n",
    "        \"duikersifonhevel\",\n",
    "        \"peilgebied\",\n",
    "        \"streefpeil\",\n",
    "    ],\n",
    ")\n",
    "Scheldestromen[\"peilgebied\"] = Scheldestromen[\"peilgebied\"].to_crs(\"EPSG:28992\")\n",
    "\n",
    "# Load waterschap boundaries\n",
    "gdf_grens = gpd.read_file(grens_path)\n",
    "gdf_grens = gdf_grens.to_crs(\"EPSG:28992\")\n",
    "gdf_grens = gdf_grens.set_index(\"waterschap\")\n",
    "\n",
    "# Load hws\n",
    "gdf_hws = gpd.read_file(hws_path)\n",
    "\n",
    "# Load buffer\n",
    "gdf_buffer = gpd.read_file(buffer_path)\n",
    "gdf_buffer = gdf_buffer.to_crs(\"EPSG:28992\")\n",
    "gdf_buffer = gdf_buffer.dissolve()"
   ]
  },
  {
   "cell_type": "code",
   "execution_count": null,
   "id": "5fcd4cc6-3c75-462f-af3e-7693c9c5265f",
   "metadata": {},
   "outputs": [],
   "source": [
    "Scheldestromen[\"peilgebied\"].globalid.is_unique"
   ]
  },
  {
   "cell_type": "markdown",
   "id": "3e2faf6a-d645-44c7-8882-f6e613e73410",
   "metadata": {},
   "source": [
    "## Select waterschap boundaries and clip hws layer"
   ]
  },
  {
   "cell_type": "code",
   "execution_count": null,
   "id": "0d804374-1484-42d0-88a2-f6bec404349b",
   "metadata": {},
   "outputs": [],
   "source": [
    "# Select boundaries HH Amstel, Gooi en Vecht\n",
    "gdf_grens = gdf_grens.loc[[\"Waterschap Scheldestromen\"]]\n",
    "\n",
    "# Use waterschap boudnaries to clip HWS layer\n",
    "gdf_hws = gpd.overlay(gdf_grens, gdf_hws, how=\"intersection\")"
   ]
  },
  {
   "cell_type": "markdown",
   "id": "0cc62e79-0fc4-48d3-b3b6-e4ded29c2e35",
   "metadata": {},
   "source": [
    "## Peilgebied and HWS layer overlap:\n",
    "1. Identify the overlapping areas\n",
    "2. Clip\n",
    "3. Calculate overlapping area percentage\n",
    "4. Filter"
   ]
  },
  {
   "cell_type": "code",
   "execution_count": null,
   "id": "a15df030-9a47-47bb-a09c-dd4b5dda65e2",
   "metadata": {},
   "outputs": [],
   "source": [
    "# Step 1: Identify the Overlapping Areas and clip\n",
    "overlaps = gpd.overlay(Scheldestromen[\"peilgebied\"], gdf_hws, how=\"intersection\", keep_geom_type=True)\n",
    "\n",
    "# # Step 2: Subtract Overlapping Areas from the original polygons in each DataFrame\n",
    "non_overlapping_peilgebied = gpd.overlay(Scheldestromen[\"peilgebied\"], overlaps, how=\"difference\", keep_geom_type=True)\n",
    "overlaps = gpd.overlay(non_overlapping_peilgebied, gdf_hws, how=\"intersection\", keep_geom_type=False)\n",
    "\n",
    "# Step 3: Calculate Area Percentages\n",
    "# Calculate the area of overlaps\n",
    "overlaps[\"overlap_area\"] = overlaps.area\n",
    "\n",
    "# Step 4: Filter based on area Area Percentages\n",
    "minimum_area = 500\n",
    "print(f\"Number of overlapping shapes without filter: {len(overlaps)}\")\n",
    "overlap_ids = overlaps.loc[overlaps[\"overlap_area\"] > minimum_area]\n",
    "overlap_ids = overlap_ids.globalid.to_list()\n",
    "print(f\"Number of overlapping shapes with filter: {len(overlap_ids)}\")"
   ]
  },
  {
   "cell_type": "markdown",
   "id": "87df5559-330b-41e1-8355-cbcc5c33d0a5",
   "metadata": {},
   "source": [
    "## Create peilgebied_cat columnm"
   ]
  },
  {
   "cell_type": "code",
   "execution_count": null,
   "id": "bfc95c53-1282-479b-8348-ad54085a49f6",
   "metadata": {},
   "outputs": [],
   "source": [
    "# Add occurence to geodataframe\n",
    "peilgebieden_cat = []\n",
    "\n",
    "for index, row in Scheldestromen[\"peilgebied\"].iterrows():\n",
    "    if row.nen3610id == \"dummy_nen3610id_peilgebied_549\":\n",
    "        peilgebieden_cat.append(1)\n",
    "    elif row.code == \"GPG437\":\n",
    "        print(\"yes\")\n",
    "        peilgebieden_cat.append(1)\n",
    "    elif row.code == \"dummy_code_nhws_3\":\n",
    "        peilgebieden_cat.append(1)\n",
    "        print(\"yes\")\n",
    "    else:\n",
    "        peilgebieden_cat.append(0)"
   ]
  },
  {
   "cell_type": "code",
   "execution_count": null,
   "id": "cc35d69e-9ce6-423b-abda-0b8314a5ec22",
   "metadata": {},
   "outputs": [],
   "source": [
    "# Add new column\n",
    "Scheldestromen[\"peilgebied\"][\"peilgebied_cat\"] = peilgebieden_cat"
   ]
  },
  {
   "cell_type": "markdown",
   "id": "43ed5595-4741-4dc9-9c37-4ba790190281",
   "metadata": {},
   "source": [
    "## Add nhws to ['peilgebied','streefpeil']"
   ]
  },
  {
   "cell_type": "code",
   "execution_count": null,
   "id": "b666fddd-e1b8-4e66-9a88-d87fb0df8749",
   "metadata": {},
   "outputs": [],
   "source": [
    "# update peilgebied dict key\n",
    "gdf_hws[\"globalid\"] = \"dummy_globalid_nhws_\" + gdf_hws.index.astype(str)\n",
    "gdf_hws[\"code\"] = \"dummy_code_nhws_\" + gdf_hws.index.astype(str)\n",
    "gdf_hws[\"nen3610id\"] = \"dummy_nen3610id_nhws_\" + gdf_hws.index.astype(str)\n",
    "gdf_hws[\"peilgebied_cat\"] = 2\n",
    "\n",
    "gdf_hws = gdf_hws[[\"globalid\", \"code\", \"nen3610id\", \"peilgebied_cat\", \"geometry\"]]\n",
    "\n",
    "Scheldestromen[\"peilgebied\"] = pd.concat([gdf_hws, Scheldestromen[\"peilgebied\"]])"
   ]
  },
  {
   "cell_type": "code",
   "execution_count": null,
   "id": "55368969-6fce-4597-a6a8-128f5a54bcb8",
   "metadata": {},
   "outputs": [],
   "source": [
    "# Create boezem streefpeil layer\n",
    "streefpeil_hws = pd.DataFrame()\n",
    "streefpeil_hws[\"waterhoogte\"] = [np.nan] * len(gdf_hws)\n",
    "streefpeil_hws[\"globalid\"] = \"dummy_globalid_nhws_\" + gdf_hws.index.astype(str)\n",
    "streefpeil_hws[\"geometry\"] = [None] * len(gdf_hws)\n",
    "\n",
    "Scheldestromen[\"streefpeil\"] = pd.concat([streefpeil_hws, Scheldestromen[\"streefpeil\"]])\n",
    "Scheldestromen[\"streefpeil\"] = gpd.GeoDataFrame(Scheldestromen[\"streefpeil\"])"
   ]
  },
  {
   "cell_type": "markdown",
   "id": "9d3ed0b2-0f05-4c51-b24f-4032059b1bc9",
   "metadata": {},
   "source": [
    "### Create buffer layer that ensures spatial match between peilgebied and hws layers based on the buffer layer"
   ]
  },
  {
   "cell_type": "code",
   "execution_count": null,
   "id": "6c6a1883-1647-493a-acad-411404f1daec",
   "metadata": {},
   "outputs": [],
   "source": [
    "# Create buffer polygon\n",
    "buffer_polygon = gpd.overlay(gdf_buffer, gdf_grens, how=\"intersection\", keep_geom_type=True)\n",
    "buffer_polygon = gpd.overlay(buffer_polygon, gdf_hws, how=\"difference\", keep_geom_type=True)\n",
    "buffer_polygon = gpd.overlay(buffer_polygon, Scheldestromen[\"peilgebied\"], how=\"difference\", keep_geom_type=True)"
   ]
  },
  {
   "cell_type": "markdown",
   "id": "8c27471d-9fb3-4d38-bd63-b841cc41cbee",
   "metadata": {
    "tags": []
   },
   "source": [
    "## Add buffer to ['peilgebied','streefpeil']"
   ]
  },
  {
   "cell_type": "code",
   "execution_count": null,
   "id": "39a1211a-bb76-4c4f-ac7e-2405d2729705",
   "metadata": {},
   "outputs": [],
   "source": [
    "# update peilgebied dict key\n",
    "buffer_polygon[\"globalid\"] = \"dummy_globalid_nhws_buffer_\" + buffer_polygon.index.astype(str)\n",
    "buffer_polygon[\"code\"] = \"dummy_code_nhws_buffer_\" + buffer_polygon.index.astype(str)\n",
    "buffer_polygon[\"nen3610id\"] = \"dummy_nen3610id_nhws_buffer_\" + buffer_polygon.index.astype(str)\n",
    "buffer_polygon[\"peilgebied_cat\"] = 2\n",
    "\n",
    "buffer_polygon = buffer_polygon[[\"globalid\", \"code\", \"nen3610id\", \"peilgebied_cat\", \"geometry\"]]\n",
    "\n",
    "Scheldestromen[\"peilgebied\"] = pd.concat([buffer_polygon, Scheldestromen[\"peilgebied\"]])"
   ]
  },
  {
   "cell_type": "code",
   "execution_count": null,
   "id": "77237ffe-7099-4872-8f1f-4ccc0cd84b6c",
   "metadata": {},
   "outputs": [],
   "source": [
    "# Create boezem streefpeil layer\n",
    "streefpeil_buffer = pd.DataFrame()\n",
    "streefpeil_buffer[\"waterhoogte\"] = [np.nan]\n",
    "streefpeil_buffer[\"globalid\"] = [\"dummy_globalid_nhws_buffer_1\"]\n",
    "streefpeil_buffer[\"geometry\"] = [None]\n",
    "\n",
    "Scheldestromen[\"streefpeil\"] = pd.concat([streefpeil_buffer, Scheldestromen[\"streefpeil\"]])\n",
    "Scheldestromen[\"streefpeil\"] = gpd.GeoDataFrame(Scheldestromen[\"streefpeil\"])"
   ]
  },
  {
   "cell_type": "markdown",
   "id": "cf892c2f-bf67-4e5e-a2f1-20699fedcf88",
   "metadata": {},
   "source": [
    "## Store output"
   ]
  },
  {
   "cell_type": "code",
   "execution_count": null,
   "id": "17796202-2f3c-4175-8409-7c2294b76703",
   "metadata": {
    "tags": []
   },
   "outputs": [],
   "source": [
    "for key in Scheldestromen.keys():\n",
    "    print(key)\n",
    "    Scheldestromen[str(key)].to_file(f\"{output_folder}/{waterschap2}.gpkg\", layer=str(key), driver=\"GPKG\")"
   ]
  }
 ],
 "metadata": {
  "kernelspec": {
   "display_name": "Python [conda env:stable]",
   "language": "python",
   "name": "conda-env-stable-py"
  },
  "language_info": {
   "codemirror_mode": {
    "name": "ipython",
    "version": 3
   },
   "file_extension": ".py",
   "mimetype": "text/x-python",
   "name": "python",
   "nbconvert_exporter": "python",
   "pygments_lexer": "ipython3",
   "version": "3.8.15"
  }
 },
 "nbformat": 4,
 "nbformat_minor": 5
}
