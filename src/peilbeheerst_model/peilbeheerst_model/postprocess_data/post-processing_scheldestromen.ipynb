{
 "cells": [
  {
   "cell_type": "markdown",
   "id": "690952c5-5037-476a-a660-d54fec614748",
   "metadata": {},
   "source": [
    "# Scheldestromen"
   ]
  },
  {
   "cell_type": "markdown",
   "id": "e9e378d7-8f05-4562-87b0-34978ba61554",
   "metadata": {},
   "source": [
    "This script adds a new column \"peilgebied_cat\" and makes sure the peilgebieden allign with the HWS layer (Daniel):\n",
    "- peilgebied_cat = 0 -> peilgebied\n",
    "- peigelbied_cat = 1 -> RHWS (boezem)\n",
    "- peilgebied_cat = 2 -> NHWS "
   ]
  },
  {
   "cell_type": "code",
   "execution_count": 1,
   "id": "0c27c7a4-5733-46ea-970f-cd985b8c92cd",
   "metadata": {},
   "outputs": [],
   "source": [
    "import geopandas as gpd\n",
    "import numpy as np\n",
    "from general_functions import *\n",
    "\n",
    "%load_ext autoreload\n",
    "%autoreload 2\n",
    "\n",
    "remove_cat_2 = True"
   ]
  },
  {
   "cell_type": "markdown",
   "id": "dc1f28d2-8499-4ebb-906e-1724bd334aac",
   "metadata": {},
   "source": [
    "## Scheldestromen"
   ]
  },
  {
   "cell_type": "code",
   "execution_count": 2,
   "id": "e15206a7-6639-40bb-9942-f920085f53b4",
   "metadata": {},
   "outputs": [],
   "source": [
    "#define relative paths\n",
    "waterschap = 'Scheldestromen'\n",
    "waterschap2 = 'Scheldestromen'\n",
    "\n",
    "data_path = f\"/DATAFOLDER/projects/4750_20/Data_postprocessed/Waterschappen/{waterschap}/{waterschap2}.gpkg\"\n",
    "\n",
    "# Waterschaps boundaries\n",
    "grens_path = \"/DATAFOLDER/projects/4750_30/Data_overig/Waterschapsgrenzen/Waterschapsgrenzen.geojson\"\n",
    "# Hoofdwatersysteem boundaries\n",
    "hws_path = \"/DATAFOLDER/projects/4750_30/Data_overig/HWS/krw_basins_vlakken.gpkg\"\n",
    "# Buffer boundaries\n",
    "buffer_path =  r\"/DATAFOLDER/projects/4750_30/Data_overig/HWS/hws_buffer_Scheldestromen.gpkg\"\n",
    "# Output folder\n",
    "output_folder = f\"/DATAFOLDER/projects/4750_30/Data_postprocessed/Waterschappen/{waterschap}\""
   ]
  },
  {
   "cell_type": "markdown",
   "id": "7bbafed8-355a-4ec9-90c9-eca9e3b9313d",
   "metadata": {},
   "source": [
    "### Load Files"
   ]
  },
  {
   "cell_type": "code",
   "execution_count": 3,
   "id": "0f6dcf56-e8a4-4055-bc86-a6d33c91d8d8",
   "metadata": {},
   "outputs": [],
   "source": [
    "# Load HHNK files\n",
    "Scheldestromen = read_gpkg_layers(gpkg_path = data_path, \n",
    "                    variables = ['stuw', \n",
    "                                 'gemaal', \n",
    "                                 'hydroobject',\n",
    "                                 'duikersifonhevel',\n",
    "                                 'peilgebied', \n",
    "                                 'streefpeil',\n",
    "                                 'aggregation_area',\n",
    "                                ])\n",
    "Scheldestromen['peilgebied'] = Scheldestromen['peilgebied'].to_crs('EPSG:28992')\n",
    "\n",
    "# Load waterschap boundaries\n",
    "gdf_grens = gpd.read_file(grens_path)\n",
    "gdf_grens = gdf_grens.to_crs('EPSG:28992')\n",
    "gdf_grens = gdf_grens.set_index('waterschap')\n",
    "\n",
    "# Load hws\n",
    "gdf_hws = gpd.read_file(hws_path)\n",
    "\n",
    "# Load buffer\n",
    "gdf_buffer = gpd.read_file(buffer_path)\n",
    "gdf_buffer = gdf_buffer.to_crs('EPSG:28992')\n",
    "gdf_buffer = gdf_buffer.dissolve()"
   ]
  },
  {
   "cell_type": "code",
   "execution_count": 4,
   "id": "5fcd4cc6-3c75-462f-af3e-7693c9c5265f",
   "metadata": {},
   "outputs": [
    {
     "data": {
      "text/plain": [
       "True"
      ]
     },
     "execution_count": 4,
     "metadata": {},
     "output_type": "execute_result"
    }
   ],
   "source": [
    "Scheldestromen['peilgebied'].globalid.is_unique"
   ]
  },
  {
   "cell_type": "code",
   "execution_count": 5,
   "id": "afc99001-f0fd-4433-9799-72bb34966673",
   "metadata": {},
   "outputs": [
    {
     "data": {
      "text/html": [
       "<div>\n",
       "<style scoped>\n",
       "    .dataframe tbody tr th:only-of-type {\n",
       "        vertical-align: middle;\n",
       "    }\n",
       "\n",
       "    .dataframe tbody tr th {\n",
       "        vertical-align: top;\n",
       "    }\n",
       "\n",
       "    .dataframe thead th {\n",
       "        text-align: right;\n",
       "    }\n",
       "</style>\n",
       "<table border=\"1\" class=\"dataframe\">\n",
       "  <thead>\n",
       "    <tr style=\"text-align: right;\">\n",
       "      <th></th>\n",
       "      <th>code</th>\n",
       "      <th>nen3610id</th>\n",
       "      <th>globalid</th>\n",
       "      <th>geometry</th>\n",
       "    </tr>\n",
       "  </thead>\n",
       "  <tbody>\n",
       "    <tr>\n",
       "      <th>0</th>\n",
       "      <td>GPG1398_dummy_id_0</td>\n",
       "      <td>dummy_nen3610id_peilgebied_0</td>\n",
       "      <td>dummy_globalid_peilgebied_0</td>\n",
       "      <td>MULTIPOLYGON Z (((39197.262 373523.013 -100000...</td>\n",
       "    </tr>\n",
       "    <tr>\n",
       "      <th>1</th>\n",
       "      <td>GPG1007_dummy_id_1</td>\n",
       "      <td>dummy_nen3610id_peilgebied_1</td>\n",
       "      <td>dummy_globalid_peilgebied_1</td>\n",
       "      <td>MULTIPOLYGON Z (((15595.339 368349.545 0.000, ...</td>\n",
       "    </tr>\n",
       "    <tr>\n",
       "      <th>2</th>\n",
       "      <td>GPG803_dummy_id_2</td>\n",
       "      <td>dummy_nen3610id_peilgebied_2</td>\n",
       "      <td>dummy_globalid_peilgebied_2</td>\n",
       "      <td>MULTIPOLYGON Z (((36391.858 373284.887 0.000, ...</td>\n",
       "    </tr>\n",
       "    <tr>\n",
       "      <th>3</th>\n",
       "      <td>GPG911_dummy_id_3</td>\n",
       "      <td>dummy_nen3610id_peilgebied_3</td>\n",
       "      <td>dummy_globalid_peilgebied_3</td>\n",
       "      <td>MULTIPOLYGON Z (((40712.442 373620.190 0.000, ...</td>\n",
       "    </tr>\n",
       "    <tr>\n",
       "      <th>4</th>\n",
       "      <td>GPG842_dummy_id_4</td>\n",
       "      <td>dummy_nen3610id_peilgebied_4</td>\n",
       "      <td>dummy_globalid_peilgebied_4</td>\n",
       "      <td>MULTIPOLYGON Z (((33494.859 370960.048 0.000, ...</td>\n",
       "    </tr>\n",
       "    <tr>\n",
       "      <th>...</th>\n",
       "      <td>...</td>\n",
       "      <td>...</td>\n",
       "      <td>...</td>\n",
       "      <td>...</td>\n",
       "    </tr>\n",
       "    <tr>\n",
       "      <th>847</th>\n",
       "      <td>GPG1333_dummy_id_847</td>\n",
       "      <td>dummy_nen3610id_peilgebied_847</td>\n",
       "      <td>dummy_globalid_peilgebied_847</td>\n",
       "      <td>MULTIPOLYGON Z (((56639.793 391068.875 0.000, ...</td>\n",
       "    </tr>\n",
       "    <tr>\n",
       "      <th>848</th>\n",
       "      <td>GPG1335_dummy_id_848</td>\n",
       "      <td>dummy_nen3610id_peilgebied_848</td>\n",
       "      <td>dummy_globalid_peilgebied_848</td>\n",
       "      <td>MULTIPOLYGON Z (((57784.953 391743.719 0.000, ...</td>\n",
       "    </tr>\n",
       "    <tr>\n",
       "      <th>849</th>\n",
       "      <td>GPG457_dummy_id_849</td>\n",
       "      <td>dummy_nen3610id_peilgebied_849</td>\n",
       "      <td>dummy_globalid_peilgebied_849</td>\n",
       "      <td>MULTIPOLYGON Z (((22309.586 393311.125 0.000, ...</td>\n",
       "    </tr>\n",
       "    <tr>\n",
       "      <th>850</th>\n",
       "      <td>GPG808_dummy_id_850</td>\n",
       "      <td>dummy_nen3610id_peilgebied_850</td>\n",
       "      <td>dummy_globalid_peilgebied_850</td>\n",
       "      <td>MULTIPOLYGON Z (((58756.058 366653.895 0.000, ...</td>\n",
       "    </tr>\n",
       "    <tr>\n",
       "      <th>851</th>\n",
       "      <td>GPG1004_dummy_id_851</td>\n",
       "      <td>dummy_nen3610id_peilgebied_851</td>\n",
       "      <td>dummy_globalid_peilgebied_851</td>\n",
       "      <td>MULTIPOLYGON Z (((56100.529 364330.493 0.000, ...</td>\n",
       "    </tr>\n",
       "  </tbody>\n",
       "</table>\n",
       "<p>852 rows × 4 columns</p>\n",
       "</div>"
      ],
      "text/plain": [
       "                     code                       nen3610id  \\\n",
       "0      GPG1398_dummy_id_0    dummy_nen3610id_peilgebied_0   \n",
       "1      GPG1007_dummy_id_1    dummy_nen3610id_peilgebied_1   \n",
       "2       GPG803_dummy_id_2    dummy_nen3610id_peilgebied_2   \n",
       "3       GPG911_dummy_id_3    dummy_nen3610id_peilgebied_3   \n",
       "4       GPG842_dummy_id_4    dummy_nen3610id_peilgebied_4   \n",
       "..                    ...                             ...   \n",
       "847  GPG1333_dummy_id_847  dummy_nen3610id_peilgebied_847   \n",
       "848  GPG1335_dummy_id_848  dummy_nen3610id_peilgebied_848   \n",
       "849   GPG457_dummy_id_849  dummy_nen3610id_peilgebied_849   \n",
       "850   GPG808_dummy_id_850  dummy_nen3610id_peilgebied_850   \n",
       "851  GPG1004_dummy_id_851  dummy_nen3610id_peilgebied_851   \n",
       "\n",
       "                          globalid  \\\n",
       "0      dummy_globalid_peilgebied_0   \n",
       "1      dummy_globalid_peilgebied_1   \n",
       "2      dummy_globalid_peilgebied_2   \n",
       "3      dummy_globalid_peilgebied_3   \n",
       "4      dummy_globalid_peilgebied_4   \n",
       "..                             ...   \n",
       "847  dummy_globalid_peilgebied_847   \n",
       "848  dummy_globalid_peilgebied_848   \n",
       "849  dummy_globalid_peilgebied_849   \n",
       "850  dummy_globalid_peilgebied_850   \n",
       "851  dummy_globalid_peilgebied_851   \n",
       "\n",
       "                                              geometry  \n",
       "0    MULTIPOLYGON Z (((39197.262 373523.013 -100000...  \n",
       "1    MULTIPOLYGON Z (((15595.339 368349.545 0.000, ...  \n",
       "2    MULTIPOLYGON Z (((36391.858 373284.887 0.000, ...  \n",
       "3    MULTIPOLYGON Z (((40712.442 373620.190 0.000, ...  \n",
       "4    MULTIPOLYGON Z (((33494.859 370960.048 0.000, ...  \n",
       "..                                                 ...  \n",
       "847  MULTIPOLYGON Z (((56639.793 391068.875 0.000, ...  \n",
       "848  MULTIPOLYGON Z (((57784.953 391743.719 0.000, ...  \n",
       "849  MULTIPOLYGON Z (((22309.586 393311.125 0.000, ...  \n",
       "850  MULTIPOLYGON Z (((58756.058 366653.895 0.000, ...  \n",
       "851  MULTIPOLYGON Z (((56100.529 364330.493 0.000, ...  \n",
       "\n",
       "[852 rows x 4 columns]"
      ]
     },
     "execution_count": 5,
     "metadata": {},
     "output_type": "execute_result"
    }
   ],
   "source": [
    "Scheldestromen['peilgebied']"
   ]
  },
  {
   "cell_type": "markdown",
   "id": "3e2faf6a-d645-44c7-8882-f6e613e73410",
   "metadata": {},
   "source": [
    "## Select waterschap boundaries and clip hws layer"
   ]
  },
  {
   "cell_type": "code",
   "execution_count": 6,
   "id": "0d804374-1484-42d0-88a2-f6bec404349b",
   "metadata": {},
   "outputs": [],
   "source": [
    "# Select boundaries HH Amstel, Gooi en Vecht\n",
    "gdf_grens = gdf_grens.loc[['Waterschap Scheldestromen']]\n",
    "\n",
    "# Use waterschap boudnaries to clip HWS layer\n",
    "gdf_hws = gpd.overlay(gdf_grens, gdf_hws, how='intersection')"
   ]
  },
  {
   "cell_type": "markdown",
   "id": "0cc62e79-0fc4-48d3-b3b6-e4ded29c2e35",
   "metadata": {},
   "source": [
    "## Peilgebied and HWS layer overlap:\n",
    "1. Identify the overlapping areas\n",
    "2. Clip\n",
    "3. Calculate overlapping area percentage\n",
    "4. Filter"
   ]
  },
  {
   "cell_type": "code",
   "execution_count": 7,
   "id": "a15df030-9a47-47bb-a09c-dd4b5dda65e2",
   "metadata": {},
   "outputs": [
    {
     "name": "stdout",
     "output_type": "stream",
     "text": [
      "Number of overlapping shapes without filter: 203\n",
      "Number of overlapping shapes with filter: 0\n"
     ]
    }
   ],
   "source": [
    "# Step 1: Identify the Overlapping Areas and clip\n",
    "overlaps = gpd.overlay(Scheldestromen['peilgebied'], gdf_hws, how='intersection', keep_geom_type=True)\n",
    "\n",
    "# # Step 2: Subtract Overlapping Areas from the original polygons in each DataFrame\n",
    "non_overlapping_peilgebied = gpd.overlay(Scheldestromen['peilgebied'], overlaps, how='difference', keep_geom_type=True)\n",
    "overlaps = gpd.overlay(non_overlapping_peilgebied, gdf_hws, how='intersection', keep_geom_type=False)\n",
    " \n",
    "# Step 3: Calculate Area Percentages\n",
    "# Calculate the area of overlaps\n",
    "overlaps['overlap_area'] = overlaps.area\n",
    "\n",
    "# Step 4: Filter based on area Area Percentages\n",
    "minimum_area = 500\n",
    "print(f'Number of overlapping shapes without filter: {len(overlaps)}')\n",
    "overlap_ids = overlaps.loc[overlaps['overlap_area'] > minimum_area]\n",
    "overlap_ids = overlap_ids.globalid.to_list()\n",
    "print(f'Number of overlapping shapes with filter: {len(overlap_ids)}')"
   ]
  },
  {
   "cell_type": "markdown",
   "id": "87df5559-330b-41e1-8355-cbcc5c33d0a5",
   "metadata": {},
   "source": [
    "## Create peilgebied_cat columnm"
   ]
  },
  {
   "cell_type": "code",
   "execution_count": 8,
   "id": "bfc95c53-1282-479b-8348-ad54085a49f6",
   "metadata": {},
   "outputs": [
    {
     "name": "stdout",
     "output_type": "stream",
     "text": [
      "True\n",
      "yes\n"
     ]
    }
   ],
   "source": [
    "# Add occurence to geodataframe\n",
    "peilgebieden_cat = []\n",
    "\n",
    "for index, row in Scheldestromen['peilgebied'].iterrows():\n",
    "       \n",
    "    if row.nen3610id == 'dummy_nen3610id_peilgebied_549':\n",
    "        print(True)\n",
    "        peilgebieden_cat.append(1)\n",
    "    elif 'GPG437' in row.code:\n",
    "        print('yes')\n",
    "        peilgebieden_cat.append(1)\n",
    "    elif 'dummy_code_nhws_3'in row.code:    \n",
    "        peilgebieden_cat.append(1)\n",
    "        print('yes2')\n",
    "    else:\n",
    "        peilgebieden_cat.append(0)"
   ]
  },
  {
   "cell_type": "code",
   "execution_count": 9,
   "id": "cc35d69e-9ce6-423b-abda-0b8314a5ec22",
   "metadata": {},
   "outputs": [],
   "source": [
    "# Add new column\n",
    "Scheldestromen['peilgebied']['peilgebied_cat'] = peilgebieden_cat"
   ]
  },
  {
   "cell_type": "code",
   "execution_count": 10,
   "id": "4cfae028-3cac-4eaf-bb0e-282de2469448",
   "metadata": {},
   "outputs": [
    {
     "data": {
      "text/plain": [
       "array([0, 1])"
      ]
     },
     "execution_count": 10,
     "metadata": {},
     "output_type": "execute_result"
    }
   ],
   "source": [
    "Scheldestromen['peilgebied']['peilgebied_cat'].unique()"
   ]
  },
  {
   "cell_type": "markdown",
   "id": "43ed5595-4741-4dc9-9c37-4ba790190281",
   "metadata": {},
   "source": [
    "## Add nhws to ['peilgebied','streefpeil']"
   ]
  },
  {
   "cell_type": "code",
   "execution_count": 11,
   "id": "b666fddd-e1b8-4e66-9a88-d87fb0df8749",
   "metadata": {},
   "outputs": [],
   "source": [
    "# update peilgebied dict key\n",
    "gdf_hws['globalid'] = 'dummy_globalid_nhws_' + gdf_hws.index.astype(str)\n",
    "gdf_hws['code'] = 'dummy_code_nhws_' + gdf_hws.index.astype(str)\n",
    "gdf_hws['nen3610id'] = 'dummy_nen3610id_nhws_' + gdf_hws.index.astype(str)\n",
    "gdf_hws['peilgebied_cat'] = 2\n",
    "\n",
    "gdf_hws = gdf_hws[['globalid', 'code', 'nen3610id', 'peilgebied_cat', 'geometry']]\n",
    "\n",
    "Scheldestromen['peilgebied'] = pd.concat([gdf_hws, Scheldestromen['peilgebied']])"
   ]
  },
  {
   "cell_type": "code",
   "execution_count": 12,
   "id": "55368969-6fce-4597-a6a8-128f5a54bcb8",
   "metadata": {},
   "outputs": [],
   "source": [
    "# Create boezem streefpeil layer\n",
    "streefpeil_hws = pd.DataFrame()\n",
    "streefpeil_hws['waterhoogte'] = [np.nan] * len(gdf_hws)\n",
    "streefpeil_hws['globalid'] = 'dummy_globalid_nhws_' + gdf_hws.index.astype(str)\n",
    "streefpeil_hws['geometry'] = [None]* len(gdf_hws)\n",
    "\n",
    "Scheldestromen['streefpeil'] = pd.concat([streefpeil_hws, Scheldestromen['streefpeil']])\n",
    "Scheldestromen['streefpeil'] = gpd.GeoDataFrame(Scheldestromen['streefpeil'])"
   ]
  },
  {
   "cell_type": "markdown",
   "id": "9d3ed0b2-0f05-4c51-b24f-4032059b1bc9",
   "metadata": {},
   "source": [
    "### Create buffer layer that ensures spatial match between peilgebied and hws layers based on the buffer layer"
   ]
  },
  {
   "cell_type": "code",
   "execution_count": 13,
   "id": "6c6a1883-1647-493a-acad-411404f1daec",
   "metadata": {},
   "outputs": [],
   "source": [
    "# # Create buffer polygon\n",
    "# buffer_polygon = gpd.overlay(gdf_buffer, gdf_grens, how='intersection', keep_geom_type=True)\n",
    "# buffer_polygon = gpd.overlay(buffer_polygon, gdf_hws, how='difference', keep_geom_type=True)\n",
    "# buffer_polygon = gpd.overlay(buffer_polygon, Scheldestromen['peilgebied'], how='difference', keep_geom_type=True)"
   ]
  },
  {
   "cell_type": "markdown",
   "id": "8c27471d-9fb3-4d38-bd63-b841cc41cbee",
   "metadata": {
    "tags": []
   },
   "source": [
    "## Add buffer to ['peilgebied','streefpeil']"
   ]
  },
  {
   "cell_type": "code",
   "execution_count": 14,
   "id": "39a1211a-bb76-4c4f-ac7e-2405d2729705",
   "metadata": {},
   "outputs": [],
   "source": [
    "# # update peilgebied dict key\n",
    "# buffer_polygon['globalid'] = 'dummy_globalid_nhws_buffer_' + buffer_polygon.index.astype(str)\n",
    "# buffer_polygon['code'] = 'dummy_code_nhws_buffer_' + buffer_polygon.index.astype(str)\n",
    "# buffer_polygon['nen3610id'] = 'dummy_nen3610id_nhws_buffer_' + buffer_polygon.index.astype(str)\n",
    "# buffer_polygon['peilgebied_cat'] = 2\n",
    "\n",
    "# buffer_polygon = buffer_polygon[['globalid', 'code', 'nen3610id', 'peilgebied_cat', 'geometry']]\n",
    "\n",
    "# Scheldestromen['peilgebied'] = pd.concat([buffer_polygon, Scheldestromen['peilgebied']])"
   ]
  },
  {
   "cell_type": "code",
   "execution_count": 15,
   "id": "77237ffe-7099-4872-8f1f-4ccc0cd84b6c",
   "metadata": {},
   "outputs": [],
   "source": [
    "# # Create boezem streefpeil layer\n",
    "# streefpeil_buffer = pd.DataFrame()\n",
    "# streefpeil_buffer['waterhoogte'] = [np.nan]\n",
    "# streefpeil_buffer['globalid'] = ['dummy_globalid_nhws_buffer_1']\n",
    "# streefpeil_buffer['geometry'] = [None]\n",
    "\n",
    "# Scheldestromen['streefpeil'] = pd.concat([streefpeil_buffer, Scheldestromen['streefpeil']])\n",
    "# Scheldestromen['streefpeil'] = gpd.GeoDataFrame(Scheldestromen['streefpeil'])"
   ]
  },
  {
   "cell_type": "code",
   "execution_count": 16,
   "id": "4eba78fb-2f12-4ea8-9558-d0f97f94f654",
   "metadata": {},
   "outputs": [],
   "source": [
    "if remove_cat_2:\n",
    "    Scheldestromen['peilgebied'] = Scheldestromen['peilgebied'].loc[Scheldestromen['peilgebied'].peilgebied_cat !=2]"
   ]
  },
  {
   "cell_type": "markdown",
   "id": "cf892c2f-bf67-4e5e-a2f1-20699fedcf88",
   "metadata": {},
   "source": [
    "## Store output"
   ]
  },
  {
   "cell_type": "code",
   "execution_count": 17,
   "id": "17796202-2f3c-4175-8409-7c2294b76703",
   "metadata": {
    "tags": []
   },
   "outputs": [
    {
     "name": "stdout",
     "output_type": "stream",
     "text": [
      "stuw\n",
      "gemaal\n",
      "hydroobject\n",
      "duikersifonhevel\n",
      "peilgebied\n",
      "streefpeil\n",
      "aggregation_area\n"
     ]
    }
   ],
   "source": [
    "for key in Scheldestromen.keys():   \n",
    "    print(key)\n",
    "    Scheldestromen[str(key)].to_file(f'{output_folder}/{waterschap2}.gpkg', layer = str(key), driver='GPKG')"
   ]
  },
  {
   "cell_type": "code",
   "execution_count": null,
   "id": "c3c9d9ed-1be2-49f8-a0fa-0b8804a37de2",
   "metadata": {},
   "outputs": [],
   "source": []
  },
  {
   "cell_type": "code",
   "execution_count": null,
   "id": "7e07fd19-28ae-47f6-b71e-a4c0c49e6b8b",
   "metadata": {},
   "outputs": [],
   "source": []
  },
  {
   "cell_type": "code",
   "execution_count": null,
   "id": "8d0cfb75-8c87-40f7-b15b-47e4efdbc5db",
   "metadata": {},
   "outputs": [],
   "source": []
  },
  {
   "cell_type": "code",
   "execution_count": null,
   "id": "4957fa79-db9d-4de6-a416-6f94052e98db",
   "metadata": {},
   "outputs": [],
   "source": []
  },
  {
   "cell_type": "code",
   "execution_count": null,
   "id": "88882c7e-be83-499f-b1a9-12c9d8eb65ce",
   "metadata": {},
   "outputs": [],
   "source": []
  },
  {
   "cell_type": "code",
   "execution_count": null,
   "id": "065612a7-7d42-4d19-9a26-264811713efd",
   "metadata": {},
   "outputs": [],
   "source": []
  }
 ],
 "metadata": {
  "kernelspec": {
   "display_name": "Python [conda env:stable]",
   "language": "python",
   "name": "conda-env-stable-py"
  },
  "language_info": {
   "codemirror_mode": {
    "name": "ipython",
    "version": 3
   },
   "file_extension": ".py",
   "mimetype": "text/x-python",
   "name": "python",
   "nbconvert_exporter": "python",
   "pygments_lexer": "ipython3",
   "version": "3.8.15"
  }
 },
 "nbformat": 4,
 "nbformat_minor": 5
}
