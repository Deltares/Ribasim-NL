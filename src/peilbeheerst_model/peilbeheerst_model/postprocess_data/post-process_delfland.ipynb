{
 "cells": [
  {
   "cell_type": "markdown",
   "id": "690952c5-5037-476a-a660-d54fec614748",
   "metadata": {},
   "source": [
    "# Delfland"
   ]
  },
  {
   "cell_type": "markdown",
   "id": "e9e378d7-8f05-4562-87b0-34978ba61554",
   "metadata": {},
   "source": [
    "This script adds a new column \"peilgebied_cat\" and makes sure the peilgebieden allign with the HWS layer (Daniel):\n",
    "- peilgebied_cat = 0 -> peilgebied\n",
    "- peigelbied_cat = 1 -> boezem\n",
    "- peilgebied_cat = 2 -> HWSNotes:\n"
   ]
  },
  {
   "cell_type": "code",
   "execution_count": 46,
   "id": "0c27c7a4-5733-46ea-970f-cd985b8c92cd",
   "metadata": {},
   "outputs": [
    {
     "name": "stdout",
     "output_type": "stream",
     "text": [
      "The autoreload extension is already loaded. To reload it, use:\n",
      "  %reload_ext autoreload\n"
     ]
    }
   ],
   "source": [
    "import geopandas as gpd\n",
    "import numpy as np\n",
    "\n",
    "%load_ext autoreload\n",
    "%autoreload 2\n",
    "\n",
    "from general_functions import *\n",
    "\n",
    "remove_cat_2 = True"
   ]
  },
  {
   "cell_type": "markdown",
   "id": "dc1f28d2-8499-4ebb-906e-1724bd334aac",
   "metadata": {},
   "source": [
    "## Set Paths"
   ]
  },
  {
   "cell_type": "code",
   "execution_count": 47,
   "id": "e15206a7-6639-40bb-9942-f920085f53b4",
   "metadata": {},
   "outputs": [],
   "source": [
    "# define relative paths\n",
    "waterschap = \"Delfland\"\n",
    "\n",
    "data_path = f\"/DATAFOLDER/projects/4750_20/Data_postprocessed/Waterschappen/{waterschap}/{waterschap}.gpkg\"\n",
    "\n",
    "# Waterschaps boundaries\n",
    "grens_path = \"/DATAFOLDER/projects/4750_30/Data_overig/Waterschapsgrenzen/Waterschapsgrenzen.geojson\"\n",
    "# Hoofdwatersysteem boundaries\n",
    "hws_path = \"/DATAFOLDER/projects/4750_30/Data_overig/HWS/krw_basins_vlakken.gpkg\"\n",
    "# Buffer boundaries\n",
    "buffer_path = \"/DATAFOLDER/projects/4750_30/Data_overig/HWS/hws_buffer_delfland.gpkg\"\n",
    "# Output folder\n",
    "output_folder = f\"/DATAFOLDER/projects/4750_30/Data_postprocessed/Waterschappen/{waterschap}/\""
   ]
  },
  {
   "cell_type": "markdown",
   "id": "7bbafed8-355a-4ec9-90c9-eca9e3b9313d",
   "metadata": {},
   "source": [
    "## Load files"
   ]
  },
  {
   "cell_type": "code",
   "execution_count": 48,
   "id": "0f6dcf56-e8a4-4055-bc86-a6d33c91d8d8",
   "metadata": {},
   "outputs": [],
   "source": [
    "# Load HHNK files\n",
    "delfland = read_gpkg_layers(\n",
    "    gpkg_path=data_path,\n",
    "    variables=[\n",
    "        \"stuw\",\n",
    "        \"gemaal\",\n",
    "        \"hydroobject\",\n",
    "        \"duikersifonhevel\",\n",
    "        \"peilgebied\",\n",
    "        \"streefpeil\",\n",
    "        \"aggregation_area\",\n",
    "    ],\n",
    ")\n",
    "\n",
    "delfland[\"peilgebied\"] = delfland[\"peilgebied\"].to_crs(\"EPSG:28992\")\n",
    "\n",
    "# Load waterschap boundaries\n",
    "gdf_grens = gpd.read_file(grens_path)\n",
    "gdf_grens = gdf_grens.to_crs(\"EPSG:28992\")\n",
    "gdf_grens = gdf_grens.set_index(\"waterschap\")\n",
    "\n",
    "# Load hws\n",
    "gdf_hws = gpd.read_file(hws_path)\n",
    "\n",
    "# Load buffer\n",
    "gdf_buffer = gpd.read_file(buffer_path)"
   ]
  },
  {
   "cell_type": "markdown",
   "id": "5556d211-e92e-4ba3-85c2-4ff9bd33fbeb",
   "metadata": {},
   "source": [
    "## Select waterschap boundaries and clip hws layer"
   ]
  },
  {
   "cell_type": "code",
   "execution_count": 49,
   "id": "c70bb838-9d93-4d5a-ae12-2da18d145009",
   "metadata": {},
   "outputs": [],
   "source": [
    "# Select boundaries HH Amstel, Gooi en Vecht\n",
    "gdf_grens = gdf_grens.loc[[\"HHS van Delfland\"]]\n",
    "\n",
    "# Use waterschap boudnaries to clip HWS layer\n",
    "gdf_hws = gpd.overlay(gdf_grens, gdf_hws, how=\"intersection\")"
   ]
  },
  {
   "cell_type": "markdown",
   "id": "fbca5734-774b-4327-bb0a-1c2a68afe982",
   "metadata": {},
   "source": [
    "## Peilgebied and HWS layer overlap:\n",
    "1. Identify the overlapping areas\n",
    "2. Clip\n",
    "3. Calculate overlapping area percentage\n",
    "4. Filter"
   ]
  },
  {
   "cell_type": "code",
   "execution_count": 50,
   "id": "d28b061b-117d-4e71-b737-f759953951d9",
   "metadata": {},
   "outputs": [
    {
     "name": "stdout",
     "output_type": "stream",
     "text": [
      "Number of overlapping shapes without filter: 26\n",
      "Number of overlapping shapes with filter: 0\n"
     ]
    }
   ],
   "source": [
    "# Step 1: Identify the Overlapping Areas and clip\n",
    "overlaps = gpd.overlay(delfland[\"peilgebied\"], gdf_hws, how=\"intersection\", keep_geom_type=True)\n",
    "\n",
    "# Step 2: Subtract Overlapping Areas from the original polygons in each DataFrame\n",
    "non_overlapping_peilgebied = gpd.overlay(delfland[\"peilgebied\"], overlaps, how=\"difference\", keep_geom_type=True)\n",
    "overlaps = gpd.overlay(non_overlapping_peilgebied, gdf_hws, how=\"intersection\", keep_geom_type=False)\n",
    "\n",
    "# Step 3: Calculate Area Percentages\n",
    "# Calculate the area of overlaps\n",
    "overlaps[\"overlap_area\"] = overlaps.area\n",
    "\n",
    "# Step 4: Filter based on area Area Percentages\n",
    "minimum_area = 200\n",
    "print(f\"Number of overlapping shapes without filter: {len(overlaps)}\")\n",
    "overlap_ids = overlaps.loc[overlaps[\"overlap_area\"] > minimum_area]\n",
    "overlap_ids = overlap_ids.globalid.to_list()\n",
    "print(f\"Number of overlapping shapes with filter: {len(overlap_ids)}\")"
   ]
  },
  {
   "cell_type": "markdown",
   "id": "fada8dca-0d9d-4619-b03e-403d3d19009a",
   "metadata": {},
   "source": [
    "## Create peilgebied_cat column"
   ]
  },
  {
   "cell_type": "code",
   "execution_count": 51,
   "id": "16fe0d25-7dd4-410a-9bec-5a69aced0614",
   "metadata": {},
   "outputs": [
    {
     "name": "stdout",
     "output_type": "stream",
     "text": [
      "yes\n",
      "yes\n",
      "yes\n",
      "yes\n",
      "yes\n",
      "yes\n",
      "yes\n",
      "yes\n",
      "yes\n",
      "yes\n",
      "yes\n",
      "yes\n",
      "yes\n",
      "yes\n",
      "yes\n",
      "yes\n",
      "yes\n",
      "yes\n",
      "yes\n",
      "yes\n",
      "yes\n",
      "yes\n",
      "yes\n",
      "yes\n",
      "yes\n",
      "yes\n",
      "yes\n",
      "yes\n",
      "yes\n",
      "yes\n",
      "yes\n",
      "yes\n",
      "yes\n",
      "yes\n",
      "yes\n",
      "yes\n",
      "yes\n",
      "yes\n",
      "yes\n",
      "yes\n",
      "yes\n",
      "yes\n",
      "yes\n",
      "yes\n",
      "yes\n",
      "yes\n",
      "yes\n",
      "yes\n",
      "yes\n",
      "yes\n",
      "yes\n",
      "yes\n",
      "yes\n",
      "yes\n"
     ]
    }
   ],
   "source": [
    "# Add occurence to geodataframe\n",
    "peilgebieden_cat = []\n",
    "ids = []\n",
    "\n",
    "for index, row in delfland[\"peilgebied\"].iterrows():\n",
    "    if row.code.startswith(\"BZM\") or row.HWS_BZM:\n",
    "        print(\"yes\")\n",
    "        peilgebieden_cat.append(1)\n",
    "\n",
    "    # Check if the row's globalid is in overlap_ids\n",
    "    elif row.globalid in overlap_ids:\n",
    "        peilgebieden_cat.append(2)\n",
    "\n",
    "    # If none of the above conditions are met, append 0\n",
    "    else:\n",
    "        peilgebieden_cat.append(0)\n",
    "\n",
    "# Add new column and drop old HWS_BZM column\n",
    "delfland[\"peilgebied\"][\"peilgebied_cat\"] = peilgebieden_cat\n",
    "delfland[\"peilgebied\"] = delfland[\"peilgebied\"].drop(columns=[\"HWS_BZM\"])"
   ]
  },
  {
   "cell_type": "markdown",
   "id": "8061cb15-b0ba-47b7-afa0-caed45438ae4",
   "metadata": {},
   "source": [
    "## Add HWS to ['peilgebied', 'streefpeil']"
   ]
  },
  {
   "cell_type": "code",
   "execution_count": 52,
   "id": "c12f62cb-60b3-4a43-b26c-6ea1f36f4606",
   "metadata": {},
   "outputs": [],
   "source": [
    "# update peilgebied dict key\n",
    "gdf_hws[\"globalid\"] = \"dummy_globalid__hws_\" + gdf_hws.index.astype(str)\n",
    "gdf_hws[\"code\"] = \"dummy_code_hws_\" + gdf_hws.index.astype(str)\n",
    "gdf_hws[\"nen3610id\"] = \"dummy_nen3610id_hws_\" + gdf_hws.index.astype(str)\n",
    "gdf_hws[\"peilgebied_cat\"] = 2\n",
    "\n",
    "gdf_hws = gdf_hws[[\"globalid\", \"code\", \"nen3610id\", \"peilgebied_cat\", \"geometry\"]]\n",
    "\n",
    "delfland[\"peilgebied\"] = pd.concat([gdf_hws, delfland[\"peilgebied\"]])"
   ]
  },
  {
   "cell_type": "code",
   "execution_count": 53,
   "id": "68dad130-b22b-47f2-bb20-dc88f33d4614",
   "metadata": {},
   "outputs": [],
   "source": [
    "# Create boezem streefpeil layer\n",
    "streefpeil_hws = pd.DataFrame()\n",
    "streefpeil_hws[\"waterhoogte\"] = [np.nan] * len(gdf_hws)\n",
    "streefpeil_hws[\"globalid\"] = \"dummy_globalid_hws_\" + gdf_hws.index.astype(str)\n",
    "streefpeil_hws[\"geometry\"] = [None] * len(gdf_hws)\n",
    "\n",
    "delfland[\"streefpeil\"] = pd.concat([streefpeil_hws, delfland[\"streefpeil\"]])\n",
    "delfland[\"streefpeil\"] = gpd.GeoDataFrame(delfland[\"streefpeil\"])"
   ]
  },
  {
   "cell_type": "markdown",
   "id": "3634cbd6-d698-460b-95c3-0737d2d12388",
   "metadata": {},
   "source": [
    "### Create buffer layer that ensures spatial match between peilgebied and hws layers based on the buffer layer"
   ]
  },
  {
   "cell_type": "code",
   "execution_count": 54,
   "id": "d8a24a33-7382-4fea-b45e-950dffb59f2c",
   "metadata": {},
   "outputs": [],
   "source": [
    "# # Create buffer polygon\n",
    "# buffer_polygon = gpd.overlay(gdf_buffer, gdf_grens, how='intersection', keep_geom_type=True)\n",
    "# buffer_polygon = gpd.overlay(buffer_polygon, gdf_hws, how='difference', keep_geom_type=True)\n",
    "# buffer_polygon = gpd.overlay(buffer_polygon, delfland['peilgebied'], how='difference', keep_geom_type=True)"
   ]
  },
  {
   "cell_type": "markdown",
   "id": "5a7d781e-3fe5-4239-b8c1-5f61d4b87460",
   "metadata": {},
   "source": [
    "## Add buffer to ['peilgebied','streefpeil']"
   ]
  },
  {
   "cell_type": "code",
   "execution_count": 55,
   "id": "e22637f0-8fdd-4971-b602-7cf4bed8584a",
   "metadata": {},
   "outputs": [],
   "source": [
    "# # update peilgebied dict key\n",
    "# buffer_polygon['globalid'] = 'dummy_globalid_buffer_' + buffer_polygon.index.astype(str)\n",
    "# buffer_polygon['code'] = 'dummy_code_buffer_' + buffer_polygon.index.astype(str)\n",
    "# buffer_polygon['nen3610id'] = 'dummy_nen3610id_buffer_1' + buffer_polygon.index.astype(str)\n",
    "# buffer_polygon['peilgebied_cat'] = 2\n",
    "\n",
    "# buffer_polygon = buffer_polygon[['globalid', 'code', 'nen3610id', 'peilgebied_cat', 'geometry']]\n",
    "\n",
    "# delfland['peilgebied'] = pd.concat([buffer_polygon, delfland['peilgebied']])"
   ]
  },
  {
   "cell_type": "code",
   "execution_count": 56,
   "id": "a40dac33-9a57-4a17-8303-89836afbc8ed",
   "metadata": {},
   "outputs": [],
   "source": [
    "# # Create boezem streefpeil layer\n",
    "# streefpeil_buffer = pd.DataFrame()\n",
    "# streefpeil_buffer['waterhoogte'] = [np.nan]\n",
    "# streefpeil_buffer['globalid'] = ['dummy_globalid_buffer_1']\n",
    "# streefpeil_buffer['geometry'] = [None]\n",
    "\n",
    "\n",
    "# delfland['streefpeil'] = pd.concat([streefpeil_buffer, delfland['streefpeil']])\n",
    "# delfland['streefpeil'] = gpd.GeoDataFrame(delfland['streefpeil'])\n",
    "\n",
    "# # Fix\n",
    "# delfland['streefpeil']['waterhoogte'] = delfland['streefpeil']['waterhoogte'].replace('N/A', np.nan)\n",
    "# delfland['streefpeil']['waterhoogte'] = pd.to_numeric(delfland['streefpeil']['waterhoogte'])"
   ]
  },
  {
   "cell_type": "code",
   "execution_count": 57,
   "id": "47b761f3-7fcb-420f-be20-9dd5ac3568ad",
   "metadata": {},
   "outputs": [
    {
     "data": {
      "text/plain": [
       "array([2, 0, 1])"
      ]
     },
     "execution_count": 57,
     "metadata": {},
     "output_type": "execute_result"
    }
   ],
   "source": [
    "delfland[\"peilgebied\"].peilgebied_cat.unique()"
   ]
  },
  {
   "cell_type": "code",
   "execution_count": 58,
   "id": "bf287dbf-a0e8-4fb6-b054-b7ce79d3de20",
   "metadata": {},
   "outputs": [],
   "source": [
    "delfland[\"peilgebied\"] = delfland[\"peilgebied\"][[\"globalid\", \"code\", \"nen3610id\", \"peilgebied_cat\", \"geometry\"]]"
   ]
  },
  {
   "cell_type": "code",
   "execution_count": 59,
   "id": "2cd05359-00b9-435e-8e7c-2cc1f110c560",
   "metadata": {},
   "outputs": [],
   "source": [
    "if remove_cat_2:\n",
    "    delfland[\"peilgebied\"] = delfland[\"peilgebied\"].loc[delfland[\"peilgebied\"].peilgebied_cat != 2]"
   ]
  },
  {
   "cell_type": "markdown",
   "id": "52f756f2-cf33-408a-9104-4f7d95a5d4eb",
   "metadata": {},
   "source": [
    "## Write output"
   ]
  },
  {
   "cell_type": "code",
   "execution_count": 60,
   "id": "38b5a11a-bf29-4958-af68-baab619e5e51",
   "metadata": {},
   "outputs": [
    {
     "name": "stdout",
     "output_type": "stream",
     "text": [
      "stuw\n",
      "gemaal\n",
      "hydroobject\n",
      "duikersifonhevel\n",
      "peilgebied\n",
      "streefpeil\n",
      "aggregation_area\n"
     ]
    }
   ],
   "source": [
    "for key in delfland.keys():\n",
    "    print(key)\n",
    "    delfland[str(key)].to_file(f\"{output_folder}/{waterschap}.gpkg\", layer=str(key), driver=\"GPKG\")"
   ]
  },
  {
   "cell_type": "code",
   "execution_count": null,
   "id": "9cf38b1b-92d9-4b2c-b5eb-09d2333bd5ef",
   "metadata": {},
   "outputs": [],
   "source": []
  }
 ],
 "metadata": {
  "kernelspec": {
   "display_name": "Python [conda env:stable]",
   "language": "python",
   "name": "conda-env-stable-py"
  },
  "language_info": {
   "codemirror_mode": {
    "name": "ipython",
    "version": 3
   },
   "file_extension": ".py",
   "mimetype": "text/x-python",
   "name": "python",
   "nbconvert_exporter": "python",
   "pygments_lexer": "ipython3",
   "version": "3.8.15"
  }
 },
 "nbformat": 4,
 "nbformat_minor": 5
}
