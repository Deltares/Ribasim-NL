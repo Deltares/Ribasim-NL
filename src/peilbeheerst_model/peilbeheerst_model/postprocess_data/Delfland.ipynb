{
 "cells": [
  {
   "cell_type": "code",
   "execution_count": 1,
   "id": "065338fd-62d6-480e-8c80-8bc4b101846b",
   "metadata": {},
   "outputs": [],
   "source": [
    "#import packages and functions\n",
    "import numpy as np\n",
    "import matplotlib.pyplot as plt\n",
    "import pandas as pd\n",
    "import geopandas as gpd\n",
    "import os\n",
    "import fiona\n",
    "import shapely"
   ]
  },
  {
   "cell_type": "code",
   "execution_count": 2,
   "id": "3f5aaa20-7965-4aa7-bf24-79965d87edb1",
   "metadata": {},
   "outputs": [],
   "source": [
    "from general_functions import *"
   ]
  },
  {
   "cell_type": "markdown",
   "id": "ffeed567-f858-4e46-83ff-89b7d7ea9b6d",
   "metadata": {},
   "source": [
    "# Delfland"
   ]
  },
  {
   "cell_type": "code",
   "execution_count": 3,
   "id": "636e86b9-bd75-4f8f-91eb-e757fba21fde",
   "metadata": {
    "tags": []
   },
   "outputs": [],
   "source": [
    "#define relative paths\n",
    "waterschap = 'Delfland'\n",
    "gdb_path = \"../../Data_preprocessed/Waterschappen/Delfland/Watersysteem.gdb\"\n",
    "output_gpkg_path = \"../../Data_postprocessed/Waterschappen/Delfland\""
   ]
  },
  {
   "cell_type": "code",
   "execution_count": 4,
   "id": "532b0b83-2139-4d48-8e42-883ed8e88325",
   "metadata": {},
   "outputs": [],
   "source": [
    "Delfland = read_gpkg_layers(gpkg_path = gdb_path, \n",
    "                        variables = ['stuw', \n",
    "                                     'gemaal', \n",
    "                                     'watergang',\n",
    "                                     'duikersifonhevel',\n",
    "                                     'peilgebiedpraktijk',\n",
    "                                     'keerschot']) \n",
    "                                     # 'peilafwijkinggebied', \n",
    "                                     # 'pomp'])\n",
    "                                     # 'streefpeil'])\n",
    "#change names\n",
    "Delfland['hydroobject'] = Delfland.pop('watergang')\n"
   ]
  },
  {
   "cell_type": "code",
   "execution_count": null,
   "id": "f6b72904-57d7-45ed-90ac-a89836072faf",
   "metadata": {},
   "outputs": [],
   "source": []
  },
  {
   "cell_type": "markdown",
   "id": "341e9076-62bd-4d0f-aba9-835cdf93afeb",
   "metadata": {},
   "source": [
    "### Adjust column names"
   ]
  },
  {
   "cell_type": "code",
   "execution_count": 5,
   "id": "059f9113-bcd4-470a-abb6-4fd8ec193f4a",
   "metadata": {},
   "outputs": [],
   "source": [
    "#discard irrelevant data of Delfland Delfland, and create a uniform dataset compared to the other waterschappen\n",
    "#Stuw\n",
    "Delfland['stuw'] = Delfland['stuw'][['CODE', 'GLOBALID', 'geometry']]\n",
    "Delfland['stuw'] = Delfland['stuw'].rename(columns={'CODE': 'code', 'GLOBALID': 'globalid'})\n",
    "Delfland['stuw']['nen3610id'] = 'dummy_nen3610id_stuw_' + Delfland['stuw'].index.astype(str)\n",
    "\n",
    "#Gemaal\n",
    "\n",
    "#determine aanvoer en afvoer gemalen\n",
    "Delfland['gemaal']['func_aanvoer'], Delfland['gemaal']['func_afvoer'], Delfland['gemaal']['func_circulatie']  = False, False, False #default is False\n",
    "Delfland['gemaal'].FUNCTIEGEMAAL_resolved.fillna(Delfland['gemaal'].WS_SOORTGEMAAL)#sometimes recircualtie is located in another column, but sometimes they are different. Only fill in for NaN\n",
    "Delfland['gemaal']['FUNCTIEGEMAAL_resolved'] = Delfland['gemaal']['FUNCTIEGEMAAL_resolved'].astype(str) \n",
    "\n",
    "Delfland['gemaal'].loc[Delfland['gemaal'].FUNCTIEGEMAAL_resolved.str.contains('Onbekend|Onderbemaling|Afvoergemaal|Af-'), 'func_afvoer'] = True\n",
    "Delfland['gemaal'].loc[Delfland['gemaal'].FUNCTIEGEMAAL_resolved.str.contains('Opmaling|Aanvoer'), 'func_aanvoer'] = True\n",
    "Delfland['gemaal'].loc[Delfland['gemaal'].FUNCTIEGEMAAL_resolved.str.contains('Overig|circulatie'), 'func_circulatie'] = True\n",
    "Delfland['gemaal'].loc[(Delfland['gemaal'].func_afvoer == False) &\n",
    "                       (Delfland['gemaal'].func_aanvoer == False) &\n",
    "                       (Delfland['gemaal'].func_circulatie == False), 'func_afvoer'] = True #set to afvoergemaal is there the function is unknown\n",
    "\n",
    "Delfland['gemaal'] = Delfland['gemaal'][['GLOBALID', 'func_afvoer', 'func_aanvoer', 'func_circulatie', 'geometry']]\n",
    "Delfland['gemaal'] = Delfland['gemaal'].rename(columns={'GLOBALID': 'globalid'})\n",
    "Delfland['gemaal']['code'] = 'dummy_code_gemaal_' + Delfland['gemaal'].index.astype(str)\n",
    "Delfland['gemaal']['nen3610id'] = 'dummy_nen3610id_gemaal_' + Delfland['gemaal'].index.astype(str)\n",
    "\n",
    "#Hydroobject\n",
    "Delfland['hydroobject'] = Delfland['hydroobject'][['GLOBALID', 'geometry']]\n",
    "Delfland['hydroobject'] = Delfland['hydroobject'].rename(columns={'GLOBALID': 'globalid'})\n",
    "Delfland['hydroobject']['code'] = 'dummy_code_hydroobject_' + Delfland['hydroobject'].index.astype(str)\n",
    "Delfland['hydroobject']['nen3610id'] = 'dummy_nen3610id_hydroobject_' + Delfland['hydroobject'].index.astype(str)\n",
    "\n",
    "#Keerschot\n",
    "Delfland['keerschot'] = Delfland['keerschot'][['GLOBALID', 'geometry']]\n",
    "Delfland['keerschot'] = Delfland['keerschot'].rename(columns={'GLOBALID': 'globalid'})\n",
    "Delfland['keerschot']['code'] = 'dummy_code_keerschot_' + Delfland['keerschot'].index.astype(str)\n",
    "Delfland['keerschot']['nen3610id'] = 'dummy_nen3610id_keerschot_' + Delfland['keerschot'].index.astype(str)\n",
    "\n",
    "#duikersifonhevel\n",
    "Delfland['duikersifonhevel'] = Delfland['duikersifonhevel'][['CODE', 'GLOBALID', 'geometry']]\n",
    "Delfland['duikersifonhevel'] = Delfland['duikersifonhevel'].rename(columns={'CODE':'code', 'GLOBALID': 'globalid'})\n",
    "Delfland['duikersifonhevel']['code'] = 'dummy_code_duikersifonhevel_' + Delfland['duikersifonhevel'].index.astype(str)\n",
    "Delfland['duikersifonhevel']['nen3610id'] = 'dummy_nen3610id_duikersifonhevel_' + Delfland['duikersifonhevel'].index.astype(str)\n",
    "\n",
    "#afsluitmiddel\n",
    "#niet geleverd\n",
    "\n",
    "#Peilgebiedpraktijk\n",
    "Delfland['peilgebiedpraktijk'] = Delfland['peilgebiedpraktijk'][['WS_HOOGPEIL', 'CODE', 'GLOBALID', 'geometry']]\n",
    "Delfland['peilgebiedpraktijk']['nen3610id'] = 'dummy_nen3610id_peilgebiedpraktijk_' + Delfland['peilgebiedpraktijk'].index.astype(str)\n",
    "Delfland['peilgebiedpraktijk'] = Delfland['peilgebiedpraktijk'].rename(columns={'WS_HOOGPEIL': 'streefpeil', 'CODE':'code', 'GLOBALID':'globalid'})\n",
    "\n",
    "#Streefpeil\n",
    "Delfland['streefpeil'] = pd.DataFrame()\n",
    "Delfland['streefpeil']['waterhoogte'] = Delfland['peilgebiedpraktijk']['streefpeil']\n",
    "Delfland['streefpeil']['globalid'] = Delfland['peilgebiedpraktijk']['globalid']\n",
    "Delfland['streefpeil']['geometry'] = None\n",
    "Delfland['streefpeil'] = gpd.GeoDataFrame(Delfland['streefpeil'], geometry = 'geometry')\n",
    "\n",
    "Delfland['peilgebied'] = Delfland['peilgebiedpraktijk']"
   ]
  },
  {
   "cell_type": "markdown",
   "id": "54a863ea-caab-4be6-bca6-78c2ae91941f",
   "metadata": {},
   "source": [
    "### Add column to determine the HWS_BZM"
   ]
  },
  {
   "cell_type": "code",
   "execution_count": 6,
   "id": "fda7f5c9-6949-4044-b04d-ba438d2b37d3",
   "metadata": {},
   "outputs": [],
   "source": [
    "Delfland['peilgebied']['HWS_BZM'] = False\n",
    "Delfland['peilgebied'].loc[Delfland['peilgebied'].code == 'BZM 1', 'HWS_BZM'] = True #looked up manually"
   ]
  },
  {
   "cell_type": "code",
   "execution_count": 7,
   "id": "fd32e28d-d92c-40a6-880c-08ccc76163b4",
   "metadata": {},
   "outputs": [],
   "source": [
    "Delfland['streefpeil'].waterhoogte = Delfland['streefpeil'].waterhoogte.round(2)"
   ]
  },
  {
   "cell_type": "code",
   "execution_count": 8,
   "id": "42dc4ba1-3ccb-4b0f-a075-77aec9b85a07",
   "metadata": {},
   "outputs": [],
   "source": [
    "#delete irrelvant data\n",
    "variables = ['peilgebiedpraktijk']\n",
    "\n",
    "for variable in variables:\n",
    "    if str(variable) in Delfland:\n",
    "        del Delfland[variable]"
   ]
  },
  {
   "cell_type": "code",
   "execution_count": 9,
   "id": "fedc359d-3b06-41eb-b6bc-0526e04fcc85",
   "metadata": {},
   "outputs": [
    {
     "data": {
      "text/html": [
       "<div>\n",
       "<style scoped>\n",
       "    .dataframe tbody tr th:only-of-type {\n",
       "        vertical-align: middle;\n",
       "    }\n",
       "\n",
       "    .dataframe tbody tr th {\n",
       "        vertical-align: top;\n",
       "    }\n",
       "\n",
       "    .dataframe thead th {\n",
       "        text-align: right;\n",
       "    }\n",
       "</style>\n",
       "<table border=\"1\" class=\"dataframe\">\n",
       "  <thead>\n",
       "    <tr style=\"text-align: right;\">\n",
       "      <th></th>\n",
       "      <th>streefpeil</th>\n",
       "      <th>code</th>\n",
       "      <th>globalid</th>\n",
       "      <th>geometry</th>\n",
       "      <th>nen3610id</th>\n",
       "      <th>HWS_BZM</th>\n",
       "    </tr>\n",
       "  </thead>\n",
       "  <tbody>\n",
       "    <tr>\n",
       "      <th>0</th>\n",
       "      <td>-5.30</td>\n",
       "      <td>DOP 17</td>\n",
       "      <td>{2531CB3F-6001-4B96-8199-6C32F2A3F110}</td>\n",
       "      <td>MULTIPOLYGON (((90612.823 449598.605, 90683.17...</td>\n",
       "      <td>dummy_nen3610id_peilgebiedpraktijk_0</td>\n",
       "      <td>False</td>\n",
       "    </tr>\n",
       "    <tr>\n",
       "      <th>1</th>\n",
       "      <td>-0.92</td>\n",
       "      <td>DPP 2</td>\n",
       "      <td>{98322829-BD2C-4509-88EB-3020D4F5B7AE}</td>\n",
       "      <td>MULTIPOLYGON (((74942.850 449582.666, 74945.04...</td>\n",
       "      <td>dummy_nen3610id_peilgebiedpraktijk_1</td>\n",
       "      <td>False</td>\n",
       "    </tr>\n",
       "    <tr>\n",
       "      <th>2</th>\n",
       "      <td>-2.20</td>\n",
       "      <td>DPM 1 a</td>\n",
       "      <td>{CECA72F6-1CB0-4959-B074-16A25DDFFBCC}</td>\n",
       "      <td>MULTIPOLYGON (((77686.692 438546.781, 77761.73...</td>\n",
       "      <td>dummy_nen3610id_peilgebiedpraktijk_2</td>\n",
       "      <td>False</td>\n",
       "    </tr>\n",
       "    <tr>\n",
       "      <th>3</th>\n",
       "      <td>-5.40</td>\n",
       "      <td>DOP 18</td>\n",
       "      <td>{CBD8FADF-568E-4202-A96F-A1B9BD3128D3}</td>\n",
       "      <td>MULTIPOLYGON (((90779.645 449399.310, 90774.26...</td>\n",
       "      <td>dummy_nen3610id_peilgebiedpraktijk_3</td>\n",
       "      <td>False</td>\n",
       "    </tr>\n",
       "    <tr>\n",
       "      <th>4</th>\n",
       "      <td>-0.25</td>\n",
       "      <td>BZM 17</td>\n",
       "      <td>{25EC567D-B04A-4D3E-992B-42A752D7C707}</td>\n",
       "      <td>MULTIPOLYGON (((71961.494 444699.340, 71824.22...</td>\n",
       "      <td>dummy_nen3610id_peilgebiedpraktijk_4</td>\n",
       "      <td>False</td>\n",
       "    </tr>\n",
       "    <tr>\n",
       "      <th>...</th>\n",
       "      <td>...</td>\n",
       "      <td>...</td>\n",
       "      <td>...</td>\n",
       "      <td>...</td>\n",
       "      <td>...</td>\n",
       "      <td>...</td>\n",
       "    </tr>\n",
       "    <tr>\n",
       "      <th>1554</th>\n",
       "      <td>-2.50</td>\n",
       "      <td>KPN 2</td>\n",
       "      <td>{89BC3095-7743-419E-A3D5-97EC2E9358AB}</td>\n",
       "      <td>MULTIPOLYGON (((82221.600 445680.656, 82222.84...</td>\n",
       "      <td>dummy_nen3610id_peilgebiedpraktijk_1554</td>\n",
       "      <td>False</td>\n",
       "    </tr>\n",
       "    <tr>\n",
       "      <th>1555</th>\n",
       "      <td>-3.30</td>\n",
       "      <td>KLE 2 r</td>\n",
       "      <td>{532BBE4E-DB29-4A9D-8B1D-F82B1AC0E0E3}</td>\n",
       "      <td>MULTIPOLYGON (((80955.711 444823.816, 81352.20...</td>\n",
       "      <td>dummy_nen3610id_peilgebiedpraktijk_1555</td>\n",
       "      <td>False</td>\n",
       "    </tr>\n",
       "    <tr>\n",
       "      <th>1556</th>\n",
       "      <td>-2.61</td>\n",
       "      <td>KLE 2 m</td>\n",
       "      <td>{710B38F9-4FF0-43BC-89D4-2F2D2EA55561}</td>\n",
       "      <td>MULTIPOLYGON (((81042.188 444624.391, 80822.99...</td>\n",
       "      <td>dummy_nen3610id_peilgebiedpraktijk_1556</td>\n",
       "      <td>False</td>\n",
       "    </tr>\n",
       "    <tr>\n",
       "      <th>1557</th>\n",
       "      <td>NaN</td>\n",
       "      <td>KLE 2 n</td>\n",
       "      <td>{8FE7621C-AC97-4B16-BBF2-6CB0EDB21E19}</td>\n",
       "      <td>MULTIPOLYGON (((81312.894 444166.511, 81311.17...</td>\n",
       "      <td>dummy_nen3610id_peilgebiedpraktijk_1557</td>\n",
       "      <td>False</td>\n",
       "    </tr>\n",
       "    <tr>\n",
       "      <th>1558</th>\n",
       "      <td>-3.68</td>\n",
       "      <td>PVN 1 b</td>\n",
       "      <td>{BC677CAC-DF2D-4BEF-A6C5-02E7261CBFFC}</td>\n",
       "      <td>MULTIPOLYGON (((86852.957 450810.593, 86865.79...</td>\n",
       "      <td>dummy_nen3610id_peilgebiedpraktijk_1558</td>\n",
       "      <td>False</td>\n",
       "    </tr>\n",
       "  </tbody>\n",
       "</table>\n",
       "<p>1559 rows × 6 columns</p>\n",
       "</div>"
      ],
      "text/plain": [
       "      streefpeil     code                                globalid  \\\n",
       "0          -5.30   DOP 17  {2531CB3F-6001-4B96-8199-6C32F2A3F110}   \n",
       "1          -0.92    DPP 2  {98322829-BD2C-4509-88EB-3020D4F5B7AE}   \n",
       "2          -2.20  DPM 1 a  {CECA72F6-1CB0-4959-B074-16A25DDFFBCC}   \n",
       "3          -5.40   DOP 18  {CBD8FADF-568E-4202-A96F-A1B9BD3128D3}   \n",
       "4          -0.25   BZM 17  {25EC567D-B04A-4D3E-992B-42A752D7C707}   \n",
       "...          ...      ...                                     ...   \n",
       "1554       -2.50    KPN 2  {89BC3095-7743-419E-A3D5-97EC2E9358AB}   \n",
       "1555       -3.30  KLE 2 r  {532BBE4E-DB29-4A9D-8B1D-F82B1AC0E0E3}   \n",
       "1556       -2.61  KLE 2 m  {710B38F9-4FF0-43BC-89D4-2F2D2EA55561}   \n",
       "1557         NaN  KLE 2 n  {8FE7621C-AC97-4B16-BBF2-6CB0EDB21E19}   \n",
       "1558       -3.68  PVN 1 b  {BC677CAC-DF2D-4BEF-A6C5-02E7261CBFFC}   \n",
       "\n",
       "                                               geometry  \\\n",
       "0     MULTIPOLYGON (((90612.823 449598.605, 90683.17...   \n",
       "1     MULTIPOLYGON (((74942.850 449582.666, 74945.04...   \n",
       "2     MULTIPOLYGON (((77686.692 438546.781, 77761.73...   \n",
       "3     MULTIPOLYGON (((90779.645 449399.310, 90774.26...   \n",
       "4     MULTIPOLYGON (((71961.494 444699.340, 71824.22...   \n",
       "...                                                 ...   \n",
       "1554  MULTIPOLYGON (((82221.600 445680.656, 82222.84...   \n",
       "1555  MULTIPOLYGON (((80955.711 444823.816, 81352.20...   \n",
       "1556  MULTIPOLYGON (((81042.188 444624.391, 80822.99...   \n",
       "1557  MULTIPOLYGON (((81312.894 444166.511, 81311.17...   \n",
       "1558  MULTIPOLYGON (((86852.957 450810.593, 86865.79...   \n",
       "\n",
       "                                    nen3610id  HWS_BZM  \n",
       "0        dummy_nen3610id_peilgebiedpraktijk_0    False  \n",
       "1        dummy_nen3610id_peilgebiedpraktijk_1    False  \n",
       "2        dummy_nen3610id_peilgebiedpraktijk_2    False  \n",
       "3        dummy_nen3610id_peilgebiedpraktijk_3    False  \n",
       "4        dummy_nen3610id_peilgebiedpraktijk_4    False  \n",
       "...                                       ...      ...  \n",
       "1554  dummy_nen3610id_peilgebiedpraktijk_1554    False  \n",
       "1555  dummy_nen3610id_peilgebiedpraktijk_1555    False  \n",
       "1556  dummy_nen3610id_peilgebiedpraktijk_1556    False  \n",
       "1557  dummy_nen3610id_peilgebiedpraktijk_1557    False  \n",
       "1558  dummy_nen3610id_peilgebiedpraktijk_1558    False  \n",
       "\n",
       "[1559 rows x 6 columns]"
      ]
     },
     "execution_count": 9,
     "metadata": {},
     "output_type": "execute_result"
    }
   ],
   "source": [
    "Delfland['peilgebied']"
   ]
  },
  {
   "cell_type": "markdown",
   "id": "87278eea-6c4b-416e-b4b4-f10341e2cb37",
   "metadata": {},
   "source": [
    "# Embed the boezems including the KRW-bodies"
   ]
  },
  {
   "cell_type": "code",
   "execution_count": 10,
   "id": "111131dc-d598-41e8-9ba9-1c87d8327475",
   "metadata": {},
   "outputs": [],
   "source": [
    "KRW = gpd.read_file(r\"D:\\Users\\Bruijns\\Documents\\PR4750_20\\Data_overig\\KRW\\Delfland\\Opgedeelde_boezem_Delfland_definitief.shp\")"
   ]
  },
  {
   "cell_type": "code",
   "execution_count": 11,
   "id": "b1df81d4-20cc-4c9e-a483-0429d381fa0b",
   "metadata": {},
   "outputs": [],
   "source": [
    "KRW['code'] = 'dummy_code_BZM 1_' + KRW.index.astype(str)\n",
    "KRW['nen3610id'] = 'owmnaam'\n",
    "KRW['globalid'] = 'dummy_globalid_BZM_' + KRW.index.astype(str)\n",
    "KRW['HWS_BZM'] = True\n",
    "KRW['streefpeil'] = -0.43\n",
    "KRW = KRW[['code', 'streefpeil', 'nen3610id', 'HWS_BZM', 'globalid', 'geometry']]\n",
    "KRW = KRW.reset_index(drop=True)"
   ]
  },
  {
   "cell_type": "code",
   "execution_count": 12,
   "id": "1e4fd09b-4e10-4dfc-8bfd-7a5dbb46c637",
   "metadata": {},
   "outputs": [],
   "source": [
    "#remove the previous boezem, and replace it for the new boezem which is splitted based on the KRW bodies\n",
    "Delfland['peilgebied'] = Delfland['peilgebied'].loc[Delfland['peilgebied'].code != 'BZM 1']\n",
    "Delfland['peilgebied'] = gpd.GeoDataFrame(pd.concat([Delfland['peilgebied'], KRW]), geometry='geometry')\n",
    "\n",
    "Delfland['streefpeil'] = Delfland['peilgebied'][['streefpeil', 'globalid', 'geometry']]\n",
    "Delfland['streefpeil'] = Delfland['streefpeil'].rename(columns={'streefpeil':'waterhoogte'})\n",
    "Delfland['streefpeil']['geometry'] = np.nan"
   ]
  },
  {
   "cell_type": "code",
   "execution_count": 13,
   "id": "e1bf44e7-401e-4d52-84e3-8ea1323432d7",
   "metadata": {},
   "outputs": [],
   "source": [
    "#add aggregation areas\n",
    "aggregation_areas = gpd.read_file(r\"D:\\Users\\Bruijns\\Documents\\PR4750_20\\Data_preprocessed\\Waterschappen\\Delfland\\Delfland_aanvoergebiedafvoergebied.gdb\")\n",
    "aggregation_areas['code'] =  aggregation_areas['CODE']\n",
    "aggregation_areas['nen3610id'] = aggregation_areas['NAAM']\n",
    "aggregation_areas['globalid'] = 'dummy_globalid_agg_area_' + aggregation_areas.index.astype(str)\n",
    "aggregation_areas = aggregation_areas[['code', 'nen3610id', 'globalid', 'geometry']]\n",
    "\n",
    "#remove old boezem, implement new one\n",
    "aggregation_areas = aggregation_areas.loc[aggregation_areas.code != 'BZM']\n",
    "aggregation_areas = pd.concat([aggregation_areas, KRW[['code', 'nen3610id', 'globalid', 'geometry']]])\n",
    "\n",
    "Delfland['aggregation_area'] = gpd.GeoDataFrame(aggregation_areas, geometry='geometry')"
   ]
  },
  {
   "cell_type": "markdown",
   "id": "21ccbba5-8e59-4134-9209-db988bc5c3d5",
   "metadata": {},
   "source": [
    "### Check for the correct keys and columns"
   ]
  },
  {
   "cell_type": "code",
   "execution_count": 14,
   "id": "b064a376-0396-4c93-a2ad-eca3eea54598",
   "metadata": {},
   "outputs": [
    {
     "name": "stdout",
     "output_type": "stream",
     "text": [
      "stuw\n",
      "['code' 'globalid' 'geometry' 'nen3610id']\n",
      "type =  <class 'geopandas.geodataframe.GeoDataFrame'>\n",
      "crs =  epsg:28992\n",
      "\n",
      "gemaal\n",
      "['globalid' 'func_afvoer' 'func_aanvoer' 'func_circulatie' 'geometry'\n",
      " 'code' 'nen3610id']\n",
      "type =  <class 'geopandas.geodataframe.GeoDataFrame'>\n",
      "crs =  epsg:28992\n",
      "\n",
      "duikersifonhevel\n",
      "['code' 'globalid' 'geometry' 'nen3610id']\n",
      "type =  <class 'geopandas.geodataframe.GeoDataFrame'>\n",
      "crs =  epsg:28992\n",
      "\n",
      "keerschot\n",
      "['globalid' 'geometry' 'code' 'nen3610id']\n",
      "type =  <class 'geopandas.geodataframe.GeoDataFrame'>\n",
      "crs =  epsg:28992\n",
      "\n",
      "hydroobject\n",
      "['globalid' 'geometry' 'code' 'nen3610id']\n",
      "type =  <class 'geopandas.geodataframe.GeoDataFrame'>\n",
      "crs =  epsg:28992\n",
      "\n",
      "streefpeil\n",
      "['waterhoogte' 'globalid' 'geometry']\n",
      "type =  <class 'geopandas.geodataframe.GeoDataFrame'>\n",
      "crs =  epsg:28992\n",
      "\n",
      "peilgebied\n",
      "['streefpeil' 'code' 'globalid' 'geometry' 'nen3610id' 'HWS_BZM']\n",
      "type =  <class 'geopandas.geodataframe.GeoDataFrame'>\n",
      "crs =  epsg:28992\n",
      "\n",
      "aggregation_area\n",
      "['code' 'nen3610id' 'globalid' 'geometry']\n",
      "type =  <class 'geopandas.geodataframe.GeoDataFrame'>\n",
      "crs =  epsg:28992\n",
      "\n"
     ]
    }
   ],
   "source": [
    "show_layers_and_columns(waterschap = Delfland)"
   ]
  },
  {
   "cell_type": "markdown",
   "id": "e4e74b4c-17ba-4829-9531-248f4d74cfad",
   "metadata": {},
   "source": [
    "### Store data"
   ]
  },
  {
   "cell_type": "code",
   "execution_count": 15,
   "id": "556aea48-a819-4f70-8e22-6c843354a46d",
   "metadata": {},
   "outputs": [],
   "source": [
    "# Check if the directory exists\n",
    "if not os.path.exists(output_gpkg_path):\n",
    "    # If it doesn't exist, create it\n",
    "    os.makedirs(output_gpkg_path)\n",
    "    \n",
    "store_data(waterschap = Delfland, \n",
    "           output_gpkg_path = output_gpkg_path + '/Delfland')\n"
   ]
  },
  {
   "cell_type": "raw",
   "id": "d6b186d5-c907-4b19-9ee2-c7222476856a",
   "metadata": {},
   "source": []
  },
  {
   "cell_type": "code",
   "execution_count": null,
   "id": "fedb4c6e-49c2-44f4-88f0-0e1ce4802bc7",
   "metadata": {},
   "outputs": [],
   "source": []
  }
 ],
 "metadata": {
  "kernelspec": {
   "display_name": "Routing",
   "language": "python",
   "name": "routing"
  },
  "language_info": {
   "codemirror_mode": {
    "name": "ipython",
    "version": 3
   },
   "file_extension": ".py",
   "mimetype": "text/x-python",
   "name": "python",
   "nbconvert_exporter": "python",
   "pygments_lexer": "ipython3",
   "version": "3.9.13"
  }
 },
 "nbformat": 4,
 "nbformat_minor": 5
}
