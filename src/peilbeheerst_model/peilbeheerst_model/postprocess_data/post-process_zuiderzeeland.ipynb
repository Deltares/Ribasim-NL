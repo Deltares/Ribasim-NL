{
 "cells": [
  {
   "cell_type": "markdown",
   "id": "0",
   "metadata": {
    "tags": []
   },
   "source": [
    "# Zuiderzeeland"
   ]
  },
  {
   "cell_type": "markdown",
   "id": "1",
   "metadata": {},
   "source": [
    "This script adds a new column \"peilgebied_cat\" and makes sure the peilgebieden allign with the HWS layer:\n",
    "- peilgebied_cat = 0 -> peilgebied\n",
    "- peigelbied_cat = 1 -> RHWS (boezem)\n",
    "- peilgebied_cat = 2 -> NHWS "
   ]
  },
  {
   "cell_type": "code",
   "execution_count": null,
   "id": "2",
   "metadata": {},
   "outputs": [],
   "source": [
    "import geopandas as gpd\n",
    "import numpy as np\n",
    "\n",
    "%load_ext autoreload\n",
    "%autoreload 2\n",
    "\n",
    "from general_functions import *"
   ]
  },
  {
   "cell_type": "markdown",
   "id": "3",
   "metadata": {},
   "source": [
    "## Zuiderzeeland"
   ]
  },
  {
   "cell_type": "code",
   "execution_count": null,
   "id": "4",
   "metadata": {},
   "outputs": [],
   "source": [
    "# define relative paths\n",
    "waterschap = \"Zuiderzeeland\"\n",
    "\n",
    "data_path = f\"../projects/4750_20/Data_postprocessed/Waterschappen/{waterschap}/{waterschap}.gpkg\"\n",
    "\n",
    "# Waterschaps boundaries\n",
    "grens_path = \"../projects/4750_30/Data_overig/Waterschapsgrenzen/Waterschapsgrenzen.geojson\"\n",
    "# Hoofdwatersysteem boundaries\n",
    "hws_path = \"../projects/4750_30/Data_overig/HWS/krw_basins_vlakken.gpkg\"\n",
    "# Buffer boundaries\n",
    "buffer_path = \"../projects/4750_30/Data_overig/HWS/hws_buffer_zuiderzeeland.gpkg\"\n",
    "# Output folder\n",
    "output_folder = f\"./Waterschappen/{waterschap}\""
   ]
  },
  {
   "cell_type": "markdown",
   "id": "5",
   "metadata": {},
   "source": [
    "### Load Files"
   ]
  },
  {
   "cell_type": "code",
   "execution_count": null,
   "id": "6",
   "metadata": {},
   "outputs": [],
   "source": [
    "# Load HHNK files\n",
    "Zuiderzeeland = read_gpkg_layers(\n",
    "    gpkg_path=data_path,\n",
    "    variables=[\n",
    "        \"stuw\",\n",
    "        \"gemaal\",\n",
    "        \"hydroobject\",\n",
    "        \"duikersifonhevel\",\n",
    "        \"peilgebied\",\n",
    "        \"streefpeil\",\n",
    "    ],\n",
    ")\n",
    "Zuiderzeeland[\"peilgebied\"] = Zuiderzeeland[\"peilgebied\"].to_crs(\"EPSG:28992\")\n",
    "\n",
    "# Load waterschap boundaries\n",
    "gdf_grens = gpd.read_file(grens_path)\n",
    "gdf_grens = gdf_grens.to_crs(\"EPSG:28992\")\n",
    "gdf_grens = gdf_grens.set_index(\"waterschap\")\n",
    "\n",
    "# Load hws\n",
    "gdf_hws = gpd.read_file(hws_path)\n",
    "\n",
    "# Load buffer\n",
    "gdf_buffer = gpd.read_file(buffer_path)"
   ]
  },
  {
   "cell_type": "markdown",
   "id": "7",
   "metadata": {},
   "source": [
    "## Select waterschap boundaries and clip hws layer"
   ]
  },
  {
   "cell_type": "code",
   "execution_count": null,
   "id": "8",
   "metadata": {},
   "outputs": [],
   "source": [
    "# Select boundaries HH Amstel, Gooi en Vecht\n",
    "gdf_grens = gdf_grens.loc[[\"Waterschap Zuiderzeeland\"]]\n",
    "\n",
    "# Use waterschap boudnaries to clip HWS layer\n",
    "gdf_hws = gpd.overlay(gdf_grens, gdf_hws, how=\"intersection\")"
   ]
  },
  {
   "cell_type": "markdown",
   "id": "9",
   "metadata": {},
   "source": [
    "## Peilgebied and HWS layer overlap:\n",
    "1. Identify the overlapping areas\n",
    "2. Clip\n",
    "3. Calculate overlapping area percentage\n",
    "4. Filter"
   ]
  },
  {
   "cell_type": "code",
   "execution_count": null,
   "id": "10",
   "metadata": {},
   "outputs": [],
   "source": [
    "# Step 1: Identify the Overlapping Areas and clip\n",
    "overlaps = gpd.overlay(Zuiderzeeland[\"peilgebied\"], gdf_hws, how=\"intersection\", keep_geom_type=True)\n",
    "\n",
    "# # Step 2: Subtract Overlapping Areas from the original polygons in each DataFrame\n",
    "non_overlapping_peilgebied = gpd.overlay(Zuiderzeeland[\"peilgebied\"], overlaps, how=\"difference\", keep_geom_type=True)\n",
    "overlaps = gpd.overlay(non_overlapping_peilgebied, gdf_hws, how=\"intersection\", keep_geom_type=False)\n",
    "\n",
    "# Step 3: Calculate Area Percentages\n",
    "# Calculate the area of overlaps\n",
    "overlaps[\"overlap_area\"] = overlaps.area\n",
    "\n",
    "# Step 4: Filter based on area Area Percentages\n",
    "minimum_area = 100\n",
    "print(f\"Number of overlapping shapes without filter: {len(overlaps)}\")\n",
    "overlap_ids = overlaps.loc[overlaps[\"overlap_area\"] > minimum_area]\n",
    "overlap_ids = overlap_ids.globalid.to_list()\n",
    "print(f\"Number of overlapping shapes with filter: {len(overlap_ids)}\")"
   ]
  },
  {
   "cell_type": "code",
   "execution_count": null,
   "id": "11",
   "metadata": {},
   "outputs": [],
   "source": [
    "# Add occurence to geodataframe\n",
    "peilgebieden_cat = []\n",
    "\n",
    "for index, row in Zuiderzeeland[\"peilgebied\"].iterrows():\n",
    "    if row.code == \"dummy_code_peilgebied_18207\":\n",
    "        peilgebieden_cat.append(1)\n",
    "        print(\"yes\")\n",
    "    elif row.code == \"dummy_code_peilgebied_18322\":\n",
    "        peilgebieden_cat.append(1)\n",
    "    elif row.code == \"dummy_code_peilgebied_18155\":\n",
    "        peilgebieden_cat.append(1)\n",
    "    elif row.code == \"dummy_code_peilgebied_18161\":\n",
    "        peilgebieden_cat.append(1)\n",
    "    elif row.code == \"dummy_code_peilgebied_19451\":\n",
    "        peilgebieden_cat.append(2)\n",
    "    else:\n",
    "        peilgebieden_cat.append(0)\n",
    "\n",
    "\n",
    "# Add new column and drop old HWS_BZM column\n",
    "Zuiderzeeland[\"peilgebied\"][\"peilgebied_cat\"] = peilgebieden_cat\n",
    "# Zuiderzeeland['peilgebied'] = Zuiderzeeland['peilgebied'].drop(columns=['HWS_BZM'])"
   ]
  },
  {
   "cell_type": "markdown",
   "id": "12",
   "metadata": {},
   "source": [
    "## Add nhws to ['peilgebied']"
   ]
  },
  {
   "cell_type": "code",
   "execution_count": null,
   "id": "13",
   "metadata": {},
   "outputs": [],
   "source": [
    "# update peilgebied dict key\n",
    "gdf_hws[\"globalid\"] = \"dummy_globalid_nhws_\" + gdf_hws.index.astype(str)\n",
    "gdf_hws[\"code\"] = \"dummy_code_nhws_\" + gdf_hws.index.astype(str)\n",
    "gdf_hws[\"nen3610id\"] = \"dummy_nen3610id_nhws_\" + gdf_hws.index.astype(str)\n",
    "gdf_hws[\"peilgebied_cat\"] = 2\n",
    "\n",
    "gdf_hws = gdf_hws[[\"globalid\", \"code\", \"nen3610id\", \"peilgebied_cat\", \"geometry\"]]\n",
    "\n",
    "Zuiderzeeland[\"peilgebied\"] = pd.concat([gdf_hws, Zuiderzeeland[\"peilgebied\"]])"
   ]
  },
  {
   "cell_type": "markdown",
   "id": "14",
   "metadata": {},
   "source": [
    "## Add HWS to ['streefpeil']"
   ]
  },
  {
   "cell_type": "code",
   "execution_count": null,
   "id": "15",
   "metadata": {},
   "outputs": [],
   "source": [
    "# Create boezem streefpeil layer\n",
    "streefpeil_hws = pd.DataFrame()\n",
    "streefpeil_hws[\"waterhoogte\"] = [np.nan] * len(gdf_hws)\n",
    "streefpeil_hws[\"globalid\"] = \"dummy_globalid_nhws_\" + gdf_hws.index.astype(str)\n",
    "streefpeil_hws[\"geometry\"] = [None] * len(gdf_hws)\n",
    "\n",
    "Zuiderzeeland[\"streefpeil\"] = pd.concat([streefpeil_hws, Zuiderzeeland[\"streefpeil\"]])\n",
    "Zuiderzeeland[\"streefpeil\"] = gpd.GeoDataFrame(Zuiderzeeland[\"streefpeil\"])"
   ]
  },
  {
   "cell_type": "markdown",
   "id": "16",
   "metadata": {},
   "source": [
    "### Create buffer layer that ensures spatial match between peilgebied and hws layers based on the buffer layer"
   ]
  },
  {
   "cell_type": "code",
   "execution_count": null,
   "id": "17",
   "metadata": {},
   "outputs": [],
   "source": [
    "buffer_polygon = gdf_buffer.geometry.iat[0].intersection(gdf_grens.geometry.iat[0])\n",
    "buffer_polygon = buffer_polygon.difference(shapely.geometry.MultiPolygon(gdf_hws.geometry.tolist()))\n",
    "buffer_polygon = buffer_polygon.difference(shapely.ops.unary_union(Zuiderzeeland[\"peilgebied\"].geometry.tolist()))\n",
    "\n",
    "buffer_polygon = gpd.GeoDataFrame(buffer_polygon)\n",
    "buffer_polygon = buffer_polygon.set_geometry(0)\n",
    "buffer_polygon = buffer_polygon.dissolve()\n",
    "buffer_polygon = buffer_polygon.rename(columns={0: \"geometry\"})\n",
    "buffer_polygon = buffer_polygon.set_geometry(\"geometry\")\n",
    "buffer_polygon = buffer_polygon.set_crs(\"EPSG:28992\")"
   ]
  },
  {
   "cell_type": "markdown",
   "id": "18",
   "metadata": {
    "tags": []
   },
   "source": [
    "## Add buffer to ['peilgebied','streefpeil']"
   ]
  },
  {
   "cell_type": "code",
   "execution_count": null,
   "id": "19",
   "metadata": {},
   "outputs": [],
   "source": [
    "# update peilgebied dict key\n",
    "buffer_polygon[\"globalid\"] = \"dummy_globalid_nhws_buffer_\" + buffer_polygon.index.astype(str)\n",
    "buffer_polygon[\"code\"] = \"dummy_code_nhws_buffer_\" + buffer_polygon.index.astype(str)\n",
    "buffer_polygon[\"nen3610id\"] = \"dummy_nen3610id_nhws_buffer_\" + buffer_polygon.index.astype(str)\n",
    "buffer_polygon[\"peilgebied_cat\"] = 2\n",
    "\n",
    "buffer_polygon = buffer_polygon[[\"globalid\", \"code\", \"nen3610id\", \"peilgebied_cat\", \"geometry\"]]\n",
    "\n",
    "Zuiderzeeland[\"peilgebied\"] = pd.concat([buffer_polygon, Zuiderzeeland[\"peilgebied\"]])"
   ]
  },
  {
   "cell_type": "code",
   "execution_count": null,
   "id": "20",
   "metadata": {},
   "outputs": [],
   "source": [
    "# Create boezem streefpeil layer\n",
    "streefpeil_buffer = pd.DataFrame()\n",
    "streefpeil_buffer[\"waterhoogte\"] = [np.nan]\n",
    "streefpeil_buffer[\"globalid\"] = [\"dummy_globalid_nhws_buffer_1\"]\n",
    "streefpeil_buffer[\"geometry\"] = [None]\n",
    "\n",
    "\n",
    "Zuiderzeeland[\"streefpeil\"] = pd.concat([streefpeil_buffer, Zuiderzeeland[\"streefpeil\"]])\n",
    "Zuiderzeeland[\"streefpeil\"] = gpd.GeoDataFrame(Zuiderzeeland[\"streefpeil\"])"
   ]
  },
  {
   "cell_type": "markdown",
   "id": "21",
   "metadata": {},
   "source": [
    "## Store output"
   ]
  },
  {
   "cell_type": "code",
   "execution_count": null,
   "id": "22",
   "metadata": {},
   "outputs": [],
   "source": [
    "Zuiderzeeland[\"peilgebied\"].globalid.is_unique"
   ]
  },
  {
   "cell_type": "code",
   "execution_count": null,
   "id": "23",
   "metadata": {},
   "outputs": [],
   "source": [
    "for key in Zuiderzeeland.keys():\n",
    "    print(key)\n",
    "    Zuiderzeeland[str(key)].to_file(f\"{output_folder}/{waterschap2}.gpkg\", layer=str(key), driver=\"GPKG\")"
   ]
  }
 ],
 "metadata": {
  "kernelspec": {
   "display_name": "Python [conda env:stable]",
   "language": "python",
   "name": "conda-env-stable-py"
  },
  "language_info": {
   "codemirror_mode": {
    "name": "ipython",
    "version": 3
   },
   "file_extension": ".py",
   "mimetype": "text/x-python",
   "name": "python",
   "nbconvert_exporter": "python",
   "pygments_lexer": "ipython3",
   "version": "3.8.15"
  }
 },
 "nbformat": 4,
 "nbformat_minor": 5
}
