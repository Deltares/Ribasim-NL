{
 "cells": [
  {
   "cell_type": "markdown",
   "id": "690952c5-5037-476a-a660-d54fec614748",
   "metadata": {
    "tags": []
   },
   "source": [
    "# Zuiderzeeland"
   ]
  },
  {
   "cell_type": "markdown",
   "id": "e9e378d7-8f05-4562-87b0-34978ba61554",
   "metadata": {},
   "source": [
    "This script adds a new column \"peilgebied_cat\" and makes sure the peilgebieden allign with the HWS layer:\n",
    "- peilgebied_cat = 0 -> peilgebied\n",
    "- peigelbied_cat = 1 -> RHWS (boezem)\n",
    "- peilgebied_cat = 2 -> NHWS "
   ]
  },
  {
   "cell_type": "code",
   "execution_count": 81,
   "id": "0c27c7a4-5733-46ea-970f-cd985b8c92cd",
   "metadata": {},
   "outputs": [
    {
     "name": "stdout",
     "output_type": "stream",
     "text": [
      "The autoreload extension is already loaded. To reload it, use:\n",
      "  %reload_ext autoreload\n"
     ]
    }
   ],
   "source": [
    "import geopandas as gpd\n",
    "import numpy as np\n",
    "from general_functions import *\n",
    "\n",
    "%load_ext autoreload\n",
    "%autoreload 2\n",
    "\n",
    "remove_cat_2 = True"
   ]
  },
  {
   "cell_type": "markdown",
   "id": "b2434b6d-2898-45f8-a5cb-fbb9c2c2e77b",
   "metadata": {},
   "source": [
    "## Zuiderzeeland"
   ]
  },
  {
   "cell_type": "code",
   "execution_count": 82,
   "id": "e15206a7-6639-40bb-9942-f920085f53b4",
   "metadata": {},
   "outputs": [],
   "source": [
    "#define relative paths\n",
    "waterschap = 'Zuiderzeeland'\n",
    "waterschap2 = 'Zuiderzeeland'\n",
    "data_path = f\"/DATAFOLDER/projects/4750_20/Data_postprocessed/Waterschappen/{waterschap}/{waterschap}.gpkg\"\n",
    "\n",
    "# Waterschaps boundaries\n",
    "grens_path = \"/DATAFOLDER/projects/4750_30/Data_overig/Waterschapsgrenzen/Waterschapsgrenzen.geojson\"\n",
    "# Hoofdwatersysteem boundaries\n",
    "hws_path = \"/DATAFOLDER/projects/4750_30/Data_overig/HWS/krw_basins_vlakken.gpkg\"\n",
    "# Buffer boundaries\n",
    "buffer_path =  \"/DATAFOLDER/projects/4750_30/Data_overig/HWS/hws_buffer_zuiderzeeland.gpkg\"\n",
    "# Output folder\n",
    "output_folder = f\"/DATAFOLDER/projects/4750_30/Data_postprocessed/Waterschappen/{waterschap}\""
   ]
  },
  {
   "cell_type": "markdown",
   "id": "7bbafed8-355a-4ec9-90c9-eca9e3b9313d",
   "metadata": {},
   "source": [
    "### Load Files"
   ]
  },
  {
   "cell_type": "code",
   "execution_count": 83,
   "id": "0f6dcf56-e8a4-4055-bc86-a6d33c91d8d8",
   "metadata": {},
   "outputs": [],
   "source": [
    "# Load HHNK files\n",
    "Zuiderzeeland = read_gpkg_layers(gpkg_path = data_path, \n",
    "                    variables = ['stuw', \n",
    "                                 'gemaal', \n",
    "                                 'hydroobject',\n",
    "                                 'duikersifonhevel',\n",
    "                                 'peilgebied', \n",
    "                                 'streefpeil',\n",
    "                                 'aggregation_area',\n",
    "                                ])\n",
    "Zuiderzeeland['peilgebied'] = Zuiderzeeland['peilgebied'].to_crs('EPSG:28992')\n",
    "\n",
    "# Load waterschap boundaries\n",
    "gdf_grens = gpd.read_file(grens_path)\n",
    "gdf_grens = gdf_grens.to_crs('EPSG:28992')\n",
    "gdf_grens = gdf_grens.set_index('waterschap')\n",
    "\n",
    "# Load hws\n",
    "gdf_hws = gpd.read_file(hws_path)\n",
    "\n",
    "# Load buffer\n",
    "gdf_buffer = gpd.read_file(buffer_path)"
   ]
  },
  {
   "cell_type": "code",
   "execution_count": 84,
   "id": "51af6c3a-7b5d-447c-8757-5dd2f4694958",
   "metadata": {},
   "outputs": [
    {
     "data": {
      "text/plain": [
       "True"
      ]
     },
     "execution_count": 84,
     "metadata": {},
     "output_type": "execute_result"
    }
   ],
   "source": [
    "Zuiderzeeland['peilgebied'].globalid.is_unique"
   ]
  },
  {
   "cell_type": "markdown",
   "id": "b37e2158-618d-4dd0-a576-7cb32e41c0d2",
   "metadata": {},
   "source": [
    "## Select waterschap boundaries and clip hws layer"
   ]
  },
  {
   "cell_type": "code",
   "execution_count": 85,
   "id": "c5e7495b-8517-4729-b586-7e1913dbbd83",
   "metadata": {},
   "outputs": [],
   "source": [
    "# Select boundaries HH Amstel, Gooi en Vecht\n",
    "gdf_grens = gdf_grens.loc[['Waterschap Zuiderzeeland']]\n",
    "\n",
    "# Use waterschap boudnaries to clip HWS layer\n",
    "gdf_hws = gpd.overlay(gdf_grens, gdf_hws, how='intersection')"
   ]
  },
  {
   "cell_type": "code",
   "execution_count": 86,
   "id": "51e6de19-8bb2-47f9-860c-45d30d72972d",
   "metadata": {},
   "outputs": [
    {
     "data": {
      "text/html": [
       "<div>\n",
       "<style scoped>\n",
       "    .dataframe tbody tr th:only-of-type {\n",
       "        vertical-align: middle;\n",
       "    }\n",
       "\n",
       "    .dataframe tbody tr th {\n",
       "        vertical-align: top;\n",
       "    }\n",
       "\n",
       "    .dataframe thead th {\n",
       "        text-align: right;\n",
       "    }\n",
       "</style>\n",
       "<table border=\"1\" class=\"dataframe\">\n",
       "  <thead>\n",
       "    <tr style=\"text-align: right;\">\n",
       "      <th></th>\n",
       "      <th>code</th>\n",
       "      <th>globalid</th>\n",
       "      <th>nen3610id</th>\n",
       "      <th>geometry</th>\n",
       "    </tr>\n",
       "  </thead>\n",
       "  <tbody>\n",
       "    <tr>\n",
       "      <th>0</th>\n",
       "      <td>OR 56</td>\n",
       "      <td>dummy_globalid_peilgebied_0</td>\n",
       "      <td>dummy_nen3610id_peilgebied_0</td>\n",
       "      <td>POLYGON Z ((167444.972 487009.101 0.000, 16762...</td>\n",
       "    </tr>\n",
       "    <tr>\n",
       "      <th>1</th>\n",
       "      <td>OR 13</td>\n",
       "      <td>dummy_globalid_peilgebied_1</td>\n",
       "      <td>dummy_nen3610id_peilgebied_1</td>\n",
       "      <td>POLYGON Z ((182383.808 509903.577 0.000, 18241...</td>\n",
       "    </tr>\n",
       "    <tr>\n",
       "      <th>2</th>\n",
       "      <td>HT 6</td>\n",
       "      <td>dummy_globalid_peilgebied_2</td>\n",
       "      <td>dummy_nen3610id_peilgebied_2</td>\n",
       "      <td>POLYGON Z ((158728.408 504422.232 0.000, 15873...</td>\n",
       "    </tr>\n",
       "    <tr>\n",
       "      <th>3</th>\n",
       "      <td>SCHOTERPAD-D-TOCHT</td>\n",
       "      <td>dummy_globalid_peilgebied_3</td>\n",
       "      <td>dummy_nen3610id_peilgebied_3</td>\n",
       "      <td>POLYGON Z ((179970.587 533631.593 0.000, 17996...</td>\n",
       "    </tr>\n",
       "    <tr>\n",
       "      <th>4</th>\n",
       "      <td>ZWARTEMEERTOCHT</td>\n",
       "      <td>dummy_globalid_peilgebied_4</td>\n",
       "      <td>dummy_nen3610id_peilgebied_4</td>\n",
       "      <td>POLYGON Z ((192476.653 518448.383 0.000, 19250...</td>\n",
       "    </tr>\n",
       "    <tr>\n",
       "      <th>...</th>\n",
       "      <td>...</td>\n",
       "      <td>...</td>\n",
       "      <td>...</td>\n",
       "      <td>...</td>\n",
       "    </tr>\n",
       "    <tr>\n",
       "      <th>290</th>\n",
       "      <td>TA.02</td>\n",
       "      <td>dummy_globalid_peilgebied_290</td>\n",
       "      <td>dummy_nen3610id_peilgebied_290</td>\n",
       "      <td>POLYGON Z ((189642.837 527330.192 0.000, 18985...</td>\n",
       "    </tr>\n",
       "    <tr>\n",
       "      <th>291</th>\n",
       "      <td>URK 2</td>\n",
       "      <td>dummy_globalid_peilgebied_291</td>\n",
       "      <td>dummy_nen3610id_peilgebied_291</td>\n",
       "      <td>POLYGON Z ((169418.497 519698.470 0.000, 16937...</td>\n",
       "    </tr>\n",
       "    <tr>\n",
       "      <th>292</th>\n",
       "      <td>TA.13</td>\n",
       "      <td>dummy_globalid_peilgebied_292</td>\n",
       "      <td>dummy_nen3610id_peilgebied_292</td>\n",
       "      <td>POLYGON Z ((187294.201 529202.794 0.000, 18747...</td>\n",
       "    </tr>\n",
       "    <tr>\n",
       "      <th>293</th>\n",
       "      <td>3.11</td>\n",
       "      <td>dummy_globalid_peilgebied_293</td>\n",
       "      <td>dummy_nen3610id_peilgebied_293</td>\n",
       "      <td>POLYGON Z ((160519.614 477230.775 0.000, 16016...</td>\n",
       "    </tr>\n",
       "    <tr>\n",
       "      <th>294</th>\n",
       "      <td>TA.04</td>\n",
       "      <td>dummy_globalid_peilgebied_294</td>\n",
       "      <td>dummy_nen3610id_peilgebied_294</td>\n",
       "      <td>POLYGON Z ((188319.932 529257.440 0.000, 18832...</td>\n",
       "    </tr>\n",
       "  </tbody>\n",
       "</table>\n",
       "<p>295 rows × 4 columns</p>\n",
       "</div>"
      ],
      "text/plain": [
       "                   code                       globalid  \\\n",
       "0                 OR 56    dummy_globalid_peilgebied_0   \n",
       "1                 OR 13    dummy_globalid_peilgebied_1   \n",
       "2                  HT 6    dummy_globalid_peilgebied_2   \n",
       "3    SCHOTERPAD-D-TOCHT    dummy_globalid_peilgebied_3   \n",
       "4       ZWARTEMEERTOCHT    dummy_globalid_peilgebied_4   \n",
       "..                  ...                            ...   \n",
       "290               TA.02  dummy_globalid_peilgebied_290   \n",
       "291               URK 2  dummy_globalid_peilgebied_291   \n",
       "292               TA.13  dummy_globalid_peilgebied_292   \n",
       "293                3.11  dummy_globalid_peilgebied_293   \n",
       "294               TA.04  dummy_globalid_peilgebied_294   \n",
       "\n",
       "                          nen3610id  \\\n",
       "0      dummy_nen3610id_peilgebied_0   \n",
       "1      dummy_nen3610id_peilgebied_1   \n",
       "2      dummy_nen3610id_peilgebied_2   \n",
       "3      dummy_nen3610id_peilgebied_3   \n",
       "4      dummy_nen3610id_peilgebied_4   \n",
       "..                              ...   \n",
       "290  dummy_nen3610id_peilgebied_290   \n",
       "291  dummy_nen3610id_peilgebied_291   \n",
       "292  dummy_nen3610id_peilgebied_292   \n",
       "293  dummy_nen3610id_peilgebied_293   \n",
       "294  dummy_nen3610id_peilgebied_294   \n",
       "\n",
       "                                              geometry  \n",
       "0    POLYGON Z ((167444.972 487009.101 0.000, 16762...  \n",
       "1    POLYGON Z ((182383.808 509903.577 0.000, 18241...  \n",
       "2    POLYGON Z ((158728.408 504422.232 0.000, 15873...  \n",
       "3    POLYGON Z ((179970.587 533631.593 0.000, 17996...  \n",
       "4    POLYGON Z ((192476.653 518448.383 0.000, 19250...  \n",
       "..                                                 ...  \n",
       "290  POLYGON Z ((189642.837 527330.192 0.000, 18985...  \n",
       "291  POLYGON Z ((169418.497 519698.470 0.000, 16937...  \n",
       "292  POLYGON Z ((187294.201 529202.794 0.000, 18747...  \n",
       "293  POLYGON Z ((160519.614 477230.775 0.000, 16016...  \n",
       "294  POLYGON Z ((188319.932 529257.440 0.000, 18832...  \n",
       "\n",
       "[295 rows x 4 columns]"
      ]
     },
     "execution_count": 86,
     "metadata": {},
     "output_type": "execute_result"
    }
   ],
   "source": [
    "Zuiderzeeland['peilgebied']"
   ]
  },
  {
   "cell_type": "markdown",
   "id": "b93b71dd-7176-42ae-bf4e-f31a429b229a",
   "metadata": {},
   "source": [
    "## Peilgebied and HWS layer overlap:\n",
    "1. Identify the overlapping areas\n",
    "2. Clip\n",
    "3. Calculate overlapping area percentage\n",
    "4. Filter"
   ]
  },
  {
   "cell_type": "code",
   "execution_count": 87,
   "id": "76cd16f7-c2cd-4ef7-b478-42359e0f8735",
   "metadata": {},
   "outputs": [
    {
     "name": "stdout",
     "output_type": "stream",
     "text": [
      "Number of overlapping shapes without filter: 23\n",
      "Number of overlapping shapes with filter: 0\n"
     ]
    }
   ],
   "source": [
    "# Step 1: Identify the Overlapping Areas and clip\n",
    "overlaps = gpd.overlay(Zuiderzeeland['peilgebied'], gdf_hws, how='intersection', keep_geom_type=True)\n",
    "\n",
    "# # Step 2: Subtract Overlapping Areas from the original polygons in each DataFrame\n",
    "non_overlapping_peilgebied = gpd.overlay(Zuiderzeeland['peilgebied'], overlaps, how='difference', keep_geom_type=True)\n",
    "overlaps = gpd.overlay(non_overlapping_peilgebied, gdf_hws, how='intersection', keep_geom_type=False)\n",
    " \n",
    "# Step 3: Calculate Area Percentages\n",
    "# Calculate the area of overlaps\n",
    "overlaps['overlap_area'] = overlaps.area\n",
    "\n",
    "# Step 4: Filter based on area Area Percentages\n",
    "minimum_area = 100\n",
    "print(f'Number of overlapping shapes without filter: {len(overlaps)}')\n",
    "overlap_ids = overlaps.loc[overlaps['overlap_area'] > minimum_area]\n",
    "overlap_ids = overlap_ids.globalid.to_list()\n",
    "print(f'Number of overlapping shapes with filter: {len(overlap_ids)}')"
   ]
  },
  {
   "cell_type": "code",
   "execution_count": 88,
   "id": "3fca7d17-e4a3-445e-92ef-74e60e661e1e",
   "metadata": {},
   "outputs": [
    {
     "data": {
      "text/html": [
       "<div>\n",
       "<style scoped>\n",
       "    .dataframe tbody tr th:only-of-type {\n",
       "        vertical-align: middle;\n",
       "    }\n",
       "\n",
       "    .dataframe tbody tr th {\n",
       "        vertical-align: top;\n",
       "    }\n",
       "\n",
       "    .dataframe thead th {\n",
       "        text-align: right;\n",
       "    }\n",
       "</style>\n",
       "<table border=\"1\" class=\"dataframe\">\n",
       "  <thead>\n",
       "    <tr style=\"text-align: right;\">\n",
       "      <th></th>\n",
       "      <th>code</th>\n",
       "      <th>globalid</th>\n",
       "      <th>nen3610id</th>\n",
       "      <th>geometry</th>\n",
       "    </tr>\n",
       "  </thead>\n",
       "  <tbody>\n",
       "    <tr>\n",
       "      <th>0</th>\n",
       "      <td>OR 56</td>\n",
       "      <td>dummy_globalid_peilgebied_0</td>\n",
       "      <td>dummy_nen3610id_peilgebied_0</td>\n",
       "      <td>POLYGON Z ((167444.972 487009.101 0.000, 16762...</td>\n",
       "    </tr>\n",
       "    <tr>\n",
       "      <th>1</th>\n",
       "      <td>OR 13</td>\n",
       "      <td>dummy_globalid_peilgebied_1</td>\n",
       "      <td>dummy_nen3610id_peilgebied_1</td>\n",
       "      <td>POLYGON Z ((182383.808 509903.577 0.000, 18241...</td>\n",
       "    </tr>\n",
       "    <tr>\n",
       "      <th>2</th>\n",
       "      <td>HT 6</td>\n",
       "      <td>dummy_globalid_peilgebied_2</td>\n",
       "      <td>dummy_nen3610id_peilgebied_2</td>\n",
       "      <td>POLYGON Z ((158728.408 504422.232 0.000, 15873...</td>\n",
       "    </tr>\n",
       "    <tr>\n",
       "      <th>3</th>\n",
       "      <td>SCHOTERPAD-D-TOCHT</td>\n",
       "      <td>dummy_globalid_peilgebied_3</td>\n",
       "      <td>dummy_nen3610id_peilgebied_3</td>\n",
       "      <td>POLYGON Z ((179970.587 533631.593 0.000, 17996...</td>\n",
       "    </tr>\n",
       "    <tr>\n",
       "      <th>4</th>\n",
       "      <td>ZWARTEMEERTOCHT</td>\n",
       "      <td>dummy_globalid_peilgebied_4</td>\n",
       "      <td>dummy_nen3610id_peilgebied_4</td>\n",
       "      <td>POLYGON Z ((192476.653 518448.383 0.000, 19250...</td>\n",
       "    </tr>\n",
       "    <tr>\n",
       "      <th>...</th>\n",
       "      <td>...</td>\n",
       "      <td>...</td>\n",
       "      <td>...</td>\n",
       "      <td>...</td>\n",
       "    </tr>\n",
       "    <tr>\n",
       "      <th>290</th>\n",
       "      <td>TA.02</td>\n",
       "      <td>dummy_globalid_peilgebied_290</td>\n",
       "      <td>dummy_nen3610id_peilgebied_290</td>\n",
       "      <td>POLYGON Z ((189642.837 527330.192 0.000, 18985...</td>\n",
       "    </tr>\n",
       "    <tr>\n",
       "      <th>291</th>\n",
       "      <td>URK 2</td>\n",
       "      <td>dummy_globalid_peilgebied_291</td>\n",
       "      <td>dummy_nen3610id_peilgebied_291</td>\n",
       "      <td>POLYGON Z ((169418.497 519698.470 0.000, 16937...</td>\n",
       "    </tr>\n",
       "    <tr>\n",
       "      <th>292</th>\n",
       "      <td>TA.13</td>\n",
       "      <td>dummy_globalid_peilgebied_292</td>\n",
       "      <td>dummy_nen3610id_peilgebied_292</td>\n",
       "      <td>POLYGON Z ((187294.201 529202.794 0.000, 18747...</td>\n",
       "    </tr>\n",
       "    <tr>\n",
       "      <th>293</th>\n",
       "      <td>3.11</td>\n",
       "      <td>dummy_globalid_peilgebied_293</td>\n",
       "      <td>dummy_nen3610id_peilgebied_293</td>\n",
       "      <td>POLYGON Z ((160519.614 477230.775 0.000, 16016...</td>\n",
       "    </tr>\n",
       "    <tr>\n",
       "      <th>294</th>\n",
       "      <td>TA.04</td>\n",
       "      <td>dummy_globalid_peilgebied_294</td>\n",
       "      <td>dummy_nen3610id_peilgebied_294</td>\n",
       "      <td>POLYGON Z ((188319.932 529257.440 0.000, 18832...</td>\n",
       "    </tr>\n",
       "  </tbody>\n",
       "</table>\n",
       "<p>295 rows × 4 columns</p>\n",
       "</div>"
      ],
      "text/plain": [
       "                   code                       globalid  \\\n",
       "0                 OR 56    dummy_globalid_peilgebied_0   \n",
       "1                 OR 13    dummy_globalid_peilgebied_1   \n",
       "2                  HT 6    dummy_globalid_peilgebied_2   \n",
       "3    SCHOTERPAD-D-TOCHT    dummy_globalid_peilgebied_3   \n",
       "4       ZWARTEMEERTOCHT    dummy_globalid_peilgebied_4   \n",
       "..                  ...                            ...   \n",
       "290               TA.02  dummy_globalid_peilgebied_290   \n",
       "291               URK 2  dummy_globalid_peilgebied_291   \n",
       "292               TA.13  dummy_globalid_peilgebied_292   \n",
       "293                3.11  dummy_globalid_peilgebied_293   \n",
       "294               TA.04  dummy_globalid_peilgebied_294   \n",
       "\n",
       "                          nen3610id  \\\n",
       "0      dummy_nen3610id_peilgebied_0   \n",
       "1      dummy_nen3610id_peilgebied_1   \n",
       "2      dummy_nen3610id_peilgebied_2   \n",
       "3      dummy_nen3610id_peilgebied_3   \n",
       "4      dummy_nen3610id_peilgebied_4   \n",
       "..                              ...   \n",
       "290  dummy_nen3610id_peilgebied_290   \n",
       "291  dummy_nen3610id_peilgebied_291   \n",
       "292  dummy_nen3610id_peilgebied_292   \n",
       "293  dummy_nen3610id_peilgebied_293   \n",
       "294  dummy_nen3610id_peilgebied_294   \n",
       "\n",
       "                                              geometry  \n",
       "0    POLYGON Z ((167444.972 487009.101 0.000, 16762...  \n",
       "1    POLYGON Z ((182383.808 509903.577 0.000, 18241...  \n",
       "2    POLYGON Z ((158728.408 504422.232 0.000, 15873...  \n",
       "3    POLYGON Z ((179970.587 533631.593 0.000, 17996...  \n",
       "4    POLYGON Z ((192476.653 518448.383 0.000, 19250...  \n",
       "..                                                 ...  \n",
       "290  POLYGON Z ((189642.837 527330.192 0.000, 18985...  \n",
       "291  POLYGON Z ((169418.497 519698.470 0.000, 16937...  \n",
       "292  POLYGON Z ((187294.201 529202.794 0.000, 18747...  \n",
       "293  POLYGON Z ((160519.614 477230.775 0.000, 16016...  \n",
       "294  POLYGON Z ((188319.932 529257.440 0.000, 18832...  \n",
       "\n",
       "[295 rows x 4 columns]"
      ]
     },
     "execution_count": 88,
     "metadata": {},
     "output_type": "execute_result"
    }
   ],
   "source": [
    "Zuiderzeeland['peilgebied']"
   ]
  },
  {
   "cell_type": "code",
   "execution_count": 89,
   "id": "a7f16af4-fc46-4533-93b6-ee52d6d7687c",
   "metadata": {},
   "outputs": [
    {
     "name": "stdout",
     "output_type": "stream",
     "text": [
      "yes\n",
      "yes\n",
      "yes\n",
      "yes\n",
      "yes\n",
      "yes\n"
     ]
    }
   ],
   "source": [
    "# Add occurence to geodataframe\n",
    "peilgebieden_cat = []\n",
    "\n",
    "for index, row in Zuiderzeeland['peilgebied'].iterrows():\n",
    "       \n",
    "    if 'LVA.01' in row.code:\n",
    "        peilgebieden_cat.append(1)\n",
    "        print('yes')\n",
    "    elif '3.01' in row.code:\n",
    "        peilgebieden_cat.append(1)\n",
    "        print('yes')\n",
    "    elif  'LAGE AFDELING' in row.code:\n",
    "        print('yes')\n",
    "        peilgebieden_cat.append(1)\n",
    "\n",
    "    elif  'HOGE AFDELING' in row.code:\n",
    "        print('yes')\n",
    "        peilgebieden_cat.append(1)\n",
    "\n",
    "    else:\n",
    "        peilgebieden_cat.append(0)\n",
    "        \n",
    "\n",
    "        \n",
    "\n",
    "\n",
    "\n",
    "\n",
    "# Add new column and drop old HWS_BZM column\n",
    "Zuiderzeeland['peilgebied']['peilgebied_cat'] = peilgebieden_cat\n",
    "# Zuiderzeeland['peilgebied'] = Zuiderzeeland['peilgebied'].drop(columns=['HWS_BZM'])"
   ]
  },
  {
   "cell_type": "markdown",
   "id": "5dcaab7b-5abe-431a-b890-9d19be3254f2",
   "metadata": {},
   "source": [
    "## Add nhws to ['peilgebied']"
   ]
  },
  {
   "cell_type": "code",
   "execution_count": 90,
   "id": "ec5c9dde-2698-4a73-9fce-266a3c5e96d7",
   "metadata": {},
   "outputs": [],
   "source": [
    "# update peilgebied dict key\n",
    "gdf_hws['globalid'] = 'dummy_globalid_nhws_' + gdf_hws.index.astype(str)\n",
    "gdf_hws['code'] = 'dummy_code_nhws_' + gdf_hws.index.astype(str)\n",
    "gdf_hws['nen3610id'] = 'dummy_nen3610id_nhws_' + gdf_hws.index.astype(str)\n",
    "gdf_hws['peilgebied_cat'] = 2\n",
    "\n",
    "gdf_hws = gdf_hws[['globalid', 'code', 'nen3610id', 'peilgebied_cat', 'geometry']]\n",
    "\n",
    "Zuiderzeeland['peilgebied'] = pd.concat([gdf_hws, Zuiderzeeland['peilgebied']])"
   ]
  },
  {
   "cell_type": "markdown",
   "id": "51415106-fb75-4dad-97ba-4b046cb1f545",
   "metadata": {},
   "source": [
    "## Add HWS to ['streefpeil']"
   ]
  },
  {
   "cell_type": "code",
   "execution_count": 91,
   "id": "9e61effa-42ae-46d7-879e-d7fa928ebd8d",
   "metadata": {},
   "outputs": [],
   "source": [
    "# Create boezem streefpeil layer\n",
    "streefpeil_hws = pd.DataFrame()\n",
    "streefpeil_hws['waterhoogte'] = [np.nan] * len(gdf_hws)\n",
    "streefpeil_hws['globalid'] = 'dummy_globalid_nhws_' + gdf_hws.index.astype(str)\n",
    "streefpeil_hws['geometry'] = [None]* len(gdf_hws)\n",
    "\n",
    "Zuiderzeeland['streefpeil'] = pd.concat([streefpeil_hws, Zuiderzeeland['streefpeil']])\n",
    "Zuiderzeeland['streefpeil'] = gpd.GeoDataFrame(Zuiderzeeland['streefpeil'])"
   ]
  },
  {
   "cell_type": "markdown",
   "id": "a1c16adb-759d-41ae-b864-513aaafff8ac",
   "metadata": {},
   "source": [
    "### Create buffer layer that ensures spatial match between peilgebied and hws layers based on the buffer layer"
   ]
  },
  {
   "cell_type": "code",
   "execution_count": 92,
   "id": "1317fbfd-b713-4172-b1b0-c678c4e8d986",
   "metadata": {},
   "outputs": [],
   "source": [
    "# buffer_polygon = gdf_buffer.geometry.iat[0].intersection(gdf_grens.geometry.iat[0])\n",
    "# buffer_polygon = buffer_polygon.difference(shapely.geometry.MultiPolygon(gdf_hws.geometry.tolist()))\n",
    "# buffer_polygon = buffer_polygon.difference(shapely.ops.unary_union(Zuiderzeeland['peilgebied'].geometry.tolist()))\n",
    "\n",
    "# buffer_polygon = gpd.GeoDataFrame(buffer_polygon)\n",
    "# buffer_polygon = buffer_polygon.set_geometry(0)\n",
    "# buffer_polygon = buffer_polygon.dissolve()\n",
    "# buffer_polygon = buffer_polygon.rename(columns={0:'geometry'})\n",
    "# buffer_polygon = buffer_polygon.set_geometry('geometry')\n",
    "# buffer_polygon = buffer_polygon.set_crs('EPSG:28992')"
   ]
  },
  {
   "cell_type": "markdown",
   "id": "d7ca89cf-c74c-4c88-9c69-4dfdca718e54",
   "metadata": {
    "tags": []
   },
   "source": [
    "## Add buffer to ['peilgebied','streefpeil']"
   ]
  },
  {
   "cell_type": "code",
   "execution_count": 93,
   "id": "f5033a40-2967-4cc1-9772-fef2be4169b0",
   "metadata": {},
   "outputs": [],
   "source": [
    "# # update peilgebied dict key\n",
    "# buffer_polygon['globalid'] = 'dummy_globalid_nhws_buffer_' + buffer_polygon.index.astype(str)\n",
    "# buffer_polygon['code'] = 'dummy_code_nhws_buffer_' + buffer_polygon.index.astype(str)\n",
    "# buffer_polygon['nen3610id'] = 'dummy_nen3610id_nhws_buffer_' + buffer_polygon.index.astype(str)\n",
    "# buffer_polygon['peilgebied_cat'] = 2\n",
    "\n",
    "# buffer_polygon = buffer_polygon[['globalid', 'code', 'nen3610id', 'peilgebied_cat', 'geometry']]\n",
    "\n",
    "# Zuiderzeeland['peilgebied'] = pd.concat([buffer_polygon, Zuiderzeeland['peilgebied']])"
   ]
  },
  {
   "cell_type": "code",
   "execution_count": 94,
   "id": "970ab69a-6f3a-46ce-9882-aded5f98a39f",
   "metadata": {},
   "outputs": [],
   "source": [
    "# # Create boezem streefpeil layer\n",
    "# streefpeil_buffer = pd.DataFrame()\n",
    "# streefpeil_buffer['waterhoogte'] = [np.nan]\n",
    "# streefpeil_buffer['globalid'] = ['dummy_globalid_nhws_buffer_1']\n",
    "# streefpeil_buffer['geometry'] = [None]\n",
    "\n",
    "\n",
    "# Zuiderzeeland['streefpeil'] = pd.concat([streefpeil_buffer, Zuiderzeeland['streefpeil']])\n",
    "# Zuiderzeeland['streefpeil'] = gpd.GeoDataFrame(Zuiderzeeland['streefpeil'])"
   ]
  },
  {
   "cell_type": "code",
   "execution_count": 95,
   "id": "51d36d36-9420-4be9-8d6b-8ac0263a7129",
   "metadata": {},
   "outputs": [],
   "source": [
    "if remove_cat_2:\n",
    "    Zuiderzeeland['peilgebied'] = Zuiderzeeland['peilgebied'].loc[Zuiderzeeland['peilgebied'].peilgebied_cat !=2]"
   ]
  },
  {
   "cell_type": "markdown",
   "id": "31b4ba32-7f34-49a6-b256-966c24faf68a",
   "metadata": {},
   "source": [
    "## Store output"
   ]
  },
  {
   "cell_type": "code",
   "execution_count": 96,
   "id": "9e589e19-a137-418b-b2a7-5b0c778766a6",
   "metadata": {},
   "outputs": [
    {
     "data": {
      "text/plain": [
       "True"
      ]
     },
     "execution_count": 96,
     "metadata": {},
     "output_type": "execute_result"
    }
   ],
   "source": [
    "Zuiderzeeland['peilgebied'].globalid.is_unique"
   ]
  },
  {
   "cell_type": "code",
   "execution_count": 97,
   "id": "eb0ed312-2aef-41f6-83c7-ead0e630aa39",
   "metadata": {},
   "outputs": [
    {
     "name": "stdout",
     "output_type": "stream",
     "text": [
      "stuw\n",
      "gemaal\n",
      "hydroobject\n",
      "duikersifonhevel\n",
      "peilgebied\n",
      "streefpeil\n",
      "aggregation_area\n"
     ]
    }
   ],
   "source": [
    "for key in Zuiderzeeland.keys():   \n",
    "    print(key)\n",
    "    Zuiderzeeland[str(key)].to_file(f'{output_folder}/{waterschap2}.gpkg', layer = str(key), driver='GPKG')"
   ]
  },
  {
   "cell_type": "code",
   "execution_count": null,
   "id": "888995e9-8b43-48d3-88ea-2aeea2caa311",
   "metadata": {},
   "outputs": [],
   "source": []
  },
  {
   "cell_type": "code",
   "execution_count": null,
   "id": "d90929e5-6345-4ccf-8d32-ddfcc20510d4",
   "metadata": {},
   "outputs": [],
   "source": []
  }
 ],
 "metadata": {
  "kernelspec": {
   "display_name": "Python [conda env:stable]",
   "language": "python",
   "name": "conda-env-stable-py"
  },
  "language_info": {
   "codemirror_mode": {
    "name": "ipython",
    "version": 3
   },
   "file_extension": ".py",
   "mimetype": "text/x-python",
   "name": "python",
   "nbconvert_exporter": "python",
   "pygments_lexer": "ipython3",
   "version": "3.8.15"
  }
 },
 "nbformat": 4,
 "nbformat_minor": 5
}
