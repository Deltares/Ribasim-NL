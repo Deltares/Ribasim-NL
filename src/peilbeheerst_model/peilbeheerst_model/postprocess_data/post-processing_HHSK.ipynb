{
 "cells": [
  {
   "cell_type": "markdown",
   "id": "690952c5-5037-476a-a660-d54fec614748",
   "metadata": {},
   "source": [
    "# HHSK"
   ]
  },
  {
   "cell_type": "markdown",
   "id": "e9e378d7-8f05-4562-87b0-34978ba61554",
   "metadata": {},
   "source": [
    "This script adds a new column \"peilgebied_cat\" and make sure the peilgebieden allign witgh the HWS layer (Daniel):\n",
    "- peilgebied_cat = 0 -> peilgebied\n",
    "- peigelbied_cat = 1 -> RHWS (boezem)\n",
    "- peilgebied_cat = 2 -> NHWS Notes:\n"
   ]
  },
  {
   "cell_type": "code",
   "execution_count": 1,
   "id": "0c27c7a4-5733-46ea-970f-cd985b8c92cd",
   "metadata": {},
   "outputs": [],
   "source": [
    "import geopandas as gpd\n",
    "import numpy as np\n",
    "\n",
    "%load_ext autoreload\n",
    "%autoreload 2\n",
    "\n",
    "from general_functions import *"
   ]
  },
  {
   "cell_type": "markdown",
   "id": "dc1f28d2-8499-4ebb-906e-1724bd334aac",
   "metadata": {},
   "source": [
    "## HHSK"
   ]
  },
  {
   "cell_type": "code",
   "execution_count": 2,
   "id": "e15206a7-6639-40bb-9942-f920085f53b4",
   "metadata": {},
   "outputs": [],
   "source": [
    "#define relative paths\n",
    "waterschap = 'HHSK'\n",
    "\n",
    "data_path = f\"../projects/4750_20/Data_postprocessed/Waterschappen/{waterschap}/{waterschap}.gpkg\"\n",
    "\n",
    "# Waterschaps boundaries\n",
    "grens_path = \"../projects/4750_30/Data_overig/Waterschapsgrenzen/Waterschapsgrenzen.geojson\"\n",
    "# Hoofdwatersysteem boundaries\n",
    "hws_path = \"../projects/4750_30/Data_overig/HWS/krw_basins_vlakken.gpkg\"\n",
    "# Buffer boundaries\n",
    "buffer_path =  f\"../projects/4750_30/Data_overig/HWS/hws_buffer_HHSK.gpkg\"\n",
    "# Output folder\n",
    "output_folder = f\"./Waterschappen/{waterschap}\""
   ]
  },
  {
   "cell_type": "markdown",
   "id": "7bbafed8-355a-4ec9-90c9-eca9e3b9313d",
   "metadata": {},
   "source": [
    "## Load Files"
   ]
  },
  {
   "cell_type": "code",
   "execution_count": 3,
   "id": "0f6dcf56-e8a4-4055-bc86-a6d33c91d8d8",
   "metadata": {},
   "outputs": [],
   "source": [
    "# Load HHNK files\n",
    "HHSK = read_gpkg_layers(gpkg_path = data_path, \n",
    "                    variables = ['stuw', \n",
    "                                 'gemaal', \n",
    "                                 'hydroobject',\n",
    "                                 'duikersifonhevel',\n",
    "                                 'peilgebied', \n",
    "                                 'streefpeil',\n",
    "                                ])\n",
    "HHSK['peilgebied'] = HHSK['peilgebied'].to_crs('EPSG:28992')\n",
    "\n",
    "# Load waterschap boundaries\n",
    "gdf_grens = gpd.read_file(grens_path)\n",
    "gdf_grens = gdf_grens.to_crs('EPSG:28992')\n",
    "gdf_grens = gdf_grens.set_index('waterschap')\n",
    "\n",
    "# Load hws\n",
    "gdf_hws = gpd.read_file(hws_path)\n",
    "\n",
    "# Load buffer\n",
    "gdf_buffer = gpd.read_file(buffer_path)\n",
    "gdf_buffer = gdf_buffer.to_crs('EPSG:28992')\n",
    "gdf_buffer = gdf_buffer.dissolve()"
   ]
  },
  {
   "cell_type": "markdown",
   "id": "5556d211-e92e-4ba3-85c2-4ff9bd33fbeb",
   "metadata": {},
   "source": [
    "## Select waterschap boundaries and clip hws layer"
   ]
  },
  {
   "cell_type": "code",
   "execution_count": 4,
   "id": "c70bb838-9d93-4d5a-ae12-2da18d145009",
   "metadata": {},
   "outputs": [],
   "source": [
    "# Select boundaries HH Amstel, Gooi en Vecht\n",
    "gdf_grens = gdf_grens.loc[['Schieland en de Krimpenerwaard']]\n",
    "\n",
    "# Use waterschap boudnaries to clip HWS layer\n",
    "gdf_hws = gpd.overlay(gdf_grens, gdf_hws, how='intersection')"
   ]
  },
  {
   "cell_type": "markdown",
   "id": "caba0e5d-0c01-4ff9-9d83-8790125ff85d",
   "metadata": {},
   "source": [
    "## Check Peilgebied and HWS layer overlap:\n",
    "1. Identify the overlapping areas\n",
    "2. Clip\n",
    "3. Calculate overlapping area percentage\n",
    "4. Filter"
   ]
  },
  {
   "cell_type": "code",
   "execution_count": 5,
   "id": "b3fd731a-1dc8-46cb-b4a3-f052eca43400",
   "metadata": {},
   "outputs": [
    {
     "name": "stdout",
     "output_type": "stream",
     "text": [
      "Number of overlapping shapes without filter: 40\n",
      "Number of overlapping shapes with filter: 0\n"
     ]
    }
   ],
   "source": [
    "# Step 1: Identify the Overlapping Areas and clip\n",
    "overlaps = gpd.overlay(HHSK['peilgebied'], gdf_hws, how='intersection', keep_geom_type=True)\n",
    "gdf_hws = gpd.overlay(gdf_hws, HHSK['peilgebied'], how='difference')\n",
    "\n",
    "# # Step 2: Subtract Overlapping Areas from the original polygons in each DataFrame\n",
    "non_overlapping_peilgebied = gpd.overlay(HHSK['peilgebied'], overlaps, how='difference', keep_geom_type=True)\n",
    "overlaps = gpd.overlay(non_overlapping_peilgebied, gdf_hws, how='intersection', keep_geom_type=False)\n",
    " \n",
    "# Step 3: Calculate Area Percentages\n",
    "# Calculate the area of overlaps\n",
    "overlaps['overlap_area'] = overlaps.area\n",
    "\n",
    "# Step 4: Filter based on area Area Percentages\n",
    "minimum_area = 50\n",
    "print(f'Number of overlapping shapes without filter: {len(overlaps)}')\n",
    "overlap_ids = overlaps.loc[overlaps['overlap_area'] > minimum_area]\n",
    "overlap_ids = overlap_ids.globalid.to_list()\n",
    "print(f'Number of overlapping shapes with filter: {len(overlap_ids)}')\n",
    "\n",
    "# gdf_hws = gdf_hws_clipped"
   ]
  },
  {
   "cell_type": "markdown",
   "id": "8c84ed19-d0a7-4a27-8e3d-03b132a502ac",
   "metadata": {},
   "source": [
    "## Create peilgebied_cat column"
   ]
  },
  {
   "cell_type": "code",
   "execution_count": 6,
   "id": "9bae7259-c4fd-4f2a-beb4-ec92a924f210",
   "metadata": {},
   "outputs": [],
   "source": [
    "# Add to geodataframe\n",
    "peilgebieden_cat = []\n",
    "\n",
    "for index, row in HHSK['peilgebied'].iterrows():\n",
    "       \n",
    "    if row.code == 'GPG-399':\n",
    "        peilgebieden_cat.append(1)\n",
    "    elif row.code == 'GPG-403':\n",
    "        peilgebieden_cat.append(1)\n",
    "    elif row.code == 'GPG-144_RV1':\n",
    "        peilgebieden_cat.append(1)\n",
    "    elif row.code == 'GPG-144_RV2':\n",
    "        peilgebieden_cat.append(1)\n",
    "    elif row.code == 'GPG-144_RV3':\n",
    "        peilgebieden_cat.append(1)\n",
    "\n",
    "    else:\n",
    "        peilgebieden_cat.append(0)\n",
    "        \n",
    "HHSK['peilgebied']['peilgebied_cat'] = peilgebieden_cat"
   ]
  },
  {
   "cell_type": "markdown",
   "id": "037faf79-c747-405e-b2e5-a73acfed0aba",
   "metadata": {
    "tags": []
   },
   "source": [
    "## Add nhws to ['peilgebied','streefpeil']"
   ]
  },
  {
   "cell_type": "code",
   "execution_count": 7,
   "id": "0cdb36b6-9c4a-42fd-95f6-17c6b4e5803f",
   "metadata": {},
   "outputs": [],
   "source": [
    "# update peilgebied dict key\n",
    "gdf_hws['globalid'] = 'dummy_globalid_nhws_' + gdf_hws.index.astype(str)\n",
    "gdf_hws['code'] = 'dummy_code_nhws_' + gdf_hws.index.astype(str)\n",
    "gdf_hws['nen3610id'] = 'dummy_nen3610id_nhws_' + gdf_hws.index.astype(str)\n",
    "gdf_hws['peilgebied_cat'] = 2\n",
    "\n",
    "gdf_hws = gdf_hws[['globalid', 'code', 'nen3610id', 'peilgebied_cat', 'geometry']]\n",
    "\n",
    "HHSK['peilgebied'] = pd.concat([gdf_hws, HHSK['peilgebied']])"
   ]
  },
  {
   "cell_type": "code",
   "execution_count": 8,
   "id": "3ed63b03-009a-4cde-8e64-e7f59bb8ca21",
   "metadata": {},
   "outputs": [],
   "source": [
    "# update streefpeil dict key\n",
    "streefpeil_hws = pd.DataFrame()\n",
    "streefpeil_hws['waterhoogte'] = [np.nan] * len(gdf_hws)\n",
    "streefpeil_hws['globalid'] = 'dummy_globalid_nhws_' + gdf_hws.index.astype(str)\n",
    "streefpeil_hws['geometry'] = [None]* len(gdf_hws)\n",
    "\n",
    "HHSK['streefpeil'] = pd.concat([streefpeil_hws, HHSK['streefpeil']])\n",
    "HHSK['streefpeil'] = gpd.GeoDataFrame(HHSK['streefpeil'])"
   ]
  },
  {
   "cell_type": "markdown",
   "id": "49d80d89-6676-48cc-a1b3-33771f1a9250",
   "metadata": {},
   "source": [
    "### Create buffer polygon between NHWS and peilgebied/RHWS"
   ]
  },
  {
   "cell_type": "code",
   "execution_count": 9,
   "id": "d415acda-966c-4847-a4b6-a06b23f87218",
   "metadata": {},
   "outputs": [
    {
     "name": "stderr",
     "output_type": "stream",
     "text": [
      "/opt/tljh/user/envs/stable/lib/python3.8/site-packages/shapely/geometry/multipolygon.py:202: ShapelyDeprecationWarning: __getitem__ for multi-part geometries is deprecated and will be removed in Shapely 2.0. Use the `geoms` property to access the constituent parts of a multi-part geometry.\n",
      "  shell = ob[0]\n",
      "/opt/tljh/user/envs/stable/lib/python3.8/site-packages/shapely/geometry/multipolygon.py:203: ShapelyDeprecationWarning: __getitem__ for multi-part geometries is deprecated and will be removed in Shapely 2.0. Use the `geoms` property to access the constituent parts of a multi-part geometry.\n",
      "  holes = ob[1]\n"
     ]
    }
   ],
   "source": [
    "buffer_polygon = gdf_buffer.geometry.iat[0].intersection(gdf_grens.geometry.iat[0])\n",
    "buffer_polygon = buffer_polygon.difference(shapely.geometry.MultiPolygon(gdf_hws.geometry.tolist()))\n",
    "buffer_polygon = buffer_polygon.difference(shapely.ops.unary_union(HHSK['peilgebied'].geometry.tolist()))\n",
    "\n",
    "buffer_polygon = gpd.GeoDataFrame(buffer_polygon)\n",
    "buffer_polygon = buffer_polygon.set_geometry(0)\n",
    "buffer_polygon = buffer_polygon.dissolve()\n",
    "buffer_polygon = buffer_polygon.rename(columns={0:'geometry'})\n",
    "buffer_polygon = buffer_polygon.set_geometry('geometry')\n",
    "buffer_polygon = buffer_polygon.set_crs('EPSG:28992')"
   ]
  },
  {
   "cell_type": "markdown",
   "id": "eaeccbcb-b0d6-4caa-9fb9-dc8a44016298",
   "metadata": {},
   "source": [
    "### Add buffer to ['peilgebied','streefpeil']"
   ]
  },
  {
   "cell_type": "code",
   "execution_count": 10,
   "id": "852a9639-cdc4-4709-abb0-fded2aed5970",
   "metadata": {},
   "outputs": [],
   "source": [
    "# update peilgebied dict key\n",
    "buffer_polygon = gpd.GeoDataFrame(buffer_polygon)\n",
    "buffer_polygon['globalid'] = 'dummy_globalid_nhws_buffer_' + '1'\n",
    "buffer_polygon['code'] = 'dummy_code_nhws_buffer_' + buffer_polygon.index.astype(str)\n",
    "buffer_polygon['nen3610id'] = 'dummy_nen3610id_nhws_buffer_' + buffer_polygon.index.astype(str)\n",
    "buffer_polygon['peilgebied_cat'] = 2\n",
    "buffer_polygon = buffer_polygon.rename(columns={0:'geometry'})\n",
    "buffer_polygon = buffer_polygon[['globalid', 'code', 'nen3610id', 'peilgebied_cat', 'geometry']]\n",
    "\n",
    "HHSK['peilgebied'] = pd.concat([buffer_polygon, HHSK['peilgebied']])\n",
    "HHSK['peilgebied'] = gpd.GeoDataFrame(HHSK['peilgebied'])"
   ]
  },
  {
   "cell_type": "code",
   "execution_count": 11,
   "id": "7fb401c1-3291-4bff-896e-1fc1478fe830",
   "metadata": {},
   "outputs": [],
   "source": [
    "# Create boezem streefpeil layer\n",
    "streefpeil_buffer = pd.DataFrame()\n",
    "streefpeil_buffer['waterhoogte'] = [np.nan]\n",
    "streefpeil_buffer['globalid'] = ['dummy_globalid_nhws_buffer_1']\n",
    "streefpeil_buffer['geometry'] = [None]\n",
    "\n",
    "\n",
    "HHSK['streefpeil'] = pd.concat([streefpeil_buffer, HHSK['streefpeil']])\n",
    "HHSK['streefpeil'] = gpd.GeoDataFrame(HHSK['streefpeil'])"
   ]
  },
  {
   "cell_type": "markdown",
   "id": "f13c5886-7349-4396-87a2-6d400ce57953",
   "metadata": {},
   "source": [
    "### Fix duplicates hydroobjects"
   ]
  },
  {
   "cell_type": "code",
   "execution_count": 13,
   "id": "803b640d-ec91-469d-b7aa-29b8b8576234",
   "metadata": {},
   "outputs": [
    {
     "name": "stdout",
     "output_type": "stream",
     "text": [
      "True\n",
      "False\n",
      "True\n"
     ]
    }
   ],
   "source": [
    "# Rename duplicates\n",
    "# identify duplicates\n",
    "HHSK['hydroobject']['temp_globalid'] = HHSK['hydroobject'].groupby('globalid').cumcount() + 1\n",
    "HHSK['hydroobject']['temp_code'] = HHSK['hydroobject'].groupby('code').cumcount() + 1\n",
    "HHSK['hydroobject']['temp_nen3610id'] = HHSK['hydroobject'].groupby('nen3610id').cumcount() + 1\n",
    "\n",
    "# AAdd _1 etc\n",
    "HHSK['hydroobject']['globalid_new'] = HHSK['hydroobject'].apply(lambda x: f\"{x['globalid']}_{x['temp_globalid']}\" if x['temp_globalid'] > 1 else x['globalid'], axis=1)\n",
    "HHSK['hydroobject']['code_new'] = HHSK['hydroobject'].apply(lambda x: f\"{x['code']}_{x['temp_code']}\" if x['temp_code'] > 1 else x['code'], axis=1)\n",
    "HHSK['hydroobject']['nen3610id_new'] = HHSK['hydroobject'].apply(lambda x: f\"{x['nen3610id']}_{x['temp_nen3610id']}\" if x['temp_nen3610id'] > 1 else x['nen3610id'], axis=1)\n",
    "\n",
    "# drop columns\n",
    "HHSK['hydroobject'] = HHSK['hydroobject'].drop(columns=['temp_globalid','temp_code','temp_nen3610id',\n",
    "                                                        'globalid', 'nen3610id', 'code'])\n",
    "# rename columns\n",
    "HHSK['hydroobject'] = HHSK['hydroobject'].rename(columns={'globalid_new':'globalid',\n",
    "                                                          'code_new':'code',\n",
    "                                                          'nen3610id_new':'nen3610id'})\n",
    "# check\n",
    "print(HHSK['hydroobject'].globalid.is_unique)\n",
    "print(HHSK['hydroobject'].code.is_unique)\n",
    "print(HHSK['hydroobject'].nen3610id.is_unique)"
   ]
  },
  {
   "cell_type": "markdown",
   "id": "05a65661-9821-4657-9351-22502ee9a58c",
   "metadata": {},
   "source": [
    "### Store post-processed data"
   ]
  },
  {
   "cell_type": "code",
   "execution_count": 14,
   "id": "3425a4bd-f8b1-4dd3-b11b-4bb420c8a5bb",
   "metadata": {},
   "outputs": [
    {
     "name": "stdout",
     "output_type": "stream",
     "text": [
      "stuw\n",
      "gemaal\n",
      "hydroobject\n",
      "duikersifonhevel\n",
      "peilgebied\n",
      "streefpeil\n"
     ]
    }
   ],
   "source": [
    "for key in HHSK.keys():   \n",
    "    print(key)\n",
    "    HHSK[str(key)].to_file(f'{output_folder}/{waterschap}.gpkg', layer = str(key), driver='GPKG')"
   ]
  }
 ],
 "metadata": {
  "kernelspec": {
   "display_name": "Python [conda env:stable]",
   "language": "python",
   "name": "conda-env-stable-py"
  },
  "language_info": {
   "codemirror_mode": {
    "name": "ipython",
    "version": 3
   },
   "file_extension": ".py",
   "mimetype": "text/x-python",
   "name": "python",
   "nbconvert_exporter": "python",
   "pygments_lexer": "ipython3",
   "version": "3.8.15"
  }
 },
 "nbformat": 4,
 "nbformat_minor": 5
}
