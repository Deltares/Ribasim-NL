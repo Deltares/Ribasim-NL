{
 "cells": [
  {
   "cell_type": "markdown",
   "id": "690952c5-5037-476a-a660-d54fec614748",
   "metadata": {},
   "source": [
    "# HHSK"
   ]
  },
  {
   "cell_type": "markdown",
   "id": "e9e378d7-8f05-4562-87b0-34978ba61554",
   "metadata": {},
   "source": [
    "This script adds a new column \"peilgebied_cat\" and make sure the peilgebieden allign witgh the HWS layer (Daniel):\n",
    "- peilgebied_cat = 0 -> peilgebied\n",
    "- peigelbied_cat = 1 -> RHWS (boezem)\n",
    "- peilgebied_cat = 2 -> NHWS Notes:\n"
   ]
  },
  {
   "cell_type": "code",
   "execution_count": 1,
   "id": "0c27c7a4-5733-46ea-970f-cd985b8c92cd",
   "metadata": {},
   "outputs": [],
   "source": [
    "import geopandas as gpd\n",
    "import numpy as np\n",
    "\n",
    "%load_ext autoreload\n",
    "%autoreload 2\n",
    "\n",
    "from general_functions import *"
   ]
  },
  {
   "cell_type": "markdown",
   "id": "dc1f28d2-8499-4ebb-906e-1724bd334aac",
   "metadata": {},
   "source": [
    "## HHSK"
   ]
  },
  {
   "cell_type": "code",
   "execution_count": 2,
   "id": "e15206a7-6639-40bb-9942-f920085f53b4",
   "metadata": {},
   "outputs": [],
   "source": [
    "#define relative paths\n",
    "waterschap = 'HHSK'\n",
    "\n",
    "data_path = f\"../projects/4750_20/Data_postprocessed/Waterschappen/{waterschap}/{waterschap}.gpkg\"\n",
    "\n",
    "# Waterschaps boundaries\n",
    "grens_path = \"../projects/4750_30/Data_overig/Waterschapsgrenzen/Waterschapsgrenzen.geojson\"\n",
    "# Hoofdwatersysteem boundaries\n",
    "hws_path = \"../projects/4750_30/Data_overig/HWS/krw_basins_vlakken.gpkg\"\n",
    "# Buffer boundaries\n",
    "buffer_path =  f\"../projects/4750_30/Data_overig/HWS/hws_buffer_HHSK.gpkg\"\n",
    "# Output folder\n",
    "output_folder = f\"./Waterschappen/{waterschap}\""
   ]
  },
  {
   "cell_type": "markdown",
   "id": "7bbafed8-355a-4ec9-90c9-eca9e3b9313d",
   "metadata": {},
   "source": [
    "## Load Files"
   ]
  },
  {
   "cell_type": "code",
   "execution_count": 3,
   "id": "0f6dcf56-e8a4-4055-bc86-a6d33c91d8d8",
   "metadata": {},
   "outputs": [
    {
     "ename": "DriverError",
     "evalue": "../projects/4750_20/Data_postprocessed/Waterschappen/HHSK/HHSK.gpkg: No such file or directory",
     "output_type": "error",
     "traceback": [
      "\u001b[0;31m---------------------------------------------------------------------------\u001b[0m",
      "\u001b[0;31mCPLE_OpenFailedError\u001b[0m                      Traceback (most recent call last)",
      "File \u001b[0;32mfiona/_shim.pyx:83\u001b[0m, in \u001b[0;36mfiona._shim.gdal_open_vector\u001b[0;34m()\u001b[0m\n",
      "File \u001b[0;32mfiona/_err.pyx:291\u001b[0m, in \u001b[0;36mfiona._err.exc_wrap_pointer\u001b[0;34m()\u001b[0m\n",
      "\u001b[0;31mCPLE_OpenFailedError\u001b[0m: ../projects/4750_20/Data_postprocessed/Waterschappen/HHSK/HHSK.gpkg: No such file or directory",
      "\nDuring handling of the above exception, another exception occurred:\n",
      "\u001b[0;31mDriverError\u001b[0m                               Traceback (most recent call last)",
      "Cell \u001b[0;32mIn[3], line 2\u001b[0m\n\u001b[1;32m      1\u001b[0m \u001b[38;5;66;03m# Load HHNK files\u001b[39;00m\n\u001b[0;32m----> 2\u001b[0m HHSK \u001b[38;5;241m=\u001b[39m \u001b[43mread_gpkg_layers\u001b[49m\u001b[43m(\u001b[49m\u001b[43mgpkg_path\u001b[49m\u001b[43m \u001b[49m\u001b[38;5;241;43m=\u001b[39;49m\u001b[43m \u001b[49m\u001b[43mdata_path\u001b[49m\u001b[43m,\u001b[49m\u001b[43m \u001b[49m\n\u001b[1;32m      3\u001b[0m \u001b[43m                    \u001b[49m\u001b[43mvariables\u001b[49m\u001b[43m \u001b[49m\u001b[38;5;241;43m=\u001b[39;49m\u001b[43m \u001b[49m\u001b[43m[\u001b[49m\u001b[38;5;124;43m'\u001b[39;49m\u001b[38;5;124;43mstuw\u001b[39;49m\u001b[38;5;124;43m'\u001b[39;49m\u001b[43m,\u001b[49m\u001b[43m \u001b[49m\n\u001b[1;32m      4\u001b[0m \u001b[43m                                 \u001b[49m\u001b[38;5;124;43m'\u001b[39;49m\u001b[38;5;124;43mgemaal\u001b[39;49m\u001b[38;5;124;43m'\u001b[39;49m\u001b[43m,\u001b[49m\u001b[43m \u001b[49m\n\u001b[1;32m      5\u001b[0m \u001b[43m                                 \u001b[49m\u001b[38;5;124;43m'\u001b[39;49m\u001b[38;5;124;43mhydroobject\u001b[39;49m\u001b[38;5;124;43m'\u001b[39;49m\u001b[43m,\u001b[49m\n\u001b[1;32m      6\u001b[0m \u001b[43m                                 \u001b[49m\u001b[38;5;124;43m'\u001b[39;49m\u001b[38;5;124;43mduikersifonhevel\u001b[39;49m\u001b[38;5;124;43m'\u001b[39;49m\u001b[43m,\u001b[49m\n\u001b[1;32m      7\u001b[0m \u001b[43m                                 \u001b[49m\u001b[38;5;124;43m'\u001b[39;49m\u001b[38;5;124;43mpeilgebied\u001b[39;49m\u001b[38;5;124;43m'\u001b[39;49m\u001b[43m,\u001b[49m\u001b[43m \u001b[49m\n\u001b[1;32m      8\u001b[0m \u001b[43m                                 \u001b[49m\u001b[38;5;124;43m'\u001b[39;49m\u001b[38;5;124;43mstreefpeil\u001b[39;49m\u001b[38;5;124;43m'\u001b[39;49m\u001b[43m,\u001b[49m\n\u001b[1;32m      9\u001b[0m \u001b[43m                                \u001b[49m\u001b[43m]\u001b[49m\u001b[43m)\u001b[49m\n\u001b[1;32m     10\u001b[0m HHSK[\u001b[38;5;124m'\u001b[39m\u001b[38;5;124mpeilgebied\u001b[39m\u001b[38;5;124m'\u001b[39m] \u001b[38;5;241m=\u001b[39m HHSK[\u001b[38;5;124m'\u001b[39m\u001b[38;5;124mpeilgebied\u001b[39m\u001b[38;5;124m'\u001b[39m]\u001b[38;5;241m.\u001b[39mto_crs(\u001b[38;5;124m'\u001b[39m\u001b[38;5;124mEPSG:28992\u001b[39m\u001b[38;5;124m'\u001b[39m)\n\u001b[1;32m     12\u001b[0m \u001b[38;5;66;03m# Load waterschap boundaries\u001b[39;00m\n",
      "File \u001b[0;32m/DATAFOLDER/projects/4750_30/Scripts/Ribasim-NL/src/peilbeheerst_model/peilbeheerst_model/postprocess_data/general_functions.py:31\u001b[0m, in \u001b[0;36mread_gpkg_layers\u001b[0;34m(gpkg_path, variables, engine, print_var)\u001b[0m\n\u001b[1;32m     29\u001b[0m     \u001b[38;5;28;01mif\u001b[39;00m print_var \u001b[38;5;241m==\u001b[39m \u001b[38;5;28;01mTrue\u001b[39;00m:\n\u001b[1;32m     30\u001b[0m         \u001b[38;5;28mprint\u001b[39m(variable)\n\u001b[0;32m---> 31\u001b[0m     data_temp \u001b[38;5;241m=\u001b[39m \u001b[43mgpd\u001b[49m\u001b[38;5;241;43m.\u001b[39;49m\u001b[43mread_file\u001b[49m\u001b[43m(\u001b[49m\u001b[43mgpkg_path\u001b[49m\u001b[43m,\u001b[49m\u001b[43m \u001b[49m\u001b[43mlayer\u001b[49m\u001b[43m \u001b[49m\u001b[38;5;241;43m=\u001b[39;49m\u001b[43m \u001b[49m\u001b[43mvariable\u001b[49m\u001b[43m,\u001b[49m\u001b[43m \u001b[49m\u001b[43mengine\u001b[49m\u001b[38;5;241;43m=\u001b[39;49m\u001b[43mengine\u001b[49m\u001b[43m)\u001b[49m\n\u001b[1;32m     32\u001b[0m     data[variable] \u001b[38;5;241m=\u001b[39m data_temp\n\u001b[1;32m     34\u001b[0m \u001b[38;5;28;01mreturn\u001b[39;00m data\n",
      "File \u001b[0;32m/opt/tljh/user/envs/stable/lib/python3.8/site-packages/geopandas/io/file.py:281\u001b[0m, in \u001b[0;36m_read_file\u001b[0;34m(filename, bbox, mask, rows, engine, **kwargs)\u001b[0m\n\u001b[1;32m    278\u001b[0m     \u001b[38;5;28;01melse\u001b[39;00m:\n\u001b[1;32m    279\u001b[0m         path_or_bytes \u001b[38;5;241m=\u001b[39m filename\n\u001b[0;32m--> 281\u001b[0m     \u001b[38;5;28;01mreturn\u001b[39;00m \u001b[43m_read_file_fiona\u001b[49m\u001b[43m(\u001b[49m\n\u001b[1;32m    282\u001b[0m \u001b[43m        \u001b[49m\u001b[43mpath_or_bytes\u001b[49m\u001b[43m,\u001b[49m\u001b[43m \u001b[49m\u001b[43mfrom_bytes\u001b[49m\u001b[43m,\u001b[49m\u001b[43m \u001b[49m\u001b[43mbbox\u001b[49m\u001b[38;5;241;43m=\u001b[39;49m\u001b[43mbbox\u001b[49m\u001b[43m,\u001b[49m\u001b[43m \u001b[49m\u001b[43mmask\u001b[49m\u001b[38;5;241;43m=\u001b[39;49m\u001b[43mmask\u001b[49m\u001b[43m,\u001b[49m\u001b[43m \u001b[49m\u001b[43mrows\u001b[49m\u001b[38;5;241;43m=\u001b[39;49m\u001b[43mrows\u001b[49m\u001b[43m,\u001b[49m\u001b[43m \u001b[49m\u001b[38;5;241;43m*\u001b[39;49m\u001b[38;5;241;43m*\u001b[39;49m\u001b[43mkwargs\u001b[49m\n\u001b[1;32m    283\u001b[0m \u001b[43m    \u001b[49m\u001b[43m)\u001b[49m\n\u001b[1;32m    285\u001b[0m \u001b[38;5;28;01melse\u001b[39;00m:\n\u001b[1;32m    286\u001b[0m     \u001b[38;5;28;01mraise\u001b[39;00m \u001b[38;5;167;01mValueError\u001b[39;00m(\u001b[38;5;124mf\u001b[39m\u001b[38;5;124m\"\u001b[39m\u001b[38;5;124munknown engine \u001b[39m\u001b[38;5;124m'\u001b[39m\u001b[38;5;132;01m{\u001b[39;00mengine\u001b[38;5;132;01m}\u001b[39;00m\u001b[38;5;124m'\u001b[39m\u001b[38;5;124m\"\u001b[39m)\n",
      "File \u001b[0;32m/opt/tljh/user/envs/stable/lib/python3.8/site-packages/geopandas/io/file.py:322\u001b[0m, in \u001b[0;36m_read_file_fiona\u001b[0;34m(path_or_bytes, from_bytes, bbox, mask, rows, where, **kwargs)\u001b[0m\n\u001b[1;32m    319\u001b[0m     reader \u001b[38;5;241m=\u001b[39m fiona\u001b[38;5;241m.\u001b[39mopen\n\u001b[1;32m    321\u001b[0m \u001b[38;5;28;01mwith\u001b[39;00m fiona_env():\n\u001b[0;32m--> 322\u001b[0m     \u001b[38;5;28;01mwith\u001b[39;00m \u001b[43mreader\u001b[49m\u001b[43m(\u001b[49m\u001b[43mpath_or_bytes\u001b[49m\u001b[43m,\u001b[49m\u001b[43m \u001b[49m\u001b[38;5;241;43m*\u001b[39;49m\u001b[38;5;241;43m*\u001b[39;49m\u001b[43mkwargs\u001b[49m\u001b[43m)\u001b[49m \u001b[38;5;28;01mas\u001b[39;00m features:\n\u001b[1;32m    323\u001b[0m         crs \u001b[38;5;241m=\u001b[39m features\u001b[38;5;241m.\u001b[39mcrs_wkt\n\u001b[1;32m    324\u001b[0m         \u001b[38;5;66;03m# attempt to get EPSG code\u001b[39;00m\n",
      "File \u001b[0;32m/opt/tljh/user/envs/stable/lib/python3.8/site-packages/fiona/env.py:408\u001b[0m, in \u001b[0;36mensure_env_with_credentials.<locals>.wrapper\u001b[0;34m(*args, **kwargs)\u001b[0m\n\u001b[1;32m    405\u001b[0m \u001b[38;5;129m@wraps\u001b[39m(f)\n\u001b[1;32m    406\u001b[0m \u001b[38;5;28;01mdef\u001b[39;00m \u001b[38;5;21mwrapper\u001b[39m(\u001b[38;5;241m*\u001b[39margs, \u001b[38;5;241m*\u001b[39m\u001b[38;5;241m*\u001b[39mkwargs):\n\u001b[1;32m    407\u001b[0m     \u001b[38;5;28;01mif\u001b[39;00m local\u001b[38;5;241m.\u001b[39m_env:\n\u001b[0;32m--> 408\u001b[0m         \u001b[38;5;28;01mreturn\u001b[39;00m \u001b[43mf\u001b[49m\u001b[43m(\u001b[49m\u001b[38;5;241;43m*\u001b[39;49m\u001b[43margs\u001b[49m\u001b[43m,\u001b[49m\u001b[43m \u001b[49m\u001b[38;5;241;43m*\u001b[39;49m\u001b[38;5;241;43m*\u001b[39;49m\u001b[43mkwargs\u001b[49m\u001b[43m)\u001b[49m\n\u001b[1;32m    409\u001b[0m     \u001b[38;5;28;01melse\u001b[39;00m:\n\u001b[1;32m    410\u001b[0m         \u001b[38;5;28;01mif\u001b[39;00m \u001b[38;5;28misinstance\u001b[39m(args[\u001b[38;5;241m0\u001b[39m], \u001b[38;5;28mstr\u001b[39m):\n",
      "File \u001b[0;32m/opt/tljh/user/envs/stable/lib/python3.8/site-packages/fiona/__init__.py:264\u001b[0m, in \u001b[0;36mopen\u001b[0;34m(fp, mode, driver, schema, crs, encoding, layer, vfs, enabled_drivers, crs_wkt, **kwargs)\u001b[0m\n\u001b[1;32m    261\u001b[0m     path \u001b[38;5;241m=\u001b[39m parse_path(fp)\n\u001b[1;32m    263\u001b[0m \u001b[38;5;28;01mif\u001b[39;00m mode \u001b[38;5;129;01min\u001b[39;00m (\u001b[38;5;124m'\u001b[39m\u001b[38;5;124ma\u001b[39m\u001b[38;5;124m'\u001b[39m, \u001b[38;5;124m'\u001b[39m\u001b[38;5;124mr\u001b[39m\u001b[38;5;124m'\u001b[39m):\n\u001b[0;32m--> 264\u001b[0m     c \u001b[38;5;241m=\u001b[39m \u001b[43mCollection\u001b[49m\u001b[43m(\u001b[49m\u001b[43mpath\u001b[49m\u001b[43m,\u001b[49m\u001b[43m \u001b[49m\u001b[43mmode\u001b[49m\u001b[43m,\u001b[49m\u001b[43m \u001b[49m\u001b[43mdriver\u001b[49m\u001b[38;5;241;43m=\u001b[39;49m\u001b[43mdriver\u001b[49m\u001b[43m,\u001b[49m\u001b[43m \u001b[49m\u001b[43mencoding\u001b[49m\u001b[38;5;241;43m=\u001b[39;49m\u001b[43mencoding\u001b[49m\u001b[43m,\u001b[49m\n\u001b[1;32m    265\u001b[0m \u001b[43m                   \u001b[49m\u001b[43mlayer\u001b[49m\u001b[38;5;241;43m=\u001b[39;49m\u001b[43mlayer\u001b[49m\u001b[43m,\u001b[49m\u001b[43m \u001b[49m\u001b[43menabled_drivers\u001b[49m\u001b[38;5;241;43m=\u001b[39;49m\u001b[43menabled_drivers\u001b[49m\u001b[43m,\u001b[49m\u001b[43m \u001b[49m\u001b[38;5;241;43m*\u001b[39;49m\u001b[38;5;241;43m*\u001b[39;49m\u001b[43mkwargs\u001b[49m\u001b[43m)\u001b[49m\n\u001b[1;32m    266\u001b[0m \u001b[38;5;28;01melif\u001b[39;00m mode \u001b[38;5;241m==\u001b[39m \u001b[38;5;124m'\u001b[39m\u001b[38;5;124mw\u001b[39m\u001b[38;5;124m'\u001b[39m:\n\u001b[1;32m    267\u001b[0m     \u001b[38;5;28;01mif\u001b[39;00m schema:\n\u001b[1;32m    268\u001b[0m         \u001b[38;5;66;03m# Make an ordered dict of schema properties.\u001b[39;00m\n",
      "File \u001b[0;32m/opt/tljh/user/envs/stable/lib/python3.8/site-packages/fiona/collection.py:162\u001b[0m, in \u001b[0;36mCollection.__init__\u001b[0;34m(self, path, mode, driver, schema, crs, encoding, layer, vsi, archive, enabled_drivers, crs_wkt, ignore_fields, ignore_geometry, **kwargs)\u001b[0m\n\u001b[1;32m    160\u001b[0m \u001b[38;5;28;01mif\u001b[39;00m \u001b[38;5;28mself\u001b[39m\u001b[38;5;241m.\u001b[39mmode \u001b[38;5;241m==\u001b[39m \u001b[38;5;124m'\u001b[39m\u001b[38;5;124mr\u001b[39m\u001b[38;5;124m'\u001b[39m:\n\u001b[1;32m    161\u001b[0m     \u001b[38;5;28mself\u001b[39m\u001b[38;5;241m.\u001b[39msession \u001b[38;5;241m=\u001b[39m Session()\n\u001b[0;32m--> 162\u001b[0m     \u001b[38;5;28;43mself\u001b[39;49m\u001b[38;5;241;43m.\u001b[39;49m\u001b[43msession\u001b[49m\u001b[38;5;241;43m.\u001b[39;49m\u001b[43mstart\u001b[49m\u001b[43m(\u001b[49m\u001b[38;5;28;43mself\u001b[39;49m\u001b[43m,\u001b[49m\u001b[43m \u001b[49m\u001b[38;5;241;43m*\u001b[39;49m\u001b[38;5;241;43m*\u001b[39;49m\u001b[43mkwargs\u001b[49m\u001b[43m)\u001b[49m\n\u001b[1;32m    163\u001b[0m \u001b[38;5;28;01melif\u001b[39;00m \u001b[38;5;28mself\u001b[39m\u001b[38;5;241m.\u001b[39mmode \u001b[38;5;129;01min\u001b[39;00m (\u001b[38;5;124m'\u001b[39m\u001b[38;5;124ma\u001b[39m\u001b[38;5;124m'\u001b[39m, \u001b[38;5;124m'\u001b[39m\u001b[38;5;124mw\u001b[39m\u001b[38;5;124m'\u001b[39m):\n\u001b[1;32m    164\u001b[0m     \u001b[38;5;28mself\u001b[39m\u001b[38;5;241m.\u001b[39msession \u001b[38;5;241m=\u001b[39m WritingSession()\n",
      "File \u001b[0;32mfiona/ogrext.pyx:540\u001b[0m, in \u001b[0;36mfiona.ogrext.Session.start\u001b[0;34m()\u001b[0m\n",
      "File \u001b[0;32mfiona/_shim.pyx:90\u001b[0m, in \u001b[0;36mfiona._shim.gdal_open_vector\u001b[0;34m()\u001b[0m\n",
      "\u001b[0;31mDriverError\u001b[0m: ../projects/4750_20/Data_postprocessed/Waterschappen/HHSK/HHSK.gpkg: No such file or directory"
     ]
    }
   ],
   "source": [
    "# Load HHNK files\n",
    "HHSK = read_gpkg_layers(gpkg_path = data_path, \n",
    "                    variables = ['stuw', \n",
    "                                 'gemaal', \n",
    "                                 'hydroobject',\n",
    "                                 'duikersifonhevel',\n",
    "                                 'peilgebied', \n",
    "                                 'streefpeil',\n",
    "                                ])\n",
    "HHSK['peilgebied'] = HHSK['peilgebied'].to_crs('EPSG:28992')\n",
    "\n",
    "# Load waterschap boundaries\n",
    "gdf_grens = gpd.read_file(grens_path)\n",
    "gdf_grens = gdf_grens.to_crs('EPSG:28992')\n",
    "gdf_grens = gdf_grens.set_index('waterschap')\n",
    "\n",
    "# Load hws\n",
    "gdf_hws = gpd.read_file(hws_path)\n",
    "\n",
    "# Load buffer\n",
    "gdf_buffer = gpd.read_file(buffer_path)\n",
    "gdf_buffer = gdf_buffer.to_crs('EPSG:28992')\n",
    "gdf_buffer = gdf_buffer.dissolve()"
   ]
  },
  {
   "cell_type": "markdown",
   "id": "5556d211-e92e-4ba3-85c2-4ff9bd33fbeb",
   "metadata": {},
   "source": [
    "## Select waterschap boundaries and clip hws layer"
   ]
  },
  {
   "cell_type": "code",
   "execution_count": null,
   "id": "c70bb838-9d93-4d5a-ae12-2da18d145009",
   "metadata": {},
   "outputs": [],
   "source": [
    "# Select boundaries HH Amstel, Gooi en Vecht\n",
    "gdf_grens = gdf_grens.loc[['Schieland en de Krimpenerwaard']]\n",
    "\n",
    "# Use waterschap boudnaries to clip HWS layer\n",
    "gdf_hws = gpd.overlay(gdf_grens, gdf_hws, how='intersection')"
   ]
  },
  {
   "cell_type": "markdown",
   "id": "caba0e5d-0c01-4ff9-9d83-8790125ff85d",
   "metadata": {},
   "source": [
    "## Check Peilgebied and HWS layer overlap:\n",
    "1. Identify the overlapping areas\n",
    "2. Clip\n",
    "3. Calculate overlapping area percentage\n",
    "4. Filter"
   ]
  },
  {
   "cell_type": "code",
   "execution_count": null,
   "id": "b3fd731a-1dc8-46cb-b4a3-f052eca43400",
   "metadata": {},
   "outputs": [],
   "source": [
    "# Step 1: Identify the Overlapping Areas and clip\n",
    "overlaps = gpd.overlay(HHSK['peilgebied'], gdf_hws, how='intersection', keep_geom_type=True)\n",
    "gdf_hws = gpd.overlay(gdf_hws, HHSK['peilgebied'], how='difference')\n",
    "\n",
    "# # Step 2: Subtract Overlapping Areas from the original polygons in each DataFrame\n",
    "non_overlapping_peilgebied = gpd.overlay(HHSK['peilgebied'], overlaps, how='difference', keep_geom_type=True)\n",
    "overlaps = gpd.overlay(non_overlapping_peilgebied, gdf_hws, how='intersection', keep_geom_type=False)\n",
    " \n",
    "# Step 3: Calculate Area Percentages\n",
    "# Calculate the area of overlaps\n",
    "overlaps['overlap_area'] = overlaps.area\n",
    "\n",
    "# Step 4: Filter based on area Area Percentages\n",
    "minimum_area = 50\n",
    "print(f'Number of overlapping shapes without filter: {len(overlaps)}')\n",
    "overlap_ids = overlaps.loc[overlaps['overlap_area'] > minimum_area]\n",
    "overlap_ids = overlap_ids.globalid.to_list()\n",
    "print(f'Number of overlapping shapes with filter: {len(overlap_ids)}')\n",
    "\n",
    "# gdf_hws = gdf_hws_clipped"
   ]
  },
  {
   "cell_type": "markdown",
   "id": "8c84ed19-d0a7-4a27-8e3d-03b132a502ac",
   "metadata": {},
   "source": [
    "## Create peilgebied_cat column"
   ]
  },
  {
   "cell_type": "code",
   "execution_count": null,
   "id": "9bae7259-c4fd-4f2a-beb4-ec92a924f210",
   "metadata": {},
   "outputs": [],
   "source": [
    "# Add to geodataframe\n",
    "peilgebieden_cat = []\n",
    "\n",
    "for index, row in HHSK['peilgebied'].iterrows():\n",
    "       \n",
    "    if row.code == 'GPG-399':\n",
    "        peilgebieden_cat.append(1)\n",
    "    elif row.code == 'GPG-403':\n",
    "        peilgebieden_cat.append(1)\n",
    "    elif row.code == 'GPG-144_RV1':\n",
    "        peilgebieden_cat.append(1)\n",
    "    elif row.code == 'GPG-144_RV2':\n",
    "        peilgebieden_cat.append(1)\n",
    "    elif row.code == 'GPG-144_RV3':\n",
    "        peilgebieden_cat.append(1)\n",
    "\n",
    "    else:\n",
    "        peilgebieden_cat.append(0)\n",
    "        \n",
    "HHSK['peilgebied']['peilgebied_cat'] = peilgebieden_cat"
   ]
  },
  {
   "cell_type": "markdown",
   "id": "037faf79-c747-405e-b2e5-a73acfed0aba",
   "metadata": {
    "tags": []
   },
   "source": [
    "## Add nhws to ['peilgebied','streefpeil']"
   ]
  },
  {
   "cell_type": "code",
   "execution_count": null,
   "id": "0cdb36b6-9c4a-42fd-95f6-17c6b4e5803f",
   "metadata": {},
   "outputs": [],
   "source": [
    "# update peilgebied dict key\n",
    "gdf_hws['globalid'] = 'dummy_globalid_nhws_' + gdf_hws.index.astype(str)\n",
    "gdf_hws['code'] = 'dummy_code_nhws_' + gdf_hws.index.astype(str)\n",
    "gdf_hws['nen3610id'] = 'dummy_nen3610id_nhws_' + gdf_hws.index.astype(str)\n",
    "gdf_hws['peilgebied_cat'] = 2\n",
    "\n",
    "gdf_hws = gdf_hws[['globalid', 'code', 'nen3610id', 'peilgebied_cat', 'geometry']]\n",
    "\n",
    "HHSK['peilgebied'] = pd.concat([gdf_hws, HHSK['peilgebied']])"
   ]
  },
  {
   "cell_type": "code",
   "execution_count": null,
   "id": "3ed63b03-009a-4cde-8e64-e7f59bb8ca21",
   "metadata": {},
   "outputs": [],
   "source": [
    "# update streefpeil dict key\n",
    "streefpeil_hws = pd.DataFrame()\n",
    "streefpeil_hws['waterhoogte'] = [np.nan] * len(gdf_hws)\n",
    "streefpeil_hws['globalid'] = 'dummy_globalid_nhws_' + gdf_hws.index.astype(str)\n",
    "streefpeil_hws['geometry'] = [None]* len(gdf_hws)\n",
    "\n",
    "HHSK['streefpeil'] = pd.concat([streefpeil_hws, HHSK['streefpeil']])\n",
    "HHSK['streefpeil'] = gpd.GeoDataFrame(HHSK['streefpeil'])"
   ]
  },
  {
   "cell_type": "markdown",
   "id": "49d80d89-6676-48cc-a1b3-33771f1a9250",
   "metadata": {},
   "source": [
    "### Create buffer polygon between NHWS and peilgebied/RHWS"
   ]
  },
  {
   "cell_type": "code",
   "execution_count": null,
   "id": "d415acda-966c-4847-a4b6-a06b23f87218",
   "metadata": {},
   "outputs": [],
   "source": [
    "buffer_polygon = gdf_buffer.geometry.iat[0].intersection(gdf_grens.geometry.iat[0])\n",
    "buffer_polygon = buffer_polygon.difference(shapely.geometry.MultiPolygon(gdf_hws.geometry.tolist()))\n",
    "buffer_polygon = buffer_polygon.difference(shapely.ops.unary_union(HHSK['peilgebied'].geometry.tolist()))\n",
    "\n",
    "buffer_polygon = gpd.GeoDataFrame(buffer_polygon)\n",
    "buffer_polygon = buffer_polygon.set_geometry(0)\n",
    "buffer_polygon = buffer_polygon.dissolve()\n",
    "buffer_polygon = buffer_polygon.rename(columns={0:'geometry'})\n",
    "buffer_polygon = buffer_polygon.set_geometry('geometry')\n",
    "buffer_polygon = buffer_polygon.set_crs('EPSG:28992')"
   ]
  },
  {
   "cell_type": "markdown",
   "id": "eaeccbcb-b0d6-4caa-9fb9-dc8a44016298",
   "metadata": {},
   "source": [
    "### Add buffer to ['peilgebied','streefpeil']"
   ]
  },
  {
   "cell_type": "code",
   "execution_count": null,
   "id": "852a9639-cdc4-4709-abb0-fded2aed5970",
   "metadata": {},
   "outputs": [],
   "source": [
    "# update peilgebied dict key\n",
    "buffer_polygon = gpd.GeoDataFrame(buffer_polygon)\n",
    "buffer_polygon['globalid'] = 'dummy_globalid_nhws_buffer_' + '1'\n",
    "buffer_polygon['code'] = 'dummy_code_nhws_buffer_' + buffer_polygon.index.astype(str)\n",
    "buffer_polygon['nen3610id'] = 'dummy_nen3610id_nhws_buffer_' + buffer_polygon.index.astype(str)\n",
    "buffer_polygon['peilgebied_cat'] = 2\n",
    "buffer_polygon = buffer_polygon.rename(columns={0:'geometry'})\n",
    "buffer_polygon = buffer_polygon[['globalid', 'code', 'nen3610id', 'peilgebied_cat', 'geometry']]\n",
    "\n",
    "HHSK['peilgebied'] = pd.concat([buffer_polygon, HHSK['peilgebied']])\n",
    "HHSK['peilgebied'] = gpd.GeoDataFrame(HHSK['peilgebied'])"
   ]
  },
  {
   "cell_type": "code",
   "execution_count": null,
   "id": "7fb401c1-3291-4bff-896e-1fc1478fe830",
   "metadata": {},
   "outputs": [],
   "source": [
    "# Create boezem streefpeil layer\n",
    "streefpeil_buffer = pd.DataFrame()\n",
    "streefpeil_buffer['waterhoogte'] = [np.nan]\n",
    "streefpeil_buffer['globalid'] = ['dummy_globalid_nhws_buffer_1']\n",
    "streefpeil_buffer['geometry'] = [None]\n",
    "\n",
    "\n",
    "HHSK['streefpeil'] = pd.concat([streefpeil_buffer, HHSK['streefpeil']])\n",
    "HHSK['streefpeil'] = gpd.GeoDataFrame(HHSK['streefpeil'])"
   ]
  },
  {
   "cell_type": "markdown",
   "id": "f13c5886-7349-4396-87a2-6d400ce57953",
   "metadata": {},
   "source": [
    "### Fix duplicates hydroobjects"
   ]
  },
  {
   "cell_type": "code",
   "execution_count": null,
   "id": "803b640d-ec91-469d-b7aa-29b8b8576234",
   "metadata": {},
   "outputs": [],
   "source": [
    "# Rename duplicates\n",
    "# identify duplicates\n",
    "HHSK['hydroobject']['temp_globalid'] = HHSK['hydroobject'].groupby('globalid').cumcount() + 1\n",
    "HHSK['hydroobject']['temp_code'] = HHSK['hydroobject'].groupby('code').cumcount() + 1\n",
    "HHSK['hydroobject']['temp_nen3610id'] = HHSK['hydroobject'].groupby('nen3610id').cumcount() + 1\n",
    "\n",
    "# AAdd _1 etc\n",
    "HHSK['hydroobject']['globalid_new'] = HHSK['hydroobject'].apply(lambda x: f\"{x['globalid']}_{x['temp_globalid']}\" if x['temp_globalid'] > 1 else x['globalid'], axis=1)\n",
    "HHSK['hydroobject']['code_new'] = HHSK['hydroobject'].apply(lambda x: f\"{x['code']}_{x['temp_code']}\" if x['temp_code'] > 1 else x['code'], axis=1)\n",
    "HHSK['hydroobject']['nen3610id_new'] = HHSK['hydroobject'].apply(lambda x: f\"{x['nen3610id']}_{x['temp_nen3610id']}\" if x['temp_nen3610id'] > 1 else x['nen3610id'], axis=1)\n",
    "\n",
    "# drop columns\n",
    "HHSK['hydroobject'] = HHSK['hydroobject'].drop(columns=['temp_globalid','temp_code','temp_nen3610id',\n",
    "                                                        'globalid', 'nen3610id', 'code'])\n",
    "# rename columns\n",
    "HHSK['hydroobject'] = HHSK['hydroobject'].rename(columns={'globalid_new':'globalid',\n",
    "                                                          'code_new':'code',\n",
    "                                                          'nen3610id_new':'nen3610id'})\n",
    "# check\n",
    "print(HHSK['hydroobject'].globalid.is_unique)\n",
    "print(HHSK['hydroobject'].code.is_unique)\n",
    "print(HHSK['hydroobject'].nen3610id.is_unique)"
   ]
  },
  {
   "cell_type": "markdown",
   "id": "05a65661-9821-4657-9351-22502ee9a58c",
   "metadata": {},
   "source": [
    "### Store post-processed data"
   ]
  },
  {
   "cell_type": "code",
   "execution_count": null,
   "id": "3425a4bd-f8b1-4dd3-b11b-4bb420c8a5bb",
   "metadata": {},
   "outputs": [],
   "source": [
    "for key in HHSK.keys():   \n",
    "    print(key)\n",
    "    HHSK[str(key)].to_file(f'{output_folder}/{waterschap}.gpkg', layer = str(key), driver='GPKG')"
   ]
  }
 ],
 "metadata": {
  "kernelspec": {
   "display_name": "Python [conda env:stable]",
   "language": "python",
   "name": "conda-env-stable-py"
  },
  "language_info": {
   "codemirror_mode": {
    "name": "ipython",
    "version": 3
   },
   "file_extension": ".py",
   "mimetype": "text/x-python",
   "name": "python",
   "nbconvert_exporter": "python",
   "pygments_lexer": "ipython3",
   "version": "3.8.15"
  }
 },
 "nbformat": 4,
 "nbformat_minor": 5
}
