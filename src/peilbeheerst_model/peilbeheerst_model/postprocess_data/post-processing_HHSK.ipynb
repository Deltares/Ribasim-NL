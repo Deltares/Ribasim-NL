{
 "cells": [
  {
   "cell_type": "markdown",
   "id": "0",
   "metadata": {},
   "source": [
    "# HHSK"
   ]
  },
  {
   "cell_type": "markdown",
   "id": "1",
   "metadata": {},
   "source": [
    "This script adds a new column \"peilgebied_cat\" and make sure the peilgebieden allign witgh the HWS layer (Daniel):\n",
    "- peilgebied_cat = 0 -> peilgebied\n",
    "- peigelbied_cat = 1 -> RHWS (boezem)\n",
    "- peilgebied_cat = 2 -> NHWS Notes:\n"
   ]
  },
  {
   "cell_type": "code",
   "execution_count": null,
   "id": "2",
   "metadata": {},
   "outputs": [],
   "source": [
    "import geopandas as gpd\n",
    "import shapely\n",
    "from general_functions import *\n",
    "\n",
    "%load_ext autoreload\n",
    "%autoreload 2\n",
    "\n",
    "remove_cat_2 = True"
   ]
  },
  {
   "cell_type": "markdown",
   "id": "3",
   "metadata": {},
   "source": [
    "## HHSK"
   ]
  },
  {
   "cell_type": "code",
   "execution_count": null,
   "id": "4",
   "metadata": {},
   "outputs": [],
   "source": [
    "# define relative paths\n",
    "waterschap = \"HHSK\"\n",
    "data_path = f\"/DATAFOLDER/projects/4750_20/Data_postprocessed/Waterschappen/{waterschap}/{waterschap}.gpkg\"\n",
    "\n",
    "# Waterschaps boundaries\n",
    "grens_path = \"/DATAFOLDER/projects/4750_30/Data_overig/Waterschapsgrenzen/Waterschapsgrenzen.geojson\"\n",
    "# Hoofdwatersysteem boundaries\n",
    "hws_path = \"/DATAFOLDER/projects/4750_30/Data_overig/HWS/krw_basins_vlakken.gpkg\"\n",
    "# Buffer boundaries\n",
    "buffer_path = r\"/DATAFOLDER/projects/4750_30/Data_overig/HWS/hws_buffer_HHSK.gpkg\"\n",
    "# Output folder\n",
    "output_folder = f\"/DATAFOLDER/projects/4750_30/Data_postprocessed/Waterschappen/{waterschap}\""
   ]
  },
  {
   "cell_type": "markdown",
   "id": "5",
   "metadata": {},
   "source": [
    "## Load Files"
   ]
  },
  {
   "cell_type": "code",
   "execution_count": null,
   "id": "6",
   "metadata": {},
   "outputs": [],
   "source": [
    "# Load HHNK files\n",
    "HHSK = read_gpkg_layers(\n",
    "    gpkg_path=data_path,\n",
    "    variables=[\n",
    "        \"stuw\",\n",
    "        \"gemaal\",\n",
    "        \"hydroobject\",\n",
    "        \"duikersifonhevel\",\n",
    "        \"peilgebied\",\n",
    "        \"streefpeil\",\n",
    "        \"aggregation_area\",\n",
    "    ],\n",
    ")\n",
    "HHSK[\"peilgebied\"] = HHSK[\"peilgebied\"].to_crs(\"EPSG:28992\")\n",
    "\n",
    "# Load waterschap boundaries\n",
    "gdf_grens = gpd.read_file(grens_path)\n",
    "gdf_grens = gdf_grens.to_crs(\"EPSG:28992\")\n",
    "gdf_grens = gdf_grens.set_index(\"waterschap\")\n",
    "\n",
    "# Load hws\n",
    "gdf_hws = gpd.read_file(hws_path)\n",
    "\n",
    "# Load buffer\n",
    "gdf_buffer = gpd.read_file(buffer_path)\n",
    "gdf_buffer = gdf_buffer.to_crs(\"EPSG:28992\")\n",
    "gdf_buffer = gdf_buffer.dissolve()"
   ]
  },
  {
   "cell_type": "code",
   "execution_count": null,
   "id": "7",
   "metadata": {},
   "outputs": [],
   "source": [
    "print(len(HHSK[\"duikersifonhevel\"].globalid.unique()))\n",
    "print(len(HHSK[\"duikersifonhevel\"].globalid))"
   ]
  },
  {
   "cell_type": "code",
   "execution_count": null,
   "id": "8",
   "metadata": {},
   "outputs": [],
   "source": [
    "HHSK[\"peilgebied\"].globalid.is_unique"
   ]
  },
  {
   "cell_type": "code",
   "execution_count": null,
   "id": "9",
   "metadata": {},
   "outputs": [],
   "source": [
    "len(HHSK[\"hydroobject\"])"
   ]
  },
  {
   "cell_type": "code",
   "execution_count": null,
   "id": "10",
   "metadata": {},
   "outputs": [],
   "source": [
    "# HHSK['hydroobject'] = HHSK['hydroobject'].explode(ignore_index=False, index_parts=True)\n",
    "HHSK[\"hydroobject\"][\"geometry\"] = HHSK[\"hydroobject\"].make_valid()\n",
    "HHSK[\"hydroobject\"][\"geometry\"] = HHSK[\"hydroobject\"].geometry.apply(shapely.force_2d)\n",
    "HHSK[\"hydroobject\"] = HHSK[\"hydroobject\"][~HHSK[\"hydroobject\"].is_empty].copy()"
   ]
  },
  {
   "cell_type": "code",
   "execution_count": null,
   "id": "11",
   "metadata": {},
   "outputs": [],
   "source": [
    "HHSK[\"hydroobject\"] = HHSK[\"hydroobject\"].drop_duplicates(subset=\"geometry\", keep=\"first\")"
   ]
  },
  {
   "cell_type": "code",
   "execution_count": null,
   "id": "12",
   "metadata": {},
   "outputs": [],
   "source": [
    "len(HHSK[\"hydroobject\"])"
   ]
  },
  {
   "cell_type": "markdown",
   "id": "13",
   "metadata": {},
   "source": [
    "## Select waterschap boundaries and clip hws layer"
   ]
  },
  {
   "cell_type": "code",
   "execution_count": null,
   "id": "14",
   "metadata": {},
   "outputs": [],
   "source": [
    "# Select boundaries HH Amstel, Gooi en Vecht\n",
    "gdf_grens = gdf_grens.loc[[\"Schieland en de Krimpenerwaard\"]]\n",
    "\n",
    "# Use waterschap boudnaries to clip HWS layer\n",
    "gdf_hws = gpd.overlay(gdf_grens, gdf_hws, how=\"intersection\")"
   ]
  },
  {
   "cell_type": "markdown",
   "id": "15",
   "metadata": {},
   "source": [
    "## Check Peilgebied and HWS layer overlap:\n",
    "1. Identify the overlapping areas\n",
    "2. Clip\n",
    "3. Calculate overlapping area percentage\n",
    "4. Filter"
   ]
  },
  {
   "cell_type": "code",
   "execution_count": null,
   "id": "16",
   "metadata": {},
   "outputs": [],
   "source": [
    "# Step 1: Identify the Overlapping Areas and clip\n",
    "overlaps = gpd.overlay(HHSK[\"peilgebied\"], gdf_hws, how=\"intersection\", keep_geom_type=True)\n",
    "gdf_hws = gpd.overlay(gdf_hws, HHSK[\"peilgebied\"], how=\"difference\")\n",
    "\n",
    "# # Step 2: Subtract Overlapping Areas from the original polygons in each DataFrame\n",
    "non_overlapping_peilgebied = gpd.overlay(HHSK[\"peilgebied\"], overlaps, how=\"difference\", keep_geom_type=True)\n",
    "overlaps = gpd.overlay(non_overlapping_peilgebied, gdf_hws, how=\"intersection\", keep_geom_type=False)\n",
    "\n",
    "# Step 3: Calculate Area Percentages\n",
    "# Calculate the area of overlaps\n",
    "overlaps[\"overlap_area\"] = overlaps.area\n",
    "\n",
    "# Step 4: Filter based on area Area Percentages\n",
    "minimum_area = 50\n",
    "print(f\"Number of overlapping shapes without filter: {len(overlaps)}\")\n",
    "overlap_ids = overlaps.loc[overlaps[\"overlap_area\"] > minimum_area]\n",
    "overlap_ids = overlap_ids.globalid.to_list()\n",
    "print(f\"Number of overlapping shapes with filter: {len(overlap_ids)}\")\n",
    "\n",
    "# gdf_hws = gdf_hws_clipped"
   ]
  },
  {
   "cell_type": "markdown",
   "id": "17",
   "metadata": {},
   "source": [
    "## Create peilgebied_cat column"
   ]
  },
  {
   "cell_type": "code",
   "execution_count": null,
   "id": "18",
   "metadata": {},
   "outputs": [],
   "source": [
    "# list(HHSK['peilgebied'][HHSK['peilgebied'].code.str.contains('boezem')].code.unique())"
   ]
  },
  {
   "cell_type": "code",
   "execution_count": null,
   "id": "19",
   "metadata": {},
   "outputs": [],
   "source": [
    "# # Add to geodataframe\n",
    "# peilgebieden_cat = []\n",
    "\n",
    "\n",
    "# # code_list = [\"dummy_id_78_dummy_id_78\",\"PPG-48_dummy_id_196_dummy_id_196\",\"PPG-49_dummy_id_85_dummy_id_85\",\"PPG-237_dummy_id_148_dummy_id_148\",\"PPG-1040_dummy_id_125_dummy_id_125\"]\n",
    "# # code_list = [\"dummy_code_peilgebied_486\",\"dummy_code_peilgebied_450\",\"dummy_code_peilgebied_906\",\"dummy_code_peilgebied_1060\",\"dummy_code_peilgebied_552\",\"dummy_code_peilgebied_953\",\n",
    "# #              \"dummy_code_peilgebied_216\",\"dummy_code_peilgebied_544\",\"dummy_code_peilgebied_5\",\"dummy_code_peilgebied_480\",\"dummy_code_peilgebied_308\",\"dummy_code_peilgebied_677\",\n",
    "# #              \"dummy_code_peilgebied_1053\"]\n",
    "\n",
    "# code_list = list(HHSK['peilgebied'][HHSK['peilgebied'].code.str.contains('boezem')].code.unique())\n",
    "\n",
    "# for index, row in HHSK['peilgebied'].iterrows():\n",
    "#     # print(row.code)\n",
    "#     # if row.code in code_list:\n",
    "#     if 'boezem' in row.code:\n",
    "#         print('appending_boezem')\n",
    "#         peilgebieden_cat.append(1)\n",
    "\n",
    "#     else:\n",
    "#         peilgebieden_cat.append(0)\n",
    "\n",
    "# HHSK['peilgebied']['peilgebied_cat'] = peilgebieden_cat"
   ]
  },
  {
   "cell_type": "code",
   "execution_count": null,
   "id": "20",
   "metadata": {},
   "outputs": [],
   "source": [
    "HHSK[\"peilgebied\"][\"peilgebied_cat\"] = 0"
   ]
  },
  {
   "cell_type": "code",
   "execution_count": null,
   "id": "21",
   "metadata": {},
   "outputs": [],
   "source": [
    "HHSK[\"peilgebied\"].loc[HHSK[\"peilgebied\"].code.str.contains(\"GPG-399\"), \"peilgebied_cat\"] = 1\n",
    "HHSK[\"peilgebied\"].loc[HHSK[\"peilgebied\"].code.str.contains(\"GPG-1005\"), \"peilgebied_cat\"] = 1\n",
    "HHSK[\"peilgebied\"].loc[HHSK[\"peilgebied\"].code.str.contains(\"GPG-1360\"), \"peilgebied_cat\"] = 1\n",
    "HHSK[\"peilgebied\"].loc[HHSK[\"peilgebied\"].code.str.contains(\"GPG-1012\"), \"peilgebied_cat\"] = 1"
   ]
  },
  {
   "cell_type": "markdown",
   "id": "22",
   "metadata": {
    "tags": []
   },
   "source": [
    "## Add nhws to ['peilgebied','streefpeil']"
   ]
  },
  {
   "cell_type": "code",
   "execution_count": null,
   "id": "23",
   "metadata": {},
   "outputs": [],
   "source": [
    "# # update peilgebied dict key\n",
    "# gdf_hws['globalid'] = 'dummy_globalid_nhws_' + gdf_hws.index.astype(str)\n",
    "# gdf_hws['code'] = 'dummy_code_nhws_' + gdf_hws.index.astype(str)\n",
    "# gdf_hws['nen3610id'] = 'dummy_nen3610id_nhws_' + gdf_hws.index.astype(str)\n",
    "# gdf_hws['peilgebied_cat'] = 2\n",
    "\n",
    "# gdf_hws = gdf_hws[['globalid', 'code', 'nen3610id', 'peilgebied_cat', 'geometry']]\n",
    "\n",
    "# HHSK['peilgebied'] = pd.concat([gdf_hws, HHSK['peilgebied']])"
   ]
  },
  {
   "cell_type": "code",
   "execution_count": null,
   "id": "24",
   "metadata": {},
   "outputs": [],
   "source": [
    "# # update streefpeil dict key\n",
    "# streefpeil_hws = pd.DataFrame()\n",
    "# streefpeil_hws['waterhoogte'] = [np.nan] * len(gdf_hws)\n",
    "# streefpeil_hws['globalid'] = 'dummy_globalid_nhws_' + gdf_hws.index.astype(str)\n",
    "# streefpeil_hws['geometry'] = [None]* len(gdf_hws)\n",
    "\n",
    "# HHSK['streefpeil'] = pd.concat([streefpeil_hws, HHSK['streefpeil']])\n",
    "# HHSK['streefpeil'] = gpd.GeoDataFrame(HHSK['streefpeil'])"
   ]
  },
  {
   "cell_type": "code",
   "execution_count": null,
   "id": "25",
   "metadata": {},
   "outputs": [],
   "source": [
    "HHSK[\"peilgebied\"][\"peilgebied_cat\"].unique()"
   ]
  },
  {
   "cell_type": "markdown",
   "id": "26",
   "metadata": {},
   "source": [
    "### Create buffer polygon between NHWS and peilgebied/RHWS"
   ]
  },
  {
   "cell_type": "code",
   "execution_count": null,
   "id": "27",
   "metadata": {},
   "outputs": [],
   "source": [
    "# buffer_polygon = gdf_buffer.geometry.iat[0].intersection(gdf_grens.geometry.iat[0])\n",
    "# buffer_polygon = buffer_polygon.difference(shapely.geometry.MultiPolygon(gdf_hws.geometry.tolist()))\n",
    "# buffer_polygon = buffer_polygon.difference(shapely.ops.unary_union(HHSK['peilgebied'].geometry.tolist()))\n",
    "\n",
    "# buffer_polygon = gpd.GeoDataFrame(buffer_polygon)\n",
    "# buffer_polygon = buffer_polygon.set_geometry(0)\n",
    "# buffer_polygon = buffer_polygon.dissolve()\n",
    "# buffer_polygon = buffer_polygon.rename(columns={0:'geometry'})\n",
    "# buffer_polygon = buffer_polygon.set_geometry('geometry')\n",
    "# buffer_polygon = buffer_polygon.set_crs('EPSG:28992')"
   ]
  },
  {
   "cell_type": "markdown",
   "id": "28",
   "metadata": {},
   "source": [
    "### Add buffer to ['peilgebied','streefpeil']"
   ]
  },
  {
   "cell_type": "code",
   "execution_count": null,
   "id": "29",
   "metadata": {},
   "outputs": [],
   "source": [
    "# # update peilgebied dict key\n",
    "# buffer_polygon = gpd.GeoDataFrame(buffer_polygon)\n",
    "# buffer_polygon['globalid'] = 'dummy_globalid_nhws_buffer_' + '1'\n",
    "# buffer_polygon['code'] = 'dummy_code_nhws_buffer_' + buffer_polygon.index.astype(str)\n",
    "# buffer_polygon['nen3610id'] = 'dummy_nen3610id_nhws_buffer_' + buffer_polygon.index.astype(str)\n",
    "# buffer_polygon['peilgebied_cat'] = 2\n",
    "# buffer_polygon = buffer_polygon.rename(columns={0:'geometry'})\n",
    "# buffer_polygon = buffer_polygon[['globalid', 'code', 'nen3610id', 'peilgebied_cat', 'geometry']]\n",
    "\n",
    "# HHSK['peilgebied'] = pd.concat([buffer_polygon, HHSK['peilgebied']])\n",
    "# HHSK['peilgebied'] = gpd.GeoDataFrame(HHSK['peilgebied'])"
   ]
  },
  {
   "cell_type": "code",
   "execution_count": null,
   "id": "30",
   "metadata": {},
   "outputs": [],
   "source": [
    "# # Create boezem streefpeil layer\n",
    "# streefpeil_buffer = pd.DataFrame()\n",
    "# streefpeil_buffer['waterhoogte'] = [np.nan]\n",
    "# streefpeil_buffer['globalid'] = ['dummy_globalid_nhws_buffer_1']\n",
    "# streefpeil_buffer['geometry'] = [None]\n",
    "\n",
    "\n",
    "# HHSK['streefpeil'] = pd.concat([streefpeil_buffer, HHSK['streefpeil']])\n",
    "# HHSK['streefpeil'] = gpd.GeoDataFrame(HHSK['streefpeil'])"
   ]
  },
  {
   "cell_type": "code",
   "execution_count": null,
   "id": "31",
   "metadata": {},
   "outputs": [],
   "source": [
    "if remove_cat_2:\n",
    "    HHSK[\"peilgebied\"] = HHSK[\"peilgebied\"].loc[HHSK[\"peilgebied\"].peilgebied_cat != 2]"
   ]
  },
  {
   "cell_type": "markdown",
   "id": "32",
   "metadata": {},
   "source": [
    "### Store post-processed data"
   ]
  },
  {
   "cell_type": "code",
   "execution_count": null,
   "id": "33",
   "metadata": {},
   "outputs": [],
   "source": [
    "for key in HHSK.keys():\n",
    "    print(key)\n",
    "    HHSK[str(key)].to_file(f\"{output_folder}/{waterschap}.gpkg\", layer=str(key), driver=\"GPKG\")"
   ]
  },
  {
   "cell_type": "code",
   "execution_count": null,
   "id": "34",
   "metadata": {},
   "outputs": [],
   "source": []
  },
  {
   "cell_type": "code",
   "execution_count": null,
   "id": "35",
   "metadata": {},
   "outputs": [],
   "source": []
  }
 ],
 "metadata": {
  "kernelspec": {
   "display_name": "Python [conda env:ribasim]",
   "language": "python",
   "name": "conda-env-ribasim-py"
  },
  "language_info": {
   "codemirror_mode": {
    "name": "ipython",
    "version": 3
   },
   "file_extension": ".py",
   "mimetype": "text/x-python",
   "name": "python",
   "nbconvert_exporter": "python",
   "pygments_lexer": "ipython3",
   "version": "3.10.13"
  }
 },
 "nbformat": 4,
 "nbformat_minor": 5
}
