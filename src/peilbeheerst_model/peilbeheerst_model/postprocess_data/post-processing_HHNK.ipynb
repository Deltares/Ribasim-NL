{
 "cells": [
  {
   "cell_type": "markdown",
   "id": "690952c5-5037-476a-a660-d54fec614748",
   "metadata": {},
   "source": [
    "# HHNK"
   ]
  },
  {
   "cell_type": "markdown",
   "id": "2799e766-bbe4-4f8d-a780-051b36f773ae",
   "metadata": {},
   "source": [
    "This script adds a new column \"peilgebied_cat\" and makes sure the peilgebieden allign with the HWS layer (Daniel):\n",
    "- peilgebied_cat = 0 -> peilgebied\n",
    "- peigelbied_cat = 1 -> RHWS (boezem)\n",
    "- peilgebied_cat = 2 -> NHWS "
   ]
  },
  {
   "cell_type": "code",
   "execution_count": null,
   "id": "0c27c7a4-5733-46ea-970f-cd985b8c92cd",
   "metadata": {},
   "outputs": [],
   "source": [
    "import geopandas as gpd\n",
    "import numpy as np\n",
    "\n",
    "%load_ext autoreload\n",
    "%autoreload 2\n",
    "\n",
    "from general_functions import *"
   ]
  },
  {
   "cell_type": "markdown",
   "id": "dc1f28d2-8499-4ebb-906e-1724bd334aac",
   "metadata": {},
   "source": [
    "## Set Paths"
   ]
  },
  {
   "cell_type": "code",
   "execution_count": null,
   "id": "e15206a7-6639-40bb-9942-f920085f53b4",
   "metadata": {},
   "outputs": [],
   "source": [
    "# define relative paths\n",
    "waterschap = \"HHNK\"\n",
    "waterschap2 = \"Noorderkwartier\"\n",
    "\n",
    "data_path = f\"../projects/4750_20/Data_postprocessed/Waterschappen/{waterschap}/{waterschap2}.gpkg\"\n",
    "\n",
    "# Waterschaps boundaries\n",
    "grens_path = \"../projects/4750_30/Data_overig/Waterschapsgrenzen/Waterschapsgrenzen.geojson\"\n",
    "# Hoofdwatersysteem boundaries\n",
    "hws_path = \"../projects/4750_30/Data_overig/HWS/krw_basins_vlakken.gpkg\"\n",
    "# Buffer boundaries\n",
    "buffer_path = \"../projects/4750_30/Data_overig/HWS/hws_buffer_hhnk.gpkg\"\n",
    "# Output folder\n",
    "output_folder = f\"./Waterschappen/{waterschap}\""
   ]
  },
  {
   "cell_type": "markdown",
   "id": "25e2a7de-cb4b-4f6b-b2db-c675f481b939",
   "metadata": {},
   "source": [
    "## Load files"
   ]
  },
  {
   "cell_type": "code",
   "execution_count": null,
   "id": "0f6dcf56-e8a4-4055-bc86-a6d33c91d8d8",
   "metadata": {},
   "outputs": [],
   "source": [
    "# Load HHNK files\n",
    "HHNK = read_gpkg_layers(\n",
    "    gpkg_path=data_path,\n",
    "    variables=[\n",
    "        \"stuw\",\n",
    "        \"gemaal\",\n",
    "        \"hydroobject\",\n",
    "        \"duikersifonhevel\",\n",
    "        \"peilgebied\",\n",
    "        \"streefpeil\",\n",
    "    ],\n",
    ")\n",
    "HHNK[\"peilgebied\"] = HHNK[\"peilgebied\"].to_crs(\"EPSG:28992\")\n",
    "\n",
    "# Load waterschap boundaries\n",
    "gdf_grens = gpd.read_file(grens_path)\n",
    "gdf_grens = gdf_grens.to_crs(\"EPSG:28992\")\n",
    "gdf_grens = gdf_grens.set_index(\"waterschap\")\n",
    "\n",
    "# Load hws\n",
    "gdf_hws = gpd.read_file(hws_path)\n",
    "\n",
    "# Load buffer\n",
    "gdf_buffer = gpd.read_file(buffer_path)"
   ]
  },
  {
   "cell_type": "markdown",
   "id": "1e7e929e-e302-4791-b4d2-3808d48cbb56",
   "metadata": {},
   "source": [
    "## Select waterschap boundaries and clip hws layer"
   ]
  },
  {
   "cell_type": "code",
   "execution_count": null,
   "id": "c70bb838-9d93-4d5a-ae12-2da18d145009",
   "metadata": {},
   "outputs": [],
   "source": [
    "# Select boundaries HH Amstel, Gooi en Vecht\n",
    "gdf_grens = gdf_grens.loc[[\"HH Hollands Noorderkwartier\"]]\n",
    "\n",
    "# Use waterschap boudnaries to clip HWS layer\n",
    "gdf_hws = gpd.overlay(gdf_grens, gdf_hws, how=\"intersection\")\n",
    "gdf_hws.plot()"
   ]
  },
  {
   "cell_type": "markdown",
   "id": "ab931fb8-1011-49e9-88c0-e4b1cb09b217",
   "metadata": {},
   "source": [
    "## Peilgebied and HWS layer overlap:\n",
    "1. Identify the overlapping areas\n",
    "2. Clip\n",
    "3. Calculate overlapping area percentage\n",
    "4. Filter"
   ]
  },
  {
   "cell_type": "code",
   "execution_count": null,
   "id": "f2740959-7a85-4947-950e-d8a64cb8ece2",
   "metadata": {},
   "outputs": [],
   "source": [
    "# Step 1: Identify the Overlapping Areas and clip\n",
    "overlaps = gpd.overlay(HHNK[\"peilgebied\"], gdf_hws, how=\"intersection\", keep_geom_type=True)\n",
    "\n",
    "# # Step 2: Subtract Overlapping Areas from the original polygons in each DataFrame\n",
    "non_overlapping_peilgebied = gpd.overlay(HHNK[\"peilgebied\"], overlaps, how=\"difference\", keep_geom_type=True)\n",
    "overlaps = gpd.overlay(non_overlapping_peilgebied, gdf_hws, how=\"intersection\", keep_geom_type=False)\n",
    "\n",
    "# Step 3: Calculate Area Percentages\n",
    "# Calculate the area of overlaps\n",
    "overlaps[\"overlap_area\"] = overlaps.area\n",
    "\n",
    "# Step 4: Filter based on area Area Percentages\n",
    "minimum_area = 20000\n",
    "print(f\"Number of overlapping shapes without filter: {len(overlaps)}\")\n",
    "overlap_ids = overlaps.loc[overlaps[\"overlap_area\"] > minimum_area]\n",
    "overlap_ids = overlap_ids.globalid.to_list()\n",
    "print(f\"Number of overlapping shapes with filter: {len(overlap_ids)}\")"
   ]
  },
  {
   "cell_type": "markdown",
   "id": "37f2ee9b-d819-4d7b-92a1-49fe681b4380",
   "metadata": {},
   "source": [
    "## Create peilgebied_cat column"
   ]
  },
  {
   "cell_type": "code",
   "execution_count": null,
   "id": "c5c819f1-dfae-4bf4-b14e-63902e433b1a",
   "metadata": {
    "tags": []
   },
   "outputs": [],
   "source": [
    "# Add occurence to geodataframe\n",
    "peilgebieden_cat = []\n",
    "\n",
    "for index, row in HHNK[\"peilgebied\"].iterrows():\n",
    "    if row.globalid in overlap_ids:\n",
    "        peilgebieden_cat.append(2)\n",
    "\n",
    "    elif row.HWS_BZM is True:\n",
    "        peilgebieden_cat.append(1)\n",
    "\n",
    "    elif row.HWS_BZM is False:\n",
    "        peilgebieden_cat.append(0)\n",
    "\n",
    "# Add new column and drop old HWS_BZM column\n",
    "HHNK[\"peilgebied\"][\"peilgebied_cat\"] = peilgebieden_cat\n",
    "HHNK[\"peilgebied\"] = HHNK[\"peilgebied\"].drop(columns=[\"HWS_BZM\"])"
   ]
  },
  {
   "cell_type": "markdown",
   "id": "0c470216-2a8b-4a0a-9e0a-7877203df9dd",
   "metadata": {},
   "source": [
    "## Add nhws to ['peilgebied','streefpeil']"
   ]
  },
  {
   "cell_type": "code",
   "execution_count": null,
   "id": "7dfdcfaf-4b9a-443f-b40c-65460af8352d",
   "metadata": {},
   "outputs": [],
   "source": [
    "# update peilgebied dict key\n",
    "gdf_hws[\"globalid\"] = \"dummy_globalid_nhws_\" + gdf_hws.index.astype(str)\n",
    "gdf_hws[\"code\"] = \"dummy_code_nhws_\" + gdf_hws.index.astype(str)\n",
    "gdf_hws[\"nen3610id\"] = \"dummy_nen3610id_nhws_\" + gdf_hws.index.astype(str)\n",
    "gdf_hws[\"peilgebied_cat\"] = 2\n",
    "\n",
    "gdf_hws = gdf_hws[[\"globalid\", \"code\", \"nen3610id\", \"peilgebied_cat\", \"geometry\"]]\n",
    "\n",
    "HHNK[\"peilgebied\"] = pd.concat([gdf_hws, HHNK[\"peilgebied\"]])"
   ]
  },
  {
   "cell_type": "code",
   "execution_count": null,
   "id": "a744a7e5-9ac9-4e47-8cf2-791206581786",
   "metadata": {},
   "outputs": [],
   "source": [
    "# Create boezem streefpeil layer\n",
    "streefpeil_hws = pd.DataFrame()\n",
    "streefpeil_hws[\"waterhoogte\"] = [np.nan] * len(gdf_hws)\n",
    "streefpeil_hws[\"globalid\"] = \"dummy_globalid_nhws_\" + gdf_hws.index.astype(str)\n",
    "streefpeil_hws[\"geometry\"] = [None] * len(gdf_hws)\n",
    "\n",
    "HHNK[\"streefpeil\"] = pd.concat([streefpeil_hws, HHNK[\"streefpeil\"]])\n",
    "HHNK[\"streefpeil\"] = gpd.GeoDataFrame(HHNK[\"streefpeil\"])"
   ]
  },
  {
   "cell_type": "markdown",
   "id": "161bb7c7-0ba5-4eb6-bab1-b513cfd330f7",
   "metadata": {},
   "source": [
    "### Create layer that ensures spatial match between peilgebied and hws layers based on the buffer layer"
   ]
  },
  {
   "cell_type": "code",
   "execution_count": null,
   "id": "e9d64a75-240f-4583-9b38-3e3b22a578a3",
   "metadata": {},
   "outputs": [],
   "source": [
    "# Create buffer polygon\n",
    "buffer_polygon = gpd.overlay(gdf_buffer, gdf_grens, how=\"intersection\", keep_geom_type=True)\n",
    "buffer_polygon = gpd.overlay(buffer_polygon, gdf_hws, how=\"difference\", keep_geom_type=True)\n",
    "buffer_polygon = gpd.overlay(buffer_polygon, HHNK[\"peilgebied\"], how=\"difference\", keep_geom_type=True)"
   ]
  },
  {
   "cell_type": "markdown",
   "id": "7fc8e8ea-4f94-4d3e-8820-46a442903ee6",
   "metadata": {},
   "source": [
    "## Add buffer to ['peilgebied','streefpeil']"
   ]
  },
  {
   "cell_type": "code",
   "execution_count": null,
   "id": "ac1121dc-342e-4960-9294-308b619de9d8",
   "metadata": {},
   "outputs": [],
   "source": [
    "# update peilgebied dict key\n",
    "buffer_polygon[\"globalid\"] = \"dummy_globalid_nhws_buffer_\" + buffer_polygon.index.astype(str)\n",
    "buffer_polygon[\"code\"] = \"dummy_code_nhws_buffer_\" + buffer_polygon.index.astype(str)\n",
    "buffer_polygon[\"nen3610id\"] = \"dummy_nen3610id_nhws_buffer_\" + buffer_polygon.index.astype(str)\n",
    "buffer_polygon[\"peilgebied_cat\"] = 2\n",
    "\n",
    "buffer_polygon = buffer_polygon[[\"globalid\", \"code\", \"nen3610id\", \"peilgebied_cat\", \"geometry\"]]\n",
    "\n",
    "HHNK[\"peilgebied\"] = pd.concat([buffer_polygon, HHNK[\"peilgebied\"]])"
   ]
  },
  {
   "cell_type": "code",
   "execution_count": null,
   "id": "746d2ebd-7307-4745-8e0e-35c047126c27",
   "metadata": {},
   "outputs": [],
   "source": [
    "# Create boezem streefpeil layer\n",
    "streefpeil_buffer = pd.DataFrame()\n",
    "streefpeil_buffer[\"waterhoogte\"] = [np.nan]\n",
    "streefpeil_buffer[\"globalid\"] = [\"dummy_globalid_nhws_buffer_1\"]\n",
    "streefpeil_buffer[\"geometry\"] = [None]\n",
    "\n",
    "\n",
    "HHNK[\"streefpeil\"] = pd.concat([streefpeil_buffer, HHNK[\"streefpeil\"]])\n",
    "HHNK[\"streefpeil\"] = gpd.GeoDataFrame(HHNK[\"streefpeil\"])"
   ]
  },
  {
   "cell_type": "markdown",
   "id": "f0d2cab6-6529-4f4a-972a-533de967e85a",
   "metadata": {},
   "source": [
    "## Write output"
   ]
  },
  {
   "cell_type": "code",
   "execution_count": null,
   "id": "02fcfb58-7054-4517-97f3-224c9acb4d1f",
   "metadata": {},
   "outputs": [],
   "source": [
    "for key in HHNK.keys():\n",
    "    print(key)\n",
    "    HHNK[str(key)].to_file(f\"{output_folder}/{waterschap2}.gpkg\", layer=str(key), driver=\"GPKG\")"
   ]
  },
  {
   "cell_type": "code",
   "execution_count": null,
   "id": "fb843192-82da-4b4f-bb64-f475a4b52162",
   "metadata": {},
   "outputs": [],
   "source": []
  }
 ],
 "metadata": {
  "kernelspec": {
   "display_name": "Python [conda env:stable]",
   "language": "python",
   "name": "conda-env-stable-py"
  },
  "language_info": {
   "codemirror_mode": {
    "name": "ipython",
    "version": 3
   },
   "file_extension": ".py",
   "mimetype": "text/x-python",
   "name": "python",
   "nbconvert_exporter": "python",
   "pygments_lexer": "ipython3",
   "version": "3.8.15"
  }
 },
 "nbformat": 4,
 "nbformat_minor": 5
}
