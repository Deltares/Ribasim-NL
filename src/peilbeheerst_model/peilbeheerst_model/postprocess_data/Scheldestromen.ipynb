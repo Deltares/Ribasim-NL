{
 "cells": [
  {
   "cell_type": "code",
   "execution_count": 39,
   "id": "065338fd-62d6-480e-8c80-8bc4b101846b",
   "metadata": {},
   "outputs": [],
   "source": [
    "#import packages and functions\n",
    "import numpy as np\n",
    "import matplotlib.pyplot as plt\n",
    "import pandas as pd\n",
    "import geopandas as gpd\n",
    "import os\n",
    "import fiona\n",
    "\n",
    "import shapely\n",
    "from shapely.validation import make_valid\n"
   ]
  },
  {
   "cell_type": "code",
   "execution_count": 40,
   "id": "3f5aaa20-7965-4aa7-bf24-79965d87edb1",
   "metadata": {},
   "outputs": [],
   "source": [
    "from general_functions import *"
   ]
  },
  {
   "cell_type": "code",
   "execution_count": 41,
   "id": "cbbec2b5-c309-4a42-a914-dd33c2da3610",
   "metadata": {},
   "outputs": [],
   "source": [
    "pd.set_option('display.max_columns', None)"
   ]
  },
  {
   "cell_type": "code",
   "execution_count": 42,
   "id": "e7bb775e-cc57-4586-a13c-8d9ba05ace6b",
   "metadata": {},
   "outputs": [],
   "source": [
    "#define relative paths\n",
    "waterschap = 'Scheldestromen'\n",
    "path_Scheldestromen = '..\\..\\Data_preprocessed\\Waterschappen\\Scheldestromen\\Scheldestromen.gpkg'\n",
    "output_gpkg_path = \"../../Data_postprocessed/Waterschappen/Scheldestromen\"\n"
   ]
  },
  {
   "cell_type": "code",
   "execution_count": 43,
   "id": "1f39bd82-2fed-41d6-a4f7-979a9a2120bd",
   "metadata": {},
   "outputs": [],
   "source": [
    "Scheldestromen = read_gpkg_layers(gpkg_path = path_Scheldestromen, \n",
    "                                  variables = ['stuw', \n",
    "                                               'gemaal', \n",
    "                                               # 'afsluitmiddel',\n",
    "                                               'duikersifonhevel',\n",
    "                                               # 'hydroobject',\n",
    "                                               # 'peilgebiedvigerend',\n",
    "                                               # 'peilgebiedpraktijk',\n",
    "                                               # 'peilafwijkinggebied',\n",
    "                                               # 'streefpeil',\n",
    "                                              ],\n",
    "                                 engine = 'pyogrio') \n",
    "                            "
   ]
  },
  {
   "cell_type": "code",
   "execution_count": 44,
   "id": "08cc74ef-4286-4114-bb1b-6e88f4f3c656",
   "metadata": {},
   "outputs": [],
   "source": [
    "# #the peilgebieden and streefpeilen do not contain overlapping values. Scheldestromen has delivered additional files as shapes\n",
    "Scheldestromen['peilgebied'] = gpd.read_file('..\\..\\Data_preprocessed\\Waterschappen\\Scheldestromen\\Praktijkpeilgebieden_20231204.shp')"
   ]
  },
  {
   "cell_type": "code",
   "execution_count": 45,
   "id": "066b2c9f-be0e-41c2-9ec1-9c9d310d2ee6",
   "metadata": {},
   "outputs": [],
   "source": [
    "#Third nalevering\n",
    "Scheldestromen_nalevering = read_gpkg_layers(gpkg_path = r\"D:\\Users\\Bruijns\\Documents\\PR4750_20\\Data_preprocessed\\Waterschappen\\Scheldestromen\\Oplevering_Scheldestromen_20240328\\Oplevering_20240328.gdb\", \n",
    "                                             variables = ['Gemalen', \n",
    "                                                          'main_Hydroobject_regionaal', \n",
    "                                                          'main_Peilgebiedpraktijk_regionaal'],\n",
    "                                             engine = 'pyogrio') "
   ]
  },
  {
   "cell_type": "code",
   "execution_count": 46,
   "id": "2a3c46b8-d446-43aa-a0d8-5c510abc2978",
   "metadata": {},
   "outputs": [
    {
     "data": {
      "text/plain": [
       "array(['Ja', 'Koppeling afvoer (energiebesparing)',\n",
       "       'Ja (+ aanvoertraject)', 'Koppeling aanvoer',\n",
       "       'Koppeling afvoer (zomer)'], dtype=object)"
      ]
     },
     "execution_count": 46,
     "metadata": {},
     "output_type": "execute_result"
    }
   ],
   "source": [
    "Scheldestromen_nalevering['main_Hydroobject_regionaal'] = Scheldestromen_nalevering['main_Hydroobject_regionaal'].loc[Scheldestromen_nalevering['main_Hydroobject_regionaal'].regionaal != ('None')]\n",
    "Scheldestromen_nalevering['main_Hydroobject_regionaal'] = Scheldestromen_nalevering['main_Hydroobject_regionaal'].loc[Scheldestromen_nalevering['main_Hydroobject_regionaal'].regionaal != ('')]\n",
    "Scheldestromen_nalevering['main_Hydroobject_regionaal'] = Scheldestromen_nalevering['main_Hydroobject_regionaal'].loc[Scheldestromen_nalevering['main_Hydroobject_regionaal'].regionaal != ('Koppeling afvoer (extremen)')]\n",
    "Scheldestromen_nalevering['main_Hydroobject_regionaal'] = Scheldestromen_nalevering['main_Hydroobject_regionaal'].loc[Scheldestromen_nalevering['main_Hydroobject_regionaal'].regionaal != ('Koppeling afvoer (winter)')]\n",
    "Scheldestromen_nalevering['main_Hydroobject_regionaal'] = Scheldestromen_nalevering['main_Hydroobject_regionaal'].dropna(subset='regionaal')\n",
    "Scheldestromen_nalevering['main_Hydroobject_regionaal'].regionaal.unique()\n"
   ]
  },
  {
   "cell_type": "code",
   "execution_count": 47,
   "id": "1362afea-8b85-4aec-8085-e854dfaa71cc",
   "metadata": {},
   "outputs": [
    {
     "name": "stderr",
     "output_type": "stream",
     "text": [
      "C:\\Users\\Bruijns\\AppData\\Local\\Temp\\ipykernel_18924\\103704338.py:1: UserWarning: This pattern is interpreted as a regular expression, and has match groups. To actually get the groups, use str.extract.\n",
      "  test =[Scheldestromen_nalevering['main_Hydroobject_regionaal'].regionaal.str.contains('Ja|Koppeling afvoer (zomer)|Koppeling aanvoer|Koppeling afvoer (energiebesparing)')]\n"
     ]
    }
   ],
   "source": [
    "test =[Scheldestromen_nalevering['main_Hydroobject_regionaal'].regionaal.str.contains('Ja|Koppeling afvoer (zomer)|Koppeling aanvoer|Koppeling afvoer (energiebesparing)')]"
   ]
  },
  {
   "cell_type": "code",
   "execution_count": 48,
   "id": "2295a8a2-8307-4a66-9743-d06fd5a85666",
   "metadata": {},
   "outputs": [],
   "source": [
    "Scheldestromen['gemaal'] = Scheldestromen_nalevering['Gemalen']\n",
    "Scheldestromen['hydroobject'] = Scheldestromen_nalevering['main_Hydroobject_regionaal']\n",
    "Scheldestromen['peilgebied'] = pd.merge(left = Scheldestromen_nalevering['main_Peilgebiedpraktijk_regionaal'],\n",
    "                                                   right = Scheldestromen['peilgebied'],\n",
    "                                                   left_on = 'naam',\n",
    "                                                   right_on = 'GPGIDENT',\n",
    "                                                   how = 'left',\n",
    "                                                   suffixes = ('', '_merged_oudelevering'))"
   ]
  },
  {
   "cell_type": "code",
   "execution_count": 49,
   "id": "1fbd3407-e961-4dae-b4c1-645acd5e8f36",
   "metadata": {},
   "outputs": [],
   "source": [
    "Scheldestromen['aggregation_area'] = Scheldestromen['peilgebied'].dissolve(by='RWE_ID')#.plot()\n",
    "Scheldestromen['aggregation_area'] = Scheldestromen['aggregation_area'][['GPGIDENT', 'nen3610id', 'GLOBALID', 'geometry']]\n",
    "Scheldestromen['aggregation_area'].rename(columns={'GPGIDENT':'code',\n",
    "                                                   'GLOBALID': 'globalid'}, \n",
    "                                          inplace=True)"
   ]
  },
  {
   "cell_type": "code",
   "execution_count": 51,
   "id": "28df20d6-5061-4aae-ad22-cccda14133de",
   "metadata": {},
   "outputs": [],
   "source": [
    "#determine aanvoer en afvoer gemalen\n",
    "Scheldestromen['gemaal']['func_aanvoer'], Scheldestromen['gemaal']['func_afvoer'], Scheldestromen['gemaal']['func_circulatie']  = False, False, False #default is False\n",
    "Scheldestromen['gemaal']['functiegemaal'] = Scheldestromen['gemaal']['KGMFUNCT'].astype(str) \n",
    "\n",
    "Scheldestromen['gemaal'].loc[Scheldestromen['gemaal'].functiegemaal.astype(str).str.contains('8'), 'func_circulatie'] = True\n",
    "Scheldestromen['gemaal'].loc[Scheldestromen['gemaal'].functiegemaal.astype(str).str.contains('2|4|6|7|98|99'), 'func_afvoer'] = True\n",
    "Scheldestromen['gemaal'].loc[Scheldestromen['gemaal'].functiegemaal.astype(str).str.contains('1|3'), 'func_aanvoer'] = True\n",
    "# Scheldestromen['gemaal'].loc[(Scheldestromen['gemaal'].func_afvoer == False) &\n",
    "#                        (Scheldestromen['gemaal'].func_aanvoer == False) &\n",
    "#                        (Scheldestromen['gemaal'].func_circulatie == False), 'func_afvoer'] = True #set to afvoergemaal is there the function is unknown"
   ]
  },
  {
   "cell_type": "code",
   "execution_count": 52,
   "id": "8856eb4f-c3ef-4f75-9d1c-89740bbdbbf7",
   "metadata": {},
   "outputs": [
    {
     "name": "stdout",
     "output_type": "stream",
     "text": [
      "1\n",
      "852\n"
     ]
    }
   ],
   "source": [
    "print(len(Scheldestromen['peilgebied'].code.unique()))\n",
    "print(len(Scheldestromen['peilgebied'].code))"
   ]
  },
  {
   "cell_type": "code",
   "execution_count": 53,
   "id": "4a7d78f8-7605-4aba-b4c6-b17b81d4f5df",
   "metadata": {},
   "outputs": [
    {
     "name": "stderr",
     "output_type": "stream",
     "text": [
      "C:\\Users\\Bruijns\\AppData\\Local\\Temp\\ipykernel_18924\\3963481977.py:13: FutureWarning: You are adding a column named 'geometry' to a GeoDataFrame constructed without an active geometry column. Currently, this automatically sets the active geometry column to 'geometry' but in the future that will no longer happen. Instead, either provide geometry to the GeoDataFrame constructor (GeoDataFrame(... geometry=GeoSeries()) or use `set_geometry('geometry')` to explicitly set the active geometry column.\n",
      "  Scheldestromen['streefpeil']['geometry'] = np.nan\n"
     ]
    }
   ],
   "source": [
    "Scheldestromen['peilgebied']['code'] = Scheldestromen['peilgebied']['GPGIDENT']\n",
    "Scheldestromen['peilgebied'] = Scheldestromen['peilgebied'].reset_index(drop=True)\n",
    "Scheldestromen['peilgebied']['code'] = Scheldestromen['peilgebied']['code'].astype(str) + '_dummy_id_' + Scheldestromen['peilgebied'].index.astype(str)\n",
    "\n",
    "Scheldestromen['peilgebied']['globalid'] = 'dummy_globalid_peilgebied_' + Scheldestromen['peilgebied'].index.astype(str)\n",
    "\n",
    "Scheldestromen['peilgebied']['waterhoogte'] = Scheldestromen['peilgebied']['GPGZP'] \n",
    "Scheldestromen['peilgebied']['nen3610id'] = 'dummy_nen3610id_peilgebied_' + Scheldestromen['peilgebied'].index.astype(str)\n",
    "\n",
    "Scheldestromen['streefpeil'] = gpd.GeoDataFrame()\n",
    "Scheldestromen['streefpeil']['waterhoogte'] = Scheldestromen['peilgebied']['waterhoogte']\n",
    "Scheldestromen['streefpeil']['globalid'] = Scheldestromen['peilgebied']['globalid']\n",
    "Scheldestromen['streefpeil']['geometry'] = np.nan\n",
    "\n",
    "\n",
    "Scheldestromen['peilgebied'] = Scheldestromen['peilgebied'][['code', 'nen3610id', 'globalid', 'geometry']]"
   ]
  },
  {
   "cell_type": "code",
   "execution_count": 54,
   "id": "0c14883a-873b-44ee-b9d3-57d7da0b67c3",
   "metadata": {},
   "outputs": [],
   "source": [
    "#convert multiz points to points\n",
    "Scheldestromen['stuw'].geometry = Scheldestromen['stuw'].centroid\n",
    "Scheldestromen['gemaal'].geometry = Scheldestromen['gemaal'].centroid\n"
   ]
  },
  {
   "cell_type": "markdown",
   "id": "ffeed567-f858-4e46-83ff-89b7d7ea9b6d",
   "metadata": {},
   "source": [
    "# Scheldestromen"
   ]
  },
  {
   "cell_type": "code",
   "execution_count": 55,
   "id": "cbe8f365-8b00-4824-b04c-b976f9a43f05",
   "metadata": {},
   "outputs": [
    {
     "name": "stderr",
     "output_type": "stream",
     "text": [
      "C:\\Users\\Bruijns\\AppData\\Local\\Temp\\ipykernel_18924\\429676109.py:6: SettingWithCopyWarning: \n",
      "A value is trying to be set on a copy of a slice from a DataFrame\n",
      "\n",
      "See the caveats in the documentation: https://pandas.pydata.org/pandas-docs/stable/user_guide/indexing.html#returning-a-view-versus-a-copy\n",
      "  Scheldestromen['gemaal'].rename(columns={'KGMNAAM':'code',\n",
      "C:\\Users\\Bruijns\\AppData\\Roaming\\Python\\Python39\\site-packages\\geopandas\\geodataframe.py:1543: SettingWithCopyWarning: \n",
      "A value is trying to be set on a copy of a slice from a DataFrame.\n",
      "Try using .loc[row_indexer,col_indexer] = value instead\n",
      "\n",
      "See the caveats in the documentation: https://pandas.pydata.org/pandas-docs/stable/user_guide/indexing.html#returning-a-view-versus-a-copy\n",
      "  super().__setitem__(key, value)\n",
      "C:\\Users\\Bruijns\\AppData\\Roaming\\Python\\Python39\\site-packages\\geopandas\\geodataframe.py:1543: SettingWithCopyWarning: \n",
      "A value is trying to be set on a copy of a slice from a DataFrame.\n",
      "Try using .loc[row_indexer,col_indexer] = value instead\n",
      "\n",
      "See the caveats in the documentation: https://pandas.pydata.org/pandas-docs/stable/user_guide/indexing.html#returning-a-view-versus-a-copy\n",
      "  super().__setitem__(key, value)\n",
      "C:\\Users\\Bruijns\\AppData\\Roaming\\Python\\Python39\\site-packages\\geopandas\\geodataframe.py:1543: SettingWithCopyWarning: \n",
      "A value is trying to be set on a copy of a slice from a DataFrame.\n",
      "Try using .loc[row_indexer,col_indexer] = value instead\n",
      "\n",
      "See the caveats in the documentation: https://pandas.pydata.org/pandas-docs/stable/user_guide/indexing.html#returning-a-view-versus-a-copy\n",
      "  super().__setitem__(key, value)\n"
     ]
    }
   ],
   "source": [
    "#stuw\n",
    "Scheldestromen['stuw'] = Scheldestromen['stuw'][['code', 'nen3610id', 'globalid', 'geometry']]\n",
    "\n",
    "#gemaal\n",
    "Scheldestromen['gemaal'] = Scheldestromen['gemaal'][['KGMNAAM', 'KGM_GPGIN', 'GLOBALID', 'func_afvoer', 'func_aanvoer', 'func_circulatie', 'geometry']]\n",
    "Scheldestromen['gemaal'].rename(columns={'KGMNAAM':'code',\n",
    "                                         'GLOBALID': 'globalid'}, \n",
    "                                inplace=True)\n",
    "\n",
    "#hydroobject\n",
    "Scheldestromen['hydroobject']['code'] = Scheldestromen['hydroobject']['naam']\n",
    "Scheldestromen['hydroobject'] = Scheldestromen['hydroobject'][['code', 'nen3610id', 'globalid', 'geometry']]\n",
    "\n",
    "#are filled in for 99%, but not 100%:\n",
    "Scheldestromen['hydroobject']['code'] = 'dummy_code_hydroobject_' + Scheldestromen['hydroobject'].index.astype(str)\n",
    "Scheldestromen['hydroobject']['nen3610id'] = 'dummy_nen3610id_hydroobject_' + Scheldestromen['hydroobject'].index.astype(str)\n",
    "Scheldestromen['hydroobject']['globalid'] = 'dummy_globalid_hydroobject_' + Scheldestromen['hydroobject'].index.astype(str)\n",
    "\n",
    "#duikersifonhevel\n",
    "Scheldestromen['duikersifonhevel'] = Scheldestromen['duikersifonhevel'][['code', 'nen3610id', 'globalid', 'geometry']]\n",
    "\n",
    "#add the duikersifonhevels to the hydroobjecten\n",
    "Scheldestromen['hydroobject'] = pd.concat([Scheldestromen['hydroobject'], Scheldestromen['duikersifonhevel']])\n",
    "Scheldestromen['hydroobject'] = gpd.GeoDataFrame(Scheldestromen['hydroobject'], geometry = 'geometry')"
   ]
  },
  {
   "cell_type": "code",
   "execution_count": 56,
   "id": "b3f70ee4-d645-4114-b5e2-2dd573374d6e",
   "metadata": {},
   "outputs": [],
   "source": [
    "# pd.merge(left = Scheldestromen['peilgebiedpraktijk'],\n",
    "#          right = Scheldestromen['streefpeil'],\n",
    "#          left_on = 'globalid',\n",
    "#          right_on = 'peilgebiedpraktijkid')"
   ]
  },
  {
   "cell_type": "code",
   "execution_count": 57,
   "id": "e58ee099-54b3-415b-8222-9545776a7a61",
   "metadata": {},
   "outputs": [],
   "source": [
    "Scheldestromen['stuw'] = Scheldestromen['stuw'][['code', 'nen3610id', 'globalid', 'geometry']]\n",
    "# Scheldestromen['gemaal'] = Scheldestromen['gemaal'][['code', 'nen3610id', 'globalid', 'geometry']]\n",
    "Scheldestromen['hydroobject'] = Scheldestromen['hydroobject'][['code', 'nen3610id', 'globalid', 'geometry']]\n",
    "Scheldestromen['duikersifonhevel'] = Scheldestromen['duikersifonhevel'][['code', 'nen3610id', 'globalid', 'geometry']]\n"
   ]
  },
  {
   "cell_type": "code",
   "execution_count": 58,
   "id": "023a704c-685e-4fe9-9745-39a5ed461a03",
   "metadata": {},
   "outputs": [],
   "source": [
    "# Scheldestromen['peilgebiedpraktijk']['geometry'] = Scheldestromen['peilgebiedpraktijk'].buffer(distance = 0)\n",
    "# Scheldestromen['peilafwijkinggebied']['geometry'] = Scheldestromen['peilafwijkinggebied'].buffer(distance = 0)"
   ]
  },
  {
   "cell_type": "code",
   "execution_count": 59,
   "id": "4d5d490e-5bba-4d16-95a0-a17880adc0d9",
   "metadata": {},
   "outputs": [],
   "source": [
    "# peilgebied = pd.merge(left = Scheldestromen['streefpeil'],\n",
    "#                       right = Scheldestromen['peilgebiedpraktijk'],\n",
    "#                       left_on = 'peilgebiedpraktijkid',\n",
    "#                       right_on = 'globalid')"
   ]
  },
  {
   "cell_type": "code",
   "execution_count": 60,
   "id": "cd21bcac-8d25-4d47-ad0a-c7338e6e6653",
   "metadata": {},
   "outputs": [],
   "source": [
    "# streefpeil = gpd.GeoDataFrame()\n",
    "# streefpeil['waterhoogte'] = peilgebied['waterhoogte']\n",
    "# streefpeil['globalid'] = peilgebied['peilgebiedpraktijkid']\n",
    "# streefpeil['geometry'] = np.nan\n",
    "# Scheldestromen['streefpeil'] = gpd.GeoDataFrame(streefpeil)"
   ]
  },
  {
   "cell_type": "code",
   "execution_count": 61,
   "id": "88e9543c-2dbe-4ebf-9423-b38daeeaa004",
   "metadata": {},
   "outputs": [],
   "source": [
    "# Scheldestromen['peilgebied'] = gpd.GeoDataFrame()\n",
    "# Scheldestromen['peilgebied'][['code', 'nen3610id', 'globalid', 'geometry']] = peilgebied[['code', 'nen3610id_y', 'globalid_y', 'geometry_y']]"
   ]
  },
  {
   "cell_type": "code",
   "execution_count": 62,
   "id": "42dc4ba1-3ccb-4b0f-a075-77aec9b85a07",
   "metadata": {},
   "outputs": [],
   "source": [
    "#delete irrelvant data\n",
    "variables = ['peilgebiedpraktijk', 'peilgebiedvigerend', 'peilafwijkinggebied']\n",
    "\n",
    "for variable in variables:\n",
    "    if str(variable) in Scheldestromen:\n",
    "        del Scheldestromen[variable]"
   ]
  },
  {
   "cell_type": "code",
   "execution_count": 63,
   "id": "de5dc417-260b-4421-a683-1820386e7d4a",
   "metadata": {},
   "outputs": [],
   "source": [
    "Scheldestromen['streefpeil'].waterhoogte = Scheldestromen['streefpeil'].waterhoogte.round(2)"
   ]
  },
  {
   "cell_type": "code",
   "execution_count": null,
   "id": "5426a98e-72c5-4e8d-9d7b-2e4e7d8706ae",
   "metadata": {},
   "outputs": [],
   "source": []
  },
  {
   "cell_type": "markdown",
   "id": "21ccbba5-8e59-4134-9209-db988bc5c3d5",
   "metadata": {
    "tags": []
   },
   "source": [
    "### Check for the correct keys and columns"
   ]
  },
  {
   "cell_type": "code",
   "execution_count": 64,
   "id": "b064a376-0396-4c93-a2ad-eca3eea54598",
   "metadata": {},
   "outputs": [
    {
     "name": "stdout",
     "output_type": "stream",
     "text": [
      "stuw\n",
      "['code' 'nen3610id' 'globalid' 'geometry']\n",
      "type =  <class 'geopandas.geodataframe.GeoDataFrame'>\n",
      "crs =  EPSG:28992\n",
      "\n",
      "gemaal\n",
      "['code' 'KGM_GPGIN' 'globalid' 'func_afvoer' 'func_aanvoer'\n",
      " 'func_circulatie' 'geometry']\n",
      "type =  <class 'geopandas.geodataframe.GeoDataFrame'>\n",
      "crs =  EPSG:28992\n",
      "\n",
      "duikersifonhevel\n",
      "['code' 'nen3610id' 'globalid' 'geometry']\n",
      "type =  <class 'geopandas.geodataframe.GeoDataFrame'>\n",
      "crs =  EPSG:28992\n",
      "\n",
      "peilgebied\n",
      "['code' 'nen3610id' 'globalid' 'geometry']\n",
      "type =  <class 'geopandas.geodataframe.GeoDataFrame'>\n",
      "crs =  EPSG:28992\n",
      "\n",
      "hydroobject\n",
      "['code' 'nen3610id' 'globalid' 'geometry']\n",
      "type =  <class 'geopandas.geodataframe.GeoDataFrame'>\n",
      "crs =  EPSG:28992\n",
      "\n",
      "aggregation_area\n",
      "['code' 'nen3610id' 'globalid' 'geometry']\n",
      "type =  <class 'geopandas.geodataframe.GeoDataFrame'>\n",
      "crs =  EPSG:28992\n",
      "\n",
      "streefpeil\n",
      "['waterhoogte' 'globalid' 'geometry']\n",
      "type =  <class 'geopandas.geodataframe.GeoDataFrame'>\n",
      "crs =  None\n",
      "\n"
     ]
    }
   ],
   "source": [
    "show_layers_and_columns(waterschap = Scheldestromen)"
   ]
  },
  {
   "cell_type": "code",
   "execution_count": 65,
   "id": "f9d38f6f-42df-45b4-a1d2-b1a779c104d8",
   "metadata": {},
   "outputs": [],
   "source": [
    "# for i in range(len(Scheldestromen['peilgebied'])):    \n",
    "#     if type(Scheldestromen['peilgebied'].loc[i, 'geometry']) == Polygon:\n",
    "#         Scheldestromen['peilgebied'].loc[i, 'geometry'].plot()"
   ]
  },
  {
   "cell_type": "code",
   "execution_count": 66,
   "id": "45564e81-4fcf-4479-b406-8142b4a64ad1",
   "metadata": {},
   "outputs": [],
   "source": [
    "# merged = pd.merge(left = Scheldestromen['peilgebied'],\n",
    "#          right = Scheldestromen['streefpeil'],\n",
    "#          on = 'globalid')\n",
    "\n",
    "# merged[merged.waterhoogte.isna()]\n"
   ]
  },
  {
   "cell_type": "markdown",
   "id": "e4e74b4c-17ba-4829-9531-248f4d74cfad",
   "metadata": {},
   "source": [
    "### Store data"
   ]
  },
  {
   "cell_type": "code",
   "execution_count": 67,
   "id": "556aea48-a819-4f70-8e22-6c843354a46d",
   "metadata": {},
   "outputs": [],
   "source": [
    "# Check if the directory exists\n",
    "if not os.path.exists(output_gpkg_path):\n",
    "    # If it doesn't exist, create it\n",
    "    os.makedirs(output_gpkg_path)\n",
    "    \n",
    "store_data(waterschap = Scheldestromen, \n",
    "           output_gpkg_path = output_gpkg_path + '/Scheldestromen')\n"
   ]
  },
  {
   "cell_type": "raw",
   "id": "d6b186d5-c907-4b19-9ee2-c7222476856a",
   "metadata": {},
   "source": []
  },
  {
   "cell_type": "code",
   "execution_count": null,
   "id": "d226ce01-142d-4bfe-87ab-a58a67c9452a",
   "metadata": {},
   "outputs": [],
   "source": []
  }
 ],
 "metadata": {
  "kernelspec": {
   "display_name": "Routing",
   "language": "python",
   "name": "routing"
  },
  "language_info": {
   "codemirror_mode": {
    "name": "ipython",
    "version": 3
   },
   "file_extension": ".py",
   "mimetype": "text/x-python",
   "name": "python",
   "nbconvert_exporter": "python",
   "pygments_lexer": "ipython3",
   "version": "3.9.13"
  }
 },
 "nbformat": 4,
 "nbformat_minor": 5
}
