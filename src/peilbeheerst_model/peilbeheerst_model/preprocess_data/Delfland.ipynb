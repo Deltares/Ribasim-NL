{
 "cells": [
  {
   "cell_type": "code",
   "execution_count": null,
   "id": "0",
   "metadata": {},
   "outputs": [],
   "source": [
    "# import packages and functions\n",
    "import os\n",
    "\n",
    "import geopandas as gpd\n",
    "import pandas as pd"
   ]
  },
  {
   "cell_type": "code",
   "execution_count": null,
   "id": "1",
   "metadata": {},
   "outputs": [],
   "source": [
    "from general_functions import *"
   ]
  },
  {
   "cell_type": "markdown",
   "id": "2",
   "metadata": {},
   "source": [
    "# Delfland"
   ]
  },
  {
   "cell_type": "code",
   "execution_count": null,
   "id": "3",
   "metadata": {
    "tags": []
   },
   "outputs": [],
   "source": [
    "# define relative paths\n",
    "waterschap = \"Delfland\"\n",
    "gdb_path = \"../../Data_preprocessed/Waterschappen/Delfland/Watersysteem.gdb\"\n",
    "output_gpkg_path = \"../../Data_postprocessed/Waterschappen/Delfland\""
   ]
  },
  {
   "cell_type": "code",
   "execution_count": null,
   "id": "4",
   "metadata": {},
   "outputs": [],
   "source": [
    "Delfland = read_gpkg_layers(\n",
    "    gpkg_path=gdb_path, variables=[\"stuw\", \"gemaal\", \"watergang\", \"duikersifonhevel\", \"peilgebiedpraktijk\", \"keerschot\"]\n",
    ")\n",
    "# 'peilafwijkinggebied',\n",
    "# 'pomp'])\n",
    "# 'streefpeil'])\n",
    "# change names\n",
    "Delfland[\"hydroobject\"] = Delfland.pop(\"watergang\")"
   ]
  },
  {
   "cell_type": "markdown",
   "id": "5",
   "metadata": {},
   "source": [
    "### Adjust column names"
   ]
  },
  {
   "cell_type": "code",
   "execution_count": null,
   "id": "6",
   "metadata": {},
   "outputs": [],
   "source": [
    "# discard irrelevant data of Delfland Delfland, and create a uniform dataset compared to the other waterschappen\n",
    "# Stuw\n",
    "Delfland[\"stuw\"] = Delfland[\"stuw\"][[\"CODE\", \"GLOBALID\", \"geometry\"]]\n",
    "Delfland[\"stuw\"] = Delfland[\"stuw\"].rename(columns={\"CODE\": \"code\", \"GLOBALID\": \"globalid\"})\n",
    "Delfland[\"stuw\"][\"nen3610id\"] = \"dummy_nen3610id_stuw_\" + Delfland[\"stuw\"].index.astype(str)\n",
    "\n",
    "# Gemaal\n",
    "\n",
    "# determine aanvoer en afvoer gemalen\n",
    "Delfland[\"gemaal\"][\"func_aanvoer\"], Delfland[\"gemaal\"][\"func_afvoer\"], Delfland[\"gemaal\"][\"func_circulatie\"] = (\n",
    "    False,\n",
    "    False,\n",
    "    False,\n",
    ")  # default is False\n",
    "Delfland[\"gemaal\"].FUNCTIEGEMAAL_resolved.fillna(\n",
    "    Delfland[\"gemaal\"].WS_SOORTGEMAAL\n",
    ")  # sometimes recircualtie is located in another column, but sometimes they are different. Only fill in for NaN\n",
    "Delfland[\"gemaal\"][\"FUNCTIEGEMAAL_resolved\"] = Delfland[\"gemaal\"][\"FUNCTIEGEMAAL_resolved\"].astype(str)\n",
    "\n",
    "Delfland[\"gemaal\"].loc[\n",
    "    Delfland[\"gemaal\"].FUNCTIEGEMAAL_resolved.str.contains(\"Onbekend|Onderbemaling|Afvoergemaal|Af-\"), \"func_afvoer\"\n",
    "] = True\n",
    "Delfland[\"gemaal\"].loc[Delfland[\"gemaal\"].FUNCTIEGEMAAL_resolved.str.contains(\"Opmaling|Aanvoer\"), \"func_aanvoer\"] = (\n",
    "    True\n",
    ")\n",
    "Delfland[\"gemaal\"].loc[\n",
    "    Delfland[\"gemaal\"].FUNCTIEGEMAAL_resolved.str.contains(\"Overig|circulatie\"), \"func_circulatie\"\n",
    "] = True\n",
    "Delfland[\"gemaal\"].loc[\n",
    "    (Delfland[\"gemaal\"].func_afvoer == False)\n",
    "    & (Delfland[\"gemaal\"].func_aanvoer == False)\n",
    "    & (Delfland[\"gemaal\"].func_circulatie == False),\n",
    "    \"func_afvoer\",\n",
    "] = True  # set to afvoergemaal is there the function is unknown\n",
    "\n",
    "Delfland[\"gemaal\"] = Delfland[\"gemaal\"][[\"GLOBALID\", \"func_afvoer\", \"func_aanvoer\", \"func_circulatie\", \"geometry\"]]\n",
    "Delfland[\"gemaal\"] = Delfland[\"gemaal\"].rename(columns={\"GLOBALID\": \"globalid\"})\n",
    "Delfland[\"gemaal\"][\"code\"] = \"dummy_code_gemaal_\" + Delfland[\"gemaal\"].index.astype(str)\n",
    "Delfland[\"gemaal\"][\"nen3610id\"] = \"dummy_nen3610id_gemaal_\" + Delfland[\"gemaal\"].index.astype(str)\n",
    "\n",
    "# Hydroobject\n",
    "Delfland[\"hydroobject\"] = Delfland[\"hydroobject\"][[\"GLOBALID\", \"geometry\"]]\n",
    "Delfland[\"hydroobject\"] = Delfland[\"hydroobject\"].rename(columns={\"GLOBALID\": \"globalid\"})\n",
    "Delfland[\"hydroobject\"][\"code\"] = \"dummy_code_hydroobject_\" + Delfland[\"hydroobject\"].index.astype(str)\n",
    "Delfland[\"hydroobject\"][\"nen3610id\"] = \"dummy_nen3610id_hydroobject_\" + Delfland[\"hydroobject\"].index.astype(str)\n",
    "\n",
    "# Keerschot\n",
    "Delfland[\"keerschot\"] = Delfland[\"keerschot\"][[\"GLOBALID\", \"geometry\"]]\n",
    "Delfland[\"keerschot\"] = Delfland[\"keerschot\"].rename(columns={\"GLOBALID\": \"globalid\"})\n",
    "Delfland[\"keerschot\"][\"code\"] = \"dummy_code_keerschot_\" + Delfland[\"keerschot\"].index.astype(str)\n",
    "Delfland[\"keerschot\"][\"nen3610id\"] = \"dummy_nen3610id_keerschot_\" + Delfland[\"keerschot\"].index.astype(str)\n",
    "\n",
    "# duikersifonhevel\n",
    "Delfland[\"duikersifonhevel\"] = Delfland[\"duikersifonhevel\"][[\"CODE\", \"GLOBALID\", \"geometry\"]]\n",
    "Delfland[\"duikersifonhevel\"] = Delfland[\"duikersifonhevel\"].rename(columns={\"CODE\": \"code\", \"GLOBALID\": \"globalid\"})\n",
    "Delfland[\"duikersifonhevel\"][\"code\"] = \"dummy_code_duikersifonhevel_\" + Delfland[\"duikersifonhevel\"].index.astype(str)\n",
    "Delfland[\"duikersifonhevel\"][\"nen3610id\"] = \"dummy_nen3610id_duikersifonhevel_\" + Delfland[\n",
    "    \"duikersifonhevel\"\n",
    "].index.astype(str)\n",
    "\n",
    "# afsluitmiddel\n",
    "# niet geleverd\n",
    "\n",
    "# Peilgebiedpraktijk\n",
    "Delfland[\"peilgebiedpraktijk\"] = Delfland[\"peilgebiedpraktijk\"][[\"WS_HOOGPEIL\", \"CODE\", \"GLOBALID\", \"geometry\"]]\n",
    "Delfland[\"peilgebiedpraktijk\"][\"nen3610id\"] = \"dummy_nen3610id_peilgebiedpraktijk_\" + Delfland[\n",
    "    \"peilgebiedpraktijk\"\n",
    "].index.astype(str)\n",
    "Delfland[\"peilgebiedpraktijk\"] = Delfland[\"peilgebiedpraktijk\"].rename(\n",
    "    columns={\"WS_HOOGPEIL\": \"streefpeil\", \"CODE\": \"code\", \"GLOBALID\": \"globalid\"}\n",
    ")\n",
    "\n",
    "# Streefpeil\n",
    "Delfland[\"streefpeil\"] = pd.DataFrame()\n",
    "Delfland[\"streefpeil\"][\"waterhoogte\"] = Delfland[\"peilgebiedpraktijk\"][\"streefpeil\"]\n",
    "Delfland[\"streefpeil\"][\"globalid\"] = Delfland[\"peilgebiedpraktijk\"][\"globalid\"]\n",
    "Delfland[\"streefpeil\"][\"geometry\"] = None\n",
    "Delfland[\"streefpeil\"] = gpd.GeoDataFrame(Delfland[\"streefpeil\"], geometry=\"geometry\")\n",
    "\n",
    "Delfland[\"peilgebied\"] = Delfland[\"peilgebiedpraktijk\"]"
   ]
  },
  {
   "cell_type": "markdown",
   "id": "7",
   "metadata": {},
   "source": [
    "### Add column to determine the HWS_BZM"
   ]
  },
  {
   "cell_type": "code",
   "execution_count": null,
   "id": "8",
   "metadata": {},
   "outputs": [],
   "source": [
    "Delfland[\"peilgebied\"][\"HWS_BZM\"] = False\n",
    "Delfland[\"peilgebied\"].loc[Delfland[\"peilgebied\"].code == \"BZM 1\", \"HWS_BZM\"] = True  # looked up manually"
   ]
  },
  {
   "cell_type": "code",
   "execution_count": null,
   "id": "9",
   "metadata": {},
   "outputs": [],
   "source": [
    "# delete irrelvant data\n",
    "variables = [\"peilgebiedpraktijk\"]\n",
    "\n",
    "for variable in variables:\n",
    "    if str(variable) in Delfland:\n",
    "        del Delfland[variable]"
   ]
  },
  {
   "cell_type": "markdown",
   "id": "10",
   "metadata": {},
   "source": [
    "### Check for the correct keys and columns"
   ]
  },
  {
   "cell_type": "code",
   "execution_count": null,
   "id": "11",
   "metadata": {},
   "outputs": [],
   "source": [
    "show_layers_and_columns(waterschap=Delfland)"
   ]
  },
  {
   "cell_type": "markdown",
   "id": "12",
   "metadata": {},
   "source": [
    "### Store data"
   ]
  },
  {
   "cell_type": "code",
   "execution_count": null,
   "id": "13",
   "metadata": {},
   "outputs": [],
   "source": [
    "# Check if the directory exists\n",
    "if not os.path.exists(output_gpkg_path):\n",
    "    # If it doesn't exist, create it\n",
    "    os.makedirs(output_gpkg_path)\n",
    "\n",
    "store_data(waterschap=Delfland, output_gpkg_path=output_gpkg_path + \"/Delfland\")"
   ]
  },
  {
   "cell_type": "raw",
   "id": "14",
   "metadata": {},
   "source": []
  },
  {
   "cell_type": "code",
   "execution_count": null,
   "id": "15",
   "metadata": {},
   "outputs": [],
   "source": []
  }
 ],
 "metadata": {
  "kernelspec": {
   "display_name": "Routing",
   "language": "python",
   "name": "routing"
  },
  "language_info": {
   "codemirror_mode": {
    "name": "ipython",
    "version": 3
   },
   "file_extension": ".py",
   "mimetype": "text/x-python",
   "name": "python",
   "nbconvert_exporter": "python",
   "pygments_lexer": "ipython3",
   "version": "3.9.13"
  }
 },
 "nbformat": 4,
 "nbformat_minor": 5
}
