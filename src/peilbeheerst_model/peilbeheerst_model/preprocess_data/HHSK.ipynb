{
 "cells": [
  {
   "cell_type": "code",
   "execution_count": null,
   "id": "065338fd-62d6-480e-8c80-8bc4b101846b",
   "metadata": {},
   "outputs": [],
   "source": [
    "#import packages and functions\n",
    "import os\n",
    "\n",
    "import fiona\n",
    "import geopandas as gpd\n",
    "import matplotlib.pyplot as plt\n",
    "import numpy as np\n",
    "import pandas as pd\n",
    "import shapely\n",
    "from shapely.validation import make_valid\n"
   ]
  },
  {
   "cell_type": "code",
   "execution_count": null,
   "id": "3f5aaa20-7965-4aa7-bf24-79965d87edb1",
   "metadata": {
    "tags": [
     "test"
    ]
   },
   "outputs": [],
   "source": [
    "from general_functions import *"
   ]
  },
  {
   "cell_type": "code",
   "execution_count": null,
   "id": "cbbec2b5-c309-4a42-a914-dd33c2da3610",
   "metadata": {},
   "outputs": [],
   "source": [
    "pd.set_option('display.max_columns', None)"
   ]
  },
  {
   "cell_type": "code",
   "execution_count": null,
   "id": "e7bb775e-cc57-4586-a13c-8d9ba05ace6b",
   "metadata": {},
   "outputs": [],
   "source": [
    "#define relative paths\n",
    "waterschap = 'HHSK'\n",
    "path_HHSK = '..\\..\\Data_preprocessed\\Waterschappen\\HHSK\\HyDamo_metWasverzachter_20230905.gpkg'\n",
    "output_gpkg_path = \"../../Data_postprocessed/Waterschappen/HHSK\"\n"
   ]
  },
  {
   "cell_type": "code",
   "execution_count": null,
   "id": "1f39bd82-2fed-41d6-a4f7-979a9a2120bd",
   "metadata": {},
   "outputs": [],
   "source": [
    "HHSK = read_gpkg_layers(gpkg_path = path_HHSK, \n",
    "                                  variables = ['stuw', \n",
    "                                               'gemaal', \n",
    "                                               'afsluitmiddel',\n",
    "                                               'duikersifonhevel',\n",
    "                                               'hydroobject',\n",
    "                                               # 'peilgebiedvigerend',\n",
    "                                               # 'peilafwijkinggebied',\n",
    "                                               # 'peilbesluitgebied',\n",
    "                                               'streefpeil'],\n",
    "                                 engine = 'pyogrio') \n",
    "                                     "
   ]
  },
  {
   "cell_type": "code",
   "execution_count": null,
   "id": "279c940f-4290-48d6-bd48-b1e79f8be16e",
   "metadata": {},
   "outputs": [],
   "source": [
    "HHSK_nalevering = read_gpkg_layers(gpkg_path = r\"D:\\Users\\Bruijns\\Documents\\PR4750_20\\Data_preprocessed\\Waterschappen\\HHSK\\LHM_hhsk_nalevering.gpkg\",\n",
    "                                   variables = ['Persleiding'])"
   ]
  },
  {
   "cell_type": "code",
   "execution_count": null,
   "id": "6ea5a43d-b2e6-42ef-8002-01c3377ed897",
   "metadata": {},
   "outputs": [],
   "source": [
    "HHSK_2nalevering = read_gpkg_layers(gpkg_path = r\"D:\\Users\\Bruijns\\Documents\\PR4750_20\\Data_preprocessed\\Waterschappen\\HHSK\\hhsklevering_07032024.gpkg\",\n",
    "                                   variables = ['PeilgebiedPraktijk',\n",
    "                                                'VigerendPeilgebiedZPP'])"
   ]
  },
  {
   "cell_type": "markdown",
   "id": "32562573-3c78-4565-85be-1b7c03a023be",
   "metadata": {},
   "source": [
    "## Only select status_object == 3"
   ]
  },
  {
   "cell_type": "code",
   "execution_count": null,
   "id": "10efac14-fd47-4f61-9180-e89e864713c7",
   "metadata": {},
   "outputs": [],
   "source": [
    "HHSK['stuw'] = HHSK['stuw'].loc[(HHSK['stuw']['statusobject'] == '3') | (HHSK['stuw']['statusobject'] == 3)]\n",
    "HHSK['gemaal'] = HHSK['gemaal'].loc[(HHSK['gemaal']['statusobject'] == '3') | (HHSK['gemaal']['statusobject'] == 3)]\n",
    "HHSK['hydroobject'] = HHSK['hydroobject'].loc[(HHSK['hydroobject']['statusobject'] == '3') | (HHSK['hydroobject']['statusobject'] == 3)]\n",
    "HHSK['duikersifonhevel'] = HHSK['duikersifonhevel'].loc[(HHSK['duikersifonhevel']['statusobject'] == '3') | (HHSK['duikersifonhevel']['statusobject'] == 3)]\n",
    "HHSK['afsluitmiddel'] = HHSK['afsluitmiddel'].loc[(HHSK['afsluitmiddel']['statusobject'] == '3') | (HHSK['afsluitmiddel']['statusobject'] == 3)]\n",
    "\n",
    "# HHSK['peilgebiedvigerend'] = HHSK['peilgebiedvigerend'].loc[(HHSK['peilgebiedvigerend']['statusobject'] == '3') | (HHSK['peilgebiedvigerend']['statusobject'] == 3)]\n",
    "# HHSK['peilafwijkinggebied'] = HHSK['peilafwijkinggebied'].loc[(HHSK['peilafwijkinggebied']['statusobject'] == '3') | (HHSK['peilafwijkinggebied']['statusobject'] == 3)]\n",
    "\n",
    "HHSK_nalevering['Persleiding'] = HHSK_nalevering['Persleiding'].loc[(HHSK_nalevering['Persleiding']['STATUSOBJECT'] == '3') | (HHSK_nalevering['Persleiding']['STATUSOBJECT'] == 3)]"
   ]
  },
  {
   "cell_type": "code",
   "execution_count": null,
   "id": "d91ef127-a46e-4ce7-b4fc-ec13d39b6820",
   "metadata": {},
   "outputs": [],
   "source": [
    "HHSK['hydroobject']['categorieoppwaterlichaam'] = HHSK['hydroobject']['categorieoppwaterlichaam'].astype(float)\n",
    "HHSK['hydroobject'] = HHSK['hydroobject'].loc[HHSK['hydroobject']['categorieoppwaterlichaam'] == 1] #only select primaire waterlichamen"
   ]
  },
  {
   "cell_type": "markdown",
   "id": "ffeed567-f858-4e46-83ff-89b7d7ea9b6d",
   "metadata": {},
   "source": [
    "# HHSK"
   ]
  },
  {
   "cell_type": "markdown",
   "id": "62a8afeb-9d69-4df0-8e9a-0aa255543fb1",
   "metadata": {
    "tags": []
   },
   "source": [
    "### Add the gemalen columns"
   ]
  },
  {
   "cell_type": "code",
   "execution_count": null,
   "id": "8196e429-c7c1-40f1-9dd3-525699656dc7",
   "metadata": {},
   "outputs": [],
   "source": [
    "#determine aanvoer en afvoer gemalen\n",
    "HHSK['gemaal']['func_aanvoer'], HHSK['gemaal']['func_afvoer'], HHSK['gemaal']['func_circulatie']  = False, False, False #default is False\n",
    "HHSK['gemaal']['functiegemaal'] = HHSK['gemaal']['functiegemaal'].astype(str) \n",
    "\n",
    "HHSK['gemaal'].loc[HHSK['gemaal'].functiegemaal.str.contains('2|4|5|6|7|99'), 'func_afvoer'] = True\n",
    "HHSK['gemaal'].loc[HHSK['gemaal'].functiegemaal.str.contains('1|3|5|'), 'func_aanvoer'] = True\n",
    "HHSK['gemaal'].loc[HHSK['gemaal'].functiegemaal.str.contains('8'), 'func_circulatie'] = True\n",
    "HHSK['gemaal'].loc[(HHSK['gemaal'].func_afvoer == False) &\n",
    "                       (HHSK['gemaal'].func_aanvoer == False) &\n",
    "                       (HHSK['gemaal'].func_circulatie == False), 'func_afvoer'] = True #set to afvoergemaal is there the function is unknown"
   ]
  },
  {
   "cell_type": "code",
   "execution_count": null,
   "id": "5f19829d-6116-45d4-92ae-a0e27509afa3",
   "metadata": {},
   "outputs": [],
   "source": []
  },
  {
   "cell_type": "code",
   "execution_count": null,
   "id": "fe221b99-ad03-4688-a656-9cb19e4f1a8b",
   "metadata": {},
   "outputs": [],
   "source": [
    "HHSK['stuw'] = HHSK['stuw'][['code', 'nen3610id', 'globalid', 'geometry']]\n",
    "HHSK['gemaal'] = HHSK['gemaal'][['code', 'nen3610id', 'globalid', 'func_afvoer', 'func_aanvoer', 'func_circulatie', 'geometry']]\n",
    "HHSK['hydroobject'] = HHSK['hydroobject'][['code', 'nen3610id', 'globalid', 'geometry']]\n",
    "HHSK['duikersifonhevel'] = HHSK['duikersifonhevel'][['code', 'nen3610id', 'globalid', 'geometry']]\n",
    "HHSK['afsluitmiddel'] = HHSK['afsluitmiddel'][['code', 'nen3610id', 'globalid', 'geometry']]\n",
    "\n",
    "# HHSK['peilgebiedvigerend'] = HHSK['peilgebiedvigerend'][['code', 'nen3610id', 'globalid', 'geometry']]\n",
    "# HHSK['peilafwijkinggebied'] = HHSK['peilafwijkinggebied'][['code', 'nen3610id', 'globalid', 'geometry']]\n",
    "\n",
    "# HHSK['streefpeil'] = HHSK['streefpeil'][['code', 'nen3610id', 'globalid']]"
   ]
  },
  {
   "cell_type": "markdown",
   "id": "8c3e7f83-1aa8-4714-8ef5-7d0176097d94",
   "metadata": {
    "tags": []
   },
   "source": [
    "### Add the nageleverde persleidingen to the duikersifonhevels"
   ]
  },
  {
   "cell_type": "code",
   "execution_count": null,
   "id": "75bbbea1-5ef9-4935-ad8e-4f294eaf1c9f",
   "metadata": {},
   "outputs": [],
   "source": [
    "HHSK_nalevering['Persleiding'] = HHSK_nalevering['Persleiding'][['CODE', 'GLOBALID', 'geometry']]\n",
    "HHSK_nalevering['Persleiding']['nen3610id'] = 'dummy_nen3610id_persleiding_' + HHSK_nalevering['Persleiding'].index.astype(str)\n",
    "HHSK_nalevering['Persleiding'] = HHSK_nalevering['Persleiding'].rename(columns = {'CODE': 'code',\n",
    "                                                                        'GLOBALID': 'globalid'})\n"
   ]
  },
  {
   "cell_type": "code",
   "execution_count": null,
   "id": "8495f3ba-98df-4eea-97a5-d09534e36885",
   "metadata": {},
   "outputs": [],
   "source": [
    "HHSK['duikersifonhevel'] = gpd.GeoDataFrame(pd.concat([HHSK['duikersifonhevel'], HHSK_nalevering['Persleiding']])).reset_index(drop=True)\n",
    "\n",
    "#HHSK has apparently non unique values for the global ids in duikersifonhevel\n",
    "HHSK['duikersifonhevel']['globalid'] = 'dummy_globalid_duikersifonhevel_' + HHSK['duikersifonhevel'].index.astype(str)\n",
    "\n",
    "#remove empty point geomtries from the gemalen\n",
    "HHSK['gemaal'] = HHSK['gemaal'][~HHSK['gemaal'].is_empty].reset_index(drop=True)"
   ]
  },
  {
   "cell_type": "markdown",
   "id": "31841446-4e06-47b7-98a3-38d389df26df",
   "metadata": {},
   "source": [
    "### Add the nageleverde peilgebieden to the original data"
   ]
  },
  {
   "cell_type": "code",
   "execution_count": null,
   "id": "9ee954f4-c333-4bb4-8dcc-b1e1cd7c2b57",
   "metadata": {},
   "outputs": [],
   "source": [
    "#edit the peilgebiedpraktijk\n",
    "HHSK_2nalevering['PeilgebiedPraktijk']['ONDERPEIL'].fillna(HHSK_2nalevering['PeilgebiedPraktijk']['VASTPEIL'], inplace= True)\n",
    "HHSK_2nalevering['PeilgebiedPraktijk']['ONDERPEIL'].fillna(HHSK_2nalevering['PeilgebiedPraktijk']['BOVENPEIL'], inplace= True)\n",
    "HHSK_2nalevering['PeilgebiedPraktijk']['ONDERPEIL'].fillna(HHSK_2nalevering['PeilgebiedPraktijk']['SCHOUWPEIL'], inplace= True)\n",
    "\n",
    "HHSK['peilgebiedpraktijk'] = HHSK_2nalevering['PeilgebiedPraktijk'][['CODE', 'ONDERPEIL', 'BRONGID', 'geometry']]\n",
    "HHSK['peilgebiedpraktijk'] = HHSK_2nalevering['PeilgebiedPraktijk'].rename(columns = {'CODE': 'code',\n",
    "                                                                                      'ONDERPEIL': 'waterhoogte',\n",
    "                                                                                      'BRONGID': 'globalid'})"
   ]
  },
  {
   "cell_type": "code",
   "execution_count": null,
   "id": "c37cfb5c-3b9e-4e57-b44c-3cbe610da093",
   "metadata": {},
   "outputs": [],
   "source": [
    "#edit the peilgebiedvigerend\n",
    "HHSK_2nalevering['VigerendPeilgebiedZPP']['ONDERPEIL'].fillna(HHSK_2nalevering['VigerendPeilgebiedZPP']['VASTPEIL'], inplace= True)\n",
    "HHSK_2nalevering['VigerendPeilgebiedZPP']['ONDERPEIL'].fillna(HHSK_2nalevering['VigerendPeilgebiedZPP']['BOVENPEIL'], inplace= True)\n",
    "HHSK_2nalevering['VigerendPeilgebiedZPP']['ONDERPEIL'].fillna(HHSK_2nalevering['VigerendPeilgebiedZPP']['SCHOUWPEIL'], inplace= True)\n",
    "\n",
    "HHSK['peilgebiedvigerend'] = HHSK_2nalevering['VigerendPeilgebiedZPP'][['CODE', 'ONDERPEIL', 'BRONGID', 'geometry']]\n",
    "HHSK['peilgebiedvigerend'] = HHSK_2nalevering['VigerendPeilgebiedZPP'].rename(columns = {'CODE': 'code',\n",
    "                                                                                         'ONDERPEIL': 'waterhoogte',\n",
    "                                                                                         'BRONGID': 'globalid'})"
   ]
  },
  {
   "cell_type": "code",
   "execution_count": null,
   "id": "fd7bfade-497b-40bd-8345-8dc4fd3d172b",
   "metadata": {},
   "outputs": [],
   "source": [
    "#select the peilgebiedpraktijk which have a primaire hydroobject\n",
    "\n",
    "#pgp_pw : PeilGebiedPraktijk Primaire Watergang\n",
    "pgp_pw = gpd.sjoin(left_df = HHSK_2nalevering['PeilgebiedPraktijk'], \n",
    "                   right_df = HHSK['hydroobject'],\n",
    "                   how=\"inner\", \n",
    "                   predicate='contains',\n",
    "                   lsuffix = 'pgp',\n",
    "                   rsuffix = 'hydroobject').drop_duplicates(subset='CODE') \n"
   ]
  },
  {
   "cell_type": "code",
   "execution_count": null,
   "id": "5631e7ba-f5a0-4eaf-942a-3b6535a4ba8b",
   "metadata": {},
   "outputs": [],
   "source": [
    "pgp_pw.plot()"
   ]
  },
  {
   "cell_type": "code",
   "execution_count": null,
   "id": "7df9baa4-7092-4401-be9a-fd3a451c38b0",
   "metadata": {},
   "outputs": [],
   "source": [
    "pgv_diff = gpd.sjoin(left_df =  HHSK['peilgebiedvigerend'],\n",
    "                     right_df = pgp_pw,\n",
    "                     how = \"inner\",\n",
    "                     predicate = 'intersects')"
   ]
  },
  {
   "cell_type": "code",
   "execution_count": null,
   "id": "a03b9016-af7d-4c4e-a10b-1f2ea2ee9254",
   "metadata": {},
   "outputs": [],
   "source": [
    "pgv_diff.plot()"
   ]
  },
  {
   "cell_type": "code",
   "execution_count": null,
   "id": "9736e6e4-0e8f-4396-a1f4-3b4f3e9bf690",
   "metadata": {},
   "outputs": [],
   "source": [
    "# streefpeilen_PG_v = pd.merge(left = HHSK['peilgebiedvigerend'],\n",
    "#                              right = HHSK['streefpeil'],\n",
    "#                              left_on = 'globalid',\n",
    "#                              right_on = 'peilgebiedvigerendid',\n",
    "#                              suffixes = ('', '_streefpeil'))[['code', 'nen3610id', 'globalid', 'waterhoogte', 'geometry']]\n",
    "\n",
    "# streefpeilen_PG_a = pd.merge(left = HHSK['peilafwijkinggebied'],\n",
    "#                              right = HHSK['streefpeil'],\n",
    "#                              left_on = 'globalid',\n",
    "#                              right_on = 'peilafwijkinggebiedid',\n",
    "#                              suffixes = ('', '_streefpeil'))[['code', 'nen3610id', 'globalid', 'waterhoogte', 'geometry']]\n",
    "\n",
    "# fig, ax = plt.subplots()\n",
    "# streefpeilen_PG_v.plot(ax = ax, color='cornflowerblue')\n",
    "# streefpeilen_PG_a.plot(ax = ax, color='blue')"
   ]
  },
  {
   "cell_type": "code",
   "execution_count": null,
   "id": "b5d16748-7262-4e43-baa2-f182cb8dd142",
   "metadata": {},
   "outputs": [],
   "source": [
    "# streefpeilen_PG_v.to_file('vigerend.shp')\n",
    "# streefpeilen_PG_a.to_file('afwijking.shp')"
   ]
  },
  {
   "cell_type": "code",
   "execution_count": null,
   "id": "0292ab77-acfd-4666-9c3b-b9bd8c1f1fec",
   "metadata": {},
   "outputs": [],
   "source": [
    "# peilgebied = burn_in_peilgebieden(base_layer = streefpeilen_PG_v, \n",
    "#                                   overlay_layer = streefpeilen_PG_a,\n",
    "#                                   plot = True)"
   ]
  },
  {
   "cell_type": "code",
   "execution_count": null,
   "id": "cd21bcac-8d25-4d47-ad0a-c7338e6e6653",
   "metadata": {},
   "outputs": [],
   "source": [
    "streefpeil = gpd.GeoDataFrame()\n",
    "streefpeil['waterhoogte'] = peilgebied['waterhoogte']\n",
    "streefpeil['globalid'] = peilgebied['globalid']\n",
    "streefpeil['geometry'] = np.nan\n",
    "HHSK['streefpeil'] = gpd.GeoDataFrame(streefpeil)"
   ]
  },
  {
   "cell_type": "code",
   "execution_count": null,
   "id": "88e9543c-2dbe-4ebf-9423-b38daeeaa004",
   "metadata": {},
   "outputs": [],
   "source": [
    "HHSK['peilgebied'] = gpd.GeoDataFrame(peilgebied[['code', 'nen3610id', 'globalid', 'geometry']])"
   ]
  },
  {
   "cell_type": "code",
   "execution_count": null,
   "id": "6cdf901e-c4b4-4fb8-9f40-4731ff3c2d1d",
   "metadata": {},
   "outputs": [],
   "source": [
    "HHSK['peilgebied'] = HHSK['peilgebied'].loc[HHSK['peilgebied']['code'] !='GPG-1206'] #Not a regular polygon"
   ]
  },
  {
   "cell_type": "markdown",
   "id": "51df5dde-d374-4ae3-8d43-1c495581f021",
   "metadata": {},
   "source": [
    "### Delete irrelevant data"
   ]
  },
  {
   "cell_type": "code",
   "execution_count": null,
   "id": "42dc4ba1-3ccb-4b0f-a075-77aec9b85a07",
   "metadata": {},
   "outputs": [],
   "source": [
    "#delete irrelvant data\n",
    "variables = ['peilgebiedpraktijk', 'peilgebiedvigerend', 'peilafwijkinggebied']\n",
    "\n",
    "for variable in variables:\n",
    "    if str(variable) in HHSK:\n",
    "        del HHSK[variable]"
   ]
  },
  {
   "cell_type": "code",
   "execution_count": null,
   "id": "375f1598-03c1-48a1-bb19-54790273dad0",
   "metadata": {},
   "outputs": [],
   "source": [
    "#add duikersifonhevels to the hydroobjecten    \n",
    "HHSK['hydroobject'] = pd.concat([HHSK['hydroobject'], HHSK['duikersifonhevel']])\n",
    "HHSK['hydroobject'] = HHSK['hydroobject'].drop_duplicates(subset='globalid') #in case it is run multiple times\n",
    "HHSK['hydroobject'] = gpd.GeoDataFrame(HHSK['hydroobject']).set_crs('epsg:28992')\n"
   ]
  },
  {
   "cell_type": "markdown",
   "id": "21ccbba5-8e59-4134-9209-db988bc5c3d5",
   "metadata": {},
   "source": [
    "### Check for the correct keys and columns"
   ]
  },
  {
   "cell_type": "code",
   "execution_count": null,
   "id": "b064a376-0396-4c93-a2ad-eca3eea54598",
   "metadata": {},
   "outputs": [],
   "source": [
    "show_layers_and_columns(waterschap = HHSK)"
   ]
  },
  {
   "cell_type": "markdown",
   "id": "e4e74b4c-17ba-4829-9531-248f4d74cfad",
   "metadata": {},
   "source": [
    "### Store data"
   ]
  },
  {
   "cell_type": "code",
   "execution_count": null,
   "id": "556aea48-a819-4f70-8e22-6c843354a46d",
   "metadata": {},
   "outputs": [],
   "source": [
    "# Check if the directory exists\n",
    "if not os.path.exists(output_gpkg_path):\n",
    "    # If it doesn't exist, create it\n",
    "    os.makedirs(output_gpkg_path)\n",
    "    \n",
    "store_data(waterschap = HHSK, \n",
    "           output_gpkg_path = output_gpkg_path + '/HHSK')\n"
   ]
  },
  {
   "cell_type": "code",
   "execution_count": null,
   "id": "69cbb333-f66e-4ca8-880f-3242846c6a9b",
   "metadata": {},
   "outputs": [],
   "source": []
  }
 ],
 "metadata": {
  "kernelspec": {
   "display_name": "Routing",
   "language": "python",
   "name": "routing"
  },
  "language_info": {
   "codemirror_mode": {
    "name": "ipython",
    "version": 3
   },
   "file_extension": ".py",
   "mimetype": "text/x-python",
   "name": "python",
   "nbconvert_exporter": "python",
   "pygments_lexer": "ipython3",
   "version": "3.9.13"
  }
 },
 "nbformat": 4,
 "nbformat_minor": 5
}
