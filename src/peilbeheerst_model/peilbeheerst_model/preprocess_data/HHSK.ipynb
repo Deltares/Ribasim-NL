{
 "cells": [
  {
   "cell_type": "code",
   "execution_count": null,
   "id": "0",
   "metadata": {},
   "outputs": [],
   "source": [
    "# import packages and functions\n",
    "import os\n",
    "\n",
    "import geopandas as gpd\n",
    "import numpy as np\n",
    "import pandas as pd"
   ]
  },
  {
   "cell_type": "code",
   "execution_count": null,
   "id": "1",
   "metadata": {
    "tags": [
     "test"
    ]
   },
   "outputs": [],
   "source": [
    "from general_functions import read_gpkg_layers, show_layers_and_columns, store_data"
   ]
  },
  {
   "cell_type": "code",
   "execution_count": null,
   "id": "2",
   "metadata": {},
   "outputs": [],
   "source": [
    "pd.set_option(\"display.max_columns\", None)"
   ]
  },
  {
   "cell_type": "code",
   "execution_count": null,
   "id": "3",
   "metadata": {},
   "outputs": [],
   "source": [
    "# define relative paths\n",
    "waterschap = \"HHSK\"\n",
    "path_HHSK = \"..\\..\\Data_preprocessed\\Waterschappen\\HHSK\\HyDamo_metWasverzachter_20230905.gpkg\"\n",
    "output_gpkg_path = \"../../Data_postprocessed/Waterschappen/HHSK\""
   ]
  },
  {
   "cell_type": "code",
   "execution_count": null,
   "id": "4",
   "metadata": {},
   "outputs": [],
   "source": [
    "HHSK = read_gpkg_layers(\n",
    "    gpkg_path=path_HHSK,\n",
    "    variables=[\n",
    "        \"stuw\",\n",
    "        \"gemaal\",\n",
    "        \"afsluitmiddel\",\n",
    "        \"duikersifonhevel\",\n",
    "        \"hydroobject\",\n",
    "        # 'peilgebiedvigerend',\n",
    "        # 'peilafwijkinggebied',\n",
    "        # 'peilbesluitgebied',\n",
    "        \"streefpeil\",\n",
    "    ],\n",
    "    engine=\"pyogrio\",\n",
    ")"
   ]
  },
  {
   "cell_type": "code",
   "execution_count": null,
   "id": "5",
   "metadata": {},
   "outputs": [],
   "source": [
    "HHSK_nalevering = read_gpkg_layers(\n",
    "    gpkg_path=r\"D:\\Users\\Bruijns\\Documents\\PR4750_20\\Data_preprocessed\\Waterschappen\\HHSK\\LHM_hhsk_nalevering.gpkg\",\n",
    "    variables=[\"Persleiding\"],\n",
    ")"
   ]
  },
  {
   "cell_type": "code",
   "execution_count": null,
   "id": "6",
   "metadata": {},
   "outputs": [],
   "source": [
    "HHSK_2nalevering = read_gpkg_layers(\n",
    "    gpkg_path=r\"D:\\Users\\Bruijns\\Documents\\PR4750_20\\Data_preprocessed\\Waterschappen\\HHSK\\hhsklevering_07032024.gpkg\",\n",
    "    variables=[\"PeilgebiedPraktijk\", \"VigerendPeilgebiedZPP\"],\n",
    ")"
   ]
  },
  {
   "cell_type": "markdown",
   "id": "7",
   "metadata": {},
   "source": [
    "## Only select status_object == 3"
   ]
  },
  {
   "cell_type": "code",
   "execution_count": null,
   "id": "8",
   "metadata": {},
   "outputs": [],
   "source": [
    "HHSK[\"stuw\"] = HHSK[\"stuw\"].loc[(HHSK[\"stuw\"][\"statusobject\"] == \"3\") | (HHSK[\"stuw\"][\"statusobject\"] == 3)]\n",
    "HHSK[\"gemaal\"] = HHSK[\"gemaal\"].loc[(HHSK[\"gemaal\"][\"statusobject\"] == \"3\") | (HHSK[\"gemaal\"][\"statusobject\"] == 3)]\n",
    "HHSK[\"hydroobject\"] = HHSK[\"hydroobject\"].loc[\n",
    "    (HHSK[\"hydroobject\"][\"statusobject\"] == \"3\") | (HHSK[\"hydroobject\"][\"statusobject\"] == 3)\n",
    "]\n",
    "HHSK[\"duikersifonhevel\"] = HHSK[\"duikersifonhevel\"].loc[\n",
    "    (HHSK[\"duikersifonhevel\"][\"statusobject\"] == \"3\") | (HHSK[\"duikersifonhevel\"][\"statusobject\"] == 3)\n",
    "]\n",
    "HHSK[\"afsluitmiddel\"] = HHSK[\"afsluitmiddel\"].loc[\n",
    "    (HHSK[\"afsluitmiddel\"][\"statusobject\"] == \"3\") | (HHSK[\"afsluitmiddel\"][\"statusobject\"] == 3)\n",
    "]\n",
    "\n",
    "# HHSK['peilgebiedvigerend'] = HHSK['peilgebiedvigerend'].loc[(HHSK['peilgebiedvigerend']['statusobject'] == '3') | (HHSK['peilgebiedvigerend']['statusobject'] == 3)]\n",
    "# HHSK['peilafwijkinggebied'] = HHSK['peilafwijkinggebied'].loc[(HHSK['peilafwijkinggebied']['statusobject'] == '3') | (HHSK['peilafwijkinggebied']['statusobject'] == 3)]\n",
    "\n",
    "HHSK_nalevering[\"Persleiding\"] = HHSK_nalevering[\"Persleiding\"].loc[\n",
    "    (HHSK_nalevering[\"Persleiding\"][\"STATUSOBJECT\"] == \"3\") | (HHSK_nalevering[\"Persleiding\"][\"STATUSOBJECT\"] == 3)\n",
    "]"
   ]
  },
  {
   "cell_type": "code",
   "execution_count": null,
   "id": "9",
   "metadata": {},
   "outputs": [],
   "source": [
    "HHSK[\"hydroobject\"][\"categorieoppwaterlichaam\"] = HHSK[\"hydroobject\"][\"categorieoppwaterlichaam\"].astype(float)\n",
    "HHSK[\"hydroobject\"] = HHSK[\"hydroobject\"].loc[\n",
    "    HHSK[\"hydroobject\"][\"categorieoppwaterlichaam\"] == 1\n",
    "]  # only select primaire waterlichamen"
   ]
  },
  {
   "cell_type": "markdown",
   "id": "10",
   "metadata": {},
   "source": [
    "# HHSK"
   ]
  },
  {
   "cell_type": "markdown",
   "id": "11",
   "metadata": {
    "tags": []
   },
   "source": [
    "### Add the gemalen columns"
   ]
  },
  {
   "cell_type": "code",
   "execution_count": null,
   "id": "12",
   "metadata": {},
   "outputs": [],
   "source": [
    "# determine aanvoer en afvoer gemalen\n",
    "HHSK[\"gemaal\"][\"func_aanvoer\"], HHSK[\"gemaal\"][\"func_afvoer\"], HHSK[\"gemaal\"][\"func_circulatie\"] = (\n",
    "    False,\n",
    "    False,\n",
    "    False,\n",
    ")  # default is False\n",
    "HHSK[\"gemaal\"][\"functiegemaal\"] = HHSK[\"gemaal\"][\"functiegemaal\"].astype(str)\n",
    "\n",
    "HHSK[\"gemaal\"].loc[HHSK[\"gemaal\"].functiegemaal.str.contains(\"2|4|5|6|7|99\"), \"func_afvoer\"] = True\n",
    "HHSK[\"gemaal\"].loc[HHSK[\"gemaal\"].functiegemaal.str.contains(\"1|3|5|\"), \"func_aanvoer\"] = True\n",
    "HHSK[\"gemaal\"].loc[HHSK[\"gemaal\"].functiegemaal.str.contains(\"8\"), \"func_circulatie\"] = True\n",
    "HHSK[\"gemaal\"].loc[\n",
    "    ~HHSK[\"gemaal\"].func_afvoer & ~HHSK[\"gemaal\"].func_aanvoer & ~HHSK[\"gemaal\"].func_circulatie,\n",
    "    \"func_afvoer\",\n",
    "] = True  # set to afvoergemaal is there the function is unknown"
   ]
  },
  {
   "cell_type": "code",
   "execution_count": null,
   "id": "13",
   "metadata": {},
   "outputs": [],
   "source": []
  },
  {
   "cell_type": "code",
   "execution_count": null,
   "id": "14",
   "metadata": {},
   "outputs": [],
   "source": [
    "HHSK[\"stuw\"] = HHSK[\"stuw\"][[\"code\", \"nen3610id\", \"globalid\", \"geometry\"]]\n",
    "HHSK[\"gemaal\"] = HHSK[\"gemaal\"][\n",
    "    [\"code\", \"nen3610id\", \"globalid\", \"func_afvoer\", \"func_aanvoer\", \"func_circulatie\", \"geometry\"]\n",
    "]\n",
    "HHSK[\"hydroobject\"] = HHSK[\"hydroobject\"][[\"code\", \"nen3610id\", \"globalid\", \"geometry\"]]\n",
    "HHSK[\"duikersifonhevel\"] = HHSK[\"duikersifonhevel\"][[\"code\", \"nen3610id\", \"globalid\", \"geometry\"]]\n",
    "HHSK[\"afsluitmiddel\"] = HHSK[\"afsluitmiddel\"][[\"code\", \"nen3610id\", \"globalid\", \"geometry\"]]\n",
    "\n",
    "# HHSK['peilgebiedvigerend'] = HHSK['peilgebiedvigerend'][['code', 'nen3610id', 'globalid', 'geometry']]\n",
    "# HHSK['peilafwijkinggebied'] = HHSK['peilafwijkinggebied'][['code', 'nen3610id', 'globalid', 'geometry']]\n",
    "\n",
    "# HHSK['streefpeil'] = HHSK['streefpeil'][['code', 'nen3610id', 'globalid']]"
   ]
  },
  {
   "cell_type": "markdown",
   "id": "15",
   "metadata": {
    "tags": []
   },
   "source": [
    "### Add the nageleverde persleidingen to the duikersifonhevels"
   ]
  },
  {
   "cell_type": "code",
   "execution_count": null,
   "id": "16",
   "metadata": {},
   "outputs": [],
   "source": [
    "HHSK_nalevering[\"Persleiding\"] = HHSK_nalevering[\"Persleiding\"][[\"CODE\", \"GLOBALID\", \"geometry\"]]\n",
    "HHSK_nalevering[\"Persleiding\"][\"nen3610id\"] = \"dummy_nen3610id_persleiding_\" + HHSK_nalevering[\n",
    "    \"Persleiding\"\n",
    "].index.astype(str)\n",
    "HHSK_nalevering[\"Persleiding\"] = HHSK_nalevering[\"Persleiding\"].rename(columns={\"CODE\": \"code\", \"GLOBALID\": \"globalid\"})"
   ]
  },
  {
   "cell_type": "code",
   "execution_count": null,
   "id": "17",
   "metadata": {},
   "outputs": [],
   "source": [
    "HHSK[\"duikersifonhevel\"] = gpd.GeoDataFrame(\n",
    "    pd.concat([HHSK[\"duikersifonhevel\"], HHSK_nalevering[\"Persleiding\"]])\n",
    ").reset_index(drop=True)\n",
    "\n",
    "# HHSK has apparently non unique values for the global ids in duikersifonhevel\n",
    "HHSK[\"duikersifonhevel\"][\"globalid\"] = \"dummy_globalid_duikersifonhevel_\" + HHSK[\"duikersifonhevel\"].index.astype(str)\n",
    "\n",
    "# remove empty point geomtries from the gemalen\n",
    "HHSK[\"gemaal\"] = HHSK[\"gemaal\"][~HHSK[\"gemaal\"].is_empty].reset_index(drop=True)"
   ]
  },
  {
   "cell_type": "markdown",
   "id": "18",
   "metadata": {},
   "source": [
    "### Add the nageleverde peilgebieden to the original data"
   ]
  },
  {
   "cell_type": "code",
   "execution_count": null,
   "id": "19",
   "metadata": {},
   "outputs": [],
   "source": [
    "# edit the peilgebiedpraktijk\n",
    "HHSK_2nalevering[\"PeilgebiedPraktijk\"][\"ONDERPEIL\"].fillna(\n",
    "    HHSK_2nalevering[\"PeilgebiedPraktijk\"][\"VASTPEIL\"], inplace=True\n",
    ")\n",
    "HHSK_2nalevering[\"PeilgebiedPraktijk\"][\"ONDERPEIL\"].fillna(\n",
    "    HHSK_2nalevering[\"PeilgebiedPraktijk\"][\"BOVENPEIL\"], inplace=True\n",
    ")\n",
    "HHSK_2nalevering[\"PeilgebiedPraktijk\"][\"ONDERPEIL\"].fillna(\n",
    "    HHSK_2nalevering[\"PeilgebiedPraktijk\"][\"SCHOUWPEIL\"], inplace=True\n",
    ")\n",
    "\n",
    "HHSK[\"peilgebiedpraktijk\"] = HHSK_2nalevering[\"PeilgebiedPraktijk\"][[\"CODE\", \"ONDERPEIL\", \"BRONGID\", \"geometry\"]]\n",
    "HHSK[\"peilgebiedpraktijk\"] = HHSK_2nalevering[\"PeilgebiedPraktijk\"].rename(\n",
    "    columns={\"CODE\": \"code\", \"ONDERPEIL\": \"waterhoogte\", \"BRONGID\": \"globalid\"}\n",
    ")"
   ]
  },
  {
   "cell_type": "code",
   "execution_count": null,
   "id": "20",
   "metadata": {},
   "outputs": [],
   "source": [
    "# edit the peilgebiedvigerend\n",
    "HHSK_2nalevering[\"VigerendPeilgebiedZPP\"][\"ONDERPEIL\"].fillna(\n",
    "    HHSK_2nalevering[\"VigerendPeilgebiedZPP\"][\"VASTPEIL\"], inplace=True\n",
    ")\n",
    "HHSK_2nalevering[\"VigerendPeilgebiedZPP\"][\"ONDERPEIL\"].fillna(\n",
    "    HHSK_2nalevering[\"VigerendPeilgebiedZPP\"][\"BOVENPEIL\"], inplace=True\n",
    ")\n",
    "HHSK_2nalevering[\"VigerendPeilgebiedZPP\"][\"ONDERPEIL\"].fillna(\n",
    "    HHSK_2nalevering[\"VigerendPeilgebiedZPP\"][\"SCHOUWPEIL\"], inplace=True\n",
    ")\n",
    "\n",
    "HHSK[\"peilgebiedvigerend\"] = HHSK_2nalevering[\"VigerendPeilgebiedZPP\"][[\"CODE\", \"ONDERPEIL\", \"BRONGID\", \"geometry\"]]\n",
    "HHSK[\"peilgebiedvigerend\"] = HHSK_2nalevering[\"VigerendPeilgebiedZPP\"].rename(\n",
    "    columns={\"CODE\": \"code\", \"ONDERPEIL\": \"waterhoogte\", \"BRONGID\": \"globalid\"}\n",
    ")"
   ]
  },
  {
   "cell_type": "code",
   "execution_count": null,
   "id": "21",
   "metadata": {},
   "outputs": [],
   "source": [
    "# select the peilgebiedpraktijk which have a primaire hydroobject\n",
    "\n",
    "# pgp_pw : PeilGebiedPraktijk Primaire Watergang\n",
    "pgp_pw = gpd.sjoin(\n",
    "    left_df=HHSK_2nalevering[\"PeilgebiedPraktijk\"],\n",
    "    right_df=HHSK[\"hydroobject\"],\n",
    "    how=\"inner\",\n",
    "    predicate=\"contains\",\n",
    "    lsuffix=\"pgp\",\n",
    "    rsuffix=\"hydroobject\",\n",
    ").drop_duplicates(subset=\"CODE\")"
   ]
  },
  {
   "cell_type": "code",
   "execution_count": null,
   "id": "22",
   "metadata": {},
   "outputs": [],
   "source": [
    "pgp_pw.plot()"
   ]
  },
  {
   "cell_type": "code",
   "execution_count": null,
   "id": "23",
   "metadata": {},
   "outputs": [],
   "source": [
    "pgv_diff = gpd.sjoin(left_df=HHSK[\"peilgebiedvigerend\"], right_df=pgp_pw, how=\"inner\", predicate=\"intersects\")"
   ]
  },
  {
   "cell_type": "code",
   "execution_count": null,
   "id": "24",
   "metadata": {},
   "outputs": [],
   "source": [
    "pgv_diff.plot()"
   ]
  },
  {
   "cell_type": "code",
   "execution_count": null,
   "id": "25",
   "metadata": {},
   "outputs": [],
   "source": [
    "# streefpeilen_PG_v = pd.merge(left = HHSK['peilgebiedvigerend'],\n",
    "#                              right = HHSK['streefpeil'],\n",
    "#                              left_on = 'globalid',\n",
    "#                              right_on = 'peilgebiedvigerendid',\n",
    "#                              suffixes = ('', '_streefpeil'))[['code', 'nen3610id', 'globalid', 'waterhoogte', 'geometry']]\n",
    "\n",
    "# streefpeilen_PG_a = pd.merge(left = HHSK['peilafwijkinggebied'],\n",
    "#                              right = HHSK['streefpeil'],\n",
    "#                              left_on = 'globalid',\n",
    "#                              right_on = 'peilafwijkinggebiedid',\n",
    "#                              suffixes = ('', '_streefpeil'))[['code', 'nen3610id', 'globalid', 'waterhoogte', 'geometry']]\n",
    "\n",
    "# fig, ax = plt.subplots()\n",
    "# streefpeilen_PG_v.plot(ax = ax, color='cornflowerblue')\n",
    "# streefpeilen_PG_a.plot(ax = ax, color='blue')"
   ]
  },
  {
   "cell_type": "code",
   "execution_count": null,
   "id": "26",
   "metadata": {},
   "outputs": [],
   "source": [
    "# streefpeilen_PG_v.to_file('vigerend.shp')\n",
    "# streefpeilen_PG_a.to_file('afwijking.shp')"
   ]
  },
  {
   "cell_type": "code",
   "execution_count": null,
   "id": "27",
   "metadata": {},
   "outputs": [],
   "source": [
    "# peilgebied = burn_in_peilgebieden(base_layer = streefpeilen_PG_v,\n",
    "#                                   overlay_layer = streefpeilen_PG_a,\n",
    "#                                   plot = True)"
   ]
  },
  {
   "cell_type": "code",
   "execution_count": null,
   "id": "28",
   "metadata": {},
   "outputs": [],
   "source": [
    "streefpeil = gpd.GeoDataFrame()\n",
    "streefpeil[\"waterhoogte\"] = peilgebied[\"waterhoogte\"]\n",
    "streefpeil[\"globalid\"] = peilgebied[\"globalid\"]\n",
    "streefpeil[\"geometry\"] = np.nan\n",
    "HHSK[\"streefpeil\"] = gpd.GeoDataFrame(streefpeil)"
   ]
  },
  {
   "cell_type": "code",
   "execution_count": null,
   "id": "29",
   "metadata": {},
   "outputs": [],
   "source": [
    "HHSK[\"peilgebied\"] = gpd.GeoDataFrame(peilgebied[[\"code\", \"nen3610id\", \"globalid\", \"geometry\"]])"
   ]
  },
  {
   "cell_type": "code",
   "execution_count": null,
   "id": "30",
   "metadata": {},
   "outputs": [],
   "source": [
    "HHSK[\"peilgebied\"] = HHSK[\"peilgebied\"].loc[HHSK[\"peilgebied\"][\"code\"] != \"GPG-1206\"]  # Not a regular polygon"
   ]
  },
  {
   "cell_type": "markdown",
   "id": "31",
   "metadata": {},
   "source": [
    "### Delete irrelevant data"
   ]
  },
  {
   "cell_type": "code",
   "execution_count": null,
   "id": "32",
   "metadata": {},
   "outputs": [],
   "source": [
    "# delete irrelvant data\n",
    "variables = [\"peilgebiedpraktijk\", \"peilgebiedvigerend\", \"peilafwijkinggebied\"]\n",
    "\n",
    "for variable in variables:\n",
    "    if str(variable) in HHSK:\n",
    "        del HHSK[variable]"
   ]
  },
  {
   "cell_type": "code",
   "execution_count": null,
   "id": "33",
   "metadata": {},
   "outputs": [],
   "source": [
    "# add duikersifonhevels to the hydroobjecten\n",
    "HHSK[\"hydroobject\"] = pd.concat([HHSK[\"hydroobject\"], HHSK[\"duikersifonhevel\"]])\n",
    "HHSK[\"hydroobject\"] = HHSK[\"hydroobject\"].drop_duplicates(subset=\"globalid\")  # in case it is run multiple times\n",
    "HHSK[\"hydroobject\"] = gpd.GeoDataFrame(HHSK[\"hydroobject\"]).set_crs(\"epsg:28992\")"
   ]
  },
  {
   "cell_type": "markdown",
   "id": "34",
   "metadata": {},
   "source": [
    "### Check for the correct keys and columns"
   ]
  },
  {
   "cell_type": "code",
   "execution_count": null,
   "id": "35",
   "metadata": {},
   "outputs": [],
   "source": [
    "show_layers_and_columns(waterschap=HHSK)"
   ]
  },
  {
   "cell_type": "markdown",
   "id": "36",
   "metadata": {},
   "source": [
    "### Store data"
   ]
  },
  {
   "cell_type": "code",
   "execution_count": null,
   "id": "37",
   "metadata": {},
   "outputs": [],
   "source": [
    "# Check if the directory exists\n",
    "if not os.path.exists(output_gpkg_path):\n",
    "    # If it doesn't exist, create it\n",
    "    os.makedirs(output_gpkg_path)\n",
    "\n",
    "store_data(waterschap=HHSK, output_gpkg_path=output_gpkg_path + \"/HHSK\")"
   ]
  },
  {
   "cell_type": "code",
   "execution_count": null,
   "id": "38",
   "metadata": {},
   "outputs": [],
   "source": []
  }
 ],
 "metadata": {
  "kernelspec": {
   "display_name": "Routing",
   "language": "python",
   "name": "routing"
  },
  "language_info": {
   "codemirror_mode": {
    "name": "ipython",
    "version": 3
   },
   "file_extension": ".py",
   "mimetype": "text/x-python",
   "name": "python",
   "nbconvert_exporter": "python",
   "pygments_lexer": "ipython3",
   "version": "3.9.13"
  }
 },
 "nbformat": 4,
 "nbformat_minor": 5
}
