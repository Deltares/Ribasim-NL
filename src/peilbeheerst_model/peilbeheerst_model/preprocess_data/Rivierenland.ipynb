{
 "cells": [
  {
   "cell_type": "code",
   "execution_count": null,
   "id": "065338fd-62d6-480e-8c80-8bc4b101846b",
   "metadata": {},
   "outputs": [],
   "source": [
    "# import packages and functions\n",
    "import os\n",
    "\n",
    "import fiona\n",
    "import geopandas as gpd\n",
    "import matplotlib.pyplot as plt\n",
    "import numpy as np\n",
    "import pandas as pd\n",
    "import shapely"
   ]
  },
  {
   "cell_type": "code",
   "execution_count": null,
   "id": "3f5aaa20-7965-4aa7-bf24-79965d87edb1",
   "metadata": {},
   "outputs": [],
   "source": [
    "from general_functions import *"
   ]
  },
  {
   "cell_type": "code",
   "execution_count": null,
   "id": "4c2a1a6e-1255-4481-9d94-b0206f40e94d",
   "metadata": {},
   "outputs": [],
   "source": [
    "pd.set_option(\"display.max_columns\", None)"
   ]
  },
  {
   "cell_type": "markdown",
   "id": "ffeed567-f858-4e46-83ff-89b7d7ea9b6d",
   "metadata": {},
   "source": [
    "# WSRL"
   ]
  },
  {
   "cell_type": "code",
   "execution_count": null,
   "id": "636e86b9-bd75-4f8f-91eb-e757fba21fde",
   "metadata": {
    "tags": []
   },
   "outputs": [],
   "source": [
    "# define relative paths\n",
    "waterschap = \"WSRL\"\n",
    "data_path = \"../../Data_preprocessed/Waterschappen/WSRL\"\n",
    "output_gpkg_path = \"../../Data_postprocessed/Waterschappen/WSRL\""
   ]
  },
  {
   "cell_type": "code",
   "execution_count": null,
   "id": "c0f66000-73e6-4b06-b5a2-8308213c2461",
   "metadata": {},
   "outputs": [],
   "source": [
    "# WSRL has delivered the data per catchment. Loop through each catchment, and concat all data to a single dictionary\n",
    "WSRL = {}\n",
    "\n",
    "for root, dirs, files in os.walk(data_path):\n",
    "    for file in files:\n",
    "        if file.endswith(\".gpkg\"):\n",
    "            gpkg_path = os.path.join(root, file)\n",
    "\n",
    "            if WSRL == {}:\n",
    "                WSRL = read_gpkg_layers(\n",
    "                    gpkg_path=gpkg_path, variables=[\"Stuw\", \"Gemaal\", \"Hydroobject\", \"Duikersifonhevel\"]\n",
    "                )\n",
    "            else:\n",
    "                temp_WSRL = read_gpkg_layers(\n",
    "                    gpkg_path=gpkg_path, variables=[\"Stuw\", \"Gemaal\", \"Hydroobject\", \"Duikersifonhevel\"]\n",
    "                )\n",
    "                for variable in WSRL.keys():\n",
    "                    WSRL[variable] = pd.concat([WSRL[variable], temp_WSRL[variable]]).reset_index(drop=True)"
   ]
  },
  {
   "cell_type": "markdown",
   "id": "7469bb6f-dc28-43b3-b9cb-2d4505b5d5fd",
   "metadata": {},
   "source": [
    "Additional data is given in another gpkg, which includes the peilgebieden"
   ]
  },
  {
   "cell_type": "code",
   "execution_count": null,
   "id": "5018d1e6-f7ba-4e02-b01a-6d83a3a5e9a3",
   "metadata": {},
   "outputs": [],
   "source": [
    "gdb_path = r\"..\\..\\Data_preprocessed\\Waterschappen\\WSRL\\OverigeGegevens.gdb\"\n",
    "WSRL_gdb = read_gpkg_layers(gpkg_path=gdb_path, variables=[\"PeilgebiedenPraktijk\"])\n",
    "\n",
    "# add the gdb to the dict\n",
    "# WSRL['peilgebiedafwijking'] = WSRL_gdb['Peilafwijkingen']\n",
    "WSRL[\"peilgebiedpraktijk\"] = WSRL_gdb[\"PeilgebiedenPraktijk\"]"
   ]
  },
  {
   "cell_type": "code",
   "execution_count": null,
   "id": "fc85db32-bb81-4f7f-9a38-2bd89b3fc658",
   "metadata": {},
   "outputs": [],
   "source": [
    "# change names\n",
    "WSRL[\"stuw\"] = WSRL.pop(\"Stuw\")\n",
    "WSRL[\"gemaal\"] = WSRL.pop(\"Gemaal\")\n",
    "WSRL[\"hydroobject\"] = WSRL.pop(\"Hydroobject\")\n",
    "WSRL[\"duikersifonhevel\"] = WSRL.pop(\"Duikersifonhevel\")"
   ]
  },
  {
   "cell_type": "markdown",
   "id": "341e9076-62bd-4d0f-aba9-835cdf93afeb",
   "metadata": {},
   "source": [
    "### Adjust column names"
   ]
  },
  {
   "cell_type": "code",
   "execution_count": null,
   "id": "c0302db0-e7f0-4dd2-88b7-3dc9aadd581f",
   "metadata": {},
   "outputs": [],
   "source": [
    "# add gemaal information\n",
    "WSRL[\"peilgebiedpraktijk\"][\"waterhoogte\"] = np.nan\n",
    "WSRL[\"peilgebiedpraktijk\"].loc[\n",
    "    WSRL[\"peilgebiedpraktijk\"][\"TYPE_PEILBEHEER\"] == \"seizoensgebonden\", \"waterhoogte\"\n",
    "].fillna(WSRL[\"peilgebiedpraktijk\"][\"ZOMERPEIL\"], inplace=True)\n",
    "WSRL[\"peilgebiedpraktijk\"].loc[WSRL[\"peilgebiedpraktijk\"][\"TYPE_PEILBEHEER\"] == \"flexibel\", \"waterhoogte\"].fillna(\n",
    "    WSRL[\"peilgebiedpraktijk\"][\"ZOMERPEIL\"], inplace=True\n",
    ")\n",
    "WSRL[\"peilgebiedpraktijk\"].loc[WSRL[\"peilgebiedpraktijk\"][\"TYPE_PEILBEHEER\"] == \"natuurlijk\", \"waterhoogte\"].fillna(\n",
    "    WSRL[\"peilgebiedpraktijk\"][\"ZOMERPEIL\"], inplace=True\n",
    ")\n",
    "WSRL[\"peilgebiedpraktijk\"].loc[WSRL[\"peilgebiedpraktijk\"][\"TYPE_PEILBEHEER\"] == \"vast\", \"waterhoogte\"].fillna(\n",
    "    WSRL[\"peilgebiedpraktijk\"][\"VASTPEIL\"], inplace=True\n",
    ")\n",
    "WSRL[\"peilgebiedpraktijk\"].loc[WSRL[\"peilgebiedpraktijk\"][\"TYPE_PEILBEHEER\"] == \"streef\", \"waterhoogte\"].fillna(\n",
    "    WSRL[\"peilgebiedpraktijk\"][\"STREEFPEIL\"], inplace=True\n",
    ")\n",
    "\n",
    "# niet elke kolom is ingevuld met de paren die je zou verwachten. Vul voor de ontbrekende waarden de volgende waarden in:\n",
    "WSRL[\"peilgebiedpraktijk\"].loc[:, \"waterhoogte\"].fillna(WSRL[\"peilgebiedpraktijk\"][\"STREEFPEIL\"], inplace=True)\n",
    "WSRL[\"peilgebiedpraktijk\"].loc[:, \"waterhoogte\"].fillna(WSRL[\"peilgebiedpraktijk\"][\"VASTPEIL\"], inplace=True)\n",
    "WSRL[\"peilgebiedpraktijk\"].loc[:, \"waterhoogte\"].fillna(WSRL[\"peilgebiedpraktijk\"][\"ZOMERPEIL\"], inplace=True)\n",
    "WSRL[\"peilgebiedpraktijk\"].loc[:, \"waterhoogte\"].fillna(WSRL[\"peilgebiedpraktijk\"][\"MIN_PEIL\"], inplace=True)\n",
    "WSRL[\"peilgebiedpraktijk\"].loc[:, \"waterhoogte\"].fillna(WSRL[\"peilgebiedpraktijk\"][\"WINTERPEIL\"], inplace=True)\n",
    "WSRL[\"peilgebiedpraktijk\"].loc[:, \"waterhoogte\"].fillna(WSRL[\"peilgebiedpraktijk\"][\"MAX_PEIL\"], inplace=True)"
   ]
  },
  {
   "cell_type": "code",
   "execution_count": null,
   "id": "6f56f578-aca0-4957-89df-b6a3a08278a3",
   "metadata": {},
   "outputs": [],
   "source": [
    "# Add gemaal information\n",
    "# determine aanvoer en afvoer gemalen\n",
    "WSRL[\"gemaal\"][\"func_aanvoer\"], WSRL[\"gemaal\"][\"func_afvoer\"], WSRL[\"gemaal\"][\"func_circulatie\"] = (\n",
    "    False,\n",
    "    False,\n",
    "    False,\n",
    ")  # default is False\n",
    "WSRL[\"gemaal\"][\"functiegemaal\"] = WSRL[\"gemaal\"][\"naam\"].astype(str)\n",
    "\n",
    "\n",
    "WSRL[\"gemaal\"].loc[WSRL[\"gemaal\"].functiegemaal.str.contains(\"Afvoer|Onbekend|Af-|Onderbemaling\"), \"func_afvoer\"] = True\n",
    "WSRL[\"gemaal\"].loc[WSRL[\"gemaal\"].functiegemaal.str.contains(\"Aanvoer|Opmaling\"), \"func_aanvoer\"] = True\n",
    "WSRL[\"gemaal\"].loc[WSRL[\"gemaal\"].functiegemaal.str.contains(\"Doorspoelgemaal\"), \"func_circulatie\"] = True\n",
    "WSRL[\"gemaal\"].loc[\n",
    "    (WSRL[\"gemaal\"].func_afvoer == False)\n",
    "    & (WSRL[\"gemaal\"].func_aanvoer == False)\n",
    "    & (WSRL[\"gemaal\"].func_circulatie == False),\n",
    "    \"func_afvoer\",\n",
    "] = True  # set to afvoergemaal is there the function is unknown"
   ]
  },
  {
   "cell_type": "code",
   "execution_count": null,
   "id": "6dce84db-36f3-4a1c-9f10-7c14d9e4a6ed",
   "metadata": {
    "tags": []
   },
   "outputs": [],
   "source": [
    "# discard irrelevant data of WSRL, and create a uniform dataset compared to the other waterschappen\n",
    "WSRL[\"stuw\"] = WSRL[\"stuw\"][[\"code\", \"globalid\", \"nen3610id\", \"geometry\"]]\n",
    "WSRL[\"gemaal\"] = WSRL[\"gemaal\"][\n",
    "    [\"code\", \"globalid\", \"nen3610id\", \"func_afvoer\", \"func_aanvoer\", \"func_circulatie\", \"geometry\"]\n",
    "]\n",
    "WSRL[\"hydroobject\"] = WSRL[\"hydroobject\"][[\"code\", \"globalid\", \"nen3610id\", \"geometry\"]]\n",
    "WSRL[\"duikersifonhevel\"] = WSRL[\"duikersifonhevel\"][[\"code\", \"globalid\", \"nen3610id\", \"geometry\"]]"
   ]
  },
  {
   "cell_type": "code",
   "execution_count": null,
   "id": "059f9113-bcd4-470a-abb6-4fd8ec193f4a",
   "metadata": {},
   "outputs": [],
   "source": [
    "# gpd.overlay(WSRL['peilgebiedpraktijk'], WSRL['peilgebiedafwijking'], how='union', keep_geom_type=False).to_file('WSRL_kan_weg.gpkg')"
   ]
  },
  {
   "cell_type": "code",
   "execution_count": null,
   "id": "0181e016-5103-4d66-b0fa-27ef59282f51",
   "metadata": {},
   "outputs": [],
   "source": [
    "fig, ax = plt.subplots()\n",
    "WSRL[\"peilgebiedpraktijk\"].plot(ax=ax, color=\"cornflowerblue\", label=\"Peilgebiedpraktijk\")\n",
    "# WSRL['peilgebiedafwijking'].plot(ax=ax, color='blue', label = 'Peilgebiedafwijking')\n",
    "ax.legend()\n",
    "plt.show()"
   ]
  },
  {
   "cell_type": "code",
   "execution_count": null,
   "id": "96f0e8bf-89e3-4743-b047-d23791bdc5b4",
   "metadata": {},
   "outputs": [],
   "source": [
    "def intersect_using_spatial_index(peilgebied_praktijk, peilgebied_afwijking, check):\n",
    "    \"\"\"\n",
    "    Conduct spatial intersection using spatial index for candidates GeoDataFrame to make queries faster.\n",
    "    Note, with this function, you can have multiple Polygons in the 'intersecting_gdf' and it will return all the points\n",
    "    intersect with ANY of those geometries.\n",
    "    \"\"\"\n",
    "    peilgebied_praktijk_sindex = peilgebied_praktijk.sindex\n",
    "    possible_matches_index = []\n",
    "\n",
    "    # 'itertuples()' function is a faster version of 'iterrows()'\n",
    "    for other in peilgebied_afwijking.itertuples():\n",
    "        bounds = other.geometry.bounds\n",
    "        c = list(peilgebied_praktijk_sindex.intersection(bounds))\n",
    "        possible_matches_index += c\n",
    "\n",
    "    # Get unique candidates\n",
    "    unique_candidate_matches = list(set(possible_matches_index))\n",
    "    possible_matches = peilgebied_praktijk.iloc[unique_candidate_matches]\n",
    "\n",
    "    # Conduct the actual intersect\n",
    "    overlapping_pg_praktijk = possible_matches.loc[\n",
    "        possible_matches.intersects(peilgebied_afwijking.unary_union)\n",
    "    ]  # the entire peilgebied praktijk polygons\n",
    "\n",
    "    # remove the peilgebied afwijking from the peilgebied praktijk\n",
    "    intersection = gpd.overlay(overlapping_pg_praktijk, peilgebied_afwijking, how=\"intersection\")\n",
    "    overlapping_updated = gpd.overlay(\n",
    "        peilgebied_praktijk, intersection, how=\"symmetric_difference\"\n",
    "    )  # check of het difference of symmetrical difference moet zijn!#remove the difference between pg_praktijk and pg_afwijking\n",
    "    peilgebied = overlapping_updated.append(\n",
    "        intersection, ignore_index=True\n",
    "    )  # add the removed difference, but now only the intersected part of pg_afwijking\n",
    "\n",
    "    if check == True:\n",
    "        peilgebied_praktijk.to_file(\"Checks/Rivierenland/peilgebied_praktijk.gpkg\", driver=\"GPKG\")\n",
    "        peilgebied_afwijking.to_file(\"Checks/Rivierenland/peilgebied_afwijking.gpkg\", driver=\"GPKG\")\n",
    "\n",
    "        intersection.to_file(\"Checks/Rivierenland/intersection.gpkg\", driver=\"GPKG\")\n",
    "        overlapping_updated.to_file(\"Checks/Rivierenland/overlapping_updated.gpkg\", driver=\"GPKG\")\n",
    "        peilgebied.to_file(\"Checks/Rivierenland/peilgebied.gpkg\", driver=\"GPKG\")\n",
    "\n",
    "    return peilgebied"
   ]
  },
  {
   "cell_type": "code",
   "execution_count": null,
   "id": "500d4d64-c65b-4426-9f89-7f10e12a0514",
   "metadata": {},
   "outputs": [],
   "source": [
    "# peilgebied = intersect_using_spatial_index(peilgebied_praktijk = WSRL['peilgebiedpraktijk'],\n",
    "#                                            peilgebied_afwijking = WSRL['peilgebiedafwijking'],\n",
    "#                                            check = False)\n",
    "peilgebied = WSRL[\"peilgebiedpraktijk\"]"
   ]
  },
  {
   "cell_type": "code",
   "execution_count": null,
   "id": "363a8b04-a132-469a-b5c8-cde2e911a9c0",
   "metadata": {},
   "outputs": [],
   "source": [
    "# WSRL['peilgebiedpraktijk'] = WSRL['peilgebiedpraktijk'][['ZOMERPEIL', 'WINTERPEIL', 'MIN_PEIL', 'MAX_PEIL', 'STREEFPEIL', 'VASTPEIL', 'TYPE_PEILBEHEER', 'geometry']]\n",
    "# peilgebied['waterhoogte'] = np.nan\n",
    "\n",
    "# for fill_column in ['ZOMERPEIL', 'STREEFPEIL', 'VASTPEIL', 'MAX_PEIL', 'MIN_PEIL', 'WINTERPEIL']:\n",
    "#     peilgebied.waterhoogte.fillna(value = peilgebied[fill_column], inplace=True)\n",
    "\n",
    "# WSRL['peilgebiedpraktijk'].waterhoogte.fillna(value=WSRL['peilgebiedpraktijk'][['ZOMERPEIL', 'STREEFPEIL', 'VASTPEIL', 'MAX_PEIL', 'MIN_PEIL']])"
   ]
  },
  {
   "cell_type": "code",
   "execution_count": null,
   "id": "cfbf8612-93a9-4357-a3c9-cd3dd9d9bf71",
   "metadata": {},
   "outputs": [],
   "source": [
    "# store the ontbrekende_streefpeilen to a gpkg, check validity\n",
    "ontbrekende_streefpeilen = peilgebied[peilgebied.waterhoogte.isna()]\n",
    "# ontbrekende_streefpeilen.to_file('Checks/Rivierenland/peilgebieden_zonder_streefpeil.gpkg', driver='GPKG')\n",
    "peilgebied.plot()"
   ]
  },
  {
   "cell_type": "code",
   "execution_count": null,
   "id": "74734b29-5c4a-4e63-a873-88d8f6ebbd14",
   "metadata": {},
   "outputs": [],
   "source": [
    "peilgebied[\"CODE_0\"] = peilgebied.CODE  # change names for later purposes\n",
    "peilgebied.CODE = np.nan\n",
    "\n",
    "# add and fill the final columns\n",
    "columns_to_check = [\"CODE_0\"]\n",
    "\n",
    "for fill_column in [\"CODE_0\"]:\n",
    "    peilgebied.CODE.fillna(value=peilgebied[fill_column], inplace=True)\n",
    "\n",
    "peilgebied[\"globalid\"] = peilgebied.index.astype(str)\n",
    "peilgebied[\"nen3610id\"] = \"dummy_nen3610id_peilgebied_\" + peilgebied.index.astype(str)\n",
    "\n",
    "# create streefpeil key\n",
    "WSRL[\"streefpeil\"] = peilgebied[[\"waterhoogte\", \"globalid\"]]\n",
    "WSRL[\"streefpeil\"][\"geometry\"] = np.nan\n",
    "WSRL[\"streefpeil\"] = gpd.GeoDataFrame(WSRL[\"streefpeil\"])\n",
    "\n",
    "# only select the relevant columns\n",
    "peilgebied = peilgebied[[\"CODE\", \"globalid\", \"nen3610id\", \"geometry\"]]\n",
    "WSRL[\"peilgebied\"] = peilgebied  # add to the dict"
   ]
  },
  {
   "cell_type": "code",
   "execution_count": null,
   "id": "42dc4ba1-3ccb-4b0f-a075-77aec9b85a07",
   "metadata": {},
   "outputs": [],
   "source": [
    "# discard irrelvant data\n",
    "variables = [\"peilgebiedpraktijk\", \"peilgebiedafwijking\"]\n",
    "\n",
    "for variable in variables:\n",
    "    if str(variable) in WSRL:\n",
    "        del WSRL[variable]"
   ]
  },
  {
   "cell_type": "markdown",
   "id": "21ccbba5-8e59-4134-9209-db988bc5c3d5",
   "metadata": {},
   "source": [
    "### Check for the correct keys and columns"
   ]
  },
  {
   "cell_type": "code",
   "execution_count": null,
   "id": "b064a376-0396-4c93-a2ad-eca3eea54598",
   "metadata": {},
   "outputs": [],
   "source": [
    "show_layers_and_columns(waterschap=WSRL)"
   ]
  },
  {
   "cell_type": "code",
   "execution_count": null,
   "id": "d81fa34f-69aa-4d0e-9612-8ae36b959e0b",
   "metadata": {},
   "outputs": [],
   "source": []
  },
  {
   "cell_type": "markdown",
   "id": "e4e74b4c-17ba-4829-9531-248f4d74cfad",
   "metadata": {},
   "source": [
    "### Store data"
   ]
  },
  {
   "cell_type": "code",
   "execution_count": null,
   "id": "556aea48-a819-4f70-8e22-6c843354a46d",
   "metadata": {},
   "outputs": [],
   "source": [
    "# Check if the directory exists\n",
    "if not os.path.exists(output_gpkg_path):\n",
    "    # If it doesn't exist, create it\n",
    "    os.makedirs(output_gpkg_path)\n",
    "\n",
    "store_data(waterschap=WSRL, output_gpkg_path=output_gpkg_path + \"/WSRL\")"
   ]
  },
  {
   "cell_type": "raw",
   "id": "d6b186d5-c907-4b19-9ee2-c7222476856a",
   "metadata": {},
   "source": []
  },
  {
   "cell_type": "code",
   "execution_count": null,
   "id": "fedb4c6e-49c2-44f4-88f0-0e1ce4802bc7",
   "metadata": {},
   "outputs": [],
   "source": []
  }
 ],
 "metadata": {
  "kernelspec": {
   "display_name": "Routing",
   "language": "python",
   "name": "routing"
  },
  "language_info": {
   "codemirror_mode": {
    "name": "ipython",
    "version": 3
   },
   "file_extension": ".py",
   "mimetype": "text/x-python",
   "name": "python",
   "nbconvert_exporter": "python",
   "pygments_lexer": "ipython3",
   "version": "3.9.13"
  }
 },
 "nbformat": 4,
 "nbformat_minor": 5
}
