{
 "cells": [
  {
   "cell_type": "code",
   "execution_count": null,
   "id": "0",
   "metadata": {},
   "outputs": [],
   "source": [
    "# import packages and functions\n",
    "import os\n",
    "\n",
    "import geopandas as gpd\n",
    "import numpy as np\n",
    "import pandas as pd"
   ]
  },
  {
   "cell_type": "code",
   "execution_count": null,
   "id": "1",
   "metadata": {},
   "outputs": [],
   "source": [
    "from general_functions import *"
   ]
  },
  {
   "cell_type": "markdown",
   "id": "2",
   "metadata": {},
   "source": [
    "# HD"
   ]
  },
  {
   "cell_type": "code",
   "execution_count": null,
   "id": "3",
   "metadata": {
    "tags": []
   },
   "outputs": [],
   "source": [
    "# define relative paths\n",
    "waterschap = \"Hollandse_Delta\"\n",
    "data_path = \"../../Data_preprocessed/Waterschappen/Hollandse_Delta/Hollandse_Delta_aangepast.gpkg\"\n",
    "output_gpkg_path = \"../../Data_postprocessed/Waterschappen/Hollandse_Delta\""
   ]
  },
  {
   "cell_type": "code",
   "execution_count": null,
   "id": "4",
   "metadata": {},
   "outputs": [],
   "source": [
    "HD = read_gpkg_layers(\n",
    "    gpkg_path=data_path,\n",
    "    variables=[\n",
    "        \"stuwen\",\n",
    "        \"gemalen\",\n",
    "        \"afsluitmiddelen\",\n",
    "        \"sluizen\",\n",
    "        \"HydroObjectWatergangtype\",  # = hydroobject\n",
    "        \"HydroObjectKunstwerkvakken\",\n",
    "    ],\n",
    ")  # = duikersifonhevel\n",
    "\n",
    "# change names\n",
    "HD[\"stuw\"] = HD.pop(\"stuwen\")\n",
    "HD[\"gemaal\"] = HD.pop(\"gemalen\")\n",
    "HD[\"afsluitmiddel\"] = HD.pop(\"afsluitmiddelen\")\n",
    "HD[\"sluis\"] = HD.pop(\"sluizen\")\n",
    "HD[\"hydroobject\"] = HD.pop(\"HydroObjectWatergangtype\")\n",
    "HD[\"duikersifonhevel\"] = HD.pop(\"HydroObjectKunstwerkvakken\")"
   ]
  },
  {
   "cell_type": "code",
   "execution_count": null,
   "id": "5",
   "metadata": {},
   "outputs": [],
   "source": [
    "# see the readme: peilgebieden have not be delivered properly. This data is retrieved from an external online database.\n",
    "# peilgebieden_path = '../../Data_preprocessed/Waterschappen/Hollandse_Delta/WSHD_Peilgebieden_(Vigerend).shp'\n",
    "peilgebieden_path_all = (\n",
    "    \"../../Data_preprocessed/Waterschappen/Hollandse_Delta/Nalvering_tweede/Shapefiles/PeilgebiedenPraktijk.shp\"\n",
    ")\n",
    "peilgebieden_path_geen_AP = (\n",
    "    \"../../Data_preprocessed/Waterschappen/Hollandse_Delta/Nalvering_tweede/Shapefiles/PeilgebiedenGeenAP.shp\"\n",
    ")\n",
    "\n",
    "# load in both the old ones and the new ones, as the new ones do not have the peilgebiedafwijkingen, but they dont have the streefpeilen. These are stored in the old ones.\n",
    "peilgebieden_all = gpd.read_file(peilgebieden_path_all)\n",
    "peilgebieden_geen_AP = gpd.read_file(peilgebieden_path_geen_AP)\n",
    "\n",
    "peilgebieden = pd.merge(left=peilgebieden_all, right=peilgebieden_geen_AP, on=\"Dis\", suffixes=(\"_all\", \"\"))\n",
    "\n",
    "# add the shapefile to the dictionary\n",
    "HD[\"peilgebied\"] = peilgebieden"
   ]
  },
  {
   "cell_type": "markdown",
   "id": "6",
   "metadata": {},
   "source": [
    "### Adjust column names"
   ]
  },
  {
   "cell_type": "code",
   "execution_count": null,
   "id": "7",
   "metadata": {},
   "outputs": [],
   "source": [
    "# determine aanvoer en afvoer gemalen\n",
    "HD[\"gemaal\"][\"func_aanvoer\"], HD[\"gemaal\"][\"func_afvoer\"], HD[\"gemaal\"][\"func_circulatie\"] = (\n",
    "    False,\n",
    "    False,\n",
    "    False,\n",
    ")  # default is False\n",
    "HD[\"gemaal\"][\"functiegemaal\"] = HD[\"gemaal\"][\"FUNCTIEGEM\"].astype(str)\n",
    "HD[\"gemaal\"].loc[HD[\"gemaal\"][\"functiegemaal\"] == \"Onbekend\", \"functiegemaal\"] = (\n",
    "    np.nan\n",
    ")  # replace onbekend with nan, will be filled up later see one line below\n",
    "HD[\"gemaal\"][\"functiegemaal\"].fillna(\n",
    "    HD[\"gemaal\"][\"NAAM\"], inplace=True\n",
    ")  # some additional information may given in this column\n",
    "HD[\"gemaal\"][\"functiegemaal\"] = HD[\"gemaal\"][\"functiegemaal\"].astype(str)  # again, otherise issue True False\n",
    "\n",
    "HD[\"gemaal\"].loc[HD[\"gemaal\"].functiegemaal.str.contains(\"f-|fvoer|nderbemaling\"), \"func_afvoer\"] = True\n",
    "HD[\"gemaal\"].loc[HD[\"gemaal\"].functiegemaal.str.contains(\"anvoergemaal|pmaling\"), \"func_aanvoer\"] = True\n",
    "HD[\"gemaal\"].loc[HD[\"gemaal\"].functiegemaal.str.contains(\"Doorspoel\"), \"func_circulatie\"] = True\n",
    "HD[\"gemaal\"].loc[\n",
    "    ~HD[\"gemaal\"].func_afvoer & ~HD[\"gemaal\"].func_aanvoer & ~HD[\"gemaal\"].func_circulatie,\n",
    "    \"func_afvoer\",\n",
    "] = True  # set to afvoergemaal is there the function is unknown"
   ]
  },
  {
   "cell_type": "code",
   "execution_count": null,
   "id": "8",
   "metadata": {},
   "outputs": [],
   "source": [
    "# discard irrelevant data of HD HD, and create a uniform dataset compared to the other waterschappen\n",
    "# Stuw\n",
    "HD[\"stuw\"] = HD[\"stuw\"][[\"CODE\", \"GLOBALID\", \"geometry\"]]\n",
    "HD[\"stuw\"] = HD[\"stuw\"].rename(columns={\"CODE\": \"code\", \"GLOBALID\": \"globalid\"})\n",
    "HD[\"stuw\"][\"nen3610id\"] = \"dummy_nen3610id_stuw_\" + HD[\"stuw\"].index.astype(str)\n",
    "\n",
    "# Gemaal\n",
    "HD[\"gemaal\"] = HD[\"gemaal\"][[\"CODE\", \"GLOBALID\", \"func_afvoer\", \"func_aanvoer\", \"func_circulatie\", \"geometry\"]]\n",
    "HD[\"gemaal\"] = HD[\"gemaal\"].rename(columns={\"GLOBALID\": \"globalid\", \"CODE\": \"code\"})\n",
    "HD[\"gemaal\"][\"nen3610id\"] = \"dummy_nen3610id_gemaal_\" + HD[\"gemaal\"].index.astype(str)\n",
    "\n",
    "# Hydroobject\n",
    "HD[\"hydroobject\"] = HD[\"hydroobject\"][[\"CODE\", \"GLOBALID\", \"geometry\"]]\n",
    "HD[\"hydroobject\"] = HD[\"hydroobject\"].rename(columns={\"GLOBALID\": \"globalid\", \"CODE\": \"code\"})\n",
    "HD[\"hydroobject\"][\"nen3610id\"] = \"dummy_nen3610id_hydroobject_\" + HD[\"hydroobject\"].index.astype(str)\n",
    "\n",
    "# sluis\n",
    "HD[\"sluis\"] = HD[\"sluis\"][[\"CODE\", \"GLOBALID\", \"geometry\"]]\n",
    "HD[\"sluis\"] = HD[\"sluis\"].rename(columns={\"GLOBALID\": \"globalid\"})\n",
    "HD[\"sluis\"][\"nen3610id\"] = \"dummy_nen3610id_sluis_\" + HD[\"sluis\"].index.astype(str)\n",
    "\n",
    "# duikersifonhevel\n",
    "HD[\"duikersifonhevel\"] = HD[\"duikersifonhevel\"][[\"CODE\", \"GLOBALID\", \"geometry\"]]\n",
    "HD[\"duikersifonhevel\"] = HD[\"duikersifonhevel\"].rename(columns={\"CODE\": \"code\", \"GLOBALID\": \"globalid\"})\n",
    "HD[\"duikersifonhevel\"][\"nen3610id\"] = \"dummy_nen3610id_duikersifonhevel_\" + HD[\"duikersifonhevel\"].index.astype(str)\n",
    "\n",
    "# afsluitmiddel\n",
    "HD[\"afsluitmiddel\"] = HD[\"afsluitmiddel\"][[\"CODE\", \"geometry\"]]\n",
    "HD[\"afsluitmiddel\"] = HD[\"afsluitmiddel\"].rename(columns={\"CODE\": \"code\"})\n",
    "HD[\"afsluitmiddel\"][\"nen3610id\"] = \"dummy_nen3610id_afsluitmiddel_\" + HD[\"afsluitmiddel\"].index.astype(str)\n",
    "HD[\"afsluitmiddel\"][\"globalid\"] = \"dummy_globalid_afsluitmiddel_\" + HD[\"afsluitmiddel\"].index.astype(str)\n",
    "\n",
    "# Peilgebied\n",
    "HD[\"peilgebied\"] = HD[\"peilgebied\"][[\"REKENPEIL_\", \"NAAM_BEMAL\", \"geometry\"]]\n",
    "HD[\"peilgebied\"][\"nen3610id\"] = \"dummy_nen3610id_peilgebied_\" + HD[\"peilgebied\"].index.astype(str)\n",
    "HD[\"peilgebied\"][\"globalid\"] = \"dummy_globalid_peilgebied_\" + HD[\"peilgebied\"].index.astype(str)\n",
    "HD[\"peilgebied\"] = HD[\"peilgebied\"].rename(columns={\"REKENPEIL_\": \"streefpeil\", \"NAAM_BEMAL\": \"code\"})\n",
    "\n",
    "# Streefpeil\n",
    "HD[\"streefpeil\"] = pd.DataFrame()\n",
    "HD[\"streefpeil\"][\"waterhoogte\"] = HD[\"peilgebied\"][\"streefpeil\"]\n",
    "HD[\"streefpeil\"][\"globalid\"] = HD[\"peilgebied\"][\"globalid\"]\n",
    "HD[\"streefpeil\"][\"geometry\"] = None\n",
    "HD[\"streefpeil\"] = gpd.GeoDataFrame(HD[\"streefpeil\"], geometry=\"geometry\")\n",
    "\n",
    "# Remove the streefpeil from the peilgebied\n",
    "HD[\"peilgebied\"] = HD[\"peilgebied\"][[\"code\", \"geometry\", \"nen3610id\", \"globalid\"]]"
   ]
  },
  {
   "cell_type": "code",
   "execution_count": null,
   "id": "9",
   "metadata": {},
   "outputs": [],
   "source": [
    "# delete irrelvant data\n",
    "variables = [\"peilgebiedpraktijk\"]\n",
    "\n",
    "for variable in variables:\n",
    "    if str(variable) in HD:\n",
    "        del HD[variable]"
   ]
  },
  {
   "cell_type": "markdown",
   "id": "10",
   "metadata": {},
   "source": [
    "### Check for the correct keys and columns"
   ]
  },
  {
   "cell_type": "code",
   "execution_count": null,
   "id": "11",
   "metadata": {},
   "outputs": [],
   "source": [
    "show_layers_and_columns(waterschap=HD)"
   ]
  },
  {
   "cell_type": "code",
   "execution_count": null,
   "id": "12",
   "metadata": {},
   "outputs": [],
   "source": [
    "peilgebieden.plot()"
   ]
  },
  {
   "cell_type": "markdown",
   "id": "13",
   "metadata": {},
   "source": [
    "### Store data"
   ]
  },
  {
   "cell_type": "code",
   "execution_count": null,
   "id": "14",
   "metadata": {},
   "outputs": [],
   "source": [
    "# Check if the directory exists\n",
    "if not os.path.exists(output_gpkg_path):\n",
    "    # If it doesn't exist, create it\n",
    "    os.makedirs(output_gpkg_path)\n",
    "\n",
    "store_data(waterschap=HD, output_gpkg_path=output_gpkg_path + \"/HD\")"
   ]
  },
  {
   "cell_type": "code",
   "execution_count": null,
   "id": "15",
   "metadata": {},
   "outputs": [],
   "source": []
  }
 ],
 "metadata": {
  "kernelspec": {
   "display_name": "Routing",
   "language": "python",
   "name": "routing"
  },
  "language_info": {
   "codemirror_mode": {
    "name": "ipython",
    "version": 3
   },
   "file_extension": ".py",
   "mimetype": "text/x-python",
   "name": "python",
   "nbconvert_exporter": "python",
   "pygments_lexer": "ipython3",
   "version": "3.9.13"
  }
 },
 "nbformat": 4,
 "nbformat_minor": 5
}
