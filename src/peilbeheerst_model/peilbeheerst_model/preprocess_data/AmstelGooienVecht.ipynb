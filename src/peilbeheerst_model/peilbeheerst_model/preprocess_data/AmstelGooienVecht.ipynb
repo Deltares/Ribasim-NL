{
 "cells": [
  {
   "cell_type": "code",
   "execution_count": null,
   "id": "d13f9ab1-f6e7-4958-96cc-343f0c2138f6",
   "metadata": {},
   "outputs": [],
   "source": [
    "#import packages and functions\n",
    "import os\n",
    "\n",
    "import geopandas as gpd\n",
    "import numpy as np\n",
    "import pandas as pd\n"
   ]
  },
  {
   "cell_type": "code",
   "execution_count": null,
   "id": "ad89ae02-4242-4aca-bd5a-c0c3fd8592ac",
   "metadata": {},
   "outputs": [],
   "source": [
    "from general_functions import *\n",
    "\n",
    "%load_ext autoreload\n",
    "%autoreload 2\n",
    "pd.set_option('display.max_columns', None)\n"
   ]
  },
  {
   "cell_type": "markdown",
   "id": "09981d65-c7d2-4802-9fca-2ef490213b2c",
   "metadata": {},
   "source": [
    "# Amstel, Gooi en Vecht"
   ]
  },
  {
   "cell_type": "code",
   "execution_count": null,
   "id": "b5fc0f1d-b2bf-4933-9472-96cb110e6111",
   "metadata": {},
   "outputs": [],
   "source": [
    "#define relative paths\n",
    "waterschap = 'AVG'\n",
    "path_AVG = '..\\..\\Data_preprocessed\\Waterschappen\\AmstelGooienVecht'\n",
    "output_gpkg_path = \"../../Data_postprocessed/Waterschappen/AmstelGooienVecht\"\n",
    "DM_path = '..\\..\\Data_overig\\DM_Netwerk\\DM_Netwerk.shp'\n"
   ]
  },
  {
   "cell_type": "code",
   "execution_count": null,
   "id": "d54f0c7c-93a1-44bd-b0f9-fcf37279dc83",
   "metadata": {},
   "outputs": [],
   "source": [
    "# #AVG has delivered all data in CSV format. Load it in manually with some data mutations\n",
    "# AVG = {}\n",
    "# variables = ['stuw', 'gemaal', 'afsluitmiddel', 'duikersifonhevel', 'hydroobject']#, 'peilgebiedpraktijk', 'peilafwijkinggebied']\n",
    "# for variable in variables:\n",
    "#     path_variable = os.path.join(path_AVG, variable + '.csv')\n",
    "#     df_var = pd.read_csv(path_variable, delimiter=';')\n",
    "#     geom_col = df_var.keys()[-1] #retrieve the column name\n",
    "    \n",
    "#     if not 'geometrie' in geom_col:\n",
    "#         raise ValueError('No \"geometry\" string found in the last column of the dataframe. Check for existence') \n",
    "    \n",
    "#     df_var['geometry'] = df_var[geom_col].apply(lambda x: wkt.loads(x.split(';')[-1])) \n",
    "#     AVG[variable] = df_var\n",
    "    \n",
    "# #there is one last gpkg which contains the streefpeilen (and peilgebieden)\n",
    "# AVG['peilgebied'] = gpd.read_file(os.path.join(path_AVG, 'vigerende_peilgebieden.gpkg'))"
   ]
  },
  {
   "cell_type": "code",
   "execution_count": null,
   "id": "d8ca7d9a-fcd9-4154-9278-029f2a25b7b7",
   "metadata": {},
   "outputs": [],
   "source": [
    "# AVG['peilgebied']['streefpeil'] = np.nan\n",
    "# AVG['peilgebied']['streefpeil'] = AVG['peilgebied']['streefpeil'].fillna(value=AVG['peilgebied']['GPGZMRPL'])\n",
    "# AVG['peilgebied']['streefpeil'] = AVG['peilgebied']['streefpeil'].fillna(value=AVG['peilgebied']['IWS_GPGVASTP'])\n",
    "# AVG['peilgebied']['streefpeil'] = AVG['peilgebied']['streefpeil'].fillna(value=AVG['peilgebied']['IWS_GPGONDP'])\n",
    "\n",
    "\n",
    "# print('Number of missing streefpeilen = ', len(AVG['peilgebied']['streefpeil'].loc[AVG['peilgebied']['streefpeil'].isna()]))\n",
    "\n",
    "# fig, ax = plt.subplots()\n",
    "# AVG['peilgebied'].geometry.plot(ax=ax, color='cornflowerblue')\n",
    "# AVG['peilgebied'].loc[AVG['peilgebied']['streefpeil'].isna()].geometry.plot(ax=ax, color='red')\n",
    "# ax.legend()"
   ]
  },
  {
   "cell_type": "code",
   "execution_count": null,
   "id": "6a63463e",
   "metadata": {},
   "outputs": [],
   "source": [
    "AVG = {}"
   ]
  },
  {
   "cell_type": "markdown",
   "id": "3c3e568b-79b0-4809-8274-a029cc61b534",
   "metadata": {},
   "source": [
    "# Nalevering"
   ]
  },
  {
   "cell_type": "code",
   "execution_count": null,
   "id": "31327447-601e-4f6a-b141-e97162433b37",
   "metadata": {},
   "outputs": [],
   "source": [
    "#overwrite previous data\n",
    "AVG['stuw'] = gpd.read_file(r\"D:\\Users\\Bruijns\\Documents\\PR4750_20\\Data_preprocessed\\Waterschappen\\AmstelGooienVecht\\data dump 6 maart LHM AGV\\Stuw.shp\")\n",
    "AVG['stuw'] = AVG['stuw'].loc[AVG['stuw'].LHM == 'LHM']\n",
    "\n",
    "AVG['gemaal'] = gpd.read_file(r\"D:\\Users\\Bruijns\\Documents\\PR4750_20\\Data_preprocessed\\Waterschappen\\AmstelGooienVecht\\data dump 6 maart LHM AGV\\Gemaal.shp\")\n",
    "AVG['gemaal'] = AVG['gemaal'].loc[AVG['gemaal'].LHM == 'LHM']\n",
    "\n",
    "AVG['duikersifonhevel'] = gpd.read_file(r\"D:\\Users\\Bruijns\\Documents\\PR4750_20\\Data_preprocessed\\Waterschappen\\AmstelGooienVecht\\data dump 6 maart LHM AGV\\Duikersifonhevel.shp\")\n",
    "AVG['hydroobject'] = gpd.read_file(r\"D:\\Users\\Bruijns\\Documents\\PR4750_20\\Data_preprocessed\\Waterschappen\\AmstelGooienVecht\\data dump 6 maart LHM AGV\\LHM_hydrovakken.shp\")\n",
    "\n",
    "AVG['peilgebied'] = gpd.read_file(r\"D:\\Users\\Bruijns\\Documents\\PR4750_20\\Data_preprocessed\\Waterschappen\\AmstelGooienVecht\\data dump 6 maart LHM AGV\\LHM_gebieden.shp\")\n"
   ]
  },
  {
   "cell_type": "code",
   "execution_count": null,
   "id": "f68a9597-d088-40c2-88df-931aa281d000",
   "metadata": {},
   "outputs": [],
   "source": [
    "AVG['peilgebied'].loc[AVG['peilgebied'].zomer == 0, 'zomer'] = np.nan\n",
    "AVG['peilgebied'].loc[AVG['peilgebied'].winter == 0, 'winter'] = np.nan\n",
    "AVG['peilgebied'].loc[AVG['peilgebied'].vast == 0, 'vast'] = np.nan"
   ]
  },
  {
   "cell_type": "code",
   "execution_count": null,
   "id": "951b70c4-740a-47db-9abf-7c5770aa24bb",
   "metadata": {},
   "outputs": [],
   "source": [
    "AVG['peilgebied']['streefpeil'] = AVG['peilgebied'][['vast', 'zomer']].min(axis=1, skipna=True)\n"
   ]
  },
  {
   "cell_type": "code",
   "execution_count": null,
   "id": "320352cd-a10b-48ff-afc0-71023df12cb4",
   "metadata": {},
   "outputs": [],
   "source": [
    "#determine aanvoer en afvoer gemalen\n",
    "AVG['gemaal']['func_aanvoer'], AVG['gemaal']['func_afvoer'], AVG['gemaal']['func_circulatie']  = False, False, False #default is False\n",
    "AVG['gemaal']['functiegemaal'] = AVG['gemaal']['naam'].astype(str) # aan AGV gevraagd of alle opmaling informatie in de kolom 'naam' verwerkt is. Antwoord: ja\n",
    "\n",
    "AVG['gemaal'].loc[AVG['gemaal']['functiegemaal'] == 'onbekend', 'functiegemaal'] = np.nan #replace onbekend with nan, will be filled up later see one line below\n",
    "\n",
    "AVG['gemaal'].loc[AVG['gemaal'].functiegemaal.str.contains('fvoer|nderbemaling|f-|oodpomp'), 'func_afvoer'] = True\n",
    "AVG['gemaal'].loc[AVG['gemaal'].functiegemaal.str.contains('anvoergemaal|pmaling|an-|p-|pvoer'), 'func_aanvoer'] = True\n",
    "AVG['gemaal'].loc[AVG['gemaal'].functiegemaal.str.contains('irculatie'), 'func_circulatie'] = True\n",
    "AVG['gemaal'].loc[(AVG['gemaal'].func_afvoer is False) &\n",
    "                       (AVG['gemaal'].func_aanvoer is False) &\n",
    "                       (AVG['gemaal'].func_circulatie is False), 'func_afvoer'] = True #set to afvoergemaal is there the function is unknown"
   ]
  },
  {
   "cell_type": "code",
   "execution_count": null,
   "id": "7fd2e22c-95a0-4877-b160-843b36ea56a3",
   "metadata": {},
   "outputs": [],
   "source": [
    "#stuw\n",
    "AVG['stuw'] = AVG['stuw'][['code', 'geometry']]\n",
    "AVG['stuw'].loc[:, 'nen3610id'] = 'dummy_nen3610id_stuw_' + AVG['stuw'].index.astype(str)\n",
    "AVG['stuw']['globalid'] = 'dummy_globalid_stuw_' + AVG['stuw'].index.astype(str)\n",
    "AVG['stuw'] = gpd.GeoDataFrame(AVG['stuw']).to_crs('epsg:28992')\n",
    "\n",
    "#gemaal\n",
    "AVG['gemaal'] = AVG['gemaal'][['code', 'func_afvoer', 'func_aanvoer', 'func_circulatie', 'geometry']]\n",
    "AVG['gemaal'].loc[:, 'nen3610id'] = 'dummy_nen3610id_gemaal_' + AVG['gemaal'].index.astype(str)\n",
    "AVG['gemaal']['globalid'] = 'dummy_globalid_gemaal_' + AVG['gemaal'].index.astype(str)\n",
    "AVG['gemaal'] = gpd.GeoDataFrame(AVG['gemaal']).to_crs('epsg:28992')\n",
    "\n",
    "#afsluitmiddel\n",
    "AVG['afsluitmiddel'] = AVG['afsluitmiddel'][['code', 'geometry']]\n",
    "AVG['afsluitmiddel'].loc[:, 'nen3610id'] = 'dummy_nen3610id_afsluitmiddel_' + AVG['afsluitmiddel'].index.astype(str)\n",
    "AVG['afsluitmiddel']['globalid'] = 'dummy_globalid_afsluitmiddel_' + AVG['afsluitmiddel'].index.astype(str)\n",
    "AVG['afsluitmiddel'] = gpd.GeoDataFrame(AVG['afsluitmiddel']).set_crs('epsg:28992')\n",
    "\n",
    "#duikersifonhevel\n",
    "AVG['duikersifonhevel'] = AVG['duikersifonhevel'][['code', 'geometry']]\n",
    "AVG['duikersifonhevel'].loc[:, 'nen3610id'] = 'dummy_nen3610id_duikersifonhevel_' + AVG['duikersifonhevel'].index.astype(str)\n",
    "AVG['duikersifonhevel']['globalid'] = 'dummy_globalid_duikersifonhevel_' + AVG['duikersifonhevel'].index.astype(str)\n",
    "AVG['duikersifonhevel'] = gpd.GeoDataFrame(AVG['duikersifonhevel']).to_crs('epsg:28992')\n",
    "\n",
    "#hydroobject\n",
    "AVG['hydroobject'] = AVG['hydroobject'][['geometry']]\n",
    "AVG['hydroobject']['code'] = 'dummy_code_hydroobject_' + AVG['hydroobject'].index.astype(str)\n",
    "AVG['hydroobject']['nen3610id'] = 'dummy_nen3610id_hydroobject_' + AVG['hydroobject'].index.astype(str)\n",
    "AVG['hydroobject']['globalid'] = 'dummy_globalid_hydroobject_' + AVG['hydroobject'].index.astype(str)\n",
    "AVG['hydroobject'] = gpd.GeoDataFrame(AVG['hydroobject']).set_crs('epsg:28992')\n",
    "\n",
    "#streefpeil\n",
    "AVG['streefpeil'] = pd.DataFrame()\n",
    "AVG['streefpeil']['waterhoogte'] = AVG['peilgebied']['streefpeil']\n",
    "AVG['streefpeil']['globalid'] = 'dummy_globalid_streefpeil_' + AVG['streefpeil'].index.astype(str)\n",
    "AVG['streefpeil']['geometry'] = np.nan\n",
    "AVG['streefpeil'] = gpd.GeoDataFrame(AVG['streefpeil']).set_crs('epsg:28992')\n",
    "\n",
    "#peilgebied\n",
    "AVG['peilgebied']['code'] = AVG['peilgebied']['GAFNAAM']\n",
    "AVG['peilgebied']['geometry'] = AVG['peilgebied']['geometry']\n",
    "AVG['peilgebied']['nen3610id'] = 'dummy_nen3610id_peilgebied_' + AVG['peilgebied'].index.astype(str)\n",
    "AVG['peilgebied']['globalid'] = 'dummy_globalid_peilgebied_' + AVG['peilgebied'].index.astype(str)\n",
    "\n",
    "\n",
    "AVG['peilgebied'] = AVG['peilgebied'][['code', 'nen3610id', 'globalid', 'geometry']]\n",
    "AVG['peilgebied'] = gpd.GeoDataFrame(AVG['peilgebied']).to_crs('epsg:28992')\n"
   ]
  },
  {
   "cell_type": "code",
   "execution_count": null,
   "id": "3cb1e8f8-fc21-4b03-a6e9-d0c1eecd5701",
   "metadata": {},
   "outputs": [],
   "source": [
    "#add duikersifonhevels to the hydroobjecten    \n",
    "AVG['hydroobject'] = pd.concat([AVG['hydroobject'], AVG['duikersifonhevel']])\n",
    "AVG['hydroobject'] = AVG['hydroobject'].drop_duplicates(subset='globalid') #in case it is run multiple times\n",
    "AVG['hydroobject'] = gpd.GeoDataFrame(AVG['hydroobject']).set_crs('epsg:28992')\n"
   ]
  },
  {
   "cell_type": "code",
   "execution_count": null,
   "id": "74d6b456-154a-4c13-b53d-4d5e67122485",
   "metadata": {},
   "outputs": [],
   "source": []
  },
  {
   "cell_type": "markdown",
   "id": "9276888c-0ba2-4f5d-8ecb-a26baa1747f0",
   "metadata": {},
   "source": [
    "# Control, store"
   ]
  },
  {
   "cell_type": "code",
   "execution_count": null,
   "id": "f2554d9e-9957-47bd-8cef-e6bfd4220a61",
   "metadata": {},
   "outputs": [],
   "source": [
    "show_layers_and_columns(waterschap = AVG)"
   ]
  },
  {
   "cell_type": "code",
   "execution_count": null,
   "id": "be767e93-6ab9-4a3d-a7ae-247eb3877617",
   "metadata": {},
   "outputs": [],
   "source": [
    "# Check if the directory exists\n",
    "if not os.path.exists(output_gpkg_path):\n",
    "    # If it doesn't exist, create it\n",
    "    os.makedirs(output_gpkg_path)\n",
    "    \n",
    "store_data(waterschap = AVG, \n",
    "           output_gpkg_path = output_gpkg_path + '/AGV')\n"
   ]
  },
  {
   "cell_type": "code",
   "execution_count": null,
   "id": "09e3e8eb-f52b-497b-a0ef-b8613d7771c1",
   "metadata": {},
   "outputs": [],
   "source": []
  }
 ],
 "metadata": {
  "kernelspec": {
   "display_name": "Routing",
   "language": "python",
   "name": "routing"
  },
  "language_info": {
   "codemirror_mode": {
    "name": "ipython",
    "version": 3
   },
   "file_extension": ".py",
   "mimetype": "text/x-python",
   "name": "python",
   "nbconvert_exporter": "python",
   "pygments_lexer": "ipython3",
   "version": "3.9.13"
  }
 },
 "nbformat": 4,
 "nbformat_minor": 5
}
