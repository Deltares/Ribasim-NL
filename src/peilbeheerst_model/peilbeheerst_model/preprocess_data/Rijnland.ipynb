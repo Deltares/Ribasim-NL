{
 "cells": [
  {
   "cell_type": "code",
   "execution_count": null,
   "id": "0",
   "metadata": {},
   "outputs": [],
   "source": [
    "# import packages and functions\n",
    "import os\n",
    "\n",
    "import geopandas as gpd\n",
    "import matplotlib.pyplot as plt\n",
    "import numpy as np\n",
    "import pandas as pd"
   ]
  },
  {
   "cell_type": "code",
   "execution_count": null,
   "id": "1",
   "metadata": {},
   "outputs": [],
   "source": [
    "from general_functions import burn_in_peilgebieden, read_gpkg_layers, show_layers_and_columns, store_data"
   ]
  },
  {
   "cell_type": "code",
   "execution_count": null,
   "id": "2",
   "metadata": {},
   "outputs": [],
   "source": [
    "pd.set_option(\"display.max_columns\", None)"
   ]
  },
  {
   "cell_type": "code",
   "execution_count": null,
   "id": "3",
   "metadata": {},
   "outputs": [],
   "source": [
    "# define relative paths\n",
    "waterschap = \"Rijnland\"\n",
    "path_Rijnland = \"..\\..\\Data_preprocessed\\Waterschappen\\Rijnland\\DataRijnland\\DataRijnland.gpkg\"\n",
    "output_gpkg_path = \"../../Data_postprocessed/Waterschappen/Rijnland\""
   ]
  },
  {
   "cell_type": "code",
   "execution_count": null,
   "id": "4",
   "metadata": {},
   "outputs": [],
   "source": [
    "Rijnland = read_gpkg_layers(\n",
    "    gpkg_path=path_Rijnland,\n",
    "    variables=[\n",
    "        \"stuw\",\n",
    "        \"gemaal\",\n",
    "        \"afsluitmiddel\",\n",
    "        \"duikersifonhevel\",\n",
    "        \"hydroobject\",\n",
    "        \"peilgebiedvigerend\",\n",
    "        \"peilgebiedpraktijk\",\n",
    "        \"peilafwijkinggebied\",\n",
    "        \"streefpeil\",\n",
    "    ],\n",
    ")"
   ]
  },
  {
   "cell_type": "markdown",
   "id": "5",
   "metadata": {},
   "source": [
    "# Rijnland"
   ]
  },
  {
   "cell_type": "code",
   "execution_count": null,
   "id": "6",
   "metadata": {},
   "outputs": [],
   "source": [
    "fig, ax = plt.subplots()\n",
    "Rijnland[\"peilgebiedvigerend\"].plot(ax=ax, color=\"blue\")\n",
    "Rijnland[\"peilgebiedpraktijk\"].plot(ax=ax, color=\"orange\")\n",
    "Rijnland[\"peilafwijkinggebied\"].plot(ax=ax, color=\"green\")"
   ]
  },
  {
   "cell_type": "code",
   "execution_count": null,
   "id": "7",
   "metadata": {},
   "outputs": [],
   "source": [
    "Rijnland[\"stuw\"] = Rijnland[\"stuw\"][[\"code\", \"nen3610id\", \"globalid\", \"geometry\"]]\n",
    "Rijnland[\"gemaal\"] = Rijnland[\"gemaal\"][[\"code\", \"nen3610id\", \"globalid\", \"geometry\"]]\n",
    "Rijnland[\"afsluitmiddel\"] = Rijnland[\"afsluitmiddel\"][[\"code\", \"nen3610id\", \"globalid\", \"geometry\"]]\n",
    "Rijnland[\"hydroobject\"] = Rijnland[\"hydroobject\"][[\"code\", \"nen3610id\", \"globalid\", \"geometry\"]]\n",
    "Rijnland[\"duikersifonhevel\"] = Rijnland[\"duikersifonhevel\"][[\"code\", \"nen3610id\", \"globalid\", \"geometry\"]]\n",
    "Rijnland[\"peilgebiedpraktijk\"] = Rijnland[\"peilgebiedpraktijk\"][[\"code\", \"nen3610id\", \"globalid\", \"geometry\"]]\n",
    "Rijnland[\"peilafwijkinggebied\"] = Rijnland[\"peilafwijkinggebied\"][[\"code\", \"nen3610id\", \"globalid\", \"geometry\"]]\n",
    "Rijnland[\"peilgebiedvigerend\"] = Rijnland[\"peilgebiedvigerend\"][[\"code\", \"nen3610id\", \"globalid\", \"geometry\"]]"
   ]
  },
  {
   "cell_type": "code",
   "execution_count": null,
   "id": "8",
   "metadata": {},
   "outputs": [],
   "source": [
    "# fix geometries\n",
    "Rijnland[\"peilgebiedvigerend\"][\"geometry\"] = Rijnland[\"peilgebiedvigerend\"].buffer(distance=0)\n",
    "Rijnland[\"peilgebiedpraktijk\"][\"geometry\"] = Rijnland[\"peilgebiedpraktijk\"].buffer(distance=0)\n",
    "Rijnland[\"peilafwijkinggebied\"][\"geometry\"] = Rijnland[\"peilafwijkinggebied\"].buffer(distance=0)"
   ]
  },
  {
   "cell_type": "code",
   "execution_count": null,
   "id": "9",
   "metadata": {},
   "outputs": [],
   "source": [
    "# peilgebied = burn_in_peilgebieden(base_layer = Rijnland['peilgebiedpraktijk'],\n",
    "#                                   overlay_layer = Rijnland['peilafwijkinggebied'],\n",
    "#                                   plot = True)\n",
    "# Rijnland['peilgebied'] = gpd.GeoDataFrame(peilgebied)\n",
    "\n",
    "peilgebied = burn_in_peilgebieden(\n",
    "    base_layer=Rijnland[\"peilgebiedvigerend\"], overlay_layer=Rijnland[\"peilgebiedpraktijk\"], plot=True\n",
    ")"
   ]
  },
  {
   "cell_type": "code",
   "execution_count": null,
   "id": "10",
   "metadata": {},
   "outputs": [],
   "source": [
    "peilgebied = gpd.GeoDataFrame(peilgebied)\n",
    "peilgebied = peilgebied[peilgebied.geometry.type.isin([\"Polygon\", \"MultiPolygon\"])]  # only select polygons\n",
    "\n",
    "Rijnland[\"peilgebied\"] = gpd.GeoDataFrame(peilgebied)"
   ]
  },
  {
   "cell_type": "code",
   "execution_count": null,
   "id": "11",
   "metadata": {},
   "outputs": [],
   "source": [
    "gpd.GeoDataFrame(peilgebied).to_file(\"Rijnland_test_kan_weg.shp\")\n",
    "# peilgebied"
   ]
  },
  {
   "cell_type": "code",
   "execution_count": null,
   "id": "12",
   "metadata": {},
   "outputs": [],
   "source": [
    "# # Explode the multipolygons into separate parts\n",
    "# exploded_peilgebied = Rijnland['peilgebied'].explode('geometry')\n",
    "\n",
    "# # Check if each part is a single polygon\n",
    "# is_simple_polygon = exploded_peilgebied['geometry'].apply(lambda geom: geom.type == 'Polygon')\n",
    "\n",
    "# # Select only the simple polygons from the exploded GeoDataFrame\n",
    "# simple_peilgebied = exploded_peilgebied[is_simple_polygon]\n",
    "# simple_peilgebied"
   ]
  },
  {
   "cell_type": "code",
   "execution_count": null,
   "id": "13",
   "metadata": {},
   "outputs": [],
   "source": [
    "# #convert multi polygon to single polygon\n",
    "# Rijnland['peilgebied'] = Rijnland['peilgebied'].explode()\n",
    "# Rijnland['peilgebied']['nen3610id'] = 'dummy_nen3610id_duikersifonhevel_' + Rijnland['peilgebied'].index.astype(str)\n"
   ]
  },
  {
   "cell_type": "code",
   "execution_count": null,
   "id": "14",
   "metadata": {},
   "outputs": [],
   "source": [
    "Rijnland[\"streefpeil\"].peilgebiedpraktijkid.fillna(value=Rijnland[\"streefpeil\"][\"peilgebiedvigerendid\"], inplace=True)\n",
    "# Rijnland['streefpeil'].drop_duplicates(subset=['peilgebiedpraktijkid'], inplace=True)"
   ]
  },
  {
   "cell_type": "code",
   "execution_count": null,
   "id": "15",
   "metadata": {},
   "outputs": [],
   "source": [
    "# get rid of irrelevant streefpeilen, which otherwise results in too many overlapped peilgebieden\n",
    "filter_condition = Rijnland[\"streefpeil\"][\"soortstreefpeil\"].isin(\n",
    "    [\"omer\", \"ondergrens\"]\n",
    ")  #'omer' for all rows where something of zomer, Zomer, dynamische zomer, etc, is used\n",
    "kept_rows = Rijnland[\"streefpeil\"][filter_condition]\n",
    "\n",
    "other_rows = Rijnland[\"streefpeil\"][~filter_condition].drop_duplicates(subset=[\"peilgebiedpraktijkid\"])\n",
    "Rijnland[\"streefpeil\"] = pd.concat([kept_rows, other_rows])"
   ]
  },
  {
   "cell_type": "code",
   "execution_count": null,
   "id": "16",
   "metadata": {},
   "outputs": [],
   "source": [
    "# Rijnland['streefpeil'].peilafwijkinggebiedid.fillna(value=Rijnland['streefpeil']['peilgebiedpraktijkid'], inplace=True)\n",
    "# Rijnland['streefpeil'].peilgebiedpraktijkid.fillna(value=Rijnland['streefpeil']['peilgebiedvigerendid'], inplace=True)\n",
    "\n",
    "pg_sp = pd.merge(\n",
    "    left=peilgebied,\n",
    "    right=Rijnland[\"streefpeil\"],\n",
    "    left_on=\"globalid\",\n",
    "    right_on=\"peilgebiedpraktijkid\",\n",
    "    suffixes=(\"\", \"_streefpeil\"),\n",
    ")\n",
    "\n",
    "pg_sp[\"geometry\"] = gpd.GeoDataFrame(geometry=pg_sp[\"geometry\"]).reset_index(drop=True)\n",
    "# pg_sp = pg_sp.explode('geometry',ignore_index=True)"
   ]
  },
  {
   "cell_type": "code",
   "execution_count": null,
   "id": "17",
   "metadata": {},
   "outputs": [],
   "source": [
    "# gpd.GeoDataFrame(pg_sp.loc[pg_sp.code != 'PBS_WW-25AS'], geometry='geometry').set_crs('EPSG:28992').to_file('peilgebieden_Rijnland.gpkg', driver='GPKG')"
   ]
  },
  {
   "cell_type": "code",
   "execution_count": null,
   "id": "18",
   "metadata": {},
   "outputs": [],
   "source": [
    "# there are duplicate codes, nen3610ids and globalids due to the exploded function. Rename these.\n",
    "pg_sp[\"nen3610id\"] = \"dummy_nen3610id_peilgebied_\" + pg_sp.index.astype(str)\n",
    "pg_sp[\"code\"] = \"dummy_code_peilgebied_\" + pg_sp.index.astype(str)\n",
    "pg_sp[\"globalid\"] = \"dummy_globalid_peilgebied_\" + pg_sp.index.astype(str)\n",
    "\n",
    "Rijnland[\"peilgebied\"] = pg_sp\n",
    "Rijnland[\"peilgebied\"] = Rijnland[\"peilgebied\"][[\"code\", \"nen3610id\", \"globalid\", \"geometry\"]]\n",
    "Rijnland[\"peilgebied\"] = gpd.GeoDataFrame(Rijnland[\"peilgebied\"], geometry=\"geometry\")\n",
    "Rijnland[\"peilgebied\"] = Rijnland[\"peilgebied\"].set_crs(\"EPSG:28992\")"
   ]
  },
  {
   "cell_type": "code",
   "execution_count": null,
   "id": "19",
   "metadata": {},
   "outputs": [],
   "source": [
    "streefpeil = pg_sp[[\"waterhoogte\", \"globalid\"]]\n",
    "\n",
    "streefpeil[\"geometry\"] = np.nan\n",
    "streefpeil = gpd.GeoDataFrame(streefpeil)\n",
    "Rijnland[\"streefpeil\"] = streefpeil"
   ]
  },
  {
   "cell_type": "code",
   "execution_count": null,
   "id": "20",
   "metadata": {},
   "outputs": [],
   "source": [
    "# delete irrelvant data\n",
    "variables = [\"peilgebiedpraktijk\", \"peilgebiedvigerend\", \"peilafwijkinggebied\"]\n",
    "\n",
    "for variable in variables:\n",
    "    if str(variable) in Rijnland:\n",
    "        del Rijnland[variable]"
   ]
  },
  {
   "cell_type": "code",
   "execution_count": null,
   "id": "21",
   "metadata": {},
   "outputs": [],
   "source": [
    "Rijnland[\"peilgebied\"].plot()"
   ]
  },
  {
   "cell_type": "markdown",
   "id": "22",
   "metadata": {},
   "source": [
    "### Check for the correct keys and columns"
   ]
  },
  {
   "cell_type": "code",
   "execution_count": null,
   "id": "23",
   "metadata": {},
   "outputs": [],
   "source": [
    "show_layers_and_columns(waterschap=Rijnland)"
   ]
  },
  {
   "cell_type": "markdown",
   "id": "24",
   "metadata": {},
   "source": [
    "### Store data"
   ]
  },
  {
   "cell_type": "code",
   "execution_count": null,
   "id": "25",
   "metadata": {},
   "outputs": [],
   "source": []
  },
  {
   "cell_type": "code",
   "execution_count": null,
   "id": "26",
   "metadata": {},
   "outputs": [],
   "source": [
    "# Check if the directory exists\n",
    "if not os.path.exists(output_gpkg_path):\n",
    "    # If it doesn't exist, create it\n",
    "    os.makedirs(output_gpkg_path)\n",
    "\n",
    "store_data(waterschap=Rijnland, output_gpkg_path=output_gpkg_path + \"/Rijnland\")"
   ]
  },
  {
   "cell_type": "code",
   "execution_count": null,
   "id": "27",
   "metadata": {},
   "outputs": [],
   "source": []
  },
  {
   "cell_type": "code",
   "execution_count": null,
   "id": "28",
   "metadata": {},
   "outputs": [],
   "source": []
  },
  {
   "cell_type": "code",
   "execution_count": null,
   "id": "29",
   "metadata": {},
   "outputs": [],
   "source": []
  },
  {
   "cell_type": "code",
   "execution_count": null,
   "id": "30",
   "metadata": {},
   "outputs": [],
   "source": []
  },
  {
   "cell_type": "code",
   "execution_count": null,
   "id": "31",
   "metadata": {},
   "outputs": [],
   "source": []
  },
  {
   "cell_type": "code",
   "execution_count": null,
   "id": "32",
   "metadata": {},
   "outputs": [],
   "source": []
  },
  {
   "cell_type": "code",
   "execution_count": null,
   "id": "33",
   "metadata": {},
   "outputs": [],
   "source": []
  },
  {
   "cell_type": "code",
   "execution_count": null,
   "id": "34",
   "metadata": {},
   "outputs": [],
   "source": []
  },
  {
   "cell_type": "code",
   "execution_count": null,
   "id": "35",
   "metadata": {},
   "outputs": [],
   "source": []
  },
  {
   "cell_type": "code",
   "execution_count": null,
   "id": "36",
   "metadata": {},
   "outputs": [],
   "source": []
  },
  {
   "cell_type": "code",
   "execution_count": null,
   "id": "37",
   "metadata": {},
   "outputs": [],
   "source": []
  },
  {
   "cell_type": "code",
   "execution_count": null,
   "id": "38",
   "metadata": {},
   "outputs": [],
   "source": []
  }
 ],
 "metadata": {
  "kernelspec": {
   "display_name": "Routing",
   "language": "python",
   "name": "routing"
  },
  "language_info": {
   "codemirror_mode": {
    "name": "ipython",
    "version": 3
   },
   "file_extension": ".py",
   "mimetype": "text/x-python",
   "name": "python",
   "nbconvert_exporter": "python",
   "pygments_lexer": "ipython3",
   "version": "3.9.13"
  }
 },
 "nbformat": 4,
 "nbformat_minor": 5
}
