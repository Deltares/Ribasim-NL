{
 "cells": [
  {
   "cell_type": "code",
   "execution_count": null,
   "id": "065338fd-62d6-480e-8c80-8bc4b101846b",
   "metadata": {},
   "outputs": [],
   "source": [
    "#import packages and functions\n",
    "import numpy as np\n",
    "import matplotlib.pyplot as plt\n",
    "import pandas as pd\n",
    "import geopandas as gpd\n",
    "import os\n",
    "import fiona\n",
    "\n",
    "import shapely\n",
    "from shapely.validation import make_valid\n"
   ]
  },
  {
   "cell_type": "code",
   "execution_count": null,
   "id": "3f5aaa20-7965-4aa7-bf24-79965d87edb1",
   "metadata": {},
   "outputs": [],
   "source": [
    "from general_functions import *"
   ]
  },
  {
   "cell_type": "code",
   "execution_count": null,
   "id": "cbbec2b5-c309-4a42-a914-dd33c2da3610",
   "metadata": {},
   "outputs": [],
   "source": [
    "pd.set_option('display.max_columns', None)"
   ]
  },
  {
   "cell_type": "code",
   "execution_count": null,
   "id": "e7bb775e-cc57-4586-a13c-8d9ba05ace6b",
   "metadata": {},
   "outputs": [],
   "source": [
    "#define relative paths\n",
    "waterschap = 'Rijnland'\n",
    "path_Rijnland = '..\\..\\Data_preprocessed\\Waterschappen\\Rijnland\\DataRijnland\\DataRijnland.gpkg'\n",
    "output_gpkg_path = \"../../Data_postprocessed/Waterschappen/Rijnland\"\n"
   ]
  },
  {
   "cell_type": "code",
   "execution_count": null,
   "id": "ca6ddcd9-e960-4b5f-ba10-4d222c16a843",
   "metadata": {},
   "outputs": [],
   "source": [
    "Rijnland = read_gpkg_layers(gpkg_path = path_Rijnland, \n",
    "                        variables = ['stuw', \n",
    "                                     'gemaal', \n",
    "                                     'afsluitmiddel',\n",
    "                                     'duikersifonhevel',\n",
    "                                     'hydroobject',\n",
    "                                     'peilgebiedvigerend',\n",
    "                                     'peilgebiedpraktijk',\n",
    "                                     'peilafwijkinggebied',\n",
    "                                     'streefpeil']) \n",
    "                                     "
   ]
  },
  {
   "cell_type": "markdown",
   "id": "ffeed567-f858-4e46-83ff-89b7d7ea9b6d",
   "metadata": {},
   "source": [
    "# Rijnland"
   ]
  },
  {
   "cell_type": "code",
   "execution_count": null,
   "id": "01dda03c-5a50-4bde-a655-7ed14c85a8d3",
   "metadata": {},
   "outputs": [],
   "source": [
    "fig, ax = plt.subplots()\n",
    "Rijnland['peilgebiedvigerend'].plot(ax=ax, color='blue')\n",
    "Rijnland['peilgebiedpraktijk'].plot(ax=ax, color='orange')\n",
    "Rijnland['peilafwijkinggebied'].plot(ax=ax, color='green')"
   ]
  },
  {
   "cell_type": "code",
   "execution_count": null,
   "id": "e58ee099-54b3-415b-8222-9545776a7a61",
   "metadata": {},
   "outputs": [],
   "source": [
    "Rijnland['stuw'] = Rijnland['stuw'][['code', 'nen3610id', 'globalid', 'geometry']]\n",
    "Rijnland['gemaal'] = Rijnland['gemaal'][['code', 'nen3610id', 'globalid', 'geometry']]\n",
    "Rijnland['afsluitmiddel'] = Rijnland['afsluitmiddel'][['code', 'nen3610id', 'globalid', 'geometry']]\n",
    "Rijnland['hydroobject'] = Rijnland['hydroobject'][['code', 'nen3610id', 'globalid', 'geometry']]\n",
    "Rijnland['duikersifonhevel'] = Rijnland['duikersifonhevel'][['code', 'nen3610id', 'globalid', 'geometry']]\n",
    "Rijnland['peilgebiedpraktijk'] = Rijnland['peilgebiedpraktijk'][['code', 'nen3610id', 'globalid', 'geometry']]\n",
    "Rijnland['peilafwijkinggebied'] = Rijnland['peilafwijkinggebied'][['code', 'nen3610id', 'globalid', 'geometry']]\n",
    "Rijnland['peilgebiedvigerend'] = Rijnland['peilgebiedvigerend'][['code', 'nen3610id', 'globalid', 'geometry']]\n"
   ]
  },
  {
   "cell_type": "code",
   "execution_count": null,
   "id": "023a704c-685e-4fe9-9745-39a5ed461a03",
   "metadata": {},
   "outputs": [],
   "source": [
    "#fix geometries\n",
    "Rijnland['peilgebiedvigerend']['geometry'] = Rijnland['peilgebiedvigerend'].buffer(distance = 0)\n",
    "Rijnland['peilgebiedpraktijk']['geometry'] = Rijnland['peilgebiedpraktijk'].buffer(distance = 0)\n",
    "Rijnland['peilafwijkinggebied']['geometry'] = Rijnland['peilafwijkinggebied'].buffer(distance = 0)"
   ]
  },
  {
   "cell_type": "code",
   "execution_count": null,
   "id": "eb236dc1-11b3-42c4-99e9-fecd568bec2b",
   "metadata": {},
   "outputs": [],
   "source": [
    "# peilgebied = burn_in_peilgebieden(base_layer = Rijnland['peilgebiedpraktijk'], \n",
    "#                                   overlay_layer = Rijnland['peilafwijkinggebied'],\n",
    "#                                   plot = True)\n",
    "# Rijnland['peilgebied'] = gpd.GeoDataFrame(peilgebied)\n",
    "\n",
    "peilgebied = burn_in_peilgebieden(base_layer = Rijnland['peilgebiedvigerend'], \n",
    "                                  overlay_layer = Rijnland['peilgebiedpraktijk'],\n",
    "                                  plot = True)\n"
   ]
  },
  {
   "cell_type": "code",
   "execution_count": null,
   "id": "05098a9e-9b5a-487e-8b3e-7f3d82bda74e",
   "metadata": {},
   "outputs": [],
   "source": [
    "peilgebied = gpd.GeoDataFrame(peilgebied)\n",
    "peilgebied = peilgebied[peilgebied.geometry.type.isin(['Polygon', 'MultiPolygon'])] #only select polygons\n",
    "\n",
    "Rijnland['peilgebied'] = gpd.GeoDataFrame(peilgebied)"
   ]
  },
  {
   "cell_type": "code",
   "execution_count": null,
   "id": "5339a8c5-8c43-4ccd-9008-103fc7e7058e",
   "metadata": {},
   "outputs": [],
   "source": [
    "gpd.GeoDataFrame(peilgebied).to_file('Rijnland_test_kan_weg.shp')\n",
    "# peilgebied"
   ]
  },
  {
   "cell_type": "code",
   "execution_count": null,
   "id": "096a2293-cd78-4c8d-b0e8-bbbe559a8155",
   "metadata": {},
   "outputs": [],
   "source": [
    "# # Explode the multipolygons into separate parts\n",
    "# exploded_peilgebied = Rijnland['peilgebied'].explode('geometry')\n",
    "\n",
    "# # Check if each part is a single polygon\n",
    "# is_simple_polygon = exploded_peilgebied['geometry'].apply(lambda geom: geom.type == 'Polygon')\n",
    "\n",
    "# # Select only the simple polygons from the exploded GeoDataFrame\n",
    "# simple_peilgebied = exploded_peilgebied[is_simple_polygon]\n",
    "# simple_peilgebied"
   ]
  },
  {
   "cell_type": "code",
   "execution_count": null,
   "id": "6bea1764-0459-4d49-9d48-c5b85a6c3480",
   "metadata": {},
   "outputs": [],
   "source": [
    "# #convert multi polygon to single polygon\n",
    "# Rijnland['peilgebied'] = Rijnland['peilgebied'].explode()\n",
    "# Rijnland['peilgebied']['nen3610id'] = 'dummy_nen3610id_duikersifonhevel_' + Rijnland['peilgebied'].index.astype(str)\n"
   ]
  },
  {
   "cell_type": "code",
   "execution_count": null,
   "id": "9efaf904-e94c-4c87-aeb6-c04d4f183e27",
   "metadata": {},
   "outputs": [],
   "source": [
    "Rijnland['streefpeil'].peilgebiedpraktijkid.fillna(value=Rijnland['streefpeil']['peilgebiedvigerendid'], inplace=True)\n",
    "# Rijnland['streefpeil'].drop_duplicates(subset=['peilgebiedpraktijkid'], inplace=True)"
   ]
  },
  {
   "cell_type": "code",
   "execution_count": null,
   "id": "1511cf73-aa2b-423f-be87-c95fb0d9bdbb",
   "metadata": {},
   "outputs": [],
   "source": [
    "#get rid of irrelevant streefpeilen, which otherwise results in too many overlapped peilgebieden\n",
    "filter_condition = Rijnland['streefpeil']['soortstreefpeil'].isin(['omer', 'ondergrens']) #'omer' for all rows where something of zomer, Zomer, dynamische zomer, etc, is used\n",
    "kept_rows = Rijnland['streefpeil'][filter_condition]\n",
    "\n",
    "other_rows = Rijnland['streefpeil'][~filter_condition].drop_duplicates(subset=['peilgebiedpraktijkid'])\n",
    "Rijnland['streefpeil'] = pd.concat([kept_rows, other_rows])"
   ]
  },
  {
   "cell_type": "code",
   "execution_count": null,
   "id": "7bdd80ad-650c-4e9f-a3bd-d675c4544830",
   "metadata": {},
   "outputs": [],
   "source": [
    "# Rijnland['streefpeil'].peilafwijkinggebiedid.fillna(value=Rijnland['streefpeil']['peilgebiedpraktijkid'], inplace=True)\n",
    "# Rijnland['streefpeil'].peilgebiedpraktijkid.fillna(value=Rijnland['streefpeil']['peilgebiedvigerendid'], inplace=True)\n",
    "\n",
    "pg_sp = pd.merge(left = peilgebied,\n",
    "                      right = Rijnland['streefpeil'],\n",
    "                      left_on = 'globalid',\n",
    "                      right_on = 'peilgebiedpraktijkid',\n",
    "                      suffixes = ('', '_streefpeil'))\n",
    "\n",
    "pg_sp['geometry'] = gpd.GeoDataFrame(geometry = pg_sp['geometry']).reset_index(drop=True)\n",
    "# pg_sp = pg_sp.explode('geometry',ignore_index=True)"
   ]
  },
  {
   "cell_type": "code",
   "execution_count": null,
   "id": "fb1f6f57-60e7-4122-9648-5a0883933dd1",
   "metadata": {},
   "outputs": [],
   "source": [
    "# gpd.GeoDataFrame(pg_sp.loc[pg_sp.code != 'PBS_WW-25AS'], geometry='geometry').set_crs('EPSG:28992').to_file('peilgebieden_Rijnland.gpkg', driver='GPKG')"
   ]
  },
  {
   "cell_type": "code",
   "execution_count": null,
   "id": "dbb4827e-17ad-461f-8101-f97f38b2b31e",
   "metadata": {},
   "outputs": [],
   "source": [
    "#there are duplicate codes, nen3610ids and globalids due to the exploded function. Rename these.\n",
    "pg_sp['nen3610id'] = 'dummy_nen3610id_peilgebied_' + pg_sp.index.astype(str)\n",
    "pg_sp['code'] = 'dummy_code_peilgebied_' + pg_sp.index.astype(str)\n",
    "pg_sp['globalid'] = 'dummy_globalid_peilgebied_' + pg_sp.index.astype(str)\n",
    "\n",
    "Rijnland['peilgebied'] = pg_sp\n",
    "Rijnland['peilgebied'] = Rijnland['peilgebied'][['code', 'nen3610id', 'globalid', 'geometry']]\n",
    "Rijnland['peilgebied'] = gpd.GeoDataFrame(Rijnland['peilgebied'], geometry = 'geometry')\n",
    "Rijnland['peilgebied'] = Rijnland['peilgebied'].set_crs('EPSG:28992')"
   ]
  },
  {
   "cell_type": "code",
   "execution_count": null,
   "id": "67ba9685-90b6-4389-818f-a003d9d41dc8",
   "metadata": {},
   "outputs": [],
   "source": [
    "streefpeil = pg_sp[['waterhoogte', 'globalid']]\n",
    "\n",
    "streefpeil['geometry'] = np.nan\n",
    "streefpeil = gpd.GeoDataFrame(streefpeil)\n",
    "Rijnland['streefpeil'] = streefpeil"
   ]
  },
  {
   "cell_type": "code",
   "execution_count": null,
   "id": "42dc4ba1-3ccb-4b0f-a075-77aec9b85a07",
   "metadata": {},
   "outputs": [],
   "source": [
    "#delete irrelvant data\n",
    "variables = ['peilgebiedpraktijk', 'peilgebiedvigerend', 'peilafwijkinggebied']\n",
    "\n",
    "for variable in variables:\n",
    "    if str(variable) in Rijnland:\n",
    "        del Rijnland[variable]"
   ]
  },
  {
   "cell_type": "code",
   "execution_count": null,
   "id": "9ea24ea8-67ae-4cff-ac30-6492dcd80c41",
   "metadata": {},
   "outputs": [],
   "source": [
    "Rijnland['peilgebied'].plot()"
   ]
  },
  {
   "cell_type": "markdown",
   "id": "21ccbba5-8e59-4134-9209-db988bc5c3d5",
   "metadata": {},
   "source": [
    "### Check for the correct keys and columns"
   ]
  },
  {
   "cell_type": "code",
   "execution_count": null,
   "id": "b064a376-0396-4c93-a2ad-eca3eea54598",
   "metadata": {},
   "outputs": [],
   "source": [
    "show_layers_and_columns(waterschap = Rijnland)"
   ]
  },
  {
   "cell_type": "markdown",
   "id": "e4e74b4c-17ba-4829-9531-248f4d74cfad",
   "metadata": {},
   "source": [
    "### Store data"
   ]
  },
  {
   "cell_type": "code",
   "execution_count": null,
   "id": "f198edc5-7466-4668-b980-adabdf7c7c94",
   "metadata": {},
   "outputs": [],
   "source": []
  },
  {
   "cell_type": "code",
   "execution_count": null,
   "id": "556aea48-a819-4f70-8e22-6c843354a46d",
   "metadata": {},
   "outputs": [],
   "source": [
    "# Check if the directory exists\n",
    "if not os.path.exists(output_gpkg_path):\n",
    "    # If it doesn't exist, create it\n",
    "    os.makedirs(output_gpkg_path)\n",
    "    \n",
    "store_data(waterschap = Rijnland, \n",
    "           output_gpkg_path = output_gpkg_path + '/Rijnland')\n"
   ]
  },
  {
   "cell_type": "code",
   "execution_count": null,
   "id": "48b0320b-258c-44c8-aff2-83153db1a512",
   "metadata": {},
   "outputs": [],
   "source": []
  },
  {
   "cell_type": "code",
   "execution_count": null,
   "id": "311db7da-e645-47f2-af06-0bdf23a5589b",
   "metadata": {},
   "outputs": [],
   "source": []
  },
  {
   "cell_type": "code",
   "execution_count": null,
   "id": "0b93668e-c539-426a-9af2-99d36af00334",
   "metadata": {},
   "outputs": [],
   "source": []
  },
  {
   "cell_type": "code",
   "execution_count": null,
   "id": "5a09e840-7204-4aac-b825-c66394c60775",
   "metadata": {},
   "outputs": [],
   "source": []
  },
  {
   "cell_type": "code",
   "execution_count": null,
   "id": "622a1518-d12d-4b70-ac03-0d251ee09861",
   "metadata": {},
   "outputs": [],
   "source": []
  },
  {
   "cell_type": "code",
   "execution_count": null,
   "id": "c0cf20d1-b76c-4e07-ab7b-9976313f8dad",
   "metadata": {},
   "outputs": [],
   "source": []
  },
  {
   "cell_type": "code",
   "execution_count": null,
   "id": "ace74b96-2316-4b02-b3ca-9e2b9d3c18aa",
   "metadata": {},
   "outputs": [],
   "source": []
  },
  {
   "cell_type": "code",
   "execution_count": null,
   "id": "92551bfe-2672-4c85-988e-e19a320b8cee",
   "metadata": {},
   "outputs": [],
   "source": []
  },
  {
   "cell_type": "code",
   "execution_count": null,
   "id": "70c906ed-d0b1-4ccb-b527-775d1c7e1e48",
   "metadata": {},
   "outputs": [],
   "source": []
  },
  {
   "cell_type": "code",
   "execution_count": null,
   "id": "ed6d57c1-3127-43a2-9de0-29cbf5846bd1",
   "metadata": {},
   "outputs": [],
   "source": []
  },
  {
   "cell_type": "code",
   "execution_count": null,
   "id": "c562c790-2afa-493d-a86d-c438deae6470",
   "metadata": {},
   "outputs": [],
   "source": []
  },
  {
   "cell_type": "code",
   "execution_count": null,
   "id": "0090fd91-40eb-48e1-aa99-2360a13a708e",
   "metadata": {},
   "outputs": [],
   "source": []
  }
 ],
 "metadata": {
  "kernelspec": {
   "display_name": "Routing",
   "language": "python",
   "name": "routing"
  },
  "language_info": {
   "codemirror_mode": {
    "name": "ipython",
    "version": 3
   },
   "file_extension": ".py",
   "mimetype": "text/x-python",
   "name": "python",
   "nbconvert_exporter": "python",
   "pygments_lexer": "ipython3",
   "version": "3.9.13"
  }
 },
 "nbformat": 4,
 "nbformat_minor": 5
}
