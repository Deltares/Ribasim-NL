{
 "cells": [
  {
   "cell_type": "code",
   "execution_count": null,
   "id": "065338fd-62d6-480e-8c80-8bc4b101846b",
   "metadata": {},
   "outputs": [],
   "source": [
    "#import packages and functions\n",
    "import os\n",
    "\n",
    "import fiona\n",
    "import geopandas as gpd\n",
    "import matplotlib.pyplot as plt\n",
    "import numpy as np\n",
    "import pandas as pd\n",
    "import shapely\n",
    "from shapely.validation import make_valid\n"
   ]
  },
  {
   "cell_type": "code",
   "execution_count": null,
   "id": "3f5aaa20-7965-4aa7-bf24-79965d87edb1",
   "metadata": {},
   "outputs": [],
   "source": [
    "from general_functions import *"
   ]
  },
  {
   "cell_type": "code",
   "execution_count": null,
   "id": "cbbec2b5-c309-4a42-a914-dd33c2da3610",
   "metadata": {},
   "outputs": [],
   "source": [
    "pd.set_option('display.max_columns', None)"
   ]
  },
  {
   "cell_type": "code",
   "execution_count": null,
   "id": "e7bb775e-cc57-4586-a13c-8d9ba05ace6b",
   "metadata": {},
   "outputs": [],
   "source": [
    "#define relative paths\n",
    "waterschap = 'Scheldestromen'\n",
    "path_Scheldestromen = '..\\..\\Data_preprocessed\\Waterschappen\\Scheldestromen\\Scheldestromen.gpkg'\n",
    "output_gpkg_path = \"../../Data_postprocessed/Waterschappen/Scheldestromen\"\n"
   ]
  },
  {
   "cell_type": "code",
   "execution_count": null,
   "id": "1f39bd82-2fed-41d6-a4f7-979a9a2120bd",
   "metadata": {},
   "outputs": [],
   "source": [
    "Scheldestromen = read_gpkg_layers(gpkg_path = path_Scheldestromen, \n",
    "                                  variables = ['stuw', \n",
    "                                               'gemaal', \n",
    "                                               # 'afsluitmiddel',\n",
    "                                               'duikersifonhevel',\n",
    "                                               'hydroobject',\n",
    "                                               # 'peilgebiedvigerend',\n",
    "                                               # 'peilgebiedpraktijk',\n",
    "                                               # 'peilafwijkinggebied',\n",
    "                                               # 'streefpeil',\n",
    "                                              ],\n",
    "                                 engine = 'pyogrio') \n",
    "                               \n",
    "#the peilgebieden and streefpeilen do not contain overlapping values. Scheldestromen has delivered additional files as shapes\n",
    "Scheldestromen['peilgebied'] = gpd.read_file('..\\..\\Data_preprocessed\\Waterschappen\\Scheldestromen\\Praktijkpeilgebieden_20231204.shp')"
   ]
  },
  {
   "cell_type": "code",
   "execution_count": null,
   "id": "4a7d78f8-7605-4aba-b4c6-b17b81d4f5df",
   "metadata": {},
   "outputs": [],
   "source": [
    "Scheldestromen['peilgebied']['code'] = Scheldestromen['peilgebied']['GPGIDENT']\n",
    "Scheldestromen['peilgebied']['globalid'] = Scheldestromen['peilgebied']['GLOBALID'] \n",
    "Scheldestromen['peilgebied']['waterhoogte'] = Scheldestromen['peilgebied']['GPGZP'] \n",
    "Scheldestromen['peilgebied']['nen3610id'] = 'dummy_nen3610id_peilgebied_' + Scheldestromen['peilgebied'].index.astype(str)\n",
    "\n",
    "Scheldestromen['streefpeil'] = gpd.GeoDataFrame()\n",
    "Scheldestromen['streefpeil']['waterhoogte'] = Scheldestromen['peilgebied']['waterhoogte']\n",
    "Scheldestromen['streefpeil']['globalid'] = Scheldestromen['peilgebied']['globalid']\n",
    "Scheldestromen['streefpeil']['geometry'] = np.nan\n",
    "\n",
    "\n",
    "Scheldestromen['peilgebied'] = Scheldestromen['peilgebied'][['code', 'nen3610id', 'globalid', 'geometry']]"
   ]
  },
  {
   "cell_type": "code",
   "execution_count": null,
   "id": "0c14883a-873b-44ee-b9d3-57d7da0b67c3",
   "metadata": {},
   "outputs": [],
   "source": [
    "#convert multiz points to points\n",
    "Scheldestromen['stuw'].geometry = Scheldestromen['stuw'].centroid\n",
    "Scheldestromen['gemaal'].geometry = Scheldestromen['gemaal'].centroid\n"
   ]
  },
  {
   "cell_type": "markdown",
   "id": "ffeed567-f858-4e46-83ff-89b7d7ea9b6d",
   "metadata": {},
   "source": [
    "# Scheldestromen"
   ]
  },
  {
   "cell_type": "code",
   "execution_count": null,
   "id": "cbe8f365-8b00-4824-b04c-b976f9a43f05",
   "metadata": {},
   "outputs": [],
   "source": [
    "#stuw\n",
    "Scheldestromen['stuw'] = Scheldestromen['stuw'][['code', 'nen3610id', 'globalid', 'geometry']]\n",
    "\n",
    "#gemaal\n",
    "Scheldestromen['gemaal'] = Scheldestromen['gemaal'][['code', 'nen3610id', 'globalid', 'geometry']]\n",
    "Scheldestromen['gemaal']['code'] = 'dummy_code_gemaal_' + Scheldestromen['gemaal'].index.astype(str)\n",
    "\n",
    "#hydroobject\n",
    "Scheldestromen['hydroobject']['code'] = Scheldestromen['hydroobject']['naam']\n",
    "Scheldestromen['hydroobject'] = Scheldestromen['hydroobject'][['code', 'nen3610id', 'globalid', 'geometry']]\n",
    "\n",
    "#duikersifonhevel\n",
    "Scheldestromen['duikersifonhevel'] = Scheldestromen['duikersifonhevel'][['code', 'nen3610id', 'globalid', 'geometry']]\n"
   ]
  },
  {
   "cell_type": "code",
   "execution_count": null,
   "id": "b3f70ee4-d645-4114-b5e2-2dd573374d6e",
   "metadata": {},
   "outputs": [],
   "source": [
    "# pd.merge(left = Scheldestromen['peilgebiedpraktijk'],\n",
    "#          right = Scheldestromen['streefpeil'],\n",
    "#          left_on = 'globalid',\n",
    "#          right_on = 'peilgebiedpraktijkid')"
   ]
  },
  {
   "cell_type": "code",
   "execution_count": null,
   "id": "e58ee099-54b3-415b-8222-9545776a7a61",
   "metadata": {},
   "outputs": [],
   "source": [
    "Scheldestromen['stuw'] = Scheldestromen['stuw'][['code', 'nen3610id', 'globalid', 'geometry']]\n",
    "Scheldestromen['gemaal'] = Scheldestromen['gemaal'][['code', 'nen3610id', 'globalid', 'geometry']]\n",
    "Scheldestromen['hydroobject'] = Scheldestromen['hydroobject'][['code', 'nen3610id', 'globalid', 'geometry']]\n",
    "Scheldestromen['duikersifonhevel'] = Scheldestromen['duikersifonhevel'][['code', 'nen3610id', 'globalid', 'geometry']]\n"
   ]
  },
  {
   "cell_type": "code",
   "execution_count": null,
   "id": "023a704c-685e-4fe9-9745-39a5ed461a03",
   "metadata": {},
   "outputs": [],
   "source": [
    "# Scheldestromen['peilgebiedpraktijk']['geometry'] = Scheldestromen['peilgebiedpraktijk'].buffer(distance = 0)\n",
    "# Scheldestromen['peilafwijkinggebied']['geometry'] = Scheldestromen['peilafwijkinggebied'].buffer(distance = 0)"
   ]
  },
  {
   "cell_type": "code",
   "execution_count": null,
   "id": "4d5d490e-5bba-4d16-95a0-a17880adc0d9",
   "metadata": {},
   "outputs": [],
   "source": [
    "# peilgebied = pd.merge(left = Scheldestromen['streefpeil'],\n",
    "#                       right = Scheldestromen['peilgebiedpraktijk'],\n",
    "#                       left_on = 'peilgebiedpraktijkid',\n",
    "#                       right_on = 'globalid')"
   ]
  },
  {
   "cell_type": "code",
   "execution_count": null,
   "id": "cd21bcac-8d25-4d47-ad0a-c7338e6e6653",
   "metadata": {},
   "outputs": [],
   "source": [
    "# streefpeil = gpd.GeoDataFrame()\n",
    "# streefpeil['waterhoogte'] = peilgebied['waterhoogte']\n",
    "# streefpeil['globalid'] = peilgebied['peilgebiedpraktijkid']\n",
    "# streefpeil['geometry'] = np.nan\n",
    "# Scheldestromen['streefpeil'] = gpd.GeoDataFrame(streefpeil)"
   ]
  },
  {
   "cell_type": "code",
   "execution_count": null,
   "id": "88e9543c-2dbe-4ebf-9423-b38daeeaa004",
   "metadata": {},
   "outputs": [],
   "source": [
    "# Scheldestromen['peilgebied'] = gpd.GeoDataFrame()\n",
    "# Scheldestromen['peilgebied'][['code', 'nen3610id', 'globalid', 'geometry']] = peilgebied[['code', 'nen3610id_y', 'globalid_y', 'geometry_y']]"
   ]
  },
  {
   "cell_type": "code",
   "execution_count": null,
   "id": "42dc4ba1-3ccb-4b0f-a075-77aec9b85a07",
   "metadata": {},
   "outputs": [],
   "source": [
    "#delete irrelvant data\n",
    "variables = ['peilgebiedpraktijk', 'peilgebiedvigerend', 'peilafwijkinggebied']\n",
    "\n",
    "for variable in variables:\n",
    "    if str(variable) in Scheldestromen:\n",
    "        del Scheldestromen[variable]"
   ]
  },
  {
   "cell_type": "markdown",
   "id": "21ccbba5-8e59-4134-9209-db988bc5c3d5",
   "metadata": {},
   "source": [
    "### Check for the correct keys and columns"
   ]
  },
  {
   "cell_type": "code",
   "execution_count": null,
   "id": "b064a376-0396-4c93-a2ad-eca3eea54598",
   "metadata": {},
   "outputs": [],
   "source": [
    "show_layers_and_columns(waterschap = Scheldestromen)"
   ]
  },
  {
   "cell_type": "code",
   "execution_count": null,
   "id": "f9d38f6f-42df-45b4-a1d2-b1a779c104d8",
   "metadata": {},
   "outputs": [],
   "source": [
    "for i in range(len(Scheldestromen['peilgebied'])):    \n",
    "    if type(Scheldestromen['peilgebied'].loc[i, 'geometry']) == Polygon:\n",
    "        Scheldestromen['peilgebied'].loc[i, 'geometry'].plot()"
   ]
  },
  {
   "cell_type": "code",
   "execution_count": null,
   "id": "45564e81-4fcf-4479-b406-8142b4a64ad1",
   "metadata": {},
   "outputs": [],
   "source": [
    "merged = pd.merge(left = Scheldestromen['peilgebied'],\n",
    "         right = Scheldestromen['streefpeil'],\n",
    "         on = 'globalid')\n",
    "\n",
    "merged[merged.waterhoogte.isna()]\n"
   ]
  },
  {
   "cell_type": "markdown",
   "id": "e4e74b4c-17ba-4829-9531-248f4d74cfad",
   "metadata": {},
   "source": [
    "### Store data"
   ]
  },
  {
   "cell_type": "code",
   "execution_count": null,
   "id": "556aea48-a819-4f70-8e22-6c843354a46d",
   "metadata": {},
   "outputs": [],
   "source": [
    "# Check if the directory exists\n",
    "if not os.path.exists(output_gpkg_path):\n",
    "    # If it doesn't exist, create it\n",
    "    os.makedirs(output_gpkg_path)\n",
    "    \n",
    "store_data(waterschap = Scheldestromen, \n",
    "           output_gpkg_path = output_gpkg_path + '/Scheldestromen')\n"
   ]
  },
  {
   "cell_type": "raw",
   "id": "d6b186d5-c907-4b19-9ee2-c7222476856a",
   "metadata": {},
   "source": []
  },
  {
   "cell_type": "code",
   "execution_count": null,
   "id": "fedb4c6e-49c2-44f4-88f0-0e1ce4802bc7",
   "metadata": {},
   "outputs": [],
   "source": [
    "Scheldestromen['hydroobject']"
   ]
  },
  {
   "cell_type": "code",
   "execution_count": null,
   "id": "af637fd1-1d33-4eb2-92c7-51c29e477404",
   "metadata": {},
   "outputs": [],
   "source": []
  }
 ],
 "metadata": {
  "kernelspec": {
   "display_name": "Routing",
   "language": "python",
   "name": "routing"
  },
  "language_info": {
   "codemirror_mode": {
    "name": "ipython",
    "version": 3
   },
   "file_extension": ".py",
   "mimetype": "text/x-python",
   "name": "python",
   "nbconvert_exporter": "python",
   "pygments_lexer": "ipython3",
   "version": "3.9.13"
  }
 },
 "nbformat": 4,
 "nbformat_minor": 5
}
