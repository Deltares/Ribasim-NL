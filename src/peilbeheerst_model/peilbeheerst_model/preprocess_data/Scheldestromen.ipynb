{
 "cells": [
  {
   "cell_type": "code",
   "execution_count": 1,
   "id": "065338fd-62d6-480e-8c80-8bc4b101846b",
   "metadata": {},
   "outputs": [],
   "source": [
    "#import packages and functions\n",
    "import numpy as np\n",
    "import matplotlib.pyplot as plt\n",
    "import pandas as pd\n",
    "import geopandas as gpd\n",
    "import os\n",
    "import fiona\n",
    "\n",
    "import shapely\n",
    "from shapely.validation import make_valid\n"
   ]
  },
  {
   "cell_type": "code",
   "execution_count": 2,
   "id": "3f5aaa20-7965-4aa7-bf24-79965d87edb1",
   "metadata": {},
   "outputs": [],
   "source": [
    "from general_functions import *"
   ]
  },
  {
   "cell_type": "code",
   "execution_count": 3,
   "id": "cbbec2b5-c309-4a42-a914-dd33c2da3610",
   "metadata": {},
   "outputs": [],
   "source": [
    "pd.set_option('display.max_columns', None)"
   ]
  },
  {
   "cell_type": "code",
   "execution_count": 4,
   "id": "e7bb775e-cc57-4586-a13c-8d9ba05ace6b",
   "metadata": {},
   "outputs": [],
   "source": [
    "#define relative paths\n",
    "waterschap = 'Scheldestromen'\n",
    "path_Scheldestromen = '..\\..\\Data_preprocessed\\Waterschappen\\Scheldestromen\\Scheldestromen.gpkg'\n",
    "output_gpkg_path = \"../../Data_postprocessed/Waterschappen/Scheldestromen\"\n"
   ]
  },
  {
   "cell_type": "code",
   "execution_count": 5,
   "id": "1f39bd82-2fed-41d6-a4f7-979a9a2120bd",
   "metadata": {},
   "outputs": [],
   "source": [
    "Scheldestromen = read_gpkg_layers(gpkg_path = path_Scheldestromen, \n",
    "                                  variables = ['stuw', \n",
    "                                               'gemaal', \n",
    "                                               # 'afsluitmiddel',\n",
    "                                               'duikersifonhevel',\n",
    "                                               'hydroobject',\n",
    "                                               # 'peilgebiedvigerend',\n",
    "                                               # 'peilgebiedpraktijk',\n",
    "                                               # 'peilafwijkinggebied',\n",
    "                                               # 'streefpeil',\n",
    "                                              ],\n",
    "                                 engine = 'pyogrio') \n",
    "                               \n",
    "#the peilgebieden and streefpeilen do not contain overlapping values. Scheldestromen has delivered additional files as shapes\n",
    "Scheldestromen['peilgebied'] = gpd.read_file('..\\..\\Data_preprocessed\\Waterschappen\\Scheldestromen\\Praktijkpeilgebieden_20231204.shp')"
   ]
  },
  {
   "cell_type": "code",
   "execution_count": 6,
   "id": "4a7d78f8-7605-4aba-b4c6-b17b81d4f5df",
   "metadata": {},
   "outputs": [
    {
     "name": "stderr",
     "output_type": "stream",
     "text": [
      "C:\\Users\\Bruijns\\AppData\\Local\\Temp\\ipykernel_2280\\2889691104.py:9: FutureWarning: You are adding a column named 'geometry' to a GeoDataFrame constructed without an active geometry column. Currently, this automatically sets the active geometry column to 'geometry' but in the future that will no longer happen. Instead, either provide geometry to the GeoDataFrame constructor (GeoDataFrame(... geometry=GeoSeries()) or use `set_geometry('geometry')` to explicitly set the active geometry column.\n",
      "  Scheldestromen['streefpeil']['geometry'] = np.nan\n"
     ]
    }
   ],
   "source": [
    "Scheldestromen['peilgebied']['code'] = Scheldestromen['peilgebied']['GPGIDENT']\n",
    "Scheldestromen['peilgebied']['globalid'] = Scheldestromen['peilgebied']['GLOBALID'] \n",
    "Scheldestromen['peilgebied']['waterhoogte'] = Scheldestromen['peilgebied']['GPGZP'] \n",
    "Scheldestromen['peilgebied']['nen3610id'] = 'dummy_nen3610id_peilgebied_' + Scheldestromen['peilgebied'].index.astype(str)\n",
    "\n",
    "Scheldestromen['streefpeil'] = gpd.GeoDataFrame()\n",
    "Scheldestromen['streefpeil']['waterhoogte'] = Scheldestromen['peilgebied']['waterhoogte']\n",
    "Scheldestromen['streefpeil']['globalid'] = Scheldestromen['peilgebied']['globalid']\n",
    "Scheldestromen['streefpeil']['geometry'] = np.nan\n",
    "\n",
    "\n",
    "Scheldestromen['peilgebied'] = Scheldestromen['peilgebied'][['code', 'nen3610id', 'globalid', 'geometry']]"
   ]
  },
  {
   "cell_type": "code",
   "execution_count": 7,
   "id": "0c14883a-873b-44ee-b9d3-57d7da0b67c3",
   "metadata": {},
   "outputs": [],
   "source": [
    "#convert multiz points to points\n",
    "Scheldestromen['stuw'].geometry = Scheldestromen['stuw'].centroid\n",
    "Scheldestromen['gemaal'].geometry = Scheldestromen['gemaal'].centroid\n"
   ]
  },
  {
   "cell_type": "markdown",
   "id": "ffeed567-f858-4e46-83ff-89b7d7ea9b6d",
   "metadata": {},
   "source": [
    "# Scheldestromen"
   ]
  },
  {
   "cell_type": "code",
   "execution_count": 8,
   "id": "cbe8f365-8b00-4824-b04c-b976f9a43f05",
   "metadata": {},
   "outputs": [],
   "source": [
    "#stuw\n",
    "Scheldestromen['stuw'] = Scheldestromen['stuw'][['code', 'nen3610id', 'globalid', 'geometry']]\n",
    "\n",
    "#gemaal\n",
    "Scheldestromen['gemaal'] = Scheldestromen['gemaal'][['code', 'nen3610id', 'globalid', 'geometry']]\n",
    "Scheldestromen['gemaal']['code'] = 'dummy_code_gemaal_' + Scheldestromen['gemaal'].index.astype(str)\n",
    "\n",
    "#hydroobject\n",
    "Scheldestromen['hydroobject']['code'] = Scheldestromen['hydroobject']['naam']\n",
    "Scheldestromen['hydroobject'] = Scheldestromen['hydroobject'][['code', 'nen3610id', 'globalid', 'geometry']]\n",
    "\n",
    "#duikersifonhevel\n",
    "Scheldestromen['duikersifonhevel'] = Scheldestromen['duikersifonhevel'][['code', 'nen3610id', 'globalid', 'geometry']]\n"
   ]
  },
  {
   "cell_type": "code",
   "execution_count": 9,
   "id": "b3f70ee4-d645-4114-b5e2-2dd573374d6e",
   "metadata": {},
   "outputs": [],
   "source": [
    "# pd.merge(left = Scheldestromen['peilgebiedpraktijk'],\n",
    "#          right = Scheldestromen['streefpeil'],\n",
    "#          left_on = 'globalid',\n",
    "#          right_on = 'peilgebiedpraktijkid')"
   ]
  },
  {
   "cell_type": "code",
   "execution_count": 10,
   "id": "e58ee099-54b3-415b-8222-9545776a7a61",
   "metadata": {},
   "outputs": [],
   "source": [
    "Scheldestromen['stuw'] = Scheldestromen['stuw'][['code', 'nen3610id', 'globalid', 'geometry']]\n",
    "Scheldestromen['gemaal'] = Scheldestromen['gemaal'][['code', 'nen3610id', 'globalid', 'geometry']]\n",
    "Scheldestromen['hydroobject'] = Scheldestromen['hydroobject'][['code', 'nen3610id', 'globalid', 'geometry']]\n",
    "Scheldestromen['duikersifonhevel'] = Scheldestromen['duikersifonhevel'][['code', 'nen3610id', 'globalid', 'geometry']]\n"
   ]
  },
  {
   "cell_type": "code",
   "execution_count": 11,
   "id": "023a704c-685e-4fe9-9745-39a5ed461a03",
   "metadata": {},
   "outputs": [],
   "source": [
    "# Scheldestromen['peilgebiedpraktijk']['geometry'] = Scheldestromen['peilgebiedpraktijk'].buffer(distance = 0)\n",
    "# Scheldestromen['peilafwijkinggebied']['geometry'] = Scheldestromen['peilafwijkinggebied'].buffer(distance = 0)"
   ]
  },
  {
   "cell_type": "code",
   "execution_count": 12,
   "id": "4d5d490e-5bba-4d16-95a0-a17880adc0d9",
   "metadata": {},
   "outputs": [],
   "source": [
    "# peilgebied = pd.merge(left = Scheldestromen['streefpeil'],\n",
    "#                       right = Scheldestromen['peilgebiedpraktijk'],\n",
    "#                       left_on = 'peilgebiedpraktijkid',\n",
    "#                       right_on = 'globalid')"
   ]
  },
  {
   "cell_type": "code",
   "execution_count": 13,
   "id": "cd21bcac-8d25-4d47-ad0a-c7338e6e6653",
   "metadata": {},
   "outputs": [],
   "source": [
    "# streefpeil = gpd.GeoDataFrame()\n",
    "# streefpeil['waterhoogte'] = peilgebied['waterhoogte']\n",
    "# streefpeil['globalid'] = peilgebied['peilgebiedpraktijkid']\n",
    "# streefpeil['geometry'] = np.nan\n",
    "# Scheldestromen['streefpeil'] = gpd.GeoDataFrame(streefpeil)"
   ]
  },
  {
   "cell_type": "code",
   "execution_count": 14,
   "id": "88e9543c-2dbe-4ebf-9423-b38daeeaa004",
   "metadata": {},
   "outputs": [],
   "source": [
    "# Scheldestromen['peilgebied'] = gpd.GeoDataFrame()\n",
    "# Scheldestromen['peilgebied'][['code', 'nen3610id', 'globalid', 'geometry']] = peilgebied[['code', 'nen3610id_y', 'globalid_y', 'geometry_y']]"
   ]
  },
  {
   "cell_type": "code",
   "execution_count": 15,
   "id": "42dc4ba1-3ccb-4b0f-a075-77aec9b85a07",
   "metadata": {},
   "outputs": [],
   "source": [
    "#delete irrelvant data\n",
    "variables = ['peilgebiedpraktijk', 'peilgebiedvigerend', 'peilafwijkinggebied']\n",
    "\n",
    "for variable in variables:\n",
    "    if str(variable) in Scheldestromen:\n",
    "        del Scheldestromen[variable]"
   ]
  },
  {
   "cell_type": "markdown",
   "id": "21ccbba5-8e59-4134-9209-db988bc5c3d5",
   "metadata": {},
   "source": [
    "### Check for the correct keys and columns"
   ]
  },
  {
   "cell_type": "code",
   "execution_count": 16,
   "id": "b064a376-0396-4c93-a2ad-eca3eea54598",
   "metadata": {},
   "outputs": [
    {
     "name": "stdout",
     "output_type": "stream",
     "text": [
      "stuw\n",
      "['code' 'nen3610id' 'globalid' 'geometry']\n",
      "type =  <class 'geopandas.geodataframe.GeoDataFrame'>\n",
      "crs =  EPSG:28992\n",
      "\n",
      "gemaal\n",
      "['code' 'nen3610id' 'globalid' 'geometry']\n",
      "type =  <class 'geopandas.geodataframe.GeoDataFrame'>\n",
      "crs =  EPSG:28992\n",
      "\n",
      "duikersifonhevel\n",
      "['code' 'nen3610id' 'globalid' 'geometry']\n",
      "type =  <class 'geopandas.geodataframe.GeoDataFrame'>\n",
      "crs =  EPSG:28992\n",
      "\n",
      "hydroobject\n",
      "['code' 'nen3610id' 'globalid' 'geometry']\n",
      "type =  <class 'geopandas.geodataframe.GeoDataFrame'>\n",
      "crs =  EPSG:28992\n",
      "\n",
      "peilgebied\n",
      "['code' 'nen3610id' 'globalid' 'geometry']\n",
      "type =  <class 'geopandas.geodataframe.GeoDataFrame'>\n",
      "crs =  epsg:28992\n",
      "\n",
      "streefpeil\n",
      "['waterhoogte' 'globalid' 'geometry']\n",
      "type =  <class 'geopandas.geodataframe.GeoDataFrame'>\n",
      "crs =  None\n",
      "\n"
     ]
    }
   ],
   "source": [
    "show_layers_and_columns(waterschap = Scheldestromen)"
   ]
  },
  {
   "cell_type": "code",
   "execution_count": 18,
   "id": "f9d38f6f-42df-45b4-a1d2-b1a779c104d8",
   "metadata": {},
   "outputs": [
    {
     "name": "stdout",
     "output_type": "stream",
     "text": [
      "<class 'shapely.geometry.polygon.Polygon'>\n"
     ]
    },
    {
     "ename": "NameError",
     "evalue": "name 'Polygon' is not defined",
     "output_type": "error",
     "traceback": [
      "\u001b[1;31m---------------------------------------------------------------------------\u001b[0m",
      "\u001b[1;31mNameError\u001b[0m                                 Traceback (most recent call last)",
      "\u001b[1;32m~\\AppData\\Local\\Temp\\ipykernel_2280\\1964163203.py\u001b[0m in \u001b[0;36m<module>\u001b[1;34m\u001b[0m\n\u001b[0;32m      2\u001b[0m     \u001b[0mprint\u001b[0m\u001b[1;33m(\u001b[0m\u001b[0mtype\u001b[0m\u001b[1;33m(\u001b[0m\u001b[0mScheldestromen\u001b[0m\u001b[1;33m[\u001b[0m\u001b[1;34m'peilgebied'\u001b[0m\u001b[1;33m]\u001b[0m\u001b[1;33m.\u001b[0m\u001b[0mloc\u001b[0m\u001b[1;33m[\u001b[0m\u001b[0mi\u001b[0m\u001b[1;33m,\u001b[0m \u001b[1;34m'geometry'\u001b[0m\u001b[1;33m]\u001b[0m\u001b[1;33m)\u001b[0m\u001b[1;33m)\u001b[0m\u001b[1;33m\u001b[0m\u001b[1;33m\u001b[0m\u001b[0m\n\u001b[0;32m      3\u001b[0m \u001b[1;33m\u001b[0m\u001b[0m\n\u001b[1;32m----> 4\u001b[1;33m     \u001b[1;32mif\u001b[0m \u001b[0mtype\u001b[0m\u001b[1;33m(\u001b[0m\u001b[0mScheldestromen\u001b[0m\u001b[1;33m[\u001b[0m\u001b[1;34m'peilgebied'\u001b[0m\u001b[1;33m]\u001b[0m\u001b[1;33m.\u001b[0m\u001b[0mloc\u001b[0m\u001b[1;33m[\u001b[0m\u001b[0mi\u001b[0m\u001b[1;33m,\u001b[0m \u001b[1;34m'geometry'\u001b[0m\u001b[1;33m]\u001b[0m\u001b[1;33m)\u001b[0m \u001b[1;33m==\u001b[0m \u001b[0mPolygon\u001b[0m\u001b[1;33m:\u001b[0m\u001b[1;33m\u001b[0m\u001b[1;33m\u001b[0m\u001b[0m\n\u001b[0m\u001b[0;32m      5\u001b[0m         \u001b[0mScheldestromen\u001b[0m\u001b[1;33m[\u001b[0m\u001b[1;34m'peilgebied'\u001b[0m\u001b[1;33m]\u001b[0m\u001b[1;33m.\u001b[0m\u001b[0mloc\u001b[0m\u001b[1;33m[\u001b[0m\u001b[0mi\u001b[0m\u001b[1;33m,\u001b[0m \u001b[1;34m'geometry'\u001b[0m\u001b[1;33m]\u001b[0m\u001b[1;33m.\u001b[0m\u001b[0mplot\u001b[0m\u001b[1;33m(\u001b[0m\u001b[1;33m)\u001b[0m\u001b[1;33m\u001b[0m\u001b[1;33m\u001b[0m\u001b[0m\n",
      "\u001b[1;31mNameError\u001b[0m: name 'Polygon' is not defined"
     ]
    }
   ],
   "source": [
    "for i in range(len(Scheldestromen['peilgebied'])):    \n",
    "    if type(Scheldestromen['peilgebied'].loc[i, 'geometry']) == Polygon:\n",
    "        Scheldestromen['peilgebied'].loc[i, 'geometry'].plot()"
   ]
  },
  {
   "cell_type": "code",
   "execution_count": 38,
   "id": "45564e81-4fcf-4479-b406-8142b4a64ad1",
   "metadata": {},
   "outputs": [
    {
     "data": {
      "text/html": [
       "<div>\n",
       "<style scoped>\n",
       "    .dataframe tbody tr th:only-of-type {\n",
       "        vertical-align: middle;\n",
       "    }\n",
       "\n",
       "    .dataframe tbody tr th {\n",
       "        vertical-align: top;\n",
       "    }\n",
       "\n",
       "    .dataframe thead th {\n",
       "        text-align: right;\n",
       "    }\n",
       "</style>\n",
       "<table border=\"1\" class=\"dataframe\">\n",
       "  <thead>\n",
       "    <tr style=\"text-align: right;\">\n",
       "      <th></th>\n",
       "      <th>code</th>\n",
       "      <th>nen3610id</th>\n",
       "      <th>globalid</th>\n",
       "      <th>geometry_x</th>\n",
       "      <th>waterhoogte</th>\n",
       "      <th>geometry_y</th>\n",
       "    </tr>\n",
       "  </thead>\n",
       "  <tbody>\n",
       "  </tbody>\n",
       "</table>\n",
       "</div>"
      ],
      "text/plain": [
       "Empty GeoDataFrame\n",
       "Columns: [code, nen3610id, globalid, geometry_x, waterhoogte, geometry_y]\n",
       "Index: []"
      ]
     },
     "execution_count": 38,
     "metadata": {},
     "output_type": "execute_result"
    }
   ],
   "source": [
    "merged = pd.merge(left = Scheldestromen['peilgebied'],\n",
    "         right = Scheldestromen['streefpeil'],\n",
    "         on = 'globalid')\n",
    "\n",
    "merged[merged.waterhoogte.isna()]\n"
   ]
  },
  {
   "cell_type": "markdown",
   "id": "e4e74b4c-17ba-4829-9531-248f4d74cfad",
   "metadata": {},
   "source": [
    "### Store data"
   ]
  },
  {
   "cell_type": "code",
   "execution_count": 82,
   "id": "556aea48-a819-4f70-8e22-6c843354a46d",
   "metadata": {},
   "outputs": [],
   "source": [
    "# Check if the directory exists\n",
    "if not os.path.exists(output_gpkg_path):\n",
    "    # If it doesn't exist, create it\n",
    "    os.makedirs(output_gpkg_path)\n",
    "    \n",
    "store_data(waterschap = Scheldestromen, \n",
    "           output_gpkg_path = output_gpkg_path + '/Scheldestromen')\n"
   ]
  },
  {
   "cell_type": "raw",
   "id": "d6b186d5-c907-4b19-9ee2-c7222476856a",
   "metadata": {},
   "source": []
  },
  {
   "cell_type": "code",
   "execution_count": 92,
   "id": "fedb4c6e-49c2-44f4-88f0-0e1ce4802bc7",
   "metadata": {},
   "outputs": [
    {
     "data": {
      "text/html": [
       "<div>\n",
       "<style scoped>\n",
       "    .dataframe tbody tr th:only-of-type {\n",
       "        vertical-align: middle;\n",
       "    }\n",
       "\n",
       "    .dataframe tbody tr th {\n",
       "        vertical-align: top;\n",
       "    }\n",
       "\n",
       "    .dataframe thead th {\n",
       "        text-align: right;\n",
       "    }\n",
       "</style>\n",
       "<table border=\"1\" class=\"dataframe\">\n",
       "  <thead>\n",
       "    <tr style=\"text-align: right;\">\n",
       "      <th></th>\n",
       "      <th>code</th>\n",
       "      <th>nen3610id</th>\n",
       "      <th>globalid</th>\n",
       "      <th>geometry</th>\n",
       "    </tr>\n",
       "  </thead>\n",
       "  <tbody>\n",
       "    <tr>\n",
       "      <th>0</th>\n",
       "      <td>OAF42854</td>\n",
       "      <td>NL.WBHCODE.42.Hydroobject.1</td>\n",
       "      <td>{cc6dc9d0-2a73-4dc6-8cca-38479d5415d5}</td>\n",
       "      <td>MULTILINESTRING Z ((43578.569 413520.087 0.000...</td>\n",
       "    </tr>\n",
       "    <tr>\n",
       "      <th>1</th>\n",
       "      <td>OAF30774</td>\n",
       "      <td>NL.WBHCODE.42.Hydroobject.2</td>\n",
       "      <td>{087f93c5-3208-46e2-93c7-31e33ee8b10f}</td>\n",
       "      <td>MULTILINESTRING Z ((24655.211 392203.392 0.000...</td>\n",
       "    </tr>\n",
       "    <tr>\n",
       "      <th>2</th>\n",
       "      <td>OAF31525</td>\n",
       "      <td>NL.WBHCODE.42.Hydroobject.3</td>\n",
       "      <td>{ef5ccc42-aca5-496d-9854-aa56319ee87e}</td>\n",
       "      <td>MULTILINESTRING Z ((30657.892 399818.261 0.000...</td>\n",
       "    </tr>\n",
       "    <tr>\n",
       "      <th>3</th>\n",
       "      <td>OAF47117</td>\n",
       "      <td>NL.WBHCODE.42.Hydroobject.4</td>\n",
       "      <td>{332a351e-d193-4022-acfb-d781dee87fbd}</td>\n",
       "      <td>MULTILINESTRING Z ((31724.490 385131.330 0.000...</td>\n",
       "    </tr>\n",
       "    <tr>\n",
       "      <th>4</th>\n",
       "      <td>OAF75952</td>\n",
       "      <td>NL.WBHCODE.42.Hydroobject.5</td>\n",
       "      <td>{e190b7ba-7cd8-42ad-805a-84f69714d3b9}</td>\n",
       "      <td>MULTILINESTRING Z ((52163.586 359474.482 0.000...</td>\n",
       "    </tr>\n",
       "    <tr>\n",
       "      <th>...</th>\n",
       "      <td>...</td>\n",
       "      <td>...</td>\n",
       "      <td>...</td>\n",
       "      <td>...</td>\n",
       "    </tr>\n",
       "    <tr>\n",
       "      <th>70928</th>\n",
       "      <td>OAF104394</td>\n",
       "      <td>NL.WBHCODE.42.Hydroobject.70929</td>\n",
       "      <td>{169a186b-4b3e-461c-84a2-770198b1f889}</td>\n",
       "      <td>MULTILINESTRING Z ((30048.913 398032.745 0.000...</td>\n",
       "    </tr>\n",
       "    <tr>\n",
       "      <th>70929</th>\n",
       "      <td>OAF104397</td>\n",
       "      <td>NL.WBHCODE.42.Hydroobject.70930</td>\n",
       "      <td>{dab8f9a5-6eea-4996-8c5e-0a40b51c6e7f}</td>\n",
       "      <td>MULTILINESTRING Z ((30055.697 398032.266 0.000...</td>\n",
       "    </tr>\n",
       "    <tr>\n",
       "      <th>70930</th>\n",
       "      <td>OAF104398</td>\n",
       "      <td>NL.WBHCODE.42.Hydroobject.70931</td>\n",
       "      <td>{09d88aa3-190d-4e39-bc27-8b473a1f5ddb}</td>\n",
       "      <td>MULTILINESTRING Z ((30057.368 398056.163 0.000...</td>\n",
       "    </tr>\n",
       "    <tr>\n",
       "      <th>70931</th>\n",
       "      <td>OAF103808</td>\n",
       "      <td>NL.WBHCODE.42.Hydroobject.70932</td>\n",
       "      <td>{0327d41d-2a6a-4c4e-9a88-df1f01c3438a}</td>\n",
       "      <td>MULTILINESTRING Z ((32377.674 397795.063 0.000...</td>\n",
       "    </tr>\n",
       "    <tr>\n",
       "      <th>70932</th>\n",
       "      <td>OAF31632</td>\n",
       "      <td>NL.WBHCODE.42.Hydroobject.70933</td>\n",
       "      <td>{9df9f737-a1ce-4814-a93f-7decf5322880}</td>\n",
       "      <td>MULTILINESTRING Z ((27693.846 388160.793 0.000...</td>\n",
       "    </tr>\n",
       "  </tbody>\n",
       "</table>\n",
       "<p>70933 rows × 4 columns</p>\n",
       "</div>"
      ],
      "text/plain": [
       "            code                        nen3610id  \\\n",
       "0       OAF42854      NL.WBHCODE.42.Hydroobject.1   \n",
       "1       OAF30774      NL.WBHCODE.42.Hydroobject.2   \n",
       "2       OAF31525      NL.WBHCODE.42.Hydroobject.3   \n",
       "3       OAF47117      NL.WBHCODE.42.Hydroobject.4   \n",
       "4       OAF75952      NL.WBHCODE.42.Hydroobject.5   \n",
       "...          ...                              ...   \n",
       "70928  OAF104394  NL.WBHCODE.42.Hydroobject.70929   \n",
       "70929  OAF104397  NL.WBHCODE.42.Hydroobject.70930   \n",
       "70930  OAF104398  NL.WBHCODE.42.Hydroobject.70931   \n",
       "70931  OAF103808  NL.WBHCODE.42.Hydroobject.70932   \n",
       "70932   OAF31632  NL.WBHCODE.42.Hydroobject.70933   \n",
       "\n",
       "                                     globalid  \\\n",
       "0      {cc6dc9d0-2a73-4dc6-8cca-38479d5415d5}   \n",
       "1      {087f93c5-3208-46e2-93c7-31e33ee8b10f}   \n",
       "2      {ef5ccc42-aca5-496d-9854-aa56319ee87e}   \n",
       "3      {332a351e-d193-4022-acfb-d781dee87fbd}   \n",
       "4      {e190b7ba-7cd8-42ad-805a-84f69714d3b9}   \n",
       "...                                       ...   \n",
       "70928  {169a186b-4b3e-461c-84a2-770198b1f889}   \n",
       "70929  {dab8f9a5-6eea-4996-8c5e-0a40b51c6e7f}   \n",
       "70930  {09d88aa3-190d-4e39-bc27-8b473a1f5ddb}   \n",
       "70931  {0327d41d-2a6a-4c4e-9a88-df1f01c3438a}   \n",
       "70932  {9df9f737-a1ce-4814-a93f-7decf5322880}   \n",
       "\n",
       "                                                geometry  \n",
       "0      MULTILINESTRING Z ((43578.569 413520.087 0.000...  \n",
       "1      MULTILINESTRING Z ((24655.211 392203.392 0.000...  \n",
       "2      MULTILINESTRING Z ((30657.892 399818.261 0.000...  \n",
       "3      MULTILINESTRING Z ((31724.490 385131.330 0.000...  \n",
       "4      MULTILINESTRING Z ((52163.586 359474.482 0.000...  \n",
       "...                                                  ...  \n",
       "70928  MULTILINESTRING Z ((30048.913 398032.745 0.000...  \n",
       "70929  MULTILINESTRING Z ((30055.697 398032.266 0.000...  \n",
       "70930  MULTILINESTRING Z ((30057.368 398056.163 0.000...  \n",
       "70931  MULTILINESTRING Z ((32377.674 397795.063 0.000...  \n",
       "70932  MULTILINESTRING Z ((27693.846 388160.793 0.000...  \n",
       "\n",
       "[70933 rows x 4 columns]"
      ]
     },
     "execution_count": 92,
     "metadata": {},
     "output_type": "execute_result"
    }
   ],
   "source": [
    "Scheldestromen['hydroobject']"
   ]
  },
  {
   "cell_type": "code",
   "execution_count": null,
   "id": "af637fd1-1d33-4eb2-92c7-51c29e477404",
   "metadata": {},
   "outputs": [],
   "source": []
  }
 ],
 "metadata": {
  "kernelspec": {
   "display_name": "Routing",
   "language": "python",
   "name": "routing"
  },
  "language_info": {
   "codemirror_mode": {
    "name": "ipython",
    "version": 3
   },
   "file_extension": ".py",
   "mimetype": "text/x-python",
   "name": "python",
   "nbconvert_exporter": "python",
   "pygments_lexer": "ipython3",
   "version": "3.9.13"
  }
 },
 "nbformat": 4,
 "nbformat_minor": 5
}
