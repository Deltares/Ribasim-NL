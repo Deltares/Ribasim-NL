{
 "cells": [
  {
   "cell_type": "code",
   "execution_count": null,
   "id": "0",
   "metadata": {},
   "outputs": [],
   "source": [
    "# import packages and functions\n",
    "import os\n",
    "\n",
    "import geopandas as gpd\n",
    "import numpy as np\n",
    "import pandas as pd\n",
    "from shapely.geometry import Polygon"
   ]
  },
  {
   "cell_type": "code",
   "execution_count": null,
   "id": "1",
   "metadata": {},
   "outputs": [],
   "source": [
    "from general_functions import read_gpkg_layers, show_layers_and_columns, store_data"
   ]
  },
  {
   "cell_type": "code",
   "execution_count": null,
   "id": "2",
   "metadata": {},
   "outputs": [],
   "source": [
    "pd.set_option(\"display.max_columns\", None)"
   ]
  },
  {
   "cell_type": "code",
   "execution_count": null,
   "id": "3",
   "metadata": {},
   "outputs": [],
   "source": [
    "# define relative paths\n",
    "waterschap = \"Scheldestromen\"\n",
    "path_Scheldestromen = \"..\\..\\Data_preprocessed\\Waterschappen\\Scheldestromen\\Scheldestromen.gpkg\"\n",
    "output_gpkg_path = \"../../Data_postprocessed/Waterschappen/Scheldestromen\""
   ]
  },
  {
   "cell_type": "code",
   "execution_count": null,
   "id": "4",
   "metadata": {},
   "outputs": [],
   "source": [
    "Scheldestromen = read_gpkg_layers(\n",
    "    gpkg_path=path_Scheldestromen,\n",
    "    variables=[\n",
    "        \"stuw\",\n",
    "        \"gemaal\",\n",
    "        # 'afsluitmiddel',\n",
    "        \"duikersifonhevel\",\n",
    "        \"hydroobject\",\n",
    "        # 'peilgebiedvigerend',\n",
    "        # 'peilgebiedpraktijk',\n",
    "        # 'peilafwijkinggebied',\n",
    "        # 'streefpeil',\n",
    "    ],\n",
    "    engine=\"pyogrio\",\n",
    ")\n",
    "\n",
    "# the peilgebieden and streefpeilen do not contain overlapping values. Scheldestromen has delivered additional files as shapes\n",
    "Scheldestromen[\"peilgebied\"] = gpd.read_file(\n",
    "    \"..\\..\\Data_preprocessed\\Waterschappen\\Scheldestromen\\Praktijkpeilgebieden_20231204.shp\"\n",
    ")"
   ]
  },
  {
   "cell_type": "code",
   "execution_count": null,
   "id": "5",
   "metadata": {},
   "outputs": [],
   "source": [
    "Scheldestromen[\"peilgebied\"][\"code\"] = Scheldestromen[\"peilgebied\"][\"GPGIDENT\"]\n",
    "Scheldestromen[\"peilgebied\"][\"globalid\"] = Scheldestromen[\"peilgebied\"][\"GLOBALID\"]\n",
    "Scheldestromen[\"peilgebied\"][\"waterhoogte\"] = Scheldestromen[\"peilgebied\"][\"GPGZP\"]\n",
    "Scheldestromen[\"peilgebied\"][\"nen3610id\"] = \"dummy_nen3610id_peilgebied_\" + Scheldestromen[\"peilgebied\"].index.astype(\n",
    "    str\n",
    ")\n",
    "\n",
    "Scheldestromen[\"streefpeil\"] = gpd.GeoDataFrame()\n",
    "Scheldestromen[\"streefpeil\"][\"waterhoogte\"] = Scheldestromen[\"peilgebied\"][\"waterhoogte\"]\n",
    "Scheldestromen[\"streefpeil\"][\"globalid\"] = Scheldestromen[\"peilgebied\"][\"globalid\"]\n",
    "Scheldestromen[\"streefpeil\"][\"geometry\"] = np.nan\n",
    "\n",
    "\n",
    "Scheldestromen[\"peilgebied\"] = Scheldestromen[\"peilgebied\"][[\"code\", \"nen3610id\", \"globalid\", \"geometry\"]]"
   ]
  },
  {
   "cell_type": "code",
   "execution_count": null,
   "id": "6",
   "metadata": {},
   "outputs": [],
   "source": [
    "# convert multiz points to points\n",
    "Scheldestromen[\"stuw\"].geometry = Scheldestromen[\"stuw\"].centroid\n",
    "Scheldestromen[\"gemaal\"].geometry = Scheldestromen[\"gemaal\"].centroid"
   ]
  },
  {
   "cell_type": "markdown",
   "id": "7",
   "metadata": {},
   "source": [
    "# Scheldestromen"
   ]
  },
  {
   "cell_type": "code",
   "execution_count": null,
   "id": "8",
   "metadata": {},
   "outputs": [],
   "source": [
    "# stuw\n",
    "Scheldestromen[\"stuw\"] = Scheldestromen[\"stuw\"][[\"code\", \"nen3610id\", \"globalid\", \"geometry\"]]\n",
    "\n",
    "# gemaal\n",
    "Scheldestromen[\"gemaal\"] = Scheldestromen[\"gemaal\"][[\"code\", \"nen3610id\", \"globalid\", \"geometry\"]]\n",
    "Scheldestromen[\"gemaal\"][\"code\"] = \"dummy_code_gemaal_\" + Scheldestromen[\"gemaal\"].index.astype(str)\n",
    "\n",
    "# hydroobject\n",
    "Scheldestromen[\"hydroobject\"][\"code\"] = Scheldestromen[\"hydroobject\"][\"naam\"]\n",
    "Scheldestromen[\"hydroobject\"] = Scheldestromen[\"hydroobject\"][[\"code\", \"nen3610id\", \"globalid\", \"geometry\"]]\n",
    "\n",
    "# duikersifonhevel\n",
    "Scheldestromen[\"duikersifonhevel\"] = Scheldestromen[\"duikersifonhevel\"][[\"code\", \"nen3610id\", \"globalid\", \"geometry\"]]"
   ]
  },
  {
   "cell_type": "code",
   "execution_count": null,
   "id": "9",
   "metadata": {},
   "outputs": [],
   "source": [
    "# pd.merge(left = Scheldestromen['peilgebiedpraktijk'],\n",
    "#          right = Scheldestromen['streefpeil'],\n",
    "#          left_on = 'globalid',\n",
    "#          right_on = 'peilgebiedpraktijkid')"
   ]
  },
  {
   "cell_type": "code",
   "execution_count": null,
   "id": "10",
   "metadata": {},
   "outputs": [],
   "source": [
    "Scheldestromen[\"stuw\"] = Scheldestromen[\"stuw\"][[\"code\", \"nen3610id\", \"globalid\", \"geometry\"]]\n",
    "Scheldestromen[\"gemaal\"] = Scheldestromen[\"gemaal\"][[\"code\", \"nen3610id\", \"globalid\", \"geometry\"]]\n",
    "Scheldestromen[\"hydroobject\"] = Scheldestromen[\"hydroobject\"][[\"code\", \"nen3610id\", \"globalid\", \"geometry\"]]\n",
    "Scheldestromen[\"duikersifonhevel\"] = Scheldestromen[\"duikersifonhevel\"][[\"code\", \"nen3610id\", \"globalid\", \"geometry\"]]"
   ]
  },
  {
   "cell_type": "code",
   "execution_count": null,
   "id": "11",
   "metadata": {},
   "outputs": [],
   "source": [
    "# Scheldestromen['peilgebiedpraktijk']['geometry'] = Scheldestromen['peilgebiedpraktijk'].buffer(distance = 0)\n",
    "# Scheldestromen['peilafwijkinggebied']['geometry'] = Scheldestromen['peilafwijkinggebied'].buffer(distance = 0)"
   ]
  },
  {
   "cell_type": "code",
   "execution_count": null,
   "id": "12",
   "metadata": {},
   "outputs": [],
   "source": [
    "# peilgebied = pd.merge(left = Scheldestromen['streefpeil'],\n",
    "#                       right = Scheldestromen['peilgebiedpraktijk'],\n",
    "#                       left_on = 'peilgebiedpraktijkid',\n",
    "#                       right_on = 'globalid')"
   ]
  },
  {
   "cell_type": "code",
   "execution_count": null,
   "id": "13",
   "metadata": {},
   "outputs": [],
   "source": [
    "# streefpeil = gpd.GeoDataFrame()\n",
    "# streefpeil['waterhoogte'] = peilgebied['waterhoogte']\n",
    "# streefpeil['globalid'] = peilgebied['peilgebiedpraktijkid']\n",
    "# streefpeil['geometry'] = np.nan\n",
    "# Scheldestromen['streefpeil'] = gpd.GeoDataFrame(streefpeil)"
   ]
  },
  {
   "cell_type": "code",
   "execution_count": null,
   "id": "14",
   "metadata": {},
   "outputs": [],
   "source": [
    "# Scheldestromen['peilgebied'] = gpd.GeoDataFrame()\n",
    "# Scheldestromen['peilgebied'][['code', 'nen3610id', 'globalid', 'geometry']] = peilgebied[['code', 'nen3610id_y', 'globalid_y', 'geometry_y']]"
   ]
  },
  {
   "cell_type": "code",
   "execution_count": null,
   "id": "15",
   "metadata": {},
   "outputs": [],
   "source": [
    "# delete irrelvant data\n",
    "variables = [\"peilgebiedpraktijk\", \"peilgebiedvigerend\", \"peilafwijkinggebied\"]\n",
    "\n",
    "for variable in variables:\n",
    "    if str(variable) in Scheldestromen:\n",
    "        del Scheldestromen[variable]"
   ]
  },
  {
   "cell_type": "markdown",
   "id": "16",
   "metadata": {},
   "source": [
    "### Check for the correct keys and columns"
   ]
  },
  {
   "cell_type": "code",
   "execution_count": null,
   "id": "17",
   "metadata": {},
   "outputs": [],
   "source": [
    "show_layers_and_columns(waterschap=Scheldestromen)"
   ]
  },
  {
   "cell_type": "code",
   "execution_count": null,
   "id": "18",
   "metadata": {},
   "outputs": [],
   "source": [
    "for i in range(len(Scheldestromen[\"peilgebied\"])):\n",
    "    if isinstance(Scheldestromen[\"peilgebied\"].loc[i, \"geometry\"], Polygon):\n",
    "        Scheldestromen[\"peilgebied\"].loc[i, \"geometry\"].plot()"
   ]
  },
  {
   "cell_type": "code",
   "execution_count": null,
   "id": "19",
   "metadata": {},
   "outputs": [],
   "source": [
    "merged = pd.merge(left=Scheldestromen[\"peilgebied\"], right=Scheldestromen[\"streefpeil\"], on=\"globalid\")\n",
    "\n",
    "merged[merged.waterhoogte.isna()]"
   ]
  },
  {
   "cell_type": "markdown",
   "id": "20",
   "metadata": {},
   "source": [
    "### Store data"
   ]
  },
  {
   "cell_type": "code",
   "execution_count": null,
   "id": "21",
   "metadata": {},
   "outputs": [],
   "source": [
    "# Check if the directory exists\n",
    "if not os.path.exists(output_gpkg_path):\n",
    "    # If it doesn't exist, create it\n",
    "    os.makedirs(output_gpkg_path)\n",
    "\n",
    "store_data(waterschap=Scheldestromen, output_gpkg_path=output_gpkg_path + \"/Scheldestromen\")"
   ]
  },
  {
   "cell_type": "raw",
   "id": "22",
   "metadata": {},
   "source": []
  },
  {
   "cell_type": "code",
   "execution_count": null,
   "id": "23",
   "metadata": {},
   "outputs": [],
   "source": [
    "Scheldestromen[\"hydroobject\"]"
   ]
  },
  {
   "cell_type": "code",
   "execution_count": null,
   "id": "24",
   "metadata": {},
   "outputs": [],
   "source": []
  }
 ],
 "metadata": {
  "kernelspec": {
   "display_name": "Routing",
   "language": "python",
   "name": "routing"
  },
  "language_info": {
   "codemirror_mode": {
    "name": "ipython",
    "version": 3
   },
   "file_extension": ".py",
   "mimetype": "text/x-python",
   "name": "python",
   "nbconvert_exporter": "python",
   "pygments_lexer": "ipython3",
   "version": "3.9.13"
  }
 },
 "nbformat": 4,
 "nbformat_minor": 5
}
