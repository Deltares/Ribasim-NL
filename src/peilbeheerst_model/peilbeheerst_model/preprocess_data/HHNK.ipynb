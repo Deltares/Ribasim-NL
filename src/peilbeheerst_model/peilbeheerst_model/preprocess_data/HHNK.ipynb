{
 "cells": [
  {
   "cell_type": "code",
   "execution_count": 1,
   "id": "065338fd-62d6-480e-8c80-8bc4b101846b",
   "metadata": {},
   "outputs": [],
   "source": [
    "#import packages and functions\n",
    "import numpy as np\n",
    "import matplotlib.pyplot as plt\n",
    "import pandas as pd\n",
    "import geopandas as gpd\n",
    "import os\n",
    "import fiona\n",
    "import shapely"
   ]
  },
  {
   "cell_type": "code",
   "execution_count": 2,
   "id": "3f5aaa20-7965-4aa7-bf24-79965d87edb1",
   "metadata": {},
   "outputs": [],
   "source": [
    "%load_ext autoreload\n",
    "%autoreload 2\n",
    "\n",
    "from general_functions import *"
   ]
  },
  {
   "cell_type": "markdown",
   "id": "ffeed567-f858-4e46-83ff-89b7d7ea9b6d",
   "metadata": {},
   "source": [
    "# Hollands Noorderkwartier"
   ]
  },
  {
   "cell_type": "code",
   "execution_count": 5,
   "id": "636e86b9-bd75-4f8f-91eb-e757fba21fde",
   "metadata": {},
   "outputs": [],
   "source": [
    "#define relative paths\n",
    "gpkg_path_HHNK = \"../../Data_preprocessed/Waterschappen/HHNK/Noorderkwartier.gpkg\"\n",
    "gdb_path_HHNK = \"../../Data_preprocessed/Waterschappen/HHNK/Watersysteemanalyse_BWN2.gdb\"\n",
    "gdb_path_HHNK_nalevering = \"../../Data_preprocessed/Waterschappen/HHNK/Na_levering_HHNK_gemalen_stuwen_20240321.gdb\"\n",
    "output_gpkg_path_HHNK = \"../../Data_postprocessed/Waterschappen/HHNK/Noorderkwartier\"\n",
    "interim_results = \"../../Interim_results/Waterschappen/HHNK/Noorderkwartier_IR\""
   ]
  },
  {
   "cell_type": "code",
   "execution_count": 14,
   "id": "baf1ecdb-36e9-4370-ad9d-28dd4b7b0c6b",
   "metadata": {},
   "outputs": [],
   "source": [
    "#retrieve the data\n",
    "HHNK = read_gpkg_layers(gpkg_path = gpkg_path_HHNK, \n",
    "                        variables = [\n",
    "                                     # 'stuw', #nalevering\n",
    "                                     # 'gemaal', #nalevering\n",
    "                                     'afsluitmiddel',\n",
    "                                     'hydroobject',\n",
    "                                     'duikersifonhevel']) \n",
    "                                     # 'peilafwijkinggebied', \n",
    "                                     # 'peilgebiedpraktijk',\n",
    "                                     # 'pomp'])\n",
    "                                     # 'streefpeil'])\n",
    "                            \n",
    "#retrieve data from a gdb, as the gpkg of HHNK does not contain all relevant data\n",
    "data_gdb = gpd.read_file(gdb_path_HHNK, layer='BWN_ruimtekaart')\n",
    "HHNK_nalevering = read_gpkg_layers(gpkg_path = gdb_path_HHNK_nalevering, \n",
    "                        variables = ['stuw', 'gemaal']) #nalevering\n",
    "\n",
    "HHNK['stuw'] = HHNK_nalevering['stuw']\n",
    "HHNK['gemaal'] = HHNK_nalevering['gemaal']"
   ]
  },
  {
   "cell_type": "code",
   "execution_count": null,
   "id": "3dbf5fe0-ac68-4270-b936-51dd5e7e8215",
   "metadata": {},
   "outputs": [],
   "source": []
  },
  {
   "cell_type": "code",
   "execution_count": 20,
   "id": "033468ab-b74c-468a-90b1-eac395ad8d17",
   "metadata": {},
   "outputs": [],
   "source": [
    "#determine aanvoer en afvoer gemalen\n",
    "HHNK['gemaal']['func_aanvoer'], HHNK['gemaal']['func_afvoer'], HHNK['gemaal']['func_circulatie']  = False, False, False #default is False\n",
    "HHNK['gemaal']['functiegemaal'] = HHNK['gemaal']['FUNCTIEGEMAAL'].astype(str) \n",
    "HHNK['gemaal'].loc[HHNK['gemaal']['functiegemaal'] == 'onbekend', 'functiegemaal'] = np.nan #replace onbekend with nan, will be filled up later see one line below\n",
    "HHNK['gemaal'].loc[HHNK['gemaal']['functiegemaal'] == '99', 'functiegemaal'] = np.nan #replace onbekend with nan, will be filled up later see one line below\n",
    "HHNK['gemaal']['functiegemaal'].fillna(HHNK['gemaal']['OPMERKING'], inplace = True) #some additional is given in this column\n",
    "HHNK['gemaal'] = HHNK['gemaal'].loc[HHNK['gemaal']['functiegemaal'] != 'niet meer in gebruik'] #filter the gemalen out which are not in use\n",
    "HHNK['gemaal'] = HHNK['gemaal'].loc[HHNK['gemaal']['functiegemaal'] != '901'] #filter the gemalen out which are not in use\n",
    "\n",
    "# HHNK['gemaal'].loc[HHNK['gemaal'].functiegemaal.str.contains('onderbemaling|afvoer|af-'), 'func_afvoer'] = True\n",
    "# HHNK['gemaal'].loc[HHNK['gemaal'].functiegemaal.str.contains('trekker|opmaling|op-|wateraanvoer|aanvoer'), 'func_aanvoer'] = True #aannamen: trekkerpompen vooral voor wateraanvoer\n",
    "# HHNK['gemaal'].loc[HHNK['gemaal'].functiegemaal.str.contains('doorspoelpomp'), 'func_circulatie'] = True\n",
    "\n",
    "afvoer_values = ['2', '4', '5', '6', '903']\n",
    "aanvoer_values = ['1', '3', '5', '902', '903'] #aannamen: trekkerpompen vooral voor wateraanvoer\n",
    "circulatie_values = ['904']\n",
    "\n",
    "\n",
    "HHNK['gemaal'].loc[HHNK['gemaal']['functiegemaal'].isin(afvoer_values), 'func_afvoer'] = True\n",
    "HHNK['gemaal'].loc[HHNK['gemaal']['functiegemaal'].isin(aanvoer_values), 'func_aanvoer'] = True\n",
    "HHNK['gemaal'].loc[HHNK['gemaal']['functiegemaal'].isin(circulatie_values), 'func_circulatie'] = True\n",
    "\n",
    "HHNK['gemaal'].loc[(HHNK['gemaal'].func_afvoer == False) &\n",
    "                       (HHNK['gemaal'].func_aanvoer == False) &\n",
    "                       (HHNK['gemaal'].func_circulatie == False), 'func_afvoer'] = True #set to afvoergemaal is there the function is unknown"
   ]
  },
  {
   "cell_type": "code",
   "execution_count": 25,
   "id": "805ffd9b-da23-46e3-977f-84575e32f225",
   "metadata": {},
   "outputs": [],
   "source": [
    "#gemaal\n",
    "HHNK['gemaal'].rename(columns={'CODE': 'code',\n",
    "                               'GLOBALID': 'globalid'}, inplace = True)\n",
    "HHNK['gemaal']['nen3610id'] = 'dummy_nen3610id_' + HHNK['gemaal'].index.astype(str) #create a string as the globalid is usually a str as well\n",
    "\n",
    "#stuw\n",
    "HHNK['stuw'].rename(columns={'CODE': 'code',\n",
    "                               'GLOBALID': 'globalid'}, inplace = True)\n",
    "HHNK['stuw']['nen3610id'] = 'dummy_nen3610id_' + HHNK['stuw'].index.astype(str) #create a string as the globalid is usually a str as well\n"
   ]
  },
  {
   "cell_type": "markdown",
   "id": "341e9076-62bd-4d0f-aba9-835cdf93afeb",
   "metadata": {},
   "source": [
    "### GPKG"
   ]
  },
  {
   "cell_type": "code",
   "execution_count": 26,
   "id": "9b86f37d-16de-49db-969a-b233f1531abb",
   "metadata": {
    "tags": []
   },
   "outputs": [],
   "source": [
    "# discard irrelevant dataHHNK\n",
    "HHNK['stuw'] = HHNK['stuw'][['code', 'globalid', 'nen3610id', 'geometry']]\n",
    "HHNK['gemaal'] = HHNK['gemaal'][['code', 'globalid', 'nen3610id', 'func_afvoer', 'func_aanvoer', 'func_circulatie', 'geometry']]\n",
    "HHNK['hydroobject'] = HHNK['hydroobject'][['code', 'globalid', 'nen3610id', 'geometry']]\n",
    "HHNK['afsluitmiddel'] = HHNK['afsluitmiddel'][['code', 'globalid', 'nen3610id', 'geometry']]\n",
    "HHNK['duikersifonhevel'] = HHNK['duikersifonhevel'][['code', 'globalid', 'nen3610id', 'geometry']]"
   ]
  },
  {
   "cell_type": "markdown",
   "id": "cdc5db0a-4f5f-464f-aa98-1cc7ea968680",
   "metadata": {},
   "source": [
    "### .GDB"
   ]
  },
  {
   "cell_type": "code",
   "execution_count": 27,
   "id": "fe5e6309-4370-4da7-bd2c-9c7f7f727545",
   "metadata": {},
   "outputs": [],
   "source": [
    "data_gdb = data_gdb[['streefpeil', 'geometry']]\n",
    "data_gdb['globalid'] = 'dummy_globalid_' + data_gdb.index.astype(str) #create a string as the globalid is usually a str as well\n",
    "streefpeil = data_gdb[['streefpeil', 'globalid']]\n",
    "peilgebied = data_gdb[['globalid', 'geometry']]\n",
    "\n",
    "#add the data to the dictionary\n",
    "HHNK['streefpeil'] = streefpeil\n",
    "HHNK['peilgebied'] = peilgebied\n",
    "\n",
    "#hand made changes\n",
    "HHNK['peilgebied'] = HHNK['peilgebied'][HHNK['peilgebied']['globalid'] != 1725] #not a correct shape. Basically only lines, with 36 seperate segments\n"
   ]
  },
  {
   "cell_type": "code",
   "execution_count": 28,
   "id": "ebd41c6f-24dc-4a56-b24c-65c33b707707",
   "metadata": {},
   "outputs": [],
   "source": [
    "HHNK['streefpeil'] = HHNK['streefpeil'].rename(columns={'streefpeil': 'waterhoogte'})\n",
    "HHNK['streefpeil']['geometry'] = None\n",
    "HHNK['streefpeil'] = gpd.GeoDataFrame(HHNK['streefpeil'], geometry = 'geometry')"
   ]
  },
  {
   "cell_type": "code",
   "execution_count": 29,
   "id": "e6164c27-8292-4943-bc6e-83445ed956a9",
   "metadata": {},
   "outputs": [],
   "source": [
    "# HHNK['streefpeil']['code'] = 'dummy_code_streefpeil_' + HHNK['streefpeil'].index.astype(str)\n",
    "# HHNK['streefpeil']['nen3610id'] = 'dummy_nen3610id_streefpeil_' + HHNK['streefpeil'].index.astype(str)\n",
    "\n",
    "HHNK['peilgebied']['code'] = 'dummy_code_' + HHNK['peilgebied'].index.astype(str)\n",
    "HHNK['peilgebied']['nen3610id'] = 'dummy_nen3610id_' + HHNK['peilgebied'].index.astype(str)\n",
    "HHNK['peilgebied']['HWS_BZM'] = False"
   ]
  },
  {
   "cell_type": "markdown",
   "id": "d72f3d5c-20ed-4ca6-a71f-ddca9cf93fee",
   "metadata": {},
   "source": [
    "### Check for the correct keys and columns"
   ]
  },
  {
   "cell_type": "code",
   "execution_count": 30,
   "id": "ffd4ea1b-e2a2-4e3b-a5cf-e820a4709c30",
   "metadata": {},
   "outputs": [
    {
     "name": "stdout",
     "output_type": "stream",
     "text": [
      "afsluitmiddel\n",
      "['code' 'globalid' 'nen3610id' 'geometry']\n",
      "type =  <class 'geopandas.geodataframe.GeoDataFrame'>\n",
      "crs =  epsg:28992\n",
      "\n",
      "hydroobject\n",
      "['code' 'globalid' 'nen3610id' 'geometry']\n",
      "type =  <class 'geopandas.geodataframe.GeoDataFrame'>\n",
      "crs =  epsg:28992\n",
      "\n",
      "duikersifonhevel\n",
      "['code' 'globalid' 'nen3610id' 'geometry']\n",
      "type =  <class 'geopandas.geodataframe.GeoDataFrame'>\n",
      "crs =  epsg:28992\n",
      "\n",
      "stuw\n",
      "['code' 'globalid' 'nen3610id' 'geometry']\n",
      "type =  <class 'geopandas.geodataframe.GeoDataFrame'>\n",
      "crs =  epsg:28992\n",
      "\n",
      "gemaal\n",
      "['code' 'globalid' 'nen3610id' 'func_afvoer' 'func_aanvoer'\n",
      " 'func_circulatie' 'geometry']\n",
      "type =  <class 'geopandas.geodataframe.GeoDataFrame'>\n",
      "crs =  epsg:28992\n",
      "\n",
      "streefpeil\n",
      "['waterhoogte' 'globalid' 'geometry']\n",
      "type =  <class 'geopandas.geodataframe.GeoDataFrame'>\n",
      "crs =  None\n",
      "\n",
      "peilgebied\n",
      "['globalid' 'geometry' 'code' 'nen3610id' 'HWS_BZM']\n",
      "type =  <class 'geopandas.geodataframe.GeoDataFrame'>\n",
      "crs =  epsg:28992\n",
      "\n"
     ]
    }
   ],
   "source": [
    "show_layers_and_columns(waterschap = HHNK)"
   ]
  },
  {
   "cell_type": "markdown",
   "id": "56fa3a9e-2894-4676-9a47-29fbdadc96c5",
   "metadata": {
    "tags": []
   },
   "source": [
    "# Add the boezem and hoofdwatersysteem"
   ]
  },
  {
   "cell_type": "markdown",
   "id": "064607bb-4c54-4dc2-b913-94dfcd18cfa0",
   "metadata": {},
   "source": [
    "Some changes by hand have been made. The resulting shapefile contains the bordering BZM and HWS shapes, including streefpeil"
   ]
  },
  {
   "cell_type": "code",
   "execution_count": 31,
   "id": "8e8c8649-cde9-40db-b155-d8d80ba65f6a",
   "metadata": {},
   "outputs": [],
   "source": [
    "path_HWS_BZM = \"..\\..\\Scripts\\Aggregeren\\Hoofdwatersysteem\\BZM_HWS_HHNK.shp\"\n",
    "HWS_BZM = gpd.read_file(path_HWS_BZM)\n"
   ]
  },
  {
   "cell_type": "code",
   "execution_count": 32,
   "id": "350baa05-21ab-48af-b4b9-cae7fef089a6",
   "metadata": {},
   "outputs": [],
   "source": [
    "HWS_BZM['code'] = 'dummy_code_' + (HWS_BZM.index + max(HHNK['peilgebied'].index) + 1).astype(str)\n",
    "HWS_BZM['globalid'] = 'dummy_globalid_' + (HWS_BZM.index + max(HHNK['peilgebied'].index) + 1).astype(str)\n",
    "HWS_BZM['nen3610id'] = 'dummy_nen3610id_' + (HWS_BZM.index + max(HHNK['peilgebied'].index) + 1).astype(str)\n",
    "HWS_BZM['waterhoogte'] = HWS_BZM['zomerpeil']\n",
    "HWS_BZM['HWS_BZM'] = True\n",
    "HWS_BZM = HWS_BZM[['code', 'globalid', 'nen3610id', 'waterhoogte', 'HWS_BZM', 'geometry']]\n",
    "\n",
    "HWS_BZM_peilgebied = HWS_BZM[['code', 'globalid', 'nen3610id', 'HWS_BZM', 'geometry']]\n",
    "HWS_BZM_streefpeil = HWS_BZM[['waterhoogte', 'globalid', 'geometry']]\n",
    "\n",
    "HHNK['peilgebied'] = gpd.GeoDataFrame(pd.concat([HHNK['peilgebied'], HWS_BZM_peilgebied])).reset_index(drop=True)\n",
    "HHNK['streefpeil'] = gpd.GeoDataFrame(pd.concat([HHNK['streefpeil'], HWS_BZM_streefpeil])).reset_index(drop=True)"
   ]
  },
  {
   "cell_type": "markdown",
   "id": "e4e74b4c-17ba-4829-9531-248f4d74cfad",
   "metadata": {},
   "source": [
    "### Store data"
   ]
  },
  {
   "cell_type": "code",
   "execution_count": 33,
   "id": "556aea48-a819-4f70-8e22-6c843354a46d",
   "metadata": {},
   "outputs": [],
   "source": [
    "store_data(waterschap = HHNK, \n",
    "           output_gpkg_path = output_gpkg_path_HHNK)\n"
   ]
  },
  {
   "cell_type": "raw",
   "id": "d6b186d5-c907-4b19-9ee2-c7222476856a",
   "metadata": {},
   "source": [
    "Toevoegen aan notities:\n",
    "\n",
    "Duikersifonhevel and hydroobject have a type of multicurvedZ, the peilgebieden a MultiSurfaceZ, which geopandas can not handle. I have manually exported these to single shapes, which automatically converts it to regular MultiStrings. Then these layers have been packed together to a geopackage again. \n",
    "\n",
    "Peilmerk is geometrisch gekoppeld aan peilgebieden, niet administratief. Daarnaast zijn bij een aantal beschikbaar of deze gekoppeld zijn met een gemaal, stuw, duikersifonhevel (wel administratief). Wel is er een streefpeil tabel beschikbaar, die wel administratief gekoppeld is. Ga kijken wat het verschil is.\n",
    "\n",
    "In de streefpeilen kaart zijn er verschillende soorten peilen:\n",
    "- winter\n",
    "- zomer\n",
    "- vast\n",
    "- dynamische bovengrens\n",
    "- dynamische ondergrens"
   ]
  }
 ],
 "metadata": {
  "kernelspec": {
   "display_name": "Routing",
   "language": "python",
   "name": "routing"
  },
  "language_info": {
   "codemirror_mode": {
    "name": "ipython",
    "version": 3
   },
   "file_extension": ".py",
   "mimetype": "text/x-python",
   "name": "python",
   "nbconvert_exporter": "python",
   "pygments_lexer": "ipython3",
   "version": "3.9.13"
  }
 },
 "nbformat": 4,
 "nbformat_minor": 5
}
