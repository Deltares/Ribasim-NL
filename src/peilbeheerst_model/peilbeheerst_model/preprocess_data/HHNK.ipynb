{
 "cells": [
  {
   "cell_type": "code",
   "execution_count": null,
   "id": "0",
   "metadata": {},
   "outputs": [],
   "source": [
    "# import packages and functions\n",
    "\n",
    "import geopandas as gpd\n",
    "import numpy as np\n",
    "import pandas as pd"
   ]
  },
  {
   "cell_type": "code",
   "execution_count": null,
   "id": "1",
   "metadata": {},
   "outputs": [],
   "source": [
    "%load_ext autoreload\n",
    "%autoreload 2\n",
    "\n",
    "from general_functions import *"
   ]
  },
  {
   "cell_type": "markdown",
   "id": "2",
   "metadata": {},
   "source": [
    "# Hollands Noorderkwartier"
   ]
  },
  {
   "cell_type": "code",
   "execution_count": null,
   "id": "3",
   "metadata": {},
   "outputs": [],
   "source": [
    "# define relative paths\n",
    "gpkg_path_HHNK = \"../../Data_preprocessed/Waterschappen/HHNK/Noorderkwartier.gpkg\"\n",
    "gdb_path_HHNK = \"../../Data_preprocessed/Waterschappen/HHNK/Watersysteemanalyse_BWN2.gdb\"\n",
    "gdb_path_HHNK_nalevering = \"../../Data_preprocessed/Waterschappen/HHNK/Na_levering_HHNK_gemalen_stuwen_20240321.gdb\"\n",
    "output_gpkg_path_HHNK = \"../../Data_postprocessed/Waterschappen/HHNK/Noorderkwartier\"\n",
    "interim_results = \"../../Interim_results/Waterschappen/HHNK/Noorderkwartier_IR\""
   ]
  },
  {
   "cell_type": "code",
   "execution_count": null,
   "id": "4",
   "metadata": {},
   "outputs": [],
   "source": [
    "# retrieve the data\n",
    "HHNK = read_gpkg_layers(\n",
    "    gpkg_path=gpkg_path_HHNK,\n",
    "    variables=[\n",
    "        # 'stuw', #nalevering\n",
    "        # 'gemaal', #nalevering\n",
    "        \"afsluitmiddel\",\n",
    "        \"hydroobject\",\n",
    "        \"duikersifonhevel\",\n",
    "    ],\n",
    ")\n",
    "# 'peilafwijkinggebied',\n",
    "# 'peilgebiedpraktijk',\n",
    "# 'pomp'])\n",
    "# 'streefpeil'])\n",
    "\n",
    "# retrieve data from a gdb, as the gpkg of HHNK does not contain all relevant data\n",
    "data_gdb = gpd.read_file(gdb_path_HHNK, layer=\"BWN_ruimtekaart\")\n",
    "HHNK_nalevering = read_gpkg_layers(gpkg_path=gdb_path_HHNK_nalevering, variables=[\"stuw\", \"gemaal\"])  # nalevering\n",
    "\n",
    "HHNK[\"stuw\"] = HHNK_nalevering[\"stuw\"]\n",
    "HHNK[\"gemaal\"] = HHNK_nalevering[\"gemaal\"]"
   ]
  },
  {
   "cell_type": "code",
   "execution_count": null,
   "id": "5",
   "metadata": {},
   "outputs": [],
   "source": []
  },
  {
   "cell_type": "code",
   "execution_count": null,
   "id": "6",
   "metadata": {},
   "outputs": [],
   "source": [
    "# determine aanvoer en afvoer gemalen\n",
    "HHNK[\"gemaal\"][\"func_aanvoer\"], HHNK[\"gemaal\"][\"func_afvoer\"], HHNK[\"gemaal\"][\"func_circulatie\"] = (\n",
    "    False,\n",
    "    False,\n",
    "    False,\n",
    ")  # default is False\n",
    "HHNK[\"gemaal\"][\"functiegemaal\"] = HHNK[\"gemaal\"][\"FUNCTIEGEMAAL\"].astype(str)\n",
    "HHNK[\"gemaal\"].loc[HHNK[\"gemaal\"][\"functiegemaal\"] == \"onbekend\", \"functiegemaal\"] = (\n",
    "    np.nan\n",
    ")  # replace onbekend with nan, will be filled up later see one line below\n",
    "HHNK[\"gemaal\"].loc[HHNK[\"gemaal\"][\"functiegemaal\"] == \"99\", \"functiegemaal\"] = (\n",
    "    np.nan\n",
    ")  # replace onbekend with nan, will be filled up later see one line below\n",
    "HHNK[\"gemaal\"][\"functiegemaal\"].fillna(\n",
    "    HHNK[\"gemaal\"][\"OPMERKING\"], inplace=True\n",
    ")  # some additional is given in this column\n",
    "HHNK[\"gemaal\"] = HHNK[\"gemaal\"].loc[\n",
    "    HHNK[\"gemaal\"][\"functiegemaal\"] != \"niet meer in gebruik\"\n",
    "]  # filter the gemalen out which are not in use\n",
    "HHNK[\"gemaal\"] = HHNK[\"gemaal\"].loc[\n",
    "    HHNK[\"gemaal\"][\"functiegemaal\"] != \"901\"\n",
    "]  # filter the gemalen out which are not in use\n",
    "\n",
    "# HHNK['gemaal'].loc[HHNK['gemaal'].functiegemaal.str.contains('onderbemaling|afvoer|af-'), 'func_afvoer'] = True\n",
    "# HHNK['gemaal'].loc[HHNK['gemaal'].functiegemaal.str.contains('trekker|opmaling|op-|wateraanvoer|aanvoer'), 'func_aanvoer'] = True #aannamen: trekkerpompen vooral voor wateraanvoer\n",
    "# HHNK['gemaal'].loc[HHNK['gemaal'].functiegemaal.str.contains('doorspoelpomp'), 'func_circulatie'] = True\n",
    "\n",
    "afvoer_values = [\"2\", \"4\", \"5\", \"6\", \"903\"]\n",
    "aanvoer_values = [\"1\", \"3\", \"5\", \"902\", \"903\"]  # aannamen: trekkerpompen vooral voor wateraanvoer\n",
    "circulatie_values = [\"904\"]\n",
    "\n",
    "\n",
    "HHNK[\"gemaal\"].loc[HHNK[\"gemaal\"][\"functiegemaal\"].isin(afvoer_values), \"func_afvoer\"] = True\n",
    "HHNK[\"gemaal\"].loc[HHNK[\"gemaal\"][\"functiegemaal\"].isin(aanvoer_values), \"func_aanvoer\"] = True\n",
    "HHNK[\"gemaal\"].loc[HHNK[\"gemaal\"][\"functiegemaal\"].isin(circulatie_values), \"func_circulatie\"] = True\n",
    "\n",
    "HHNK[\"gemaal\"].loc[\n",
    "    ~HHNK[\"gemaal\"].func_afvoer & ~HHNK[\"gemaal\"].func_aanvoer & ~HHNK[\"gemaal\"].func_circulatie,\n",
    "    \"func_afvoer\",\n",
    "] = True  # set to afvoergemaal is there the function is unknown"
   ]
  },
  {
   "cell_type": "code",
   "execution_count": null,
   "id": "7",
   "metadata": {},
   "outputs": [],
   "source": [
    "# gemaal\n",
    "HHNK[\"gemaal\"].rename(columns={\"CODE\": \"code\", \"GLOBALID\": \"globalid\"}, inplace=True)\n",
    "HHNK[\"gemaal\"][\"nen3610id\"] = \"dummy_nen3610id_\" + HHNK[\"gemaal\"].index.astype(\n",
    "    str\n",
    ")  # create a string as the globalid is usually a str as well\n",
    "\n",
    "# stuw\n",
    "HHNK[\"stuw\"].rename(columns={\"CODE\": \"code\", \"GLOBALID\": \"globalid\"}, inplace=True)\n",
    "HHNK[\"stuw\"][\"nen3610id\"] = \"dummy_nen3610id_\" + HHNK[\"stuw\"].index.astype(\n",
    "    str\n",
    ")  # create a string as the globalid is usually a str as well"
   ]
  },
  {
   "cell_type": "markdown",
   "id": "8",
   "metadata": {},
   "source": [
    "### GPKG"
   ]
  },
  {
   "cell_type": "code",
   "execution_count": null,
   "id": "9",
   "metadata": {
    "tags": []
   },
   "outputs": [],
   "source": [
    "# discard irrelevant dataHHNK\n",
    "HHNK[\"stuw\"] = HHNK[\"stuw\"][[\"code\", \"globalid\", \"nen3610id\", \"geometry\"]]\n",
    "HHNK[\"gemaal\"] = HHNK[\"gemaal\"][\n",
    "    [\"code\", \"globalid\", \"nen3610id\", \"func_afvoer\", \"func_aanvoer\", \"func_circulatie\", \"geometry\"]\n",
    "]\n",
    "HHNK[\"hydroobject\"] = HHNK[\"hydroobject\"][[\"code\", \"globalid\", \"nen3610id\", \"geometry\"]]\n",
    "HHNK[\"afsluitmiddel\"] = HHNK[\"afsluitmiddel\"][[\"code\", \"globalid\", \"nen3610id\", \"geometry\"]]\n",
    "HHNK[\"duikersifonhevel\"] = HHNK[\"duikersifonhevel\"][[\"code\", \"globalid\", \"nen3610id\", \"geometry\"]]"
   ]
  },
  {
   "cell_type": "markdown",
   "id": "10",
   "metadata": {},
   "source": [
    "### .GDB"
   ]
  },
  {
   "cell_type": "code",
   "execution_count": null,
   "id": "11",
   "metadata": {},
   "outputs": [],
   "source": [
    "data_gdb = data_gdb[[\"streefpeil\", \"geometry\"]]\n",
    "data_gdb[\"globalid\"] = \"dummy_globalid_\" + data_gdb.index.astype(\n",
    "    str\n",
    ")  # create a string as the globalid is usually a str as well\n",
    "streefpeil = data_gdb[[\"streefpeil\", \"globalid\"]]\n",
    "peilgebied = data_gdb[[\"globalid\", \"geometry\"]]\n",
    "\n",
    "# add the data to the dictionary\n",
    "HHNK[\"streefpeil\"] = streefpeil\n",
    "HHNK[\"peilgebied\"] = peilgebied\n",
    "\n",
    "# hand made changes\n",
    "HHNK[\"peilgebied\"] = HHNK[\"peilgebied\"][\n",
    "    HHNK[\"peilgebied\"][\"globalid\"] != 1725\n",
    "]  # not a correct shape. Basically only lines, with 36 seperate segments"
   ]
  },
  {
   "cell_type": "code",
   "execution_count": null,
   "id": "12",
   "metadata": {},
   "outputs": [],
   "source": [
    "HHNK[\"streefpeil\"] = HHNK[\"streefpeil\"].rename(columns={\"streefpeil\": \"waterhoogte\"})\n",
    "HHNK[\"streefpeil\"][\"geometry\"] = None\n",
    "HHNK[\"streefpeil\"] = gpd.GeoDataFrame(HHNK[\"streefpeil\"], geometry=\"geometry\")"
   ]
  },
  {
   "cell_type": "code",
   "execution_count": null,
   "id": "13",
   "metadata": {},
   "outputs": [],
   "source": [
    "# HHNK['streefpeil']['code'] = 'dummy_code_streefpeil_' + HHNK['streefpeil'].index.astype(str)\n",
    "# HHNK['streefpeil']['nen3610id'] = 'dummy_nen3610id_streefpeil_' + HHNK['streefpeil'].index.astype(str)\n",
    "\n",
    "HHNK[\"peilgebied\"][\"code\"] = \"dummy_code_\" + HHNK[\"peilgebied\"].index.astype(str)\n",
    "HHNK[\"peilgebied\"][\"nen3610id\"] = \"dummy_nen3610id_\" + HHNK[\"peilgebied\"].index.astype(str)\n",
    "HHNK[\"peilgebied\"][\"HWS_BZM\"] = False"
   ]
  },
  {
   "cell_type": "markdown",
   "id": "14",
   "metadata": {},
   "source": [
    "### Check for the correct keys and columns"
   ]
  },
  {
   "cell_type": "code",
   "execution_count": null,
   "id": "15",
   "metadata": {},
   "outputs": [],
   "source": [
    "show_layers_and_columns(waterschap=HHNK)"
   ]
  },
  {
   "cell_type": "markdown",
   "id": "16",
   "metadata": {
    "tags": []
   },
   "source": [
    "# Add the boezem and hoofdwatersysteem"
   ]
  },
  {
   "cell_type": "markdown",
   "id": "17",
   "metadata": {},
   "source": [
    "Some changes by hand have been made. The resulting shapefile contains the bordering BZM and HWS shapes, including streefpeil"
   ]
  },
  {
   "cell_type": "code",
   "execution_count": null,
   "id": "18",
   "metadata": {},
   "outputs": [],
   "source": [
    "path_HWS_BZM = \"..\\..\\Scripts\\Aggregeren\\Hoofdwatersysteem\\BZM_HWS_HHNK.shp\"\n",
    "HWS_BZM = gpd.read_file(path_HWS_BZM)"
   ]
  },
  {
   "cell_type": "code",
   "execution_count": null,
   "id": "19",
   "metadata": {},
   "outputs": [],
   "source": [
    "HWS_BZM[\"code\"] = \"dummy_code_\" + (HWS_BZM.index + max(HHNK[\"peilgebied\"].index) + 1).astype(str)\n",
    "HWS_BZM[\"globalid\"] = \"dummy_globalid_\" + (HWS_BZM.index + max(HHNK[\"peilgebied\"].index) + 1).astype(str)\n",
    "HWS_BZM[\"nen3610id\"] = \"dummy_nen3610id_\" + (HWS_BZM.index + max(HHNK[\"peilgebied\"].index) + 1).astype(str)\n",
    "HWS_BZM[\"waterhoogte\"] = HWS_BZM[\"zomerpeil\"]\n",
    "HWS_BZM[\"HWS_BZM\"] = True\n",
    "HWS_BZM = HWS_BZM[[\"code\", \"globalid\", \"nen3610id\", \"waterhoogte\", \"HWS_BZM\", \"geometry\"]]\n",
    "\n",
    "HWS_BZM_peilgebied = HWS_BZM[[\"code\", \"globalid\", \"nen3610id\", \"HWS_BZM\", \"geometry\"]]\n",
    "HWS_BZM_streefpeil = HWS_BZM[[\"waterhoogte\", \"globalid\", \"geometry\"]]\n",
    "\n",
    "HHNK[\"peilgebied\"] = gpd.GeoDataFrame(pd.concat([HHNK[\"peilgebied\"], HWS_BZM_peilgebied])).reset_index(drop=True)\n",
    "HHNK[\"streefpeil\"] = gpd.GeoDataFrame(pd.concat([HHNK[\"streefpeil\"], HWS_BZM_streefpeil])).reset_index(drop=True)"
   ]
  },
  {
   "cell_type": "markdown",
   "id": "20",
   "metadata": {},
   "source": [
    "### Store data"
   ]
  },
  {
   "cell_type": "code",
   "execution_count": null,
   "id": "21",
   "metadata": {},
   "outputs": [],
   "source": [
    "store_data(waterschap=HHNK, output_gpkg_path=output_gpkg_path_HHNK)"
   ]
  },
  {
   "cell_type": "raw",
   "id": "22",
   "metadata": {},
   "source": [
    "Toevoegen aan notities:\n",
    "\n",
    "Duikersifonhevel and hydroobject have a type of multicurvedZ, the peilgebieden a MultiSurfaceZ, which geopandas can not handle. I have manually exported these to single shapes, which automatically converts it to regular MultiStrings. Then these layers have been packed together to a geopackage again. \n",
    "\n",
    "Peilmerk is geometrisch gekoppeld aan peilgebieden, niet administratief. Daarnaast zijn bij een aantal beschikbaar of deze gekoppeld zijn met een gemaal, stuw, duikersifonhevel (wel administratief). Wel is er een streefpeil tabel beschikbaar, die wel administratief gekoppeld is. Ga kijken wat het verschil is.\n",
    "\n",
    "In de streefpeilen kaart zijn er verschillende soorten peilen:\n",
    "- winter\n",
    "- zomer\n",
    "- vast\n",
    "- dynamische bovengrens\n",
    "- dynamische ondergrens"
   ]
  }
 ],
 "metadata": {
  "kernelspec": {
   "display_name": "Routing",
   "language": "python",
   "name": "routing"
  },
  "language_info": {
   "codemirror_mode": {
    "name": "ipython",
    "version": 3
   },
   "file_extension": ".py",
   "mimetype": "text/x-python",
   "name": "python",
   "nbconvert_exporter": "python",
   "pygments_lexer": "ipython3",
   "version": "3.9.13"
  }
 },
 "nbformat": 4,
 "nbformat_minor": 5
}
