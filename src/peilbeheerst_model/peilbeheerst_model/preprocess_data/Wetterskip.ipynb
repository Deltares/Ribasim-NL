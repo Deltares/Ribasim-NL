{
 "cells": [
  {
   "cell_type": "code",
   "execution_count": null,
   "id": "065338fd-62d6-480e-8c80-8bc4b101846b",
   "metadata": {},
   "outputs": [],
   "source": [
    "#import packages and functions\n",
    "import geopandas as gpd\n",
    "import pandas as pd\n",
    "from general_functions import *\n",
    "\n",
    "pd.set_option('display.max_columns', None)\n"
   ]
  },
  {
   "cell_type": "markdown",
   "id": "48a939f4-8a39-4c24-b466-499eba37172d",
   "metadata": {},
   "source": [
    "# Wetterskip Fryslan"
   ]
  },
  {
   "cell_type": "code",
   "execution_count": null,
   "id": "b782b9c9-12b9-461b-8874-a59dad72e4bd",
   "metadata": {},
   "outputs": [],
   "source": [
    "gpkg_path_Wetterskip = \"..\\..\\Data_preprocessed\\Waterschappen\\Wetterskip\\Wetterskip_gecorrigeerde_geometrie.gpkg\"\n",
    "output_gpkg_path_Wetterskip = \"../../Data_postprocessed/Waterschappen/Wetterskip/Wetterskip\"\n",
    "\n",
    "peilgebiedpraktijk_path = r\"D:\\Users\\Bruijns\\Documents\\PR4750_20\\Data_preprocessed\\Waterschappen\\Wetterskip\\Nieuwe_peilgebieden\\MIPWA_20230907WF.gpkg\"\n",
    "streefpeil_path = r\"D:\\Users\\Bruijns\\Documents\\PR4750_20\\Data_preprocessed\\Waterschappen\\Wetterskip\\Nieuwe_peilgebieden\\MIPWA_20230907WF.gpkg\""
   ]
  },
  {
   "cell_type": "code",
   "execution_count": null,
   "id": "b96e6dab-5341-480d-b077-5b05a2984aa7",
   "metadata": {},
   "outputs": [],
   "source": [
    "# Duikersifonhevel and hydroobject have a type of multicurvedZ, the peilgebieden a MultiSurfaceZ, which geopandas can not handle. I have manually \n",
    "# exported these to single shapes, which automatically converts it to regular MultiStrings. Then these layers have been packed together to a\n",
    "# geopackage again. \n",
    "\n",
    "#retrieve the data\n",
    "Wetterskip = read_gpkg_layers(gpkg_path = gpkg_path_Wetterskip, \n",
    "                        variables = ['stuw', \n",
    "                                     'gemaal', \n",
    "                                     'afsluitmiddel',\n",
    "                                     'hydroobject',\n",
    "                                     'duikersifonhevel'],\n",
    "                                     # 'peilmerk',\n",
    "                                     # 'streefpeil',\n",
    "                                     # 'peilgebiedpraktijk', \n",
    "                                     # 'peilgebiedvigerend',\n",
    "                                     # 'peilbesluitgebied'],\n",
    "                        print_var = False)\n",
    "\n",
    "#The peilgebieden en streefpeilen have been delivered as additional data\n",
    "peilgebiedpraktijk = gpd.read_file(peilgebiedpraktijk_path,\n",
    "                                   layer = 'DAMO_W_PeilgebiedPraktijk')\n",
    "\n",
    "streefpeil = gpd.read_file(streefpeil_path,\n",
    "                           layer = 'DAMO_W_Streefpeil')\n"
   ]
  },
  {
   "cell_type": "code",
   "execution_count": null,
   "id": "05d63407-5f32-41a9-afbb-ade51a17b7a4",
   "metadata": {},
   "outputs": [],
   "source": [
    "#merge the streefpeil and the peilgebieden\n",
    "peilgebied = pd.merge(left = streefpeil,\n",
    "                  right = peilgebiedpraktijk,\n",
    "                  left_on = 'PEILGEBIEDPRAKTIJKID',\n",
    "                  right_on = 'GLOBALID')\n",
    "\n",
    "peilgebied = gpd.GeoDataFrame(peilgebied, geometry = 'geometry_y', crs='EPSG:28992')\n",
    "peilgebied.reset_index(drop=True, inplace = True)\n",
    "peilgebied.plot()"
   ]
  },
  {
   "cell_type": "code",
   "execution_count": null,
   "id": "ccc56b93-ad7b-4b80-b197-21c6aa07e07c",
   "metadata": {},
   "outputs": [],
   "source": [
    "peilgebied = peilgebied.explode(ignore_index = True, index_parts=False)\n",
    "# peilgebied"
   ]
  },
  {
   "cell_type": "code",
   "execution_count": null,
   "id": "8e3c5720-ff47-40c2-a3f0-e2e635414ed9",
   "metadata": {},
   "outputs": [],
   "source": [
    "Wetterskip['peilgebied'] = peilgebied[['WATERHOOGTE', 'nen3610id_y', 'GLOBALID_y', 'geometry_y']]\n",
    "Wetterskip['peilgebied'] = Wetterskip['peilgebied'].rename(columns = {'WATERHOOGTE':'waterhoogte',\n",
    "                                                                      'nen3610id_y':'nen3610id',\n",
    "                                                                      'GLOBALID_y':'globalid',\n",
    "                                                                      'geometry_y':'geometry'})\n",
    "\n",
    "#give new globalids and codes, as the peilgebied.explode() results in non unique values.\n",
    "Wetterskip['peilgebied']['code'] = 'dummy_code_peilgebied_' + Wetterskip['peilgebied'].index.astype(str)\n",
    "Wetterskip['peilgebied']['globalid'] = 'dummy_globalid_peilgebied_' + Wetterskip['peilgebied'].index.astype(str)\n",
    "\n",
    "#create the streefpeilen layer\n",
    "Wetterskip['streefpeil'] = Wetterskip['peilgebied'][['waterhoogte', 'globalid', 'geometry']]\n",
    "Wetterskip['peilgebied'] = Wetterskip['peilgebied'][['code', 'nen3610id', 'globalid', 'geometry']]\n",
    "\n",
    "Wetterskip['streefpeil']['geometry'] = None\n",
    "\n",
    "Wetterskip['streefpeil'] = gpd.GeoDataFrame(Wetterskip['streefpeil'], geometry='geometry', crs='EPSG:28992')\n",
    "Wetterskip['peilgebied'] = gpd.GeoDataFrame(Wetterskip['peilgebied'], geometry='geometry', crs='EPSG:28992')\n"
   ]
  },
  {
   "cell_type": "code",
   "execution_count": null,
   "id": "21704eb9-844a-483f-b102-53313a08c3e9",
   "metadata": {},
   "outputs": [],
   "source": [
    "Wetterskip['stuw']['geometry'] = Wetterskip['stuw'].centroid #prevent strange geometries\n",
    "Wetterskip['gemaal']['geometry'] = Wetterskip['gemaal'].centroid #prevent strange geometries\n",
    "\n",
    "Wetterskip['hydroobject'] = Wetterskip['hydroobject'].loc[Wetterskip['hydroobject'].categorieo == 'primair'] #feedback WS Fryslan: only use primaire hydroobjecten"
   ]
  },
  {
   "cell_type": "code",
   "execution_count": null,
   "id": "7eed68de-331a-4829-b78e-ab39db127d71",
   "metadata": {},
   "outputs": [],
   "source": [
    "#determine aanvoer en afvoer gemalen\n",
    "Wetterskip['gemaal']['func_aanvoer'], Wetterskip['gemaal']['func_afvoer'], Wetterskip['gemaal']['func_circulatie']  = False, False, False #default is False\n",
    "Wetterskip['gemaal']['functiegemaal'] = Wetterskip['gemaal']['functiegemaal'].astype(str) \n",
    "\n",
    "Wetterskip['gemaal'].loc[Wetterskip['gemaal'].functiegemaal.str.contains('Onbekend|Onderbemaling|Afvoergemaal'), 'func_afvoer'] = True\n",
    "Wetterskip['gemaal'].loc[Wetterskip['gemaal'].functiegemaal.str.contains('Opmaling|Aanvoer'), 'func_aanvoer'] = True\n",
    "Wetterskip['gemaal'].loc[Wetterskip['gemaal'].functiegemaal.str.contains('Overig|circulatie'), 'func_circulatie'] = True\n",
    "Wetterskip['gemaal'].loc[(Wetterskip['gemaal'].func_afvoer is False) &\n",
    "                       (Wetterskip['gemaal'].func_aanvoer is False) &\n",
    "                       (Wetterskip['gemaal'].func_circulatie is False), 'func_afvoer'] = True #set to afvoergemaal is there the function is unknown\n"
   ]
  },
  {
   "cell_type": "code",
   "execution_count": null,
   "id": "b17739a1-76d0-4d8e-bbf9-2483cc81abe5",
   "metadata": {},
   "outputs": [],
   "source": [
    "#points\n",
    "Wetterskip['stuw'] = Wetterskip['stuw'][['code', 'globalid', 'nen3610id', 'geometry']]\n",
    "Wetterskip['gemaal'] = Wetterskip['gemaal'][['code', 'globalid', 'nen3610id', 'func_afvoer', 'func_aanvoer', 'func_circulatie', 'geometry']]\n",
    "Wetterskip['afsluitmiddel'] = Wetterskip['afsluitmiddel'][['code', 'globalid', 'nen3610id', 'geometry']]\n",
    "\n",
    "#lines\n",
    "Wetterskip['hydroobject'] = Wetterskip['hydroobject'][['code', 'globalid', 'nen3610id', 'geometry']]\n",
    "Wetterskip['duikersifonhevel'] = Wetterskip['duikersifonhevel'][['code', 'globalid', 'nen3610id', 'geometry']]\n"
   ]
  },
  {
   "cell_type": "code",
   "execution_count": null,
   "id": "54ee138a-5c47-414c-a550-68756f739c91",
   "metadata": {},
   "outputs": [],
   "source": [
    "# #delete irrelvant data\n",
    "# variables = ['peilmerk', \n",
    "#              'peilgebiedpraktijk', \n",
    "#              'peilgebiedvigerend',\n",
    "#              'peilbesluitgebied', \n",
    "#              'peilgebiedpraktijk']\n",
    "\n",
    "# for variable in variables:\n",
    "#     if str(variable) in Wetterskip:\n",
    "#         del Wetterskip[variable]\n",
    "        "
   ]
  },
  {
   "cell_type": "code",
   "execution_count": null,
   "id": "660832b6-d52f-4c17-9b15-510c265c0bea",
   "metadata": {},
   "outputs": [],
   "source": [
    "#add duikersifonhevels to the hydroobjecten    \n",
    "Wetterskip['hydroobject'] = pd.concat([Wetterskip['hydroobject'], Wetterskip['duikersifonhevel']])\n",
    "Wetterskip['hydroobject'] = Wetterskip['hydroobject'].drop_duplicates(subset='globalid') #in case it is run multiple times\n",
    "Wetterskip['hydroobject'] = gpd.GeoDataFrame(Wetterskip['hydroobject']).set_crs('epsg:28992')\n"
   ]
  },
  {
   "cell_type": "code",
   "execution_count": null,
   "id": "81d3df9b-574a-4bd7-860f-2ac4fda4bd4f",
   "metadata": {},
   "outputs": [],
   "source": [
    "show_layers_and_columns(waterschap = Wetterskip)"
   ]
  },
  {
   "cell_type": "code",
   "execution_count": null,
   "id": "ddeaea28-d8ad-484d-880c-965cd4bd8faf",
   "metadata": {},
   "outputs": [],
   "source": [
    "store_data(waterschap = Wetterskip, \n",
    "           output_gpkg_path = output_gpkg_path_Wetterskip)\n"
   ]
  },
  {
   "cell_type": "markdown",
   "id": "2f83cab3-fb65-4336-a0ed-36339c34c2dc",
   "metadata": {
    "jp-MarkdownHeadingCollapsed": true,
    "tags": []
   },
   "source": [
    "# Oud"
   ]
  },
  {
   "cell_type": "code",
   "execution_count": null,
   "id": "2982e516-9b1f-4f4e-86cc-5131ff53925a",
   "metadata": {
    "tags": []
   },
   "outputs": [],
   "source": [
    "# layout_path = r\"..\\..\\Data_postprocessed\\QGIS_overzicht\\routing_style_format3.gpkg\"\n",
    "# output_layout_path =  r\"..\\..\\Data_postprocessed\\QGIS_overzicht\\routing_style_format2_saved\"\n",
    "# layout = read_gpkg_layers(gpkg_path = layout_path, \n",
    "#                         variables = ['stuw', \n",
    "#                                      'gemaal', \n",
    "#                                      'afsluitmiddel'])#,\n",
    "#                                      # 'hydroobject',\n",
    "#                                      # 'duikersifonhevel',\n",
    "#                                      # 'streefpeil',\n",
    "#                                      # 'peilgebiedpraktijk', \n",
    "#                                      # 'peilgebiedvigerend'])\n",
    "# store_data(waterschap = layout, \n",
    "#            output_gpkg_path = output_layout_path)\n"
   ]
  },
  {
   "cell_type": "raw",
   "id": "ba602947-7d4c-48b0-9651-683efffd0932",
   "metadata": {},
   "source": [
    "There are some peilgebieden without peil. Merge the peilgebied praktijk and the peilgebiedvigerend. Then, take the difference between this merged peilgebied and the peilbesluit gebied. The leftover areas should get a streefpeil based on the layer of peilmerk."
   ]
  },
  {
   "cell_type": "code",
   "execution_count": null,
   "id": "868691a9-9659-4026-9588-2d9e73f04db5",
   "metadata": {},
   "outputs": [],
   "source": [
    "# peilgebieden_met_peil = peilgebieden_met_peil.rename(columns = {'code_left':'code',\n",
    "#                                                                 'globalid_left':'globalid',\n",
    "#                                                                 'nen3610id_left':'nen3610id',\n",
    "#                                                                 'geometry_left':'geometry',\n",
    "#                                                                 'hoogte':'waterhoogte'})\n",
    "# peilgebieden_met_peil = peilgebieden_met_peil[['waterhoogte','code', 'globalid', 'nen3610id', 'geometry']].reset_index(drop=True)\n",
    "# peilgebieden_met_peil = peilgebieden_met_peil.drop_duplicates(subset='globalid')"
   ]
  },
  {
   "cell_type": "code",
   "execution_count": null,
   "id": "29513621-a948-408e-91cd-9255d55d539b",
   "metadata": {},
   "outputs": [],
   "source": [
    "# #bring the peilgebied in the correct format\n",
    "# extra_peilgebied = peilgebieden_met_peil[['waterhoogte','code','globalid','nen3610id','geometry']].reset_index(drop=True)\n",
    "\n",
    "# #bring the streefpeil in the correct format\n",
    "# extra_peil = peilgebieden_met_peil[['waterhoogte', 'globalid']]\n",
    "# extra_peil = extra_peil.rename(columns = {'globalid':'peilgebiedpraktijkid'})\n",
    "# extra_peil['peilgebiedvigerendid'] = None\n",
    "# extra_peil['geometry'] = None\n",
    "\n",
    "# #add semi dummy globalid's and nen3610id's\n",
    "# extra_peil['globalid'], extra_peil['nen3610id'] = np.arange(0, len(extra_peil)), np.arange(0, len(extra_peil))\n",
    "# extra_peil['globalid'] = 'globalid_wetterskip_streefpeil_' + extra_peil['globalid'].astype(str) \n",
    "# extra_peil['nen3610id'] = 'nen3610id_wetterskip_' + extra_peil['nen3610id'].astype(str) \n"
   ]
  },
  {
   "cell_type": "code",
   "execution_count": null,
   "id": "47072d3d-5d87-40c3-bf57-198d618271ae",
   "metadata": {},
   "outputs": [],
   "source": [
    "# #add the (geo)dataframes together\n",
    "# Wetterskip['peilgebied'] = gpd.GeoDataFrame(pd.concat([peilgebied_PV, extra_peilgebied])).reset_index(drop=True)\n",
    "# Wetterskip['streefpeil'] = gpd.GeoDataFrame(pd.concat([Wetterskip['streefpeil'], extra_peil])).reset_index(drop=True)"
   ]
  },
  {
   "cell_type": "code",
   "execution_count": null,
   "id": "794c3ba1-d2ec-4ed7-9f7c-432fe189cc81",
   "metadata": {},
   "outputs": [],
   "source": [
    "# pd.merge(left=Wetterskip['streefpeil'],\n",
    "#          right=peilgebied_PV,\n",
    "#          left_on='peilgebiedid',\n",
    "#          right_on='globalid')"
   ]
  },
  {
   "cell_type": "code",
   "execution_count": null,
   "id": "7484c309-6a03-492b-a27c-fcf3ef837446",
   "metadata": {},
   "outputs": [],
   "source": [
    "# Wetterskip['streefpeil']['peilgebiedid'] = None\n",
    "# Wetterskip['streefpeil']['peilgebiedid'].fillna(Wetterskip['streefpeil']['peilgebiedvigerendid'], inplace = True)\n",
    "# Wetterskip['streefpeil']['peilgebiedid'].fillna(Wetterskip['streefpeil']['peilgebiedpraktijkid'], inplace = True)\n",
    "\n",
    "# #move the peilgebiedid id to both the peilgebiedenas well as the streefpeilen\n",
    "# Wetterskip['peilgebied'] = gpd.GeoDataFrame()\n",
    "# Wetterskip['peilgebied']['peilgebiedid'] = Wetterskip['streefpeil']['peilgebiedid'] \n",
    "\n",
    "# Wetterskip['peilgebied'][['code','globalid','nen3610id']] = Wetterskip['streefpeil'][['code','globalid','nen3610id',]] \n",
    "\n",
    "\n",
    "# #the peilgebieden have been merged. Drop the irrelevant columns\n",
    "# Wetterskip['streefpeil'] = Wetterskip['streefpeil'][['waterhoogte', 'peilgebiedid']]#.drop(columns=['peilgebiedvigerendid', 'peilgebiedpraktijkid'], inplace = True)\n",
    "# # Wetterskip['peilgebied'] = "
   ]
  },
  {
   "cell_type": "code",
   "execution_count": null,
   "id": "25cfdd50-7216-48aa-a60a-b60710500790",
   "metadata": {},
   "outputs": [],
   "source": []
  },
  {
   "cell_type": "code",
   "execution_count": null,
   "id": "57d0bb94-fc26-4299-804e-8c6a17847c77",
   "metadata": {},
   "outputs": [],
   "source": []
  }
 ],
 "metadata": {
  "kernelspec": {
   "display_name": "Routing",
   "language": "python",
   "name": "routing"
  },
  "language_info": {
   "codemirror_mode": {
    "name": "ipython",
    "version": 3
   },
   "file_extension": ".py",
   "mimetype": "text/x-python",
   "name": "python",
   "nbconvert_exporter": "python",
   "pygments_lexer": "ipython3",
   "version": "3.9.13"
  }
 },
 "nbformat": 4,
 "nbformat_minor": 5
}
