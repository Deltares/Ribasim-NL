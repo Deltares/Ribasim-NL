{
 "cells": [
  {
   "cell_type": "code",
   "execution_count": null,
   "id": "0",
   "metadata": {},
   "outputs": [],
   "source": [
    "# import packages and functions\n",
    "\n",
    "import geopandas as gpd\n",
    "import pandas as pd\n",
    "from general_functions import read_gpkg_layers, show_layers_and_columns, store_data\n",
    "\n",
    "pd.set_option(\"display.max_columns\", None)"
   ]
  },
  {
   "cell_type": "markdown",
   "id": "1",
   "metadata": {},
   "source": [
    "# Wetterskip Fryslan"
   ]
  },
  {
   "cell_type": "code",
   "execution_count": null,
   "id": "2",
   "metadata": {},
   "outputs": [],
   "source": [
    "gpkg_path_Wetterskip = \"..\\..\\Data_preprocessed\\Waterschappen\\Wetterskip\\Wetterskip_gecorrigeerde_geometrie.gpkg\"\n",
    "output_gpkg_path_Wetterskip = \"../../Data_postprocessed/Waterschappen/Wetterskip/Wetterskip\"\n",
    "\n",
    "peilgebiedpraktijk_path = r\"D:\\Users\\Bruijns\\Documents\\PR4750_20\\Data_preprocessed\\Waterschappen\\Wetterskip\\Nieuwe_peilgebieden\\MIPWA_20230907WF.gpkg\"\n",
    "streefpeil_path = r\"D:\\Users\\Bruijns\\Documents\\PR4750_20\\Data_preprocessed\\Waterschappen\\Wetterskip\\Nieuwe_peilgebieden\\MIPWA_20230907WF.gpkg\""
   ]
  },
  {
   "cell_type": "code",
   "execution_count": null,
   "id": "3",
   "metadata": {},
   "outputs": [],
   "source": [
    "# Duikersifonhevel and hydroobject have a type of multicurvedZ, the peilgebieden a MultiSurfaceZ, which geopandas can not handle. I have manually\n",
    "# exported these to single shapes, which automatically converts it to regular MultiStrings. Then these layers have been packed together to a\n",
    "# geopackage again.\n",
    "\n",
    "# retrieve the data\n",
    "Wetterskip = read_gpkg_layers(\n",
    "    gpkg_path=gpkg_path_Wetterskip,\n",
    "    variables=[\"stuw\", \"gemaal\", \"afsluitmiddel\", \"hydroobject\", \"duikersifonhevel\"],\n",
    "    # 'peilmerk',\n",
    "    # 'streefpeil',\n",
    "    # 'peilgebiedpraktijk',\n",
    "    # 'peilgebiedvigerend',\n",
    "    # 'peilbesluitgebied'],\n",
    "    print_var=False,\n",
    ")\n",
    "\n",
    "# The peilgebieden en streefpeilen have been delivered as additional data\n",
    "peilgebiedpraktijk = gpd.read_file(peilgebiedpraktijk_path, layer=\"DAMO_W_PeilgebiedPraktijk\")\n",
    "\n",
    "streefpeil = gpd.read_file(streefpeil_path, layer=\"DAMO_W_Streefpeil\")"
   ]
  },
  {
   "cell_type": "code",
   "execution_count": null,
   "id": "4",
   "metadata": {},
   "outputs": [],
   "source": [
    "# merge the streefpeil and the peilgebieden\n",
    "peilgebied = pd.merge(left=streefpeil, right=peilgebiedpraktijk, left_on=\"PEILGEBIEDPRAKTIJKID\", right_on=\"GLOBALID\")\n",
    "\n",
    "peilgebied = gpd.GeoDataFrame(peilgebied, geometry=\"geometry_y\", crs=\"EPSG:28992\")\n",
    "peilgebied.reset_index(drop=True, inplace=True)\n",
    "peilgebied.plot()"
   ]
  },
  {
   "cell_type": "code",
   "execution_count": null,
   "id": "5",
   "metadata": {},
   "outputs": [],
   "source": [
    "peilgebied = peilgebied.explode(ignore_index=True, index_parts=False)\n",
    "# peilgebied"
   ]
  },
  {
   "cell_type": "code",
   "execution_count": null,
   "id": "6",
   "metadata": {},
   "outputs": [],
   "source": [
    "Wetterskip[\"peilgebied\"] = peilgebied[[\"WATERHOOGTE\", \"nen3610id_y\", \"GLOBALID_y\", \"geometry_y\"]]\n",
    "Wetterskip[\"peilgebied\"] = Wetterskip[\"peilgebied\"].rename(\n",
    "    columns={\n",
    "        \"WATERHOOGTE\": \"waterhoogte\",\n",
    "        \"nen3610id_y\": \"nen3610id\",\n",
    "        \"GLOBALID_y\": \"globalid\",\n",
    "        \"geometry_y\": \"geometry\",\n",
    "    }\n",
    ")\n",
    "\n",
    "# give new globalids and codes, as the peilgebied.explode() results in non unique values.\n",
    "Wetterskip[\"peilgebied\"][\"code\"] = \"dummy_code_peilgebied_\" + Wetterskip[\"peilgebied\"].index.astype(str)\n",
    "Wetterskip[\"peilgebied\"][\"globalid\"] = \"dummy_globalid_peilgebied_\" + Wetterskip[\"peilgebied\"].index.astype(str)\n",
    "\n",
    "# create the streefpeilen layer\n",
    "Wetterskip[\"streefpeil\"] = Wetterskip[\"peilgebied\"][[\"waterhoogte\", \"globalid\", \"geometry\"]]\n",
    "Wetterskip[\"peilgebied\"] = Wetterskip[\"peilgebied\"][[\"code\", \"nen3610id\", \"globalid\", \"geometry\"]]\n",
    "\n",
    "Wetterskip[\"streefpeil\"][\"geometry\"] = None\n",
    "\n",
    "Wetterskip[\"streefpeil\"] = gpd.GeoDataFrame(Wetterskip[\"streefpeil\"], geometry=\"geometry\", crs=\"EPSG:28992\")\n",
    "Wetterskip[\"peilgebied\"] = gpd.GeoDataFrame(Wetterskip[\"peilgebied\"], geometry=\"geometry\", crs=\"EPSG:28992\")"
   ]
  },
  {
   "cell_type": "code",
   "execution_count": null,
   "id": "7",
   "metadata": {},
   "outputs": [],
   "source": [
    "Wetterskip[\"stuw\"][\"geometry\"] = Wetterskip[\"stuw\"].centroid  # prevent strange geometries\n",
    "Wetterskip[\"gemaal\"][\"geometry\"] = Wetterskip[\"gemaal\"].centroid  # prevent strange geometries\n",
    "\n",
    "Wetterskip[\"hydroobject\"] = Wetterskip[\"hydroobject\"].loc[\n",
    "    Wetterskip[\"hydroobject\"].categorieo == \"primair\"\n",
    "]  # feedback WS Fryslan: only use primaire hydroobjecten"
   ]
  },
  {
   "cell_type": "code",
   "execution_count": null,
   "id": "8",
   "metadata": {},
   "outputs": [],
   "source": [
    "# determine aanvoer en afvoer gemalen\n",
    "Wetterskip[\"gemaal\"][\"func_aanvoer\"], Wetterskip[\"gemaal\"][\"func_afvoer\"], Wetterskip[\"gemaal\"][\"func_circulatie\"] = (\n",
    "    False,\n",
    "    False,\n",
    "    False,\n",
    ")  # default is False\n",
    "Wetterskip[\"gemaal\"][\"functiegemaal\"] = Wetterskip[\"gemaal\"][\"functiegemaal\"].astype(str)\n",
    "\n",
    "Wetterskip[\"gemaal\"].loc[\n",
    "    Wetterskip[\"gemaal\"].functiegemaal.str.contains(\"Onbekend|Onderbemaling|Afvoergemaal\"), \"func_afvoer\"\n",
    "] = True\n",
    "Wetterskip[\"gemaal\"].loc[Wetterskip[\"gemaal\"].functiegemaal.str.contains(\"Opmaling|Aanvoer\"), \"func_aanvoer\"] = True\n",
    "Wetterskip[\"gemaal\"].loc[Wetterskip[\"gemaal\"].functiegemaal.str.contains(\"Overig|circulatie\"), \"func_circulatie\"] = True\n",
    "Wetterskip[\"gemaal\"].loc[\n",
    "    ~Wetterskip[\"gemaal\"].func_afvoer & ~Wetterskip[\"gemaal\"].func_aanvoer & ~Wetterskip[\"gemaal\"].func_circulatie,\n",
    "    \"func_afvoer\",\n",
    "] = True  # set to afvoergemaal is there the function is unknown"
   ]
  },
  {
   "cell_type": "code",
   "execution_count": null,
   "id": "9",
   "metadata": {},
   "outputs": [],
   "source": [
    "# points\n",
    "Wetterskip[\"stuw\"] = Wetterskip[\"stuw\"][[\"code\", \"globalid\", \"nen3610id\", \"geometry\"]]\n",
    "Wetterskip[\"gemaal\"] = Wetterskip[\"gemaal\"][\n",
    "    [\"code\", \"globalid\", \"nen3610id\", \"func_afvoer\", \"func_aanvoer\", \"func_circulatie\", \"geometry\"]\n",
    "]\n",
    "Wetterskip[\"afsluitmiddel\"] = Wetterskip[\"afsluitmiddel\"][[\"code\", \"globalid\", \"nen3610id\", \"geometry\"]]\n",
    "\n",
    "# lines\n",
    "Wetterskip[\"hydroobject\"] = Wetterskip[\"hydroobject\"][[\"code\", \"globalid\", \"nen3610id\", \"geometry\"]]\n",
    "Wetterskip[\"duikersifonhevel\"] = Wetterskip[\"duikersifonhevel\"][[\"code\", \"globalid\", \"nen3610id\", \"geometry\"]]"
   ]
  },
  {
   "cell_type": "code",
   "execution_count": null,
   "id": "10",
   "metadata": {},
   "outputs": [],
   "source": [
    "# #delete irrelvant data\n",
    "# variables = ['peilmerk',\n",
    "#              'peilgebiedpraktijk',\n",
    "#              'peilgebiedvigerend',\n",
    "#              'peilbesluitgebied',\n",
    "#              'peilgebiedpraktijk']\n",
    "\n",
    "# for variable in variables:\n",
    "#     if str(variable) in Wetterskip:\n",
    "#         del Wetterskip[variable]\n"
   ]
  },
  {
   "cell_type": "code",
   "execution_count": null,
   "id": "11",
   "metadata": {},
   "outputs": [],
   "source": [
    "# add duikersifonhevels to the hydroobjecten\n",
    "Wetterskip[\"hydroobject\"] = pd.concat([Wetterskip[\"hydroobject\"], Wetterskip[\"duikersifonhevel\"]])\n",
    "Wetterskip[\"hydroobject\"] = Wetterskip[\"hydroobject\"].drop_duplicates(\n",
    "    subset=\"globalid\"\n",
    ")  # in case it is run multiple times\n",
    "Wetterskip[\"hydroobject\"] = gpd.GeoDataFrame(Wetterskip[\"hydroobject\"]).set_crs(\"epsg:28992\")"
   ]
  },
  {
   "cell_type": "code",
   "execution_count": null,
   "id": "12",
   "metadata": {},
   "outputs": [],
   "source": [
    "show_layers_and_columns(waterschap=Wetterskip)"
   ]
  },
  {
   "cell_type": "code",
   "execution_count": null,
   "id": "13",
   "metadata": {},
   "outputs": [],
   "source": [
    "store_data(waterschap=Wetterskip, output_gpkg_path=output_gpkg_path_Wetterskip)"
   ]
  },
  {
   "cell_type": "markdown",
   "id": "14",
   "metadata": {
    "jp-MarkdownHeadingCollapsed": true,
    "tags": []
   },
   "source": [
    "# Oud"
   ]
  },
  {
   "cell_type": "code",
   "execution_count": null,
   "id": "15",
   "metadata": {
    "tags": []
   },
   "outputs": [],
   "source": [
    "# layout_path = r\"..\\..\\Data_postprocessed\\QGIS_overzicht\\routing_style_format3.gpkg\"\n",
    "# output_layout_path =  r\"..\\..\\Data_postprocessed\\QGIS_overzicht\\routing_style_format2_saved\"\n",
    "# layout = read_gpkg_layers(gpkg_path = layout_path,\n",
    "#                         variables = ['stuw',\n",
    "#                                      'gemaal',\n",
    "#                                      'afsluitmiddel'])#,\n",
    "#                                      # 'hydroobject',\n",
    "#                                      # 'duikersifonhevel',\n",
    "#                                      # 'streefpeil',\n",
    "#                                      # 'peilgebiedpraktijk',\n",
    "#                                      # 'peilgebiedvigerend'])\n",
    "# store_data(waterschap = layout,\n",
    "#            output_gpkg_path = output_layout_path)\n"
   ]
  },
  {
   "cell_type": "raw",
   "id": "16",
   "metadata": {},
   "source": [
    "There are some peilgebieden without peil. Merge the peilgebied praktijk and the peilgebiedvigerend. Then, take the difference between this merged peilgebied and the peilbesluit gebied. The leftover areas should get a streefpeil based on the layer of peilmerk."
   ]
  },
  {
   "cell_type": "code",
   "execution_count": null,
   "id": "17",
   "metadata": {},
   "outputs": [],
   "source": [
    "# peilgebieden_met_peil = peilgebieden_met_peil.rename(columns = {'code_left':'code',\n",
    "#                                                                 'globalid_left':'globalid',\n",
    "#                                                                 'nen3610id_left':'nen3610id',\n",
    "#                                                                 'geometry_left':'geometry',\n",
    "#                                                                 'hoogte':'waterhoogte'})\n",
    "# peilgebieden_met_peil = peilgebieden_met_peil[['waterhoogte','code', 'globalid', 'nen3610id', 'geometry']].reset_index(drop=True)\n",
    "# peilgebieden_met_peil = peilgebieden_met_peil.drop_duplicates(subset='globalid')"
   ]
  },
  {
   "cell_type": "code",
   "execution_count": null,
   "id": "18",
   "metadata": {},
   "outputs": [],
   "source": [
    "# #bring the peilgebied in the correct format\n",
    "# extra_peilgebied = peilgebieden_met_peil[['waterhoogte','code','globalid','nen3610id','geometry']].reset_index(drop=True)\n",
    "\n",
    "# #bring the streefpeil in the correct format\n",
    "# extra_peil = peilgebieden_met_peil[['waterhoogte', 'globalid']]\n",
    "# extra_peil = extra_peil.rename(columns = {'globalid':'peilgebiedpraktijkid'})\n",
    "# extra_peil['peilgebiedvigerendid'] = None\n",
    "# extra_peil['geometry'] = None\n",
    "\n",
    "# #add semi dummy globalid's and nen3610id's\n",
    "# extra_peil['globalid'], extra_peil['nen3610id'] = np.arange(0, len(extra_peil)), np.arange(0, len(extra_peil))\n",
    "# extra_peil['globalid'] = 'globalid_wetterskip_streefpeil_' + extra_peil['globalid'].astype(str)\n",
    "# extra_peil['nen3610id'] = 'nen3610id_wetterskip_' + extra_peil['nen3610id'].astype(str)\n"
   ]
  },
  {
   "cell_type": "code",
   "execution_count": null,
   "id": "19",
   "metadata": {},
   "outputs": [],
   "source": [
    "# #add the (geo)dataframes together\n",
    "# Wetterskip['peilgebied'] = gpd.GeoDataFrame(pd.concat([peilgebied_PV, extra_peilgebied])).reset_index(drop=True)\n",
    "# Wetterskip['streefpeil'] = gpd.GeoDataFrame(pd.concat([Wetterskip['streefpeil'], extra_peil])).reset_index(drop=True)"
   ]
  },
  {
   "cell_type": "code",
   "execution_count": null,
   "id": "20",
   "metadata": {},
   "outputs": [],
   "source": [
    "# pd.merge(left=Wetterskip['streefpeil'],\n",
    "#          right=peilgebied_PV,\n",
    "#          left_on='peilgebiedid',\n",
    "#          right_on='globalid')"
   ]
  },
  {
   "cell_type": "code",
   "execution_count": null,
   "id": "21",
   "metadata": {},
   "outputs": [],
   "source": [
    "# Wetterskip['streefpeil']['peilgebiedid'] = None\n",
    "# Wetterskip['streefpeil']['peilgebiedid'].fillna(Wetterskip['streefpeil']['peilgebiedvigerendid'], inplace = True)\n",
    "# Wetterskip['streefpeil']['peilgebiedid'].fillna(Wetterskip['streefpeil']['peilgebiedpraktijkid'], inplace = True)\n",
    "\n",
    "# #move the peilgebiedid id to both the peilgebiedenas well as the streefpeilen\n",
    "# Wetterskip['peilgebied'] = gpd.GeoDataFrame()\n",
    "# Wetterskip['peilgebied']['peilgebiedid'] = Wetterskip['streefpeil']['peilgebiedid']\n",
    "\n",
    "# Wetterskip['peilgebied'][['code','globalid','nen3610id']] = Wetterskip['streefpeil'][['code','globalid','nen3610id',]]\n",
    "\n",
    "\n",
    "# #the peilgebieden have been merged. Drop the irrelevant columns\n",
    "# Wetterskip['streefpeil'] = Wetterskip['streefpeil'][['waterhoogte', 'peilgebiedid']]#.drop(columns=['peilgebiedvigerendid', 'peilgebiedpraktijkid'], inplace = True)\n",
    "# # Wetterskip['peilgebied'] ="
   ]
  },
  {
   "cell_type": "code",
   "execution_count": null,
   "id": "22",
   "metadata": {},
   "outputs": [],
   "source": []
  },
  {
   "cell_type": "code",
   "execution_count": null,
   "id": "23",
   "metadata": {},
   "outputs": [],
   "source": []
  }
 ],
 "metadata": {
  "kernelspec": {
   "display_name": "Routing",
   "language": "python",
   "name": "routing"
  },
  "language_info": {
   "codemirror_mode": {
    "name": "ipython",
    "version": 3
   },
   "file_extension": ".py",
   "mimetype": "text/x-python",
   "name": "python",
   "nbconvert_exporter": "python",
   "pygments_lexer": "ipython3",
   "version": "3.9.13"
  }
 },
 "nbformat": 4,
 "nbformat_minor": 5
}
