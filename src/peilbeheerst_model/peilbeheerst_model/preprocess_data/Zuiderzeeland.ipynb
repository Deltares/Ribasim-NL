{
 "cells": [
  {
   "cell_type": "code",
   "execution_count": null,
   "id": "065338fd-62d6-480e-8c80-8bc4b101846b",
   "metadata": {},
   "outputs": [],
   "source": [
    "# import packages and functions\n",
    "import os\n",
    "\n",
    "import fiona\n",
    "import geopandas as gpd\n",
    "import numpy as np\n",
    "import pandas as pd"
   ]
  },
  {
   "cell_type": "code",
   "execution_count": null,
   "id": "3f5aaa20-7965-4aa7-bf24-79965d87edb1",
   "metadata": {},
   "outputs": [],
   "source": [
    "from general_functions import *"
   ]
  },
  {
   "cell_type": "code",
   "execution_count": null,
   "id": "cbbec2b5-c309-4a42-a914-dd33c2da3610",
   "metadata": {},
   "outputs": [],
   "source": [
    "pd.set_option(\"display.max_columns\", None)"
   ]
  },
  {
   "cell_type": "code",
   "execution_count": null,
   "id": "e7bb775e-cc57-4586-a13c-8d9ba05ace6b",
   "metadata": {},
   "outputs": [],
   "source": [
    "# define relative paths\n",
    "waterschap = \"Zuiderzeeland\"\n",
    "path_zzl = \"..\\..\\Data_preprocessed\\Waterschappen\\Zuiderzeeland\"\n",
    "output_gpkg_path = \"../../Data_postprocessed/Waterschappen/Zuiderzeeland\""
   ]
  },
  {
   "cell_type": "markdown",
   "id": "ffeed567-f858-4e46-83ff-89b7d7ea9b6d",
   "metadata": {},
   "source": [
    "# Zuiderzeeland"
   ]
  },
  {
   "cell_type": "code",
   "execution_count": null,
   "id": "636e86b9-bd75-4f8f-91eb-e757fba21fde",
   "metadata": {
    "tags": []
   },
   "outputs": [],
   "source": [
    "Zuiderzeeland = {}\n",
    "\n",
    "Zuiderzeeland[\"gemaal\"] = gpd.read_file(path_zzl + \"\\gemalen.gpkg\")\n",
    "Zuiderzeeland[\"hevels\"] = gpd.read_file(path_zzl + \"\\overigekunstwerken.gpkg\")\n",
    "# Zuiderzeeland['peilgebied'] = gpd.read_file(path_zzl + '\\peilgebieden.gpkg')\n",
    "Zuiderzeeland[\"peilgebied\"] = gpd.read_file(path_zzl + \"\\peilvakken_nalevering.gpkg\")\n",
    "\n",
    "\n",
    "# use fiona for the duikersifonhevels and watergangen due to unexpted geometry types\n",
    "with fiona.open(path_zzl + \"/Duikers.gpkg\", \"r\") as file:\n",
    "    # Read the contents and store them in the GeoDataFrame\n",
    "    Zuiderzeeland[\"duikersifonhevel\"] = gpd.GeoDataFrame.from_features(file, crs=\"EPSG:28992\")\n",
    "\n",
    "with fiona.open(path_zzl + \"/zzl_watergangen_nalevering/zzl_Watergangen.shp\", \"r\") as file:\n",
    "    # Read the contents and store them in the GeoDataFrame\n",
    "    Zuiderzeeland[\"hydroobject\"] = gpd.GeoDataFrame.from_features(file)"
   ]
  },
  {
   "cell_type": "code",
   "execution_count": null,
   "id": "a0d86e2c-d365-4a03-8276-d59f93367128",
   "metadata": {},
   "outputs": [],
   "source": [
    "Zuiderzeeland[\"hydroobject\"] = Zuiderzeeland[\"hydroobject\"].set_crs(crs=\"WGS84\", allow_override=True)\n",
    "Zuiderzeeland[\"hydroobject\"] = Zuiderzeeland[\"hydroobject\"].to_crs(crs=\"EPSG:28992\")"
   ]
  },
  {
   "cell_type": "raw",
   "id": "920dff3d-f81f-4e88-a8be-67fa2c60d41b",
   "metadata": {},
   "source": [
    "ZZL: stuwen in KWKSOORT in overigekunstwerken.gpkg"
   ]
  },
  {
   "cell_type": "code",
   "execution_count": null,
   "id": "28a99515-40c8-4a8e-b78f-0781869de8be",
   "metadata": {},
   "outputs": [],
   "source": [
    "KWKSOORT_stuw = [\"Constructie\", \"inlaat\", \"uitlaat\", \"keerwand\"]  # gebasseerd op de geleverde data van Zuiderzeeland\n",
    "\n",
    "Zuiderzeeland[\"stuw\"] = (\n",
    "    Zuiderzeeland[\"hevels\"].loc[Zuiderzeeland[\"hevels\"][\"KWKSOORT\"].isin(KWKSOORT_stuw)].reset_index(drop=True)\n",
    ")\n",
    "Zuiderzeeland[\"stuw\"].geometry = Zuiderzeeland[\"stuw\"].centroid  # prevent pointZ geometries"
   ]
  },
  {
   "cell_type": "code",
   "execution_count": null,
   "id": "e58ee099-54b3-415b-8222-9545776a7a61",
   "metadata": {},
   "outputs": [],
   "source": [
    "# distinguish multiple parameters from the same gpkg\n",
    "Zuiderzeeland[\"afsluitmiddel\"] = (\n",
    "    Zuiderzeeland[\"hevels\"].loc[Zuiderzeeland[\"hevels\"][\"KWKSOORT\"] == \"Afsluitmiddel (groot)\"].reset_index(drop=True)\n",
    ")\n",
    "Zuiderzeeland[\"hevels\"] = (\n",
    "    Zuiderzeeland[\"hevels\"].loc[Zuiderzeeland[\"hevels\"][\"KWKSOORT\"] == \"Hevel\"].reset_index(drop=True)\n",
    ")"
   ]
  },
  {
   "cell_type": "code",
   "execution_count": null,
   "id": "a9a814bb-bf6a-4822-9447-c8fb0bbc57ae",
   "metadata": {},
   "outputs": [],
   "source": [
    "# determine aanvoer en afvoer gemalen\n",
    "(\n",
    "    Zuiderzeeland[\"gemaal\"][\"func_aanvoer\"],\n",
    "    Zuiderzeeland[\"gemaal\"][\"func_afvoer\"],\n",
    "    Zuiderzeeland[\"gemaal\"][\"func_circulatie\"],\n",
    ") = False, False, False  # default is False\n",
    "Zuiderzeeland[\"gemaal\"][\"functiegemaal\"] = Zuiderzeeland[\"gemaal\"][\"KGMFUNC\"].astype(str)\n",
    "Zuiderzeeland[\"gemaal\"].loc[Zuiderzeeland[\"gemaal\"][\"functiegemaal\"] == \"onbekend\", \"functiegemaal\"] = (\n",
    "    np.nan\n",
    ")  # replace onbekend with nan, will be filled up later see one line below\n",
    "Zuiderzeeland[\"gemaal\"][\"functiegemaal\"].fillna(\n",
    "    Zuiderzeeland[\"gemaal\"][\"KGMSOORT\"], inplace=True\n",
    ")  # some additional is given in this column\n",
    "\n",
    "Zuiderzeeland[\"gemaal\"].loc[\n",
    "    Zuiderzeeland[\"gemaal\"].functiegemaal.str.contains(\"af-|afvoer|onderbemaling\"), \"func_afvoer\"\n",
    "] = True\n",
    "Zuiderzeeland[\"gemaal\"].loc[\n",
    "    Zuiderzeeland[\"gemaal\"].functiegemaal.str.contains(\"aanvoergemaal|opmaling\"), \"func_aanvoer\"\n",
    "] = True\n",
    "Zuiderzeeland[\"gemaal\"].loc[Zuiderzeeland[\"gemaal\"].functiegemaal.str.contains(\"circulatie\"), \"func_circulatie\"] = True\n",
    "Zuiderzeeland[\"gemaal\"].loc[\n",
    "    (Zuiderzeeland[\"gemaal\"].func_afvoer == False)\n",
    "    & (Zuiderzeeland[\"gemaal\"].func_aanvoer == False)\n",
    "    & (Zuiderzeeland[\"gemaal\"].func_circulatie == False),\n",
    "    \"func_afvoer\",\n",
    "] = True  # set to afvoergemaal is there the function is unknown"
   ]
  },
  {
   "cell_type": "code",
   "execution_count": null,
   "id": "5a55866b-ece5-45ce-836d-c8b1fc737c2b",
   "metadata": {},
   "outputs": [],
   "source": []
  },
  {
   "cell_type": "code",
   "execution_count": null,
   "id": "aec76a19-0893-48a0-b1af-c8c871d0557d",
   "metadata": {},
   "outputs": [],
   "source": [
    "# Gemaal\n",
    "Zuiderzeeland[\"gemaal\"] = Zuiderzeeland[\"gemaal\"][\n",
    "    [\"KGMIDENT\", \"GLOBALID\", \"func_aanvoer\", \"func_afvoer\", \"func_circulatie\", \"geometry\"]\n",
    "]\n",
    "Zuiderzeeland[\"gemaal\"] = Zuiderzeeland[\"gemaal\"].rename(columns={\"KGMIDENT\": \"code\", \"GLOBALID\": \"globalid\"})\n",
    "Zuiderzeeland[\"gemaal\"][\"nen3610id\"] = \"dummy_nen3610id_gemaal_\" + Zuiderzeeland[\"gemaal\"].index.astype(str)\n",
    "\n",
    "# Hydroobject\n",
    "Zuiderzeeland[\"hydroobject\"] = Zuiderzeeland[\"hydroobject\"][[\"OWAIDENT\", \"GLOBALID\", \"geometry\"]]\n",
    "Zuiderzeeland[\"hydroobject\"] = Zuiderzeeland[\"hydroobject\"].rename(columns={\"OWAIDENT\": \"code\", \"GLOBALID\": \"globalid\"})\n",
    "Zuiderzeeland[\"hydroobject\"][\"nen3610id\"] = \"dummy_nen3610id_hydroobject_\" + Zuiderzeeland[\"hydroobject\"].index.astype(\n",
    "    str\n",
    ")\n",
    "\n",
    "# duikersifonhevel\n",
    "Zuiderzeeland[\"duikersifonhevel\"] = Zuiderzeeland[\"duikersifonhevel\"][[\"KDUIDENT\", \"GLOBALID\", \"geometry\"]]\n",
    "Zuiderzeeland[\"duikersifonhevel\"] = Zuiderzeeland[\"duikersifonhevel\"].rename(\n",
    "    columns={\"KDUIDENT\": \"code\", \"GLOBALID\": \"globalid\"}\n",
    ")\n",
    "Zuiderzeeland[\"duikersifonhevel\"][\"nen3610id\"] = \"dummy_nen3610id_duikersifonhevel_\" + Zuiderzeeland[\n",
    "    \"duikersifonhevel\"\n",
    "].index.astype(str)\n",
    "\n",
    "# hevels\n",
    "Zuiderzeeland[\"hevels\"] = Zuiderzeeland[\"hevels\"][[\"KWKIDENT\", \"GLOBALID\", \"geometry\"]]\n",
    "Zuiderzeeland[\"hevels\"] = Zuiderzeeland[\"hevels\"].rename(columns={\"KWKIDENT\": \"code\", \"GLOBALID\": \"globalid\"})\n",
    "Zuiderzeeland[\"hevels\"][\"nen3610id\"] = \"dummy_nen3610id_hevels_\" + Zuiderzeeland[\"hevels\"].index.astype(str)\n",
    "# add to the duikersifonhevel\n",
    "Zuiderzeeland[\"duikersifonhevel\"] = gpd.GeoDataFrame(\n",
    "    pd.concat((Zuiderzeeland[\"duikersifonhevel\"], Zuiderzeeland[\"hevels\"]))\n",
    ")\n",
    "\n",
    "# stuw\n",
    "Zuiderzeeland[\"stuw\"] = Zuiderzeeland[\"stuw\"][[\"KWKIDENT\", \"GLOBALID\", \"geometry\", \"KWKSOORT\"]]\n",
    "Zuiderzeeland[\"stuw\"] = Zuiderzeeland[\"stuw\"].rename(\n",
    "    columns={\"KWKIDENT\": \"code\", \"GLOBALID\": \"globalid\", \"KWKSOORT\": \"KWKsoort\"}\n",
    ")\n",
    "Zuiderzeeland[\"stuw\"] = Zuiderzeeland[\"stuw\"].set_crs(\"EPSG:28992\")\n",
    "Zuiderzeeland[\"stuw\"][\"nen3610id\"] = \"dummy_nen3610id_stuw_\" + Zuiderzeeland[\"stuw\"].index.astype(str)\n",
    "\n",
    "# afsluitmiddel\n",
    "Zuiderzeeland[\"afsluitmiddel\"] = Zuiderzeeland[\"afsluitmiddel\"][[\"KWKIDENT\", \"GLOBALID\", \"geometry\"]]\n",
    "Zuiderzeeland[\"afsluitmiddel\"] = Zuiderzeeland[\"afsluitmiddel\"].rename(\n",
    "    columns={\"KWKIDENT\": \"code\", \"GLOBALID\": \"globalid\"}\n",
    ")\n",
    "Zuiderzeeland[\"afsluitmiddel\"][\"nen3610id\"] = \"dummy_nen3610id_hevels_\" + Zuiderzeeland[\"afsluitmiddel\"].index.astype(\n",
    "    str\n",
    ")\n",
    "\n",
    "# peilgebied\n",
    "Zuiderzeeland[\"peilgebied\"] = Zuiderzeeland[\"peilgebied\"][[\"DHYDRO_ZMRPL\", \"GPGIDENT\", \"geometry\"]]\n",
    "Zuiderzeeland[\"peilgebied\"][\"nen3610id\"] = \"dummy_nen3610id_peilgebied_\" + Zuiderzeeland[\"peilgebied\"].index.astype(str)\n",
    "Zuiderzeeland[\"peilgebied\"][\"globalid\"] = \"dummy_globalid_peilgebied_\" + Zuiderzeeland[\"peilgebied\"].index.astype(str)\n",
    "Zuiderzeeland[\"peilgebied\"] = Zuiderzeeland[\"peilgebied\"].rename(\n",
    "    columns={\"DHYDRO_ZMRPL\": \"streefpeil\", \"GPGIDENT\": \"code\"}\n",
    ")\n",
    "Zuiderzeeland[\"peilgebied\"][\"globalid\"] = \"dummy_globalid_peilgebied_\" + Zuiderzeeland[\"peilgebied\"].index.astype(str)\n",
    "\n",
    "# streefpeil\n",
    "Zuiderzeeland[\"streefpeil\"] = Zuiderzeeland[\"peilgebied\"][[\"streefpeil\", \"globalid\"]]\n",
    "Zuiderzeeland[\"streefpeil\"][\"geometry\"] = np.nan\n",
    "Zuiderzeeland[\"streefpeil\"].rename(columns={\"streefpeil\": \"waterhoogte\"}, inplace=True)\n",
    "Zuiderzeeland[\"streefpeil\"] = gpd.GeoDataFrame(Zuiderzeeland[\"streefpeil\"], geometry=\"geometry\")\n",
    "\n",
    "# delete the streefpeil in the peilgebied for consistency\n",
    "Zuiderzeeland[\"peilgebied\"] = Zuiderzeeland[\"peilgebied\"][[\"code\", \"globalid\", \"nen3610id\", \"geometry\"]]"
   ]
  },
  {
   "cell_type": "markdown",
   "id": "21ccbba5-8e59-4134-9209-db988bc5c3d5",
   "metadata": {},
   "source": [
    "### Check for the correct keys and columns"
   ]
  },
  {
   "cell_type": "code",
   "execution_count": null,
   "id": "b064a376-0396-4c93-a2ad-eca3eea54598",
   "metadata": {},
   "outputs": [],
   "source": [
    "show_layers_and_columns(waterschap=Zuiderzeeland)"
   ]
  },
  {
   "cell_type": "markdown",
   "id": "e4e74b4c-17ba-4829-9531-248f4d74cfad",
   "metadata": {},
   "source": [
    "### Store data"
   ]
  },
  {
   "cell_type": "code",
   "execution_count": null,
   "id": "556aea48-a819-4f70-8e22-6c843354a46d",
   "metadata": {},
   "outputs": [],
   "source": [
    "# Check if the directory exists. If it doesn't exist, create it\n",
    "\n",
    "if not os.path.exists(output_gpkg_path):\n",
    "    os.makedirs(output_gpkg_path)\n",
    "\n",
    "store_data(waterschap=Zuiderzeeland, output_gpkg_path=output_gpkg_path + \"/Zuiderzeeland\")"
   ]
  },
  {
   "cell_type": "code",
   "execution_count": null,
   "id": "116f9f2a-ad97-44c5-9a2f-ba43c80e4b2d",
   "metadata": {},
   "outputs": [],
   "source": []
  },
  {
   "cell_type": "code",
   "execution_count": null,
   "id": "01a06379-58e7-4621-b998-4f95b947bd63",
   "metadata": {},
   "outputs": [],
   "source": []
  },
  {
   "cell_type": "code",
   "execution_count": null,
   "id": "f48ffb3f-11d0-41d7-9254-61b2c7873436",
   "metadata": {},
   "outputs": [],
   "source": []
  }
 ],
 "metadata": {
  "kernelspec": {
   "display_name": "Routing",
   "language": "python",
   "name": "routing"
  },
  "language_info": {
   "codemirror_mode": {
    "name": "ipython",
    "version": 3
   },
   "file_extension": ".py",
   "mimetype": "text/x-python",
   "name": "python",
   "nbconvert_exporter": "python",
   "pygments_lexer": "ipython3",
   "version": "3.9.13"
  }
 },
 "nbformat": 4,
 "nbformat_minor": 5
}
