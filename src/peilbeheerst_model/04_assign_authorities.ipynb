{
 "cells": [
  {
   "cell_type": "code",
   "execution_count": 185,
   "id": "d1000859-8d91-4dc4-b222-cb9351860f64",
   "metadata": {},
   "outputs": [],
   "source": [
    "import pandas as pd\n",
    "import geopandas as gpd\n",
    "import os\n",
    "import numpy as np\n",
    "import matplotlib.pyplot as plt"
   ]
  },
  {
   "cell_type": "code",
   "execution_count": 186,
   "id": "ba1db522-b335-443e-bfa9-def36b3fee03",
   "metadata": {},
   "outputs": [],
   "source": [
    "ws_buffer = 1025\n",
    "RWS_buffer = 1000"
   ]
  },
  {
   "cell_type": "code",
   "execution_count": 187,
   "id": "430592bc-5231-43ee-b666-aa3ccb58092a",
   "metadata": {},
   "outputs": [],
   "source": [
    "#load data\n",
    "wsgrenzen = r\"../../../../Data_overig/Waterschapsgrenzen/waterschap.gpkg\"\n",
    "RWSgrenzen = r\"../../../../Data_overig/Waterschapsgrenzen/Rijkswaterstaat.gpkg\"\n",
    "\n",
    "wsgrenzen = gpd.read_file(wsgrenzen)\n",
    "RWSgrenzen = gpd.read_file(RWSgrenzen)\n"
   ]
  },
  {
   "cell_type": "code",
   "execution_count": 188,
   "id": "bf133bc8-16bd-4d1b-85f5-e06b22a8c129",
   "metadata": {},
   "outputs": [],
   "source": [
    "#clean df and names\n",
    "wsgrenzen = wsgrenzen[['naam', 'geometry']]\n",
    "\n",
    "# Removing \"\\n\", \"waterschap\", \"Hoogheemraadschap\", \"van\" and spaces and commas\n",
    "wsgrenzen['naam'] = wsgrenzen['naam'].str.replace(r'\\n', '', regex=True)\n",
    "wsgrenzen['naam'] = wsgrenzen['naam'].str.replace('Waterschap', '', regex=False)\n",
    "wsgrenzen['naam'] = wsgrenzen['naam'].str.replace('Hoogheemraadschap', '', regex=False)\n",
    "wsgrenzen['naam'] = wsgrenzen['naam'].str.replace('De S', 'S', regex=False) #HDSR\n",
    "wsgrenzen['naam'] = wsgrenzen['naam'].str.replace('â', 'a', regex=False) #WF\n",
    "wsgrenzen['naam'] = wsgrenzen['naam'].str.replace('van', '', regex=False)\n",
    "wsgrenzen['naam'] = wsgrenzen['naam'].str.replace(',', '', regex=False)\n",
    "wsgrenzen['naam'] = wsgrenzen['naam'].str.replace(\"'\", '', regex=False)\n",
    "wsgrenzen['naam'] = wsgrenzen['naam'].str.replace(' ', '', regex=False)\n",
    "\n",
    "wsgrenzen = wsgrenzen.sort_values(by = 'naam').reset_index(drop=True)\n",
    "wsgrenzen_OG = wsgrenzen.copy()\n"
   ]
  },
  {
   "cell_type": "code",
   "execution_count": 189,
   "id": "62c4cb6b-3a4b-4a31-bf66-ce096ed4f9ae",
   "metadata": {},
   "outputs": [
    {
     "name": "stderr",
     "output_type": "stream",
     "text": [
      "/tmp/ipykernel_2272423/193568770.py:2: FutureWarning: Currently, index_parts defaults to True, but in the future, it will default to False to be consistent with Pandas. Use `index_parts=True` to keep the current behavior and True/False to silence the warning.\n",
      "  wsgrenzen = wsgrenzen.explode()\n"
     ]
    }
   ],
   "source": [
    "#get rid of irrelvant polygons\n",
    "wsgrenzen = wsgrenzen.explode()\n",
    "wsgrenzen['area'] = wsgrenzen.area\n",
    "wsgrenzen = wsgrenzen.loc[wsgrenzen.area > 10000000] #remove some small polygons\n",
    "wsgrenzen.reset_index(drop=True, inplace=True)"
   ]
  },
  {
   "cell_type": "code",
   "execution_count": 190,
   "id": "fbc89171-a08b-491b-8c2d-c48801c6a288",
   "metadata": {},
   "outputs": [],
   "source": [
    "#add RWSgrenzen. Buffer and dissolve it\n",
    "RWSgrenzen['geometry'] = RWSgrenzen.buffer(RWS_buffer)\n",
    "RWSgrenzen = RWSgrenzen.dissolve()[['geometry']]\n",
    "# RWSgrenzen['naam'] = 'Rijkswaterstaat'"
   ]
  },
  {
   "cell_type": "code",
   "execution_count": 191,
   "id": "faf41d87-b8dc-4d91-8a5a-04ae57cc62bc",
   "metadata": {},
   "outputs": [
    {
     "name": "stderr",
     "output_type": "stream",
     "text": [
      "/tmp/ipykernel_2272423/1225746930.py:2: UserWarning: `keep_geom_type=True` in overlay resulted in 996 dropped geometries of different geometry types than df1 has. Set `keep_geom_type=False` to retain all geometries\n",
      "  wsgrenzen_cut_out = gpd.overlay(wsgrenzen, RWSgrenzen, how='symmetric_difference')\n"
     ]
    }
   ],
   "source": [
    "# Remove the RWS area in each WS\n",
    "wsgrenzen_cut_out = gpd.overlay(wsgrenzen, RWSgrenzen, how='symmetric_difference')\n",
    "wsgrenzen_cut_out.dropna(inplace=True)"
   ]
  },
  {
   "cell_type": "code",
   "execution_count": 192,
   "id": "85111d5d-8dc9-40f8-a8ba-fbc3e62c9d5a",
   "metadata": {},
   "outputs": [],
   "source": [
    "#add a name to the RWS area\n",
    "RWSgrenzen['naam'] = 'Rijkswaterstaat'"
   ]
  },
  {
   "cell_type": "code",
   "execution_count": 193,
   "id": "f5f6dc12-1a77-4dd8-b82a-04b788c97bc7",
   "metadata": {},
   "outputs": [],
   "source": [
    "#add a buffer to each waterschap. Within this strip an authority will be found.\n",
    "wsgrenzen_cut_out['geometry'] = wsgrenzen_cut_out.buffer(ws_buffer)"
   ]
  },
  {
   "cell_type": "code",
   "execution_count": 194,
   "id": "1d19c689-a1a9-4ca3-8908-fc8318036ab8",
   "metadata": {},
   "outputs": [],
   "source": [
    "#add the two layers together\n",
    "authority_borders = pd.concat([wsgrenzen_cut_out, RWSgrenzen])\n",
    "authority_borders = authority_borders.reset_index(drop=True)\n",
    "authority_borders = gpd.GeoDataFrame(authority_borders, geometry = 'geometry').set_crs(crs='EPSG:28992')"
   ]
  },
  {
   "cell_type": "code",
   "execution_count": 195,
   "id": "de94b2ce-51df-45e2-b4aa-bdf150ce6d69",
   "metadata": {},
   "outputs": [],
   "source": [
    "# Add a bit more area by dissolving it with the original gdf\n",
    "authority_borders = pd.concat([authority_borders, wsgrenzen_OG])\n",
    "authority_borders = gpd.GeoDataFrame(authority_borders, geometry = 'geometry').set_crs(crs='EPSG:28992')\n",
    "authority_borders = authority_borders.dissolve(by='naam', as_index=False)"
   ]
  },
  {
   "cell_type": "code",
   "execution_count": 197,
   "id": "86c726a9-ba45-4053-91c3-8f06afcf1728",
   "metadata": {},
   "outputs": [],
   "source": [
    "#inspect results\n",
    "# authority_borders[['naam', 'geometry']].to_file('authority_borders.gpkg', driver='GPKG')"
   ]
  },
  {
   "cell_type": "code",
   "execution_count": 196,
   "id": "d2d405ff-596f-4849-b37d-ad0c61bec0ad",
   "metadata": {},
   "outputs": [
    {
     "data": {
      "text/html": [
       "<div>\n",
       "<style scoped>\n",
       "    .dataframe tbody tr th:only-of-type {\n",
       "        vertical-align: middle;\n",
       "    }\n",
       "\n",
       "    .dataframe tbody tr th {\n",
       "        vertical-align: top;\n",
       "    }\n",
       "\n",
       "    .dataframe thead th {\n",
       "        text-align: right;\n",
       "    }\n",
       "</style>\n",
       "<table border=\"1\" class=\"dataframe\">\n",
       "  <thead>\n",
       "    <tr style=\"text-align: right;\">\n",
       "      <th></th>\n",
       "      <th>naam</th>\n",
       "      <th>geometry</th>\n",
       "      <th>area</th>\n",
       "    </tr>\n",
       "  </thead>\n",
       "  <tbody>\n",
       "    <tr>\n",
       "      <th>0</th>\n",
       "      <td>AaenMaas</td>\n",
       "      <td>POLYGON Z ((200743.120 396718.157 0.000, 20077...</td>\n",
       "      <td>1.609866e+09</td>\n",
       "    </tr>\n",
       "    <tr>\n",
       "      <th>1</th>\n",
       "      <td>AmstelGooienVecht</td>\n",
       "      <td>POLYGON Z ((149117.970 476526.468 0.000, 14908...</td>\n",
       "      <td>7.742425e+08</td>\n",
       "    </tr>\n",
       "    <tr>\n",
       "      <th>2</th>\n",
       "      <td>BrabantseDelta</td>\n",
       "      <td>POLYGON Z ((133132.687 414182.598 0.000, 13313...</td>\n",
       "      <td>1.707697e+09</td>\n",
       "    </tr>\n",
       "    <tr>\n",
       "      <th>3</th>\n",
       "      <td>DeDommel</td>\n",
       "      <td>POLYGON Z ((130995.686 399274.178 0.000, 13100...</td>\n",
       "      <td>1.510061e+09</td>\n",
       "    </tr>\n",
       "    <tr>\n",
       "      <th>4</th>\n",
       "      <td>Delfland</td>\n",
       "      <td>POLYGON Z ((91404.790 436037.970 0.000, 91405....</td>\n",
       "      <td>4.475579e+08</td>\n",
       "    </tr>\n",
       "    <tr>\n",
       "      <th>5</th>\n",
       "      <td>DrentsOverijsselseDelta</td>\n",
       "      <td>POLYGON Z ((188233.552 502597.219 0.000, 18817...</td>\n",
       "      <td>2.548828e+09</td>\n",
       "    </tr>\n",
       "    <tr>\n",
       "      <th>6</th>\n",
       "      <td>HollandsNoorderkwartier</td>\n",
       "      <td>POLYGON Z ((122684.109 488664.375 0.000, 12267...</td>\n",
       "      <td>3.133110e+09</td>\n",
       "    </tr>\n",
       "    <tr>\n",
       "      <th>7</th>\n",
       "      <td>HollandseDelta</td>\n",
       "      <td>POLYGON Z ((92759.975 435579.270 0.000, 93348....</td>\n",
       "      <td>1.436512e+09</td>\n",
       "    </tr>\n",
       "    <tr>\n",
       "      <th>8</th>\n",
       "      <td>HunzeenAas</td>\n",
       "      <td>POLYGON Z ((227631.170 549040.190 0.000, 22763...</td>\n",
       "      <td>2.073997e+09</td>\n",
       "    </tr>\n",
       "    <tr>\n",
       "      <th>9</th>\n",
       "      <td>Limburg</td>\n",
       "      <td>POLYGON Z ((172715.341 318817.654 0.000, 17272...</td>\n",
       "      <td>2.209850e+09</td>\n",
       "    </tr>\n",
       "    <tr>\n",
       "      <th>10</th>\n",
       "      <td>Noorderzijlvest</td>\n",
       "      <td>POLYGON Z ((204740.647 603094.624 0.000, 20474...</td>\n",
       "      <td>1.904175e+09</td>\n",
       "    </tr>\n",
       "    <tr>\n",
       "      <th>11</th>\n",
       "      <td>Rijkswaterstaat</td>\n",
       "      <td>POLYGON ((43156.299 359065.760, 43157.213 3590...</td>\n",
       "      <td>NaN</td>\n",
       "    </tr>\n",
       "    <tr>\n",
       "      <th>12</th>\n",
       "      <td>RijnenIJssel</td>\n",
       "      <td>POLYGON Z ((182861.932 447740.581 0.000, 18287...</td>\n",
       "      <td>1.949273e+09</td>\n",
       "    </tr>\n",
       "    <tr>\n",
       "      <th>13</th>\n",
       "      <td>Rijnland</td>\n",
       "      <td>POLYGON Z ((108050.350 445868.150 0.000, 10804...</td>\n",
       "      <td>1.130347e+09</td>\n",
       "    </tr>\n",
       "    <tr>\n",
       "      <th>14</th>\n",
       "      <td>Rivierenland</td>\n",
       "      <td>POLYGON Z ((201621.553 430609.425 0.000, 20167...</td>\n",
       "      <td>2.000682e+09</td>\n",
       "    </tr>\n",
       "    <tr>\n",
       "      <th>15</th>\n",
       "      <td>Scheldestromen</td>\n",
       "      <td>POLYGON Z ((44444.616 359156.445 0.000, 44423....</td>\n",
       "      <td>2.928172e+09</td>\n",
       "    </tr>\n",
       "    <tr>\n",
       "      <th>16</th>\n",
       "      <td>SchielandendeKrimpenerwaard</td>\n",
       "      <td>POLYGON Z ((107774.774 445649.048 0.000, 10777...</td>\n",
       "      <td>3.605769e+08</td>\n",
       "    </tr>\n",
       "    <tr>\n",
       "      <th>17</th>\n",
       "      <td>StichtseRijnlanden</td>\n",
       "      <td>POLYGON Z ((109045.766 457947.065 0.000, 10906...</td>\n",
       "      <td>8.278227e+08</td>\n",
       "    </tr>\n",
       "    <tr>\n",
       "      <th>18</th>\n",
       "      <td>ValleienVeluwe</td>\n",
       "      <td>POLYGON Z ((172476.761 440346.062 0.000, 17244...</td>\n",
       "      <td>2.456334e+09</td>\n",
       "    </tr>\n",
       "    <tr>\n",
       "      <th>19</th>\n",
       "      <td>Vechtstromen</td>\n",
       "      <td>POLYGON Z ((232000.000 468534.380 0.000, 23199...</td>\n",
       "      <td>2.260455e+09</td>\n",
       "    </tr>\n",
       "    <tr>\n",
       "      <th>20</th>\n",
       "      <td>WetterskipFryslan</td>\n",
       "      <td>POLYGON Z ((176891.392 539042.251 0.000, 17688...</td>\n",
       "      <td>5.762010e+09</td>\n",
       "    </tr>\n",
       "    <tr>\n",
       "      <th>21</th>\n",
       "      <td>Zuiderzeeland</td>\n",
       "      <td>POLYGON Z ((160811.690 475064.685 0.000, 16080...</td>\n",
       "      <td>2.418393e+09</td>\n",
       "    </tr>\n",
       "  </tbody>\n",
       "</table>\n",
       "</div>"
      ],
      "text/plain": [
       "                           naam  \\\n",
       "0                      AaenMaas   \n",
       "1             AmstelGooienVecht   \n",
       "2                BrabantseDelta   \n",
       "3                      DeDommel   \n",
       "4                      Delfland   \n",
       "5       DrentsOverijsselseDelta   \n",
       "6       HollandsNoorderkwartier   \n",
       "7                HollandseDelta   \n",
       "8                    HunzeenAas   \n",
       "9                       Limburg   \n",
       "10              Noorderzijlvest   \n",
       "11              Rijkswaterstaat   \n",
       "12                 RijnenIJssel   \n",
       "13                     Rijnland   \n",
       "14                 Rivierenland   \n",
       "15               Scheldestromen   \n",
       "16  SchielandendeKrimpenerwaard   \n",
       "17           StichtseRijnlanden   \n",
       "18               ValleienVeluwe   \n",
       "19                 Vechtstromen   \n",
       "20            WetterskipFryslan   \n",
       "21                Zuiderzeeland   \n",
       "\n",
       "                                             geometry          area  \n",
       "0   POLYGON Z ((200743.120 396718.157 0.000, 20077...  1.609866e+09  \n",
       "1   POLYGON Z ((149117.970 476526.468 0.000, 14908...  7.742425e+08  \n",
       "2   POLYGON Z ((133132.687 414182.598 0.000, 13313...  1.707697e+09  \n",
       "3   POLYGON Z ((130995.686 399274.178 0.000, 13100...  1.510061e+09  \n",
       "4   POLYGON Z ((91404.790 436037.970 0.000, 91405....  4.475579e+08  \n",
       "5   POLYGON Z ((188233.552 502597.219 0.000, 18817...  2.548828e+09  \n",
       "6   POLYGON Z ((122684.109 488664.375 0.000, 12267...  3.133110e+09  \n",
       "7   POLYGON Z ((92759.975 435579.270 0.000, 93348....  1.436512e+09  \n",
       "8   POLYGON Z ((227631.170 549040.190 0.000, 22763...  2.073997e+09  \n",
       "9   POLYGON Z ((172715.341 318817.654 0.000, 17272...  2.209850e+09  \n",
       "10  POLYGON Z ((204740.647 603094.624 0.000, 20474...  1.904175e+09  \n",
       "11  POLYGON ((43156.299 359065.760, 43157.213 3590...           NaN  \n",
       "12  POLYGON Z ((182861.932 447740.581 0.000, 18287...  1.949273e+09  \n",
       "13  POLYGON Z ((108050.350 445868.150 0.000, 10804...  1.130347e+09  \n",
       "14  POLYGON Z ((201621.553 430609.425 0.000, 20167...  2.000682e+09  \n",
       "15  POLYGON Z ((44444.616 359156.445 0.000, 44423....  2.928172e+09  \n",
       "16  POLYGON Z ((107774.774 445649.048 0.000, 10777...  3.605769e+08  \n",
       "17  POLYGON Z ((109045.766 457947.065 0.000, 10906...  8.278227e+08  \n",
       "18  POLYGON Z ((172476.761 440346.062 0.000, 17244...  2.456334e+09  \n",
       "19  POLYGON Z ((232000.000 468534.380 0.000, 23199...  2.260455e+09  \n",
       "20  POLYGON Z ((176891.392 539042.251 0.000, 17688...  5.762010e+09  \n",
       "21  POLYGON Z ((160811.690 475064.685 0.000, 16080...  2.418393e+09  "
      ]
     },
     "execution_count": 196,
     "metadata": {},
     "output_type": "execute_result"
    }
   ],
   "source": [
    "authority_borders"
   ]
  },
  {
   "cell_type": "code",
   "execution_count": null,
   "id": "34a3e739-5bde-4758-be6b-1f3f474e7419",
   "metadata": {},
   "outputs": [],
   "source": []
  }
 ],
 "metadata": {
  "kernelspec": {
   "display_name": "Python [conda env:ribasim]",
   "language": "python",
   "name": "conda-env-ribasim-py"
  },
  "language_info": {
   "codemirror_mode": {
    "name": "ipython",
    "version": 3
   },
   "file_extension": ".py",
   "mimetype": "text/x-python",
   "name": "python",
   "nbconvert_exporter": "python",
   "pygments_lexer": "ipython3",
   "version": "3.11.6"
  }
 },
 "nbformat": 4,
 "nbformat_minor": 5
}
