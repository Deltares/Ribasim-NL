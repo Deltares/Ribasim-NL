{
 "cells": [
  {
   "cell_type": "code",
   "execution_count": null,
   "id": "8e3aee81-bf33-4516-8850-26b5765669e2",
   "metadata": {},
   "outputs": [],
   "source": [
    "import json\n",
    "import pathlib\n",
    "\n",
    "import geopandas as gpd\n",
    "import pandas as pd\n",
    "from IPython.core.display import HTML\n",
    "from peilbeheerst_model import ParseCrossings\n"
   ]
  },
  {
   "cell_type": "code",
   "execution_count": null,
   "id": "d037c21b-381a-4910-a801-f1d83924c555",
   "metadata": {},
   "outputs": [],
   "source": [
    "with open(\"waterschappen.json\") as f:\n",
    "    waterschap_data = json.load(f)\n",
    "\n",
    "print_df = {}\n",
    "for waterschap, waterschap_struct in waterschap_data.items():\n",
    "    for funcname, func_args in waterschap_struct.items():\n",
    "        if funcname not in print_df:\n",
    "            print_df[funcname] = []\n",
    "        print_df[funcname].append(pd.Series(func_args, name=waterschap))\n",
    "\n",
    "for funcname, df in print_df.items():\n",
    "    display(HTML(f\"<h2>Function {funcname}:</h2>\"))\n",
    "    display(pd.DataFrame(df))"
   ]
  },
  {
   "cell_type": "code",
   "execution_count": null,
   "id": "a797396c-2f6a-4c59-983f-2f195de9bf87",
   "metadata": {},
   "outputs": [],
   "source": [
    "for waterschap, waterschap_struct in waterschap_data.items():\n",
    "    print(f\"\\n{waterschap}...\")\n",
    "    \n",
    "    init_settings, crossing_settings = waterschap_struct.values()\n",
    "    gpkg = pathlib.Path(init_settings[\"output_path\"])\n",
    "    if not gpkg.exists():\n",
    "        raise ValueError(gpkg)\n",
    "\n",
    "    df_peilgebieden = gpd.read_file(gpkg, layer=\"peilgebied\")\n",
    "    org_shape = df_peilgebieden.shape\n",
    "    df_peilgebieden = ParseCrossings._make_valid_2dgeom(df_peilgebieden)\n",
    "\n",
    "    df_peilgebieden = ParseCrossings.add_krw_to_peilgebieden(\n",
    "        df_peilgebieden, \n",
    "        init_settings[\"krw_path\"],\n",
    "        init_settings[\"krw_column_id\"],\n",
    "        init_settings[\"krw_column_name\"],\n",
    "        init_settings[\"krw_min_overlap\"],\n",
    "        \",\",\n",
    "    )\n",
    "\n",
    "    assert df_peilgebieden.shape[0] == org_shape[0]\n",
    "    df_peilgebieden.to_file(gpkg, layer=\"peilgebied\")\n",
    "    print(gpkg)\n"
   ]
  },
  {
   "cell_type": "code",
   "execution_count": null,
   "id": "5225ced2-77c6-4cfb-b7c5-50a4e86fb95b",
   "metadata": {},
   "outputs": [],
   "source": []
  }
 ],
 "metadata": {
  "kernelspec": {
   "display_name": "Python [conda env:ribasim]",
   "language": "python",
   "name": "conda-env-ribasim-py"
  },
  "language_info": {
   "codemirror_mode": {
    "name": "ipython",
    "version": 3
   },
   "file_extension": ".py",
   "mimetype": "text/x-python",
   "name": "python",
   "nbconvert_exporter": "python",
   "pygments_lexer": "ipython3",
   "version": "3.10.13"
  }
 },
 "nbformat": 4,
 "nbformat_minor": 5
}
