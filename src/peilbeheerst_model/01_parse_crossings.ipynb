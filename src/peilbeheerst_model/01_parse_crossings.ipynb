{
 "cells": [
  {
   "cell_type": "code",
   "execution_count": 14,
   "id": "bd2ec4f5-5df5-4c1e-a010-00e47c676d17",
   "metadata": {},
   "outputs": [],
   "source": [
    "import json\n",
    "import pathlib\n",
    "\n",
    "import geopandas as gpd\n",
    "import matplotlib.pyplot as plt\n",
    "import numpy as np\n",
    "import pandas as pd\n",
    "from IPython.core.display import HTML\n",
    "from peilbeheerst_model import ParseCrossings\n"
   ]
  },
  {
   "cell_type": "code",
   "execution_count": 15,
   "id": "9340d65c-0872-43ae-ada8-4a4e3ab21a9a",
   "metadata": {},
   "outputs": [
    {
     "data": {
      "text/html": [
       "<h2>Function init:</h2>"
      ],
      "text/plain": [
       "<IPython.core.display.HTML object>"
      ]
     },
     "metadata": {},
     "output_type": "display_data"
    },
    {
     "data": {
      "text/html": [
       "<div>\n",
       "<style scoped>\n",
       "    .dataframe tbody tr th:only-of-type {\n",
       "        vertical-align: middle;\n",
       "    }\n",
       "\n",
       "    .dataframe tbody tr th {\n",
       "        vertical-align: top;\n",
       "    }\n",
       "\n",
       "    .dataframe thead th {\n",
       "        text-align: right;\n",
       "    }\n",
       "</style>\n",
       "<table border=\"1\" class=\"dataframe\">\n",
       "  <thead>\n",
       "    <tr style=\"text-align: right;\">\n",
       "      <th></th>\n",
       "      <th>gpkg_path</th>\n",
       "      <th>output_path</th>\n",
       "      <th>search_radius_structure</th>\n",
       "      <th>agg_peilgebieden_layer</th>\n",
       "      <th>agg_peilgebieden_column</th>\n",
       "      <th>krw_path</th>\n",
       "      <th>krw_column_id</th>\n",
       "      <th>krw_column_name</th>\n",
       "      <th>krw_min_overlap</th>\n",
       "    </tr>\n",
       "  </thead>\n",
       "  <tbody>\n",
       "    <tr>\n",
       "      <th>HHNK</th>\n",
       "      <td>../../../../Data_postprocessed/Waterschappen/H...</td>\n",
       "      <td>../../../../Data_crossings/HHNK/hhnk_crossings...</td>\n",
       "      <td>60</td>\n",
       "      <td>aggregation_area</td>\n",
       "      <td>code</td>\n",
       "      <td>../../../../Data_overig/KRW/KRW_lichamen_per_w...</td>\n",
       "      <td>owmident</td>\n",
       "      <td>owmnaam</td>\n",
       "      <td>0.025</td>\n",
       "    </tr>\n",
       "    <tr>\n",
       "      <th>Delfland</th>\n",
       "      <td>../../../../Data_postprocessed/Waterschappen/D...</td>\n",
       "      <td>../../../../Data_crossings/Delfland/delfland_c...</td>\n",
       "      <td>60</td>\n",
       "      <td>aggregation_area</td>\n",
       "      <td>code</td>\n",
       "      <td>../../../../Data_overig/KRW/KRW_lichamen_per_w...</td>\n",
       "      <td>owmident</td>\n",
       "      <td>owmnaam</td>\n",
       "      <td>0.025</td>\n",
       "    </tr>\n",
       "    <tr>\n",
       "      <th>Hollandse Delta</th>\n",
       "      <td>../../../../Data_postprocessed/Waterschappen/H...</td>\n",
       "      <td>../../../../Data_crossings/Hollandse_Delta/hd_...</td>\n",
       "      <td>300</td>\n",
       "      <td>aggregation_area</td>\n",
       "      <td>code</td>\n",
       "      <td>../../../../Data_overig/KRW/KRW_lichamen_per_w...</td>\n",
       "      <td>owmident</td>\n",
       "      <td>owmnaam</td>\n",
       "      <td>0.025</td>\n",
       "    </tr>\n",
       "    <tr>\n",
       "      <th>AmstelGooienVecht</th>\n",
       "      <td>../../../../Data_postprocessed/Waterschappen/A...</td>\n",
       "      <td>../../../../Data_crossings/AmstelGooienVecht/a...</td>\n",
       "      <td>60</td>\n",
       "      <td>aggregation_area</td>\n",
       "      <td>code</td>\n",
       "      <td>../../../../Data_overig/KRW/KRW_lichamen_per_w...</td>\n",
       "      <td>owmident</td>\n",
       "      <td>owmnaam</td>\n",
       "      <td>0.025</td>\n",
       "    </tr>\n",
       "    <tr>\n",
       "      <th>HHSK</th>\n",
       "      <td>../../../../Data_postprocessed/Waterschappen/H...</td>\n",
       "      <td>../../../../Data_crossings/HHSK/hhsk_crossings...</td>\n",
       "      <td>300</td>\n",
       "      <td>aggregation_area</td>\n",
       "      <td>code</td>\n",
       "      <td>../../../../Data_overig/KRW/KRW_lichamen_per_w...</td>\n",
       "      <td>owmident</td>\n",
       "      <td>owmnaam</td>\n",
       "      <td>0.025</td>\n",
       "    </tr>\n",
       "    <tr>\n",
       "      <th>Rijnland</th>\n",
       "      <td>../../../../Data_postprocessed/Waterschappen/R...</td>\n",
       "      <td>../../../../Data_crossings/Rijnland/rijnland_c...</td>\n",
       "      <td>60</td>\n",
       "      <td>aggregation_area</td>\n",
       "      <td>code</td>\n",
       "      <td>../../../../Data_overig/KRW/KRW_lichamen_per_w...</td>\n",
       "      <td>owmident</td>\n",
       "      <td>owmnaam</td>\n",
       "      <td>0.025</td>\n",
       "    </tr>\n",
       "    <tr>\n",
       "      <th>Scheldestromen</th>\n",
       "      <td>../../../../Data_postprocessed/Waterschappen/S...</td>\n",
       "      <td>../../../../Data_crossings/Scheldestromen/sche...</td>\n",
       "      <td>60</td>\n",
       "      <td>aggregation_area</td>\n",
       "      <td>code</td>\n",
       "      <td>../../../../Data_overig/KRW/KRW_lichamen_per_w...</td>\n",
       "      <td>owmident</td>\n",
       "      <td>owmnaam</td>\n",
       "      <td>0.025</td>\n",
       "    </tr>\n",
       "    <tr>\n",
       "      <th>Wetterskip</th>\n",
       "      <td>../../../../Data_postprocessed/Waterschappen/W...</td>\n",
       "      <td>../../../../Data_crossings/Wetterskip/wettersk...</td>\n",
       "      <td>60</td>\n",
       "      <td>aggregation_area</td>\n",
       "      <td>code</td>\n",
       "      <td>../../../../Data_overig/KRW/KRW_lichamen_per_w...</td>\n",
       "      <td>owmident</td>\n",
       "      <td>owmnaam</td>\n",
       "      <td>0.025</td>\n",
       "    </tr>\n",
       "    <tr>\n",
       "      <th>WSRL</th>\n",
       "      <td>../../../../Data_postprocessed/Waterschappen/W...</td>\n",
       "      <td>../../../../Data_crossings/WSRL/wsrl_crossings...</td>\n",
       "      <td>60</td>\n",
       "      <td>aggregation_area</td>\n",
       "      <td>code</td>\n",
       "      <td>../../../../Data_overig/KRW/KRW_lichamen_per_w...</td>\n",
       "      <td>owmident</td>\n",
       "      <td>owmnaam</td>\n",
       "      <td>0.025</td>\n",
       "    </tr>\n",
       "    <tr>\n",
       "      <th>Zuiderzeeland</th>\n",
       "      <td>../../../../Data_postprocessed/Waterschappen/Z...</td>\n",
       "      <td>../../../../Data_crossings/Zuiderzeeland/zzl_c...</td>\n",
       "      <td>60</td>\n",
       "      <td>aggregation_area</td>\n",
       "      <td>code</td>\n",
       "      <td>../../../../Data_overig/KRW/KRW_lichamen_per_w...</td>\n",
       "      <td>owmident</td>\n",
       "      <td>owmnaam</td>\n",
       "      <td>0.025</td>\n",
       "    </tr>\n",
       "  </tbody>\n",
       "</table>\n",
       "</div>"
      ],
      "text/plain": [
       "                                                           gpkg_path  \\\n",
       "HHNK               ../../../../Data_postprocessed/Waterschappen/H...   \n",
       "Delfland           ../../../../Data_postprocessed/Waterschappen/D...   \n",
       "Hollandse Delta    ../../../../Data_postprocessed/Waterschappen/H...   \n",
       "AmstelGooienVecht  ../../../../Data_postprocessed/Waterschappen/A...   \n",
       "HHSK               ../../../../Data_postprocessed/Waterschappen/H...   \n",
       "Rijnland           ../../../../Data_postprocessed/Waterschappen/R...   \n",
       "Scheldestromen     ../../../../Data_postprocessed/Waterschappen/S...   \n",
       "Wetterskip         ../../../../Data_postprocessed/Waterschappen/W...   \n",
       "WSRL               ../../../../Data_postprocessed/Waterschappen/W...   \n",
       "Zuiderzeeland      ../../../../Data_postprocessed/Waterschappen/Z...   \n",
       "\n",
       "                                                         output_path  \\\n",
       "HHNK               ../../../../Data_crossings/HHNK/hhnk_crossings...   \n",
       "Delfland           ../../../../Data_crossings/Delfland/delfland_c...   \n",
       "Hollandse Delta    ../../../../Data_crossings/Hollandse_Delta/hd_...   \n",
       "AmstelGooienVecht  ../../../../Data_crossings/AmstelGooienVecht/a...   \n",
       "HHSK               ../../../../Data_crossings/HHSK/hhsk_crossings...   \n",
       "Rijnland           ../../../../Data_crossings/Rijnland/rijnland_c...   \n",
       "Scheldestromen     ../../../../Data_crossings/Scheldestromen/sche...   \n",
       "Wetterskip         ../../../../Data_crossings/Wetterskip/wettersk...   \n",
       "WSRL               ../../../../Data_crossings/WSRL/wsrl_crossings...   \n",
       "Zuiderzeeland      ../../../../Data_crossings/Zuiderzeeland/zzl_c...   \n",
       "\n",
       "                   search_radius_structure agg_peilgebieden_layer  \\\n",
       "HHNK                                    60       aggregation_area   \n",
       "Delfland                                60       aggregation_area   \n",
       "Hollandse Delta                        300       aggregation_area   \n",
       "AmstelGooienVecht                       60       aggregation_area   \n",
       "HHSK                                   300       aggregation_area   \n",
       "Rijnland                                60       aggregation_area   \n",
       "Scheldestromen                          60       aggregation_area   \n",
       "Wetterskip                              60       aggregation_area   \n",
       "WSRL                                    60       aggregation_area   \n",
       "Zuiderzeeland                           60       aggregation_area   \n",
       "\n",
       "                  agg_peilgebieden_column  \\\n",
       "HHNK                                 code   \n",
       "Delfland                             code   \n",
       "Hollandse Delta                      code   \n",
       "AmstelGooienVecht                    code   \n",
       "HHSK                                 code   \n",
       "Rijnland                             code   \n",
       "Scheldestromen                       code   \n",
       "Wetterskip                           code   \n",
       "WSRL                                 code   \n",
       "Zuiderzeeland                        code   \n",
       "\n",
       "                                                            krw_path  \\\n",
       "HHNK               ../../../../Data_overig/KRW/KRW_lichamen_per_w...   \n",
       "Delfland           ../../../../Data_overig/KRW/KRW_lichamen_per_w...   \n",
       "Hollandse Delta    ../../../../Data_overig/KRW/KRW_lichamen_per_w...   \n",
       "AmstelGooienVecht  ../../../../Data_overig/KRW/KRW_lichamen_per_w...   \n",
       "HHSK               ../../../../Data_overig/KRW/KRW_lichamen_per_w...   \n",
       "Rijnland           ../../../../Data_overig/KRW/KRW_lichamen_per_w...   \n",
       "Scheldestromen     ../../../../Data_overig/KRW/KRW_lichamen_per_w...   \n",
       "Wetterskip         ../../../../Data_overig/KRW/KRW_lichamen_per_w...   \n",
       "WSRL               ../../../../Data_overig/KRW/KRW_lichamen_per_w...   \n",
       "Zuiderzeeland      ../../../../Data_overig/KRW/KRW_lichamen_per_w...   \n",
       "\n",
       "                  krw_column_id krw_column_name  krw_min_overlap  \n",
       "HHNK                   owmident         owmnaam            0.025  \n",
       "Delfland               owmident         owmnaam            0.025  \n",
       "Hollandse Delta        owmident         owmnaam            0.025  \n",
       "AmstelGooienVecht      owmident         owmnaam            0.025  \n",
       "HHSK                   owmident         owmnaam            0.025  \n",
       "Rijnland               owmident         owmnaam            0.025  \n",
       "Scheldestromen         owmident         owmnaam            0.025  \n",
       "Wetterskip             owmident         owmnaam            0.025  \n",
       "WSRL                   owmident         owmnaam            0.025  \n",
       "Zuiderzeeland          owmident         owmnaam            0.025  "
      ]
     },
     "metadata": {},
     "output_type": "display_data"
    },
    {
     "data": {
      "text/html": [
       "<h2>Function find_crossings_with_peilgebieden:</h2>"
      ],
      "text/plain": [
       "<IPython.core.display.HTML object>"
      ]
     },
     "metadata": {},
     "output_type": "display_data"
    },
    {
     "data": {
      "text/html": [
       "<div>\n",
       "<style scoped>\n",
       "    .dataframe tbody tr th:only-of-type {\n",
       "        vertical-align: middle;\n",
       "    }\n",
       "\n",
       "    .dataframe tbody tr th {\n",
       "        vertical-align: top;\n",
       "    }\n",
       "\n",
       "    .dataframe thead th {\n",
       "        text-align: right;\n",
       "    }\n",
       "</style>\n",
       "<table border=\"1\" class=\"dataframe\">\n",
       "  <thead>\n",
       "    <tr style=\"text-align: right;\">\n",
       "      <th></th>\n",
       "      <th>filterlayer</th>\n",
       "      <th>group_stacked</th>\n",
       "    </tr>\n",
       "  </thead>\n",
       "  <tbody>\n",
       "    <tr>\n",
       "      <th>HHNK</th>\n",
       "      <td>duikersifonhevel</td>\n",
       "      <td>True</td>\n",
       "    </tr>\n",
       "    <tr>\n",
       "      <th>Delfland</th>\n",
       "      <td>duikersifonhevel</td>\n",
       "      <td>True</td>\n",
       "    </tr>\n",
       "    <tr>\n",
       "      <th>Hollandse Delta</th>\n",
       "      <td>duikersifonhevel</td>\n",
       "      <td>True</td>\n",
       "    </tr>\n",
       "    <tr>\n",
       "      <th>AmstelGooienVecht</th>\n",
       "      <td>duikersifonhevel</td>\n",
       "      <td>True</td>\n",
       "    </tr>\n",
       "    <tr>\n",
       "      <th>HHSK</th>\n",
       "      <td>duikersifonhevel</td>\n",
       "      <td>True</td>\n",
       "    </tr>\n",
       "    <tr>\n",
       "      <th>Rijnland</th>\n",
       "      <td>duikersifonhevel</td>\n",
       "      <td>True</td>\n",
       "    </tr>\n",
       "    <tr>\n",
       "      <th>Scheldestromen</th>\n",
       "      <td>duikersifonhevel</td>\n",
       "      <td>True</td>\n",
       "    </tr>\n",
       "    <tr>\n",
       "      <th>Wetterskip</th>\n",
       "      <td>duikersifonhevel</td>\n",
       "      <td>True</td>\n",
       "    </tr>\n",
       "    <tr>\n",
       "      <th>WSRL</th>\n",
       "      <td>duikersifonhevel</td>\n",
       "      <td>True</td>\n",
       "    </tr>\n",
       "    <tr>\n",
       "      <th>Zuiderzeeland</th>\n",
       "      <td>duikersifonhevel</td>\n",
       "      <td>True</td>\n",
       "    </tr>\n",
       "  </tbody>\n",
       "</table>\n",
       "</div>"
      ],
      "text/plain": [
       "                        filterlayer  group_stacked\n",
       "HHNK               duikersifonhevel           True\n",
       "Delfland           duikersifonhevel           True\n",
       "Hollandse Delta    duikersifonhevel           True\n",
       "AmstelGooienVecht  duikersifonhevel           True\n",
       "HHSK               duikersifonhevel           True\n",
       "Rijnland           duikersifonhevel           True\n",
       "Scheldestromen     duikersifonhevel           True\n",
       "Wetterskip         duikersifonhevel           True\n",
       "WSRL               duikersifonhevel           True\n",
       "Zuiderzeeland      duikersifonhevel           True"
      ]
     },
     "metadata": {},
     "output_type": "display_data"
    }
   ],
   "source": [
    "with open(\"waterschappen.json\") as f:\n",
    "    waterschap_data = json.load(f)\n",
    "\n",
    "print_df = {}\n",
    "for waterschap, waterschap_struct in waterschap_data.items():\n",
    "    for funcname, func_args in waterschap_struct.items():\n",
    "        if funcname not in print_df:\n",
    "            print_df[funcname] = []\n",
    "        print_df[funcname].append(pd.Series(func_args, name=waterschap))\n",
    "\n",
    "for funcname, df in print_df.items():\n",
    "    display(HTML(f\"<h2>Function {funcname}:</h2>\"))\n",
    "    display(pd.DataFrame(df))"
   ]
  },
  {
   "cell_type": "code",
   "execution_count": 16,
   "id": "816b0266-4eb7-4465-8439-316d44efd5db",
   "metadata": {},
   "outputs": [
    {
     "name": "stdout",
     "output_type": "stream",
     "text": [
      "\n",
      "HHNK...\n"
     ]
    },
    {
     "data": {
      "application/vnd.jupyter.widget-view+json": {
       "model_id": "02183bcd33bd4c9185d763aeb620c302",
       "version_major": 2,
       "version_minor": 0
      },
      "text/plain": [
       "Snap geometries in 'hydroobject':   0%|          | 0/190044 [00:00<?, ?it/s]"
      ]
     },
     "metadata": {},
     "output_type": "display_data"
    },
    {
     "data": {
      "application/vnd.jupyter.widget-view+json": {
       "model_id": "d349ef09af6a44a89626ffc7a87f0f0c",
       "version_major": 2,
       "version_minor": 0
      },
      "text/plain": [
       "Find which endpoints need to be extended:   0%|          | 0/380046 [00:00<?, ?it/s]"
      ]
     },
     "metadata": {},
     "output_type": "display_data"
    },
    {
     "data": {
      "application/vnd.jupyter.widget-view+json": {
       "model_id": "aa68ade915ec40a195cac377791ddca8",
       "version_major": 2,
       "version_minor": 0
      },
      "text/plain": [
       "Move groups of endpoints away from boundary:   0%|          | 0/7623 [00:00<?, ?it/s]"
      ]
     },
     "metadata": {},
     "output_type": "display_data"
    },
    {
     "data": {
      "application/vnd.jupyter.widget-view+json": {
       "model_id": "93d8b713536946408121e53f3308df61",
       "version_major": 2,
       "version_minor": 0
      },
      "text/plain": [
       "Find crossings for 'hydroobject':   0%|          | 0/190044 [00:00<?, ?it/s]"
      ]
     },
     "metadata": {},
     "output_type": "display_data"
    },
    {
     "data": {
      "application/vnd.jupyter.widget-view+json": {
       "model_id": "b924dcb39f1b4187a1df744705dfeb12",
       "version_major": 2,
       "version_minor": 0
      },
      "text/plain": [
       "  - Add water levels to crossings:   0%|          | 0/8884 [00:00<?, ?it/s]"
      ]
     },
     "metadata": {},
     "output_type": "display_data"
    },
    {
     "data": {
      "application/vnd.jupyter.widget-view+json": {
       "model_id": "b2867c5e686d4b1fa0fafb2042d47cf4",
       "version_major": 2,
       "version_minor": 0
      },
      "text/plain": [
       "  - Add structures of 'stuw' to crossings:   0%|          | 0/5434 [00:00<?, ?it/s]"
      ]
     },
     "metadata": {},
     "output_type": "display_data"
    },
    {
     "data": {
      "application/vnd.jupyter.widget-view+json": {
       "model_id": "399899e98bf74b348a1f3578d3610b51",
       "version_major": 2,
       "version_minor": 0
      },
      "text/plain": [
       "  - Add structures of 'stuw' to crossings:   0%|          | 0/81 [00:00<?, ?it/s]"
      ]
     },
     "metadata": {},
     "output_type": "display_data"
    },
    {
     "data": {
      "application/vnd.jupyter.widget-view+json": {
       "model_id": "7f12cdae96ac4b98956077c4da7f656f",
       "version_major": 2,
       "version_minor": 0
      },
      "text/plain": [
       "  - Add structures of 'gemaal' to crossings:   0%|          | 0/2274 [00:00<?, ?it/s]"
      ]
     },
     "metadata": {},
     "output_type": "display_data"
    },
    {
     "data": {
      "application/vnd.jupyter.widget-view+json": {
       "model_id": "a7ff0725b2c644179640b9e82f50fc91",
       "version_major": 2,
       "version_minor": 0
      },
      "text/plain": [
       "  - Add structures of 'gemaal' to crossings:   0%|          | 0/6 [00:00<?, ?it/s]"
      ]
     },
     "metadata": {},
     "output_type": "display_data"
    },
    {
     "data": {
      "application/vnd.jupyter.widget-view+json": {
       "model_id": "31947a4c9eb84c8f85d9fb76aba8c471",
       "version_major": 2,
       "version_minor": 0
      },
      "text/plain": [
       "  - Correct free water flow:   0%|          | 0/8884 [00:00<?, ?it/s]"
      ]
     },
     "metadata": {},
     "output_type": "display_data"
    },
    {
     "data": {
      "application/vnd.jupyter.widget-view+json": {
       "model_id": "183346567d2f4a7b9d227a914bd8a53b",
       "version_major": 2,
       "version_minor": 0
      },
      "text/plain": [
       "  - Correct pumped water flow:   0%|          | 0/8884 [00:00<?, ?it/s]"
      ]
     },
     "metadata": {},
     "output_type": "display_data"
    },
    {
     "data": {
      "application/vnd.jupyter.widget-view+json": {
       "model_id": "80e157ebc8b34b379ef0a17befae888d",
       "version_major": 2,
       "version_minor": 0
      },
      "text/plain": [
       "  - Group geometrically stacked crossings:   0%|          | 0/8884 [00:00<?, ?it/s]"
      ]
     },
     "metadata": {},
     "output_type": "display_data"
    },
    {
     "data": {
      "application/vnd.jupyter.widget-view+json": {
       "model_id": "3218117e95f2416b858ba0eb0e47657b",
       "version_major": 2,
       "version_minor": 0
      },
      "text/plain": [
       "  - Correct free water flow:   0%|          | 0/8885 [00:00<?, ?it/s]"
      ]
     },
     "metadata": {},
     "output_type": "display_data"
    },
    {
     "data": {
      "application/vnd.jupyter.widget-view+json": {
       "model_id": "a3dc673ef9554713a8391f5ea32accae",
       "version_major": 2,
       "version_minor": 0
      },
      "text/plain": [
       "  - Correct pumped water flow:   0%|          | 0/8885 [00:00<?, ?it/s]"
      ]
     },
     "metadata": {},
     "output_type": "display_data"
    },
    {
     "data": {
      "application/vnd.jupyter.widget-view+json": {
       "model_id": "71eac4c2bb334975954117f05aebcd39",
       "version_major": 2,
       "version_minor": 0
      },
      "text/plain": [
       "Snap geometries in 'duikersifonhevel':   0%|          | 0/59468 [00:00<?, ?it/s]"
      ]
     },
     "metadata": {},
     "output_type": "display_data"
    },
    {
     "data": {
      "application/vnd.jupyter.widget-view+json": {
       "model_id": "22e2207d7f8f4e998f4cc9f5f3e23999",
       "version_major": 2,
       "version_minor": 0
      },
      "text/plain": [
       "Find which endpoints need to be extended:   0%|          | 0/118936 [00:00<?, ?it/s]"
      ]
     },
     "metadata": {},
     "output_type": "display_data"
    },
    {
     "data": {
      "application/vnd.jupyter.widget-view+json": {
       "model_id": "5134ebc96d744d068bfb4104ecf9a482",
       "version_major": 2,
       "version_minor": 0
      },
      "text/plain": [
       "Move groups of endpoints away from boundary:   0%|          | 0/4236 [00:00<?, ?it/s]"
      ]
     },
     "metadata": {},
     "output_type": "display_data"
    },
    {
     "data": {
      "application/vnd.jupyter.widget-view+json": {
       "model_id": "c46ce3adc9d44c4dae36ef0a84d795ff",
       "version_major": 2,
       "version_minor": 0
      },
      "text/plain": [
       "Find crossings for 'duikersifonhevel':   0%|          | 0/59468 [00:00<?, ?it/s]"
      ]
     },
     "metadata": {},
     "output_type": "display_data"
    },
    {
     "data": {
      "application/vnd.jupyter.widget-view+json": {
       "model_id": "b20cf7c92adf45218889f4609161a878",
       "version_major": 2,
       "version_minor": 0
      },
      "text/plain": [
       "  - Add water levels to crossings:   0%|          | 0/4682 [00:00<?, ?it/s]"
      ]
     },
     "metadata": {},
     "output_type": "display_data"
    },
    {
     "data": {
      "application/vnd.jupyter.widget-view+json": {
       "model_id": "f180e7798e6444dfaeeedf9d1683f45a",
       "version_major": 2,
       "version_minor": 0
      },
      "text/plain": [
       "  - Add structures of 'stuw' to crossings:   0%|          | 0/5434 [00:00<?, ?it/s]"
      ]
     },
     "metadata": {},
     "output_type": "display_data"
    },
    {
     "data": {
      "application/vnd.jupyter.widget-view+json": {
       "model_id": "3a0da5d266f34298a08467d58412dbf9",
       "version_major": 2,
       "version_minor": 0
      },
      "text/plain": [
       "  - Add structures of 'stuw' to crossings:   0%|          | 0/52 [00:00<?, ?it/s]"
      ]
     },
     "metadata": {},
     "output_type": "display_data"
    },
    {
     "data": {
      "application/vnd.jupyter.widget-view+json": {
       "model_id": "e480f3a8f1ef4bcf86a2d006614d1485",
       "version_major": 2,
       "version_minor": 0
      },
      "text/plain": [
       "  - Add structures of 'gemaal' to crossings:   0%|          | 0/2274 [00:00<?, ?it/s]"
      ]
     },
     "metadata": {},
     "output_type": "display_data"
    },
    {
     "data": {
      "application/vnd.jupyter.widget-view+json": {
       "model_id": "66c011bbbc2c4836b5f275314d7cdb2d",
       "version_major": 2,
       "version_minor": 0
      },
      "text/plain": [
       "  - Add structures of 'gemaal' to crossings:   0%|          | 0/8 [00:00<?, ?it/s]"
      ]
     },
     "metadata": {},
     "output_type": "display_data"
    },
    {
     "data": {
      "application/vnd.jupyter.widget-view+json": {
       "model_id": "eb16bed5cbe149e3ad0308f5f7ded372",
       "version_major": 2,
       "version_minor": 0
      },
      "text/plain": [
       "  - Correct free water flow:   0%|          | 0/4682 [00:00<?, ?it/s]"
      ]
     },
     "metadata": {},
     "output_type": "display_data"
    },
    {
     "data": {
      "application/vnd.jupyter.widget-view+json": {
       "model_id": "07d131ff68d74046919af49d7c0e75d7",
       "version_major": 2,
       "version_minor": 0
      },
      "text/plain": [
       "  - Correct pumped water flow:   0%|          | 0/4682 [00:00<?, ?it/s]"
      ]
     },
     "metadata": {},
     "output_type": "display_data"
    },
    {
     "data": {
      "application/vnd.jupyter.widget-view+json": {
       "model_id": "488c6c2cc0f44609ab8e6828bc2e3bdc",
       "version_major": 2,
       "version_minor": 0
      },
      "text/plain": [
       "  - Group geometrically stacked crossings:   0%|          | 0/4682 [00:00<?, ?it/s]"
      ]
     },
     "metadata": {},
     "output_type": "display_data"
    },
    {
     "data": {
      "application/vnd.jupyter.widget-view+json": {
       "model_id": "d4d828801e474bf6807cb3cbaac55a5d",
       "version_major": 2,
       "version_minor": 0
      },
      "text/plain": [
       "  - Correct free water flow:   0%|          | 0/4692 [00:00<?, ?it/s]"
      ]
     },
     "metadata": {},
     "output_type": "display_data"
    },
    {
     "data": {
      "application/vnd.jupyter.widget-view+json": {
       "model_id": "39e02c1b2e5c42d1bc8bb2c3a53b2d80",
       "version_major": 2,
       "version_minor": 0
      },
      "text/plain": [
       "  - Correct pumped water flow:   0%|          | 0/4692 [00:00<?, ?it/s]"
      ]
     },
     "metadata": {},
     "output_type": "display_data"
    },
    {
     "data": {
      "application/vnd.jupyter.widget-view+json": {
       "model_id": "0eb08141e3684940ab532db1a6efa410",
       "version_major": 2,
       "version_minor": 0
      },
      "text/plain": [
       "  - Add structures of 'stuw' to crossings:   0%|          | 0/17 [00:00<?, ?it/s]"
      ]
     },
     "metadata": {},
     "output_type": "display_data"
    },
    {
     "data": {
      "application/vnd.jupyter.widget-view+json": {
       "model_id": "bb0591ec101445969e7db8ff37f1b06d",
       "version_major": 2,
       "version_minor": 0
      },
      "text/plain": [
       "  - Add structures of 'gemaal' to crossings:   0%|          | 0/2 [00:00<?, ?it/s]"
      ]
     },
     "metadata": {},
     "output_type": "display_data"
    },
    {
     "data": {
      "application/vnd.jupyter.widget-view+json": {
       "model_id": "a7ee934d9ef6471e9699355053017cbe",
       "version_major": 2,
       "version_minor": 0
      },
      "text/plain": [
       "  - Correct free water flow:   0%|          | 0/4692 [00:00<?, ?it/s]"
      ]
     },
     "metadata": {},
     "output_type": "display_data"
    },
    {
     "data": {
      "application/vnd.jupyter.widget-view+json": {
       "model_id": "4d292f21ca174a0c8a58ff8b09738636",
       "version_major": 2,
       "version_minor": 0
      },
      "text/plain": [
       "  - Correct pumped water flow:   0%|          | 0/4692 [00:00<?, ?it/s]"
      ]
     },
     "metadata": {},
     "output_type": "display_data"
    },
    {
     "data": {
      "application/vnd.jupyter.widget-view+json": {
       "model_id": "990fef7abd314a67ae5ab1002e051cea",
       "version_major": 2,
       "version_minor": 0
      },
      "text/plain": [
       "Add double links for crossings with 'stuw' and 'gemaal':   0%|          | 0/4461 [00:00<?, ?it/s]"
      ]
     },
     "metadata": {},
     "output_type": "display_data"
    },
    {
     "data": {
      "application/vnd.jupyter.widget-view+json": {
       "model_id": "88afa3944d354039ac1808a74d781939",
       "version_major": 2,
       "version_minor": 0
      },
      "text/plain": [
       "Aggregate links between peilgebieden:   0%|          | 0/2972 [00:00<?, ?it/s]"
      ]
     },
     "metadata": {},
     "output_type": "display_data"
    },
    {
     "data": {
      "application/vnd.jupyter.widget-view+json": {
       "model_id": "07f21f6a66094ae48c08aac69e674111",
       "version_major": 2,
       "version_minor": 0
      },
      "text/plain": [
       "Assign aggregate areas:   0%|          | 0/2693 [00:00<?, ?it/s]"
      ]
     },
     "metadata": {},
     "output_type": "display_data"
    },
    {
     "data": {
      "application/vnd.jupyter.widget-view+json": {
       "model_id": "7fc07ea58bb0485b9f8fc8098aa83327",
       "version_major": 2,
       "version_minor": 0
      },
      "text/plain": [
       "Disable crossings in aggregation areas:   0%|          | 0/612 [00:00<?, ?it/s]"
      ]
     },
     "metadata": {},
     "output_type": "display_data"
    },
    {
     "data": {
      "application/vnd.jupyter.widget-view+json": {
       "model_id": "7b2fd185d9144543a11fd8a2768f78fb",
       "version_major": 2,
       "version_minor": 0
      },
      "text/plain": [
       "Aggregate links between aggregate areas:   0%|          | 0/499 [00:00<?, ?it/s]"
      ]
     },
     "metadata": {},
     "output_type": "display_data"
    },
    {
     "data": {
      "application/vnd.jupyter.widget-view+json": {
       "model_id": "03d2efb6444b4b35bdc7746833bbde8e",
       "version_major": 2,
       "version_minor": 0
      },
      "text/plain": [
       "  - Add structures of 'stuw' to crossings:   0%|          | 0/1058 [00:00<?, ?it/s]"
      ]
     },
     "metadata": {},
     "output_type": "display_data"
    },
    {
     "data": {
      "application/vnd.jupyter.widget-view+json": {
       "model_id": "f31797e9fab64d47a970f42a47253183",
       "version_major": 2,
       "version_minor": 0
      },
      "text/plain": [
       "  - Add structures of 'gemaal' to crossings:   0%|          | 0/96 [00:00<?, ?it/s]"
      ]
     },
     "metadata": {},
     "output_type": "display_data"
    },
    {
     "data": {
      "application/vnd.jupyter.widget-view+json": {
       "model_id": "dc2df1fe5e264acb8debbffb5da1b4df",
       "version_major": 2,
       "version_minor": 0
      },
      "text/plain": [
       "  - Correct free water flow:   0%|          | 0/4730 [00:00<?, ?it/s]"
      ]
     },
     "metadata": {},
     "output_type": "display_data"
    },
    {
     "data": {
      "application/vnd.jupyter.widget-view+json": {
       "model_id": "91570c6f8c384c68b3bd9f43651aaaec",
       "version_major": 2,
       "version_minor": 0
      },
      "text/plain": [
       "  - Correct pumped water flow:   0%|          | 0/4730 [00:00<?, ?it/s]"
      ]
     },
     "metadata": {},
     "output_type": "display_data"
    },
    {
     "data": {
      "application/vnd.jupyter.widget-view+json": {
       "model_id": "0c5a288ec42c401eb675b1368148f025",
       "version_major": 2,
       "version_minor": 0
      },
      "text/plain": [
       "Add double links for crossings with 'stuw' and 'gemaal':   0%|          | 0/602 [00:00<?, ?it/s]"
      ]
     },
     "metadata": {},
     "output_type": "display_data"
    },
    {
     "data": {
      "application/vnd.jupyter.widget-view+json": {
       "model_id": "ee5dfdbe59144e3eba664608c429fc9b",
       "version_major": 2,
       "version_minor": 0
      },
      "text/plain": [
       "Filter crossings along 'duikersifonhevel':   0%|          | 0/4399 [00:00<?, ?it/s]"
      ]
     },
     "metadata": {},
     "output_type": "display_data"
    },
    {
     "data": {
      "application/vnd.jupyter.widget-view+json": {
       "model_id": "c92fc05d99d4410ca00fd1e9774ff31c",
       "version_major": 2,
       "version_minor": 0
      },
      "text/plain": [
       "  - Add structures of 'stuw' to crossings:   0%|          | 0/167 [00:00<?, ?it/s]"
      ]
     },
     "metadata": {},
     "output_type": "display_data"
    },
    {
     "data": {
      "application/vnd.jupyter.widget-view+json": {
       "model_id": "77ee751900ec4c7ebd3d31a26712c152",
       "version_major": 2,
       "version_minor": 0
      },
      "text/plain": [
       "  - Add structures of 'stuw' to crossings:   0%|          | 0/2 [00:00<?, ?it/s]"
      ]
     },
     "metadata": {},
     "output_type": "display_data"
    },
    {
     "data": {
      "application/vnd.jupyter.widget-view+json": {
       "model_id": "a132469cf84644059fa1510b5d610310",
       "version_major": 2,
       "version_minor": 0
      },
      "text/plain": [
       "  - Add structures of 'gemaal' to crossings:   0%|          | 0/30 [00:00<?, ?it/s]"
      ]
     },
     "metadata": {},
     "output_type": "display_data"
    },
    {
     "data": {
      "application/vnd.jupyter.widget-view+json": {
       "model_id": "892daae069f446889fe624458375e67b",
       "version_major": 2,
       "version_minor": 0
      },
      "text/plain": [
       "  - Add structures of 'gemaal' to crossings:   0%|          | 0/1 [00:00<?, ?it/s]"
      ]
     },
     "metadata": {},
     "output_type": "display_data"
    },
    {
     "data": {
      "application/vnd.jupyter.widget-view+json": {
       "model_id": "3cb2a1addc194372bbc0c46d8ea9010c",
       "version_major": 2,
       "version_minor": 0
      },
      "text/plain": [
       "  - Correct free water flow:   0%|          | 0/13280 [00:00<?, ?it/s]"
      ]
     },
     "metadata": {},
     "output_type": "display_data"
    },
    {
     "data": {
      "application/vnd.jupyter.widget-view+json": {
       "model_id": "30d52c5da12b4f4fa6af2587f25c94af",
       "version_major": 2,
       "version_minor": 0
      },
      "text/plain": [
       "  - Correct pumped water flow:   0%|          | 0/13280 [00:00<?, ?it/s]"
      ]
     },
     "metadata": {},
     "output_type": "display_data"
    },
    {
     "data": {
      "application/vnd.jupyter.widget-view+json": {
       "model_id": "4627acc6218947d6b889e1934240220d",
       "version_major": 2,
       "version_minor": 0
      },
      "text/plain": [
       "Add double links for crossings with 'stuw' and 'gemaal':   0%|          | 0/8504 [00:00<?, ?it/s]"
      ]
     },
     "metadata": {},
     "output_type": "display_data"
    },
    {
     "data": {
      "application/vnd.jupyter.widget-view+json": {
       "model_id": "d9a5c88e4fc0499a9a278cbc4e3ceedc",
       "version_major": 2,
       "version_minor": 0
      },
      "text/plain": [
       "Aggregate links between peilgebieden:   0%|          | 0/5039 [00:00<?, ?it/s]"
      ]
     },
     "metadata": {},
     "output_type": "display_data"
    },
    {
     "data": {
      "application/vnd.jupyter.widget-view+json": {
       "model_id": "d6e3bfb6f1f849c8ae5a99ca7878c9af",
       "version_major": 2,
       "version_minor": 0
      },
      "text/plain": [
       "Assign aggregate areas:   0%|          | 0/2693 [00:00<?, ?it/s]"
      ]
     },
     "metadata": {},
     "output_type": "display_data"
    },
    {
     "data": {
      "application/vnd.jupyter.widget-view+json": {
       "model_id": "69fbe46670c64a86add7faaae419a4c8",
       "version_major": 2,
       "version_minor": 0
      },
      "text/plain": [
       "Disable crossings in aggregation areas:   0%|          | 0/817 [00:00<?, ?it/s]"
      ]
     },
     "metadata": {},
     "output_type": "display_data"
    },
    {
     "data": {
      "application/vnd.jupyter.widget-view+json": {
       "model_id": "6c7c4f513cdb49059953c460e633513d",
       "version_major": 2,
       "version_minor": 0
      },
      "text/plain": [
       "Aggregate links between aggregate areas:   0%|          | 0/881 [00:00<?, ?it/s]"
      ]
     },
     "metadata": {},
     "output_type": "display_data"
    },
    {
     "data": {
      "application/vnd.jupyter.widget-view+json": {
       "model_id": "75a16e6807444c51a0e6403e76010596",
       "version_major": 2,
       "version_minor": 0
      },
      "text/plain": [
       "  - Add structures of 'stuw' to crossings:   0%|          | 0/3468 [00:00<?, ?it/s]"
      ]
     },
     "metadata": {},
     "output_type": "display_data"
    },
    {
     "data": {
      "application/vnd.jupyter.widget-view+json": {
       "model_id": "02446905d91f47a7aa16aede84276428",
       "version_major": 2,
       "version_minor": 0
      },
      "text/plain": [
       "  - Add structures of 'stuw' to crossings:   0%|          | 0/23 [00:00<?, ?it/s]"
      ]
     },
     "metadata": {},
     "output_type": "display_data"
    },
    {
     "data": {
      "application/vnd.jupyter.widget-view+json": {
       "model_id": "ae12d6431589479dad3dbb978e400b34",
       "version_major": 2,
       "version_minor": 0
      },
      "text/plain": [
       "  - Add structures of 'gemaal' to crossings:   0%|          | 0/306 [00:00<?, ?it/s]"
      ]
     },
     "metadata": {},
     "output_type": "display_data"
    },
    {
     "data": {
      "application/vnd.jupyter.widget-view+json": {
       "model_id": "53adcac5a9c94b45b14ebf4506b7b63b",
       "version_major": 2,
       "version_minor": 0
      },
      "text/plain": [
       "  - Correct free water flow:   0%|          | 0/13306 [00:00<?, ?it/s]"
      ]
     },
     "metadata": {},
     "output_type": "display_data"
    },
    {
     "data": {
      "application/vnd.jupyter.widget-view+json": {
       "model_id": "4150eec2fce84c50a444f4923624e818",
       "version_major": 2,
       "version_minor": 0
      },
      "text/plain": [
       "  - Correct pumped water flow:   0%|          | 0/13306 [00:00<?, ?it/s]"
      ]
     },
     "metadata": {},
     "output_type": "display_data"
    },
    {
     "data": {
      "application/vnd.jupyter.widget-view+json": {
       "model_id": "45d777fc688947929975d4af9820c396",
       "version_major": 2,
       "version_minor": 0
      },
      "text/plain": [
       "Add double links for crossings with 'stuw' and 'gemaal':   0%|          | 0/1035 [00:00<?, ?it/s]"
      ]
     },
     "metadata": {},
     "output_type": "display_data"
    },
    {
     "name": "stdout",
     "output_type": "stream",
     "text": [
      "\n",
      "Delfland...\n",
      "\n",
      "Hollandse Delta...\n",
      "\n",
      "AmstelGooienVecht...\n",
      "\n",
      "HHSK...\n",
      "\n",
      "Rijnland...\n",
      "\n",
      "Scheldestromen...\n",
      "\n",
      "Wetterskip...\n",
      "\n",
      "WSRL...\n",
      "\n",
      "Zuiderzeeland...\n"
     ]
    }
   ],
   "source": [
    "for waterschap, waterschap_struct in waterschap_data.items():\n",
    "        print(f\"\\n{waterschap}...\")\n",
    "\n",
    "        init_settings, crossing_settings = waterschap_struct.values()\n",
    "        init_settings[\"logfile\"] = pathlib.Path(init_settings[\"output_path\"]).with_suffix(\"\").with_suffix(\".log\")\n",
    "    \n",
    "        if waterschap not in ['HHNK']:\n",
    "            continue\n",
    "    \n",
    "        # if pathlib.Path(init_settings[\"output_path\"]).exists() and \"crossings_hydroobject\" in fiona.listlayers(init_settings[\"output_path\"]):\n",
    "        #     continue\n",
    "\n",
    "        # Crossings class initializeren\n",
    "        cross = ParseCrossings(**init_settings)\n",
    "\n",
    "        # Crossings bepalen en wegschrijven\n",
    "        if crossing_settings[\"filterlayer\"] is None:\n",
    "            df_hydro = cross.find_crossings_with_peilgebieden(\"hydroobject\", **crossing_settings)\n",
    "            cross.write_crossings(df_hydro)\n",
    "        else:\n",
    "            df_hydro, df_dsf, df_hydro_dsf = cross.find_crossings_with_peilgebieden(\"hydroobject\", **crossing_settings)\n",
    "            cross.write_crossings(df_hydro, crossing_settings[\"filterlayer\"], df_dsf, df_hydro_dsf)\n"
   ]
  },
  {
   "cell_type": "code",
   "execution_count": null,
   "id": "ace4708f-3744-4dc2-9c57-2b86a3276efd",
   "metadata": {},
   "outputs": [],
   "source": []
  },
  {
   "cell_type": "code",
   "execution_count": 7,
   "id": "50eb7223-cb3e-4a59-a0e5-bf56e9326fa5",
   "metadata": {},
   "outputs": [
    {
     "data": {
      "text/html": [
       "<div>\n",
       "<style scoped>\n",
       "    .dataframe tbody tr th:only-of-type {\n",
       "        vertical-align: middle;\n",
       "    }\n",
       "\n",
       "    .dataframe tbody tr th {\n",
       "        vertical-align: top;\n",
       "    }\n",
       "\n",
       "    .dataframe thead th {\n",
       "        text-align: right;\n",
       "    }\n",
       "</style>\n",
       "<table border=\"1\" class=\"dataframe\">\n",
       "  <thead>\n",
       "    <tr style=\"text-align: right;\">\n",
       "      <th></th>\n",
       "      <th>in_use</th>\n",
       "      <th>agg_links_in_use</th>\n",
       "      <th>agg_areas_in_use</th>\n",
       "    </tr>\n",
       "  </thead>\n",
       "  <tbody>\n",
       "    <tr>\n",
       "      <th>HHNK</th>\n",
       "      <td>8546</td>\n",
       "      <td>5326</td>\n",
       "      <td>5326</td>\n",
       "    </tr>\n",
       "    <tr>\n",
       "      <th>Delfland</th>\n",
       "      <td>4080</td>\n",
       "      <td>2916</td>\n",
       "      <td>410</td>\n",
       "    </tr>\n",
       "    <tr>\n",
       "      <th>Hollandse Delta</th>\n",
       "      <td>3139</td>\n",
       "      <td>1789</td>\n",
       "      <td>1789</td>\n",
       "    </tr>\n",
       "    <tr>\n",
       "      <th>AmstelGooienVecht</th>\n",
       "      <td>1476</td>\n",
       "      <td>676</td>\n",
       "      <td>670</td>\n",
       "    </tr>\n",
       "    <tr>\n",
       "      <th>HHSK</th>\n",
       "      <td>1247</td>\n",
       "      <td>492</td>\n",
       "      <td>453</td>\n",
       "    </tr>\n",
       "    <tr>\n",
       "      <th>Rijnland</th>\n",
       "      <td>5405</td>\n",
       "      <td>2833</td>\n",
       "      <td>1005</td>\n",
       "    </tr>\n",
       "    <tr>\n",
       "      <th>Scheldestromen</th>\n",
       "      <td>1713</td>\n",
       "      <td>1172</td>\n",
       "      <td>372</td>\n",
       "    </tr>\n",
       "    <tr>\n",
       "      <th>Wetterskip</th>\n",
       "      <td>12912</td>\n",
       "      <td>10061</td>\n",
       "      <td>2671</td>\n",
       "    </tr>\n",
       "    <tr>\n",
       "      <th>WSRL</th>\n",
       "      <td>2121</td>\n",
       "      <td>1611</td>\n",
       "      <td>657</td>\n",
       "    </tr>\n",
       "    <tr>\n",
       "      <th>Zuiderzeeland</th>\n",
       "      <td>1892</td>\n",
       "      <td>554</td>\n",
       "      <td>527</td>\n",
       "    </tr>\n",
       "  </tbody>\n",
       "</table>\n",
       "</div>"
      ],
      "text/plain": [
       "                   in_use  agg_links_in_use  agg_areas_in_use\n",
       "HHNK                 8546              5326              5326\n",
       "Delfland             4080              2916               410\n",
       "Hollandse Delta      3139              1789              1789\n",
       "AmstelGooienVecht    1476               676               670\n",
       "HHSK                 1247               492               453\n",
       "Rijnland             5405              2833              1005\n",
       "Scheldestromen       1713              1172               372\n",
       "Wetterskip          12912             10061              2671\n",
       "WSRL                 2121              1611               657\n",
       "Zuiderzeeland        1892               554               527"
      ]
     },
     "metadata": {},
     "output_type": "display_data"
    },
    {
     "data": {
      "text/html": [
       "<div>\n",
       "<style scoped>\n",
       "    .dataframe tbody tr th:only-of-type {\n",
       "        vertical-align: middle;\n",
       "    }\n",
       "\n",
       "    .dataframe tbody tr th {\n",
       "        vertical-align: top;\n",
       "    }\n",
       "\n",
       "    .dataframe thead th {\n",
       "        text-align: right;\n",
       "    }\n",
       "</style>\n",
       "<table border=\"1\" class=\"dataframe\">\n",
       "  <thead>\n",
       "    <tr style=\"text-align: right;\">\n",
       "      <th></th>\n",
       "      <th>Basins</th>\n",
       "      <th>Edges</th>\n",
       "      <th>Peilgebieden</th>\n",
       "    </tr>\n",
       "  </thead>\n",
       "  <tbody>\n",
       "    <tr>\n",
       "      <th>HHNK</th>\n",
       "      <td>223</td>\n",
       "      <td>10652</td>\n",
       "      <td>2649</td>\n",
       "    </tr>\n",
       "    <tr>\n",
       "      <th>Delfland</th>\n",
       "      <td>105</td>\n",
       "      <td>820</td>\n",
       "      <td>283</td>\n",
       "    </tr>\n",
       "    <tr>\n",
       "      <th>Hollandse Delta</th>\n",
       "      <td>783</td>\n",
       "      <td>3578</td>\n",
       "      <td>785</td>\n",
       "    </tr>\n",
       "    <tr>\n",
       "      <th>AmstelGooienVecht</th>\n",
       "      <td>228</td>\n",
       "      <td>1340</td>\n",
       "      <td>228</td>\n",
       "    </tr>\n",
       "    <tr>\n",
       "      <th>HHSK</th>\n",
       "      <td>156</td>\n",
       "      <td>906</td>\n",
       "      <td>157</td>\n",
       "    </tr>\n",
       "    <tr>\n",
       "      <th>Rijnland</th>\n",
       "      <td>285</td>\n",
       "      <td>2010</td>\n",
       "      <td>542</td>\n",
       "    </tr>\n",
       "    <tr>\n",
       "      <th>Scheldestromen</th>\n",
       "      <td>190</td>\n",
       "      <td>744</td>\n",
       "      <td>294</td>\n",
       "    </tr>\n",
       "    <tr>\n",
       "      <th>Wetterskip</th>\n",
       "      <td>948</td>\n",
       "      <td>5342</td>\n",
       "      <td>2158</td>\n",
       "    </tr>\n",
       "    <tr>\n",
       "      <th>WSRL</th>\n",
       "      <td>129</td>\n",
       "      <td>1314</td>\n",
       "      <td>446</td>\n",
       "    </tr>\n",
       "    <tr>\n",
       "      <th>Zuiderzeeland</th>\n",
       "      <td>289</td>\n",
       "      <td>1054</td>\n",
       "      <td>289</td>\n",
       "    </tr>\n",
       "  </tbody>\n",
       "</table>\n",
       "</div>"
      ],
      "text/plain": [
       "                   Basins  Edges  Peilgebieden\n",
       "HHNK                  223  10652          2649\n",
       "Delfland              105    820           283\n",
       "Hollandse Delta       783   3578           785\n",
       "AmstelGooienVecht     228   1340           228\n",
       "HHSK                  156    906           157\n",
       "Rijnland              285   2010           542\n",
       "Scheldestromen        190    744           294\n",
       "Wetterskip            948   5342          2158\n",
       "WSRL                  129   1314           446\n",
       "Zuiderzeeland         289   1054           289"
      ]
     },
     "metadata": {},
     "output_type": "display_data"
    },
    {
     "data": {
      "image/png": "[encoded data removed]",
      "text/plain": [
       "<Figure size 1200x740 with 1 Axes>"
      ]
     },
     "metadata": {},
     "output_type": "display_data"
    },
    {
     "data": {
      "image/png": "[encoded data removed]",
      "text/plain": [
       "<Figure size 1200x740 with 1 Axes>"
      ]
     },
     "metadata": {},
     "output_type": "display_data"
    }
   ],
   "source": [
    "plt.close(\"all\")\n",
    "fig1, ax1 = plt.subplots(figsize=(12, 7.4), dpi=100)\n",
    "fig2, ax2 = plt.subplots(figsize=(12, 7.4), dpi=100)\n",
    "\n",
    "for ax in [ax1, ax2]:\n",
    "    ax.spines[\"top\"].set_visible(False)\n",
    "    ax.spines[\"right\"].set_visible(False)\n",
    "    ax.spines[\"left\"].set_visible(False)\n",
    "    ax.spines[\"bottom\"].set_color(\"#dddddd\")\n",
    "    ax.tick_params(bottom=False, left=False)\n",
    "    ax.yaxis.grid(True, color=\"#eeeeee\")\n",
    "    ax.xaxis.grid(False)\n",
    "\n",
    "waterschappen = []\n",
    "network_results = {\"Basins\": [], \"Edges\": [], \"Peilgebieden\": []}\n",
    "# reduction_results = {\"initial\": [], \"in_use\": [], \"agg_links_in_use\": [], \"agg_areas_in_use\": []}\n",
    "reduction_results = {\"in_use\": [], \"agg_links_in_use\": [], \"agg_areas_in_use\": []}\n",
    "for waterschap, waterschap_struct in waterschap_data.items():\n",
    "    init_settings, crossing_settings = waterschap_struct.values()\n",
    "    df = gpd.read_file(init_settings[\"output_path\"], layer=\"crossings_hydroobject_filtered\")\n",
    "\n",
    "    basins, edges, peilgebieden = None, None, None\n",
    "    init_cross, cross_inuse, cross_agglinks, cross_aggareas = None, None, None, None\n",
    "    try:\n",
    "        sub_df = df[df.agg_areas_in_use].copy()\n",
    "        all_nodes = np.hstack([sub_df.agg_area_from.to_numpy(), sub_df.agg_area_to.to_numpy()])\n",
    "        basins = len(np.unique(all_nodes[~pd.isna(all_nodes)]))\n",
    "        edges = len(sub_df) * 2\n",
    "        all_peilgebieden = np.hstack([sub_df.peilgebied_from.to_numpy(), sub_df.peilgebied_to.to_numpy()])\n",
    "        peilgebieden = len(np.unique(all_peilgebieden[~pd.isna(all_peilgebieden)]))\n",
    "\n",
    "        init_cross = len(df)\n",
    "        cross_inuse = len(df[df.in_use])\n",
    "        cross_agglinks = len(df[df.agg_links_in_use])\n",
    "        cross_aggareas = len(df[df.agg_areas_in_use])\n",
    "    except Exception as e:\n",
    "        print(f\"{waterschap=}, {e=}\")\n",
    "\n",
    "    # reduction_results[\"initial\"].append(init_cross)\n",
    "    reduction_results[\"in_use\"].append(cross_inuse)\n",
    "    reduction_results[\"agg_links_in_use\"].append(cross_agglinks)\n",
    "    reduction_results[\"agg_areas_in_use\"].append(cross_aggareas)\n",
    "    \n",
    "    network_results[\"Basins\"].append(basins)\n",
    "    network_results[\"Edges\"].append(edges)\n",
    "    network_results[\"Peilgebieden\"].append(peilgebieden)\n",
    "    waterschappen.append(waterschap)\n",
    "\n",
    "colours = ['#0C3B5D', '#3EC1CD', '#EF3A4C', '#FCB94D']\n",
    "\n",
    "x1 = np.arange(len(waterschappen))\n",
    "width = 1 / (1 + len(network_results))\n",
    "multiplier = 0\n",
    "for multiplier, (attribute, measurement) in enumerate(network_results.items()):\n",
    "    offset = width * multiplier\n",
    "    rects = ax1.bar(x1 + offset, measurement, width, label=attribute, color=colours[multiplier])\n",
    "    # ax1.bar_label(rects, padding=3)\n",
    "ax1.set_axisbelow(True)\n",
    "ax1.set_xticks(x1 + width, waterschappen, rotation=45)\n",
    "ax1.legend(loc=\"upper left\", ncols=len(network_results))\n",
    "\n",
    "\n",
    "x2 = np.arange(len(waterschappen))\n",
    "width = 1 / (1 + len(reduction_results))\n",
    "for multiplier, (attribute, measurement) in enumerate(reduction_results.items()):\n",
    "    offset = width * multiplier\n",
    "    rects = ax2.bar(x2 + offset, measurement, width, label=attribute, color=colours[multiplier])\n",
    "    # ax2.bar_label(rects, padding=3)\n",
    "ax2.set_axisbelow(True)\n",
    "ax2.set_xticks(x2 + width, waterschappen, rotation=45)\n",
    "ax2.legend(loc=\"upper left\", ncols=len(reduction_results))\n",
    "\n",
    "fig1.tight_layout()\n",
    "fig2.tight_layout()\n",
    "\n",
    "fig1.savefig(\"network_results.jpeg\", bbox_inches=\"tight\")\n",
    "fig2.savefig(\"reduction_results.jpeg\", bbox_inches=\"tight\")\n",
    "\n",
    "display(pd.DataFrame(reduction_results, index=waterschappen))\n",
    "display(pd.DataFrame(network_results, index=waterschappen))"
   ]
  },
  {
   "cell_type": "code",
   "execution_count": null,
   "id": "8980f137-8176-4156-8319-5039e61a11c5",
   "metadata": {},
   "outputs": [],
   "source": []
  },
  {
   "cell_type": "code",
   "execution_count": null,
   "id": "ba8a41fb-5e6d-41e0-b0c1-2ba7bf113908",
   "metadata": {},
   "outputs": [],
   "source": []
  }
 ],
 "metadata": {
  "kernelspec": {
   "display_name": "Python [conda env:ribasim]",
   "language": "python",
   "name": "conda-env-ribasim-py"
  },
  "language_info": {
   "codemirror_mode": {
    "name": "ipython",
    "version": 3
   },
   "file_extension": ".py",
   "mimetype": "text/x-python",
   "name": "python",
   "nbconvert_exporter": "python",
   "pygments_lexer": "ipython3",
   "version": "3.10.13"
  }
 },
 "nbformat": 4,
 "nbformat_minor": 5
}
