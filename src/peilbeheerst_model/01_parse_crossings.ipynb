{
 "cells": [
  {
   "cell_type": "code",
   "execution_count": 8,
   "id": "0",
   "metadata": {},
   "outputs": [],
   "source": [
    "import json\n",
    "import pathlib\n",
    "\n",
    "import geopandas as gpd\n",
    "import matplotlib.pyplot as plt\n",
    "import numpy as np\n",
    "import pandas as pd\n",
    "from IPython.core.display import HTML\n",
    "from peilbeheerst_model import ParseCrossings"
   ]
  },
  {
   "cell_type": "code",
   "execution_count": 9,
   "id": "1",
   "metadata": {},
   "outputs": [
    {
     "name": "stdout",
     "output_type": "stream",
     "text": [
      "<IPython.core.display.HTML object>\n",
      "                                                           gpkg_path  \\\n",
      "HHNK               ../../../../Data_postprocessed/Waterschappen/H...   \n",
      "Delfland           ../../../../Data_postprocessed/Waterschappen/D...   \n",
      "Hollandse Delta    ../../../../Data_postprocessed/Waterschappen/H...   \n",
      "AmstelGooienVecht  ../../../../Data_postprocessed/Waterschappen/A...   \n",
      "HHSK               ../../../../Data_postprocessed/Waterschappen/H...   \n",
      "Rijnland           ../../../../Data_postprocessed/Waterschappen/R...   \n",
      "Scheldestromen     ../../../../Data_postprocessed/Waterschappen/S...   \n",
      "Wetterskip         ../../../../Data_postprocessed/Waterschappen/W...   \n",
      "WSRL               ../../../../Data_postprocessed/Waterschappen/W...   \n",
      "Zuiderzeeland      ../../../../Data_postprocessed/Waterschappen/Z...   \n",
      "\n",
      "                                                         output_path  \\\n",
      "HHNK               ../../../../Data_crossings/HHNK/hhnk_crossings...   \n",
      "Delfland           ../../../../Data_crossings/Delfland/delfland_c...   \n",
      "Hollandse Delta    ../../../../Data_crossings/Hollandse_Delta/hd_...   \n",
      "AmstelGooienVecht  ../../../../Data_crossings/AmstelGooienVecht/a...   \n",
      "HHSK               ../../../../Data_crossings/HHSK/hhsk_crossings...   \n",
      "Rijnland           ../../../../Data_crossings/Rijnland/rijnland_c...   \n",
      "Scheldestromen     ../../../../Data_crossings/Scheldestromen/sche...   \n",
      "Wetterskip         ../../../../Data_crossings/Wetterskip/wettersk...   \n",
      "WSRL               ../../../../Data_crossings/WSRL/wsrl_crossings...   \n",
      "Zuiderzeeland      ../../../../Data_crossings/Zuiderzeeland/zzl_c...   \n",
      "\n",
      "                   search_radius_structure agg_peilgebieden_layer  \\\n",
      "HHNK                                    60       aggregation_area   \n",
      "Delfland                                60       aggregation_area   \n",
      "Hollandse Delta                        300       aggregation_area   \n",
      "AmstelGooienVecht                       60       aggregation_area   \n",
      "HHSK                                   300       aggregation_area   \n",
      "Rijnland                                60       aggregation_area   \n",
      "Scheldestromen                          60       aggregation_area   \n",
      "Wetterskip                              60       aggregation_area   \n",
      "WSRL                                    60       aggregation_area   \n",
      "Zuiderzeeland                           60       aggregation_area   \n",
      "\n",
      "                  agg_peilgebieden_column  \\\n",
      "HHNK                                 code   \n",
      "Delfland                             code   \n",
      "Hollandse Delta                      code   \n",
      "AmstelGooienVecht                    code   \n",
      "HHSK                                 code   \n",
      "Rijnland                             code   \n",
      "Scheldestromen                       code   \n",
      "Wetterskip                           code   \n",
      "WSRL                                 code   \n",
      "Zuiderzeeland                        code   \n",
      "\n",
      "                                                            krw_path  \\\n",
      "HHNK               ../../../../Data_overig/KRW/KRW_lichamen_per_w...   \n",
      "Delfland           ../../../../Data_overig/KRW/KRW_lichamen_per_w...   \n",
      "Hollandse Delta    ../../../../Data_overig/KRW/KRW_lichamen_per_w...   \n",
      "AmstelGooienVecht  ../../../../Data_overig/KRW/KRW_lichamen_per_w...   \n",
      "HHSK               ../../../../Data_overig/KRW/KRW_lichamen_per_w...   \n",
      "Rijnland           ../../../../Data_overig/KRW/KRW_lichamen_per_w...   \n",
      "Scheldestromen     ../../../../Data_overig/KRW/KRW_lichamen_per_w...   \n",
      "Wetterskip         ../../../../Data_overig/KRW/KRW_lichamen_per_w...   \n",
      "WSRL               ../../../../Data_overig/KRW/KRW_lichamen_per_w...   \n",
      "Zuiderzeeland      ../../../../Data_overig/KRW/KRW_lichamen_per_w...   \n",
      "\n",
      "                  krw_column_id krw_column_name  krw_min_overlap  \n",
      "HHNK                   owmident         owmnaam            0.025  \n",
      "Delfland               owmident         owmnaam            0.025  \n",
      "Hollandse Delta        owmident         owmnaam            0.025  \n",
      "AmstelGooienVecht      owmident         owmnaam            0.025  \n",
      "HHSK                   owmident         owmnaam            0.025  \n",
      "Rijnland               owmident         owmnaam            0.025  \n",
      "Scheldestromen         owmident         owmnaam            0.025  \n",
      "Wetterskip             owmident         owmnaam            0.025  \n",
      "WSRL                   owmident         owmnaam            0.025  \n",
      "Zuiderzeeland          owmident         owmnaam            0.025  \n",
      "<IPython.core.display.HTML object>\n",
      "                        filterlayer  group_stacked\n",
      "HHNK               duikersifonhevel           True\n",
      "Delfland           duikersifonhevel           True\n",
      "Hollandse Delta    duikersifonhevel           True\n",
      "AmstelGooienVecht  duikersifonhevel           True\n",
      "HHSK               duikersifonhevel           True\n",
      "Rijnland           duikersifonhevel           True\n",
      "Scheldestromen     duikersifonhevel           True\n",
      "Wetterskip         duikersifonhevel           True\n",
      "WSRL               duikersifonhevel           True\n",
      "Zuiderzeeland      duikersifonhevel           True\n"
     ]
    }
   ],
   "source": [
    "with open(\"waterschappen.json\") as f:\n",
    "    waterschap_data = json.load(f)\n",
    "\n",
    "print_df = {}\n",
    "for waterschap, waterschap_struct in waterschap_data.items():\n",
    "    for funcname, func_args in waterschap_struct.items():\n",
    "        if funcname not in print_df:\n",
    "            print_df[funcname] = []\n",
    "        print_df[funcname].append(pd.Series(func_args, name=waterschap))\n",
    "\n",
    "for funcname, df in print_df.items():\n",
    "    print(HTML(f\"<h2>Function {funcname}:</h2>\"))\n",
    "    print(pd.DataFrame(df))"
   ]
  },
  {
   "cell_type": "code",
   "execution_count": 12,
   "id": "2",
   "metadata": {},
   "outputs": [
    {
     "name": "stdout",
     "output_type": "stream",
     "text": [
      "\n",
      "HHNK...\n",
      "\n",
      "Delfland...\n",
      "\n",
      "Hollandse Delta...\n",
      "\n",
      "AmstelGooienVecht...\n",
      "\n",
      "HHSK...\n",
      "\n",
      "Rijnland...\n",
      "\n",
      "Scheldestromen...\n",
      "\n",
      "Wetterskip...\n"
     ]
    },
    {
     "data": {
      "application/vnd.jupyter.widget-view+json": {
       "model_id": "83ca26efe3084e0992b51071708ca732",
       "version_major": 2,
       "version_minor": 0
      },
      "text/plain": [
       "Snap geometries in 'hydroobject':   0%|          | 0/57988 [00:00<?, ?it/s]"
      ]
     },
     "metadata": {},
     "output_type": "display_data"
    },
    {
     "data": {
      "application/vnd.jupyter.widget-view+json": {
       "model_id": "552ee166c92f40a98347ff0ca773603b",
       "version_major": 2,
       "version_minor": 0
      },
      "text/plain": [
       "Find which endpoints need to be extended:   0%|          | 0/115968 [00:00<?, ?it/s]"
      ]
     },
     "metadata": {},
     "output_type": "display_data"
    },
    {
     "data": {
      "application/vnd.jupyter.widget-view+json": {
       "model_id": "0dcdc516392144e1829b86790015c4ad",
       "version_major": 2,
       "version_minor": 0
      },
      "text/plain": [
       "Move groups of endpoints away from boundary:   0%|          | 0/559 [00:00<?, ?it/s]"
      ]
     },
     "metadata": {},
     "output_type": "display_data"
    },
    {
     "data": {
      "application/vnd.jupyter.widget-view+json": {
       "model_id": "e9311e13097440a9b6edc8899a588ab9",
       "version_major": 2,
       "version_minor": 0
      },
      "text/plain": [
       "Find crossings for 'hydroobject':   0%|          | 0/57988 [00:00<?, ?it/s]"
      ]
     },
     "metadata": {},
     "output_type": "display_data"
    },
    {
     "data": {
      "application/vnd.jupyter.widget-view+json": {
       "model_id": "71f8b62cfa5c40209fdd45237191e8fb",
       "version_major": 2,
       "version_minor": 0
      },
      "text/plain": [
       "  - Add water levels to crossings:   0%|          | 0/7436 [00:00<?, ?it/s]"
      ]
     },
     "metadata": {},
     "output_type": "display_data"
    },
    {
     "data": {
      "application/vnd.jupyter.widget-view+json": {
       "model_id": "87122d56b7a1435ea83cebc72cdc6468",
       "version_major": 2,
       "version_minor": 0
      },
      "text/plain": [
       "  - Add structures of 'stuw' to crossings:   0%|          | 0/7238 [00:00<?, ?it/s]"
      ]
     },
     "metadata": {},
     "output_type": "display_data"
    },
    {
     "data": {
      "application/vnd.jupyter.widget-view+json": {
       "model_id": "a6fb3973f27d4123b11fa78da1307d1c",
       "version_major": 2,
       "version_minor": 0
      },
      "text/plain": [
       "  - Add structures of 'stuw' to crossings:   0%|          | 0/32 [00:00<?, ?it/s]"
      ]
     },
     "metadata": {},
     "output_type": "display_data"
    },
    {
     "data": {
      "application/vnd.jupyter.widget-view+json": {
       "model_id": "22b86e9183024210bf9e3e98eb0c94a0",
       "version_major": 2,
       "version_minor": 0
      },
      "text/plain": [
       "  - Add structures of 'gemaal' to crossings:   0%|          | 0/1261 [00:00<?, ?it/s]"
      ]
     },
     "metadata": {},
     "output_type": "display_data"
    },
    {
     "data": {
      "application/vnd.jupyter.widget-view+json": {
       "model_id": "044a44f631e94167a38277ee1eedd1be",
       "version_major": 2,
       "version_minor": 0
      },
      "text/plain": [
       "  - Add structures of 'gemaal' to crossings:   0%|          | 0/44 [00:00<?, ?it/s]"
      ]
     },
     "metadata": {},
     "output_type": "display_data"
    },
    {
     "data": {
      "application/vnd.jupyter.widget-view+json": {
       "model_id": "aae38765dcf44f239a517cf9bf9b5810",
       "version_major": 2,
       "version_minor": 0
      },
      "text/plain": [
       "  - Correct free water flow:   0%|          | 0/7436 [00:00<?, ?it/s]"
      ]
     },
     "metadata": {},
     "output_type": "display_data"
    },
    {
     "data": {
      "application/vnd.jupyter.widget-view+json": {
       "model_id": "7c09a33f1bae4eba9689985e61e27a0d",
       "version_major": 2,
       "version_minor": 0
      },
      "text/plain": [
       "  - Correct pumped water flow:   0%|          | 0/7436 [00:00<?, ?it/s]"
      ]
     },
     "metadata": {},
     "output_type": "display_data"
    },
    {
     "data": {
      "application/vnd.jupyter.widget-view+json": {
       "model_id": "c22c1f0223b64199adfb7b72f6ec217d",
       "version_major": 2,
       "version_minor": 0
      },
      "text/plain": [
       "  - Group geometrically stacked crossings:   0%|          | 0/7436 [00:00<?, ?it/s]"
      ]
     },
     "metadata": {},
     "output_type": "display_data"
    },
    {
     "data": {
      "application/vnd.jupyter.widget-view+json": {
       "model_id": "3e6cc84a036240e59f3c5b63d95dbd4f",
       "version_major": 2,
       "version_minor": 0
      },
      "text/plain": [
       "  - Correct free water flow:   0%|          | 0/7436 [00:00<?, ?it/s]"
      ]
     },
     "metadata": {},
     "output_type": "display_data"
    },
    {
     "data": {
      "application/vnd.jupyter.widget-view+json": {
       "model_id": "ad13413075744ca3be80c23ef8fb6ffc",
       "version_major": 2,
       "version_minor": 0
      },
      "text/plain": [
       "  - Correct pumped water flow:   0%|          | 0/7436 [00:00<?, ?it/s]"
      ]
     },
     "metadata": {},
     "output_type": "display_data"
    },
    {
     "data": {
      "application/vnd.jupyter.widget-view+json": {
       "model_id": "8cbc1a2dfc5b428c9156d91aa87cb653",
       "version_major": 2,
       "version_minor": 0
      },
      "text/plain": [
       "Snap geometries in 'duikersifonhevel':   0%|          | 0/42537 [00:00<?, ?it/s]"
      ]
     },
     "metadata": {},
     "output_type": "display_data"
    },
    {
     "data": {
      "application/vnd.jupyter.widget-view+json": {
       "model_id": "1e33d37c30254b118daddac14b5f33d0",
       "version_major": 2,
       "version_minor": 0
      },
      "text/plain": [
       "Find which endpoints need to be extended:   0%|          | 0/85074 [00:00<?, ?it/s]"
      ]
     },
     "metadata": {},
     "output_type": "display_data"
    },
    {
     "data": {
      "application/vnd.jupyter.widget-view+json": {
       "model_id": "472aaf58c89a410d8399ed50d6112222",
       "version_major": 2,
       "version_minor": 0
      },
      "text/plain": [
       "Move groups of endpoints away from boundary:   0%|          | 0/123 [00:00<?, ?it/s]"
      ]
     },
     "metadata": {},
     "output_type": "display_data"
    },
    {
     "data": {
      "application/vnd.jupyter.widget-view+json": {
       "model_id": "a19ccc1cbc134356964146976e3e3073",
       "version_major": 2,
       "version_minor": 0
      },
      "text/plain": [
       "Find crossings for 'duikersifonhevel':   0%|          | 0/42537 [00:00<?, ?it/s]"
      ]
     },
     "metadata": {},
     "output_type": "display_data"
    },
    {
     "data": {
      "application/vnd.jupyter.widget-view+json": {
       "model_id": "3f77128ca8a54bd0b8381ae2204ee1bf",
       "version_major": 2,
       "version_minor": 0
      },
      "text/plain": [
       "  - Add water levels to crossings:   0%|          | 0/5893 [00:00<?, ?it/s]"
      ]
     },
     "metadata": {},
     "output_type": "display_data"
    },
    {
     "data": {
      "application/vnd.jupyter.widget-view+json": {
       "model_id": "ba6e32d08b304d8194cc69362f125c71",
       "version_major": 2,
       "version_minor": 0
      },
      "text/plain": [
       "  - Add structures of 'stuw' to crossings:   0%|          | 0/7238 [00:00<?, ?it/s]"
      ]
     },
     "metadata": {},
     "output_type": "display_data"
    },
    {
     "data": {
      "application/vnd.jupyter.widget-view+json": {
       "model_id": "3b1f4798e8694817a17f23f786cab059",
       "version_major": 2,
       "version_minor": 0
      },
      "text/plain": [
       "  - Add structures of 'stuw' to crossings:   0%|          | 0/23 [00:00<?, ?it/s]"
      ]
     },
     "metadata": {},
     "output_type": "display_data"
    },
    {
     "data": {
      "application/vnd.jupyter.widget-view+json": {
       "model_id": "adb868e03a2c4c14a55671146994129a",
       "version_major": 2,
       "version_minor": 0
      },
      "text/plain": [
       "  - Add structures of 'gemaal' to crossings:   0%|          | 0/1261 [00:00<?, ?it/s]"
      ]
     },
     "metadata": {},
     "output_type": "display_data"
    },
    {
     "data": {
      "application/vnd.jupyter.widget-view+json": {
       "model_id": "ced2e20596e94300a102012a5bcfb3a1",
       "version_major": 2,
       "version_minor": 0
      },
      "text/plain": [
       "  - Add structures of 'gemaal' to crossings:   0%|          | 0/28 [00:00<?, ?it/s]"
      ]
     },
     "metadata": {},
     "output_type": "display_data"
    },
    {
     "data": {
      "application/vnd.jupyter.widget-view+json": {
       "model_id": "7d0d9f76374147c5b6c88d1642c0ad07",
       "version_major": 2,
       "version_minor": 0
      },
      "text/plain": [
       "  - Correct free water flow:   0%|          | 0/5893 [00:00<?, ?it/s]"
      ]
     },
     "metadata": {},
     "output_type": "display_data"
    },
    {
     "data": {
      "application/vnd.jupyter.widget-view+json": {
       "model_id": "95648d4908dc4ce6b16a554eca24d61e",
       "version_major": 2,
       "version_minor": 0
      },
      "text/plain": [
       "  - Correct pumped water flow:   0%|          | 0/5893 [00:00<?, ?it/s]"
      ]
     },
     "metadata": {},
     "output_type": "display_data"
    },
    {
     "data": {
      "application/vnd.jupyter.widget-view+json": {
       "model_id": "3ea2d77232ce4c26b3ffce59ffe4d30e",
       "version_major": 2,
       "version_minor": 0
      },
      "text/plain": [
       "  - Group geometrically stacked crossings:   0%|          | 0/5893 [00:00<?, ?it/s]"
      ]
     },
     "metadata": {},
     "output_type": "display_data"
    },
    {
     "data": {
      "application/vnd.jupyter.widget-view+json": {
       "model_id": "83afe7c3f5c54b44b5a7e4f3137782c7",
       "version_major": 2,
       "version_minor": 0
      },
      "text/plain": [
       "  - Correct free water flow:   0%|          | 0/6206 [00:00<?, ?it/s]"
      ]
     },
     "metadata": {},
     "output_type": "display_data"
    },
    {
     "data": {
      "application/vnd.jupyter.widget-view+json": {
       "model_id": "926c88b07f6b4d61a841d7c0bb3337a2",
       "version_major": 2,
       "version_minor": 0
      },
      "text/plain": [
       "  - Correct pumped water flow:   0%|          | 0/6206 [00:00<?, ?it/s]"
      ]
     },
     "metadata": {},
     "output_type": "display_data"
    },
    {
     "data": {
      "application/vnd.jupyter.widget-view+json": {
       "model_id": "e6fa4b0a23e04fafb21e37bedfaadb33",
       "version_major": 2,
       "version_minor": 0
      },
      "text/plain": [
       "  - Add structures of 'stuw' to crossings:   0%|          | 0/56 [00:00<?, ?it/s]"
      ]
     },
     "metadata": {},
     "output_type": "display_data"
    },
    {
     "data": {
      "application/vnd.jupyter.widget-view+json": {
       "model_id": "242d90dacb2c4d6daa2310a2cc3fa3a2",
       "version_major": 2,
       "version_minor": 0
      },
      "text/plain": [
       "  - Add structures of 'stuw' to crossings:   0%|          | 0/1 [00:00<?, ?it/s]"
      ]
     },
     "metadata": {},
     "output_type": "display_data"
    },
    {
     "data": {
      "application/vnd.jupyter.widget-view+json": {
       "model_id": "c59c4a1a4224458da55c184d953dbb5b",
       "version_major": 2,
       "version_minor": 0
      },
      "text/plain": [
       "  - Add structures of 'gemaal' to crossings:   0%|          | 0/19 [00:00<?, ?it/s]"
      ]
     },
     "metadata": {},
     "output_type": "display_data"
    },
    {
     "data": {
      "application/vnd.jupyter.widget-view+json": {
       "model_id": "11b1e90a2442479ea6588b1e33a7c8f7",
       "version_major": 2,
       "version_minor": 0
      },
      "text/plain": [
       "  - Correct free water flow:   0%|          | 0/6206 [00:00<?, ?it/s]"
      ]
     },
     "metadata": {},
     "output_type": "display_data"
    },
    {
     "data": {
      "application/vnd.jupyter.widget-view+json": {
       "model_id": "3ba221f2ed444f52902dadb9855a004d",
       "version_major": 2,
       "version_minor": 0
      },
      "text/plain": [
       "  - Correct pumped water flow:   0%|          | 0/6206 [00:00<?, ?it/s]"
      ]
     },
     "metadata": {},
     "output_type": "display_data"
    },
    {
     "data": {
      "application/vnd.jupyter.widget-view+json": {
       "model_id": "7c158d68109f46a88f8f608408737627",
       "version_major": 2,
       "version_minor": 0
      },
      "text/plain": [
       "Add double links for crossings with 'stuw' and 'gemaal':   0%|          | 0/5105 [00:00<?, ?it/s]"
      ]
     },
     "metadata": {},
     "output_type": "display_data"
    },
    {
     "data": {
      "application/vnd.jupyter.widget-view+json": {
       "model_id": "c2e209e9c3ae4017a3574e0bbfd88737",
       "version_major": 2,
       "version_minor": 0
      },
      "text/plain": [
       "Aggregate links between peilgebieden:   0%|          | 0/1817 [00:00<?, ?it/s]"
      ]
     },
     "metadata": {},
     "output_type": "display_data"
    },
    {
     "data": {
      "application/vnd.jupyter.widget-view+json": {
       "model_id": "1c0c91046cd94b83ae5ccae2bfb70ba4",
       "version_major": 2,
       "version_minor": 0
      },
      "text/plain": [
       "Assign aggregate areas:   0%|          | 0/1326 [00:00<?, ?it/s]"
      ]
     },
     "metadata": {},
     "output_type": "display_data"
    },
    {
     "data": {
      "application/vnd.jupyter.widget-view+json": {
       "model_id": "72f6e1dccb654788ad2d3bbedd962b79",
       "version_major": 2,
       "version_minor": 0
      },
      "text/plain": [
       "Disable crossings in aggregation areas:   0%|          | 0/1504 [00:00<?, ?it/s]"
      ]
     },
     "metadata": {},
     "output_type": "display_data"
    },
    {
     "data": {
      "application/vnd.jupyter.widget-view+json": {
       "model_id": "43c02bc43e7b4eaf8d0643d5c6e2e600",
       "version_major": 2,
       "version_minor": 0
      },
      "text/plain": [
       "Aggregate links between aggregate areas:   0%|          | 0/1397 [00:00<?, ?it/s]"
      ]
     },
     "metadata": {},
     "output_type": "display_data"
    },
    {
     "data": {
      "application/vnd.jupyter.widget-view+json": {
       "model_id": "af84fcf323574f24b7c3cb65f2afcebd",
       "version_major": 2,
       "version_minor": 0
      },
      "text/plain": [
       "  - Add structures of 'stuw' to crossings:   0%|          | 0/189 [00:00<?, ?it/s]"
      ]
     },
     "metadata": {},
     "output_type": "display_data"
    },
    {
     "data": {
      "application/vnd.jupyter.widget-view+json": {
       "model_id": "ee40e87c541643528f297c4187b1383d",
       "version_major": 2,
       "version_minor": 0
      },
      "text/plain": [
       "  - Add structures of 'gemaal' to crossings:   0%|          | 0/44 [00:00<?, ?it/s]"
      ]
     },
     "metadata": {},
     "output_type": "display_data"
    },
    {
     "data": {
      "application/vnd.jupyter.widget-view+json": {
       "model_id": "3001314cacdd415f896f8f33d6e63acb",
       "version_major": 2,
       "version_minor": 0
      },
      "text/plain": [
       "  - Correct free water flow:   0%|          | 0/6220 [00:00<?, ?it/s]"
      ]
     },
     "metadata": {},
     "output_type": "display_data"
    },
    {
     "data": {
      "application/vnd.jupyter.widget-view+json": {
       "model_id": "eea12af9d15248d59f7dc13992a0f88a",
       "version_major": 2,
       "version_minor": 0
      },
      "text/plain": [
       "  - Correct pumped water flow:   0%|          | 0/6220 [00:00<?, ?it/s]"
      ]
     },
     "metadata": {},
     "output_type": "display_data"
    },
    {
     "data": {
      "application/vnd.jupyter.widget-view+json": {
       "model_id": "edcb4bab3f7944e6a1eabf13c48957ff",
       "version_major": 2,
       "version_minor": 0
      },
      "text/plain": [
       "Add double links for crossings with 'stuw' and 'gemaal':   0%|          | 0/1463 [00:00<?, ?it/s]"
      ]
     },
     "metadata": {},
     "output_type": "display_data"
    },
    {
     "data": {
      "application/vnd.jupyter.widget-view+json": {
       "model_id": "ddaf1f16afa444bb918b5bdc7c372a3d",
       "version_major": 2,
       "version_minor": 0
      },
      "text/plain": [
       "Filter crossings along 'duikersifonhevel':   0%|          | 0/5211 [00:00<?, ?it/s]"
      ]
     },
     "metadata": {},
     "output_type": "display_data"
    },
    {
     "data": {
      "application/vnd.jupyter.widget-view+json": {
       "model_id": "08beac8366b94dbeb313cb62dfd6d979",
       "version_major": 2,
       "version_minor": 0
      },
      "text/plain": [
       "  - Add structures of 'stuw' to crossings:   0%|          | 0/83 [00:00<?, ?it/s]"
      ]
     },
     "metadata": {},
     "output_type": "display_data"
    },
    {
     "data": {
      "application/vnd.jupyter.widget-view+json": {
       "model_id": "ac35345154584767ac92c32d37764ad8",
       "version_major": 2,
       "version_minor": 0
      },
      "text/plain": [
       "  - Add structures of 'stuw' to crossings:   0%|          | 0/4 [00:00<?, ?it/s]"
      ]
     },
     "metadata": {},
     "output_type": "display_data"
    },
    {
     "data": {
      "application/vnd.jupyter.widget-view+json": {
       "model_id": "6ebd9432b48048e8a4d59b801c4942d5",
       "version_major": 2,
       "version_minor": 0
      },
      "text/plain": [
       "  - Add structures of 'gemaal' to crossings:   0%|          | 0/10 [00:00<?, ?it/s]"
      ]
     },
     "metadata": {},
     "output_type": "display_data"
    },
    {
     "data": {
      "application/vnd.jupyter.widget-view+json": {
       "model_id": "30e50a921a3f428285cb41ae6e5d7913",
       "version_major": 2,
       "version_minor": 0
      },
      "text/plain": [
       "  - Add structures of 'gemaal' to crossings:   0%|          | 0/1 [00:00<?, ?it/s]"
      ]
     },
     "metadata": {},
     "output_type": "display_data"
    },
    {
     "data": {
      "application/vnd.jupyter.widget-view+json": {
       "model_id": "a5ad3752e32e4f179a1d0b6344272464",
       "version_major": 2,
       "version_minor": 0
      },
      "text/plain": [
       "  - Correct free water flow:   0%|          | 0/12397 [00:00<?, ?it/s]"
      ]
     },
     "metadata": {},
     "output_type": "display_data"
    },
    {
     "data": {
      "application/vnd.jupyter.widget-view+json": {
       "model_id": "ba51ee98aa794836bd2eb507729298d2",
       "version_major": 2,
       "version_minor": 0
      },
      "text/plain": [
       "  - Correct pumped water flow:   0%|          | 0/12397 [00:00<?, ?it/s]"
      ]
     },
     "metadata": {},
     "output_type": "display_data"
    },
    {
     "data": {
      "application/vnd.jupyter.widget-view+json": {
       "model_id": "72c5c107fc9847d5bea00647062efeba",
       "version_major": 2,
       "version_minor": 0
      },
      "text/plain": [
       "Add double links for crossings with 'stuw' and 'gemaal':   0%|          | 0/6370 [00:00<?, ?it/s]"
      ]
     },
     "metadata": {},
     "output_type": "display_data"
    },
    {
     "data": {
      "application/vnd.jupyter.widget-view+json": {
       "model_id": "0ddef7d12b1046a388f6c71c71005313",
       "version_major": 2,
       "version_minor": 0
      },
      "text/plain": [
       "Aggregate links between peilgebieden:   0%|          | 0/2290 [00:00<?, ?it/s]"
      ]
     },
     "metadata": {},
     "output_type": "display_data"
    },
    {
     "data": {
      "application/vnd.jupyter.widget-view+json": {
       "model_id": "eb2dc8ce639e426bb46c5c9e079b3097",
       "version_major": 2,
       "version_minor": 0
      },
      "text/plain": [
       "Assign aggregate areas:   0%|          | 0/1326 [00:00<?, ?it/s]"
      ]
     },
     "metadata": {},
     "output_type": "display_data"
    },
    {
     "data": {
      "application/vnd.jupyter.widget-view+json": {
       "model_id": "a6ef88fc30d94478a15d469b96d93395",
       "version_major": 2,
       "version_minor": 0
      },
      "text/plain": [
       "Disable crossings in aggregation areas:   0%|          | 0/2038 [00:00<?, ?it/s]"
      ]
     },
     "metadata": {},
     "output_type": "display_data"
    },
    {
     "data": {
      "application/vnd.jupyter.widget-view+json": {
       "model_id": "84e80ff70bf04a539293f96fcd33c7e7",
       "version_major": 2,
       "version_minor": 0
      },
      "text/plain": [
       "Aggregate links between aggregate areas:   0%|          | 0/2062 [00:00<?, ?it/s]"
      ]
     },
     "metadata": {},
     "output_type": "display_data"
    },
    {
     "data": {
      "application/vnd.jupyter.widget-view+json": {
       "model_id": "39f9ed63931441d3a7e81a4951894398",
       "version_major": 2,
       "version_minor": 0
      },
      "text/plain": [
       "  - Add structures of 'stuw' to crossings:   0%|          | 0/288 [00:00<?, ?it/s]"
      ]
     },
     "metadata": {},
     "output_type": "display_data"
    },
    {
     "data": {
      "application/vnd.jupyter.widget-view+json": {
       "model_id": "51cd41f074584ab285061874338bdf28",
       "version_major": 2,
       "version_minor": 0
      },
      "text/plain": [
       "  - Add structures of 'stuw' to crossings:   0%|          | 0/5 [00:00<?, ?it/s]"
      ]
     },
     "metadata": {},
     "output_type": "display_data"
    },
    {
     "data": {
      "application/vnd.jupyter.widget-view+json": {
       "model_id": "ec633eea4a074d589109a71bf4b1218f",
       "version_major": 2,
       "version_minor": 0
      },
      "text/plain": [
       "  - Add structures of 'gemaal' to crossings:   0%|          | 0/15 [00:00<?, ?it/s]"
      ]
     },
     "metadata": {},
     "output_type": "display_data"
    },
    {
     "data": {
      "application/vnd.jupyter.widget-view+json": {
       "model_id": "13bfeb4335b3472591a0f634b2f2744e",
       "version_major": 2,
       "version_minor": 0
      },
      "text/plain": [
       "  - Correct free water flow:   0%|          | 0/12413 [00:00<?, ?it/s]"
      ]
     },
     "metadata": {},
     "output_type": "display_data"
    },
    {
     "data": {
      "application/vnd.jupyter.widget-view+json": {
       "model_id": "fa689767031e40ea80e8172050c4b74d",
       "version_major": 2,
       "version_minor": 0
      },
      "text/plain": [
       "  - Correct pumped water flow:   0%|          | 0/12413 [00:00<?, ?it/s]"
      ]
     },
     "metadata": {},
     "output_type": "display_data"
    },
    {
     "data": {
      "application/vnd.jupyter.widget-view+json": {
       "model_id": "fee016e51ef44caf944474a1e70fddf9",
       "version_major": 2,
       "version_minor": 0
      },
      "text/plain": [
       "Add double links for crossings with 'stuw' and 'gemaal':   0%|          | 0/2150 [00:00<?, ?it/s]"
      ]
     },
     "metadata": {},
     "output_type": "display_data"
    },
    {
     "name": "stdout",
     "output_type": "stream",
     "text": [
      "\n",
      "WSRL...\n",
      "\n",
      "Zuiderzeeland...\n"
     ]
    }
   ],
   "source": [
    "for waterschap, waterschap_struct in waterschap_data.items():\n",
    "    print(f\"\\n{waterschap}...\")\n",
    "\n",
    "    init_settings, crossing_settings = waterschap_struct.values()\n",
    "    init_settings[\"logfile\"] = pathlib.Path(init_settings[\"output_path\"]).with_suffix(\"\").with_suffix(\".log\")\n",
    "\n",
    "    if waterschap not in [\"Wetterskip\"]:\n",
    "        continue\n",
    "\n",
    "    # if pathlib.Path(init_settings[\"output_path\"]).exists() and \"crossings_hydroobject\" in fiona.listlayers(init_settings[\"output_path\"]):\n",
    "    #     continue\n",
    "\n",
    "    # Crossings class initializeren\n",
    "    cross = ParseCrossings(**init_settings)\n",
    "\n",
    "    # Crossings bepalen en wegschrijven\n",
    "    if crossing_settings[\"filterlayer\"] is None:\n",
    "        df_hydro = cross.find_crossings_with_peilgebieden(\"hydroobject\", **crossing_settings)\n",
    "        cross.write_crossings(df_hydro)\n",
    "    else:\n",
    "        df_hydro, df_dsf, df_hydro_dsf = cross.find_crossings_with_peilgebieden(\"hydroobject\", **crossing_settings)\n",
    "        cross.write_crossings(df_hydro, crossing_settings[\"filterlayer\"], df_dsf, df_hydro_dsf)"
   ]
  },
  {
   "cell_type": "code",
   "execution_count": null,
   "id": "3",
   "metadata": {},
   "outputs": [],
   "source": []
  },
  {
   "cell_type": "code",
   "execution_count": null,
   "id": "4",
   "metadata": {},
   "outputs": [],
   "source": [
    "plt.close(\"all\")\n",
    "fig1, ax1 = plt.subplots(figsize=(12, 7.4), dpi=100)\n",
    "fig2, ax2 = plt.subplots(figsize=(12, 7.4), dpi=100)\n",
    "\n",
    "for ax in [ax1, ax2]:\n",
    "    ax.spines[\"top\"].set_visible(False)\n",
    "    ax.spines[\"right\"].set_visible(False)\n",
    "    ax.spines[\"left\"].set_visible(False)\n",
    "    ax.spines[\"bottom\"].set_color(\"#dddddd\")\n",
    "    ax.tick_params(bottom=False, left=False)\n",
    "    ax.yaxis.grid(True, color=\"#eeeeee\")\n",
    "    ax.xaxis.grid(False)\n",
    "\n",
    "waterschappen = []\n",
    "network_results = {\"Basins\": [], \"Edges\": [], \"Peilgebieden\": []}\n",
    "# reduction_results = {\"initial\": [], \"in_use\": [], \"agg_links_in_use\": [], \"agg_areas_in_use\": []}\n",
    "reduction_results = {\"in_use\": [], \"agg_links_in_use\": [], \"agg_areas_in_use\": []}\n",
    "for waterschap, waterschap_struct in waterschap_data.items():\n",
    "    init_settings, crossing_settings = waterschap_struct.values()\n",
    "    df = gpd.read_file(init_settings[\"output_path\"], layer=\"crossings_hydroobject_filtered\")\n",
    "\n",
    "    basins, edges, peilgebieden = None, None, None\n",
    "    init_cross, cross_inuse, cross_agglinks, cross_aggareas = None, None, None, None\n",
    "    try:\n",
    "        sub_df = df[df.agg_areas_in_use].copy()\n",
    "        all_nodes = np.hstack([sub_df.agg_area_from.to_numpy(), sub_df.agg_area_to.to_numpy()])\n",
    "        basins = len(np.unique(all_nodes[~pd.isna(all_nodes)]))\n",
    "        edges = len(sub_df) * 2\n",
    "        all_peilgebieden = np.hstack([sub_df.peilgebied_from.to_numpy(), sub_df.peilgebied_to.to_numpy()])\n",
    "        peilgebieden = len(np.unique(all_peilgebieden[~pd.isna(all_peilgebieden)]))\n",
    "\n",
    "        init_cross = len(df)\n",
    "        cross_inuse = len(df[df.in_use])\n",
    "        cross_agglinks = len(df[df.agg_links_in_use])\n",
    "        cross_aggareas = len(df[df.agg_areas_in_use])\n",
    "    except Exception as e:\n",
    "        print(f\"{waterschap=}, {e=}\")\n",
    "\n",
    "    # reduction_results[\"initial\"].append(init_cross)\n",
    "    reduction_results[\"in_use\"].append(cross_inuse)\n",
    "    reduction_results[\"agg_links_in_use\"].append(cross_agglinks)\n",
    "    reduction_results[\"agg_areas_in_use\"].append(cross_aggareas)\n",
    "\n",
    "    network_results[\"Basins\"].append(basins)\n",
    "    network_results[\"Edges\"].append(edges)\n",
    "    network_results[\"Peilgebieden\"].append(peilgebieden)\n",
    "    waterschappen.append(waterschap)\n",
    "\n",
    "colours = [\"#0C3B5D\", \"#3EC1CD\", \"#EF3A4C\", \"#FCB94D\"]\n",
    "\n",
    "x1 = np.arange(len(waterschappen))\n",
    "width = 1 / (1 + len(network_results))\n",
    "multiplier = 0\n",
    "for multiplier, (attribute, measurement) in enumerate(network_results.items()):\n",
    "    offset = width * multiplier\n",
    "    rects = ax1.bar(x1 + offset, measurement, width, label=attribute, color=colours[multiplier])\n",
    "    # ax1.bar_label(rects, padding=3)\n",
    "ax1.set_axisbelow(True)\n",
    "ax1.set_xticks(x1 + width, waterschappen, rotation=45)\n",
    "ax1.legend(loc=\"upper left\", ncols=len(network_results))\n",
    "\n",
    "\n",
    "x2 = np.arange(len(waterschappen))\n",
    "width = 1 / (1 + len(reduction_results))\n",
    "for multiplier, (attribute, measurement) in enumerate(reduction_results.items()):\n",
    "    offset = width * multiplier\n",
    "    rects = ax2.bar(x2 + offset, measurement, width, label=attribute, color=colours[multiplier])\n",
    "    # ax2.bar_label(rects, padding=3)\n",
    "ax2.set_axisbelow(True)\n",
    "ax2.set_xticks(x2 + width, waterschappen, rotation=45)\n",
    "ax2.legend(loc=\"upper left\", ncols=len(reduction_results))\n",
    "\n",
    "fig1.tight_layout()\n",
    "fig2.tight_layout()\n",
    "\n",
    "fig1.savefig(\"network_results.jpeg\", bbox_inches=\"tight\")\n",
    "fig2.savefig(\"reduction_results.jpeg\", bbox_inches=\"tight\")\n",
    "\n",
    "print(pd.DataFrame(reduction_results, index=waterschappen))\n",
    "print(pd.DataFrame(network_results, index=waterschappen))"
   ]
  },
  {
   "cell_type": "code",
   "execution_count": null,
   "id": "5",
   "metadata": {},
   "outputs": [],
   "source": []
  },
  {
   "cell_type": "code",
   "execution_count": null,
   "id": "6",
   "metadata": {},
   "outputs": [],
   "source": []
  }
 ],
 "metadata": {
  "kernelspec": {
   "display_name": "Python [conda env:ribasim]",
   "language": "python",
   "name": "conda-env-ribasim-py"
  },
  "language_info": {
   "codemirror_mode": {
    "name": "ipython",
    "version": 3
   },
   "file_extension": ".py",
   "mimetype": "text/x-python",
   "name": "python",
   "nbconvert_exporter": "python",
   "pygments_lexer": "ipython3",
   "version": "3.12.7"
  }
 },
 "nbformat": 4,
 "nbformat_minor": 5
}
