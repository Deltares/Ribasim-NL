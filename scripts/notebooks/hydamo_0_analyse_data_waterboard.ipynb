{
 "cells": [
  {
   "cell_type": "code",
   "execution_count": 1,
   "id": "a1b36565-c213-4d58-8e3e-3b04bb08810c",
   "metadata": {
    "tags": []
   },
   "outputs": [],
   "source": [
    "import sys\n",
    "from pathlib import Path\n",
    "\n",
    "import geopandas as gpd\n",
    "import numpy as np\n",
    "import pandas as pd\n",
    "from pandas_xlsx_tables import xlsx_tables_to_dfs\n",
    "\n",
    "sys.path.append(\"Ribasim-NL\\\\src\\\\hydamo\")\n",
    "from hydamo.datamodel import HyDAMO\n",
    "from ribasim_lumping_tools.LHM_data_bewerking_analyse_utils import (\n",
    "    check_ids_hydamo_data,\n",
    "    check_if_object_on_hydroobject,\n",
    "    export_to_geopackage,\n",
    "    read_original_data,\n",
    "    translate_data_to_hydamo_format,\n",
    ")"
   ]
  },
  {
   "cell_type": "code",
   "execution_count": 2,
   "id": "25b1eb73",
   "metadata": {
    "tags": []
   },
   "outputs": [],
   "source": [
    "%load_ext autoreload\n",
    "%autoreload 2"
   ]
  },
  {
   "cell_type": "markdown",
   "id": "a763bd87-2f8c-4cab-9bab-2677bf613e52",
   "metadata": {},
   "source": [
    "Vertaal originele data naar Hydamo data zoals gedefinieerd in de tabel hydamo_data_format.xlsx"
   ]
  },
  {
   "cell_type": "code",
   "execution_count": 3,
   "id": "ec6a98b6-3faa-4b31-b0f6-732cf10435aa",
   "metadata": {
    "tags": []
   },
   "outputs": [],
   "source": [
    "base_dir = \"..\\\\\"\n",
    "\n",
    "waterboard = \"AAenMaas\"\n",
    "waterboard_code = 1"
   ]
  },
  {
   "cell_type": "code",
   "execution_count": 4,
   "id": "934141f5",
   "metadata": {},
   "outputs": [],
   "source": [
    "waterboard_dir = Path(base_dir, waterboard, \"verwerkt\")\n",
    "path_hydamo_format_table = Path(waterboard_dir, \"HyDAMO_format_AAenMaas.xlsx\")\n",
    "hydamo_format_table = xlsx_tables_to_dfs(path_hydamo_format)"
   ]
  },
  {
   "cell_type": "code",
   "execution_count": 6,
   "id": "36a3ec3a-f65f-45a7-99a5-0a0776c4c06d",
   "metadata": {
    "tags": []
   },
   "outputs": [
    {
     "name": "stdout",
     "output_type": "stream",
     "text": [
      "- read data for AAenMaas - hydroobject\n"
     ]
    }
   ],
   "source": [
    "# eerst inlezen hydroobject, vertalen naar hydamo\n",
    "hydamo_object = \"hydroobject\"\n",
    "hydamo_translate_table, data_original = read_original_data(waterboard_dir, hydamo_format, hydamo_object, waterboard)\n",
    "hydroobject = translate_data_to_hydamo_format(hydamo_translate_table, data_original)\n",
    "\n",
    "# maak een created_date aan indien nodig\n",
    "if \"created_date\" not in data_original.columns:\n",
    "    hydroobject[\"created_date\"] = pd.NaT\n",
    "# transformeer created_date waardes indien nodig\n",
    "hydroobject[\"created_date\"] = hydroobject[\"created_date\"].replace(\"\", pd.NaT)\n",
    "\n",
    "# hydroobject.loc[hydroobject['code'].duplicated(keep=False), 'data_issue'] = 'duplicate_id'\n",
    "data_hydamo_dict = dict(hydroobject=hydroobject.set_crs(28992))\n",
    "\n",
    "# geometry hydroobject bufferen met 10 cm voor de spatial join\n",
    "hydroobject[\"buffer\"] = hydroobject.copy().buffer(5)  # 5 meter buffer omdat anders relevante gemalen wegvallen\n",
    "hydroobject_buffered = hydroobject.set_geometry(\"buffer\").set_crs(28992)"
   ]
  },
  {
   "cell_type": "markdown",
   "id": "ba2a6836",
   "metadata": {},
   "source": [
    "Specificeer welke HyDAMO data je wilt omzetten"
   ]
  },
  {
   "cell_type": "code",
   "execution_count": 7,
   "id": "463d3024-4e43-4324-8e87-4a4ebc9a529f",
   "metadata": {
    "tags": []
   },
   "outputs": [],
   "source": [
    "hydamo_objects = [\n",
    "    \"stuw\",\n",
    "    \"gemaal\",\n",
    "    \"afvoergebiedaanvoergebied\",\n",
    "    \"pomp\",\n",
    "    ##'peilgebiedvigerend',\n",
    "    ##'peilgebiedpraktijk',\n",
    "    ##'streefpeil',\n",
    "    \"duikersifonhevel\",\n",
    "    ##'afsluiter',\n",
    "    ##'sluis',\n",
    "]"
   ]
  },
  {
   "cell_type": "code",
   "execution_count": 8,
   "id": "f6b99ea1-3de7-4dfd-8f6b-eec51fdc08e3",
   "metadata": {
    "tags": []
   },
   "outputs": [
    {
     "name": "stdout",
     "output_type": "stream",
     "text": [
      "- read data for AAenMaas - stuw\n",
      "- read data for AAenMaas - gemaal\n",
      "- read data for AAenMaas - afvoergebiedaanvoergebied\n",
      "- read data for AAenMaas - pomp\n",
      "- read data for AAenMaas - duikersifonhevel\n"
     ]
    }
   ],
   "source": [
    "for hydamo_object in hydamo_objects:\n",
    "    # lees aangeleverde data en hydamo tabel voor gegeven kunstwerk en waterschap\n",
    "    table_hydamo, data_original = read_original_data(waterboard_dir, hydamo_format, hydamo_object, waterboard)\n",
    "    if data_original is None:\n",
    "        data_hydamo_dict[hydamo_object] = None\n",
    "    else:\n",
    "        # vertaal data naar hydamo-ribasim format\n",
    "        data_hydamo = translate_data_to_hydamo_format(table_hydamo, data_original)\n",
    "\n",
    "        # maak een created_date aan indien nodig\n",
    "        if \"created_date\" not in data_original.columns and hydamo_object != \"sluis\":\n",
    "            hydroobject[\"created_date\"] = pd.NaT\n",
    "        if \"last_edited_date\" not in data_original.columns and hydamo_object == \"afsluiter\":\n",
    "            hydroobject[\"last_edited_date\"] = pd.NaT\n",
    "        if \"lvpublicatiedatum\" not in data_original.columns and hydamo_object == \"afsluiter\":\n",
    "            hydroobject[\"lvpublicatiedatum\"] = pd.NaT\n",
    "\n",
    "        # transformeer created_date waardes indien nodig\n",
    "        if hydamo_object != \"sluis\":\n",
    "            data_hydamo[\"created_date\"] = data_hydamo[\"created_date\"].replace(\"\", pd.NaT)\n",
    "        if hydamo_object == \"afsluiter\":\n",
    "            data_hydamo[\"last_edited_date\"] = data_hydamo[\"last_edited_date\"].replace(\"\", pd.NaT)\n",
    "            data_hydamo[\"lvpublicatiedatum\"] = data_hydamo[\"lvpublicatiedatum\"].replace(\"\", pd.NaT)\n",
    "\n",
    "        # check dubbele id's\n",
    "        if hydamo_object not in [\"streefpeil\"]:  # streefpeil heeft geen code, alleen globalid etc\n",
    "            data_hydamo.loc[data_hydamo[\"code\"].duplicated(keep=False), \"data_issue\"] = \"duplicate_id\"\n",
    "            # TODO check op 'code' lijkt met logischer want die kolom wordt vaker gebruikt. Maar bij WDOD bijv. is die niet ingevuld. Toch op globalid?\n",
    "        # check of kuntstwerk op hydroobject ligt\n",
    "        if hydamo_object in [\"stuw\", \"gemaal\", \"duikersifonhevel\", \"sluis\"]:\n",
    "            data_hydamo = check_if_object_on_hydroobject(\n",
    "                data_hydamo=data_hydamo, hydroobject_buffered=hydroobject_buffered\n",
    "            )\n",
    "            # verwijder kunstwerken die niet op hydroobject liggen\n",
    "            data_hydamo = data_hydamo[data_hydamo[\"code_hydroobject\"] != \"niet op hydroobject\"]\n",
    "            data_hydamo = data_hydamo.reset_index()\n",
    "        # voeg toe aan de hydamo dataset\n",
    "        data_hydamo_dict[hydamo_object] = data_hydamo"
   ]
  },
  {
   "cell_type": "markdown",
   "id": "9a29d166",
   "metadata": {},
   "source": [
    "Waterschap specifieke acties"
   ]
  },
  {
   "cell_type": "markdown",
   "id": "a6841956",
   "metadata": {},
   "source": [
    "Export normal"
   ]
  },
  {
   "cell_type": "code",
   "execution_count": 9,
   "id": "8c3f0b19",
   "metadata": {
    "tags": []
   },
   "outputs": [],
   "source": [
    "# for hydamo_object in ['hydroobject'] + hydamo_objects:\n",
    "#     # export to geopackage\n",
    "#     export_to_geopackage(\n",
    "#         data_hydamo=data_hydamo_dict[hydamo_object],\n",
    "#         hydamo_format=hydamo_format,\n",
    "#         waterboard=waterboard,\n",
    "#         hydamo_object=hydamo_object\n",
    "#     )"
   ]
  },
  {
   "cell_type": "markdown",
   "id": "cef31c92-ab2b-46a9-bd29-edab265c26bf",
   "metadata": {},
   "source": [
    "### ribasim-nl hydamo"
   ]
  },
  {
   "cell_type": "code",
   "execution_count": 10,
   "id": "17081c6f",
   "metadata": {
    "tags": []
   },
   "outputs": [],
   "source": [
    "hydamo = HyDAMO(version=\"2.2.1_sweco\")"
   ]
  },
  {
   "cell_type": "code",
   "execution_count": 12,
   "id": "c3bd577d",
   "metadata": {},
   "outputs": [],
   "source": [
    "for hydamo_object in [\"hydroobject\"] + hydamo_objects:\n",
    "    data_hydamo = data_hydamo_dict[hydamo_object]\n",
    "    if hydamo_object == \"stuw\":\n",
    "        data_hydamo = data_hydamo.drop(columns=[\"code_hydroobject\", \"data_issue\"])  # ,'index_right'\n",
    "    data_hydamo = check_ids_hydamo_data(data_hydamo, waterboard_code, hydamo_object)\n",
    "    setattr(hydamo, hydamo_object, data_hydamo)"
   ]
  },
  {
   "cell_type": "code",
   "execution_count": null,
   "id": "f1757d9c-f1d0-415f-9511-d066d46dbd75",
   "metadata": {
    "tags": []
   },
   "outputs": [],
   "source": [
    "hydamo.to_geopackage(\"..\\\\hydamo.gpkg\")"
   ]
  },
  {
   "cell_type": "code",
   "execution_count": null,
   "id": "16fa6e63-da9e-476e-8199-e30a8fc460df",
   "metadata": {},
   "outputs": [],
   "source": []
  }
 ],
 "metadata": {
  "kernelspec": {
   "display_name": "ribasim_lumping_venv",
   "language": "python",
   "name": "python3"
  },
  "language_info": {
   "codemirror_mode": {
    "name": "ipython",
    "version": 3
   },
   "file_extension": ".py",
   "mimetype": "text/x-python",
   "name": "python",
   "nbconvert_exporter": "python",
   "pygments_lexer": "ipython3",
   "version": "3.11.9"
  }
 },
 "nbformat": 4,
 "nbformat_minor": 5
}
