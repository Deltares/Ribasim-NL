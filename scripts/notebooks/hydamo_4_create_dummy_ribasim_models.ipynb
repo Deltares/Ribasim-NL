{
 "cells": [
  {
   "cell_type": "code",
   "execution_count": 8,
   "metadata": {},
   "outputs": [],
   "source": [
    "import geopandas as gpd\n",
    "import pandas as pd\n",
    "import numpy as np\n",
    "import networkx as nx\n",
    "import ribasim\n",
    "from pathlib import Path\n",
    "import matplotlib.pyplot as plt\n",
    "import warnings\n",
    "import fiona\n",
    "import os\n",
    "\n",
    "from ribasim_lumping_tools.default_model import default_model, DEFAULTS\n",
    "\n",
    "warnings.simplefilter(action='ignore', category=UserWarning)\n",
    "warnings.simplefilter(action='ignore', category=FutureWarning)"
   ]
  },
  {
   "cell_type": "code",
   "execution_count": 9,
   "metadata": {},
   "outputs": [
    {
     "name": "stdout",
     "output_type": "stream",
     "text": [
      "The autoreload extension is already loaded. To reload it, use:\n",
      "  %reload_ext autoreload\n"
     ]
    }
   ],
   "source": [
    "%load_ext autoreload\n",
    "%autoreload 2"
   ]
  },
  {
   "cell_type": "markdown",
   "metadata": {},
   "source": [
    "#### Read RIBASIM model"
   ]
  },
  {
   "cell_type": "code",
   "execution_count": 10,
   "metadata": {},
   "outputs": [],
   "source": [
    "base_dir = Path(\"..\\\\Ribasim modeldata\\\\\")"
   ]
  },
  {
   "cell_type": "code",
   "execution_count": 11,
   "metadata": {},
   "outputs": [],
   "source": [
    "waterschappen = {\n",
    "    \"AaenMaas\": \"NL38\",\n",
    "    \"BrabantseDelta\": \"NL25\",\n",
    "    \"DeDommel\": \"NL27\",\n",
    "    \"DrentsOverijsselseDelta\": \"NL59\",\n",
    "    \"HunzeenAas\": \"NL33\",\n",
    "    \"Limburg\": \"NL60\",\n",
    "    \"Noorderzijlvest\": \"NL34\",\n",
    "    \"RijnenIJssel\": \"NL7\",\n",
    "    \"StichtseRijnlanden\": \"NL14\",\n",
    "    \"ValleienVeluwe\": \"NL8\",\n",
    "    \"Vechtstromen\": \"NL44\",\n",
    "}"
   ]
  },
  {
   "cell_type": "code",
   "execution_count": 15,
   "metadata": {},
   "outputs": [
    {
     "name": "stdout",
     "output_type": "stream",
     "text": [
      "AaenMaas\n",
      "..\\modellen\\AaenMaas\\modellen\\AaenMaas_2024_6_3\n",
      "BrabantseDelta\n",
      "..\\modellen\\BrabantseDelta\\modellen\\BrabantseDelta_2024_6_3\n",
      "DeDommel\n",
      "..\\modellen\\DeDommel\\modellen\\DeDommel_2024_6_3\n",
      "DrentsOverijsselseDelta\n",
      "..\\modellen\\DrentsOverijsselseDelta\\modellen\\DrentsOverijsselseDelta_2024_6_3\n",
      "HunzeenAas\n",
      "..\\modellen\\HunzeenAas\\modellen\\HunzeenAas_2024_6_3\n",
      "Limburg\n",
      "..\\modellen\\Limburg\\modellen\\Limburg_2024_6_3\n"
     ]
    },
    {
     "name": "stderr",
     "output_type": "stream",
     "text": [
      "edge_df contains duplicated node_ids that get dropped\n"
     ]
    },
    {
     "name": "stdout",
     "output_type": "stream",
     "text": [
      "Noorderzijlvest\n",
      "..\\modellen\\Noorderzijlvest\\modellen\\Noorderzijlvest_2024_6_3\n",
      "RijnenIJssel\n",
      "..\\modellen\\RijnenIJssel\\modellen\\RijnenIJssel_2024_6_3\n",
      "StichtseRijnlanden\n",
      "..\\modellen\\StichtseRijnlanden\\modellen\\StichtseRijnlanden_2024_6_3\n",
      "ValleienVeluwe\n",
      "..\\modellen\\ValleienVeluwe\\modellen\\ValleienVeluwe_2024_6_3\n",
      "Vechtstromen\n",
      "..\\modellen\\Vechtstromen\\modellen\\Vechtstromen_2024_6_3\n"
     ]
    }
   ],
   "source": [
    "new_model_dir_string = \"..\\\\modellen\\\\WATERBOARD\\\\modellen\\\\WATERBOARD_2024_6_3\"\n",
    "\n",
    "for waterschap, waterschap_code in waterschappen.items():\n",
    "    print(waterschap)\n",
    "    new_model_dir = Path(new_model_dir_string.replace('WATERBOARD', waterschap))\n",
    "    print(new_model_dir)\n",
    "\n",
    "    if not new_model_dir.exists():\n",
    "        os.makedirs(new_model_dir)\n",
    "\n",
    "    # gpkg\n",
    "    old_ribasim_model_gpkg = Path(base_dir, waterschap, \"verwerkt\", \"4_ribasim\", \"ribasim_model.gpkg\")\n",
    "    old_krw_gpkg = Path(base_dir, waterschap, \"verwerkt\", \"4_ribasim\", \"krw.gpkg\")\n",
    "    \n",
    "    # read nodes\n",
    "    node_df = gpd.read_file(old_ribasim_model_gpkg, layer=\"Node\", engine=\"pyogrio\", fid_as_index=True)\n",
    "    node_df = node_df.rename(columns={\"type\": \"node_type\"})\n",
    "    node_df[\"meta_code\"] = waterschap_code\n",
    "\n",
    "    # read edges\n",
    "    edge_df = gpd.read_file(old_ribasim_model_gpkg, layer=\"Edge\", engine=\"pyogrio\", fid_as_index=True)\n",
    "\n",
    "    # read basin areas\n",
    "    basin_areas = gpd.read_file(str(old_ribasim_model_gpkg).replace(\"ribasim_model.gpkg\", \"ribasim_network.gpkg\"), layer=\"basin_areas\")\n",
    "    basin_areas = basin_areas[[\"basin_node_id\", \"geometry\"]].rename(columns={\"basin_node_id\": \"node_id\"})\n",
    "    basin_areas.node_id = basin_areas.node_id.astype(int)\n",
    "\n",
    "    # read krw\n",
    "    krw = gpd.GeoDataFrame()\n",
    "    krw_layers = fiona.listlayers(str(old_krw_gpkg))\n",
    "    if \"krw_line\" in krw_layers:\n",
    "        krw_line = gpd.read_file(str(old_krw_gpkg), layer=\"krw_line\").explode(index_parts=True)\n",
    "        krw_line.geometry = krw_line.geometry.buffer(10, join_style='bevel')\n",
    "        krw = pd.concat([krw, krw_line])\n",
    "    if \"krw_vlak\" in krw_layers:\n",
    "        krw_vlak = gpd.read_file(str(old_krw_gpkg), layer=\"krw_vlak\").explode(index_parts=True)\n",
    "        krw = pd.concat([krw, krw_vlak])\n",
    "    krw = krw[[\"owmident\", \"owmnaam\", \"owmtype\", \"geometry\"]].reset_index(drop=True)\n",
    "    krw.columns = [\"meta_krw_id\", \"meta_krw_name\", \"meta_krw_type\", \"geometry\"]\n",
    "\n",
    "    node_df = node_df.sjoin(krw, how='left').drop(columns=[\"index_right\"]).drop_duplicates(subset=\"node_id\", keep=\"first\")\n",
    "    node_df[\"meta_categorie\"] = \"doorgaand\"\n",
    "    node_df.loc[~node_df.meta_krw_id.isna(), \"meta_categorie\"] = \"hoofdwater\"\n",
    "\n",
    "    # create default model\n",
    "    model = default_model(node_df, edge_df, basin_areas, **DEFAULTS)\n",
    "\n",
    "    # write model to disk\n",
    "    ribasim_toml = Path(new_model_dir, \"model.toml\")\n",
    "    model.write(str(ribasim_toml))"
   ]
  },
  {
   "cell_type": "code",
   "execution_count": null,
   "metadata": {},
   "outputs": [],
   "source": []
  },
  {
   "cell_type": "code",
   "execution_count": null,
   "metadata": {},
   "outputs": [],
   "source": []
  },
  {
   "cell_type": "code",
   "execution_count": null,
   "metadata": {},
   "outputs": [],
   "source": []
  }
 ],
 "metadata": {
  "kernelspec": {
   "display_name": "ribasim_lumping_venv",
   "language": "python",
   "name": "python3"
  },
  "language_info": {
   "codemirror_mode": {
    "name": "ipython",
    "version": 3
   },
   "file_extension": ".py",
   "mimetype": "text/x-python",
   "name": "python",
   "nbconvert_exporter": "python",
   "pygments_lexer": "ipython3",
   "version": "3.11.9"
  }
 },
 "nbformat": 4,
 "nbformat_minor": 2
}
