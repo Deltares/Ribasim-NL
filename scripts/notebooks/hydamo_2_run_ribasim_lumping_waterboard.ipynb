{
 "cells": [
  {
   "cell_type": "code",
   "execution_count": null,
   "metadata": {},
   "outputs": [],
   "source": [
    "import warnings\n",
    "from pathlib import Path\n",
    "\n",
    "import pandas as pd\n",
    "from ribasim_lumping_tools.run_ribasim_lumping_waterboard import run_ribasim_lumping_for_waterboard\n",
    "\n",
    "warnings.simplefilter(\"ignore\")\n",
    "pd.options.mode.chained_assignment = None\n",
    "warnings.simplefilter(action=\"ignore\", category=UserWarning)\n",
    "warnings.simplefilter(action=\"ignore\", category=FutureWarning)"
   ]
  },
  {
   "cell_type": "code",
   "execution_count": null,
   "metadata": {},
   "outputs": [],
   "source": [
    "base_dir = Path(\"..\\\\..\\\\Ribasim modeldata\")\n",
    "dx = 250.0\n",
    "\n",
    "waterschappen = [\n",
    "    \"HunzeenAas\",\n",
    "    \"DrentsOverijsselseDelta\",\n",
    "    \"Vechtstromen\",\n",
    "    \"RijnenIJssel\",\n",
    "    \"ValleienVeluwe\",\n",
    "    \"StichtseRijnlanden\",\n",
    "    \"BrabantseDelta\",\n",
    "    \"DeDommel\",\n",
    "    \"AaenMaas\",\n",
    "    \"Limburg\",\n",
    "]"
   ]
  },
  {
   "cell_type": "code",
   "execution_count": null,
   "metadata": {},
   "outputs": [],
   "source": [
    "for waterschap in waterschappen:\n",
    "    run_ribasim_lumping_for_waterboard(\n",
    "        base_dir=base_dir,\n",
    "        waterschap=waterschap,\n",
    "        dx=dx,\n",
    "        buffer_distance=1.0,\n",
    "        assign_unassigned_areas_to_basins=False if waterschap == \"ValleienVeluwe\" else True,\n",
    "        remove_isolated_basins=True,\n",
    "    )"
   ]
  },
  {
   "cell_type": "code",
   "execution_count": null,
   "metadata": {},
   "outputs": [],
   "source": []
  },
  {
   "cell_type": "code",
   "execution_count": null,
   "metadata": {},
   "outputs": [],
   "source": []
  },
  {
   "cell_type": "code",
   "execution_count": null,
   "metadata": {},
   "outputs": [],
   "source": []
  }
 ],
 "metadata": {
  "kernelspec": {
   "display_name": "ribasim_lumping_venv",
   "language": "python",
   "name": "python3"
  },
  "language_info": {
   "codemirror_mode": {
    "name": "ipython",
    "version": 3
   },
   "file_extension": ".py",
   "mimetype": "text/x-python",
   "name": "python",
   "nbconvert_exporter": "python",
   "pygments_lexer": "ipython3",
   "version": "3.11.9"
  }
 },
 "nbformat": 4,
 "nbformat_minor": 2
}
