{
 "cells": [
  {
   "cell_type": "code",
   "execution_count": 40,
   "metadata": {},
   "outputs": [],
   "source": [
    "import os\n",
    "from pathlib import Path\n",
    "\n",
    "import fiona\n",
    "import geopandas as gpd\n",
    "import matplotlib.pyplot as plt\n",
    "import numpy as np\n",
    "import pandas as pd\n",
    "from ribasim_lumping.utils.general_functions import remove_holes_from_polygons"
   ]
  },
  {
   "cell_type": "code",
   "execution_count": 41,
   "metadata": {},
   "outputs": [],
   "source": [
    "# locatie van de waterschapsmappen\n",
    "base_dir = \"..\\\\Ribasim modeldata\\\\\"\n",
    "\n",
    "# creeer een lijst met alle namen van de waterschappen\n",
    "waterschappen = {\n",
    "    \"Noorderzijlvest\": \"Noorderzijlvest\",\n",
    "    \"HunzeenAas\": \"Hunze en Aa's\",\n",
    "    \"DrentsOverijsselseDelta\": \"Drents Overijsselse Delta\",\n",
    "    \"Vechtstromen\": \"Vechtstromen\",\n",
    "    \"RijnenIJssel\": \"Rijn en IJssel\",\n",
    "    \"ValleienVeluwe\": \"Vallei en Veluwe\",\n",
    "    \"StichtseRijnlanden\": \"De Stichtse Rijnlanden\",\n",
    "    \"BrabantseDelta\": \"Brabantse Delta\",\n",
    "    \"DeDommel\": \"De Dommel\",\n",
    "    \"AaenMaas\": \"Aa en Maas\",\n",
    "    \"Limburg\": \"Limburg\",\n",
    "}\n",
    "\n",
    "# lijst met de benodigde layers\n",
    "layers = {\n",
    "    \"basins\": \"ribasim_network.gpkg\",\n",
    "    \"basin_areas\": \"ribasim_network.gpkg\",\n",
    "    \"split_nodes\": \"ribasim_network.gpkg\",\n",
    "    \"boundaries\": \"ribasim_network.gpkg\",\n",
    "    \"boundary_connections\": \"ribasim_network.gpkg\",\n",
    "    \"basin_connections\": \"ribasim_network.gpkg\",\n",
    "    \"areas\": \"areas.gpkg\",\n",
    "    \"drainage_areas\": \"areas.gpkg\",\n",
    "    \"foreign_drainage_areas\": \"foreign_input.gpkg\",\n",
    "    # \"gemaal\": \"hydamo.gpkg\",\n",
    "    # \"stuw\": \"hydamo.gpkg\",\n",
    "    # \"onderdoorlaat\": \"hydamo.gpkg\",\n",
    "    # \"afsluitmiddel\": \"hydamo.gpkg\",\n",
    "    # \"duikersifonhevel\": \"hydamo.gpkg\",\n",
    "    # \"hydroobject\": \"hydamo.gpkg\",\n",
    "}\n",
    "\n",
    "output_gpkg = \"data//alle_waterschappen.gpkg\"\n",
    "# output_gpkg = \"data//foreign_input.gpkg\""
   ]
  },
  {
   "cell_type": "code",
   "execution_count": 42,
   "metadata": {},
   "outputs": [],
   "source": [
    "# waterschappen_geoms = gpd.read_file(\"data_oud//waterschappen.gpkg\").to_crs(28992)"
   ]
  },
  {
   "cell_type": "code",
   "execution_count": 43,
   "metadata": {},
   "outputs": [],
   "source": [
    "split_nodes = gpd.read_file(\n",
    "    Path(base_dir, list(waterschappen.keys())[1], \"verwerkt\", \"4_ribasim\", layers[\"split_nodes\"])\n",
    ")"
   ]
  },
  {
   "cell_type": "code",
   "execution_count": 44,
   "metadata": {},
   "outputs": [
    {
     "name": "stdout",
     "output_type": "stream",
     "text": [
      "basins\n",
      " - Noo Hun Dre Vec Rij Val Sti Bra DeD Aae Lim  -> saved\n",
      "basin_areas\n",
      " - Noo Hun Dre Vec Rij Val Sti Bra DeD Aae Lim  -> saved\n",
      "split_nodes\n",
      " - Noo Hun Dre Vec Rij Val Sti Bra DeD Aae Lim  -> saved\n",
      "boundaries\n",
      " - Noo Hun Dre Vec Rij Val Sti Bra DeD Aae Lim  -> saved\n",
      "boundary_connections\n",
      " - Noo Hun Dre Vec Rij Val Sti Bra DeD Aae Lim  -> saved\n",
      "basin_connections\n",
      " - Noo Hun Dre Vec Rij Val Sti Bra DeD Aae Lim  -> saved\n",
      "areas\n",
      " - Noo Hun Dre Vec Rij Val Sti Bra DeD Aae Lim  -> saved\n",
      "drainage_areas\n",
      " - Noo Hun Dre Vec Rij Val Sti Bra DeD Aae Lim  -> saved\n",
      "foreign_drainage_areas\n",
      " - Noo Hun Dre Vec Rij Val Sti Bra DeD Aae Lim  -> saved\n"
     ]
    }
   ],
   "source": [
    "# loop door de verschillende shapefiles die je wilt hebben per waterschap\n",
    "for layer, gpkg_file in layers.items():\n",
    "    print(layer)\n",
    "    layer_totaal = None\n",
    "    # loop door de directories van de waterschappen\n",
    "    print(\" - \", end=\"\")\n",
    "    for i, waterschap in enumerate(waterschappen):\n",
    "        print(waterschap[:3], end=\" \")\n",
    "        # maak de directory\n",
    "        locatie_gpkg = Path(base_dir, waterschap, \"verwerkt\", \"4_ribasim\", gpkg_file)\n",
    "        if not locatie_gpkg.exists():\n",
    "            continue\n",
    "        if layer not in fiona.listlayers(locatie_gpkg):\n",
    "            continue\n",
    "\n",
    "        # read the shapefile layers\n",
    "        layer_data = gpd.read_file(locatie_gpkg, layer=layer, engine=\"pyogrio\")\n",
    "        if layer == \"areas\":\n",
    "            layer_data = layer_data[[\"code\", \"geometry\"]]\n",
    "        if layer == \"foreign_drainage_areas\":\n",
    "            layer_data = layer_data[[\"name\", \"boundary_name\", \"geometry\"]]\n",
    "        if layer in [\n",
    "            \"drainage_areas\",\n",
    "            \"gemaal\",\n",
    "            \"stuw\",\n",
    "            \"afsluitmiddel\",\n",
    "            \"onderdoorlaat\",\n",
    "            \"duikersifonhevel\",\n",
    "            \"hydroobject\",\n",
    "        ]:\n",
    "            if \"code\" not in layer_data.columns:\n",
    "                layer_data[\"code\"] = None\n",
    "            layer_data = layer_data[[\"code\", \"geometry\"]]\n",
    "\n",
    "        # add waterschap name\n",
    "        layer_data[\"waterschap\"] = waterschap\n",
    "\n",
    "        layer_data = layer_data.set_crs(28992, allow_override=True)\n",
    "\n",
    "        if layer_totaal is None:\n",
    "            layer_totaal = layer_data.copy()\n",
    "        else:\n",
    "            layer_totaal = pd.concat([layer_totaal, layer_data])\n",
    "\n",
    "    if layer_totaal is not None:\n",
    "        layer_totaal.to_file(output_gpkg, layer=layer, driver=\"GPKG\")\n",
    "        print(\" -> saved\")"
   ]
  },
  {
   "attachments": {},
   "cell_type": "markdown",
   "metadata": {},
   "source": [
    "### Plots"
   ]
  },
  {
   "cell_type": "code",
   "execution_count": 45,
   "metadata": {},
   "outputs": [
    {
     "ename": "DataLayerError",
     "evalue": "Layer 'gemaal' could not be opened",
     "output_type": "error",
     "traceback": [
      "\u001b[1;31m---------------------------------------------------------------------------\u001b[0m",
      "\u001b[1;31mDataLayerError\u001b[0m                            Traceback (most recent call last)",
      "Cell \u001b[1;32mIn[45], line 10\u001b[0m\n\u001b[0;32m      8\u001b[0m drainage_areas \u001b[38;5;241m=\u001b[39m gpd\u001b[38;5;241m.\u001b[39mread_file(output_gpkg, layer\u001b[38;5;241m=\u001b[39m\u001b[38;5;124m\"\u001b[39m\u001b[38;5;124mdrainage_areas\u001b[39m\u001b[38;5;124m\"\u001b[39m)\n\u001b[0;32m      9\u001b[0m foreign_drainage_areas \u001b[38;5;241m=\u001b[39m gpd\u001b[38;5;241m.\u001b[39mread_file(output_gpkg, layer\u001b[38;5;241m=\u001b[39m\u001b[38;5;124m\"\u001b[39m\u001b[38;5;124mforeign_drainage_areas\u001b[39m\u001b[38;5;124m\"\u001b[39m)\n\u001b[1;32m---> 10\u001b[0m gemaal \u001b[38;5;241m=\u001b[39m \u001b[43mgpd\u001b[49m\u001b[38;5;241;43m.\u001b[39;49m\u001b[43mread_file\u001b[49m\u001b[43m(\u001b[49m\u001b[43moutput_gpkg\u001b[49m\u001b[43m,\u001b[49m\u001b[43m \u001b[49m\u001b[43mlayer\u001b[49m\u001b[38;5;241;43m=\u001b[39;49m\u001b[38;5;124;43m\"\u001b[39;49m\u001b[38;5;124;43mgemaal\u001b[39;49m\u001b[38;5;124;43m\"\u001b[39;49m\u001b[43m)\u001b[49m\n\u001b[0;32m     11\u001b[0m stuw \u001b[38;5;241m=\u001b[39m gpd\u001b[38;5;241m.\u001b[39mread_file(output_gpkg, layer\u001b[38;5;241m=\u001b[39m\u001b[38;5;124m\"\u001b[39m\u001b[38;5;124mstuw\u001b[39m\u001b[38;5;124m\"\u001b[39m)\n\u001b[0;32m     12\u001b[0m onderdoorlaat \u001b[38;5;241m=\u001b[39m gpd\u001b[38;5;241m.\u001b[39mread_file(output_gpkg, layer\u001b[38;5;241m=\u001b[39m\u001b[38;5;124m\"\u001b[39m\u001b[38;5;124monderdoorlaat\u001b[39m\u001b[38;5;124m\"\u001b[39m)\n",
      "File \u001b[1;32mc:\\Users\\NLHARN\\Documents\\PROGRAMMING\\ribasim_lumping_venv\\Lib\\site-packages\\geopandas\\io\\file.py:287\u001b[0m, in \u001b[0;36m_read_file\u001b[1;34m(filename, bbox, mask, rows, engine, **kwargs)\u001b[0m\n\u001b[0;32m    284\u001b[0m             from_bytes \u001b[38;5;241m=\u001b[39m \u001b[38;5;28;01mTrue\u001b[39;00m\n\u001b[0;32m    286\u001b[0m \u001b[38;5;28;01mif\u001b[39;00m engine \u001b[38;5;241m==\u001b[39m \u001b[38;5;124m\"\u001b[39m\u001b[38;5;124mpyogrio\u001b[39m\u001b[38;5;124m\"\u001b[39m:\n\u001b[1;32m--> 287\u001b[0m     \u001b[38;5;28;01mreturn\u001b[39;00m \u001b[43m_read_file_pyogrio\u001b[49m\u001b[43m(\u001b[49m\u001b[43mfilename\u001b[49m\u001b[43m,\u001b[49m\u001b[43m \u001b[49m\u001b[43mbbox\u001b[49m\u001b[38;5;241;43m=\u001b[39;49m\u001b[43mbbox\u001b[49m\u001b[43m,\u001b[49m\u001b[43m \u001b[49m\u001b[43mmask\u001b[49m\u001b[38;5;241;43m=\u001b[39;49m\u001b[43mmask\u001b[49m\u001b[43m,\u001b[49m\u001b[43m \u001b[49m\u001b[43mrows\u001b[49m\u001b[38;5;241;43m=\u001b[39;49m\u001b[43mrows\u001b[49m\u001b[43m,\u001b[49m\u001b[43m \u001b[49m\u001b[38;5;241;43m*\u001b[39;49m\u001b[38;5;241;43m*\u001b[39;49m\u001b[43mkwargs\u001b[49m\u001b[43m)\u001b[49m\n\u001b[0;32m    289\u001b[0m \u001b[38;5;28;01melif\u001b[39;00m engine \u001b[38;5;241m==\u001b[39m \u001b[38;5;124m\"\u001b[39m\u001b[38;5;124mfiona\u001b[39m\u001b[38;5;124m\"\u001b[39m:\n\u001b[0;32m    290\u001b[0m     \u001b[38;5;28;01mif\u001b[39;00m pd\u001b[38;5;241m.\u001b[39mapi\u001b[38;5;241m.\u001b[39mtypes\u001b[38;5;241m.\u001b[39mis_file_like(filename):\n",
      "File \u001b[1;32mc:\\Users\\NLHARN\\Documents\\PROGRAMMING\\ribasim_lumping_venv\\Lib\\site-packages\\geopandas\\io\\file.py:447\u001b[0m, in \u001b[0;36m_read_file_pyogrio\u001b[1;34m(path_or_bytes, bbox, mask, rows, **kwargs)\u001b[0m\n\u001b[0;32m    444\u001b[0m     kwargs[\u001b[38;5;124m\"\u001b[39m\u001b[38;5;124mread_geometry\u001b[39m\u001b[38;5;124m\"\u001b[39m] \u001b[38;5;241m=\u001b[39m \u001b[38;5;28;01mFalse\u001b[39;00m\n\u001b[0;32m    446\u001b[0m \u001b[38;5;66;03m# TODO: if bbox is not None, check its CRS vs the CRS of the file\u001b[39;00m\n\u001b[1;32m--> 447\u001b[0m \u001b[38;5;28;01mreturn\u001b[39;00m \u001b[43mpyogrio\u001b[49m\u001b[38;5;241;43m.\u001b[39;49m\u001b[43mread_dataframe\u001b[49m\u001b[43m(\u001b[49m\u001b[43mpath_or_bytes\u001b[49m\u001b[43m,\u001b[49m\u001b[43m \u001b[49m\u001b[43mbbox\u001b[49m\u001b[38;5;241;43m=\u001b[39;49m\u001b[43mbbox\u001b[49m\u001b[43m,\u001b[49m\u001b[43m \u001b[49m\u001b[38;5;241;43m*\u001b[39;49m\u001b[38;5;241;43m*\u001b[39;49m\u001b[43mkwargs\u001b[49m\u001b[43m)\u001b[49m\n",
      "File \u001b[1;32mc:\\Users\\NLHARN\\Documents\\PROGRAMMING\\ribasim_lumping_venv\\Lib\\site-packages\\pyogrio\\geopandas.py:239\u001b[0m, in \u001b[0;36mread_dataframe\u001b[1;34m(path_or_buffer, layer, encoding, columns, read_geometry, force_2d, skip_features, max_features, where, bbox, mask, fids, sql, sql_dialect, fid_as_index, use_arrow, arrow_to_pandas_kwargs, **kwargs)\u001b[0m\n\u001b[0;32m    234\u001b[0m \u001b[38;5;28;01mif\u001b[39;00m \u001b[38;5;129;01mnot\u001b[39;00m use_arrow:\n\u001b[0;32m    235\u001b[0m     \u001b[38;5;66;03m# For arrow, datetimes are read as is.\u001b[39;00m\n\u001b[0;32m    236\u001b[0m     \u001b[38;5;66;03m# For numpy IO, datetimes are read as string values to preserve timezone info\u001b[39;00m\n\u001b[0;32m    237\u001b[0m     \u001b[38;5;66;03m# as numpy does not directly support timezones.\u001b[39;00m\n\u001b[0;32m    238\u001b[0m     kwargs[\u001b[38;5;124m\"\u001b[39m\u001b[38;5;124mdatetime_as_string\u001b[39m\u001b[38;5;124m\"\u001b[39m] \u001b[38;5;241m=\u001b[39m \u001b[38;5;28;01mTrue\u001b[39;00m\n\u001b[1;32m--> 239\u001b[0m result \u001b[38;5;241m=\u001b[39m \u001b[43mread_func\u001b[49m\u001b[43m(\u001b[49m\n\u001b[0;32m    240\u001b[0m \u001b[43m    \u001b[49m\u001b[43mpath_or_buffer\u001b[49m\u001b[43m,\u001b[49m\n\u001b[0;32m    241\u001b[0m \u001b[43m    \u001b[49m\u001b[43mlayer\u001b[49m\u001b[38;5;241;43m=\u001b[39;49m\u001b[43mlayer\u001b[49m\u001b[43m,\u001b[49m\n\u001b[0;32m    242\u001b[0m \u001b[43m    \u001b[49m\u001b[43mencoding\u001b[49m\u001b[38;5;241;43m=\u001b[39;49m\u001b[43mencoding\u001b[49m\u001b[43m,\u001b[49m\n\u001b[0;32m    243\u001b[0m \u001b[43m    \u001b[49m\u001b[43mcolumns\u001b[49m\u001b[38;5;241;43m=\u001b[39;49m\u001b[43mcolumns\u001b[49m\u001b[43m,\u001b[49m\n\u001b[0;32m    244\u001b[0m \u001b[43m    \u001b[49m\u001b[43mread_geometry\u001b[49m\u001b[38;5;241;43m=\u001b[39;49m\u001b[43mread_geometry\u001b[49m\u001b[43m,\u001b[49m\n\u001b[0;32m    245\u001b[0m \u001b[43m    \u001b[49m\u001b[43mforce_2d\u001b[49m\u001b[38;5;241;43m=\u001b[39;49m\u001b[43mgdal_force_2d\u001b[49m\u001b[43m,\u001b[49m\n\u001b[0;32m    246\u001b[0m \u001b[43m    \u001b[49m\u001b[43mskip_features\u001b[49m\u001b[38;5;241;43m=\u001b[39;49m\u001b[43mskip_features\u001b[49m\u001b[43m,\u001b[49m\n\u001b[0;32m    247\u001b[0m \u001b[43m    \u001b[49m\u001b[43mmax_features\u001b[49m\u001b[38;5;241;43m=\u001b[39;49m\u001b[43mmax_features\u001b[49m\u001b[43m,\u001b[49m\n\u001b[0;32m    248\u001b[0m \u001b[43m    \u001b[49m\u001b[43mwhere\u001b[49m\u001b[38;5;241;43m=\u001b[39;49m\u001b[43mwhere\u001b[49m\u001b[43m,\u001b[49m\n\u001b[0;32m    249\u001b[0m \u001b[43m    \u001b[49m\u001b[43mbbox\u001b[49m\u001b[38;5;241;43m=\u001b[39;49m\u001b[43mbbox\u001b[49m\u001b[43m,\u001b[49m\n\u001b[0;32m    250\u001b[0m \u001b[43m    \u001b[49m\u001b[43mmask\u001b[49m\u001b[38;5;241;43m=\u001b[39;49m\u001b[43mmask\u001b[49m\u001b[43m,\u001b[49m\n\u001b[0;32m    251\u001b[0m \u001b[43m    \u001b[49m\u001b[43mfids\u001b[49m\u001b[38;5;241;43m=\u001b[39;49m\u001b[43mfids\u001b[49m\u001b[43m,\u001b[49m\n\u001b[0;32m    252\u001b[0m \u001b[43m    \u001b[49m\u001b[43msql\u001b[49m\u001b[38;5;241;43m=\u001b[39;49m\u001b[43msql\u001b[49m\u001b[43m,\u001b[49m\n\u001b[0;32m    253\u001b[0m \u001b[43m    \u001b[49m\u001b[43msql_dialect\u001b[49m\u001b[38;5;241;43m=\u001b[39;49m\u001b[43msql_dialect\u001b[49m\u001b[43m,\u001b[49m\n\u001b[0;32m    254\u001b[0m \u001b[43m    \u001b[49m\u001b[43mreturn_fids\u001b[49m\u001b[38;5;241;43m=\u001b[39;49m\u001b[43mfid_as_index\u001b[49m\u001b[43m,\u001b[49m\n\u001b[0;32m    255\u001b[0m \u001b[43m    \u001b[49m\u001b[38;5;241;43m*\u001b[39;49m\u001b[38;5;241;43m*\u001b[39;49m\u001b[43mkwargs\u001b[49m\u001b[43m,\u001b[49m\n\u001b[0;32m    256\u001b[0m \u001b[43m\u001b[49m\u001b[43m)\u001b[49m\n\u001b[0;32m    258\u001b[0m \u001b[38;5;28;01mif\u001b[39;00m use_arrow:\n\u001b[0;32m    259\u001b[0m     meta, table \u001b[38;5;241m=\u001b[39m result\n",
      "File \u001b[1;32mc:\\Users\\NLHARN\\Documents\\PROGRAMMING\\ribasim_lumping_venv\\Lib\\site-packages\\pyogrio\\raw.py:194\u001b[0m, in \u001b[0;36mread\u001b[1;34m(path_or_buffer, layer, encoding, columns, read_geometry, force_2d, skip_features, max_features, where, bbox, mask, fids, sql, sql_dialect, return_fids, datetime_as_string, **kwargs)\u001b[0m\n\u001b[0;32m    191\u001b[0m dataset_kwargs \u001b[38;5;241m=\u001b[39m _preprocess_options_key_value(kwargs) \u001b[38;5;28;01mif\u001b[39;00m kwargs \u001b[38;5;28;01melse\u001b[39;00m {}\n\u001b[0;32m    193\u001b[0m \u001b[38;5;28;01mtry\u001b[39;00m:\n\u001b[1;32m--> 194\u001b[0m     result \u001b[38;5;241m=\u001b[39m \u001b[43mogr_read\u001b[49m\u001b[43m(\u001b[49m\n\u001b[0;32m    195\u001b[0m \u001b[43m        \u001b[49m\u001b[43mpath\u001b[49m\u001b[43m,\u001b[49m\n\u001b[0;32m    196\u001b[0m \u001b[43m        \u001b[49m\u001b[43mlayer\u001b[49m\u001b[38;5;241;43m=\u001b[39;49m\u001b[43mlayer\u001b[49m\u001b[43m,\u001b[49m\n\u001b[0;32m    197\u001b[0m \u001b[43m        \u001b[49m\u001b[43mencoding\u001b[49m\u001b[38;5;241;43m=\u001b[39;49m\u001b[43mencoding\u001b[49m\u001b[43m,\u001b[49m\n\u001b[0;32m    198\u001b[0m \u001b[43m        \u001b[49m\u001b[43mcolumns\u001b[49m\u001b[38;5;241;43m=\u001b[39;49m\u001b[43mcolumns\u001b[49m\u001b[43m,\u001b[49m\n\u001b[0;32m    199\u001b[0m \u001b[43m        \u001b[49m\u001b[43mread_geometry\u001b[49m\u001b[38;5;241;43m=\u001b[39;49m\u001b[43mread_geometry\u001b[49m\u001b[43m,\u001b[49m\n\u001b[0;32m    200\u001b[0m \u001b[43m        \u001b[49m\u001b[43mforce_2d\u001b[49m\u001b[38;5;241;43m=\u001b[39;49m\u001b[43mforce_2d\u001b[49m\u001b[43m,\u001b[49m\n\u001b[0;32m    201\u001b[0m \u001b[43m        \u001b[49m\u001b[43mskip_features\u001b[49m\u001b[38;5;241;43m=\u001b[39;49m\u001b[43mskip_features\u001b[49m\u001b[43m,\u001b[49m\n\u001b[0;32m    202\u001b[0m \u001b[43m        \u001b[49m\u001b[43mmax_features\u001b[49m\u001b[38;5;241;43m=\u001b[39;49m\u001b[43mmax_features\u001b[49m\u001b[43m \u001b[49m\u001b[38;5;129;43;01mor\u001b[39;49;00m\u001b[43m \u001b[49m\u001b[38;5;241;43m0\u001b[39;49m\u001b[43m,\u001b[49m\n\u001b[0;32m    203\u001b[0m \u001b[43m        \u001b[49m\u001b[43mwhere\u001b[49m\u001b[38;5;241;43m=\u001b[39;49m\u001b[43mwhere\u001b[49m\u001b[43m,\u001b[49m\n\u001b[0;32m    204\u001b[0m \u001b[43m        \u001b[49m\u001b[43mbbox\u001b[49m\u001b[38;5;241;43m=\u001b[39;49m\u001b[43mbbox\u001b[49m\u001b[43m,\u001b[49m\n\u001b[0;32m    205\u001b[0m \u001b[43m        \u001b[49m\u001b[43mmask\u001b[49m\u001b[38;5;241;43m=\u001b[39;49m\u001b[43m_mask_to_wkb\u001b[49m\u001b[43m(\u001b[49m\u001b[43mmask\u001b[49m\u001b[43m)\u001b[49m\u001b[43m,\u001b[49m\n\u001b[0;32m    206\u001b[0m \u001b[43m        \u001b[49m\u001b[43mfids\u001b[49m\u001b[38;5;241;43m=\u001b[39;49m\u001b[43mfids\u001b[49m\u001b[43m,\u001b[49m\n\u001b[0;32m    207\u001b[0m \u001b[43m        \u001b[49m\u001b[43msql\u001b[49m\u001b[38;5;241;43m=\u001b[39;49m\u001b[43msql\u001b[49m\u001b[43m,\u001b[49m\n\u001b[0;32m    208\u001b[0m \u001b[43m        \u001b[49m\u001b[43msql_dialect\u001b[49m\u001b[38;5;241;43m=\u001b[39;49m\u001b[43msql_dialect\u001b[49m\u001b[43m,\u001b[49m\n\u001b[0;32m    209\u001b[0m \u001b[43m        \u001b[49m\u001b[43mreturn_fids\u001b[49m\u001b[38;5;241;43m=\u001b[39;49m\u001b[43mreturn_fids\u001b[49m\u001b[43m,\u001b[49m\n\u001b[0;32m    210\u001b[0m \u001b[43m        \u001b[49m\u001b[43mdataset_kwargs\u001b[49m\u001b[38;5;241;43m=\u001b[39;49m\u001b[43mdataset_kwargs\u001b[49m\u001b[43m,\u001b[49m\n\u001b[0;32m    211\u001b[0m \u001b[43m        \u001b[49m\u001b[43mdatetime_as_string\u001b[49m\u001b[38;5;241;43m=\u001b[39;49m\u001b[43mdatetime_as_string\u001b[49m\u001b[43m,\u001b[49m\n\u001b[0;32m    212\u001b[0m \u001b[43m    \u001b[49m\u001b[43m)\u001b[49m\n\u001b[0;32m    213\u001b[0m \u001b[38;5;28;01mfinally\u001b[39;00m:\n\u001b[0;32m    214\u001b[0m     \u001b[38;5;28;01mif\u001b[39;00m buffer \u001b[38;5;129;01mis\u001b[39;00m \u001b[38;5;129;01mnot\u001b[39;00m \u001b[38;5;28;01mNone\u001b[39;00m:\n",
      "File \u001b[1;32mc:\\Users\\NLHARN\\Documents\\PROGRAMMING\\ribasim_lumping_venv\\Lib\\site-packages\\pyogrio\\_io.pyx:1130\u001b[0m, in \u001b[0;36mpyogrio._io.ogr_read\u001b[1;34m()\u001b[0m\n",
      "File \u001b[1;32mc:\\Users\\NLHARN\\Documents\\PROGRAMMING\\ribasim_lumping_venv\\Lib\\site-packages\\pyogrio\\_io.pyx:200\u001b[0m, in \u001b[0;36mpyogrio._io.get_ogr_layer\u001b[1;34m()\u001b[0m\n",
      "\u001b[1;31mDataLayerError\u001b[0m: Layer 'gemaal' could not be opened"
     ]
    }
   ],
   "source": [
    "# load the data\n",
    "areas = gpd.read_file(output_gpkg, layer=\"areas\")\n",
    "basins = gpd.read_file(output_gpkg, layer=\"basins\")\n",
    "basin_areas = gpd.read_file(output_gpkg, layer=\"basin_areas\")\n",
    "split_nodes = gpd.read_file(output_gpkg, layer=\"split_nodes\")\n",
    "boundaries = gpd.read_file(output_gpkg, layer=\"boundaries\")\n",
    "\n",
    "drainage_areas = gpd.read_file(output_gpkg, layer=\"drainage_areas\")\n",
    "foreign_drainage_areas = gpd.read_file(output_gpkg, layer=\"foreign_drainage_areas\")\n",
    "gemaal = gpd.read_file(output_gpkg, layer=\"gemaal\")\n",
    "stuw = gpd.read_file(output_gpkg, layer=\"stuw\")\n",
    "onderdoorlaat = gpd.read_file(output_gpkg, layer=\"onderdoorlaat\")\n",
    "afsluitmiddel = gpd.read_file(output_gpkg, layer=\"afsluitmiddel\")\n",
    "duikersifonhevel = gpd.read_file(output_gpkg, layer=\"duikersifonhevel\")\n",
    "hydroobject = gpd.read_file(output_gpkg, layer=\"hydroobject\")"
   ]
  },
  {
   "cell_type": "code",
   "execution_count": null,
   "metadata": {},
   "outputs": [],
   "source": [
    "# BOUNDARIES: FILL TYPE\n",
    "boundaries[\"Type\"] = (\n",
    "    boundaries[\"Type\"]\n",
    "    .fillna(boundaries[\"quantity\"])\n",
    "    .replace({\"dischargebnd\": \"FlowBoundary\", \"waterlevelbnd\": \"LevelBoundary\"})\n",
    ")\n",
    "# CHECK BOUNDARIES\n",
    "boundaries[[\"Type\", \"quantity\", \"waterschap\"]].fillna(\"\").groupby(\n",
    "    [\"Type\", \"quantity\", \"waterschap\"]\n",
    ").size().reset_index()  # .rename(columns={0:'count'})\n",
    "boundaries.to_file(output_gpkg, layer=\"boundaries\")\n",
    "# SEPARATE FLOW AND LEVEL BOUNDARIES\n",
    "flow_boundaries = boundaries[boundaries[\"Type\"] == \"FlowBoundary\"]\n",
    "level_boundaries = boundaries[boundaries[\"Type\"] == \"LevelBoundary\"]"
   ]
  },
  {
   "cell_type": "code",
   "execution_count": null,
   "metadata": {},
   "outputs": [],
   "source": [
    "# BASIN AREAS\n",
    "basin_areas_waterschap = areas.dissolve(by=[\"waterschap\", \"basin_node_id\"])\n",
    "basin_areas_waterschap.area = basin_areas_waterschap.geometry.area\n",
    "basin_areas_waterschap[\"color_no\"] = np.random.choice(np.arange(50), size=len(basin_areas_waterschap))"
   ]
  },
  {
   "cell_type": "code",
   "execution_count": null,
   "metadata": {},
   "outputs": [],
   "source": [
    "basin_areas_waterschap = remove_holes_from_polygons(basin_areas_waterschap.explode(), 100_000)"
   ]
  },
  {
   "cell_type": "code",
   "execution_count": null,
   "metadata": {},
   "outputs": [],
   "source": [
    "basin_areas_waterschap.to_file(output_gpkg, layer=\"basin_areas\")"
   ]
  },
  {
   "cell_type": "code",
   "execution_count": null,
   "metadata": {},
   "outputs": [],
   "source": [
    "basin_areas_waterschap.reset_index().to_file(output_gpkg, layer=\"basin_areas\")"
   ]
  },
  {
   "cell_type": "code",
   "execution_count": null,
   "metadata": {},
   "outputs": [],
   "source": [
    "basin_areas_waterschap[\"color_no\"] = np.random.choice(np.arange(50), size=len(basin_areas_waterschap))"
   ]
  },
  {
   "cell_type": "code",
   "execution_count": null,
   "metadata": {},
   "outputs": [],
   "source": [
    "# BASIN AREAS\n",
    "fig, ax = plt.subplots()\n",
    "basin_areas_waterschap.reset_index(drop=True).plot(ax=ax, column=\"color_no\")\n",
    "waterschappen.plot(ax=ax, facecolor=\"None\")"
   ]
  },
  {
   "cell_type": "code",
   "execution_count": null,
   "metadata": {},
   "outputs": [],
   "source": [
    "# CALCULATE SURFACE AREA OF WATER BOARDS\n",
    "areas[\"area\"] = areas.geometry.area / 1_000_000\n",
    "areas[[\"area\", \"waterschap\"]].groupby(\"waterschap\").sum()"
   ]
  },
  {
   "cell_type": "code",
   "execution_count": null,
   "metadata": {},
   "outputs": [],
   "source": [
    "# PLOT FOR SURFACE AREA, BOUNDARIES, SPLIT NODES, BASINS, BASIN AREAS\n",
    "\n",
    "\n",
    "def addlabels(ax, x, y):\n",
    "    for _x, _y in zip(x, y):\n",
    "        ax.text(_x, _y, _y, ha=\"center\", va=\"bottom\", fontsize=7)\n",
    "\n",
    "\n",
    "# make the plots\n",
    "fig, axs = plt.subplots(4, 1, figsize=(5, 7), sharex=True, gridspec_kw={\"hspace\": 0.25, \"wspace\": 0.3})\n",
    "# fig.tight_layout()\n",
    "\n",
    "data_sets = [boundaries, split_nodes, basins, basin_areas]\n",
    "columns = [\"Boundaries\", \"Split nodes\", \"Basins\", \"Basin areas\"]\n",
    "data_labels = [\"Boundaries\", \"Split nodes\", \"Basins\", \"Basin areas\"]\n",
    "\n",
    "for data_set, data_label, ax in zip(data_sets, data_labels, axs.flatten()):\n",
    "    labels, counts = np.unique(data_set.waterschap, return_counts=True)\n",
    "    counts_def = []\n",
    "    for w_lab in waterschappen.keys():\n",
    "        counts_new = 0\n",
    "        for label, count in zip(labels, counts):\n",
    "            if label == w_lab:\n",
    "                counts_new = count\n",
    "        counts_def += [counts_new]\n",
    "    ax.bar(waterschappen.values, counts_def, align=\"center\")\n",
    "    addlabels(ax, waterschappen.values, counts_def)\n",
    "    ax.set_ylim([0, max(counts_def) * 1.2])\n",
    "    ax.set_title(data_label, fontsize=10, ha=\"left\", x=-0.1, fontweight=\"bold\")\n",
    "    ax.tick_params(axis=\"x\", which=\"major\", labelsize=10)\n",
    "    ax.tick_params(axis=\"y\", which=\"major\", labelsize=9)\n",
    "\n",
    "basin_areas.area = basin_areas.geometry.area\n",
    "basin_areas[\"area_km2\"] = basin_areas.geometry.area / 1000000\n",
    "# basin_areas[basin_areas.waterschap==\"Noorderzijlvest\", \"color_no\"] =\n",
    "\n",
    "ax = axs[-1]  # [-1]\n",
    "# basin_areas_km2 = basin_areas[[\"waterschap\", \"area_km2\"]].groupby(\"waterschap\").sum().area_km2\n",
    "# ax.bar(basin_areas_km2.index, basin_areas_km2.values, align='center')\n",
    "# addlabels(ax, basin_areas_km2.index, basin_areas_km2.round(0).values)#((basin_areas_km2/1000).round(0)*1000.0).values)\n",
    "# ax.set_ylim([0, basin_areas_km2.max()*1.2])\n",
    "# ax.set_ylabel(\"area [km2]\")\n",
    "ax.tick_params(axis=\"x\", labelrotation=90)\n",
    "ax.set_xticklabels(waterschappen.values);"
   ]
  },
  {
   "cell_type": "code",
   "execution_count": null,
   "metadata": {},
   "outputs": [],
   "source": [
    "# PLOT FOR PUMPS, WEIRS, CULVERTS, HYDROOBJECTS\n",
    "\n",
    "# make the plots\n",
    "fig, axs = plt.subplots(4, 1, figsize=(5, 7), sharex=True, gridspec_kw={\"hspace\": 0.25, \"wspace\": 0.3})\n",
    "fig.tight_layout()\n",
    "\n",
    "waterschap_areas = areas[[\"area\", \"waterschap\"]].groupby(\"waterschap\").sum()\n",
    "counts_def = []\n",
    "for w_lab in waterschappen_lijst:\n",
    "    counts_new = 0\n",
    "    for label, count in zip(waterschap_areas.index, waterschap_areas.area.round(0).values):\n",
    "        if label == w_lab:\n",
    "            counts_new = count\n",
    "    counts_def += [int(counts_new)]\n",
    "axs[0].bar(waterschappen_labels, counts_def, align=\"center\")\n",
    "addlabels(axs[0], waterschappen_labels, counts_def)\n",
    "axs[0].set_ylim([0, max(counts_def) * 1.2])\n",
    "axs[0].set_title(\"Surface area [km2]\", fontsize=10, ha=\"left\", x=-0.1, fontweight=\"bold\")\n",
    "axs[0].tick_params(axis=\"x\", which=\"major\", labelsize=10)\n",
    "axs[0].tick_params(axis=\"y\", which=\"major\", labelsize=9)\n",
    "\n",
    "hydroobject[\"length\"] = hydroobject.geometry.length / 1000\n",
    "hydroobject_length = hydroobject[[\"length\", \"waterschap\"]].groupby(\"waterschap\").sum()\n",
    "counts_def = []\n",
    "for w_lab in waterschappen_lijst:\n",
    "    counts_new = 0\n",
    "    for label, count in zip(hydroobject_length.index, hydroobject_length.length.round(0).values):\n",
    "        if label == w_lab:\n",
    "            counts_new = count\n",
    "    counts_def += [int(counts_new)]\n",
    "axs[1].bar(waterschappen_labels, counts_def, align=\"center\")\n",
    "addlabels(axs[1], waterschappen_labels, counts_def)\n",
    "axs[1].set_ylim([0, max(counts_def) * 1.2])\n",
    "axs[1].set_title(\"Hydro-objects [km]\", fontsize=10, ha=\"left\", x=-0.1, fontweight=\"bold\")\n",
    "axs[1].tick_params(axis=\"x\", which=\"major\", labelsize=10)\n",
    "axs[1].tick_params(axis=\"y\", which=\"major\", labelsize=9)\n",
    "\n",
    "afsluitmiddel = pd.concat([afsluitmiddel, onderdoorlaat])\n",
    "\n",
    "data_sets = [gemaal, stuw]\n",
    "columns = [\"Gemaal\", \"Stuw\"]\n",
    "data_labels = [\"Pumping stations\", \"Weirs\"]\n",
    "\n",
    "\n",
    "def addlabels(ax, x, y):\n",
    "    for _x, _y in zip(x, y):\n",
    "        ax.text(_x, _y, _y, ha=\"center\", va=\"bottom\", fontsize=7)\n",
    "\n",
    "\n",
    "for data_set, data_label, ax in zip(data_sets, data_labels, axs.flatten()[2:]):\n",
    "    labels, counts = np.unique(data_set.waterschap, return_counts=True)\n",
    "    counts_def = []\n",
    "    for w_lab in waterschappen_lijst:\n",
    "        counts_new = 0\n",
    "        for label, count in zip(labels, counts):\n",
    "            if label == w_lab:\n",
    "                counts_new = count\n",
    "        counts_def += [int(counts_new)]\n",
    "    ax.bar(waterschappen_labels, counts_def, align=\"center\")\n",
    "    addlabels(ax, waterschappen_labels, counts_def)\n",
    "    ax.set_ylim([0, max(counts_def) * 1.2])\n",
    "    ax.set_title(data_label, fontsize=10, ha=\"left\", x=-0.1, fontweight=\"bold\")\n",
    "    ax.tick_params(axis=\"x\", which=\"major\", labelsize=10)\n",
    "    ax.tick_params(axis=\"y\", which=\"major\", labelsize=9)\n",
    "\n",
    "basin_areas.area = basin_areas.geometry.area\n",
    "basin_areas[\"area_km2\"] = basin_areas.geometry.area / 1000000\n",
    "\n",
    "ax = axs[-1]  # [-1]\n",
    "ax.tick_params(axis=\"x\", labelrotation=90)\n",
    "ax.set_xticklabels(waterschappen_labels);"
   ]
  },
  {
   "cell_type": "code",
   "execution_count": null,
   "metadata": {},
   "outputs": [],
   "source": [
    "from shapely.geometry import Polygon\n",
    "\n",
    "\n",
    "def remove_small_holes_from_areas(gdf, min_area):\n",
    "    list_geometry = []\n",
    "    for polygon in gdf.geometry:\n",
    "        list_interiors = []\n",
    "        for interior in polygon.interiors:\n",
    "            p = Polygon(interior)\n",
    "            if p.area > min_area:\n",
    "                list_interiors.append(interior)\n",
    "        temp_pol = Polygon(polygon.exterior.coords, holes=list_interiors)\n",
    "        list_geometry.append(temp_pol)\n",
    "    gdf.geometry = list_geometry\n",
    "    return gdf\n",
    "\n",
    "\n",
    "drainage_areas = remove_small_holes_from_areas(drainage_areas, 1000.0)"
   ]
  },
  {
   "cell_type": "code",
   "execution_count": null,
   "metadata": {},
   "outputs": [],
   "source": [
    "drainage_areas.to_file(Path(ribasim_folder, \"areas.gpkg\"), layer=\"drainage_areas\", driver=\"GPKG\")"
   ]
  },
  {
   "cell_type": "code",
   "execution_count": null,
   "metadata": {},
   "outputs": [],
   "source": []
  },
  {
   "cell_type": "code",
   "execution_count": null,
   "metadata": {},
   "outputs": [],
   "source": []
  }
 ],
 "metadata": {
  "kernelspec": {
   "display_name": "ribasim_lumping_venv",
   "language": "python",
   "name": "python3"
  },
  "language_info": {
   "codemirror_mode": {
    "name": "ipython",
    "version": 3
   },
   "file_extension": ".py",
   "mimetype": "text/x-python",
   "name": "python",
   "nbconvert_exporter": "python",
   "pygments_lexer": "ipython3",
   "version": "3.11.9"
  },
  "orig_nbformat": 4,
  "vscode": {
   "interpreter": {
    "hash": "5bd738815a0acbb3ad0a69908638385386c988630a46c6a41055953a8964d49b"
   }
  }
 },
 "nbformat": 4,
 "nbformat_minor": 2
}
