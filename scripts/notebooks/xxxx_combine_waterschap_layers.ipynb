{
 "cells": [
  {
   "cell_type": "code",
   "execution_count": null,
   "metadata": {},
   "outputs": [],
   "source": [
    "from pathlib import Path\n",
    "\n",
    "import fiona\n",
    "import geopandas as gpd\n",
    "import matplotlib.pyplot as plt\n",
    "import numpy as np\n",
    "import pandas as pd\n",
    "\n",
    "from ribasim_lumping.utils.general_functions import remove_holes_from_polygons"
   ]
  },
  {
   "cell_type": "code",
   "execution_count": null,
   "metadata": {},
   "outputs": [],
   "source": [
    "# locatie van de waterschapsmappen\n",
    "base_dir = \"..\\\\Ribasim modeldata\\\\\"\n",
    "\n",
    "# creeer een lijst met alle namen van de waterschappen\n",
    "waterschappen = {\n",
    "    \"Noorderzijlvest\": \"Noorderzijlvest\",\n",
    "    \"HunzeenAas\": \"Hunze en Aa's\",\n",
    "    \"DrentsOverijsselseDelta\": \"Drents Overijsselse Delta\",\n",
    "    \"Vechtstromen\": \"Vechtstromen\",\n",
    "    \"RijnenIJssel\": \"Rijn en IJssel\",\n",
    "    \"ValleienVeluwe\": \"Vallei en Veluwe\",\n",
    "    \"StichtseRijnlanden\": \"De Stichtse Rijnlanden\",\n",
    "    \"BrabantseDelta\": \"Brabantse Delta\",\n",
    "    \"DeDommel\": \"De Dommel\",\n",
    "    \"AaenMaas\": \"Aa en Maas\",\n",
    "    \"Limburg\": \"Limburg\",\n",
    "}\n",
    "\n",
    "# lijst met de benodigde layers\n",
    "layers = {\n",
    "    \"basins\": \"ribasim_network.gpkg\",\n",
    "    \"basin_areas\": \"ribasim_network.gpkg\",\n",
    "    \"split_nodes\": \"ribasim_network.gpkg\",\n",
    "    \"boundaries\": \"ribasim_network.gpkg\",\n",
    "    \"boundary_connections\": \"ribasim_network.gpkg\",\n",
    "    \"basin_connections\": \"ribasim_network.gpkg\",\n",
    "    \"areas\": \"areas.gpkg\",\n",
    "    \"drainage_areas\": \"areas.gpkg\",\n",
    "    \"foreign_drainage_areas\": \"foreign_input.gpkg\",\n",
    "    # \"gemaal\": \"hydamo.gpkg\",\n",
    "    # \"stuw\": \"hydamo.gpkg\",\n",
    "    # \"onderdoorlaat\": \"hydamo.gpkg\",\n",
    "    # \"afsluitmiddel\": \"hydamo.gpkg\",\n",
    "    # \"duikersifonhevel\": \"hydamo.gpkg\",\n",
    "    # \"hydroobject\": \"hydamo.gpkg\",\n",
    "}\n",
    "\n",
    "output_gpkg = \"data//alle_waterschappen.gpkg\"\n",
    "# output_gpkg = \"data//foreign_input.gpkg\""
   ]
  },
  {
   "cell_type": "code",
   "execution_count": null,
   "metadata": {},
   "outputs": [],
   "source": [
    "# waterschappen_geoms = gpd.read_file(\"data_oud//waterschappen.gpkg\").to_crs(28992)\n",
    "waterschappen_labels = list(waterschappen.keys())"
   ]
  },
  {
   "cell_type": "code",
   "execution_count": null,
   "metadata": {},
   "outputs": [],
   "source": [
    "split_nodes = gpd.read_file(\n",
    "    Path(base_dir, list(waterschappen.keys())[1], \"verwerkt\", \"4_ribasim\", layers[\"split_nodes\"])\n",
    ")"
   ]
  },
  {
   "cell_type": "code",
   "execution_count": null,
   "metadata": {},
   "outputs": [],
   "source": [
    "# loop door de verschillende shapefiles die je wilt hebben per waterschap\n",
    "for layer, gpkg_file in layers.items():\n",
    "    print(layer)\n",
    "    layer_totaal = None\n",
    "    # loop door de directories van de waterschappen\n",
    "    print(\" - \", end=\"\")\n",
    "    for i, waterschap in enumerate(waterschappen):\n",
    "        print(waterschap[:3], end=\" \")\n",
    "        # maak de directory\n",
    "        locatie_gpkg = Path(base_dir, waterschap, \"verwerkt\", \"4_ribasim\", gpkg_file)\n",
    "        if not locatie_gpkg.exists():\n",
    "            continue\n",
    "        if layer not in fiona.listlayers(locatie_gpkg):\n",
    "            continue\n",
    "\n",
    "        # read the shapefile layers\n",
    "        layer_data = gpd.read_file(locatie_gpkg, layer=layer, engine=\"pyogrio\")\n",
    "        if layer == \"areas\":\n",
    "            layer_data = layer_data[[\"code\", \"geometry\"]]\n",
    "        if layer == \"foreign_drainage_areas\":\n",
    "            layer_data = layer_data[[\"name\", \"boundary_name\", \"geometry\"]]\n",
    "        if layer in [\n",
    "            \"drainage_areas\",\n",
    "            \"gemaal\",\n",
    "            \"stuw\",\n",
    "            \"afsluitmiddel\",\n",
    "            \"onderdoorlaat\",\n",
    "            \"duikersifonhevel\",\n",
    "            \"hydroobject\",\n",
    "        ]:\n",
    "            if \"code\" not in layer_data.columns:\n",
    "                layer_data[\"code\"] = None\n",
    "            layer_data = layer_data[[\"code\", \"geometry\"]]\n",
    "\n",
    "        # add waterschap name\n",
    "        layer_data[\"waterschap\"] = waterschap\n",
    "\n",
    "        layer_data = layer_data.set_crs(28992, allow_override=True)\n",
    "\n",
    "        if layer_totaal is None:\n",
    "            layer_totaal = layer_data.copy()\n",
    "        else:\n",
    "            layer_totaal = pd.concat([layer_totaal, layer_data])\n",
    "\n",
    "    if layer_totaal is not None:\n",
    "        layer_totaal.to_file(output_gpkg, layer=layer, driver=\"GPKG\")\n",
    "        print(\" -> saved\")"
   ]
  },
  {
   "attachments": {},
   "cell_type": "markdown",
   "metadata": {},
   "source": [
    "### Plots"
   ]
  },
  {
   "cell_type": "code",
   "execution_count": null,
   "metadata": {},
   "outputs": [],
   "source": [
    "# load the data\n",
    "areas = gpd.read_file(output_gpkg, layer=\"areas\")\n",
    "basins = gpd.read_file(output_gpkg, layer=\"basins\")\n",
    "basin_areas = gpd.read_file(output_gpkg, layer=\"basin_areas\")\n",
    "split_nodes = gpd.read_file(output_gpkg, layer=\"split_nodes\")\n",
    "boundaries = gpd.read_file(output_gpkg, layer=\"boundaries\")\n",
    "\n",
    "drainage_areas = gpd.read_file(output_gpkg, layer=\"drainage_areas\")\n",
    "foreign_drainage_areas = gpd.read_file(output_gpkg, layer=\"foreign_drainage_areas\")\n",
    "gemaal = gpd.read_file(output_gpkg, layer=\"gemaal\")\n",
    "stuw = gpd.read_file(output_gpkg, layer=\"stuw\")\n",
    "onderdoorlaat = gpd.read_file(output_gpkg, layer=\"onderdoorlaat\")\n",
    "afsluitmiddel = gpd.read_file(output_gpkg, layer=\"afsluitmiddel\")\n",
    "duikersifonhevel = gpd.read_file(output_gpkg, layer=\"duikersifonhevel\")\n",
    "hydroobject = gpd.read_file(output_gpkg, layer=\"hydroobject\")"
   ]
  },
  {
   "cell_type": "code",
   "execution_count": null,
   "metadata": {},
   "outputs": [],
   "source": [
    "# BOUNDARIES: FILL TYPE\n",
    "boundaries[\"Type\"] = (\n",
    "    boundaries[\"Type\"]\n",
    "    .fillna(boundaries[\"quantity\"])\n",
    "    .replace({\"dischargebnd\": \"FlowBoundary\", \"waterlevelbnd\": \"LevelBoundary\"})\n",
    ")\n",
    "# CHECK BOUNDARIES\n",
    "boundaries[[\"Type\", \"quantity\", \"waterschap\"]].fillna(\"\").groupby(\n",
    "    [\"Type\", \"quantity\", \"waterschap\"]\n",
    ").size().reset_index()  # .rename(columns={0:'count'})\n",
    "boundaries.to_file(output_gpkg, layer=\"boundaries\")\n",
    "# SEPARATE FLOW AND LEVEL BOUNDARIES\n",
    "flow_boundaries = boundaries[boundaries[\"Type\"] == \"FlowBoundary\"]\n",
    "level_boundaries = boundaries[boundaries[\"Type\"] == \"LevelBoundary\"]"
   ]
  },
  {
   "cell_type": "code",
   "execution_count": null,
   "metadata": {},
   "outputs": [],
   "source": [
    "# BASIN AREAS\n",
    "basin_areas_waterschap = areas.dissolve(by=[\"waterschap\", \"basin_node_id\"])\n",
    "basin_areas_waterschap.area = basin_areas_waterschap.geometry.area\n",
    "rng = np.random.default_rng()\n",
    "basin_areas_waterschap[\"color_no\"] = rng.choice(np.arange(50), size=len(basin_areas_waterschap))"
   ]
  },
  {
   "cell_type": "code",
   "execution_count": null,
   "metadata": {},
   "outputs": [],
   "source": [
    "basin_areas_waterschap = remove_holes_from_polygons(basin_areas_waterschap.explode(), 100_000)"
   ]
  },
  {
   "cell_type": "code",
   "execution_count": null,
   "metadata": {},
   "outputs": [],
   "source": [
    "basin_areas_waterschap.to_file(output_gpkg, layer=\"basin_areas\")"
   ]
  },
  {
   "cell_type": "code",
   "execution_count": null,
   "metadata": {},
   "outputs": [],
   "source": [
    "basin_areas_waterschap.reset_index().to_file(output_gpkg, layer=\"basin_areas\")"
   ]
  },
  {
   "cell_type": "code",
   "execution_count": null,
   "metadata": {},
   "outputs": [],
   "source": [
    "rng = np.random.default_rng()\n",
    "basin_areas_waterschap[\"color_no\"] = rng.choice(np.arange(50), size=len(basin_areas_waterschap))"
   ]
  },
  {
   "cell_type": "code",
   "execution_count": null,
   "metadata": {},
   "outputs": [],
   "source": [
    "# BASIN AREAS\n",
    "fig, ax = plt.subplots()\n",
    "basin_areas_waterschap.reset_index(drop=True).plot(ax=ax, column=\"color_no\")\n",
    "waterschappen.plot(ax=ax, facecolor=\"None\")"
   ]
  },
  {
   "cell_type": "code",
   "execution_count": null,
   "metadata": {},
   "outputs": [],
   "source": [
    "# CALCULATE SURFACE AREA OF WATER BOARDS\n",
    "areas[\"area\"] = areas.geometry.area / 1_000_000\n",
    "areas[[\"area\", \"waterschap\"]].groupby(\"waterschap\").sum()"
   ]
  },
  {
   "cell_type": "code",
   "execution_count": null,
   "metadata": {},
   "outputs": [],
   "source": [
    "# PLOT FOR SURFACE AREA, BOUNDARIES, SPLIT NODES, BASINS, BASIN AREAS\n",
    "\n",
    "\n",
    "def addlabels(ax, x, y):\n",
    "    for _x, _y in zip(x, y):\n",
    "        ax.text(_x, _y, _y, ha=\"center\", va=\"bottom\", fontsize=7)\n",
    "\n",
    "\n",
    "# make the plots\n",
    "fig, axs = plt.subplots(4, 1, figsize=(5, 7), sharex=True, gridspec_kw={\"hspace\": 0.25, \"wspace\": 0.3})\n",
    "# fig.tight_layout()\n",
    "\n",
    "data_sets = [boundaries, split_nodes, basins, basin_areas]\n",
    "columns = [\"Boundaries\", \"Split nodes\", \"Basins\", \"Basin areas\"]\n",
    "data_labels = [\"Boundaries\", \"Split nodes\", \"Basins\", \"Basin areas\"]\n",
    "\n",
    "for data_set, data_label, ax in zip(data_sets, data_labels, axs.flatten()):\n",
    "    labels, counts = np.unique(data_set.waterschap, return_counts=True)\n",
    "    counts_def = []\n",
    "    for w_lab in waterschappen.keys():\n",
    "        counts_new = 0\n",
    "        for label, count in zip(labels, counts):\n",
    "            if label == w_lab:\n",
    "                counts_new = count\n",
    "        counts_def += [counts_new]\n",
    "    ax.bar(waterschappen.values, counts_def, align=\"center\")\n",
    "    addlabels(ax, waterschappen.values, counts_def)\n",
    "    ax.set_ylim([0, max(counts_def) * 1.2])\n",
    "    ax.set_title(data_label, fontsize=10, ha=\"left\", x=-0.1, fontweight=\"bold\")\n",
    "    ax.tick_params(axis=\"x\", which=\"major\", labelsize=10)\n",
    "    ax.tick_params(axis=\"y\", which=\"major\", labelsize=9)\n",
    "\n",
    "basin_areas.area = basin_areas.geometry.area\n",
    "basin_areas[\"area_km2\"] = basin_areas.geometry.area / 1000000\n",
    "# basin_areas[basin_areas.waterschap==\"Noorderzijlvest\", \"color_no\"] =\n",
    "\n",
    "ax = axs[-1]  # [-1]\n",
    "# basin_areas_km2 = basin_areas[[\"waterschap\", \"area_km2\"]].groupby(\"waterschap\").sum().area_km2\n",
    "# ax.bar(basin_areas_km2.index, basin_areas_km2.values, align='center')\n",
    "# addlabels(ax, basin_areas_km2.index, basin_areas_km2.round(0).values)#((basin_areas_km2/1000).round(0)*1000.0).values)\n",
    "# ax.set_ylim([0, basin_areas_km2.max()*1.2])\n",
    "# ax.set_ylabel(\"area [km2]\")\n",
    "ax.tick_params(axis=\"x\", labelrotation=90)\n",
    "ax.set_xticklabels(waterschappen.values);"
   ]
  },
  {
   "cell_type": "code",
   "execution_count": null,
   "metadata": {},
   "outputs": [],
   "source": [
    "# PLOT FOR PUMPS, WEIRS, CULVERTS, HYDROOBJECTS\n",
    "\n",
    "# make the plots\n",
    "fig, axs = plt.subplots(4, 1, figsize=(5, 7), sharex=True, gridspec_kw={\"hspace\": 0.25, \"wspace\": 0.3})\n",
    "fig.tight_layout()\n",
    "\n",
    "waterschap_areas = areas[[\"area\", \"waterschap\"]].groupby(\"waterschap\").sum()\n",
    "counts_def = []\n",
    "for w_lab in waterschappen.keys():\n",
    "    counts_new = 0\n",
    "    for label, count in zip(waterschap_areas.index, waterschap_areas.area.round(0).values):\n",
    "        if label == w_lab:\n",
    "            counts_new = count\n",
    "    counts_def += [int(counts_new)]\n",
    "axs[0].bar(waterschappen_labels, counts_def, align=\"center\")\n",
    "addlabels(axs[0], waterschappen_labels, counts_def)\n",
    "axs[0].set_ylim([0, max(counts_def) * 1.2])\n",
    "axs[0].set_title(\"Surface area [km2]\", fontsize=10, ha=\"left\", x=-0.1, fontweight=\"bold\")\n",
    "axs[0].tick_params(axis=\"x\", which=\"major\", labelsize=10)\n",
    "axs[0].tick_params(axis=\"y\", which=\"major\", labelsize=9)\n",
    "\n",
    "hydroobject[\"length\"] = hydroobject.geometry.length / 1000\n",
    "hydroobject_length = hydroobject[[\"length\", \"waterschap\"]].groupby(\"waterschap\").sum()\n",
    "counts_def = []\n",
    "for w_lab in waterschappen.keys():\n",
    "    counts_new = 0\n",
    "    for label, count in zip(hydroobject_length.index, hydroobject_length.length.round(0).values):\n",
    "        if label == w_lab:\n",
    "            counts_new = count\n",
    "    counts_def += [int(counts_new)]\n",
    "axs[1].bar(waterschappen_labels, counts_def, align=\"center\")\n",
    "addlabels(axs[1], waterschappen_labels, counts_def)\n",
    "axs[1].set_ylim([0, max(counts_def) * 1.2])\n",
    "axs[1].set_title(\"Hydro-objects [km]\", fontsize=10, ha=\"left\", x=-0.1, fontweight=\"bold\")\n",
    "axs[1].tick_params(axis=\"x\", which=\"major\", labelsize=10)\n",
    "axs[1].tick_params(axis=\"y\", which=\"major\", labelsize=9)\n",
    "\n",
    "afsluitmiddel = pd.concat([afsluitmiddel, onderdoorlaat])\n",
    "\n",
    "data_sets = [gemaal, stuw]\n",
    "columns = [\"Gemaal\", \"Stuw\"]\n",
    "data_labels = [\"Pumping stations\", \"Weirs\"]\n",
    "\n",
    "\n",
    "def addlabels(ax, x, y):\n",
    "    for _x, _y in zip(x, y):\n",
    "        ax.text(_x, _y, _y, ha=\"center\", va=\"bottom\", fontsize=7)\n",
    "\n",
    "\n",
    "for data_set, data_label, ax in zip(data_sets, data_labels, axs.flatten()[2:]):\n",
    "    labels, counts = np.unique(data_set.waterschap, return_counts=True)\n",
    "    counts_def = []\n",
    "    for w_lab in waterschappen.keys():\n",
    "        counts_new = 0\n",
    "        for label, count in zip(labels, counts):\n",
    "            if label == w_lab:\n",
    "                counts_new = count\n",
    "        counts_def += [int(counts_new)]\n",
    "    ax.bar(waterschappen_labels, counts_def, align=\"center\")\n",
    "    addlabels(ax, waterschappen_labels, counts_def)\n",
    "    ax.set_ylim([0, max(counts_def) * 1.2])\n",
    "    ax.set_title(data_label, fontsize=10, ha=\"left\", x=-0.1, fontweight=\"bold\")\n",
    "    ax.tick_params(axis=\"x\", which=\"major\", labelsize=10)\n",
    "    ax.tick_params(axis=\"y\", which=\"major\", labelsize=9)\n",
    "\n",
    "basin_areas.area = basin_areas.geometry.area\n",
    "basin_areas[\"area_km2\"] = basin_areas.geometry.area / 1000000\n",
    "\n",
    "ax = axs[-1]  # [-1]\n",
    "ax.tick_params(axis=\"x\", labelrotation=90)\n",
    "ax.set_xticklabels(waterschappen_labels);"
   ]
  },
  {
   "cell_type": "code",
   "execution_count": null,
   "metadata": {},
   "outputs": [],
   "source": [
    "from shapely.geometry import Polygon\n",
    "\n",
    "\n",
    "def remove_small_holes_from_areas(gdf, min_area):\n",
    "    list_geometry = []\n",
    "    for polygon in gdf.geometry:\n",
    "        list_interiors = []\n",
    "        for interior in polygon.interiors:\n",
    "            p = Polygon(interior)\n",
    "            if p.area > min_area:\n",
    "                list_interiors.append(interior)\n",
    "        temp_pol = Polygon(polygon.exterior.coords, holes=list_interiors)\n",
    "        list_geometry.append(temp_pol)\n",
    "    gdf.geometry = list_geometry\n",
    "    return gdf\n",
    "\n",
    "\n",
    "drainage_areas = remove_small_holes_from_areas(drainage_areas, 1000.0)"
   ]
  },
  {
   "cell_type": "code",
   "execution_count": null,
   "metadata": {},
   "outputs": [],
   "source": [
    "drainage_areas.to_file(Path(base_dir, \"areas.gpkg\"), layer=\"drainage_areas\", driver=\"GPKG\")"
   ]
  }
 ],
 "metadata": {
  "kernelspec": {
   "display_name": "ribasim_lumping_venv",
   "language": "python",
   "name": "python3"
  },
  "language_info": {
   "codemirror_mode": {
    "name": "ipython",
    "version": 3
   },
   "file_extension": ".py",
   "mimetype": "text/x-python",
   "name": "python",
   "nbconvert_exporter": "python",
   "pygments_lexer": "ipython3",
   "version": "3.11.9"
  },
  "vscode": {
   "interpreter": {
    "hash": "5bd738815a0acbb3ad0a69908638385386c988630a46c6a41055953a8964d49b"
   }
  }
 },
 "nbformat": 4,
 "nbformat_minor": 2
}
