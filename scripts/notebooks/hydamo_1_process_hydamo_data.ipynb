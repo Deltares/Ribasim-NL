{
 "cells": [
  {
   "attachments": {},
   "cell_type": "markdown",
   "metadata": {},
   "source": [
    "Verwerk wijzigingen aan HyDAMO geopackages in nieuwe HyDAMO input geopackage\n",
    "\n",
    "Contactpersoon:     Harm Nomden (Sweco)\n",
    "\n",
    "Laatste update:     15-03-2024"
   ]
  },
  {
   "cell_type": "code",
   "execution_count": 1,
   "metadata": {},
   "outputs": [],
   "source": [
    "import pandas as pd\n",
    "import geopandas as gpd\n",
    "import numpy as np\n",
    "from pathlib import Path\n",
    "import fiona\n",
    "import warnings\n",
    "warnings.simplefilter(action='ignore', category=UserWarning)\n",
    "warnings.simplefilter(action='ignore', category=FutureWarning)\n",
    "\n",
    "from hydamo_preprocessing.preprocessing import preprocess_hydamo_hydroobjects"
   ]
  },
  {
   "cell_type": "code",
   "execution_count": 2,
   "metadata": {},
   "outputs": [],
   "source": [
    "def process_hydamo_changes(dir_waterschap, dir_hydamo_preprocess, \n",
    "                           dir_hydamo_changes, dir_hydamo_processed, sel_layers=None):\n",
    "    # process hydamo changes (toevoegen en verwijderen) to new hydamo geopackage\n",
    "    path_hydamo_gpkg_preprocess = Path(dir_hydamo_preprocess, f'hydamo.gpkg')\n",
    "    path_hydamo_gpkg_processed = Path(dir_hydamo_processed, f'hydamo.gpkg')\n",
    "    path_hydamo_gpkg_remove = Path(dir_hydamo_changes, 'hydamo_verwijderen.gpkg')\n",
    "    path_hydamo_gpkg_add = Path(dir_hydamo_changes, 'hydamo_toevoegen.gpkg')\n",
    "    \n",
    "    if sel_layers is None or sel_layers==[]:\n",
    "        sel_layers = fiona.listlayers(path_hydamo_gpkg_preprocess)\n",
    "    print(sel_layers)\n",
    "    for layer in sel_layers:\n",
    "        if layer == 'layer_styles':\n",
    "            continue\n",
    "        print(f\" - {layer}\")\n",
    "        # read original hydamo gpkg (from specified region)\n",
    "        gdf = gpd.read_file(str(path_hydamo_gpkg_preprocess), layer=layer, crs=28992)\n",
    "\n",
    "        # remove objects\n",
    "        if layer in fiona.listlayers(path_hydamo_gpkg_remove):\n",
    "            gdf_remove = gpd.read_file(path_hydamo_gpkg_remove, layer=layer, crs=28992)\n",
    "            try:\n",
    "                gdf = gdf.loc[~np.isin(gdf['code'], gdf_remove['code'])]\n",
    "            except KeyError:\n",
    "                gdf = gdf.loc[~np.isin(gdf['globalid'], gdf_remove['globalid'])]\n",
    "        # add new objects\n",
    "        if layer in fiona.listlayers(path_hydamo_gpkg_add):\n",
    "            gdf_add = gpd.read_file(path_hydamo_gpkg_add, layer=layer, crs=28992)\n",
    "            gdf_add = gdf_add.to_crs(28992)\n",
    "            gdf = gdf.to_crs(28992)\n",
    "            gdf = gpd.GeoDataFrame(pd.concat([gdf, gdf_add])).reset_index()\n",
    "        \n",
    "        # save to new hydamo gpkg\n",
    "        layer_options = \"ASPATIAL_VARIANT=GPKG_ATTRIBUTES\"\n",
    "        if gdf.geometry.isnull().all():\n",
    "            gdf.to_file(str(path_hydamo_gpkg_processed), layer=layer, driver=\"GPKG\", layer_options=layer_options)\n",
    "        else:\n",
    "            gdf.to_file(str(path_hydamo_gpkg_processed), layer=layer, driver=\"GPKG\")"
   ]
  },
  {
   "cell_type": "code",
   "execution_count": 3,
   "metadata": {},
   "outputs": [],
   "source": [
    "main_dir = \"..\\\\Ribasim modeldata\""
   ]
  },
  {
   "cell_type": "code",
   "execution_count": 4,
   "metadata": {},
   "outputs": [],
   "source": [
    "waterschappen = [\n",
    "    # \"AaenMaas\",\n",
    "    # \"BrabantseDelta\",\n",
    "    \"DeDommel\",\n",
    "    # \"DrentsOverijsselseDelta\",\n",
    "    # \"HunzeenAas\",\n",
    "    # \"Limburg\",\n",
    "    # \"RijnenIJssel\",\n",
    "    # \"StichtseRijnlanden\",\n",
    "    # \"ValleienVeluwe\",\n",
    "    # \"Vechtstromen\"\n",
    "]"
   ]
  },
  {
   "cell_type": "markdown",
   "metadata": {},
   "source": [
    "optional: preprocess the hydro-objects (check and adapt endpoints)"
   ]
  },
  {
   "cell_type": "code",
   "execution_count": 5,
   "metadata": {},
   "outputs": [],
   "source": [
    "preprocess_hydroobjects = False"
   ]
  },
  {
   "cell_type": "code",
   "execution_count": 6,
   "metadata": {},
   "outputs": [],
   "source": [
    "if preprocess_hydroobjects:\n",
    "    for waterschap in waterschappen:\n",
    "        dir_waterschap = main_dir / waterschap / \"verwerkt\"\n",
    "        dir_hydamo_preprocess = dir_waterschap / \"2_voorbewerking\"\n",
    "        dir_hydamo_processed = dir_waterschap / '4_ribasim'\n",
    "\n",
    "        hydroobjects = gpd.read_file(Path(dir_hydamo_preprocess, \"hydamo.gpkg\"), layer='hydroobject')\n",
    "        wfd_lines = gpd.read_file(Path(dir_hydamo_processed, \"krw.gpkg\"), layer=\"krw_line\")\n",
    "        wfd_polygons = gpd.read_file(Path(dir_hydamo_processed, \"krw.gpkg\"), layer=\"krw_polygon\")\n",
    "        \n",
    "        hydroobject_new = preprocess_hydamo_hydroobjects(\n",
    "            hydroobjects,\n",
    "            wfd_lines=wfd_lines,\n",
    "            wfd_polygons=wfd_polygons,\n",
    "            buffer_distance_endpoints=0.5,\n",
    "            wfd_id_column='owmident',\n",
    "            buffer_distance_wfd=10,\n",
    "            overlap_ratio_wfd=0.9\n",
    "        )\n",
    "\n",
    "        hydroobject_new.to_file(Path(dir_hydamo_preprocess, \"hydamo.gpkg\"), layer=\"hydroobject\", driver=\"GPKG\")"
   ]
  },
  {
   "cell_type": "code",
   "execution_count": 7,
   "metadata": {},
   "outputs": [],
   "source": [
    "sel_layers = [\n",
    "    'hydroobject', \n",
    "    # 'stuw', \n",
    "    # 'gemaal',\n",
    "    # 'afvoergebiedaanvoergebied', \n",
    "    # 'pomp',\n",
    "    # 'peilgebiedvigerend', \n",
    "    # 'peilgebiedpraktijk',\n",
    "    # 'streefpeil',\n",
    "    # 'duikersifonhevel',\n",
    "    # 'afsluiter',\n",
    "    # 'sluis',\n",
    "]"
   ]
  },
  {
   "cell_type": "code",
   "execution_count": 8,
   "metadata": {},
   "outputs": [
    {
     "name": "stdout",
     "output_type": "stream",
     "text": [
      "Waterschap DeDommel\n",
      "['hydroobject']\n",
      " - hydroobject\n"
     ]
    }
   ],
   "source": [
    "for waterschap in waterschappen:\n",
    "    print(f\"Waterschap {waterschap}\")\n",
    "    dir_waterschap = Path(main_dir, waterschap, \"verwerkt\")\n",
    "    dir_hydamo_preprocess = Path(dir_waterschap, \"2_voorbewerking\")\n",
    "    dir_hydamo_changes = Path(dir_waterschap, '3_input')\n",
    "    dir_hydamo_processed = Path(dir_waterschap, '4_ribasim')\n",
    "\n",
    "    process_hydamo_changes(\n",
    "        dir_waterschap=dir_waterschap,\n",
    "        dir_hydamo_preprocess=dir_hydamo_preprocess,\n",
    "        dir_hydamo_changes=dir_hydamo_changes,\n",
    "        dir_hydamo_processed=dir_hydamo_processed,\n",
    "        sel_layers=sel_layers\n",
    "    )"
   ]
  },
  {
   "cell_type": "code",
   "execution_count": null,
   "metadata": {},
   "outputs": [],
   "source": []
  },
  {
   "cell_type": "code",
   "execution_count": null,
   "metadata": {},
   "outputs": [],
   "source": []
  },
  {
   "cell_type": "code",
   "execution_count": null,
   "metadata": {},
   "outputs": [],
   "source": []
  }
 ],
 "metadata": {
  "kernelspec": {
   "display_name": "ribasim_lumping",
   "language": "python",
   "name": "python3"
  },
  "language_info": {
   "codemirror_mode": {
    "name": "ipython",
    "version": 3
   },
   "file_extension": ".py",
   "mimetype": "text/x-python",
   "name": "python",
   "nbconvert_exporter": "python",
   "pygments_lexer": "ipython3",
   "version": "3.11.9"
  },
  "orig_nbformat": 4,
  "vscode": {
   "interpreter": {
    "hash": "a036bb1803af6fe22f064fcf42d66cd9fc5247b5d3b121167c30abfc8c1c6b18"
   }
  }
 },
 "nbformat": 4,
 "nbformat_minor": 2
}
