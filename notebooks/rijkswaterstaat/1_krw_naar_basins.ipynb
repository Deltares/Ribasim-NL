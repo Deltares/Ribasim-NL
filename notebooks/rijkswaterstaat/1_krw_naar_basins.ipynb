{
 "cells": [
  {
   "cell_type": "code",
   "execution_count": null,
   "metadata": {},
   "outputs": [],
   "source": [
    "import geopandas as gpd\n",
    "from ribasim_nl import CloudStorage\n",
    "from ribasim_nl.geodataframe import join_by_poly_overlay, split_basins\n",
    "\n",
    "cloud = CloudStorage()"
   ]
  },
  {
   "cell_type": "markdown",
   "metadata": {},
   "source": [
    "# Opknippen KRW polygonen met lijnen\n",
    "- Opsplitsen van `krw_oppervlaktewaterlichamen_nederland_vlakken.gpkg` met `krw_split_lijnen.gpkg`\n",
    "- Toevoegen van `waterlichaam` namen uit `oppervlaktewaterlichamen_rijk.gpkg`"
   ]
  },
  {
   "cell_type": "code",
   "execution_count": null,
   "metadata": {},
   "outputs": [],
   "source": [
    "exclude_owmident = [\n",
    "    \"NL95_1A\",\n",
    "    \"NL95_2A\",\n",
    "    \"NL95_3A\",\n",
    "    \"NL95_4A\",\n",
    "    \"NL81_1\",\n",
    "    \"NL81_10\",\n",
    "    \"NL81_3\",\n",
    "    \"NL81_2\",\n",
    "    \"NL89_zwin\",\n",
    "]\n",
    "krw_poly_gdf = gpd.read_file(\n",
    "    cloud.joinpath(\n",
    "        \"Basisgegevens\", \"KRW\", \"krw_oppervlaktewaterlichamen_nederland_vlakken.gpkg\"\n",
    "    )\n",
    ")\n",
    "\n",
    "krw_poly_gdf = krw_poly_gdf.loc[~krw_poly_gdf.owmident.isin(exclude_owmident)]\n",
    "krw_poly_gdf = krw_poly_gdf.explode(index_parts=False)\n",
    "krw_poly_gdf[\"shapeArea\"] = krw_poly_gdf.area\n",
    "krw_poly_gdf.sort_values(\"shapeArea\", ascending=False)\n",
    "krw_poly_gdf.drop_duplicates(\"owmident\", keep=\"first\", inplace=True)\n",
    "\n",
    "\n",
    "krw_split_lines_gdf = gpd.read_file(\n",
    "    cloud.joinpath(\"Rijkswaterstaat\", \"verwerkt\", \"model_user_data.gpkg\"),\n",
    "    layer=\"krw_split_lijnen\",\n",
    ")\n",
    "\n",
    "\n",
    "rws_opp_poly_gdf = gpd.read_file(\n",
    "    cloud.joinpath(\n",
    "        \"Rijkswaterstaat\", \"aangeleverd\", \"oppervlaktewaterlichamen_rijk.gpkg\"\n",
    "    )\n",
    ")\n",
    "\n",
    "\n",
    "rws_krw_poly_gdf = split_basins(krw_poly_gdf, krw_split_lines_gdf)\n",
    "\n",
    "\n",
    "rws_krw_poly_gdf = join_by_poly_overlay(\n",
    "    rws_krw_poly_gdf,\n",
    "    rws_opp_poly_gdf[[\"waterlichaam\", \"geometry\"]],\n",
    "    select_by=\"poly_area\",\n",
    ")\n",
    "\n",
    "\n",
    "rws_krw_poly = cloud.joinpath(\"Rijkswaterstaat\", \"verwerkt\", \"krw_basins_vlakken.gpkg\")\n",
    "\n",
    "\n",
    "rws_krw_poly_gdf.to_file(rws_krw_poly)"
   ]
  }
 ],
 "metadata": {
  "kernelspec": {
   "display_name": "Python 3",
   "language": "python",
   "name": "python3"
  },
  "language_info": {
   "codemirror_mode": {
    "name": "ipython",
    "version": 3
   },
   "file_extension": ".py",
   "mimetype": "text/x-python",
   "name": "python",
   "nbconvert_exporter": "python",
   "pygments_lexer": "ipython3",
   "version": "3.11.6"
  }
 },
 "nbformat": 4,
 "nbformat_minor": 2
}
