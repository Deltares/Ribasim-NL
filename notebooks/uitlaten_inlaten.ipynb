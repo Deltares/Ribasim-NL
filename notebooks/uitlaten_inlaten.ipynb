{
 "cells": [
  {
   "cell_type": "code",
   "execution_count": null,
   "metadata": {},
   "outputs": [],
   "source": [
    "import os\n",
    "import warnings\n",
    "from pathlib import Path\n",
    "\n",
    "import fiona\n",
    "import geopandas as gpd\n",
    "import pandas as pd\n",
    "import requests\n",
    "from hydamo import HyDAMO, code_utils\n",
    "from shapely.geometry import Point\n",
    "\n",
    "warnings.simplefilter(\"ignore\", UserWarning)"
   ]
  },
  {
   "cell_type": "markdown",
   "metadata": {},
   "source": [
    "# Voorbereiding\n",
    "\n",
    "Globale variabelen\n",
    "- `DATA_DIR`: De locale directory waar project-data staat opgeslagen\n",
    "- `EXCEL_FILE`: Het Excel-bestand dat moet worden ingelezen\n",
    "- `CRS`: De projectile waarin de ruimtelijke data moet worden opgeslagen (28992 = Rijksdriehoekstelsel) "
   ]
  },
  {
   "cell_type": "code",
   "execution_count": null,
   "metadata": {},
   "outputs": [],
   "source": [
    "# environmnt variables\n",
    "DATA_DIR = os.getenv(\"RIBASIM_NL_DATA_DIR\")\n",
    "RIBASIM_NL_CLOUD_PASS = os.getenv(\"RIBASIM_NL_CLOUD_PASS\")\n",
    "assert DATA_DIR is not None\n",
    "assert RIBASIM_NL_CLOUD_PASS is not None\n",
    "\n",
    "DATA_DIR = Path(DATA_DIR)\n",
    "EXCEL_FILE = r\"uitlaten_inlaten.xlsx\"\n",
    "CRS = 28992\n",
    "RIBASIM_NL_CLOUD_USER = \"nhi_api\"\n",
    "WEBDAV_URL = \"https://deltares.thegood.cloud/remote.php/dav\"\n",
    "BASE_URL = f\"{WEBDAV_URL}/files/{RIBASIM_NL_CLOUD_USER}/D-HYDRO modeldata\"\n",
    "\n",
    "# file-paths\n",
    "kunstwerken_xlsx = Path(DATA_DIR) / EXCEL_FILE\n",
    "kunstwerken_gpkg = kunstwerken_xlsx.parent / f\"{kunstwerken_xlsx.stem}.gpkg\"\n",
    "\n",
    "\n",
    "def upload_file(url, path):\n",
    "    with open(path, \"rb\") as f:\n",
    "        r = requests.put(url, data=f, auth=(RIBASIM_NL_CLOUD_USER, RIBASIM_NL_CLOUD_PASS))\n",
    "    r.raise_for_status()"
   ]
  },
  {
   "cell_type": "markdown",
   "metadata": {},
   "source": [
    "## Inlezen NL kunstwerken vanuit data dir\n",
    "- Inlezen Excel\n",
    "- Nu masken we (nog) op kunstwerken die we uit files kunnen trekken"
   ]
  },
  {
   "cell_type": "code",
   "execution_count": null,
   "metadata": {},
   "outputs": [],
   "source": [
    "kunstwerken_df = pd.read_excel(kunstwerken_xlsx)\n",
    "kunstwerken_df[\"user_id\"] = None\n",
    "files_mask = ~kunstwerken_df[\"damo_bestand\"].isna()\n",
    "data = {}"
   ]
  },
  {
   "cell_type": "markdown",
   "metadata": {},
   "source": [
    "## Toevoegen kunstwerken op XY-locatie"
   ]
  },
  {
   "cell_type": "code",
   "execution_count": null,
   "metadata": {},
   "outputs": [],
   "source": [
    "for kwk_row in kunstwerken_df[~files_mask].itertuples():\n",
    "    layer = kwk_row.hydamo_object\n",
    "    if layer not in data.keys():\n",
    "        data[layer] = []\n",
    "    name = kwk_row.dm_naam\n",
    "    geometry = Point(kwk_row.x, kwk_row.y)\n",
    "    code = code_utils.code_from_geometry(geometry)\n",
    "    result = {\"code\": code, \"naam\": name, \"geometry\": geometry}\n",
    "\n",
    "    kunstwerken_df.loc[kwk_row.Index, [\"user_id\"]] = code_utils.generate_model_id(\n",
    "        result[\"code\"], layer, bgt_code=kwk_row.bgt_code\n",
    "    )\n",
    "\n",
    "    data[layer] += [result]"
   ]
  },
  {
   "cell_type": "markdown",
   "metadata": {},
   "source": [
    "## Ophalen kunstwerken\n",
    "- Aanmaken lege data-dict\n",
    "- loopen over kunstwerken/lagen en daar de relevante kunstwerken uit halen"
   ]
  },
  {
   "cell_type": "code",
   "execution_count": null,
   "metadata": {},
   "outputs": [],
   "source": [
    "# create data-dict for every layer\n",
    "for layer in kunstwerken_df[\"hydamo_object\"].unique():\n",
    "    if layer not in data.keys():\n",
    "        data[layer] = []\n",
    "\n",
    "# group by file and check if exists\n",
    "for file, file_df in kunstwerken_df[files_mask].groupby(\"damo_bestand\"):\n",
    "    file = DATA_DIR.joinpath(file)\n",
    "    assert file.exists()\n",
    "\n",
    "    # open per layer, and check if specified layer xists\n",
    "    for layer, layer_df in file_df.groupby(\"damo_laag\"):\n",
    "        file_layers = fiona.listlayers(file)\n",
    "        if (\n",
    "            len(file_layers) == 1\n",
    "        ):  # in case single-layer files, users don't understand a `layer-property` and make mistakes\n",
    "            layer = file_layers[0]\n",
    "        if layer not in fiona.listlayers(file):\n",
    "            raise ValueError(f\"layer '{layer}' not a layer in '{file}'. Specify one of {fiona.listlayers(file)}\")\n",
    "        print(f\"reading {file.name}, layer {layer}\")\n",
    "        gdf = gpd.read_file(file, layer=layer)\n",
    "        gdf.columns = [i.lower() for i in gdf.columns]\n",
    "        gdf.to_crs(CRS, inplace=True)\n",
    "\n",
    "        # read every row this file-layer group and get the source-info\n",
    "        for kwk_row in layer_df.itertuples():\n",
    "            # get the index from the used code or name column\n",
    "            damo_index = kwk_row.damo_ident_kolom\n",
    "            src_index = getattr(kwk_row, f\"damo_{damo_index}_kolom\").strip().lower()\n",
    "            index_value = str(kwk_row.damo_waarde)\n",
    "\n",
    "            # read the source\n",
    "            if src_index in gdf.columns:\n",
    "                if index_value in gdf[src_index].to_numpy():\n",
    "                    src_row = gdf.set_index(src_index).loc[index_value]\n",
    "                else:\n",
    "                    raise KeyError(f\"'{index_value}' not a value in '{file}', layer '{layer}', column '{src_index}'\")\n",
    "            else:\n",
    "                raise KeyError(\n",
    "                    f\"'{src_index}' not a column in '{file}', layer '{layer}' (searching value '{index_value}')\"\n",
    "                )\n",
    "\n",
    "            # populate the result\n",
    "            result = {}\n",
    "\n",
    "            # populate code and naam fields\n",
    "            for damo_att in [\"code\", \"naam\"]:\n",
    "                if damo_att == damo_index:\n",
    "                    result[damo_att] = index_value\n",
    "                else:\n",
    "                    column = getattr(kwk_row, f\"damo_{damo_att}_kolom\")\n",
    "                    if pd.isna(column) and (damo_att == \"code\"):\n",
    "                        result[damo_att] = code_utils.code_from_geometry(src_row.geometry)\n",
    "                    else:\n",
    "                        column = getattr(kwk_row, f\"damo_{damo_att}_kolom\").strip().lower()\n",
    "                        result[damo_att] = str(getattr(src_row, column))\n",
    "\n",
    "            # get the geometry. We get the centroid to avoid flatten all kinds of mult-features\n",
    "            result[\"geometry\"] = src_row.geometry.centroid\n",
    "\n",
    "            # add it to our data dictionary\n",
    "            data[kwk_row.hydamo_object] += [result]\n",
    "\n",
    "            # update Escel with user-id\n",
    "            kunstwerken_df.loc[kwk_row.Index, [\"user_id\"]] = code_utils.generate_model_id(\n",
    "                result[\"code\"], kwk_row.hydamo_object, bgt_code=kwk_row.bgt_code\n",
    "            )\n",
    "            kunstwerken_df.loc[kwk_row.Index, [\"x\"]] = result[\"geometry\"].x\n",
    "            kunstwerken_df.loc[kwk_row.Index, [\"y\"]] = result[\"geometry\"].y"
   ]
  },
  {
   "cell_type": "markdown",
   "metadata": {},
   "source": [
    "## Wegschrijven HyDAMO\n",
    "- lokaal\n",
    "- op TheGoodCloud"
   ]
  },
  {
   "cell_type": "code",
   "execution_count": null,
   "metadata": {},
   "outputs": [],
   "source": [
    "hydamo = HyDAMO(\"2.2.1\")\n",
    "for layer in data.keys():\n",
    "    if layer != \"duikersifonhevel\":\n",
    "        gdf = gpd.GeoDataFrame(data[layer], crs=CRS)\n",
    "        getattr(hydamo, layer).set_data(gdf, check_columns=False)\n",
    "\n",
    "hydamo.to_geopackage(kunstwerken_gpkg)\n",
    "\n",
    "kunstwerken_df.to_excel(kunstwerken_xlsx, index=False, sheet_name=\"kunstwerken\")\n",
    "\n",
    "for file in [kunstwerken_xlsx, kunstwerken_gpkg]:\n",
    "    to_url = f\"{BASE_URL}/HyDAMO_geconstrueerd/{file.name}\"\n",
    "    upload_file(to_url, file)"
   ]
  }
 ],
 "metadata": {
  "kernelspec": {
   "display_name": "Python 3",
   "language": "python",
   "name": "python3"
  },
  "language_info": {
   "codemirror_mode": {
    "name": "ipython",
    "version": 3
   },
   "file_extension": ".py",
   "mimetype": "text/x-python",
   "name": "python",
   "nbconvert_exporter": "python",
   "pygments_lexer": "ipython3",
   "version": "3.11.6"
  }
 },
 "nbformat": 4,
 "nbformat_minor": 2
}
