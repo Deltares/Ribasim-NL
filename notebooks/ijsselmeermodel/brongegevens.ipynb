{
 "cells": [
  {
   "cell_type": "code",
   "execution_count": null,
   "metadata": {},
   "outputs": [],
   "source": [
    "import os\n",
    "from pathlib import Path\n",
    "\n",
    "import geopandas as gpd"
   ]
  },
  {
   "cell_type": "code",
   "execution_count": null,
   "metadata": {},
   "outputs": [],
   "source": [
    "DATA_DIR = os.getenv(\"RIBASIM_NL_DATA_DIR\")\n",
    "\n",
    "# file-paths\n",
    "kunstwerken_gpkg = Path(DATA_DIR) / \"nl_kunstwerken.gpkg\""
   ]
  },
  {
   "cell_type": "code",
   "execution_count": null,
   "metadata": {},
   "outputs": [],
   "source": [
    "kunstwerken_gdf = gpd.read_file(kunstwerken_gpkg)"
   ]
  }
 ],
 "metadata": {
  "language_info": {
   "name": "python"
  }
 },
 "nbformat": 4,
 "nbformat_minor": 2
}
