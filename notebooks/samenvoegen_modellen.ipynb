{
 "cells": [
  {
   "cell_type": "code",
   "execution_count": null,
   "metadata": {},
   "outputs": [],
   "source": [
    "from ribasim_nl import CloudStorage, concat"
   ]
  },
  {
   "cell_type": "markdown",
   "metadata": {},
   "source": [
    "# Voorbereiding\n",
    "- initialiseren van cloud-storage\n",
    "- specificeren van paden naar toml-files\n",
    "- specificeren van constante attributen meegegeven aan elk model"
   ]
  },
  {
   "cell_type": "code",
   "execution_count": null,
   "metadata": {},
   "outputs": [],
   "source": [
    "cloud = CloudStorage()  # init cloud\n",
    "\n",
    "filepaths = [\n",
    "    cloud.joinpath(\"Rijkswaterstaat\", \"modellen\", \"rijkswateren\", \"ribasim.toml\"),\n",
    "    cloud.joinpath(\"HollandsNoorderkwartier\", \"modellen\", \"HHNK_Ribasim\", \"HHNK.toml\"),\n",
    "    cloud.joinpath(\"Rijnland\", \"modellen\", \"Rijnland_Ribasim\", \"Rijnland.toml\"),\n",
    "]  # paths to models\n",
    "\n",
    "attributes = {\n",
    "    \"zoom_level\": [0, 3, 3],\n",
    "    \"waterbeheerder\": [\"Rijkswaterstaat\", \"Hollands Noorderkwartier\", \"Rijnland\"],\n",
    "}  # attributes to add"
   ]
  },
  {
   "cell_type": "markdown",
   "metadata": {},
   "source": [
    "# Samenvoegen van modellen"
   ]
  },
  {
   "cell_type": "code",
   "execution_count": null,
   "metadata": {},
   "outputs": [],
   "source": [
    "model = concat(filepaths, attributes=attributes)"
   ]
  },
  {
   "cell_type": "markdown",
   "metadata": {},
   "source": [
    "# Opslaan en uploaden van model"
   ]
  },
  {
   "cell_type": "code",
   "execution_count": null,
   "metadata": {},
   "outputs": [],
   "source": [
    "model.write(cloud.joinpath(\"Rijkswaterstaat\", \"modellen\", \"lhm\", \"lhm.toml\"))\n",
    "cloud.upload_model(authority=\"Rijkswaterstaat\", model=\"lhm\")"
   ]
  }
 ],
 "metadata": {
  "language_info": {
   "name": "python"
  }
 },
 "nbformat": 4,
 "nbformat_minor": 2
}
