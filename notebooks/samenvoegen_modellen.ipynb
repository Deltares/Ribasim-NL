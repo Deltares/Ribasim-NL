{
 "cells": [
  {
   "cell_type": "code",
   "execution_count": null,
   "metadata": {},
   "outputs": [],
   "source": [
    "from ribasim_nl import CloudStorage, concat"
   ]
  },
  {
   "cell_type": "markdown",
   "metadata": {},
   "source": [
    "# Voorbereiding\n",
    "- initialiseren van cloud-storage\n",
    "- specificeren van paden naar toml-files\n",
    "- specificeren van constante attributen meegegeven aan elk model"
   ]
  },
  {
   "cell_type": "code",
   "execution_count": null,
   "metadata": {},
   "outputs": [],
   "source": [
    "cloud = CloudStorage()  # init cloud\n",
    "\n",
    "filepaths = [\n",
    "    cloud.joinpath(\"Rijkswaterstaat\", \"modellen\", \"rijkswateren\", \"ribasim.toml\"),\n",
    "    cloud.joinpath(\"HollandsNoorderkwartier\", \"modellen\", \"HHNK_Ribasim\", \"HHNK.toml\"),\n",
    "    cloud.joinpath(\"Rijnland\", \"modellen\", \"Rijnland_Ribasim\", \"Rijnland.toml\"),\n",
    "    cloud.joinpath(\n",
    "        \"AmstelGooienVecht\",\n",
    "        \"modellen\",\n",
    "        \"AmstelGooienVecht_Ribasim\",\n",
    "        \"AmstelGooienVecht.toml\",\n",
    "    ),\n",
    "    cloud.joinpath(\n",
    "        \"HollandseDelta\", \"modellen\", \"Hollandse_Delta_Ribasim\", \"Hollandse_Delta.toml\"\n",
    "    ),\n",
    "    cloud.joinpath(\"Delfland\", \"modellen\", \"Delfland_Ribasim\", \"Delfland.toml\"),\n",
    "    cloud.joinpath(\n",
    "        \"SchielandendeKrimpenerwaard\", \"modellen\", \"HHSK_Ribasim\", \"HHSK.toml\"\n",
    "    ),\n",
    "    cloud.joinpath(\n",
    "        \"WetterskipFryslan\", \"modellen\", \"Wetterskip_Ribasim\", \"Wetterskip.toml\"\n",
    "    ),\n",
    "    cloud.joinpath(\n",
    "        \"Zuiderzeeland\", \"modellen\", \"Zuiderzeeland_Ribasim\", \"Zuiderzeeland.toml\"\n",
    "    ),\n",
    "    cloud.joinpath(\n",
    "        \"Scheldestromen\", \"modellen\", \"Scheldestromen_Ribasim\", \"Scheldestromen.toml\"\n",
    "    ),\n",
    "    cloud.joinpath(\n",
    "        \"Rivierenland\",\n",
    "        \"modellen\",\n",
    "        \"WSRL_old_schematisation_Ribasim\",\n",
    "        \"WSRL_old_schematisation.toml\",\n",
    "    ),\n",
    "]  # paths to models\n",
    "\n",
    "attributes = {\n",
    "    \"zoom_level\": [0, 3, 3, 3, 3, 3, 3, 3, 3, 3, 3],\n",
    "    \"waterbeheerder\": [\n",
    "        \"Rijkswaterstaat\",\n",
    "        \"Hollands Noorderkwartier\",\n",
    "        \"Rijnland\",\n",
    "        \"Amstel Gooi en Vecht\",\n",
    "        \"Hollandse Delta\",\n",
    "        \"Delfland\",\n",
    "        \"Schieland en de Krimpenerwaard\",\n",
    "        \"Frylân\",\n",
    "        \"Zuiderzeeland\",\n",
    "        \"Scheldestromen\",\n",
    "        \"Rivierenland\",\n",
    "    ],\n",
    "}  # attributes to add"
   ]
  },
  {
   "cell_type": "markdown",
   "metadata": {},
   "source": [
    "# Samenvoegen van modellen"
   ]
  },
  {
   "cell_type": "code",
   "execution_count": null,
   "metadata": {},
   "outputs": [],
   "source": [
    "model = concat(filepaths, attributes=attributes)"
   ]
  },
  {
   "cell_type": "markdown",
   "metadata": {},
   "source": [
    "# Opslaan en uploaden van model"
   ]
  },
  {
   "cell_type": "code",
   "execution_count": null,
   "metadata": {},
   "outputs": [],
   "source": [
    "model.write(cloud.joinpath(\"Rijkswaterstaat\", \"modellen\", \"lhm\", \"lhm.toml\"))\n",
    "cloud.upload_model(authority=\"Rijkswaterstaat\", model=\"lhm\")"
   ]
  }
 ],
 "metadata": {
  "language_info": {
   "name": "python"
  }
 },
 "nbformat": 4,
 "nbformat_minor": 2
}
